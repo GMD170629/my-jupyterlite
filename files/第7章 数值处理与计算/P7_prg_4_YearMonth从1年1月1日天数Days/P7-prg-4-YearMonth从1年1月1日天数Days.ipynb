{
 "cells": [
  {
   "cell_type": "code",
   "execution_count": 1,
   "id": "a4a662bf-d621-4464-a324-6a8c9bfad08a",
   "metadata": {},
   "outputs": [
    {
     "name": "stdin",
     "output_type": "stream",
     "text": [
      "请输入年份（>=1），否则为1： 2004\n",
      "请输入月份（1~12），否则<1为1、>12为12： 2\n",
      "请输入日期（1~31），否则<1为1、>ndays(y,m)为ndays(y,m)： 23\n"
     ]
    },
    {
     "name": "stdout",
     "output_type": "stream",
     "text": [
      "从1年1月1日到 2004 年 2 月 23 日共 731634 天\n"
     ]
    }
   ],
   "source": [
    "from calendar import *\n",
    "def ndays(y,m):\n",
    "    #每个月的正常天数\n",
    "    monthDay=[31,28,31,30,31,30,31,31,30,31,30,31]\n",
    "    days = monthDay[ m-1]\n",
    "    if (m==2 and isleap(y)):\n",
    "        days+=1\n",
    "    return(days)\n",
    "def fromdays(y,m,d):\n",
    "    days = 0\n",
    "    for i in range(1,y):\n",
    "        days += 365\n",
    "        if(isleap(i)): days+=1\n",
    "    for i in range(1,m):\n",
    "        days += ndays(y,i)\n",
    "    days+=d\n",
    "    return(days)\n",
    "#测试代码\n",
    "y=int(input(\"请输入年份（>=1），否则为1：\"))\n",
    "m=int(input(\"请输入月份（1~12），否则<1为1、>12为12：\"))\n",
    "d=int(input(\"请输入日期（1~31），否则<1为1、>ndays(y,m)为ndays(y,m)：\"))\n",
    "if y<1: y=1\n",
    "if m<1: m=1\n",
    "if m>12: m=12\n",
    "if d<1: d=1\n",
    "if d>ndays(y,m): d=ndays(y,m)\n",
    "print(\"从1年1月1日到\",y,\"年\",m,\"月\",d,\"日共\",fromdays(y,m,d),\"天\")\n",
    "\n",
    "\n",
    "\n",
    "\n"
   ]
  },
  {
   "cell_type": "code",
   "execution_count": null,
   "id": "d43ae21c-3ad8-4270-a438-0af0d1dead39",
   "metadata": {},
   "outputs": [],
   "source": []
  }
 ],
 "metadata": {
  "kernelspec": {
   "display_name": "Python 3 (ipykernel)",
   "language": "python",
   "name": "python3"
  },
  "language_info": {
   "codemirror_mode": {
    "name": "ipython",
    "version": 3
   },
   "file_extension": ".py",
   "mimetype": "text/x-python",
   "name": "python",
   "nbconvert_exporter": "python",
   "pygments_lexer": "ipython3",
   "version": "3.11.9"
  }
 },
 "nbformat": 4,
 "nbformat_minor": 5
}
