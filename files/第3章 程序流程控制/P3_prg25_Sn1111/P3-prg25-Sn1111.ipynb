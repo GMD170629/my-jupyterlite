{
 "cells": [
  {
   "cell_type": "code",
   "execution_count": 1,
   "id": "eb7ee343-7f78-4635-a571-5b66e3553ae3",
   "metadata": {},
   "outputs": [
    {
     "name": "stdout",
     "output_type": "stream",
     "text": [
      "n= 7 sn= 1234567\n"
     ]
    }
   ],
   "source": [
    "import random\n",
    "n = random.randint(1,10)    #随机产生一个1~10以内的整数\n",
    "t=0;s=0\n",
    "for i in range(1,n+1):\n",
    "    t=t*10+1\n",
    "    s+=t\n",
    "print(\"n=\",n,\"sn=\",s)\n",
    "\n"
   ]
  },
  {
   "cell_type": "code",
   "execution_count": null,
   "id": "f9959951-cee6-4ba3-a996-be6f7e8728f0",
   "metadata": {},
   "outputs": [],
   "source": []
  }
 ],
 "metadata": {
  "kernelspec": {
   "display_name": "Python 3 (ipykernel)",
   "language": "python",
   "name": "python3"
  },
  "language_info": {
   "codemirror_mode": {
    "name": "ipython",
    "version": 3
   },
   "file_extension": ".py",
   "mimetype": "text/x-python",
   "name": "python",
   "nbconvert_exporter": "python",
   "pygments_lexer": "ipython3",
   "version": "3.11.9"
  }
 },
 "nbformat": 4,
 "nbformat_minor": 5
}
