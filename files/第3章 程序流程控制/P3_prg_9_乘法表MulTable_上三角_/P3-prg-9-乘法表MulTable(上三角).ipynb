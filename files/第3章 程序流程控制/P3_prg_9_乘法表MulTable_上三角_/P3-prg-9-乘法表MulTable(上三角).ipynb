{
 "cells": [
  {
   "cell_type": "code",
   "execution_count": null,
   "id": "761d6273-de86-4fde-982e-df6457e8b745",
   "metadata": {},
   "outputs": [
    {
     "name": "stdout",
     "output_type": "stream",
     "text": [
      "1*1=1  1*2=2  1*3=3  1*4=4  1*5=5  1*6=6  1*7=7  1*8=8  1*9=9  \n",
      "       2*2=4  2*3=6  2*4=8  2*5=10 2*6=12 2*7=14 2*8=16 2*9=18 \n",
      "              3*3=9  3*4=12 3*5=15 3*6=18 3*7=21 3*8=24 3*9=27 \n",
      "                     4*4=16 4*5=20 4*6=24 4*7=28 4*8=32 4*9=36 \n",
      "                            5*5=25 5*6=30 5*7=35 5*8=40 5*9=45 \n",
      "                                   6*6=36 6*7=42 6*8=48 6*9=54 \n",
      "                                          7*7=49 7*8=56 7*9=63 \n",
      "                                                 8*8=64 8*9=72 \n",
      "                                                        9*9=81 \n"
     ]
    }
   ],
   "source": [
    "for i in range(1, 10):\n",
    "    s = ' '*(7 * (i - 1))\n",
    "    for j in range(i, 10):\n",
    "        s += str.format(\"{0:1}*{1:1}={2:<2} \", i, j, i * j)\n",
    "    print(s)\n",
    "input()\n",
    "\n",
    "\n",
    "\n"
   ]
  },
  {
   "cell_type": "code",
   "execution_count": null,
   "id": "64016348-d190-4898-b2f4-1c3377acc457",
   "metadata": {},
   "outputs": [],
   "source": []
  }
 ],
 "metadata": {
  "kernelspec": {
   "display_name": "Python 3 (ipykernel)",
   "language": "python",
   "name": "python3"
  },
  "language_info": {
   "codemirror_mode": {
    "name": "ipython",
    "version": 3
   },
   "file_extension": ".py",
   "mimetype": "text/x-python",
   "name": "python",
   "nbconvert_exporter": "python",
   "pygments_lexer": "ipython3",
   "version": "3.11.9"
  }
 },
 "nbformat": 4,
 "nbformat_minor": 5
}
