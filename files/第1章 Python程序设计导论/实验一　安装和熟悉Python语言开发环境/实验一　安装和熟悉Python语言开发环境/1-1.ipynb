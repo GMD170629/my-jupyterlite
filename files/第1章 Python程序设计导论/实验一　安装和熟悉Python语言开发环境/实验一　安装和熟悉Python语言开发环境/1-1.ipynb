{
 "cells": [
  {
   "cell_type": "code",
   "execution_count": 5,
   "id": "15af95ae-7f64-4553-ad98-c47ace734991",
   "metadata": {},
   "outputs": [
    {
     "name": "stdin",
     "output_type": "stream",
     "text": [
      "请输入第1个数: 10\n",
      "请输入第2个数: 20\n"
     ]
    },
    {
     "name": "stdout",
     "output_type": "stream",
     "text": [
      "10 + 20 = 30\n",
      "10 - 20 = -10\n",
      "10 * 20 = 200\n"
     ]
    }
   ],
   "source": [
    "a=int(input(\"请输入第1个数:\"))\n",
    "b=int(input(\"请输入第2个数:\"))\n",
    "print(a,'+',b,'=',a+b)\n",
    "print(a,'-',b,'=',a-b)\n",
    "print(a,'*',b,'=',a*b)"
   ]
  },
  {
   "cell_type": "code",
   "execution_count": null,
   "id": "d86cb786-b839-4bf4-a288-c8eb4cbfe821",
   "metadata": {},
   "outputs": [],
   "source": []
  }
 ],
 "metadata": {
  "kernelspec": {
   "display_name": "Python 3 (ipykernel)",
   "language": "python",
   "name": "python3"
  },
  "language_info": {
   "codemirror_mode": {
    "name": "ipython",
    "version": 3
   },
   "file_extension": ".py",
   "mimetype": "text/x-python",
   "name": "python",
   "nbconvert_exporter": "python",
   "pygments_lexer": "ipython3",
   "version": "3.11.9"
  }
 },
 "nbformat": 4,
 "nbformat_minor": 5
}
