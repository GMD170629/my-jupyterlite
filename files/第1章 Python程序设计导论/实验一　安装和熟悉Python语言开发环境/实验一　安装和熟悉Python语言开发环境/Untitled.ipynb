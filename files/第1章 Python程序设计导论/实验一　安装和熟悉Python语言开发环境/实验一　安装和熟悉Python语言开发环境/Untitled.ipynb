{
 "cells": [
  {
   "cell_type": "markdown",
   "id": "4f8820b4-5a30-4b53-a6f7-a8b9fac16b4f",
   "metadata": {},
   "source": [
    "已知三角形的三条边  求三角形的面积 ,\n",
    "(area.py)。 提 示 :假 设 三 条 边 长 分\n",
    "别 为a b 和c,则 三 角 形 的 面 积s=  h*(h-a)*(h-b)*(h-c),其 中 ,h 为 三 角 形 周 长 的 、\n",
    "一半。\n"
   ]
  },
  {
   "cell_type": "code",
   "execution_count": 1,
   "id": "5cab43a6-7a67-4ed6-bf3a-d79d90c3a14c",
   "metadata": {},
   "outputs": [
    {
     "ename": "SyntaxError",
     "evalue": "invalid syntax (3029181141.py, line 2)",
     "output_type": "error",
     "traceback": [
      "\u001b[0;36m  Cell \u001b[0;32mIn[1], line 2\u001b[0;36m\u001b[0m\n\u001b[0;31m    a=3 0\u001b[0m\n\u001b[0m        ^\u001b[0m\n\u001b[0;31mSyntaxError\u001b[0m\u001b[0;31m:\u001b[0m invalid syntax\n"
     ]
    }
   ],
   "source": [
    "importmath\n",
    "a=3 0\n",
    "b=4 0\n",
    "c=5 0\n",
    "h= a+b+c 2\n",
    "s=math sqrth* h-a * h-b * h-c # 三 角 形 面 积 prints"
   ]
  },
  {
   "cell_type": "code",
   "execution_count": null,
   "id": "ad0cf61b-7051-4e39-8941-fe8a2dc6991f",
   "metadata": {},
   "outputs": [],
   "source": []
  }
 ],
 "metadata": {
  "kernelspec": {
   "display_name": "Python 3 (ipykernel)",
   "language": "python",
   "name": "python3"
  },
  "language_info": {
   "codemirror_mode": {
    "name": "ipython",
    "version": 3
   },
   "file_extension": ".py",
   "mimetype": "text/x-python",
   "name": "python",
   "nbconvert_exporter": "python",
   "pygments_lexer": "ipython3",
   "version": "3.11.9"
  }
 },
 "nbformat": 4,
 "nbformat_minor": 5
}
