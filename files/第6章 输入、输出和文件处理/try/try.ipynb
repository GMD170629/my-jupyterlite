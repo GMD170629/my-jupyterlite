{
 "cells": [
  {
   "cell_type": "code",
   "execution_count": 1,
   "id": "4b2d5908-6d9d-4980-9188-465f83f1c89f",
   "metadata": {},
   "outputs": [
    {
     "name": "stdout",
     "output_type": "stream",
     "text": [
      "金石为开\n"
     ]
    }
   ],
   "source": [
    "def aFunction():\n",
    "    \"精诚所至，金石为开\"\n",
    "    return 1\n",
    "print(aFunction.__doc__[5:10])\n"
   ]
  },
  {
   "cell_type": "code",
   "execution_count": null,
   "id": "793e5a49-ebe6-4ccf-8747-6feab31d8cf7",
   "metadata": {},
   "outputs": [],
   "source": []
  }
 ],
 "metadata": {
  "kernelspec": {
   "display_name": "Python 3 (ipykernel)",
   "language": "python",
   "name": "python3"
  },
  "language_info": {
   "codemirror_mode": {
    "name": "ipython",
    "version": 3
   },
   "file_extension": ".py",
   "mimetype": "text/x-python",
   "name": "python",
   "nbconvert_exporter": "python",
   "pygments_lexer": "ipython3",
   "version": "3.11.9"
  }
 },
 "nbformat": 4,
 "nbformat_minor": 5
}
