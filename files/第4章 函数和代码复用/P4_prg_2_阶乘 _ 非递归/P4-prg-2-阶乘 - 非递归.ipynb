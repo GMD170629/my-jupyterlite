{
 "cells": [
  {
   "cell_type": "code",
   "execution_count": null,
   "id": "cdf03c02-5604-48ea-a8ac-e0c34447c012",
   "metadata": {},
   "outputs": [],
   "source": []
  },
  {
   "cell_type": "code",
   "execution_count": 3,
   "id": "6f0af76b-3a22-4ba7-8394-3f445e19ac17",
   "metadata": {},
   "outputs": [
    {
     "name": "stdin",
     "output_type": "stream",
     "text": [
      "请输入整数n（n>=0）： 3\n"
     ]
    },
    {
     "name": "stdout",
     "output_type": "stream",
     "text": [
      "6\n"
     ]
    }
   ],
   "source": [
    "def fact(n): #声明函数，返回值\n",
    "    if n==0:\n",
    "        f=1\n",
    "    else:\n",
    "        result=1\n",
    "        for i in range(1,n+1):\n",
    "            result*=i\n",
    "        f=result\n",
    "    return(f)\n",
    "n=int(input(\"请输入整数n（n>=0）：\"))\n",
    "print(fact(n))      #调用函数\n",
    "\n",
    "\n"
   ]
  },
  {
   "cell_type": "code",
   "execution_count": null,
   "id": "32e1b61d-e68e-47c1-9083-825934e38e40",
   "metadata": {},
   "outputs": [],
   "source": []
  }
 ],
 "metadata": {
  "kernelspec": {
   "display_name": "Python 3 (ipykernel)",
   "language": "python",
   "name": "python3"
  },
  "language_info": {
   "codemirror_mode": {
    "name": "ipython",
    "version": 3
   },
   "file_extension": ".py",
   "mimetype": "text/x-python",
   "name": "python",
   "nbconvert_exporter": "python",
   "pygments_lexer": "ipython3",
   "version": "3.11.9"
  }
 },
 "nbformat": 4,
 "nbformat_minor": 5
}
