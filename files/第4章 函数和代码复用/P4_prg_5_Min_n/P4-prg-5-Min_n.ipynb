{
 "cells": [
  {
   "cell_type": "code",
   "execution_count": 1,
   "id": "95ca09d7-8a78-4078-bd25-e5dcc01bdab3",
   "metadata": {},
   "outputs": [
    {
     "name": "stdout",
     "output_type": "stream",
     "text": [
      "最小值为 2\n",
      "最小值为 1\n"
     ]
    }
   ],
   "source": [
    "def min_n(a, b, *c):\n",
    "    min_value = a\n",
    "    if min_value > b:\n",
    "        min_value = b\n",
    "    for n in c:\n",
    "        if min_value > n:\n",
    "            min_value = n\n",
    "    return min_value\n",
    "#测试代码\n",
    "print(\"最小值为\",min_n(8, 2))\n",
    "print(\"最小值为\",min_n(16, 1, 7, 4, 15))\n"
   ]
  },
  {
   "cell_type": "code",
   "execution_count": null,
   "id": "82a64d00-9ff7-46ee-9de1-e27b1753bda5",
   "metadata": {},
   "outputs": [],
   "source": []
  }
 ],
 "metadata": {
  "kernelspec": {
   "display_name": "Python 3 (ipykernel)",
   "language": "python",
   "name": "python3"
  },
  "language_info": {
   "codemirror_mode": {
    "name": "ipython",
    "version": 3
   },
   "file_extension": ".py",
   "mimetype": "text/x-python",
   "name": "python",
   "nbconvert_exporter": "python",
   "pygments_lexer": "ipython3",
   "version": "3.11.9"
  }
 },
 "nbformat": 4,
 "nbformat_minor": 5
}
