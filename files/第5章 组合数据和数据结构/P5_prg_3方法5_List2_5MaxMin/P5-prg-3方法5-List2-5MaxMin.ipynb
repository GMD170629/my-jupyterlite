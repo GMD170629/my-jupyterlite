{
 "cells": [
  {
   "cell_type": "code",
   "execution_count": 1,
   "id": "b54692cd-8d76-4d09-ae0c-9636d37fbcd5",
   "metadata": {},
   "outputs": [
    {
     "name": "stdout",
     "output_type": "stream",
     "text": [
      "8 55 1 91 11.375\n"
     ]
    }
   ],
   "source": [
    "list1=[9,7,8,3,2,1,55,6]\n",
    "maxi=list1[0];mini=list1[0];s=0;n=len(list1)\n",
    "i=0\n",
    "while True:\n",
    "    if i>=n: break #结束循环的执行\n",
    "    if list1[i]>maxi:\n",
    "        maxi=list1[i]\n",
    "    if list1[i]<mini:\n",
    "        mini=list1[i]\n",
    "    s+=list1[i]\n",
    "    i+=1\n",
    "print(n,maxi,mini,s,s/n)\n",
    "  \n"
   ]
  },
  {
   "cell_type": "code",
   "execution_count": null,
   "id": "1be65dc0-fd47-4dc4-a444-910d6dfe9b83",
   "metadata": {},
   "outputs": [],
   "source": []
  }
 ],
 "metadata": {
  "kernelspec": {
   "display_name": "Python 3 (ipykernel)",
   "language": "python",
   "name": "python3"
  },
  "language_info": {
   "codemirror_mode": {
    "name": "ipython",
    "version": 3
   },
   "file_extension": ".py",
   "mimetype": "text/x-python",
   "name": "python",
   "nbconvert_exporter": "python",
   "pygments_lexer": "ipython3",
   "version": "3.11.9"
  }
 },
 "nbformat": 4,
 "nbformat_minor": 5
}
