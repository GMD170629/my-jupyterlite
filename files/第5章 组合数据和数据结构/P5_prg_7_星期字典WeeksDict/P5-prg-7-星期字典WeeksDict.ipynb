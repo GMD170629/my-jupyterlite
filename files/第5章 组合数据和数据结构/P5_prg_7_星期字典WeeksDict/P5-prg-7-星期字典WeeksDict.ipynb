{
 "cells": [
  {
   "cell_type": "code",
   "execution_count": 1,
   "id": "1a58ab2f-73dc-4e0e-a99d-810aac98367c",
   "metadata": {},
   "outputs": [
    {
     "name": "stdout",
     "output_type": "stream",
     "text": [
      "1 2 3 4 5 6 7 \n",
      "\n",
      "Mon Tues Wed Thur Fri Sat Sun \n",
      "\n",
      "(1, 'Mon') (2, 'Tues') (3, 'Wed') (4, 'Thur') (5, 'Fri') (6, 'Sat') (7, 'Sun') "
     ]
    }
   ],
   "source": [
    "d=dict({1:'Mon', 2:'Tues',3:'Wed', 4:'Thur',5:'Fri', 6:'Sat',7:'Sun'})\n",
    "for k in d.keys():\n",
    "    print(k, end=\" \")\n",
    "print(\"\\n\")\n",
    "for v in d.values():\n",
    "    print(v, end=\" \")\n",
    "print(\"\\n\")\n",
    "for item in d.items():\n",
    "    print(item, end=' ')\n"
   ]
  },
  {
   "cell_type": "code",
   "execution_count": null,
   "id": "ee9f2731-752b-4e29-a7ba-95e1c9db3b3c",
   "metadata": {},
   "outputs": [],
   "source": []
  }
 ],
 "metadata": {
  "kernelspec": {
   "display_name": "Python 3 (ipykernel)",
   "language": "python",
   "name": "python3"
  },
  "language_info": {
   "codemirror_mode": {
    "name": "ipython",
    "version": 3
   },
   "file_extension": ".py",
   "mimetype": "text/x-python",
   "name": "python",
   "nbconvert_exporter": "python",
   "pygments_lexer": "ipython3",
   "version": "3.11.9"
  }
 },
 "nbformat": 4,
 "nbformat_minor": 5
}
