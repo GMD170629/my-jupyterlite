{
 "cells": [
  {
   "cell_type": "code",
   "execution_count": 1,
   "id": "22d5febf-6b3d-47cf-8dd7-56f5988a8ac3",
   "metadata": {},
   "outputs": [
    {
     "name": "stdin",
     "output_type": "stream",
     "text": [
      "请输入您的姓名： 彭\n",
      "请输入您的出生年份： 1223\n"
     ]
    },
    {
     "name": "stdout",
     "output_type": "stream",
     "text": [
      "彭 801\n"
     ]
    }
   ],
   "source": [
    "import datetime\n",
    "sName = input(\"请输入您的姓名：\")\n",
    "birthyear = int(input(\"请输入您的出生年份：\"))  #把输入值通过int转换为整型\n",
    "age = datetime.date.today().year - birthyear\n",
    "print(sName, age)\n"
   ]
  },
  {
   "cell_type": "code",
   "execution_count": null,
   "id": "aa73c034-e2cf-4cdf-88c6-2f8989a6eed0",
   "metadata": {},
   "outputs": [],
   "source": []
  }
 ],
 "metadata": {
  "kernelspec": {
   "display_name": "Python 3 (ipykernel)",
   "language": "python",
   "name": "python3"
  },
  "language_info": {
   "codemirror_mode": {
    "name": "ipython",
    "version": 3
   },
   "file_extension": ".py",
   "mimetype": "text/x-python",
   "name": "python",
   "nbconvert_exporter": "python",
   "pygments_lexer": "ipython3",
   "version": "3.11.9"
  }
 },
 "nbformat": 4,
 "nbformat_minor": 5
}
