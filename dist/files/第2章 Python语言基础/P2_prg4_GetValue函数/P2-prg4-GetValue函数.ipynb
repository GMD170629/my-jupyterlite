{
 "cells": [
  {
   "cell_type": "code",
   "execution_count": null,
   "id": "58915846-6720-494e-b116-f78d3b8ca44e",
   "metadata": {},
   "outputs": [],
   "source": []
  },
  {
   "cell_type": "code",
   "execution_count": 1,
   "id": "a148ff04-ded6-4eee-a5f7-e5e41097a300",
   "metadata": {},
   "outputs": [
    {
     "name": "stdin",
     "output_type": "stream",
     "text": [
      "请输入本金： 12\n",
      "请输入年利率： 2\n",
      "请输入年份： 23\n"
     ]
    },
    {
     "name": "stdout",
     "output_type": "stream",
     "text": [
      "最终收益为：18.92\n"
     ]
    }
   ],
   "source": [
    "def getValue(b,r,n): #定义函数getValue\n",
    "    v = b*((1+r/100)**n) \n",
    "    return v\n",
    "nb = float(input(\"请输入本金：\")) #输入本金并转换为浮点数\n",
    "nr = float(input(\"请输入年利率：\")) #输入年利率并转换为浮点数\n",
    "ny = int(input(\"请输入年份：\")) #输入年份并转换为整数\n",
    "print(str.format(\"最终收益为：{0:2.2f}\",getValue(nb,nr,ny))) #调用函数getValue,打印结果\n",
    "#GetValue.py"
   ]
  },
  {
   "cell_type": "code",
   "execution_count": null,
   "id": "d212b235-dd23-48dc-b7e2-49eee73b3ded",
   "metadata": {},
   "outputs": [],
   "source": []
  }
 ],
 "metadata": {
  "kernelspec": {
   "display_name": "Python 3 (ipykernel)",
   "language": "python",
   "name": "python3"
  },
  "language_info": {
   "codemirror_mode": {
    "name": "ipython",
    "version": 3
   },
   "file_extension": ".py",
   "mimetype": "text/x-python",
   "name": "python",
   "nbconvert_exporter": "python",
   "pygments_lexer": "ipython3",
   "version": "3.11.9"
  }
 },
 "nbformat": 4,
 "nbformat_minor": 5
}
