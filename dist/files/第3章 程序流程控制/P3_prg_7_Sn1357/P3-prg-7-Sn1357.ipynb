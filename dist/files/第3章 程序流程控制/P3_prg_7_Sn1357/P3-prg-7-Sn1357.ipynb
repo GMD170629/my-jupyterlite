{
 "cells": [
  {
   "cell_type": "code",
   "execution_count": 1,
   "id": "653e1384-9b28-4ef9-ab6c-53bef35704d3",
   "metadata": {},
   "outputs": [
    {
     "name": "stdout",
     "output_type": "stream",
     "text": [
      "-100\n"
     ]
    }
   ],
   "source": [
    "#n=int(input(\"请输入整数n：\"))\n",
    "n=100\n",
    "s=0\n",
    "for i in range(1,n+1):\n",
    "    if i%2==0:\n",
    "        s-=(2*i-1)\n",
    "    else:\n",
    "        s+=(2*i-1)\n",
    "print(s)\n"
   ]
  },
  {
   "cell_type": "code",
   "execution_count": null,
   "id": "ee3cf6c4-f075-4723-8e56-4477263e46ac",
   "metadata": {},
   "outputs": [],
   "source": []
  }
 ],
 "metadata": {
  "kernelspec": {
   "display_name": "Python 3 (ipykernel)",
   "language": "python",
   "name": "python3"
  },
  "language_info": {
   "codemirror_mode": {
    "name": "ipython",
    "version": 3
   },
   "file_extension": ".py",
   "mimetype": "text/x-python",
   "name": "python",
   "nbconvert_exporter": "python",
   "pygments_lexer": "ipython3",
   "version": "3.11.9"
  }
 },
 "nbformat": 4,
 "nbformat_minor": 5
}
