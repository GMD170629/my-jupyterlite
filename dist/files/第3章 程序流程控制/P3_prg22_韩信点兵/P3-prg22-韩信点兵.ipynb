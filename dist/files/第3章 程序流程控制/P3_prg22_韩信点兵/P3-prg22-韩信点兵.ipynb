{
 "cells": [
  {
   "cell_type": "code",
   "execution_count": 1,
   "id": "2fd677c3-1b06-48e6-bbd6-231d50f73fd1",
   "metadata": {},
   "outputs": [
    {
     "name": "stdout",
     "output_type": "stream",
     "text": [
      "0~1000中用3除余2，用5除余3，用7除余2的数有：\n",
      "23 128 233 338 443 548 653 758 863 968 "
     ]
    }
   ],
   "source": [
    "print(\"0~1000中用3除余2，用5除余3，用7除余2的数有：\")\n",
    "for n in range(1001):\n",
    "    if (n % 3 == 2 and n % 5 == 3 and n % 7 == 2): print(n,end=' ')\n",
    "                \n"
   ]
  },
  {
   "cell_type": "code",
   "execution_count": null,
   "id": "ad1e4ed5-b47c-4eaa-9d6a-6c15e293d65e",
   "metadata": {},
   "outputs": [],
   "source": []
  }
 ],
 "metadata": {
  "kernelspec": {
   "display_name": "Python 3 (ipykernel)",
   "language": "python",
   "name": "python3"
  },
  "language_info": {
   "codemirror_mode": {
    "name": "ipython",
    "version": 3
   },
   "file_extension": ".py",
   "mimetype": "text/x-python",
   "name": "python",
   "nbconvert_exporter": "python",
   "pygments_lexer": "ipython3",
   "version": "3.11.9"
  }
 },
 "nbformat": 4,
 "nbformat_minor": 5
}
