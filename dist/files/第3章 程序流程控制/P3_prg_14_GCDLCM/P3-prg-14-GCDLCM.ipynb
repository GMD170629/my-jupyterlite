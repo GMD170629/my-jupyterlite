{
 "cells": [
  {
   "cell_type": "code",
   "execution_count": 1,
   "id": "df4b4a56-1d2a-4b5a-9a2a-2efb7057e863",
   "metadata": {},
   "outputs": [
    {
     "name": "stdout",
     "output_type": "stream",
     "text": [
      "整数1 = 66, 整数2 = 100\n",
      "最大公约数 = 2, 最小公倍数 = 3300\n"
     ]
    },
    {
     "name": "stdin",
     "output_type": "stream",
     "text": [
      " 5\n"
     ]
    },
    {
     "data": {
      "text/plain": [
       "'5'"
      ]
     },
     "execution_count": 1,
     "metadata": {},
     "output_type": "execute_result"
    }
   ],
   "source": [
    "import random\n",
    "m1 = random.randint(0,100)\n",
    "n1 = random.randint(0,100)\n",
    "print(str.format(\"整数1 = {0}, 整数2 = {1}\", m1, n1))\n",
    "if (m1 > n1):\n",
    "    m = m1; n = n1\n",
    "else:\n",
    "    m = n1; n = m1\n",
    "r=1\n",
    "while (r != 0):\n",
    "    r = m % n;m = n;n = r\n",
    "print(str.format(\"最大公约数 = {0}, 最小公倍数 = {1:1.0f}\", m, m1 * n1 / m))\n",
    "input()\n"
   ]
  },
  {
   "cell_type": "code",
   "execution_count": null,
   "id": "45bcb802-63fd-48ad-8e1c-7a0181db847a",
   "metadata": {},
   "outputs": [],
   "source": []
  }
 ],
 "metadata": {
  "kernelspec": {
   "display_name": "Python 3 (ipykernel)",
   "language": "python",
   "name": "python3"
  },
  "language_info": {
   "codemirror_mode": {
    "name": "ipython",
    "version": 3
   },
   "file_extension": ".py",
   "mimetype": "text/x-python",
   "name": "python",
   "nbconvert_exporter": "python",
   "pygments_lexer": "ipython3",
   "version": "3.11.9"
  }
 },
 "nbformat": 4,
 "nbformat_minor": 5
}
