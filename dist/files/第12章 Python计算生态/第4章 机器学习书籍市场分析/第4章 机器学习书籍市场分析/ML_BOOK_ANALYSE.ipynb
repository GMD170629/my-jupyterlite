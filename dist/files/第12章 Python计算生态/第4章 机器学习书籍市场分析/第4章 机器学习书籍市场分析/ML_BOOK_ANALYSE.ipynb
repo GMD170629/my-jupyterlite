{
 "cells": [
  {
   "cell_type": "code",
   "execution_count": 26,
   "id": "cd65a69b",
   "metadata": {},
   "outputs": [],
   "source": [
    "import pandas as pd\n"
   ]
  },
  {
   "cell_type": "code",
   "execution_count": 118,
   "id": "005c9b62",
   "metadata": {},
   "outputs": [
    {
     "data": {
      "text/plain": [
       "Index(['商品ID', '商品名', '描述', '价格描述', '价格', '店铺名', '是否包邮', '服务标签', '商品标签', '作者',\n",
       "       '作者分数', '出版社分数', '出版社独热编码', '出版社', '品牌分数', '品牌', '包装', '出版时间', '出版年份',\n",
       "       '用纸', '正文语种', '页数', '评论数量', '好评数', '差评数', '是否实战', '是否框架', '畅销程度',\n",
       "       '畅销分数'],\n",
       "      dtype='object')"
      ]
     },
     "execution_count": 118,
     "metadata": {},
     "output_type": "execute_result"
    }
   ],
   "source": [
    "df = pd.read_excel(\"MLBOOK_DATA.xlsx\")\n",
    "df.columns"
   ]
  },
  {
   "cell_type": "code",
   "execution_count": 119,
   "id": "8c7e14b7",
   "metadata": {},
   "outputs": [
    {
     "name": "stdout",
     "output_type": "stream",
     "text": [
      "<class 'pandas.core.frame.DataFrame'>\n",
      "RangeIndex: 841 entries, 0 to 840\n",
      "Data columns (total 29 columns):\n",
      " #   Column          Non-Null Count  Dtype         \n",
      "---  ------          --------------  -----         \n",
      " 0   ID              841 non-null    int64         \n",
      " 1   Name            841 non-null    object        \n",
      " 2   Desc            804 non-null    object        \n",
      " 3   PriceDesc       841 non-null    object        \n",
      " 4   Price           841 non-null    float64       \n",
      " 5   Store           818 non-null    object        \n",
      " 6   IsFreeship      841 non-null    int64         \n",
      " 7   ServiceTag      841 non-null    int64         \n",
      " 8   BookTag         802 non-null    object        \n",
      " 9   Author          700 non-null    object        \n",
      " 10  AuthorScore     841 non-null    int64         \n",
      " 11  PublisherScore  841 non-null    int64         \n",
      " 12  PublisherCode   841 non-null    int64         \n",
      " 13  Publisher       790 non-null    object        \n",
      " 14  BrandScore      841 non-null    int64         \n",
      " 15  Brand           587 non-null    object        \n",
      " 16  Package         505 non-null    object        \n",
      " 17  PubDate         648 non-null    datetime64[ns]\n",
      " 18  PubYear         840 non-null    float64       \n",
      " 19  Paper           447 non-null    object        \n",
      " 20  Language        205 non-null    object        \n",
      " 21  PageSize        439 non-null    float64       \n",
      " 22  CommentCount    841 non-null    int64         \n",
      " 23  GoodCount       841 non-null    int64         \n",
      " 24  BadCount        841 non-null    int64         \n",
      " 25  IsPractise      841 non-null    int64         \n",
      " 26  IsFramework     841 non-null    int64         \n",
      " 27  SellLevel       841 non-null    object        \n",
      " 28  SellScore       841 non-null    float64       \n",
      "dtypes: datetime64[ns](1), float64(4), int64(12), object(12)\n",
      "memory usage: 190.7+ KB\n"
     ]
    }
   ],
   "source": [
    "df.columns = [\"ID\", \"Name\", \"Desc\",\"PriceDesc\",\"Price\",\"Store\",\n",
    "              \"IsFreeship\",\"ServiceTag\",\"BookTag\",\"Author\",\"AuthorScore\",\n",
    "             \"PublisherScore\",\"PublisherCode\",\"Publisher\",\"BrandScore\",\n",
    "              \"Brand\",\"Package\",\"PubDate\",\"PubYear\",\"Paper\",\"Language\",\n",
    "              \"PageSize\",\"CommentCount\",\"GoodCount\",\"BadCount\",\"IsPractise\",\n",
    "              \"IsFramework\",\"SellLevel\",\"SellScore\"]\n",
    "df.info()"
   ]
  },
  {
   "cell_type": "code",
   "execution_count": 120,
   "id": "3d159a32",
   "metadata": {},
   "outputs": [],
   "source": [
    "filtered_df = df[df['Publisher'].notnull()]\n",
    "filtered_df.to_csv(\"filterd_book.tsv\",sep='\\t',index=None)"
   ]
  },
  {
   "cell_type": "code",
   "execution_count": 121,
   "id": "905823d8",
   "metadata": {},
   "outputs": [],
   "source": [
    "filtered_df = pd.read_csv(\"filterd_book.tsv\",sep='\\t')"
   ]
  },
  {
   "cell_type": "code",
   "execution_count": 122,
   "id": "43681eef",
   "metadata": {
    "scrolled": true
   },
   "outputs": [
    {
     "data": {
      "text/html": [
       "<div>\n",
       "<style scoped>\n",
       "    .dataframe tbody tr th:only-of-type {\n",
       "        vertical-align: middle;\n",
       "    }\n",
       "\n",
       "    .dataframe tbody tr th {\n",
       "        vertical-align: top;\n",
       "    }\n",
       "\n",
       "    .dataframe thead th {\n",
       "        text-align: right;\n",
       "    }\n",
       "</style>\n",
       "<table border=\"1\" class=\"dataframe\">\n",
       "  <thead>\n",
       "    <tr style=\"text-align: right;\">\n",
       "      <th></th>\n",
       "      <th>ID</th>\n",
       "      <th>Name</th>\n",
       "      <th>Desc</th>\n",
       "      <th>PriceDesc</th>\n",
       "      <th>Price</th>\n",
       "      <th>Store</th>\n",
       "      <th>IsFreeship</th>\n",
       "      <th>ServiceTag</th>\n",
       "      <th>BookTag</th>\n",
       "      <th>Author</th>\n",
       "      <th>...</th>\n",
       "      <th>Paper</th>\n",
       "      <th>Language</th>\n",
       "      <th>PageSize</th>\n",
       "      <th>CommentCount</th>\n",
       "      <th>GoodCount</th>\n",
       "      <th>BadCount</th>\n",
       "      <th>IsPractise</th>\n",
       "      <th>IsFramework</th>\n",
       "      <th>SellLevel</th>\n",
       "      <th>SellScore</th>\n",
       "    </tr>\n",
       "  </thead>\n",
       "  <tbody>\n",
       "    <tr>\n",
       "      <th>0</th>\n",
       "      <td>12656251</td>\n",
       "      <td>强化学习/人工智能科学与技术丛书</td>\n",
       "      <td>作者丰富的行业实践经验赋予本书极强的实用性，涉及深度强化学习，内容丰富、易学实用，5位业界专...</td>\n",
       "      <td>较高</td>\n",
       "      <td>78.3</td>\n",
       "      <td>清华大学出版社</td>\n",
       "      <td>0</td>\n",
       "      <td>2</td>\n",
       "      <td>自营|放心购</td>\n",
       "      <td>邹伟</td>\n",
       "      <td>...</td>\n",
       "      <td>胶版纸</td>\n",
       "      <td>中文</td>\n",
       "      <td>380.0</td>\n",
       "      <td>820</td>\n",
       "      <td>119</td>\n",
       "      <td>0</td>\n",
       "      <td>0</td>\n",
       "      <td>0</td>\n",
       "      <td>一般</td>\n",
       "      <td>682.9899</td>\n",
       "    </tr>\n",
       "    <tr>\n",
       "      <th>1</th>\n",
       "      <td>70360732845</td>\n",
       "      <td>周志华作品 AI人工智能书籍：机器学习理论导引/机器学习 西瓜书 机器学习入门教材书籍 之 ...</td>\n",
       "      <td>周志华作品 AI人工智能书籍：机器学习理论导引/机器学习 西瓜书 机器学习入门教材书籍 之 ...</td>\n",
       "      <td>中</td>\n",
       "      <td>55.0</td>\n",
       "      <td>芝麻开门图书专营店</td>\n",
       "      <td>0</td>\n",
       "      <td>1</td>\n",
       "      <td>放心购|门店有售|到店自取|券99-5</td>\n",
       "      <td>周志华</td>\n",
       "      <td>...</td>\n",
       "      <td>NaN</td>\n",
       "      <td>NaN</td>\n",
       "      <td>NaN</td>\n",
       "      <td>766</td>\n",
       "      <td>78</td>\n",
       "      <td>0</td>\n",
       "      <td>0</td>\n",
       "      <td>0</td>\n",
       "      <td>一般</td>\n",
       "      <td>593.5046</td>\n",
       "    </tr>\n",
       "    <tr>\n",
       "      <th>2</th>\n",
       "      <td>70360732846</td>\n",
       "      <td>周志华作品 AI人工智能书籍：机器学习理论导引/机器学习 西瓜书 机器学习入门教材书籍 之 ...</td>\n",
       "      <td>周志华作品 AI人工智能书籍：机器学习理论导引/机器学习 西瓜书 机器学习入门教材书籍 之 ...</td>\n",
       "      <td>高</td>\n",
       "      <td>125.0</td>\n",
       "      <td>芝麻开门图书专营店</td>\n",
       "      <td>0</td>\n",
       "      <td>1</td>\n",
       "      <td>放心购|门店有售|到店自取|券99-5</td>\n",
       "      <td>周志华</td>\n",
       "      <td>...</td>\n",
       "      <td>NaN</td>\n",
       "      <td>NaN</td>\n",
       "      <td>NaN</td>\n",
       "      <td>766</td>\n",
       "      <td>78</td>\n",
       "      <td>0</td>\n",
       "      <td>0</td>\n",
       "      <td>0</td>\n",
       "      <td>一般</td>\n",
       "      <td>593.5046</td>\n",
       "    </tr>\n",
       "    <tr>\n",
       "      <th>3</th>\n",
       "      <td>70360732844</td>\n",
       "      <td>周志华作品 AI人工智能书籍：机器学习理论导引/机器学习 西瓜书 机器学习入门教材书籍 之 ...</td>\n",
       "      <td>周志华作品 AI人工智能书籍：机器学习理论导引/机器学习 西瓜书 机器学习入门教材书籍 之 ...</td>\n",
       "      <td>中</td>\n",
       "      <td>58.0</td>\n",
       "      <td>芝麻开门图书专营店</td>\n",
       "      <td>0</td>\n",
       "      <td>1</td>\n",
       "      <td>放心购|门店有售|到店自取|券99-5</td>\n",
       "      <td>周志华</td>\n",
       "      <td>...</td>\n",
       "      <td>NaN</td>\n",
       "      <td>NaN</td>\n",
       "      <td>NaN</td>\n",
       "      <td>766</td>\n",
       "      <td>78</td>\n",
       "      <td>0</td>\n",
       "      <td>0</td>\n",
       "      <td>0</td>\n",
       "      <td>一般</td>\n",
       "      <td>593.5046</td>\n",
       "    </tr>\n",
       "    <tr>\n",
       "      <th>4</th>\n",
       "      <td>16007151390</td>\n",
       "      <td>正版 机器学习 Tom Mitchell   曾华军 张银奎 计算机与互联网 |8185</td>\n",
       "      <td>正版书籍</td>\n",
       "      <td>低</td>\n",
       "      <td>22.0</td>\n",
       "      <td>互动出版网图书专营店</td>\n",
       "      <td>0</td>\n",
       "      <td>1</td>\n",
       "      <td>放心购|券每满300减30|满赠</td>\n",
       "      <td>美 Tom Mitchell</td>\n",
       "      <td>...</td>\n",
       "      <td>NaN</td>\n",
       "      <td>NaN</td>\n",
       "      <td>280.0</td>\n",
       "      <td>695</td>\n",
       "      <td>516</td>\n",
       "      <td>1</td>\n",
       "      <td>0</td>\n",
       "      <td>0</td>\n",
       "      <td>一般</td>\n",
       "      <td>259.4688</td>\n",
       "    </tr>\n",
       "  </tbody>\n",
       "</table>\n",
       "<p>5 rows × 29 columns</p>\n",
       "</div>"
      ],
      "text/plain": [
       "            ID                                               Name  \\\n",
       "0     12656251                                   强化学习/人工智能科学与技术丛书   \n",
       "1  70360732845  周志华作品 AI人工智能书籍：机器学习理论导引/机器学习 西瓜书 机器学习入门教材书籍 之 ...   \n",
       "2  70360732846  周志华作品 AI人工智能书籍：机器学习理论导引/机器学习 西瓜书 机器学习入门教材书籍 之 ...   \n",
       "3  70360732844  周志华作品 AI人工智能书籍：机器学习理论导引/机器学习 西瓜书 机器学习入门教材书籍 之 ...   \n",
       "4  16007151390       正版 机器学习 Tom Mitchell   曾华军 张银奎 计算机与互联网 |8185   \n",
       "\n",
       "                                                Desc PriceDesc  Price  \\\n",
       "0  作者丰富的行业实践经验赋予本书极强的实用性，涉及深度强化学习，内容丰富、易学实用，5位业界专...        较高   78.3   \n",
       "1  周志华作品 AI人工智能书籍：机器学习理论导引/机器学习 西瓜书 机器学习入门教材书籍 之 ...         中   55.0   \n",
       "2  周志华作品 AI人工智能书籍：机器学习理论导引/机器学习 西瓜书 机器学习入门教材书籍 之 ...         高  125.0   \n",
       "3  周志华作品 AI人工智能书籍：机器学习理论导引/机器学习 西瓜书 机器学习入门教材书籍 之 ...         中   58.0   \n",
       "4                                               正版书籍         低   22.0   \n",
       "\n",
       "        Store  IsFreeship  ServiceTag              BookTag          Author  \\\n",
       "0     清华大学出版社           0           2               自营|放心购              邹伟   \n",
       "1   芝麻开门图书专营店           0           1  放心购|门店有售|到店自取|券99-5             周志华   \n",
       "2   芝麻开门图书专营店           0           1  放心购|门店有售|到店自取|券99-5             周志华   \n",
       "3   芝麻开门图书专营店           0           1  放心购|门店有售|到店自取|券99-5             周志华   \n",
       "4  互动出版网图书专营店           0           1     放心购|券每满300减30|满赠  美 Tom Mitchell   \n",
       "\n",
       "   ...  Paper  Language  PageSize CommentCount  GoodCount BadCount IsPractise  \\\n",
       "0  ...    胶版纸        中文     380.0          820        119        0          0   \n",
       "1  ...    NaN       NaN       NaN          766         78        0          0   \n",
       "2  ...    NaN       NaN       NaN          766         78        0          0   \n",
       "3  ...    NaN       NaN       NaN          766         78        0          0   \n",
       "4  ...    NaN       NaN     280.0          695        516        1          0   \n",
       "\n",
       "  IsFramework  SellLevel SellScore  \n",
       "0           0         一般  682.9899  \n",
       "1           0         一般  593.5046  \n",
       "2           0         一般  593.5046  \n",
       "3           0         一般  593.5046  \n",
       "4           0         一般  259.4688  \n",
       "\n",
       "[5 rows x 29 columns]"
      ]
     },
     "execution_count": 122,
     "metadata": {},
     "output_type": "execute_result"
    }
   ],
   "source": [
    "filtered_df.head()"
   ]
  },
  {
   "cell_type": "code",
   "execution_count": 123,
   "id": "70ec3033",
   "metadata": {},
   "outputs": [
    {
     "name": "stdout",
     "output_type": "stream",
     "text": [
      "29\n",
      "Index(['一般', '较不畅销', '畅销', '不畅销'], dtype='object')\n"
     ]
    }
   ],
   "source": [
    "cols = filtered_df.columns.tolist()\n",
    "print(len(cols))\n",
    "sdf = filtered_df[[\"Price\",  \"IsFreeship\",\"AuthorScore\",\n",
    "             \"PublisherScore\",\"PublisherCode\",\"BrandScore\",\n",
    "              \"PageSize\",\"IsPractise\", \"IsFramework\",\"SellLevel\"]]\n",
    "\n",
    "sdf = sdf.fillna(0)\n",
    "\n",
    "factor = pd.factorize(sdf['SellLevel'])\n",
    "sdf[\"SellLevel\"] = factor[0]\n",
    "definitions = factor[1]\n",
    "print(definitions)"
   ]
  },
  {
   "cell_type": "code",
   "execution_count": 124,
   "id": "5d7e4226",
   "metadata": {},
   "outputs": [
    {
     "name": "stdout",
     "output_type": "stream",
     "text": [
      "<class 'pandas.core.frame.DataFrame'>\n",
      "RangeIndex: 790 entries, 0 to 789\n",
      "Data columns (total 10 columns):\n",
      " #   Column          Non-Null Count  Dtype  \n",
      "---  ------          --------------  -----  \n",
      " 0   Price           790 non-null    float64\n",
      " 1   IsFreeship      790 non-null    int64  \n",
      " 2   AuthorScore     790 non-null    int64  \n",
      " 3   PublisherScore  790 non-null    int64  \n",
      " 4   PublisherCode   790 non-null    int64  \n",
      " 5   BrandScore      790 non-null    int64  \n",
      " 6   PageSize        790 non-null    float64\n",
      " 7   IsPractise      790 non-null    int64  \n",
      " 8   IsFramework     790 non-null    int64  \n",
      " 9   SellLevel       790 non-null    int64  \n",
      "dtypes: float64(2), int64(8)\n",
      "memory usage: 61.8 KB\n"
     ]
    }
   ],
   "source": [
    "sdf.info()"
   ]
  },
  {
   "cell_type": "code",
   "execution_count": 125,
   "id": "2abe0f8a",
   "metadata": {},
   "outputs": [
    {
     "data": {
      "text/plain": [
       "Index(['一般', '较不畅销', '畅销', '不畅销'], dtype='object')"
      ]
     },
     "execution_count": 125,
     "metadata": {},
     "output_type": "execute_result"
    }
   ],
   "source": [
    "definitions"
   ]
  },
  {
   "cell_type": "code",
   "execution_count": 126,
   "id": "d3bc38af",
   "metadata": {},
   "outputs": [
    {
     "data": {
      "text/plain": [
       "1    311\n",
       "2    259\n",
       "3    148\n",
       "0     72\n",
       "Name: SellLevel, dtype: int64"
      ]
     },
     "execution_count": 126,
     "metadata": {},
     "output_type": "execute_result"
    }
   ],
   "source": [
    "sdf.SellLevel.value_counts()"
   ]
  },
  {
   "cell_type": "code",
   "execution_count": 13,
   "id": "7e129726",
   "metadata": {
    "scrolled": true
   },
   "outputs": [
    {
     "data": {
      "text/html": [
       "<div>\n",
       "<style scoped>\n",
       "    .dataframe tbody tr th:only-of-type {\n",
       "        vertical-align: middle;\n",
       "    }\n",
       "\n",
       "    .dataframe tbody tr th {\n",
       "        vertical-align: top;\n",
       "    }\n",
       "\n",
       "    .dataframe thead th {\n",
       "        text-align: right;\n",
       "    }\n",
       "</style>\n",
       "<table border=\"1\" class=\"dataframe\">\n",
       "  <thead>\n",
       "    <tr style=\"text-align: right;\">\n",
       "      <th></th>\n",
       "      <th>Price</th>\n",
       "      <th>IsFreeship</th>\n",
       "      <th>AuthorScore</th>\n",
       "      <th>PublisherScore</th>\n",
       "      <th>PublisherCode</th>\n",
       "      <th>BrandScore</th>\n",
       "      <th>PageSize</th>\n",
       "      <th>IsPractise</th>\n",
       "      <th>IsFramework</th>\n",
       "      <th>SellLevel</th>\n",
       "    </tr>\n",
       "  </thead>\n",
       "  <tbody>\n",
       "    <tr>\n",
       "      <th>count</th>\n",
       "      <td>790.000000</td>\n",
       "      <td>790.000000</td>\n",
       "      <td>790.000000</td>\n",
       "      <td>790.000000</td>\n",
       "      <td>790.000000</td>\n",
       "      <td>790.000000</td>\n",
       "      <td>790.000000</td>\n",
       "      <td>790.000000</td>\n",
       "      <td>790.000000</td>\n",
       "      <td>790.000000</td>\n",
       "    </tr>\n",
       "    <tr>\n",
       "      <th>mean</th>\n",
       "      <td>80.194013</td>\n",
       "      <td>0.178481</td>\n",
       "      <td>24.592405</td>\n",
       "      <td>42.227848</td>\n",
       "      <td>95.175949</td>\n",
       "      <td>25.101266</td>\n",
       "      <td>176.893671</td>\n",
       "      <td>0.317722</td>\n",
       "      <td>0.135443</td>\n",
       "      <td>1.611392</td>\n",
       "    </tr>\n",
       "    <tr>\n",
       "      <th>std</th>\n",
       "      <td>67.271250</td>\n",
       "      <td>0.383160</td>\n",
       "      <td>16.603203</td>\n",
       "      <td>13.755008</td>\n",
       "      <td>238.250815</td>\n",
       "      <td>17.655408</td>\n",
       "      <td>188.177926</td>\n",
       "      <td>0.465886</td>\n",
       "      <td>0.342413</td>\n",
       "      <td>0.891942</td>\n",
       "    </tr>\n",
       "    <tr>\n",
       "      <th>min</th>\n",
       "      <td>9.900000</td>\n",
       "      <td>0.000000</td>\n",
       "      <td>20.000000</td>\n",
       "      <td>10.000000</td>\n",
       "      <td>0.000000</td>\n",
       "      <td>10.000000</td>\n",
       "      <td>0.000000</td>\n",
       "      <td>0.000000</td>\n",
       "      <td>0.000000</td>\n",
       "      <td>0.000000</td>\n",
       "    </tr>\n",
       "    <tr>\n",
       "      <th>25%</th>\n",
       "      <td>49.925000</td>\n",
       "      <td>0.000000</td>\n",
       "      <td>20.000000</td>\n",
       "      <td>40.000000</td>\n",
       "      <td>0.000000</td>\n",
       "      <td>10.000000</td>\n",
       "      <td>0.000000</td>\n",
       "      <td>0.000000</td>\n",
       "      <td>0.000000</td>\n",
       "      <td>1.000000</td>\n",
       "    </tr>\n",
       "    <tr>\n",
       "      <th>50%</th>\n",
       "      <td>63.650000</td>\n",
       "      <td>0.000000</td>\n",
       "      <td>20.000000</td>\n",
       "      <td>50.000000</td>\n",
       "      <td>2.000000</td>\n",
       "      <td>10.000000</td>\n",
       "      <td>185.000000</td>\n",
       "      <td>0.000000</td>\n",
       "      <td>0.000000</td>\n",
       "      <td>2.000000</td>\n",
       "    </tr>\n",
       "    <tr>\n",
       "      <th>75%</th>\n",
       "      <td>82.475000</td>\n",
       "      <td>0.000000</td>\n",
       "      <td>20.000000</td>\n",
       "      <td>50.000000</td>\n",
       "      <td>3.000000</td>\n",
       "      <td>50.000000</td>\n",
       "      <td>313.750000</td>\n",
       "      <td>1.000000</td>\n",
       "      <td>0.000000</td>\n",
       "      <td>2.000000</td>\n",
       "    </tr>\n",
       "    <tr>\n",
       "      <th>max</th>\n",
       "      <td>703.000000</td>\n",
       "      <td>1.000000</td>\n",
       "      <td>89.000000</td>\n",
       "      <td>50.000000</td>\n",
       "      <td>700.000000</td>\n",
       "      <td>50.000000</td>\n",
       "      <td>1022.000000</td>\n",
       "      <td>1.000000</td>\n",
       "      <td>1.000000</td>\n",
       "      <td>3.000000</td>\n",
       "    </tr>\n",
       "  </tbody>\n",
       "</table>\n",
       "</div>"
      ],
      "text/plain": [
       "            Price  IsFreeship  AuthorScore  PublisherScore  PublisherCode  \\\n",
       "count  790.000000  790.000000   790.000000      790.000000     790.000000   \n",
       "mean    80.194013    0.178481    24.592405       42.227848      95.175949   \n",
       "std     67.271250    0.383160    16.603203       13.755008     238.250815   \n",
       "min      9.900000    0.000000    20.000000       10.000000       0.000000   \n",
       "25%     49.925000    0.000000    20.000000       40.000000       0.000000   \n",
       "50%     63.650000    0.000000    20.000000       50.000000       2.000000   \n",
       "75%     82.475000    0.000000    20.000000       50.000000       3.000000   \n",
       "max    703.000000    1.000000    89.000000       50.000000     700.000000   \n",
       "\n",
       "       BrandScore     PageSize  IsPractise  IsFramework   SellLevel  \n",
       "count  790.000000   790.000000  790.000000   790.000000  790.000000  \n",
       "mean    25.101266   176.893671    0.317722     0.135443    1.611392  \n",
       "std     17.655408   188.177926    0.465886     0.342413    0.891942  \n",
       "min     10.000000     0.000000    0.000000     0.000000    0.000000  \n",
       "25%     10.000000     0.000000    0.000000     0.000000    1.000000  \n",
       "50%     10.000000   185.000000    0.000000     0.000000    2.000000  \n",
       "75%     50.000000   313.750000    1.000000     0.000000    2.000000  \n",
       "max     50.000000  1022.000000    1.000000     1.000000    3.000000  "
      ]
     },
     "execution_count": 13,
     "metadata": {},
     "output_type": "execute_result"
    }
   ],
   "source": [
    "sdf.describe()"
   ]
  },
  {
   "cell_type": "code",
   "execution_count": null,
   "id": "1eab77f3",
   "metadata": {},
   "outputs": [],
   "source": []
  },
  {
   "cell_type": "markdown",
   "id": "cf3e7394",
   "metadata": {},
   "source": [
    "<h3>构建模型及训练</h3>"
   ]
  },
  {
   "cell_type": "code",
   "execution_count": 14,
   "id": "3cfc6de7",
   "metadata": {},
   "outputs": [],
   "source": [
    "# 选择特征变量和目标变量\n",
    "X = sdf.iloc[:,0:len(sdf.columns.tolist())-1].values\n",
    "y = sdf.iloc[:,len(sdf.columns.tolist())-1].values"
   ]
  },
  {
   "cell_type": "code",
   "execution_count": 15,
   "id": "f0aac051",
   "metadata": {},
   "outputs": [
    {
     "name": "stdout",
     "output_type": "stream",
     "text": [
      "train count: 711\n",
      "test count: 79\n"
     ]
    }
   ],
   "source": [
    "from sklearn.model_selection import train_test_split\n",
    "from sklearn.preprocessing import StandardScaler\n",
    "from sklearn.ensemble import RandomForestClassifier\n",
    "from sklearn.metrics import confusion_matrix\n",
    "from sklearn.metrics import accuracy_score\n",
    "from sklearn.metrics import recall_score\n",
    "import matplotlib.pyplot as plt\n",
    "from sklearn.utils import resample\n",
    "import pandas as pd\n",
    "import numpy as np\n",
    "\n",
    "\n",
    "X_train, X_test, y_train, y_test = train_test_split(X, y, test_size = 0.10, random_state = 21)\n",
    "print(\"train count:\",len(X_train))\n",
    "print(\"test count:\",len(X_test))"
   ]
  },
  {
   "cell_type": "code",
   "execution_count": 16,
   "id": "992b08d2",
   "metadata": {},
   "outputs": [],
   "source": [
    "# 对输入变量进行标准化处理\n",
    "scaler = StandardScaler()\n",
    "X_train = scaler.fit_transform(X_train)\n",
    "X_test = scaler.transform(X_test)"
   ]
  },
  {
   "cell_type": "code",
   "execution_count": 17,
   "id": "4c837387",
   "metadata": {},
   "outputs": [
    {
     "data": {
      "text/plain": [
       "RandomForestClassifier(criterion='entropy', max_depth=3, n_estimators=150,\n",
       "                       random_state=42)"
      ]
     },
     "execution_count": 17,
     "metadata": {},
     "output_type": "execute_result"
    }
   ],
   "source": [
    "classifier = RandomForestClassifier(n_estimators = 150, max_depth = 3, criterion = 'entropy',random_state = 42)\n",
    "classifier.fit(X_train, y_train)"
   ]
  },
  {
   "cell_type": "code",
   "execution_count": 18,
   "id": "35dd3737",
   "metadata": {},
   "outputs": [
    {
     "name": "stdout",
     "output_type": "stream",
     "text": [
      "Predicted Class   1   2\n",
      "Actual Class           \n",
      "0                 5   2\n",
      "1                26   3\n",
      "2                 6  25\n",
      "3                12   0\n"
     ]
    }
   ],
   "source": [
    "# 预测测试集\n",
    "y_pred = classifier.predict(X_test)\n",
    "print(pd.crosstab(y_test, y_pred, rownames=['Actual Class'], colnames=['Predicted Class']))"
   ]
  },
  {
   "cell_type": "code",
   "execution_count": 19,
   "id": "3ecb6950",
   "metadata": {},
   "outputs": [
    {
     "data": {
      "text/plain": [
       "0.6455696202531646"
      ]
     },
     "execution_count": 19,
     "metadata": {},
     "output_type": "execute_result"
    }
   ],
   "source": [
    "accuracy_score(y_test, y_pred)"
   ]
  },
  {
   "cell_type": "code",
   "execution_count": 558,
   "id": "d6ee8702",
   "metadata": {},
   "outputs": [
    {
     "name": "stdout",
     "output_type": "stream",
     "text": [
      "Feature importance ranking:\n",
      "1. feature 5 (0.342802)\n",
      "2. feature 1 (0.222356)\n",
      "3. feature 6 (0.184823)\n",
      "4. feature 0 (0.093399)\n",
      "5. feature 3 (0.058993)\n",
      "6. feature 4 (0.053921)\n",
      "7. feature 8 (0.025651)\n",
      "8. feature 2 (0.009201)\n",
      "9. feature 7 (0.008854)\n"
     ]
    },
    {
     "data": {
      "image/png": "[encoded data removed]",
      "text/plain": [
       "<Figure size 432x288 with 1 Axes>"
      ]
     },
     "metadata": {
      "needs_background": "light"
     },
     "output_type": "display_data"
    }
   ],
   "source": [
    "importances = classifier.feature_importances_\n",
    "std = np.std([tree.feature_importances_ for tree in classifier.estimators_], axis=0)\n",
    "indices = np.argsort(importances)[::-1]\n",
    "\n",
    "print(\"Feature importance ranking:\")\n",
    "\n",
    "for f in range(X.shape[1]):\n",
    "    print(\"%d. feature %d (%f)\" % (f + 1, indices[f], importances[indices[f]]))\n",
    "\n",
    "plt.figure()\n",
    "plt.title(\"Feature importances\")\n",
    "plt.bar(range(X.shape[1]), importances[indices],color=\"r\", yerr=std[indices], align=\"center\")\n",
    "plt.xticks(range(X.shape[1]), indices)\n",
    "plt.xlim([-1, X.shape[1]])\n",
    "plt.show()\n"
   ]
  },
  {
   "cell_type": "code",
   "execution_count": 559,
   "id": "3c92de10",
   "metadata": {},
   "outputs": [
    {
     "data": {
      "text/plain": [
       "[('BrandScore', 0.3428022722176),\n",
       " ('IsFreeship', 0.22235596785423495),\n",
       " ('PageSize', 0.1848230225863661),\n",
       " ('Price', 0.0933988347875788),\n",
       " ('PublisherScore', 0.05899335417414079),\n",
       " ('PublisherCode', 0.053921087685175464),\n",
       " ('IsFramework', 0.025650853746176365),\n",
       " ('AuthorScore', 0.009200572420654897),\n",
       " ('IsPractise', 0.00885403452807265)]"
      ]
     },
     "execution_count": 559,
     "metadata": {},
     "output_type": "execute_result"
    }
   ],
   "source": [
    "result_importances = list(zip(sdf.columns[0:len(sdf.columns.tolist())-1], classifier.feature_importances_))\n",
    "result_importances.sort(key=lambda x: x[1], reverse=True)\n",
    "result_importances"
   ]
  },
  {
   "cell_type": "markdown",
   "id": "25895d54",
   "metadata": {},
   "source": [
    "<h3>对比其它模型</h3>"
   ]
  },
  {
   "cell_type": "code",
   "execution_count": 560,
   "id": "3cc6a1b1",
   "metadata": {},
   "outputs": [
    {
     "data": {
      "text/plain": [
       "LogisticRegression()"
      ]
     },
     "execution_count": 560,
     "metadata": {},
     "output_type": "execute_result"
    }
   ],
   "source": [
    "from sklearn import model_selection\n",
    "from sklearn.linear_model import LogisticRegression\n",
    "model = LogisticRegression()\n",
    "model.fit(X_train, y_train)"
   ]
  },
  {
   "cell_type": "code",
   "execution_count": 561,
   "id": "eea797dc",
   "metadata": {},
   "outputs": [
    {
     "data": {
      "text/plain": [
       "0.5949367088607594"
      ]
     },
     "execution_count": 561,
     "metadata": {},
     "output_type": "execute_result"
    }
   ],
   "source": [
    "y_pred = model.predict(X_test)\n",
    "accuracy_score(y_test, y_pred)"
   ]
  },
  {
   "cell_type": "code",
   "execution_count": 611,
   "id": "fc8b2913",
   "metadata": {},
   "outputs": [
    {
     "name": "stdout",
     "output_type": "stream",
     "text": [
      "Accuracy :  0.5694444444444444\n"
     ]
    },
    {
     "data": {
      "text/plain": [
       "Text(0, 0.5, 'Feature Importance Score')"
      ]
     },
     "execution_count": 611,
     "metadata": {},
     "output_type": "execute_result"
    },
    {
     "data": {
      "image/png": "[encoded data removed]",
      "text/plain": [
       "<Figure size 432x288 with 1 Axes>"
      ]
     },
     "metadata": {
      "needs_background": "light"
     },
     "output_type": "display_data"
    }
   ],
   "source": [
    "from sklearn import metrics\n",
    "target = 'SellLevel'\n",
    "predictors = [x for x in sdf.columns if x not in [target]]\n",
    "msk = np.random.rand(len(sdf)) < 0.9\n",
    "train = sdf[msk]\n",
    "test = sdf[~msk]\n",
    "\n",
    "xgb_model = XGBClassifier(num_class=4,learning_rate =0.1, n_estimators=100,max_depth=4,\n",
    " min_child_weight=1,gamma=0,subsample=0.8,colsample_bytree=0.8, objective='multi:softmax',\n",
    " nthread=8,scale_pos_weight=0.6,seed=42)\n",
    "\n",
    "xgb_model.fit(train[predictors], train[target],eval_metric='auc')\n",
    "\n",
    "test_predictions = xgb_model.predict(test[predictors])\n",
    "test_predprob = xgb_model.predict_proba(test[predictors])[:,1]\n",
    "\n",
    "print(\"Accuracy : \", metrics.accuracy_score(test[target].values, test_predictions))\n",
    "\n",
    "feat_imp = pd.Series(xgb_model.get_booster().get_score(importance_type= 'gain')).sort_values(ascending=False)\n",
    "feat_imp.plot(kind='bar', title='Feature Importances')\n",
    "plt.ylabel('Feature Importance Score')\n",
    "    \n"
   ]
  },
  {
   "cell_type": "markdown",
   "id": "cd7ed591",
   "metadata": {},
   "source": [
    "### 关联分析"
   ]
  },
  {
   "cell_type": "code",
   "execution_count": 7,
   "id": "db6e2ef0",
   "metadata": {},
   "outputs": [
    {
     "name": "stdout",
     "output_type": "stream",
     "text": [
      "['ID', 'Name', 'Desc', 'PriceDesc', 'Price', 'Store', 'IsFreeship', 'ServiceTag', 'BookTag', 'Author', 'AuthorScore', 'PublisherScore', 'PublisherCode', 'Publisher', 'BrandScore', 'Brand', 'Package', 'PubDate', 'PubYear', 'Paper', 'Language', 'PageSize', 'CommentCount', 'GoodCount', 'BadCount', 'IsPractise', 'IsFramework', 'SellLevel', 'SellScore']\n"
     ]
    }
   ],
   "source": [
    "cols = filtered_df.columns.tolist()\n",
    "print(cols)"
   ]
  },
  {
   "cell_type": "code",
   "execution_count": 8,
   "id": "4503c031",
   "metadata": {},
   "outputs": [
    {
     "data": {
      "text/html": [
       "<div>\n",
       "<style scoped>\n",
       "    .dataframe tbody tr th:only-of-type {\n",
       "        vertical-align: middle;\n",
       "    }\n",
       "\n",
       "    .dataframe tbody tr th {\n",
       "        vertical-align: top;\n",
       "    }\n",
       "\n",
       "    .dataframe thead th {\n",
       "        text-align: right;\n",
       "    }\n",
       "</style>\n",
       "<table border=\"1\" class=\"dataframe\">\n",
       "  <thead>\n",
       "    <tr style=\"text-align: right;\">\n",
       "      <th></th>\n",
       "      <th>PriceDesc</th>\n",
       "      <th>Publisher</th>\n",
       "      <th>Author</th>\n",
       "      <th>Package</th>\n",
       "      <th>SellLevel</th>\n",
       "    </tr>\n",
       "  </thead>\n",
       "  <tbody>\n",
       "    <tr>\n",
       "      <th>0</th>\n",
       "      <td>较高</td>\n",
       "      <td>清华大学出版社</td>\n",
       "      <td>邹伟</td>\n",
       "      <td>平装</td>\n",
       "      <td>一般</td>\n",
       "    </tr>\n",
       "    <tr>\n",
       "      <th>1</th>\n",
       "      <td>中</td>\n",
       "      <td>清华大学出版社</td>\n",
       "      <td>周志华</td>\n",
       "      <td>NaN</td>\n",
       "      <td>一般</td>\n",
       "    </tr>\n",
       "    <tr>\n",
       "      <th>2</th>\n",
       "      <td>高</td>\n",
       "      <td>清华大学出版社</td>\n",
       "      <td>周志华</td>\n",
       "      <td>NaN</td>\n",
       "      <td>一般</td>\n",
       "    </tr>\n",
       "    <tr>\n",
       "      <th>3</th>\n",
       "      <td>中</td>\n",
       "      <td>清华大学出版社</td>\n",
       "      <td>周志华</td>\n",
       "      <td>NaN</td>\n",
       "      <td>一般</td>\n",
       "    </tr>\n",
       "    <tr>\n",
       "      <th>4</th>\n",
       "      <td>低</td>\n",
       "      <td>机械工业出版社</td>\n",
       "      <td>美 Tom Mitchell</td>\n",
       "      <td>NaN</td>\n",
       "      <td>一般</td>\n",
       "    </tr>\n",
       "  </tbody>\n",
       "</table>\n",
       "</div>"
      ],
      "text/plain": [
       "  PriceDesc Publisher          Author Package SellLevel\n",
       "0        较高   清华大学出版社              邹伟      平装        一般\n",
       "1         中   清华大学出版社             周志华     NaN        一般\n",
       "2         高   清华大学出版社             周志华     NaN        一般\n",
       "3         中   清华大学出版社             周志华     NaN        一般\n",
       "4         低   机械工业出版社  美 Tom Mitchell     NaN        一般"
      ]
     },
     "execution_count": 8,
     "metadata": {},
     "output_type": "execute_result"
    }
   ],
   "source": [
    "#选择关联分析的字段\n",
    "adf = filtered_df[[\"PriceDesc\", \"Publisher\", 'Author',\"Package\",\"SellLevel\"]]\n",
    "adf.head()"
   ]
  },
  {
   "cell_type": "code",
   "execution_count": 9,
   "id": "6140e332",
   "metadata": {},
   "outputs": [
    {
     "name": "stderr",
     "output_type": "stream",
     "text": [
      "/opt/miniconda3/envs/book/lib/python3.7/site-packages/ipykernel_launcher.py:2: SettingWithCopyWarning: \n",
      "A value is trying to be set on a copy of a slice from a DataFrame.\n",
      "Try using .loc[row_indexer,col_indexer] = value instead\n",
      "\n",
      "See the caveats in the documentation: https://pandas.pydata.org/pandas-docs/stable/user_guide/indexing.html#returning-a-view-versus-a-copy\n",
      "  \n"
     ]
    }
   ],
   "source": [
    "#包装为空的字段全部置为'平装'\n",
    "adf['Package'] =  adf['Package'].fillna('平装')\n",
    "# 过滤作者为空的数据\n",
    "adf = adf[adf['Author'].notnull()]\n",
    "# 滤除出版社为空的数据\n",
    "adf = adf[adf['Publisher'].notnull()]"
   ]
  },
  {
   "cell_type": "code",
   "execution_count": 10,
   "id": "5609c3c6",
   "metadata": {},
   "outputs": [
    {
     "data": {
      "text/html": [
       "<div>\n",
       "<style scoped>\n",
       "    .dataframe tbody tr th:only-of-type {\n",
       "        vertical-align: middle;\n",
       "    }\n",
       "\n",
       "    .dataframe tbody tr th {\n",
       "        vertical-align: top;\n",
       "    }\n",
       "\n",
       "    .dataframe thead th {\n",
       "        text-align: right;\n",
       "    }\n",
       "</style>\n",
       "<table border=\"1\" class=\"dataframe\">\n",
       "  <thead>\n",
       "    <tr style=\"text-align: right;\">\n",
       "      <th></th>\n",
       "      <th>PriceDesc</th>\n",
       "      <th>Publisher</th>\n",
       "      <th>Author</th>\n",
       "      <th>Package</th>\n",
       "      <th>SellLevel</th>\n",
       "    </tr>\n",
       "  </thead>\n",
       "  <tbody>\n",
       "    <tr>\n",
       "      <th>0</th>\n",
       "      <td>较高</td>\n",
       "      <td>清华大学出版社</td>\n",
       "      <td>邹伟</td>\n",
       "      <td>平装</td>\n",
       "      <td>一般</td>\n",
       "    </tr>\n",
       "    <tr>\n",
       "      <th>1</th>\n",
       "      <td>中</td>\n",
       "      <td>清华大学出版社</td>\n",
       "      <td>周志华</td>\n",
       "      <td>平装</td>\n",
       "      <td>一般</td>\n",
       "    </tr>\n",
       "    <tr>\n",
       "      <th>2</th>\n",
       "      <td>高</td>\n",
       "      <td>清华大学出版社</td>\n",
       "      <td>周志华</td>\n",
       "      <td>平装</td>\n",
       "      <td>一般</td>\n",
       "    </tr>\n",
       "    <tr>\n",
       "      <th>3</th>\n",
       "      <td>中</td>\n",
       "      <td>清华大学出版社</td>\n",
       "      <td>周志华</td>\n",
       "      <td>平装</td>\n",
       "      <td>一般</td>\n",
       "    </tr>\n",
       "    <tr>\n",
       "      <th>4</th>\n",
       "      <td>低</td>\n",
       "      <td>机械工业出版社</td>\n",
       "      <td>美 Tom Mitchell</td>\n",
       "      <td>平装</td>\n",
       "      <td>一般</td>\n",
       "    </tr>\n",
       "  </tbody>\n",
       "</table>\n",
       "</div>"
      ],
      "text/plain": [
       "  PriceDesc Publisher          Author Package SellLevel\n",
       "0        较高   清华大学出版社              邹伟      平装        一般\n",
       "1         中   清华大学出版社             周志华      平装        一般\n",
       "2         高   清华大学出版社             周志华      平装        一般\n",
       "3         中   清华大学出版社             周志华      平装        一般\n",
       "4         低   机械工业出版社  美 Tom Mitchell      平装        一般"
      ]
     },
     "execution_count": 10,
     "metadata": {},
     "output_type": "execute_result"
    }
   ],
   "source": [
    "adf.head()"
   ]
  },
  {
   "cell_type": "code",
   "execution_count": 11,
   "id": "599daccf",
   "metadata": {},
   "outputs": [
    {
     "name": "stdout",
     "output_type": "stream",
     "text": [
      "<class 'pandas.core.frame.DataFrame'>\n",
      "Int64Index: 700 entries, 0 to 789\n",
      "Data columns (total 5 columns):\n",
      " #   Column     Non-Null Count  Dtype \n",
      "---  ------     --------------  ----- \n",
      " 0   PriceDesc  700 non-null    object\n",
      " 1   Publisher  700 non-null    object\n",
      " 2   Author     700 non-null    object\n",
      " 3   Package    700 non-null    object\n",
      " 4   SellLevel  700 non-null    object\n",
      "dtypes: object(5)\n",
      "memory usage: 32.8+ KB\n"
     ]
    }
   ],
   "source": [
    "adf.info()"
   ]
  },
  {
   "cell_type": "code",
   "execution_count": 16,
   "id": "1d84b8e1",
   "metadata": {},
   "outputs": [],
   "source": [
    "transacts = []\n",
    "for i in range(0, len(adf)): \n",
    "    column_value = [adf.columns[j] +\"=\" + str(adf.values[i,j]) for j in range(0, len(adf.columns.tolist()))]\n",
    "    transacts.append(column_value)"
   ]
  },
  {
   "cell_type": "code",
   "execution_count": 17,
   "id": "275df981",
   "metadata": {},
   "outputs": [
    {
     "data": {
      "text/plain": [
       "['PriceDesc=较高',\n",
       " 'Publisher=清华大学出版社',\n",
       " 'Author=邹伟',\n",
       " 'Package=平装',\n",
       " 'SellLevel=一般']"
      ]
     },
     "execution_count": 17,
     "metadata": {},
     "output_type": "execute_result"
    }
   ],
   "source": [
    "# 查看构建好的第一条记录\n",
    "transacts[0]"
   ]
  },
  {
   "cell_type": "code",
   "execution_count": 13,
   "id": "4e28af97",
   "metadata": {},
   "outputs": [
    {
     "name": "stdout",
     "output_type": "stream",
     "text": [
      "Looking in indexes: https://pypi.tuna.tsinghua.edu.cn/simple\n",
      "Collecting apyori\n",
      "  Downloading https://pypi.tuna.tsinghua.edu.cn/packages/5e/62/5ffde5c473ea4b033490617ec5caa80d59804875ad3c3c57c0976533a21a/apyori-1.1.2.tar.gz (8.6 kB)\n",
      "  Preparing metadata (setup.py) ... \u001b[?25ldone\n",
      "\u001b[?25hBuilding wheels for collected packages: apyori\n",
      "  Building wheel for apyori (setup.py) ... \u001b[?25ldone\n",
      "\u001b[?25h  Created wheel for apyori: filename=apyori-1.1.2-py3-none-any.whl size=5973 sha256=adfb34fdb5651aafe8b7b8d6785ee0f3974563f8a7995c53234b87358e080e83\n",
      "  Stored in directory: /Users/lully/Library/Caches/pip/wheels/c7/e8/b8/13725570d7ceeab9f3467e44e458d272300f6663dab35de034\n",
      "Successfully built apyori\n",
      "Installing collected packages: apyori\n",
      "Successfully installed apyori-1.1.2\n"
     ]
    }
   ],
   "source": [
    "!pip install apyori"
   ]
  },
  {
   "cell_type": "code",
   "execution_count": 19,
   "id": "7f7b4277",
   "metadata": {},
   "outputs": [
    {
     "data": {
      "text/plain": [
       "RelationRecord(items=frozenset({'PriceDesc=高', 'Author=Ian'}), support=0.004285714285714286, ordered_statistics=[OrderedStatistic(items_base=frozenset({'Author=Ian'}), items_add=frozenset({'PriceDesc=高'}), confidence=1.0, lift=6.862745098039216)])"
      ]
     },
     "execution_count": 19,
     "metadata": {},
     "output_type": "execute_result"
    }
   ],
   "source": [
    "from apyori import apriori\n",
    "rule = apriori(transacts, min_support=0.003, min_confidence=0.2, min_lift=3)\n",
    "output = list(rule) \n",
    "output[0]"
   ]
  },
  {
   "cell_type": "code",
   "execution_count": 23,
   "id": "5e93d6cc",
   "metadata": {},
   "outputs": [],
   "source": [
    "def re_orgnize_result(output):\n",
    "    left         = [tuple(record[2][0][0])[0] for record in output]\n",
    "    right         = [tuple(record[2][0][1])[0] for record in output]\n",
    "    support    = [record[1] for record in output]\n",
    "    confidence = [record[2][0][2] for record in output]\n",
    "    lift       = [record[2][0][3] for record in output]\n",
    "    return list(zip(left, right, support, confidence, lift))\n",
    "results = re_orgnize_result(output)\n",
    "odf = pd.DataFrame(results, columns = ['前项', '后项', '支持度', '置信度', '提升度'])\n",
    "odf = odf.drop_duplicates(keep='first') #去重"
   ]
  },
  {
   "cell_type": "code",
   "execution_count": 24,
   "id": "0520659b",
   "metadata": {},
   "outputs": [
    {
     "data": {
      "text/html": [
       "<div>\n",
       "<style scoped>\n",
       "    .dataframe tbody tr th:only-of-type {\n",
       "        vertical-align: middle;\n",
       "    }\n",
       "\n",
       "    .dataframe tbody tr th {\n",
       "        vertical-align: top;\n",
       "    }\n",
       "\n",
       "    .dataframe thead th {\n",
       "        text-align: right;\n",
       "    }\n",
       "</style>\n",
       "<table border=\"1\" class=\"dataframe\">\n",
       "  <thead>\n",
       "    <tr style=\"text-align: right;\">\n",
       "      <th></th>\n",
       "      <th>前项</th>\n",
       "      <th>后项</th>\n",
       "      <th>支持度</th>\n",
       "      <th>置信度</th>\n",
       "      <th>提升度</th>\n",
       "    </tr>\n",
       "  </thead>\n",
       "  <tbody>\n",
       "    <tr>\n",
       "      <th>0</th>\n",
       "      <td>Author=Ian</td>\n",
       "      <td>PriceDesc=高</td>\n",
       "      <td>0.004286</td>\n",
       "      <td>1.0</td>\n",
       "      <td>6.862745</td>\n",
       "    </tr>\n",
       "    <tr>\n",
       "      <th>1</th>\n",
       "      <td>Author=Ian</td>\n",
       "      <td>Publisher=人民邮电出版社</td>\n",
       "      <td>0.004286</td>\n",
       "      <td>1.0</td>\n",
       "      <td>3.954802</td>\n",
       "    </tr>\n",
       "    <tr>\n",
       "      <th>2</th>\n",
       "      <td>Author=IanGoodfellow</td>\n",
       "      <td>PriceDesc=高</td>\n",
       "      <td>0.007143</td>\n",
       "      <td>1.0</td>\n",
       "      <td>6.862745</td>\n",
       "    </tr>\n",
       "    <tr>\n",
       "      <th>3</th>\n",
       "      <td>Author=IanGoodfellow</td>\n",
       "      <td>Publisher=人民邮电出版社</td>\n",
       "      <td>0.007143</td>\n",
       "      <td>1.0</td>\n",
       "      <td>3.954802</td>\n",
       "    </tr>\n",
       "    <tr>\n",
       "      <th>4</th>\n",
       "      <td>Author=何宇健</td>\n",
       "      <td>Publisher=电子工业出版社</td>\n",
       "      <td>0.004286</td>\n",
       "      <td>1.0</td>\n",
       "      <td>10.144928</td>\n",
       "    </tr>\n",
       "  </tbody>\n",
       "</table>\n",
       "</div>"
      ],
      "text/plain": [
       "                     前项                 后项       支持度  置信度        提升度\n",
       "0            Author=Ian        PriceDesc=高  0.004286  1.0   6.862745\n",
       "1            Author=Ian  Publisher=人民邮电出版社  0.004286  1.0   3.954802\n",
       "2  Author=IanGoodfellow        PriceDesc=高  0.007143  1.0   6.862745\n",
       "3  Author=IanGoodfellow  Publisher=人民邮电出版社  0.007143  1.0   3.954802\n",
       "4            Author=何宇健  Publisher=电子工业出版社  0.004286  1.0  10.144928"
      ]
     },
     "execution_count": 24,
     "metadata": {},
     "output_type": "execute_result"
    }
   ],
   "source": [
    "odf.head()"
   ]
  },
  {
   "cell_type": "code",
   "execution_count": 443,
   "id": "9fa1384a",
   "metadata": {},
   "outputs": [
    {
     "data": {
      "text/html": [
       "<div>\n",
       "<style scoped>\n",
       "    .dataframe tbody tr th:only-of-type {\n",
       "        vertical-align: middle;\n",
       "    }\n",
       "\n",
       "    .dataframe tbody tr th {\n",
       "        vertical-align: top;\n",
       "    }\n",
       "\n",
       "    .dataframe thead th {\n",
       "        text-align: right;\n",
       "    }\n",
       "</style>\n",
       "<table border=\"1\" class=\"dataframe\">\n",
       "  <thead>\n",
       "    <tr style=\"text-align: right;\">\n",
       "      <th></th>\n",
       "      <th>前项</th>\n",
       "      <th>后项</th>\n",
       "      <th>支持度</th>\n",
       "      <th>置信度</th>\n",
       "      <th>提升度</th>\n",
       "    </tr>\n",
       "  </thead>\n",
       "  <tbody>\n",
       "    <tr>\n",
       "      <th>11</th>\n",
       "      <td>Author=周志华等</td>\n",
       "      <td>Publisher=机械工业出版社、电子工业出版社、清华大学出版社</td>\n",
       "      <td>0.012857</td>\n",
       "      <td>0.750000</td>\n",
       "      <td>58.333333</td>\n",
       "    </tr>\n",
       "    <tr>\n",
       "      <th>65</th>\n",
       "      <td>Author=周志华等</td>\n",
       "      <td>SellLevel=较不畅销</td>\n",
       "      <td>0.012857</td>\n",
       "      <td>0.750000</td>\n",
       "      <td>58.333333</td>\n",
       "    </tr>\n",
       "    <tr>\n",
       "      <th>63</th>\n",
       "      <td>Author=周志华等</td>\n",
       "      <td>PriceDesc=中</td>\n",
       "      <td>0.008571</td>\n",
       "      <td>0.500000</td>\n",
       "      <td>58.333333</td>\n",
       "    </tr>\n",
       "    <tr>\n",
       "      <th>140</th>\n",
       "      <td>Author=周志华等</td>\n",
       "      <td>SellLevel=较不畅销</td>\n",
       "      <td>0.008571</td>\n",
       "      <td>0.500000</td>\n",
       "      <td>58.333333</td>\n",
       "    </tr>\n",
       "    <tr>\n",
       "      <th>168</th>\n",
       "      <td>Author=IanGoodfellow</td>\n",
       "      <td>SellLevel=较不畅销</td>\n",
       "      <td>0.004286</td>\n",
       "      <td>0.600000</td>\n",
       "      <td>30.000000</td>\n",
       "    </tr>\n",
       "    <tr>\n",
       "      <th>120</th>\n",
       "      <td>Author=IanGoodfellow</td>\n",
       "      <td>Publisher=人民邮电出版社</td>\n",
       "      <td>0.007143</td>\n",
       "      <td>1.000000</td>\n",
       "      <td>29.166667</td>\n",
       "    </tr>\n",
       "    <tr>\n",
       "      <th>109</th>\n",
       "      <td>Package=精装</td>\n",
       "      <td>PriceDesc=中</td>\n",
       "      <td>0.004286</td>\n",
       "      <td>0.230769</td>\n",
       "      <td>26.923077</td>\n",
       "    </tr>\n",
       "    <tr>\n",
       "      <th>141</th>\n",
       "      <td>Author=周志华著</td>\n",
       "      <td>SellLevel=一般</td>\n",
       "      <td>0.004286</td>\n",
       "      <td>1.000000</td>\n",
       "      <td>26.923077</td>\n",
       "    </tr>\n",
       "    <tr>\n",
       "      <th>68</th>\n",
       "      <td>Author=周志华著</td>\n",
       "      <td>SellLevel=一般</td>\n",
       "      <td>0.004286</td>\n",
       "      <td>1.000000</td>\n",
       "      <td>25.925926</td>\n",
       "    </tr>\n",
       "    <tr>\n",
       "      <th>39</th>\n",
       "      <td>Author=Ian</td>\n",
       "      <td>PriceDesc=高</td>\n",
       "      <td>0.004286</td>\n",
       "      <td>1.000000</td>\n",
       "      <td>25.000000</td>\n",
       "    </tr>\n",
       "  </tbody>\n",
       "</table>\n",
       "</div>"
      ],
      "text/plain": [
       "                       前项                                 后项       支持度  \\\n",
       "11            Author=周志华等  Publisher=机械工业出版社、电子工业出版社、清华大学出版社  0.012857   \n",
       "65            Author=周志华等                     SellLevel=较不畅销  0.012857   \n",
       "63            Author=周志华等                        PriceDesc=中  0.008571   \n",
       "140           Author=周志华等                     SellLevel=较不畅销  0.008571   \n",
       "168  Author=IanGoodfellow                     SellLevel=较不畅销  0.004286   \n",
       "120  Author=IanGoodfellow                  Publisher=人民邮电出版社  0.007143   \n",
       "109            Package=精装                        PriceDesc=中  0.004286   \n",
       "141           Author=周志华著                       SellLevel=一般  0.004286   \n",
       "68            Author=周志华著                       SellLevel=一般  0.004286   \n",
       "39             Author=Ian                        PriceDesc=高  0.004286   \n",
       "\n",
       "          置信度        提升度  \n",
       "11   0.750000  58.333333  \n",
       "65   0.750000  58.333333  \n",
       "63   0.500000  58.333333  \n",
       "140  0.500000  58.333333  \n",
       "168  0.600000  30.000000  \n",
       "120  1.000000  29.166667  \n",
       "109  0.230769  26.923077  \n",
       "141  1.000000  26.923077  \n",
       "68   1.000000  25.925926  \n",
       "39   1.000000  25.000000  "
      ]
     },
     "execution_count": 443,
     "metadata": {},
     "output_type": "execute_result"
    }
   ],
   "source": [
    "odf.nlargest(n = 10, columns = ['提升度'])"
   ]
  },
  {
   "cell_type": "code",
   "execution_count": 444,
   "id": "5aaf3af6",
   "metadata": {},
   "outputs": [
    {
     "data": {
      "text/html": [
       "<div>\n",
       "<style scoped>\n",
       "    .dataframe tbody tr th:only-of-type {\n",
       "        vertical-align: middle;\n",
       "    }\n",
       "\n",
       "    .dataframe tbody tr th {\n",
       "        vertical-align: top;\n",
       "    }\n",
       "\n",
       "    .dataframe thead th {\n",
       "        text-align: right;\n",
       "    }\n",
       "</style>\n",
       "<table border=\"1\" class=\"dataframe\">\n",
       "  <thead>\n",
       "    <tr style=\"text-align: right;\">\n",
       "      <th></th>\n",
       "      <th>前项</th>\n",
       "      <th>后项</th>\n",
       "      <th>支持度</th>\n",
       "      <th>置信度</th>\n",
       "      <th>提升度</th>\n",
       "    </tr>\n",
       "  </thead>\n",
       "  <tbody>\n",
       "    <tr>\n",
       "      <th>97</th>\n",
       "      <td>Author=诸葛越</td>\n",
       "      <td>SellLevel=畅销</td>\n",
       "      <td>0.004286</td>\n",
       "      <td>0.6</td>\n",
       "      <td>8.235294</td>\n",
       "    </tr>\n",
       "  </tbody>\n",
       "</table>\n",
       "</div>"
      ],
      "text/plain": [
       "            前项            后项       支持度  置信度       提升度\n",
       "97  Author=诸葛越  SellLevel=畅销  0.004286  0.6  8.235294"
      ]
     },
     "execution_count": 444,
     "metadata": {},
     "output_type": "execute_result"
    }
   ],
   "source": [
    "rslt_df = odf[odf['后项'] == 'SellLevel=畅销'] \n",
    "rslt_df = rslt_df[rslt_df['前项'].str.contains(\"Author\")]\n",
    "rslt_df.nlargest(n = 10, columns = ['提升度'])"
   ]
  },
  {
   "cell_type": "code",
   "execution_count": 445,
   "id": "90c65aa9",
   "metadata": {},
   "outputs": [
    {
     "data": {
      "text/html": [
       "<div>\n",
       "<style scoped>\n",
       "    .dataframe tbody tr th:only-of-type {\n",
       "        vertical-align: middle;\n",
       "    }\n",
       "\n",
       "    .dataframe tbody tr th {\n",
       "        vertical-align: top;\n",
       "    }\n",
       "\n",
       "    .dataframe thead th {\n",
       "        text-align: right;\n",
       "    }\n",
       "</style>\n",
       "<table border=\"1\" class=\"dataframe\">\n",
       "  <thead>\n",
       "    <tr style=\"text-align: right;\">\n",
       "      <th></th>\n",
       "      <th>前项</th>\n",
       "      <th>后项</th>\n",
       "      <th>支持度</th>\n",
       "      <th>置信度</th>\n",
       "      <th>提升度</th>\n",
       "    </tr>\n",
       "  </thead>\n",
       "  <tbody>\n",
       "    <tr>\n",
       "      <th>118</th>\n",
       "      <td>Publisher=科学出版社</td>\n",
       "      <td>SellLevel=不畅销</td>\n",
       "      <td>0.005714</td>\n",
       "      <td>0.500000</td>\n",
       "      <td>10.294118</td>\n",
       "    </tr>\n",
       "    <tr>\n",
       "      <th>116</th>\n",
       "      <td>Publisher=东南大学出版社</td>\n",
       "      <td>SellLevel=不畅销</td>\n",
       "      <td>0.005714</td>\n",
       "      <td>0.222222</td>\n",
       "      <td>4.575163</td>\n",
       "    </tr>\n",
       "    <tr>\n",
       "      <th>106</th>\n",
       "      <td>Publisher=科学出版社</td>\n",
       "      <td>SellLevel=不畅销</td>\n",
       "      <td>0.007143</td>\n",
       "      <td>0.625000</td>\n",
       "      <td>3.871681</td>\n",
       "    </tr>\n",
       "    <tr>\n",
       "      <th>38</th>\n",
       "      <td>Publisher=科学出版社</td>\n",
       "      <td>SellLevel=不畅销</td>\n",
       "      <td>0.007143</td>\n",
       "      <td>0.625000</td>\n",
       "      <td>3.739316</td>\n",
       "    </tr>\n",
       "  </tbody>\n",
       "</table>\n",
       "</div>"
      ],
      "text/plain": [
       "                    前项             后项       支持度       置信度        提升度\n",
       "118    Publisher=科学出版社  SellLevel=不畅销  0.005714  0.500000  10.294118\n",
       "116  Publisher=东南大学出版社  SellLevel=不畅销  0.005714  0.222222   4.575163\n",
       "106    Publisher=科学出版社  SellLevel=不畅销  0.007143  0.625000   3.871681\n",
       "38     Publisher=科学出版社  SellLevel=不畅销  0.007143  0.625000   3.739316"
      ]
     },
     "execution_count": 445,
     "metadata": {},
     "output_type": "execute_result"
    }
   ],
   "source": [
    "rslt_df = odf[odf['后项'] == 'SellLevel=不畅销'] \n",
    "rslt_df = rslt_df[rslt_df['前项'].str.contains(\"Publisher\")]\n",
    "rslt_df.nlargest(n = 10, columns = ['提升度'])"
   ]
  },
  {
   "cell_type": "code",
   "execution_count": 446,
   "id": "a02699b9",
   "metadata": {},
   "outputs": [
    {
     "data": {
      "text/html": [
       "<div>\n",
       "<style scoped>\n",
       "    .dataframe tbody tr th:only-of-type {\n",
       "        vertical-align: middle;\n",
       "    }\n",
       "\n",
       "    .dataframe tbody tr th {\n",
       "        vertical-align: top;\n",
       "    }\n",
       "\n",
       "    .dataframe thead th {\n",
       "        text-align: right;\n",
       "    }\n",
       "</style>\n",
       "<table border=\"1\" class=\"dataframe\">\n",
       "  <thead>\n",
       "    <tr style=\"text-align: right;\">\n",
       "      <th></th>\n",
       "      <th>前项</th>\n",
       "      <th>后项</th>\n",
       "      <th>支持度</th>\n",
       "      <th>置信度</th>\n",
       "      <th>提升度</th>\n",
       "    </tr>\n",
       "  </thead>\n",
       "  <tbody>\n",
       "    <tr>\n",
       "      <th>169</th>\n",
       "      <td>PriceDesc=中</td>\n",
       "      <td>SellLevel=不畅销</td>\n",
       "      <td>0.004286</td>\n",
       "      <td>0.3</td>\n",
       "      <td>16.153846</td>\n",
       "    </tr>\n",
       "    <tr>\n",
       "      <th>132</th>\n",
       "      <td>PriceDesc=中</td>\n",
       "      <td>SellLevel=不畅销</td>\n",
       "      <td>0.004286</td>\n",
       "      <td>0.3</td>\n",
       "      <td>15.000000</td>\n",
       "    </tr>\n",
       "  </tbody>\n",
       "</table>\n",
       "</div>"
      ],
      "text/plain": [
       "              前项             后项       支持度  置信度        提升度\n",
       "169  PriceDesc=中  SellLevel=不畅销  0.004286  0.3  16.153846\n",
       "132  PriceDesc=中  SellLevel=不畅销  0.004286  0.3  15.000000"
      ]
     },
     "execution_count": 446,
     "metadata": {},
     "output_type": "execute_result"
    }
   ],
   "source": [
    "rslt_df = odf[odf['后项'] == 'SellLevel=不畅销'] \n",
    "rslt_df = rslt_df[rslt_df['前项'].str.contains(\"Price\")]\n",
    "rslt_df.nlargest(n = 10, columns = ['提升度'])"
   ]
  },
  {
   "cell_type": "code",
   "execution_count": 447,
   "id": "36366919",
   "metadata": {},
   "outputs": [
    {
     "data": {
      "text/html": [
       "<div>\n",
       "<style scoped>\n",
       "    .dataframe tbody tr th:only-of-type {\n",
       "        vertical-align: middle;\n",
       "    }\n",
       "\n",
       "    .dataframe tbody tr th {\n",
       "        vertical-align: top;\n",
       "    }\n",
       "\n",
       "    .dataframe thead th {\n",
       "        text-align: right;\n",
       "    }\n",
       "</style>\n",
       "<table border=\"1\" class=\"dataframe\">\n",
       "  <thead>\n",
       "    <tr style=\"text-align: right;\">\n",
       "      <th></th>\n",
       "      <th>前项</th>\n",
       "      <th>后项</th>\n",
       "      <th>支持度</th>\n",
       "      <th>置信度</th>\n",
       "      <th>提升度</th>\n",
       "    </tr>\n",
       "  </thead>\n",
       "  <tbody>\n",
       "  </tbody>\n",
       "</table>\n",
       "</div>"
      ],
      "text/plain": [
       "Empty DataFrame\n",
       "Columns: [前项, 后项, 支持度, 置信度, 提升度]\n",
       "Index: []"
      ]
     },
     "execution_count": 447,
     "metadata": {},
     "output_type": "execute_result"
    }
   ],
   "source": [
    "rslt_df = odf[odf['后项'] == 'SellLevel=畅销'] \n",
    "rslt_df = rslt_df[rslt_df['前项'].str.contains(\"PriceDesc\")]\n",
    "# rslt_df = rslt_df[rslt_df['前项'].str.contains(\"Package\")]\n",
    "rslt_df.nlargest(n = 10, columns = ['提升度'])"
   ]
  },
  {
   "cell_type": "code",
   "execution_count": 451,
   "id": "30e2925a",
   "metadata": {},
   "outputs": [
    {
     "data": {
      "text/html": [
       "<div>\n",
       "<style scoped>\n",
       "    .dataframe tbody tr th:only-of-type {\n",
       "        vertical-align: middle;\n",
       "    }\n",
       "\n",
       "    .dataframe tbody tr th {\n",
       "        vertical-align: top;\n",
       "    }\n",
       "\n",
       "    .dataframe thead th {\n",
       "        text-align: right;\n",
       "    }\n",
       "</style>\n",
       "<table border=\"1\" class=\"dataframe\">\n",
       "  <thead>\n",
       "    <tr style=\"text-align: right;\">\n",
       "      <th></th>\n",
       "      <th>前项</th>\n",
       "      <th>后项</th>\n",
       "      <th>支持度</th>\n",
       "      <th>置信度</th>\n",
       "      <th>提升度</th>\n",
       "    </tr>\n",
       "  </thead>\n",
       "  <tbody>\n",
       "    <tr>\n",
       "      <th>99</th>\n",
       "      <td>Author=赵卫东</td>\n",
       "      <td>PriceDesc=中</td>\n",
       "      <td>0.004286</td>\n",
       "      <td>0.75</td>\n",
       "      <td>5.769231</td>\n",
       "    </tr>\n",
       "    <tr>\n",
       "      <th>157</th>\n",
       "      <td>Author=赵卫东</td>\n",
       "      <td>Package=平装</td>\n",
       "      <td>0.004286</td>\n",
       "      <td>0.75</td>\n",
       "      <td>5.769231</td>\n",
       "    </tr>\n",
       "    <tr>\n",
       "      <th>98</th>\n",
       "      <td>Author=赵卫东</td>\n",
       "      <td>Package=平装</td>\n",
       "      <td>0.004286</td>\n",
       "      <td>0.75</td>\n",
       "      <td>3.034682</td>\n",
       "    </tr>\n",
       "  </tbody>\n",
       "</table>\n",
       "</div>"
      ],
      "text/plain": [
       "             前项           后项       支持度   置信度       提升度\n",
       "99   Author=赵卫东  PriceDesc=中  0.004286  0.75  5.769231\n",
       "157  Author=赵卫东   Package=平装  0.004286  0.75  5.769231\n",
       "98   Author=赵卫东   Package=平装  0.004286  0.75  3.034682"
      ]
     },
     "execution_count": 451,
     "metadata": {},
     "output_type": "execute_result"
    }
   ],
   "source": [
    "rslt_df = odf[odf['前项'] == 'Author=赵卫东'] \n",
    "rslt_df.nlargest(n = 10, columns = ['提升度'])"
   ]
  },
  {
   "cell_type": "code",
   "execution_count": 450,
   "id": "ea415183",
   "metadata": {},
   "outputs": [
    {
     "data": {
      "text/html": [
       "<div>\n",
       "<style scoped>\n",
       "    .dataframe tbody tr th:only-of-type {\n",
       "        vertical-align: middle;\n",
       "    }\n",
       "\n",
       "    .dataframe tbody tr th {\n",
       "        vertical-align: top;\n",
       "    }\n",
       "\n",
       "    .dataframe thead th {\n",
       "        text-align: right;\n",
       "    }\n",
       "</style>\n",
       "<table border=\"1\" class=\"dataframe\">\n",
       "  <thead>\n",
       "    <tr style=\"text-align: right;\">\n",
       "      <th></th>\n",
       "      <th>前项</th>\n",
       "      <th>后项</th>\n",
       "      <th>支持度</th>\n",
       "      <th>置信度</th>\n",
       "      <th>提升度</th>\n",
       "    </tr>\n",
       "  </thead>\n",
       "  <tbody>\n",
       "    <tr>\n",
       "      <th>104</th>\n",
       "      <td>Author=黄佳</td>\n",
       "      <td>Publisher=人民邮电出版社</td>\n",
       "      <td>0.004286</td>\n",
       "      <td>1.0</td>\n",
       "      <td>4.046243</td>\n",
       "    </tr>\n",
       "    <tr>\n",
       "      <th>33</th>\n",
       "      <td>Author=黄佳</td>\n",
       "      <td>Publisher=人民邮电出版社</td>\n",
       "      <td>0.004286</td>\n",
       "      <td>1.0</td>\n",
       "      <td>3.954802</td>\n",
       "    </tr>\n",
       "  </tbody>\n",
       "</table>\n",
       "</div>"
      ],
      "text/plain": [
       "            前项                 后项       支持度  置信度       提升度\n",
       "104  Author=黄佳  Publisher=人民邮电出版社  0.004286  1.0  4.046243\n",
       "33   Author=黄佳  Publisher=人民邮电出版社  0.004286  1.0  3.954802"
      ]
     },
     "execution_count": 450,
     "metadata": {},
     "output_type": "execute_result"
    }
   ],
   "source": [
    "rslt_df = odf[odf['前项'] == 'Author=黄佳'] \n",
    "rslt_df.nlargest(n = 10, columns = ['提升度'])"
   ]
  },
  {
   "cell_type": "code",
   "execution_count": 457,
   "id": "9a85cec8",
   "metadata": {},
   "outputs": [
    {
     "data": {
      "text/html": [
       "<div>\n",
       "<style scoped>\n",
       "    .dataframe tbody tr th:only-of-type {\n",
       "        vertical-align: middle;\n",
       "    }\n",
       "\n",
       "    .dataframe tbody tr th {\n",
       "        vertical-align: top;\n",
       "    }\n",
       "\n",
       "    .dataframe thead th {\n",
       "        text-align: right;\n",
       "    }\n",
       "</style>\n",
       "<table border=\"1\" class=\"dataframe\">\n",
       "  <thead>\n",
       "    <tr style=\"text-align: right;\">\n",
       "      <th></th>\n",
       "      <th>前项</th>\n",
       "      <th>后项</th>\n",
       "      <th>支持度</th>\n",
       "      <th>置信度</th>\n",
       "      <th>提升度</th>\n",
       "    </tr>\n",
       "  </thead>\n",
       "  <tbody>\n",
       "    <tr>\n",
       "      <th>75</th>\n",
       "      <td>Author=奥雷利安·杰龙</td>\n",
       "      <td>Publisher=机械工业出版社</td>\n",
       "      <td>0.004286</td>\n",
       "      <td>0.6</td>\n",
       "      <td>16.800000</td>\n",
       "    </tr>\n",
       "    <tr>\n",
       "      <th>125</th>\n",
       "      <td>Author=刘铁岩 陈薇 王太峰 高飞</td>\n",
       "      <td>Publisher=机械工业出版社</td>\n",
       "      <td>0.004286</td>\n",
       "      <td>1.0</td>\n",
       "      <td>5.882353</td>\n",
       "    </tr>\n",
       "    <tr>\n",
       "      <th>126</th>\n",
       "      <td>Author=加 Simon Haykin</td>\n",
       "      <td>Publisher=机械工业出版社</td>\n",
       "      <td>0.004286</td>\n",
       "      <td>1.0</td>\n",
       "      <td>5.882353</td>\n",
       "    </tr>\n",
       "    <tr>\n",
       "      <th>135</th>\n",
       "      <td>Author=周志华 王魏 高尉 张利军</td>\n",
       "      <td>Publisher=机械工业出版社</td>\n",
       "      <td>0.004286</td>\n",
       "      <td>1.0</td>\n",
       "      <td>5.882353</td>\n",
       "    </tr>\n",
       "    <tr>\n",
       "      <th>148</th>\n",
       "      <td>Author=海金</td>\n",
       "      <td>Publisher=机械工业出版社</td>\n",
       "      <td>0.004286</td>\n",
       "      <td>1.0</td>\n",
       "      <td>5.882353</td>\n",
       "    </tr>\n",
       "    <tr>\n",
       "      <th>153</th>\n",
       "      <td>Author=美迈克尔 贝耶勒Michael Be</td>\n",
       "      <td>Publisher=机械工业出版社</td>\n",
       "      <td>0.004286</td>\n",
       "      <td>1.0</td>\n",
       "      <td>5.882353</td>\n",
       "    </tr>\n",
       "    <tr>\n",
       "      <th>49</th>\n",
       "      <td>Author=刘铁岩 陈薇 王太峰 高飞</td>\n",
       "      <td>Publisher=机械工业出版社</td>\n",
       "      <td>0.004286</td>\n",
       "      <td>1.0</td>\n",
       "      <td>5.785124</td>\n",
       "    </tr>\n",
       "    <tr>\n",
       "      <th>51</th>\n",
       "      <td>Author=加 Simon Haykin</td>\n",
       "      <td>Publisher=机械工业出版社</td>\n",
       "      <td>0.004286</td>\n",
       "      <td>1.0</td>\n",
       "      <td>5.785124</td>\n",
       "    </tr>\n",
       "    <tr>\n",
       "      <th>61</th>\n",
       "      <td>Author=周志华 王魏 高尉 张利军</td>\n",
       "      <td>Publisher=机械工业出版社</td>\n",
       "      <td>0.004286</td>\n",
       "      <td>1.0</td>\n",
       "      <td>5.785124</td>\n",
       "    </tr>\n",
       "    <tr>\n",
       "      <th>86</th>\n",
       "      <td>Author=海金</td>\n",
       "      <td>Publisher=机械工业出版社</td>\n",
       "      <td>0.004286</td>\n",
       "      <td>1.0</td>\n",
       "      <td>5.785124</td>\n",
       "    </tr>\n",
       "  </tbody>\n",
       "</table>\n",
       "</div>"
      ],
      "text/plain": [
       "                            前项                 后项       支持度  置信度        提升度\n",
       "75              Author=奥雷利安·杰龙  Publisher=机械工业出版社  0.004286  0.6  16.800000\n",
       "125       Author=刘铁岩 陈薇 王太峰 高飞  Publisher=机械工业出版社  0.004286  1.0   5.882353\n",
       "126      Author=加 Simon Haykin  Publisher=机械工业出版社  0.004286  1.0   5.882353\n",
       "135       Author=周志华 王魏 高尉 张利军  Publisher=机械工业出版社  0.004286  1.0   5.882353\n",
       "148                  Author=海金  Publisher=机械工业出版社  0.004286  1.0   5.882353\n",
       "153  Author=美迈克尔 贝耶勒Michael Be  Publisher=机械工业出版社  0.004286  1.0   5.882353\n",
       "49        Author=刘铁岩 陈薇 王太峰 高飞  Publisher=机械工业出版社  0.004286  1.0   5.785124\n",
       "51       Author=加 Simon Haykin  Publisher=机械工业出版社  0.004286  1.0   5.785124\n",
       "61        Author=周志华 王魏 高尉 张利军  Publisher=机械工业出版社  0.004286  1.0   5.785124\n",
       "86                   Author=海金  Publisher=机械工业出版社  0.004286  1.0   5.785124"
      ]
     },
     "execution_count": 457,
     "metadata": {},
     "output_type": "execute_result"
    }
   ],
   "source": [
    "rslt_df = odf[odf['后项'] == 'Publisher=机械工业出版社'] \n",
    "rslt_df.nlargest(n = 10, columns = ['提升度'])"
   ]
  },
  {
   "cell_type": "code",
   "execution_count": 458,
   "id": "59ec3525",
   "metadata": {},
   "outputs": [
    {
     "data": {
      "text/html": [
       "<div>\n",
       "<style scoped>\n",
       "    .dataframe tbody tr th:only-of-type {\n",
       "        vertical-align: middle;\n",
       "    }\n",
       "\n",
       "    .dataframe tbody tr th {\n",
       "        vertical-align: top;\n",
       "    }\n",
       "\n",
       "    .dataframe thead th {\n",
       "        text-align: right;\n",
       "    }\n",
       "</style>\n",
       "<table border=\"1\" class=\"dataframe\">\n",
       "  <thead>\n",
       "    <tr style=\"text-align: right;\">\n",
       "      <th></th>\n",
       "      <th>前项</th>\n",
       "      <th>后项</th>\n",
       "      <th>支持度</th>\n",
       "      <th>置信度</th>\n",
       "      <th>提升度</th>\n",
       "    </tr>\n",
       "  </thead>\n",
       "  <tbody>\n",
       "    <tr>\n",
       "      <th>66</th>\n",
       "      <td>Author=周志华著</td>\n",
       "      <td>Publisher=清华大学出版社</td>\n",
       "      <td>0.004286</td>\n",
       "      <td>1.0</td>\n",
       "      <td>6.666667</td>\n",
       "    </tr>\n",
       "    <tr>\n",
       "      <th>81</th>\n",
       "      <td>Author=李航</td>\n",
       "      <td>Publisher=清华大学出版社</td>\n",
       "      <td>0.010000</td>\n",
       "      <td>1.0</td>\n",
       "      <td>6.666667</td>\n",
       "    </tr>\n",
       "    <tr>\n",
       "      <th>84</th>\n",
       "      <td>Author=林大贵</td>\n",
       "      <td>Publisher=清华大学出版社</td>\n",
       "      <td>0.004286</td>\n",
       "      <td>1.0</td>\n",
       "      <td>6.666667</td>\n",
       "    </tr>\n",
       "    <tr>\n",
       "      <th>93</th>\n",
       "      <td>Author=范淼</td>\n",
       "      <td>Publisher=清华大学出版社</td>\n",
       "      <td>0.004286</td>\n",
       "      <td>1.0</td>\n",
       "      <td>6.666667</td>\n",
       "    </tr>\n",
       "    <tr>\n",
       "      <th>100</th>\n",
       "      <td>Author=郑秋生</td>\n",
       "      <td>Publisher=清华大学出版社</td>\n",
       "      <td>0.004286</td>\n",
       "      <td>1.0</td>\n",
       "      <td>6.666667</td>\n",
       "    </tr>\n",
       "    <tr>\n",
       "      <th>101</th>\n",
       "      <td>Author=雷明</td>\n",
       "      <td>Publisher=清华大学出版社</td>\n",
       "      <td>0.005714</td>\n",
       "      <td>1.0</td>\n",
       "      <td>6.666667</td>\n",
       "    </tr>\n",
       "    <tr>\n",
       "      <th>129</th>\n",
       "      <td>SellLevel=一般</td>\n",
       "      <td>Publisher=清华大学出版社</td>\n",
       "      <td>0.004286</td>\n",
       "      <td>1.0</td>\n",
       "      <td>6.666667</td>\n",
       "    </tr>\n",
       "    <tr>\n",
       "      <th>12</th>\n",
       "      <td>Author=周志华著</td>\n",
       "      <td>Publisher=清华大学出版社</td>\n",
       "      <td>0.004286</td>\n",
       "      <td>1.0</td>\n",
       "      <td>6.306306</td>\n",
       "    </tr>\n",
       "    <tr>\n",
       "      <th>22</th>\n",
       "      <td>Author=李航</td>\n",
       "      <td>Publisher=清华大学出版社</td>\n",
       "      <td>0.010000</td>\n",
       "      <td>1.0</td>\n",
       "      <td>6.306306</td>\n",
       "    </tr>\n",
       "    <tr>\n",
       "      <th>23</th>\n",
       "      <td>Author=林大贵</td>\n",
       "      <td>Publisher=清华大学出版社</td>\n",
       "      <td>0.004286</td>\n",
       "      <td>1.0</td>\n",
       "      <td>6.306306</td>\n",
       "    </tr>\n",
       "  </tbody>\n",
       "</table>\n",
       "</div>"
      ],
      "text/plain": [
       "               前项                 后项       支持度  置信度       提升度\n",
       "66    Author=周志华著  Publisher=清华大学出版社  0.004286  1.0  6.666667\n",
       "81      Author=李航  Publisher=清华大学出版社  0.010000  1.0  6.666667\n",
       "84     Author=林大贵  Publisher=清华大学出版社  0.004286  1.0  6.666667\n",
       "93      Author=范淼  Publisher=清华大学出版社  0.004286  1.0  6.666667\n",
       "100    Author=郑秋生  Publisher=清华大学出版社  0.004286  1.0  6.666667\n",
       "101     Author=雷明  Publisher=清华大学出版社  0.005714  1.0  6.666667\n",
       "129  SellLevel=一般  Publisher=清华大学出版社  0.004286  1.0  6.666667\n",
       "12    Author=周志华著  Publisher=清华大学出版社  0.004286  1.0  6.306306\n",
       "22      Author=李航  Publisher=清华大学出版社  0.010000  1.0  6.306306\n",
       "23     Author=林大贵  Publisher=清华大学出版社  0.004286  1.0  6.306306"
      ]
     },
     "execution_count": 458,
     "metadata": {},
     "output_type": "execute_result"
    }
   ],
   "source": [
    "rslt_df = odf[odf['后项'] == 'Publisher=清华大学出版社'] \n",
    "rslt_df.nlargest(n = 10, columns = ['提升度'])"
   ]
  },
  {
   "cell_type": "code",
   "execution_count": 459,
   "id": "ca73bc6c",
   "metadata": {},
   "outputs": [
    {
     "data": {
      "text/html": [
       "<div>\n",
       "<style scoped>\n",
       "    .dataframe tbody tr th:only-of-type {\n",
       "        vertical-align: middle;\n",
       "    }\n",
       "\n",
       "    .dataframe tbody tr th {\n",
       "        vertical-align: top;\n",
       "    }\n",
       "\n",
       "    .dataframe thead th {\n",
       "        text-align: right;\n",
       "    }\n",
       "</style>\n",
       "<table border=\"1\" class=\"dataframe\">\n",
       "  <thead>\n",
       "    <tr style=\"text-align: right;\">\n",
       "      <th></th>\n",
       "      <th>前项</th>\n",
       "      <th>后项</th>\n",
       "      <th>支持度</th>\n",
       "      <th>置信度</th>\n",
       "      <th>提升度</th>\n",
       "    </tr>\n",
       "  </thead>\n",
       "  <tbody>\n",
       "    <tr>\n",
       "      <th>129</th>\n",
       "      <td>SellLevel=一般</td>\n",
       "      <td>Publisher=清华大学出版社</td>\n",
       "      <td>0.004286</td>\n",
       "      <td>1.0</td>\n",
       "      <td>6.666667</td>\n",
       "    </tr>\n",
       "    <tr>\n",
       "      <th>57</th>\n",
       "      <td>SellLevel=一般</td>\n",
       "      <td>Publisher=清华大学出版社</td>\n",
       "      <td>0.004286</td>\n",
       "      <td>1.0</td>\n",
       "      <td>6.306306</td>\n",
       "    </tr>\n",
       "    <tr>\n",
       "      <th>167</th>\n",
       "      <td>SellLevel=一般</td>\n",
       "      <td>Publisher=清华大学出版社</td>\n",
       "      <td>0.007143</td>\n",
       "      <td>0.5</td>\n",
       "      <td>3.333333</td>\n",
       "    </tr>\n",
       "    <tr>\n",
       "      <th>119</th>\n",
       "      <td>SellLevel=一般</td>\n",
       "      <td>Publisher=清华大学出版社</td>\n",
       "      <td>0.007143</td>\n",
       "      <td>0.5</td>\n",
       "      <td>3.153153</td>\n",
       "    </tr>\n",
       "  </tbody>\n",
       "</table>\n",
       "</div>"
      ],
      "text/plain": [
       "               前项                 后项       支持度  置信度       提升度\n",
       "129  SellLevel=一般  Publisher=清华大学出版社  0.004286  1.0  6.666667\n",
       "57   SellLevel=一般  Publisher=清华大学出版社  0.004286  1.0  6.306306\n",
       "167  SellLevel=一般  Publisher=清华大学出版社  0.007143  0.5  3.333333\n",
       "119  SellLevel=一般  Publisher=清华大学出版社  0.007143  0.5  3.153153"
      ]
     },
     "execution_count": 459,
     "metadata": {},
     "output_type": "execute_result"
    }
   ],
   "source": [
    "rslt_df = odf[odf['后项'] == 'Publisher=清华大学出版社'] \n",
    "rslt_df = rslt_df[rslt_df['前项'].str.contains(\"SellLevel\")]\n",
    "rslt_df.nlargest(n = 10, columns = ['提升度'])"
   ]
  },
  {
   "cell_type": "code",
   "execution_count": 461,
   "id": "c129f558",
   "metadata": {},
   "outputs": [
    {
     "data": {
      "text/html": [
       "<div>\n",
       "<style scoped>\n",
       "    .dataframe tbody tr th:only-of-type {\n",
       "        vertical-align: middle;\n",
       "    }\n",
       "\n",
       "    .dataframe tbody tr th {\n",
       "        vertical-align: top;\n",
       "    }\n",
       "\n",
       "    .dataframe thead th {\n",
       "        text-align: right;\n",
       "    }\n",
       "</style>\n",
       "<table border=\"1\" class=\"dataframe\">\n",
       "  <thead>\n",
       "    <tr style=\"text-align: right;\">\n",
       "      <th></th>\n",
       "      <th>前项</th>\n",
       "      <th>后项</th>\n",
       "      <th>支持度</th>\n",
       "      <th>置信度</th>\n",
       "      <th>提升度</th>\n",
       "    </tr>\n",
       "  </thead>\n",
       "  <tbody>\n",
       "    <tr>\n",
       "      <th>36</th>\n",
       "      <td>Package=精装</td>\n",
       "      <td>Publisher=中信出版社</td>\n",
       "      <td>0.004286</td>\n",
       "      <td>0.230769</td>\n",
       "      <td>17.948718</td>\n",
       "    </tr>\n",
       "  </tbody>\n",
       "</table>\n",
       "</div>"
      ],
      "text/plain": [
       "            前项               后项       支持度       置信度        提升度\n",
       "36  Package=精装  Publisher=中信出版社  0.004286  0.230769  17.948718"
      ]
     },
     "execution_count": 461,
     "metadata": {},
     "output_type": "execute_result"
    }
   ],
   "source": [
    "rslt_df = odf[odf['后项'] == 'Publisher=中信出版社'] \n",
    "rslt_df.nlargest(n = 10, columns = ['提升度'])"
   ]
  },
  {
   "cell_type": "markdown",
   "id": "11bd253a",
   "metadata": {},
   "source": [
    "## 评论分析"
   ]
  },
  {
   "cell_type": "code",
   "execution_count": null,
   "id": "4106d568",
   "metadata": {},
   "outputs": [],
   "source": [
    "import pandas as pd\n",
    "import jieba\n",
    "from bertopic import BERTopic"
   ]
  },
  {
   "cell_type": "code",
   "execution_count": null,
   "id": "ddf3f0d8",
   "metadata": {},
   "outputs": [],
   "source": [
    "df_comments = pd.read_excel(\"comments.xlsx\")\n",
    "my_stopwords =  [i.strip() for i in open('hit_stopwords.txt',encoding='utf-8').readlines()]\n",
    "\n",
    "df_comments['review_seg'] = df_comments['Comment'].apply(lambda x : ' '.join([j.strip() for j in jieba.cut(x) if j not in my_stopwords]))\n",
    "docs = df_comments[\"review_seg\"].tolist()\n",
    "print(\"doc length:\",len(docs))\n",
    "docs[0]"
   ]
  },
  {
   "cell_type": "code",
   "execution_count": 3,
   "id": "4d1dda3c",
   "metadata": {},
   "outputs": [
    {
     "data": {
      "text/html": [
       "<div>\n",
       "<style scoped>\n",
       "    .dataframe tbody tr th:only-of-type {\n",
       "        vertical-align: middle;\n",
       "    }\n",
       "\n",
       "    .dataframe tbody tr th {\n",
       "        vertical-align: top;\n",
       "    }\n",
       "\n",
       "    .dataframe thead th {\n",
       "        text-align: right;\n",
       "    }\n",
       "</style>\n",
       "<table border=\"1\" class=\"dataframe\">\n",
       "  <thead>\n",
       "    <tr style=\"text-align: right;\">\n",
       "      <th></th>\n",
       "      <th>Book_id</th>\n",
       "      <th>Username</th>\n",
       "      <th>Comment_time</th>\n",
       "      <th>Comment</th>\n",
       "      <th>review_seg</th>\n",
       "    </tr>\n",
       "  </thead>\n",
       "  <tbody>\n",
       "    <tr>\n",
       "      <th>0</th>\n",
       "      <td>70360732846</td>\n",
       "      <td>jd_187388rfo</td>\n",
       "      <td>2020-12-02 20:02:36</td>\n",
       "      <td>非常好，包装的非常精美，</td>\n",
       "      <td>非常 好 包装 非常 精美</td>\n",
       "    </tr>\n",
       "    <tr>\n",
       "      <th>1</th>\n",
       "      <td>70360732846</td>\n",
       "      <td>Kushim_Hu</td>\n",
       "      <td>2020-09-03 10:57:37</td>\n",
       "      <td>品相很好，书页质量没得说，文字打印清晰</td>\n",
       "      <td>品相 很 好 书页 质量 没得说 文字 打印 清晰</td>\n",
       "    </tr>\n",
       "    <tr>\n",
       "      <th>2</th>\n",
       "      <td>70360732846</td>\n",
       "      <td>流小熙</td>\n",
       "      <td>2020-07-29 09:19:33</td>\n",
       "      <td>书很新很好\\n下次还会再来\\n机器学习冲冲冲</td>\n",
       "      <td>书 很 新 很 好 下次 还会 再 来 机器 学习 冲冲</td>\n",
       "    </tr>\n",
       "    <tr>\n",
       "      <th>3</th>\n",
       "      <td>70360732846</td>\n",
       "      <td>白色的米</td>\n",
       "      <td>2020-12-20 17:14:24</td>\n",
       "      <td>书本外包装完好无损，里面字体打印清晰，很好</td>\n",
       "      <td>书本 外包装 完好无损 里面 字体 打印 清晰 很 好</td>\n",
       "    </tr>\n",
       "    <tr>\n",
       "      <th>4</th>\n",
       "      <td>70360732846</td>\n",
       "      <td>j***p</td>\n",
       "      <td>2020-12-04 17:17:45</td>\n",
       "      <td>图书很好，包装精细，内容详实</td>\n",
       "      <td>图书 很 好 包装 精细 内容 详实</td>\n",
       "    </tr>\n",
       "  </tbody>\n",
       "</table>\n",
       "</div>"
      ],
      "text/plain": [
       "       Book_id      Username        Comment_time                 Comment  \\\n",
       "0  70360732846  jd_187388rfo 2020-12-02 20:02:36            非常好，包装的非常精美，   \n",
       "1  70360732846     Kushim_Hu 2020-09-03 10:57:37     品相很好，书页质量没得说，文字打印清晰   \n",
       "2  70360732846           流小熙 2020-07-29 09:19:33  书很新很好\\n下次还会再来\\n机器学习冲冲冲   \n",
       "3  70360732846          白色的米 2020-12-20 17:14:24   书本外包装完好无损，里面字体打印清晰，很好   \n",
       "4  70360732846         j***p 2020-12-04 17:17:45          图书很好，包装精细，内容详实   \n",
       "\n",
       "                     review_seg  \n",
       "0                 非常 好 包装 非常 精美  \n",
       "1     品相 很 好 书页 质量 没得说 文字 打印 清晰  \n",
       "2  书 很 新 很 好 下次 还会 再 来 机器 学习 冲冲  \n",
       "3   书本 外包装 完好无损 里面 字体 打印 清晰 很 好  \n",
       "4            图书 很 好 包装 精细 内容 详实  "
      ]
     },
     "execution_count": 3,
     "metadata": {},
     "output_type": "execute_result"
    }
   ],
   "source": [
    "df_comments.head()"
   ]
  },
  {
   "cell_type": "code",
   "execution_count": 12,
   "id": "d8d685aa",
   "metadata": {},
   "outputs": [],
   "source": [
    "model = BERTopic(language=\"chinese (simplified)\",nr_topics=\"auto\")"
   ]
  },
  {
   "cell_type": "code",
   "execution_count": 13,
   "id": "c400f9da",
   "metadata": {},
   "outputs": [],
   "source": [
    "topics, probs = model.fit_transform(docs)"
   ]
  },
  {
   "cell_type": "code",
   "execution_count": 14,
   "id": "464246ec",
   "metadata": {},
   "outputs": [],
   "source": [
    "model.update_topics(docs, topics, n_gram_range=(1, 3))"
   ]
  },
  {
   "cell_type": "code",
   "execution_count": 10,
   "id": "80fb48bc",
   "metadata": {},
   "outputs": [
    {
     "data": {
      "text/plain": [
       "<bertopic._bertopic.BERTopic at 0x7fea64efda90>"
      ]
     },
     "execution_count": 10,
     "metadata": {},
     "output_type": "execute_result"
    }
   ],
   "source": [
    "model.reduce_topics(docs, nr_topics=10)"
   ]
  },
  {
   "cell_type": "code",
   "execution_count": 15,
   "id": "7ceb378a",
   "metadata": {},
   "outputs": [
    {
     "data": {
      "text/plain": [
       "{-1: '-1_非常_非常 非常_引号_之间',\n",
       " 0: '0_非常_不错_很快_京东',\n",
       " 1: '1_清晰_打印_打印 清晰_清楚',\n",
       " 2: '2_经典_学习_书籍_数学',\n",
       " 3: '3_产品_视觉_机器_学习',\n",
       " 4: '4_人工智能_机器人_本书_人工智能 发展',\n",
       " 5: '5_物流_物流 很快 包装_物流 很快_很快 包装',\n",
       " 6: '6_学习_质量_学习 质量_这些',\n",
       " 7: '7_深度 学习_深度_学习_慢慢',\n",
       " 8: '8_物流_包装_采购 书籍 出版社_物流 包装 正版',\n",
       " 9: '9_python_复杂 产品_想法_如何',\n",
       " 10: '10_实用_专业 非常 实用_专业 非常_实用 不错',\n",
       " 11: '11_本书_2020_方式 配图_好书 之一 2020',\n",
       " 12: '12_神经网络_比较_实验室_神经网络 入门',\n",
       " 13: '13_书里 内容_书里_tensorflow_内容 更加',\n",
       " 14: '14_本书_实体书 支持_必须 一本 实体书_书籍 必须',\n",
       " 15: '15_没有_没有 空白页 纸张_破损 没有_不错 开始 学习',\n",
       " 16: '16_全面_详细_全面 了解_值得 学习',\n",
       " 17: '17_颜色 质量_颜色_颜色 质量 非常_非常 质量',\n",
       " 18: '18_618_活动_当天 下单 隔天_囤书',\n",
       " 19: '19_非常 本书_本书 非常适合_理论性_非常 本书 非常适合',\n",
       " 20: '20_昨天 今天_手感 不错_收到 神速_质量 手感 不错'}"
      ]
     },
     "execution_count": 15,
     "metadata": {},
     "output_type": "execute_result"
    }
   ],
   "source": [
    "model.topic_labels_"
   ]
  },
  {
   "cell_type": "code",
   "execution_count": 16,
   "id": "1175a248",
   "metadata": {},
   "outputs": [
    {
     "data": {
      "text/plain": [
       "{-1: [('非常', 0.06967096339487239),\n",
       "  ('非常 非常', 0.06048089152008186),\n",
       "  ('引号', 0.03453477223425819),\n",
       "  ('之间', 0.03453477223425819),\n",
       "  ('惊讶', 0.03453477223425819),\n",
       "  ('非常 非常 非常', 0.03453477223425819),\n",
       "  ('书名号', 0.03453477223425819),\n",
       "  ('价格 实惠', 0.03024044576004093),\n",
       "  ('非常 满意 非常', 0.025724806220314946),\n",
       "  ('实惠', 0.02524837688461818)],\n",
       " 0: [('非常', 0.017285105508856726),\n",
       "  ('不错', 0.015053971421767369),\n",
       "  ('很快', 0.01348458611864831),\n",
       "  ('京东', 0.013461539545245945),\n",
       "  ('内容', 0.012649059927048276),\n",
       "  ('质量', 0.011994346993234957),\n",
       "  ('包装', 0.011560291403362588),\n",
       "  ('很多', 0.010453350272488917),\n",
       "  ('发货', 0.010277147068429315),\n",
       "  ('本书', 0.010129952136777372)],\n",
       " 1: [('清晰', 0.07779836893946916),\n",
       "  ('打印', 0.07455593770332672),\n",
       "  ('打印 清晰', 0.07455593770332672),\n",
       "  ('清楚', 0.06604929254058266),\n",
       "  ('清晰 书本', 0.05920877459743754),\n",
       "  ('书本', 0.055608934748614565),\n",
       "  ('印刷', 0.05533551548633206),\n",
       "  ('没得说 文字', 0.042571666233474956),\n",
       "  ('书页 质量 没得说', 0.042571666233474956),\n",
       "  ('字印', 0.042571666233474956)],\n",
       " 2: [('经典', 0.022963364201364023),\n",
       "  ('学习', 0.02172490632191893),\n",
       "  ('书籍', 0.020438996832874118),\n",
       "  ('数学', 0.019271755189543657),\n",
       "  ('系列', 0.01839347298884925),\n",
       "  ('老师', 0.016000836946349597),\n",
       "  ('本书', 0.01587899828878546),\n",
       "  ('结城浩', 0.01530471005079684),\n",
       "  ('程序员', 0.01530471005079684),\n",
       "  ('导师', 0.014453816392157742)],\n",
       " 3: [('产品', 0.03343129941280523),\n",
       "  ('视觉', 0.0311427112254512),\n",
       "  ('机器', 0.028425611891070915),\n",
       "  ('学习', 0.025532324937966144),\n",
       "  ('技术', 0.02533803888000156),\n",
       "  ('经理', 0.024732057916542725),\n",
       "  ('机器 视觉', 0.024732057916542725),\n",
       "  ('产品 经理', 0.024732057916542725),\n",
       "  ('理解', 0.01994181289816276),\n",
       "  ('里面 内容', 0.01778258243053718)],\n",
       " 4: [('人工智能', 0.07287119818470654),\n",
       "  ('机器人', 0.05570260467328135),\n",
       "  ('本书', 0.026742551478610984),\n",
       "  ('人工智能 发展', 0.026491348634317416),\n",
       "  ('发展', 0.026491348634317416),\n",
       "  ('我们', 0.025913810591796285),\n",
       "  ('历史', 0.025018513115910152),\n",
       "  ('很大', 0.02278153406501387),\n",
       "  ('对于', 0.022020751234327594),\n",
       "  ('帮助', 0.02136035422803207)],\n",
       " 5: [('物流', 0.09037916263809719),\n",
       "  ('物流 很快 包装', 0.05979321406255059),\n",
       "  ('物流 很快', 0.0597465212822183),\n",
       "  ('很快 包装', 0.05544036283773009),\n",
       "  ('物流 非常', 0.05544036283773009),\n",
       "  ('非常 物流', 0.05483300815442004),\n",
       "  ('物流 非常 物流', 0.05483300815442004),\n",
       "  ('非常 物流 非常', 0.05483300815442004),\n",
       "  ('不错 物流', 0.050562365558480864),\n",
       "  ('质量', 0.04442447117271634)],\n",
       " 6: [('学习', 0.041107570677500246),\n",
       "  ('质量', 0.035452380145581996),\n",
       "  ('学习 质量', 0.03228051850737725),\n",
       "  ('这些', 0.031903554905245754),\n",
       "  ('很大', 0.030438137800362884),\n",
       "  ('知识', 0.029421664872310974),\n",
       "  ('帮助', 0.02853931625508417),\n",
       "  ('印刷 质量', 0.027908846349732907),\n",
       "  ('不错', 0.027114089902086014),\n",
       "  ('适合', 0.025856157644725593)],\n",
       " 7: [('深度 学习', 0.08868616521852601),\n",
       "  ('深度', 0.08502311860046803),\n",
       "  ('学习', 0.07389438888731706),\n",
       "  ('慢慢', 0.04301203502545666),\n",
       "  ('一定', 0.034283519175869),\n",
       "  ('希望', 0.034283519175869),\n",
       "  ('本书', 0.0301070971846015),\n",
       "  ('工程', 0.028941590027585954),\n",
       "  ('慢慢 慢慢', 0.028941590027585954),\n",
       "  ('框架 本书 工程', 0.028941590027585954)],\n",
       " 8: [('物流', 0.1223087354241111),\n",
       "  ('包装', 0.09896812685516491),\n",
       "  ('采购 书籍 出版社', 0.0758396410211924),\n",
       "  ('物流 包装 正版', 0.0758396410211924),\n",
       "  ('书籍 出版社 直发', 0.0758396410211924),\n",
       "  ('京东 小哥 服务态度', 0.0758396410211924),\n",
       "  ('包装 完好无损 京东', 0.0758396410211924),\n",
       "  ('包装 完好无损', 0.0758396410211924),\n",
       "  ('部门 采购 书籍', 0.0758396410211924),\n",
       "  ('物流 特别', 0.0758396410211924)],\n",
       " 9: [('python', 0.039014996437652195),\n",
       "  ('复杂 产品', 0.03608613895571901),\n",
       "  ('想法', 0.03608613895571901),\n",
       "  ('如何', 0.03345912522823945),\n",
       "  ('复杂', 0.03159890328441777),\n",
       "  ('推荐', 0.030835596943822978),\n",
       "  ('产品', 0.027136812570237995),\n",
       "  ('一个', 0.025101229488339972),\n",
       "  ('实际', 0.023640973316111005),\n",
       "  ('宏观', 0.023640973316111005)],\n",
       " 10: [('实用', 0.3140647921491142),\n",
       "  ('专业 非常 实用', 0.203726094507909),\n",
       "  ('专业 非常', 0.203726094507909),\n",
       "  ('实用 不错', 0.203726094507909),\n",
       "  ('教材 一个', 0.203726094507909),\n",
       "  ('对于 专业', 0.203726094507909),\n",
       "  ('对于 专业 非常', 0.203726094507909),\n",
       "  ('有用 便宜', 0.203726094507909),\n",
       "  ('非常 实用', 0.203726094507909),\n",
       "  ('不错 实用 不错', 0.16880443543979512)],\n",
       " 11: [('本书', 0.05490005277090509),\n",
       "  ('2020', 0.04947633723763504),\n",
       "  ('方式 配图', 0.04947633723763504),\n",
       "  ('好书 之一 2020', 0.04947633723763504),\n",
       "  ('教育', 0.04947633723763504),\n",
       "  ('教授 全书 正文', 0.04947633723763504),\n",
       "  ('教授 全书', 0.04947633723763504),\n",
       "  ('教授', 0.04947633723763504),\n",
       "  ('彩色 写作', 0.04947633723763504),\n",
       "  ('彩色 写作 方式', 0.04947633723763504)],\n",
       " 12: [('神经网络', 0.06584784893023003),\n",
       "  ('比较', 0.05126282159854595),\n",
       "  ('实验室', 0.04938588669767253),\n",
       "  ('神经网络 入门', 0.03939467621605145),\n",
       "  ('还是 京东', 0.03939467621605145),\n",
       "  ('神经网络 学习', 0.03939467621605145),\n",
       "  ('本书', 0.030727641476252846),\n",
       "  ('整体 来说', 0.029624835897573247),\n",
       "  ('教材', 0.029624835897573247),\n",
       "  ('帮助', 0.029452087563882172)],\n",
       " 13: [('书里 内容', 0.10821831760282206),\n",
       "  ('书里', 0.10821831760282206),\n",
       "  ('tensorflow', 0.06179298710812084),\n",
       "  ('内容 更加', 0.06179298710812084),\n",
       "  ('编排 比较 符合', 0.06179298710812084),\n",
       "  ('深入 了解', 0.06179298710812084),\n",
       "  ('符合 预期 希望', 0.06179298710812084),\n",
       "  ('没得说 很稳', 0.06179298710812084),\n",
       "  ('编排 比较', 0.06179298710812084),\n",
       "  ('比较 符合 预期', 0.06179298710812084)],\n",
       " 14: [('本书', 0.09082729318715917),\n",
       "  ('实体书 支持', 0.08731118336053242),\n",
       "  ('必须 一本 实体书', 0.08731118336053242),\n",
       "  ('书籍 必须', 0.08731118336053242),\n",
       "  ('一本 实体书 支持', 0.08731118336053242),\n",
       "  ('不能 错过', 0.08731118336053242),\n",
       "  ('非常 本书 值得', 0.08731118336053242),\n",
       "  ('作者 情怀 开源', 0.08731118336053242),\n",
       "  ('值得 购买 一定', 0.08731118336053242),\n",
       "  ('实体书', 0.08731118336053242)],\n",
       " 15: [('没有', 0.12304921443270174),\n",
       "  ('没有 空白页 纸张', 0.10741920433330308),\n",
       "  ('破损 没有', 0.10741920433330308),\n",
       "  ('不错 开始 学习', 0.10741920433330308),\n",
       "  ('空白页 纸张 质量', 0.10741920433330308),\n",
       "  ('空白页 纸张', 0.10741920433330308),\n",
       "  ('空白页', 0.10741920433330308),\n",
       "  ('破损 没有 空白页', 0.10741920433330308),\n",
       "  ('不错 开始', 0.10741920433330308),\n",
       "  ('质量 不错 开始', 0.10741920433330308)],\n",
       " 16: [('全面', 0.12517160392758425),\n",
       "  ('详细', 0.11743193270998659),\n",
       "  ('全面 了解', 0.09360388126039061),\n",
       "  ('值得 学习', 0.09360388126039061),\n",
       "  ('了解 内容', 0.09360388126039061),\n",
       "  ('适合 机器 学习', 0.09360388126039061),\n",
       "  ('详细 适合', 0.09360388126039061),\n",
       "  ('详细 适合 机器', 0.09360388126039061),\n",
       "  ('详细 值得 学习', 0.09360388126039061),\n",
       "  ('适合 机器', 0.09360388126039061)],\n",
       " 17: [('颜色 质量', 0.4329179508293066),\n",
       "  ('颜色', 0.4329179508293066),\n",
       "  ('颜色 质量 非常', 0.4329179508293066),\n",
       "  ('非常 质量', 0.4329179508293066),\n",
       "  ('质量 颜色 质量', 0.4329179508293066),\n",
       "  ('质量 颜色', 0.4329179508293066),\n",
       "  ('质量 非常 质量', 0.4329179508293066),\n",
       "  ('质量', 0.4289737997615422),\n",
       "  ('非常 质量 颜色', 0.3587094253095646),\n",
       "  ('质量 质量', 0.3587094253095646)],\n",
       " 18: [('618', 0.1892318697811145),\n",
       "  ('活动', 0.12829956139214746),\n",
       "  ('当天 下单 隔天', 0.09056913306533397),\n",
       "  ('囤书', 0.09056913306533397),\n",
       "  ('下单 隔天', 0.09056913306533397),\n",
       "  ('618 活动 购买', 0.09056913306533397),\n",
       "  ('618 活动', 0.09056913306533397),\n",
       "  ('618 当天 下单', 0.09056913306533397),\n",
       "  ('618 当天', 0.09056913306533397),\n",
       "  ('下单 隔天 质量', 0.09056913306533397)],\n",
       " 19: [('非常 本书', 0.26695507332674706),\n",
       "  ('本书 非常适合', 0.1924079781463585),\n",
       "  ('理论性', 0.1924079781463585),\n",
       "  ('非常 本书 非常适合', 0.1924079781463585),\n",
       "  ('本书 通俗易懂', 0.1924079781463585),\n",
       "  ('本书 通俗易懂 理论性', 0.1924079781463585),\n",
       "  ('非常适合 初学者', 0.1924079781463585),\n",
       "  ('本书 非常适合 初学者', 0.1924079781463585),\n",
       "  ('很棒 值得 推荐', 0.1924079781463585),\n",
       "  ('理论性 非常', 0.1924079781463585)],\n",
       " 20: [('昨天 今天', 0.13100112130867933),\n",
       "  ('手感 不错', 0.13100112130867933),\n",
       "  ('收到 神速', 0.13100112130867933),\n",
       "  ('质量 手感 不错', 0.13100112130867933),\n",
       "  ('收到 神速 自己', 0.13100112130867933),\n",
       "  ('今天 收到 神速', 0.13100112130867933),\n",
       "  ('今天 收到', 0.13100112130867933),\n",
       "  ('看起来 孩子', 0.13100112130867933),\n",
       "  ('昨天 今天 收到', 0.13100112130867933),\n",
       "  ('神速', 0.13100112130867933)]}"
      ]
     },
     "execution_count": 16,
     "metadata": {},
     "output_type": "execute_result"
    }
   ],
   "source": [
    "model.topic_representations_"
   ]
  },
  {
   "cell_type": "code",
   "execution_count": 17,
   "id": "5599dfd7",
   "metadata": {},
   "outputs": [
    {
     "data": {
      "application/vnd.plotly.v1+json": {
       "config": {
        "plotlyServerURL": "https://plot.ly"
       },
       "data": [
        {
         "customdata": [
          [
           0,
           "非常 | 不错 | 很快 | 京东 | 内容",
           659
          ],
          [
           1,
           "清晰 | 打印 | 打印 清晰 | 清楚 | 清晰 书本",
           60
          ],
          [
           2,
           "经典 | 学习 | 书籍 | 数学 | 系列",
           57
          ],
          [
           3,
           "产品 | 视觉 | 机器 | 学习 | 技术",
           45
          ],
          [
           4,
           "人工智能 | 机器人 | 本书 | 人工智能 发展 | 发展",
           41
          ],
          [
           5,
           "物流 | 物流 很快 包装 | 物流 很快 | 很快 包装 | 物流 非常",
           40
          ],
          [
           6,
           "学习 | 质量 | 学习 质量 | 这些 | 很大",
           35
          ],
          [
           7,
           "深度 学习 | 深度 | 学习 | 慢慢 | 一定",
           30
          ],
          [
           8,
           "物流 | 包装 | 采购 书籍 出版社 | 物流 包装 正版 | 书籍 出版社 直发",
           23
          ],
          [
           9,
           "python | 复杂 产品 | 想法 | 如何 | 复杂",
           22
          ],
          [
           10,
           "实用 | 专业 非常 实用 | 专业 非常 | 实用 不错 | 教材 一个",
           21
          ],
          [
           11,
           "本书 | 2020 | 方式 配图 | 好书 之一 2020 | 教育",
           21
          ],
          [
           12,
           "神经网络 | 比较 | 实验室 | 神经网络 入门 | 还是 京东",
           20
          ],
          [
           13,
           "书里 内容 | 书里 | tensorflow | 内容 更加 | 编排 比较 符合",
           20
          ],
          [
           14,
           "本书 | 实体书 支持 | 必须 一本 实体书 | 书籍 必须 | 一本 实体书 支持",
           20
          ],
          [
           15,
           "没有 | 没有 空白页 纸张 | 破损 没有 | 不错 开始 学习 | 空白页 纸张 质量",
           17
          ],
          [
           16,
           "全面 | 详细 | 全面 了解 | 值得 学习 | 了解 内容",
           16
          ],
          [
           17,
           "颜色 质量 | 颜色 | 颜色 质量 非常 | 非常 质量 | 质量 颜色 质量",
           15
          ],
          [
           18,
           "618 | 活动 | 当天 下单 隔天 | 囤书 | 下单 隔天",
           15
          ],
          [
           19,
           "非常 本书 | 本书 非常适合 | 理论性 | 非常 本书 非常适合 | 本书 通俗易懂",
           15
          ],
          [
           20,
           "昨天 今天 | 手感 不错 | 收到 神速 | 质量 手感 不错 | 收到 神速 自己",
           14
          ]
         ],
         "hovertemplate": "<b>Topic %{customdata[0]}</b><br>%{customdata[1]}<br>Size: %{customdata[2]}",
         "legendgroup": "",
         "marker": {
          "color": "#B0BEC5",
          "line": {
           "color": "DarkSlateGrey",
           "width": 2
          },
          "size": [
           659,
           60,
           57,
           45,
           41,
           40,
           35,
           30,
           23,
           22,
           21,
           21,
           20,
           20,
           20,
           17,
           16,
           15,
           15,
           15,
           14
          ],
          "sizemode": "area",
          "sizeref": 0.411875,
          "symbol": "circle"
         },
         "mode": "markers",
         "name": "",
         "orientation": "v",
         "showlegend": false,
         "type": "scatter",
         "x": [
          10.954121,
          -5.994431,
          11.194445,
          11.188022,
          11.408888,
          -5.5699415,
          10.950656,
          10.238916,
          -4.8988233,
          10.999561,
          -1.1687291,
          -4.6738,
          11.288952,
          -6.222407,
          10.837241,
          -5.804625,
          10.749625,
          10.275092,
          -5.068107,
          10.559779,
          -1.0953227
         ],
         "xaxis": "x",
         "y": [
          -1.9270271,
          13.957316,
          -1.7002524,
          -1.2349001,
          0.6640097,
          14.357319,
          0.47257975,
          1.8015344,
          14.766916,
          -0.63522977,
          1.9716516,
          14.991999,
          0.24149348,
          13.687689,
          1.0977831,
          14.14781,
          -0.59972876,
          1.2917961,
          14.537345,
          1.5305641,
          2.0304217
         ],
         "yaxis": "y"
        }
       ],
       "layout": {
        "annotations": [
         {
          "showarrow": false,
          "text": "D1",
          "x": -7.155767893791198,
          "y": 7.512358650565147,
          "yshift": 10
         },
         {
          "showarrow": false,
          "text": "D2",
          "x": 2.9822265744209293,
          "xshift": 10,
          "y": 17.240798473358154
         }
        ],
        "height": 650,
        "hoverlabel": {
         "bgcolor": "white",
         "font": {
          "family": "Rockwell",
          "size": 16
         }
        },
        "legend": {
         "itemsizing": "constant",
         "tracegroupgap": 0
        },
        "margin": {
         "t": 60
        },
        "shapes": [
         {
          "line": {
           "color": "#CFD8DC",
           "width": 2
          },
          "type": "line",
          "x0": 2.9822265744209293,
          "x1": 2.9822265744209293,
          "y0": -2.2160811722278595,
          "y1": 17.240798473358154
         },
         {
          "line": {
           "color": "#9E9E9E",
           "width": 2
          },
          "type": "line",
          "x0": -7.155767893791198,
          "x1": 13.120221042633057,
          "y0": 7.512358650565147,
          "y1": 7.512358650565147
         }
        ],
        "sliders": [
         {
          "active": 0,
          "pad": {
           "t": 50
          },
          "steps": [
           {
            "args": [
             {
              "marker.color": [
               [
                "red",
                "#B0BEC5",
                "#B0BEC5",
                "#B0BEC5",
                "#B0BEC5",
                "#B0BEC5",
                "#B0BEC5",
                "#B0BEC5",
                "#B0BEC5",
                "#B0BEC5",
                "#B0BEC5",
                "#B0BEC5",
                "#B0BEC5",
                "#B0BEC5",
                "#B0BEC5",
                "#B0BEC5",
                "#B0BEC5",
                "#B0BEC5",
                "#B0BEC5",
                "#B0BEC5",
                "#B0BEC5"
               ]
              ]
             }
            ],
            "label": "Topic 0",
            "method": "update"
           },
           {
            "args": [
             {
              "marker.color": [
               [
                "#B0BEC5",
                "red",
                "#B0BEC5",
                "#B0BEC5",
                "#B0BEC5",
                "#B0BEC5",
                "#B0BEC5",
                "#B0BEC5",
                "#B0BEC5",
                "#B0BEC5",
                "#B0BEC5",
                "#B0BEC5",
                "#B0BEC5",
                "#B0BEC5",
                "#B0BEC5",
                "#B0BEC5",
                "#B0BEC5",
                "#B0BEC5",
                "#B0BEC5",
                "#B0BEC5",
                "#B0BEC5"
               ]
              ]
             }
            ],
            "label": "Topic 1",
            "method": "update"
           },
           {
            "args": [
             {
              "marker.color": [
               [
                "#B0BEC5",
                "#B0BEC5",
                "red",
                "#B0BEC5",
                "#B0BEC5",
                "#B0BEC5",
                "#B0BEC5",
                "#B0BEC5",
                "#B0BEC5",
                "#B0BEC5",
                "#B0BEC5",
                "#B0BEC5",
                "#B0BEC5",
                "#B0BEC5",
                "#B0BEC5",
                "#B0BEC5",
                "#B0BEC5",
                "#B0BEC5",
                "#B0BEC5",
                "#B0BEC5",
                "#B0BEC5"
               ]
              ]
             }
            ],
            "label": "Topic 2",
            "method": "update"
           },
           {
            "args": [
             {
              "marker.color": [
               [
                "#B0BEC5",
                "#B0BEC5",
                "#B0BEC5",
                "red",
                "#B0BEC5",
                "#B0BEC5",
                "#B0BEC5",
                "#B0BEC5",
                "#B0BEC5",
                "#B0BEC5",
                "#B0BEC5",
                "#B0BEC5",
                "#B0BEC5",
                "#B0BEC5",
                "#B0BEC5",
                "#B0BEC5",
                "#B0BEC5",
                "#B0BEC5",
                "#B0BEC5",
                "#B0BEC5",
                "#B0BEC5"
               ]
              ]
             }
            ],
            "label": "Topic 3",
            "method": "update"
           },
           {
            "args": [
             {
              "marker.color": [
               [
                "#B0BEC5",
                "#B0BEC5",
                "#B0BEC5",
                "#B0BEC5",
                "red",
                "#B0BEC5",
                "#B0BEC5",
                "#B0BEC5",
                "#B0BEC5",
                "#B0BEC5",
                "#B0BEC5",
                "#B0BEC5",
                "#B0BEC5",
                "#B0BEC5",
                "#B0BEC5",
                "#B0BEC5",
                "#B0BEC5",
                "#B0BEC5",
                "#B0BEC5",
                "#B0BEC5",
                "#B0BEC5"
               ]
              ]
             }
            ],
            "label": "Topic 4",
            "method": "update"
           },
           {
            "args": [
             {
              "marker.color": [
               [
                "#B0BEC5",
                "#B0BEC5",
                "#B0BEC5",
                "#B0BEC5",
                "#B0BEC5",
                "red",
                "#B0BEC5",
                "#B0BEC5",
                "#B0BEC5",
                "#B0BEC5",
                "#B0BEC5",
                "#B0BEC5",
                "#B0BEC5",
                "#B0BEC5",
                "#B0BEC5",
                "#B0BEC5",
                "#B0BEC5",
                "#B0BEC5",
                "#B0BEC5",
                "#B0BEC5",
                "#B0BEC5"
               ]
              ]
             }
            ],
            "label": "Topic 5",
            "method": "update"
           },
           {
            "args": [
             {
              "marker.color": [
               [
                "#B0BEC5",
                "#B0BEC5",
                "#B0BEC5",
                "#B0BEC5",
                "#B0BEC5",
                "#B0BEC5",
                "red",
                "#B0BEC5",
                "#B0BEC5",
                "#B0BEC5",
                "#B0BEC5",
                "#B0BEC5",
                "#B0BEC5",
                "#B0BEC5",
                "#B0BEC5",
                "#B0BEC5",
                "#B0BEC5",
                "#B0BEC5",
                "#B0BEC5",
                "#B0BEC5",
                "#B0BEC5"
               ]
              ]
             }
            ],
            "label": "Topic 6",
            "method": "update"
           },
           {
            "args": [
             {
              "marker.color": [
               [
                "#B0BEC5",
                "#B0BEC5",
                "#B0BEC5",
                "#B0BEC5",
                "#B0BEC5",
                "#B0BEC5",
                "#B0BEC5",
                "red",
                "#B0BEC5",
                "#B0BEC5",
                "#B0BEC5",
                "#B0BEC5",
                "#B0BEC5",
                "#B0BEC5",
                "#B0BEC5",
                "#B0BEC5",
                "#B0BEC5",
                "#B0BEC5",
                "#B0BEC5",
                "#B0BEC5",
                "#B0BEC5"
               ]
              ]
             }
            ],
            "label": "Topic 7",
            "method": "update"
           },
           {
            "args": [
             {
              "marker.color": [
               [
                "#B0BEC5",
                "#B0BEC5",
                "#B0BEC5",
                "#B0BEC5",
                "#B0BEC5",
                "#B0BEC5",
                "#B0BEC5",
                "#B0BEC5",
                "red",
                "#B0BEC5",
                "#B0BEC5",
                "#B0BEC5",
                "#B0BEC5",
                "#B0BEC5",
                "#B0BEC5",
                "#B0BEC5",
                "#B0BEC5",
                "#B0BEC5",
                "#B0BEC5",
                "#B0BEC5",
                "#B0BEC5"
               ]
              ]
             }
            ],
            "label": "Topic 8",
            "method": "update"
           },
           {
            "args": [
             {
              "marker.color": [
               [
                "#B0BEC5",
                "#B0BEC5",
                "#B0BEC5",
                "#B0BEC5",
                "#B0BEC5",
                "#B0BEC5",
                "#B0BEC5",
                "#B0BEC5",
                "#B0BEC5",
                "red",
                "#B0BEC5",
                "#B0BEC5",
                "#B0BEC5",
                "#B0BEC5",
                "#B0BEC5",
                "#B0BEC5",
                "#B0BEC5",
                "#B0BEC5",
                "#B0BEC5",
                "#B0BEC5",
                "#B0BEC5"
               ]
              ]
             }
            ],
            "label": "Topic 9",
            "method": "update"
           },
           {
            "args": [
             {
              "marker.color": [
               [
                "#B0BEC5",
                "#B0BEC5",
                "#B0BEC5",
                "#B0BEC5",
                "#B0BEC5",
                "#B0BEC5",
                "#B0BEC5",
                "#B0BEC5",
                "#B0BEC5",
                "#B0BEC5",
                "red",
                "#B0BEC5",
                "#B0BEC5",
                "#B0BEC5",
                "#B0BEC5",
                "#B0BEC5",
                "#B0BEC5",
                "#B0BEC5",
                "#B0BEC5",
                "#B0BEC5",
                "#B0BEC5"
               ]
              ]
             }
            ],
            "label": "Topic 10",
            "method": "update"
           },
           {
            "args": [
             {
              "marker.color": [
               [
                "#B0BEC5",
                "#B0BEC5",
                "#B0BEC5",
                "#B0BEC5",
                "#B0BEC5",
                "#B0BEC5",
                "#B0BEC5",
                "#B0BEC5",
                "#B0BEC5",
                "#B0BEC5",
                "#B0BEC5",
                "red",
                "#B0BEC5",
                "#B0BEC5",
                "#B0BEC5",
                "#B0BEC5",
                "#B0BEC5",
                "#B0BEC5",
                "#B0BEC5",
                "#B0BEC5",
                "#B0BEC5"
               ]
              ]
             }
            ],
            "label": "Topic 11",
            "method": "update"
           },
           {
            "args": [
             {
              "marker.color": [
               [
                "#B0BEC5",
                "#B0BEC5",
                "#B0BEC5",
                "#B0BEC5",
                "#B0BEC5",
                "#B0BEC5",
                "#B0BEC5",
                "#B0BEC5",
                "#B0BEC5",
                "#B0BEC5",
                "#B0BEC5",
                "#B0BEC5",
                "red",
                "#B0BEC5",
                "#B0BEC5",
                "#B0BEC5",
                "#B0BEC5",
                "#B0BEC5",
                "#B0BEC5",
                "#B0BEC5",
                "#B0BEC5"
               ]
              ]
             }
            ],
            "label": "Topic 12",
            "method": "update"
           },
           {
            "args": [
             {
              "marker.color": [
               [
                "#B0BEC5",
                "#B0BEC5",
                "#B0BEC5",
                "#B0BEC5",
                "#B0BEC5",
                "#B0BEC5",
                "#B0BEC5",
                "#B0BEC5",
                "#B0BEC5",
                "#B0BEC5",
                "#B0BEC5",
                "#B0BEC5",
                "#B0BEC5",
                "red",
                "#B0BEC5",
                "#B0BEC5",
                "#B0BEC5",
                "#B0BEC5",
                "#B0BEC5",
                "#B0BEC5",
                "#B0BEC5"
               ]
              ]
             }
            ],
            "label": "Topic 13",
            "method": "update"
           },
           {
            "args": [
             {
              "marker.color": [
               [
                "#B0BEC5",
                "#B0BEC5",
                "#B0BEC5",
                "#B0BEC5",
                "#B0BEC5",
                "#B0BEC5",
                "#B0BEC5",
                "#B0BEC5",
                "#B0BEC5",
                "#B0BEC5",
                "#B0BEC5",
                "#B0BEC5",
                "#B0BEC5",
                "#B0BEC5",
                "red",
                "#B0BEC5",
                "#B0BEC5",
                "#B0BEC5",
                "#B0BEC5",
                "#B0BEC5",
                "#B0BEC5"
               ]
              ]
             }
            ],
            "label": "Topic 14",
            "method": "update"
           },
           {
            "args": [
             {
              "marker.color": [
               [
                "#B0BEC5",
                "#B0BEC5",
                "#B0BEC5",
                "#B0BEC5",
                "#B0BEC5",
                "#B0BEC5",
                "#B0BEC5",
                "#B0BEC5",
                "#B0BEC5",
                "#B0BEC5",
                "#B0BEC5",
                "#B0BEC5",
                "#B0BEC5",
                "#B0BEC5",
                "#B0BEC5",
                "red",
                "#B0BEC5",
                "#B0BEC5",
                "#B0BEC5",
                "#B0BEC5",
                "#B0BEC5"
               ]
              ]
             }
            ],
            "label": "Topic 15",
            "method": "update"
           },
           {
            "args": [
             {
              "marker.color": [
               [
                "#B0BEC5",
                "#B0BEC5",
                "#B0BEC5",
                "#B0BEC5",
                "#B0BEC5",
                "#B0BEC5",
                "#B0BEC5",
                "#B0BEC5",
                "#B0BEC5",
                "#B0BEC5",
                "#B0BEC5",
                "#B0BEC5",
                "#B0BEC5",
                "#B0BEC5",
                "#B0BEC5",
                "#B0BEC5",
                "red",
                "#B0BEC5",
                "#B0BEC5",
                "#B0BEC5",
                "#B0BEC5"
               ]
              ]
             }
            ],
            "label": "Topic 16",
            "method": "update"
           },
           {
            "args": [
             {
              "marker.color": [
               [
                "#B0BEC5",
                "#B0BEC5",
                "#B0BEC5",
                "#B0BEC5",
                "#B0BEC5",
                "#B0BEC5",
                "#B0BEC5",
                "#B0BEC5",
                "#B0BEC5",
                "#B0BEC5",
                "#B0BEC5",
                "#B0BEC5",
                "#B0BEC5",
                "#B0BEC5",
                "#B0BEC5",
                "#B0BEC5",
                "#B0BEC5",
                "red",
                "#B0BEC5",
                "#B0BEC5",
                "#B0BEC5"
               ]
              ]
             }
            ],
            "label": "Topic 17",
            "method": "update"
           },
           {
            "args": [
             {
              "marker.color": [
               [
                "#B0BEC5",
                "#B0BEC5",
                "#B0BEC5",
                "#B0BEC5",
                "#B0BEC5",
                "#B0BEC5",
                "#B0BEC5",
                "#B0BEC5",
                "#B0BEC5",
                "#B0BEC5",
                "#B0BEC5",
                "#B0BEC5",
                "#B0BEC5",
                "#B0BEC5",
                "#B0BEC5",
                "#B0BEC5",
                "#B0BEC5",
                "#B0BEC5",
                "red",
                "#B0BEC5",
                "#B0BEC5"
               ]
              ]
             }
            ],
            "label": "Topic 18",
            "method": "update"
           },
           {
            "args": [
             {
              "marker.color": [
               [
                "#B0BEC5",
                "#B0BEC5",
                "#B0BEC5",
                "#B0BEC5",
                "#B0BEC5",
                "#B0BEC5",
                "#B0BEC5",
                "#B0BEC5",
                "#B0BEC5",
                "#B0BEC5",
                "#B0BEC5",
                "#B0BEC5",
                "#B0BEC5",
                "#B0BEC5",
                "#B0BEC5",
                "#B0BEC5",
                "#B0BEC5",
                "#B0BEC5",
                "#B0BEC5",
                "red",
                "#B0BEC5"
               ]
              ]
             }
            ],
            "label": "Topic 19",
            "method": "update"
           },
           {
            "args": [
             {
              "marker.color": [
               [
                "#B0BEC5",
                "#B0BEC5",
                "#B0BEC5",
                "#B0BEC5",
                "#B0BEC5",
                "#B0BEC5",
                "#B0BEC5",
                "#B0BEC5",
                "#B0BEC5",
                "#B0BEC5",
                "#B0BEC5",
                "#B0BEC5",
                "#B0BEC5",
                "#B0BEC5",
                "#B0BEC5",
                "#B0BEC5",
                "#B0BEC5",
                "#B0BEC5",
                "#B0BEC5",
                "#B0BEC5",
                "red"
               ]
              ]
             }
            ],
            "label": "Topic 20",
            "method": "update"
           }
          ]
         }
        ],
        "template": {
         "data": {
          "bar": [
           {
            "error_x": {
             "color": "rgb(36,36,36)"
            },
            "error_y": {
             "color": "rgb(36,36,36)"
            },
            "marker": {
             "line": {
              "color": "white",
              "width": 0.5
             },
             "pattern": {
              "fillmode": "overlay",
              "size": 10,
              "solidity": 0.2
             }
            },
            "type": "bar"
           }
          ],
          "barpolar": [
           {
            "marker": {
             "line": {
              "color": "white",
              "width": 0.5
             },
             "pattern": {
              "fillmode": "overlay",
              "size": 10,
              "solidity": 0.2
             }
            },
            "type": "barpolar"
           }
          ],
          "carpet": [
           {
            "aaxis": {
             "endlinecolor": "rgb(36,36,36)",
             "gridcolor": "white",
             "linecolor": "white",
             "minorgridcolor": "white",
             "startlinecolor": "rgb(36,36,36)"
            },
            "baxis": {
             "endlinecolor": "rgb(36,36,36)",
             "gridcolor": "white",
             "linecolor": "white",
             "minorgridcolor": "white",
             "startlinecolor": "rgb(36,36,36)"
            },
            "type": "carpet"
           }
          ],
          "choropleth": [
           {
            "colorbar": {
             "outlinewidth": 1,
             "tickcolor": "rgb(36,36,36)",
             "ticks": "outside"
            },
            "type": "choropleth"
           }
          ],
          "contour": [
           {
            "colorbar": {
             "outlinewidth": 1,
             "tickcolor": "rgb(36,36,36)",
             "ticks": "outside"
            },
            "colorscale": [
             [
              0,
              "#440154"
             ],
             [
              0.1111111111111111,
              "#482878"
             ],
             [
              0.2222222222222222,
              "#3e4989"
             ],
             [
              0.3333333333333333,
              "#31688e"
             ],
             [
              0.4444444444444444,
              "#26828e"
             ],
             [
              0.5555555555555556,
              "#1f9e89"
             ],
             [
              0.6666666666666666,
              "#35b779"
             ],
             [
              0.7777777777777778,
              "#6ece58"
             ],
             [
              0.8888888888888888,
              "#b5de2b"
             ],
             [
              1,
              "#fde725"
             ]
            ],
            "type": "contour"
           }
          ],
          "contourcarpet": [
           {
            "colorbar": {
             "outlinewidth": 1,
             "tickcolor": "rgb(36,36,36)",
             "ticks": "outside"
            },
            "type": "contourcarpet"
           }
          ],
          "heatmap": [
           {
            "colorbar": {
             "outlinewidth": 1,
             "tickcolor": "rgb(36,36,36)",
             "ticks": "outside"
            },
            "colorscale": [
             [
              0,
              "#440154"
             ],
             [
              0.1111111111111111,
              "#482878"
             ],
             [
              0.2222222222222222,
              "#3e4989"
             ],
             [
              0.3333333333333333,
              "#31688e"
             ],
             [
              0.4444444444444444,
              "#26828e"
             ],
             [
              0.5555555555555556,
              "#1f9e89"
             ],
             [
              0.6666666666666666,
              "#35b779"
             ],
             [
              0.7777777777777778,
              "#6ece58"
             ],
             [
              0.8888888888888888,
              "#b5de2b"
             ],
             [
              1,
              "#fde725"
             ]
            ],
            "type": "heatmap"
           }
          ],
          "heatmapgl": [
           {
            "colorbar": {
             "outlinewidth": 1,
             "tickcolor": "rgb(36,36,36)",
             "ticks": "outside"
            },
            "colorscale": [
             [
              0,
              "#440154"
             ],
             [
              0.1111111111111111,
              "#482878"
             ],
             [
              0.2222222222222222,
              "#3e4989"
             ],
             [
              0.3333333333333333,
              "#31688e"
             ],
             [
              0.4444444444444444,
              "#26828e"
             ],
             [
              0.5555555555555556,
              "#1f9e89"
             ],
             [
              0.6666666666666666,
              "#35b779"
             ],
             [
              0.7777777777777778,
              "#6ece58"
             ],
             [
              0.8888888888888888,
              "#b5de2b"
             ],
             [
              1,
              "#fde725"
             ]
            ],
            "type": "heatmapgl"
           }
          ],
          "histogram": [
           {
            "marker": {
             "line": {
              "color": "white",
              "width": 0.6
             }
            },
            "type": "histogram"
           }
          ],
          "histogram2d": [
           {
            "colorbar": {
             "outlinewidth": 1,
             "tickcolor": "rgb(36,36,36)",
             "ticks": "outside"
            },
            "colorscale": [
             [
              0,
              "#440154"
             ],
             [
              0.1111111111111111,
              "#482878"
             ],
             [
              0.2222222222222222,
              "#3e4989"
             ],
             [
              0.3333333333333333,
              "#31688e"
             ],
             [
              0.4444444444444444,
              "#26828e"
             ],
             [
              0.5555555555555556,
              "#1f9e89"
             ],
             [
              0.6666666666666666,
              "#35b779"
             ],
             [
              0.7777777777777778,
              "#6ece58"
             ],
             [
              0.8888888888888888,
              "#b5de2b"
             ],
             [
              1,
              "#fde725"
             ]
            ],
            "type": "histogram2d"
           }
          ],
          "histogram2dcontour": [
           {
            "colorbar": {
             "outlinewidth": 1,
             "tickcolor": "rgb(36,36,36)",
             "ticks": "outside"
            },
            "colorscale": [
             [
              0,
              "#440154"
             ],
             [
              0.1111111111111111,
              "#482878"
             ],
             [
              0.2222222222222222,
              "#3e4989"
             ],
             [
              0.3333333333333333,
              "#31688e"
             ],
             [
              0.4444444444444444,
              "#26828e"
             ],
             [
              0.5555555555555556,
              "#1f9e89"
             ],
             [
              0.6666666666666666,
              "#35b779"
             ],
             [
              0.7777777777777778,
              "#6ece58"
             ],
             [
              0.8888888888888888,
              "#b5de2b"
             ],
             [
              1,
              "#fde725"
             ]
            ],
            "type": "histogram2dcontour"
           }
          ],
          "mesh3d": [
           {
            "colorbar": {
             "outlinewidth": 1,
             "tickcolor": "rgb(36,36,36)",
             "ticks": "outside"
            },
            "type": "mesh3d"
           }
          ],
          "parcoords": [
           {
            "line": {
             "colorbar": {
              "outlinewidth": 1,
              "tickcolor": "rgb(36,36,36)",
              "ticks": "outside"
             }
            },
            "type": "parcoords"
           }
          ],
          "pie": [
           {
            "automargin": true,
            "type": "pie"
           }
          ],
          "scatter": [
           {
            "fillpattern": {
             "fillmode": "overlay",
             "size": 10,
             "solidity": 0.2
            },
            "type": "scatter"
           }
          ],
          "scatter3d": [
           {
            "line": {
             "colorbar": {
              "outlinewidth": 1,
              "tickcolor": "rgb(36,36,36)",
              "ticks": "outside"
             }
            },
            "marker": {
             "colorbar": {
              "outlinewidth": 1,
              "tickcolor": "rgb(36,36,36)",
              "ticks": "outside"
             }
            },
            "type": "scatter3d"
           }
          ],
          "scattercarpet": [
           {
            "marker": {
             "colorbar": {
              "outlinewidth": 1,
              "tickcolor": "rgb(36,36,36)",
              "ticks": "outside"
             }
            },
            "type": "scattercarpet"
           }
          ],
          "scattergeo": [
           {
            "marker": {
             "colorbar": {
              "outlinewidth": 1,
              "tickcolor": "rgb(36,36,36)",
              "ticks": "outside"
             }
            },
            "type": "scattergeo"
           }
          ],
          "scattergl": [
           {
            "marker": {
             "colorbar": {
              "outlinewidth": 1,
              "tickcolor": "rgb(36,36,36)",
              "ticks": "outside"
             }
            },
            "type": "scattergl"
           }
          ],
          "scattermapbox": [
           {
            "marker": {
             "colorbar": {
              "outlinewidth": 1,
              "tickcolor": "rgb(36,36,36)",
              "ticks": "outside"
             }
            },
            "type": "scattermapbox"
           }
          ],
          "scatterpolar": [
           {
            "marker": {
             "colorbar": {
              "outlinewidth": 1,
              "tickcolor": "rgb(36,36,36)",
              "ticks": "outside"
             }
            },
            "type": "scatterpolar"
           }
          ],
          "scatterpolargl": [
           {
            "marker": {
             "colorbar": {
              "outlinewidth": 1,
              "tickcolor": "rgb(36,36,36)",
              "ticks": "outside"
             }
            },
            "type": "scatterpolargl"
           }
          ],
          "scatterternary": [
           {
            "marker": {
             "colorbar": {
              "outlinewidth": 1,
              "tickcolor": "rgb(36,36,36)",
              "ticks": "outside"
             }
            },
            "type": "scatterternary"
           }
          ],
          "surface": [
           {
            "colorbar": {
             "outlinewidth": 1,
             "tickcolor": "rgb(36,36,36)",
             "ticks": "outside"
            },
            "colorscale": [
             [
              0,
              "#440154"
             ],
             [
              0.1111111111111111,
              "#482878"
             ],
             [
              0.2222222222222222,
              "#3e4989"
             ],
             [
              0.3333333333333333,
              "#31688e"
             ],
             [
              0.4444444444444444,
              "#26828e"
             ],
             [
              0.5555555555555556,
              "#1f9e89"
             ],
             [
              0.6666666666666666,
              "#35b779"
             ],
             [
              0.7777777777777778,
              "#6ece58"
             ],
             [
              0.8888888888888888,
              "#b5de2b"
             ],
             [
              1,
              "#fde725"
             ]
            ],
            "type": "surface"
           }
          ],
          "table": [
           {
            "cells": {
             "fill": {
              "color": "rgb(237,237,237)"
             },
             "line": {
              "color": "white"
             }
            },
            "header": {
             "fill": {
              "color": "rgb(217,217,217)"
             },
             "line": {
              "color": "white"
             }
            },
            "type": "table"
           }
          ]
         },
         "layout": {
          "annotationdefaults": {
           "arrowhead": 0,
           "arrowwidth": 1
          },
          "autotypenumbers": "strict",
          "coloraxis": {
           "colorbar": {
            "outlinewidth": 1,
            "tickcolor": "rgb(36,36,36)",
            "ticks": "outside"
           }
          },
          "colorscale": {
           "diverging": [
            [
             0,
             "rgb(103,0,31)"
            ],
            [
             0.1,
             "rgb(178,24,43)"
            ],
            [
             0.2,
             "rgb(214,96,77)"
            ],
            [
             0.3,
             "rgb(244,165,130)"
            ],
            [
             0.4,
             "rgb(253,219,199)"
            ],
            [
             0.5,
             "rgb(247,247,247)"
            ],
            [
             0.6,
             "rgb(209,229,240)"
            ],
            [
             0.7,
             "rgb(146,197,222)"
            ],
            [
             0.8,
             "rgb(67,147,195)"
            ],
            [
             0.9,
             "rgb(33,102,172)"
            ],
            [
             1,
             "rgb(5,48,97)"
            ]
           ],
           "sequential": [
            [
             0,
             "#440154"
            ],
            [
             0.1111111111111111,
             "#482878"
            ],
            [
             0.2222222222222222,
             "#3e4989"
            ],
            [
             0.3333333333333333,
             "#31688e"
            ],
            [
             0.4444444444444444,
             "#26828e"
            ],
            [
             0.5555555555555556,
             "#1f9e89"
            ],
            [
             0.6666666666666666,
             "#35b779"
            ],
            [
             0.7777777777777778,
             "#6ece58"
            ],
            [
             0.8888888888888888,
             "#b5de2b"
            ],
            [
             1,
             "#fde725"
            ]
           ],
           "sequentialminus": [
            [
             0,
             "#440154"
            ],
            [
             0.1111111111111111,
             "#482878"
            ],
            [
             0.2222222222222222,
             "#3e4989"
            ],
            [
             0.3333333333333333,
             "#31688e"
            ],
            [
             0.4444444444444444,
             "#26828e"
            ],
            [
             0.5555555555555556,
             "#1f9e89"
            ],
            [
             0.6666666666666666,
             "#35b779"
            ],
            [
             0.7777777777777778,
             "#6ece58"
            ],
            [
             0.8888888888888888,
             "#b5de2b"
            ],
            [
             1,
             "#fde725"
            ]
           ]
          },
          "colorway": [
           "#1F77B4",
           "#FF7F0E",
           "#2CA02C",
           "#D62728",
           "#9467BD",
           "#8C564B",
           "#E377C2",
           "#7F7F7F",
           "#BCBD22",
           "#17BECF"
          ],
          "font": {
           "color": "rgb(36,36,36)"
          },
          "geo": {
           "bgcolor": "white",
           "lakecolor": "white",
           "landcolor": "white",
           "showlakes": true,
           "showland": true,
           "subunitcolor": "white"
          },
          "hoverlabel": {
           "align": "left"
          },
          "hovermode": "closest",
          "mapbox": {
           "style": "light"
          },
          "paper_bgcolor": "white",
          "plot_bgcolor": "white",
          "polar": {
           "angularaxis": {
            "gridcolor": "rgb(232,232,232)",
            "linecolor": "rgb(36,36,36)",
            "showgrid": false,
            "showline": true,
            "ticks": "outside"
           },
           "bgcolor": "white",
           "radialaxis": {
            "gridcolor": "rgb(232,232,232)",
            "linecolor": "rgb(36,36,36)",
            "showgrid": false,
            "showline": true,
            "ticks": "outside"
           }
          },
          "scene": {
           "xaxis": {
            "backgroundcolor": "white",
            "gridcolor": "rgb(232,232,232)",
            "gridwidth": 2,
            "linecolor": "rgb(36,36,36)",
            "showbackground": true,
            "showgrid": false,
            "showline": true,
            "ticks": "outside",
            "zeroline": false,
            "zerolinecolor": "rgb(36,36,36)"
           },
           "yaxis": {
            "backgroundcolor": "white",
            "gridcolor": "rgb(232,232,232)",
            "gridwidth": 2,
            "linecolor": "rgb(36,36,36)",
            "showbackground": true,
            "showgrid": false,
            "showline": true,
            "ticks": "outside",
            "zeroline": false,
            "zerolinecolor": "rgb(36,36,36)"
           },
           "zaxis": {
            "backgroundcolor": "white",
            "gridcolor": "rgb(232,232,232)",
            "gridwidth": 2,
            "linecolor": "rgb(36,36,36)",
            "showbackground": true,
            "showgrid": false,
            "showline": true,
            "ticks": "outside",
            "zeroline": false,
            "zerolinecolor": "rgb(36,36,36)"
           }
          },
          "shapedefaults": {
           "fillcolor": "black",
           "line": {
            "width": 0
           },
           "opacity": 0.3
          },
          "ternary": {
           "aaxis": {
            "gridcolor": "rgb(232,232,232)",
            "linecolor": "rgb(36,36,36)",
            "showgrid": false,
            "showline": true,
            "ticks": "outside"
           },
           "baxis": {
            "gridcolor": "rgb(232,232,232)",
            "linecolor": "rgb(36,36,36)",
            "showgrid": false,
            "showline": true,
            "ticks": "outside"
           },
           "bgcolor": "white",
           "caxis": {
            "gridcolor": "rgb(232,232,232)",
            "linecolor": "rgb(36,36,36)",
            "showgrid": false,
            "showline": true,
            "ticks": "outside"
           }
          },
          "title": {
           "x": 0.05
          },
          "xaxis": {
           "automargin": true,
           "gridcolor": "rgb(232,232,232)",
           "linecolor": "rgb(36,36,36)",
           "showgrid": false,
           "showline": true,
           "ticks": "outside",
           "title": {
            "standoff": 15
           },
           "zeroline": false,
           "zerolinecolor": "rgb(36,36,36)"
          },
          "yaxis": {
           "automargin": true,
           "gridcolor": "rgb(232,232,232)",
           "linecolor": "rgb(36,36,36)",
           "showgrid": false,
           "showline": true,
           "ticks": "outside",
           "title": {
            "standoff": 15
           },
           "zeroline": false,
           "zerolinecolor": "rgb(36,36,36)"
          }
         }
        },
        "title": {
         "font": {
          "color": "Black",
          "size": 22
         },
         "text": "<b>Intertopic Distance Map</b>",
         "x": 0.5,
         "xanchor": "center",
         "y": 0.95,
         "yanchor": "top"
        },
        "width": 650,
        "xaxis": {
         "anchor": "y",
         "domain": [
          0,
          1
         ],
         "range": [
          -7.155767893791198,
          13.120221042633057
         ],
         "title": {
          "text": ""
         },
         "visible": false
        },
        "yaxis": {
         "anchor": "x",
         "domain": [
          0,
          1
         ],
         "range": [
          -2.2160811722278595,
          17.240798473358154
         ],
         "title": {
          "text": ""
         },
         "visible": false
        }
       }
      },
      "text/html": [
       "<div>                            <div id=\"e8265323-814d-497c-a3b4-e4797fc9bffd\" class=\"plotly-graph-div\" style=\"height:650px; width:650px;\"></div>            <script type=\"text/javascript\">                require([\"plotly\"], function(Plotly) {                    window.PLOTLYENV=window.PLOTLYENV || {};                                    if (document.getElementById(\"e8265323-814d-497c-a3b4-e4797fc9bffd\")) {                    Plotly.newPlot(                        \"e8265323-814d-497c-a3b4-e4797fc9bffd\",                        [{\"customdata\":[[0,\"非常 | 不错 | 很快 | 京东 | 内容\",659],[1,\"清晰 | 打印 | 打印 清晰 | 清楚 | 清晰 书本\",60],[2,\"经典 | 学习 | 书籍 | 数学 | 系列\",57],[3,\"产品 | 视觉 | 机器 | 学习 | 技术\",45],[4,\"人工智能 | 机器人 | 本书 | 人工智能 发展 | 发展\",41],[5,\"物流 | 物流 很快 包装 | 物流 很快 | 很快 包装 | 物流 非常\",40],[6,\"学习 | 质量 | 学习 质量 | 这些 | 很大\",35],[7,\"深度 学习 | 深度 | 学习 | 慢慢 | 一定\",30],[8,\"物流 | 包装 | 采购 书籍 出版社 | 物流 包装 正版 | 书籍 出版社 直发\",23],[9,\"python | 复杂 产品 | 想法 | 如何 | 复杂\",22],[10,\"实用 | 专业 非常 实用 | 专业 非常 | 实用 不错 | 教材 一个\",21],[11,\"本书 | 2020 | 方式 配图 | 好书 之一 2020 | 教育\",21],[12,\"神经网络 | 比较 | 实验室 | 神经网络 入门 | 还是 京东\",20],[13,\"书里 内容 | 书里 | tensorflow | 内容 更加 | 编排 比较 符合\",20],[14,\"本书 | 实体书 支持 | 必须 一本 实体书 | 书籍 必须 | 一本 实体书 支持\",20],[15,\"没有 | 没有 空白页 纸张 | 破损 没有 | 不错 开始 学习 | 空白页 纸张 质量\",17],[16,\"全面 | 详细 | 全面 了解 | 值得 学习 | 了解 内容\",16],[17,\"颜色 质量 | 颜色 | 颜色 质量 非常 | 非常 质量 | 质量 颜色 质量\",15],[18,\"618 | 活动 | 当天 下单 隔天 | 囤书 | 下单 隔天\",15],[19,\"非常 本书 | 本书 非常适合 | 理论性 | 非常 本书 非常适合 | 本书 通俗易懂\",15],[20,\"昨天 今天 | 手感 不错 | 收到 神速 | 质量 手感 不错 | 收到 神速 自己\",14]],\"hovertemplate\":\"<b>Topic %{customdata[0]}</b><br>%{customdata[1]}<br>Size: %{customdata[2]}\",\"legendgroup\":\"\",\"marker\":{\"color\":\"#B0BEC5\",\"size\":[659,60,57,45,41,40,35,30,23,22,21,21,20,20,20,17,16,15,15,15,14],\"sizemode\":\"area\",\"sizeref\":0.411875,\"symbol\":\"circle\",\"line\":{\"color\":\"DarkSlateGrey\",\"width\":2}},\"mode\":\"markers\",\"name\":\"\",\"orientation\":\"v\",\"showlegend\":false,\"x\":[10.954121,-5.994431,11.194445,11.188022,11.408888,-5.5699415,10.950656,10.238916,-4.8988233,10.999561,-1.1687291,-4.6738,11.288952,-6.222407,10.837241,-5.804625,10.749625,10.275092,-5.068107,10.559779,-1.0953227],\"xaxis\":\"x\",\"y\":[-1.9270271,13.957316,-1.7002524,-1.2349001,0.6640097,14.357319,0.47257975,1.8015344,14.766916,-0.63522977,1.9716516,14.991999,0.24149348,13.687689,1.0977831,14.14781,-0.59972876,1.2917961,14.537345,1.5305641,2.0304217],\"yaxis\":\"y\",\"type\":\"scatter\"}],                        {\"template\":{\"data\":{\"barpolar\":[{\"marker\":{\"line\":{\"color\":\"white\",\"width\":0.5},\"pattern\":{\"fillmode\":\"overlay\",\"size\":10,\"solidity\":0.2}},\"type\":\"barpolar\"}],\"bar\":[{\"error_x\":{\"color\":\"rgb(36,36,36)\"},\"error_y\":{\"color\":\"rgb(36,36,36)\"},\"marker\":{\"line\":{\"color\":\"white\",\"width\":0.5},\"pattern\":{\"fillmode\":\"overlay\",\"size\":10,\"solidity\":0.2}},\"type\":\"bar\"}],\"carpet\":[{\"aaxis\":{\"endlinecolor\":\"rgb(36,36,36)\",\"gridcolor\":\"white\",\"linecolor\":\"white\",\"minorgridcolor\":\"white\",\"startlinecolor\":\"rgb(36,36,36)\"},\"baxis\":{\"endlinecolor\":\"rgb(36,36,36)\",\"gridcolor\":\"white\",\"linecolor\":\"white\",\"minorgridcolor\":\"white\",\"startlinecolor\":\"rgb(36,36,36)\"},\"type\":\"carpet\"}],\"choropleth\":[{\"colorbar\":{\"outlinewidth\":1,\"tickcolor\":\"rgb(36,36,36)\",\"ticks\":\"outside\"},\"type\":\"choropleth\"}],\"contourcarpet\":[{\"colorbar\":{\"outlinewidth\":1,\"tickcolor\":\"rgb(36,36,36)\",\"ticks\":\"outside\"},\"type\":\"contourcarpet\"}],\"contour\":[{\"colorbar\":{\"outlinewidth\":1,\"tickcolor\":\"rgb(36,36,36)\",\"ticks\":\"outside\"},\"colorscale\":[[0.0,\"#440154\"],[0.1111111111111111,\"#482878\"],[0.2222222222222222,\"#3e4989\"],[0.3333333333333333,\"#31688e\"],[0.4444444444444444,\"#26828e\"],[0.5555555555555556,\"#1f9e89\"],[0.6666666666666666,\"#35b779\"],[0.7777777777777778,\"#6ece58\"],[0.8888888888888888,\"#b5de2b\"],[1.0,\"#fde725\"]],\"type\":\"contour\"}],\"heatmapgl\":[{\"colorbar\":{\"outlinewidth\":1,\"tickcolor\":\"rgb(36,36,36)\",\"ticks\":\"outside\"},\"colorscale\":[[0.0,\"#440154\"],[0.1111111111111111,\"#482878\"],[0.2222222222222222,\"#3e4989\"],[0.3333333333333333,\"#31688e\"],[0.4444444444444444,\"#26828e\"],[0.5555555555555556,\"#1f9e89\"],[0.6666666666666666,\"#35b779\"],[0.7777777777777778,\"#6ece58\"],[0.8888888888888888,\"#b5de2b\"],[1.0,\"#fde725\"]],\"type\":\"heatmapgl\"}],\"heatmap\":[{\"colorbar\":{\"outlinewidth\":1,\"tickcolor\":\"rgb(36,36,36)\",\"ticks\":\"outside\"},\"colorscale\":[[0.0,\"#440154\"],[0.1111111111111111,\"#482878\"],[0.2222222222222222,\"#3e4989\"],[0.3333333333333333,\"#31688e\"],[0.4444444444444444,\"#26828e\"],[0.5555555555555556,\"#1f9e89\"],[0.6666666666666666,\"#35b779\"],[0.7777777777777778,\"#6ece58\"],[0.8888888888888888,\"#b5de2b\"],[1.0,\"#fde725\"]],\"type\":\"heatmap\"}],\"histogram2dcontour\":[{\"colorbar\":{\"outlinewidth\":1,\"tickcolor\":\"rgb(36,36,36)\",\"ticks\":\"outside\"},\"colorscale\":[[0.0,\"#440154\"],[0.1111111111111111,\"#482878\"],[0.2222222222222222,\"#3e4989\"],[0.3333333333333333,\"#31688e\"],[0.4444444444444444,\"#26828e\"],[0.5555555555555556,\"#1f9e89\"],[0.6666666666666666,\"#35b779\"],[0.7777777777777778,\"#6ece58\"],[0.8888888888888888,\"#b5de2b\"],[1.0,\"#fde725\"]],\"type\":\"histogram2dcontour\"}],\"histogram2d\":[{\"colorbar\":{\"outlinewidth\":1,\"tickcolor\":\"rgb(36,36,36)\",\"ticks\":\"outside\"},\"colorscale\":[[0.0,\"#440154\"],[0.1111111111111111,\"#482878\"],[0.2222222222222222,\"#3e4989\"],[0.3333333333333333,\"#31688e\"],[0.4444444444444444,\"#26828e\"],[0.5555555555555556,\"#1f9e89\"],[0.6666666666666666,\"#35b779\"],[0.7777777777777778,\"#6ece58\"],[0.8888888888888888,\"#b5de2b\"],[1.0,\"#fde725\"]],\"type\":\"histogram2d\"}],\"histogram\":[{\"marker\":{\"line\":{\"color\":\"white\",\"width\":0.6}},\"type\":\"histogram\"}],\"mesh3d\":[{\"colorbar\":{\"outlinewidth\":1,\"tickcolor\":\"rgb(36,36,36)\",\"ticks\":\"outside\"},\"type\":\"mesh3d\"}],\"parcoords\":[{\"line\":{\"colorbar\":{\"outlinewidth\":1,\"tickcolor\":\"rgb(36,36,36)\",\"ticks\":\"outside\"}},\"type\":\"parcoords\"}],\"pie\":[{\"automargin\":true,\"type\":\"pie\"}],\"scatter3d\":[{\"line\":{\"colorbar\":{\"outlinewidth\":1,\"tickcolor\":\"rgb(36,36,36)\",\"ticks\":\"outside\"}},\"marker\":{\"colorbar\":{\"outlinewidth\":1,\"tickcolor\":\"rgb(36,36,36)\",\"ticks\":\"outside\"}},\"type\":\"scatter3d\"}],\"scattercarpet\":[{\"marker\":{\"colorbar\":{\"outlinewidth\":1,\"tickcolor\":\"rgb(36,36,36)\",\"ticks\":\"outside\"}},\"type\":\"scattercarpet\"}],\"scattergeo\":[{\"marker\":{\"colorbar\":{\"outlinewidth\":1,\"tickcolor\":\"rgb(36,36,36)\",\"ticks\":\"outside\"}},\"type\":\"scattergeo\"}],\"scattergl\":[{\"marker\":{\"colorbar\":{\"outlinewidth\":1,\"tickcolor\":\"rgb(36,36,36)\",\"ticks\":\"outside\"}},\"type\":\"scattergl\"}],\"scattermapbox\":[{\"marker\":{\"colorbar\":{\"outlinewidth\":1,\"tickcolor\":\"rgb(36,36,36)\",\"ticks\":\"outside\"}},\"type\":\"scattermapbox\"}],\"scatterpolargl\":[{\"marker\":{\"colorbar\":{\"outlinewidth\":1,\"tickcolor\":\"rgb(36,36,36)\",\"ticks\":\"outside\"}},\"type\":\"scatterpolargl\"}],\"scatterpolar\":[{\"marker\":{\"colorbar\":{\"outlinewidth\":1,\"tickcolor\":\"rgb(36,36,36)\",\"ticks\":\"outside\"}},\"type\":\"scatterpolar\"}],\"scatter\":[{\"fillpattern\":{\"fillmode\":\"overlay\",\"size\":10,\"solidity\":0.2},\"type\":\"scatter\"}],\"scatterternary\":[{\"marker\":{\"colorbar\":{\"outlinewidth\":1,\"tickcolor\":\"rgb(36,36,36)\",\"ticks\":\"outside\"}},\"type\":\"scatterternary\"}],\"surface\":[{\"colorbar\":{\"outlinewidth\":1,\"tickcolor\":\"rgb(36,36,36)\",\"ticks\":\"outside\"},\"colorscale\":[[0.0,\"#440154\"],[0.1111111111111111,\"#482878\"],[0.2222222222222222,\"#3e4989\"],[0.3333333333333333,\"#31688e\"],[0.4444444444444444,\"#26828e\"],[0.5555555555555556,\"#1f9e89\"],[0.6666666666666666,\"#35b779\"],[0.7777777777777778,\"#6ece58\"],[0.8888888888888888,\"#b5de2b\"],[1.0,\"#fde725\"]],\"type\":\"surface\"}],\"table\":[{\"cells\":{\"fill\":{\"color\":\"rgb(237,237,237)\"},\"line\":{\"color\":\"white\"}},\"header\":{\"fill\":{\"color\":\"rgb(217,217,217)\"},\"line\":{\"color\":\"white\"}},\"type\":\"table\"}]},\"layout\":{\"annotationdefaults\":{\"arrowhead\":0,\"arrowwidth\":1},\"autotypenumbers\":\"strict\",\"coloraxis\":{\"colorbar\":{\"outlinewidth\":1,\"tickcolor\":\"rgb(36,36,36)\",\"ticks\":\"outside\"}},\"colorscale\":{\"diverging\":[[0.0,\"rgb(103,0,31)\"],[0.1,\"rgb(178,24,43)\"],[0.2,\"rgb(214,96,77)\"],[0.3,\"rgb(244,165,130)\"],[0.4,\"rgb(253,219,199)\"],[0.5,\"rgb(247,247,247)\"],[0.6,\"rgb(209,229,240)\"],[0.7,\"rgb(146,197,222)\"],[0.8,\"rgb(67,147,195)\"],[0.9,\"rgb(33,102,172)\"],[1.0,\"rgb(5,48,97)\"]],\"sequential\":[[0.0,\"#440154\"],[0.1111111111111111,\"#482878\"],[0.2222222222222222,\"#3e4989\"],[0.3333333333333333,\"#31688e\"],[0.4444444444444444,\"#26828e\"],[0.5555555555555556,\"#1f9e89\"],[0.6666666666666666,\"#35b779\"],[0.7777777777777778,\"#6ece58\"],[0.8888888888888888,\"#b5de2b\"],[1.0,\"#fde725\"]],\"sequentialminus\":[[0.0,\"#440154\"],[0.1111111111111111,\"#482878\"],[0.2222222222222222,\"#3e4989\"],[0.3333333333333333,\"#31688e\"],[0.4444444444444444,\"#26828e\"],[0.5555555555555556,\"#1f9e89\"],[0.6666666666666666,\"#35b779\"],[0.7777777777777778,\"#6ece58\"],[0.8888888888888888,\"#b5de2b\"],[1.0,\"#fde725\"]]},\"colorway\":[\"#1F77B4\",\"#FF7F0E\",\"#2CA02C\",\"#D62728\",\"#9467BD\",\"#8C564B\",\"#E377C2\",\"#7F7F7F\",\"#BCBD22\",\"#17BECF\"],\"font\":{\"color\":\"rgb(36,36,36)\"},\"geo\":{\"bgcolor\":\"white\",\"lakecolor\":\"white\",\"landcolor\":\"white\",\"showlakes\":true,\"showland\":true,\"subunitcolor\":\"white\"},\"hoverlabel\":{\"align\":\"left\"},\"hovermode\":\"closest\",\"mapbox\":{\"style\":\"light\"},\"paper_bgcolor\":\"white\",\"plot_bgcolor\":\"white\",\"polar\":{\"angularaxis\":{\"gridcolor\":\"rgb(232,232,232)\",\"linecolor\":\"rgb(36,36,36)\",\"showgrid\":false,\"showline\":true,\"ticks\":\"outside\"},\"bgcolor\":\"white\",\"radialaxis\":{\"gridcolor\":\"rgb(232,232,232)\",\"linecolor\":\"rgb(36,36,36)\",\"showgrid\":false,\"showline\":true,\"ticks\":\"outside\"}},\"scene\":{\"xaxis\":{\"backgroundcolor\":\"white\",\"gridcolor\":\"rgb(232,232,232)\",\"gridwidth\":2,\"linecolor\":\"rgb(36,36,36)\",\"showbackground\":true,\"showgrid\":false,\"showline\":true,\"ticks\":\"outside\",\"zeroline\":false,\"zerolinecolor\":\"rgb(36,36,36)\"},\"yaxis\":{\"backgroundcolor\":\"white\",\"gridcolor\":\"rgb(232,232,232)\",\"gridwidth\":2,\"linecolor\":\"rgb(36,36,36)\",\"showbackground\":true,\"showgrid\":false,\"showline\":true,\"ticks\":\"outside\",\"zeroline\":false,\"zerolinecolor\":\"rgb(36,36,36)\"},\"zaxis\":{\"backgroundcolor\":\"white\",\"gridcolor\":\"rgb(232,232,232)\",\"gridwidth\":2,\"linecolor\":\"rgb(36,36,36)\",\"showbackground\":true,\"showgrid\":false,\"showline\":true,\"ticks\":\"outside\",\"zeroline\":false,\"zerolinecolor\":\"rgb(36,36,36)\"}},\"shapedefaults\":{\"fillcolor\":\"black\",\"line\":{\"width\":0},\"opacity\":0.3},\"ternary\":{\"aaxis\":{\"gridcolor\":\"rgb(232,232,232)\",\"linecolor\":\"rgb(36,36,36)\",\"showgrid\":false,\"showline\":true,\"ticks\":\"outside\"},\"baxis\":{\"gridcolor\":\"rgb(232,232,232)\",\"linecolor\":\"rgb(36,36,36)\",\"showgrid\":false,\"showline\":true,\"ticks\":\"outside\"},\"bgcolor\":\"white\",\"caxis\":{\"gridcolor\":\"rgb(232,232,232)\",\"linecolor\":\"rgb(36,36,36)\",\"showgrid\":false,\"showline\":true,\"ticks\":\"outside\"}},\"title\":{\"x\":0.05},\"xaxis\":{\"automargin\":true,\"gridcolor\":\"rgb(232,232,232)\",\"linecolor\":\"rgb(36,36,36)\",\"showgrid\":false,\"showline\":true,\"ticks\":\"outside\",\"title\":{\"standoff\":15},\"zeroline\":false,\"zerolinecolor\":\"rgb(36,36,36)\"},\"yaxis\":{\"automargin\":true,\"gridcolor\":\"rgb(232,232,232)\",\"linecolor\":\"rgb(36,36,36)\",\"showgrid\":false,\"showline\":true,\"ticks\":\"outside\",\"title\":{\"standoff\":15},\"zeroline\":false,\"zerolinecolor\":\"rgb(36,36,36)\"}}},\"xaxis\":{\"anchor\":\"y\",\"domain\":[0.0,1.0],\"title\":{\"text\":\"\"},\"visible\":false,\"range\":[-7.155767893791198,13.120221042633057]},\"yaxis\":{\"anchor\":\"x\",\"domain\":[0.0,1.0],\"title\":{\"text\":\"\"},\"visible\":false,\"range\":[-2.2160811722278595,17.240798473358154]},\"legend\":{\"tracegroupgap\":0,\"itemsizing\":\"constant\"},\"margin\":{\"t\":60},\"title\":{\"font\":{\"size\":22,\"color\":\"Black\"},\"text\":\"<b>Intertopic Distance Map</b>\",\"y\":0.95,\"x\":0.5,\"xanchor\":\"center\",\"yanchor\":\"top\"},\"hoverlabel\":{\"font\":{\"size\":16,\"family\":\"Rockwell\"},\"bgcolor\":\"white\"},\"width\":650,\"height\":650,\"sliders\":[{\"active\":0,\"pad\":{\"t\":50},\"steps\":[{\"args\":[{\"marker.color\":[[\"red\",\"#B0BEC5\",\"#B0BEC5\",\"#B0BEC5\",\"#B0BEC5\",\"#B0BEC5\",\"#B0BEC5\",\"#B0BEC5\",\"#B0BEC5\",\"#B0BEC5\",\"#B0BEC5\",\"#B0BEC5\",\"#B0BEC5\",\"#B0BEC5\",\"#B0BEC5\",\"#B0BEC5\",\"#B0BEC5\",\"#B0BEC5\",\"#B0BEC5\",\"#B0BEC5\",\"#B0BEC5\"]]}],\"label\":\"Topic 0\",\"method\":\"update\"},{\"args\":[{\"marker.color\":[[\"#B0BEC5\",\"red\",\"#B0BEC5\",\"#B0BEC5\",\"#B0BEC5\",\"#B0BEC5\",\"#B0BEC5\",\"#B0BEC5\",\"#B0BEC5\",\"#B0BEC5\",\"#B0BEC5\",\"#B0BEC5\",\"#B0BEC5\",\"#B0BEC5\",\"#B0BEC5\",\"#B0BEC5\",\"#B0BEC5\",\"#B0BEC5\",\"#B0BEC5\",\"#B0BEC5\",\"#B0BEC5\"]]}],\"label\":\"Topic 1\",\"method\":\"update\"},{\"args\":[{\"marker.color\":[[\"#B0BEC5\",\"#B0BEC5\",\"red\",\"#B0BEC5\",\"#B0BEC5\",\"#B0BEC5\",\"#B0BEC5\",\"#B0BEC5\",\"#B0BEC5\",\"#B0BEC5\",\"#B0BEC5\",\"#B0BEC5\",\"#B0BEC5\",\"#B0BEC5\",\"#B0BEC5\",\"#B0BEC5\",\"#B0BEC5\",\"#B0BEC5\",\"#B0BEC5\",\"#B0BEC5\",\"#B0BEC5\"]]}],\"label\":\"Topic 2\",\"method\":\"update\"},{\"args\":[{\"marker.color\":[[\"#B0BEC5\",\"#B0BEC5\",\"#B0BEC5\",\"red\",\"#B0BEC5\",\"#B0BEC5\",\"#B0BEC5\",\"#B0BEC5\",\"#B0BEC5\",\"#B0BEC5\",\"#B0BEC5\",\"#B0BEC5\",\"#B0BEC5\",\"#B0BEC5\",\"#B0BEC5\",\"#B0BEC5\",\"#B0BEC5\",\"#B0BEC5\",\"#B0BEC5\",\"#B0BEC5\",\"#B0BEC5\"]]}],\"label\":\"Topic 3\",\"method\":\"update\"},{\"args\":[{\"marker.color\":[[\"#B0BEC5\",\"#B0BEC5\",\"#B0BEC5\",\"#B0BEC5\",\"red\",\"#B0BEC5\",\"#B0BEC5\",\"#B0BEC5\",\"#B0BEC5\",\"#B0BEC5\",\"#B0BEC5\",\"#B0BEC5\",\"#B0BEC5\",\"#B0BEC5\",\"#B0BEC5\",\"#B0BEC5\",\"#B0BEC5\",\"#B0BEC5\",\"#B0BEC5\",\"#B0BEC5\",\"#B0BEC5\"]]}],\"label\":\"Topic 4\",\"method\":\"update\"},{\"args\":[{\"marker.color\":[[\"#B0BEC5\",\"#B0BEC5\",\"#B0BEC5\",\"#B0BEC5\",\"#B0BEC5\",\"red\",\"#B0BEC5\",\"#B0BEC5\",\"#B0BEC5\",\"#B0BEC5\",\"#B0BEC5\",\"#B0BEC5\",\"#B0BEC5\",\"#B0BEC5\",\"#B0BEC5\",\"#B0BEC5\",\"#B0BEC5\",\"#B0BEC5\",\"#B0BEC5\",\"#B0BEC5\",\"#B0BEC5\"]]}],\"label\":\"Topic 5\",\"method\":\"update\"},{\"args\":[{\"marker.color\":[[\"#B0BEC5\",\"#B0BEC5\",\"#B0BEC5\",\"#B0BEC5\",\"#B0BEC5\",\"#B0BEC5\",\"red\",\"#B0BEC5\",\"#B0BEC5\",\"#B0BEC5\",\"#B0BEC5\",\"#B0BEC5\",\"#B0BEC5\",\"#B0BEC5\",\"#B0BEC5\",\"#B0BEC5\",\"#B0BEC5\",\"#B0BEC5\",\"#B0BEC5\",\"#B0BEC5\",\"#B0BEC5\"]]}],\"label\":\"Topic 6\",\"method\":\"update\"},{\"args\":[{\"marker.color\":[[\"#B0BEC5\",\"#B0BEC5\",\"#B0BEC5\",\"#B0BEC5\",\"#B0BEC5\",\"#B0BEC5\",\"#B0BEC5\",\"red\",\"#B0BEC5\",\"#B0BEC5\",\"#B0BEC5\",\"#B0BEC5\",\"#B0BEC5\",\"#B0BEC5\",\"#B0BEC5\",\"#B0BEC5\",\"#B0BEC5\",\"#B0BEC5\",\"#B0BEC5\",\"#B0BEC5\",\"#B0BEC5\"]]}],\"label\":\"Topic 7\",\"method\":\"update\"},{\"args\":[{\"marker.color\":[[\"#B0BEC5\",\"#B0BEC5\",\"#B0BEC5\",\"#B0BEC5\",\"#B0BEC5\",\"#B0BEC5\",\"#B0BEC5\",\"#B0BEC5\",\"red\",\"#B0BEC5\",\"#B0BEC5\",\"#B0BEC5\",\"#B0BEC5\",\"#B0BEC5\",\"#B0BEC5\",\"#B0BEC5\",\"#B0BEC5\",\"#B0BEC5\",\"#B0BEC5\",\"#B0BEC5\",\"#B0BEC5\"]]}],\"label\":\"Topic 8\",\"method\":\"update\"},{\"args\":[{\"marker.color\":[[\"#B0BEC5\",\"#B0BEC5\",\"#B0BEC5\",\"#B0BEC5\",\"#B0BEC5\",\"#B0BEC5\",\"#B0BEC5\",\"#B0BEC5\",\"#B0BEC5\",\"red\",\"#B0BEC5\",\"#B0BEC5\",\"#B0BEC5\",\"#B0BEC5\",\"#B0BEC5\",\"#B0BEC5\",\"#B0BEC5\",\"#B0BEC5\",\"#B0BEC5\",\"#B0BEC5\",\"#B0BEC5\"]]}],\"label\":\"Topic 9\",\"method\":\"update\"},{\"args\":[{\"marker.color\":[[\"#B0BEC5\",\"#B0BEC5\",\"#B0BEC5\",\"#B0BEC5\",\"#B0BEC5\",\"#B0BEC5\",\"#B0BEC5\",\"#B0BEC5\",\"#B0BEC5\",\"#B0BEC5\",\"red\",\"#B0BEC5\",\"#B0BEC5\",\"#B0BEC5\",\"#B0BEC5\",\"#B0BEC5\",\"#B0BEC5\",\"#B0BEC5\",\"#B0BEC5\",\"#B0BEC5\",\"#B0BEC5\"]]}],\"label\":\"Topic 10\",\"method\":\"update\"},{\"args\":[{\"marker.color\":[[\"#B0BEC5\",\"#B0BEC5\",\"#B0BEC5\",\"#B0BEC5\",\"#B0BEC5\",\"#B0BEC5\",\"#B0BEC5\",\"#B0BEC5\",\"#B0BEC5\",\"#B0BEC5\",\"#B0BEC5\",\"red\",\"#B0BEC5\",\"#B0BEC5\",\"#B0BEC5\",\"#B0BEC5\",\"#B0BEC5\",\"#B0BEC5\",\"#B0BEC5\",\"#B0BEC5\",\"#B0BEC5\"]]}],\"label\":\"Topic 11\",\"method\":\"update\"},{\"args\":[{\"marker.color\":[[\"#B0BEC5\",\"#B0BEC5\",\"#B0BEC5\",\"#B0BEC5\",\"#B0BEC5\",\"#B0BEC5\",\"#B0BEC5\",\"#B0BEC5\",\"#B0BEC5\",\"#B0BEC5\",\"#B0BEC5\",\"#B0BEC5\",\"red\",\"#B0BEC5\",\"#B0BEC5\",\"#B0BEC5\",\"#B0BEC5\",\"#B0BEC5\",\"#B0BEC5\",\"#B0BEC5\",\"#B0BEC5\"]]}],\"label\":\"Topic 12\",\"method\":\"update\"},{\"args\":[{\"marker.color\":[[\"#B0BEC5\",\"#B0BEC5\",\"#B0BEC5\",\"#B0BEC5\",\"#B0BEC5\",\"#B0BEC5\",\"#B0BEC5\",\"#B0BEC5\",\"#B0BEC5\",\"#B0BEC5\",\"#B0BEC5\",\"#B0BEC5\",\"#B0BEC5\",\"red\",\"#B0BEC5\",\"#B0BEC5\",\"#B0BEC5\",\"#B0BEC5\",\"#B0BEC5\",\"#B0BEC5\",\"#B0BEC5\"]]}],\"label\":\"Topic 13\",\"method\":\"update\"},{\"args\":[{\"marker.color\":[[\"#B0BEC5\",\"#B0BEC5\",\"#B0BEC5\",\"#B0BEC5\",\"#B0BEC5\",\"#B0BEC5\",\"#B0BEC5\",\"#B0BEC5\",\"#B0BEC5\",\"#B0BEC5\",\"#B0BEC5\",\"#B0BEC5\",\"#B0BEC5\",\"#B0BEC5\",\"red\",\"#B0BEC5\",\"#B0BEC5\",\"#B0BEC5\",\"#B0BEC5\",\"#B0BEC5\",\"#B0BEC5\"]]}],\"label\":\"Topic 14\",\"method\":\"update\"},{\"args\":[{\"marker.color\":[[\"#B0BEC5\",\"#B0BEC5\",\"#B0BEC5\",\"#B0BEC5\",\"#B0BEC5\",\"#B0BEC5\",\"#B0BEC5\",\"#B0BEC5\",\"#B0BEC5\",\"#B0BEC5\",\"#B0BEC5\",\"#B0BEC5\",\"#B0BEC5\",\"#B0BEC5\",\"#B0BEC5\",\"red\",\"#B0BEC5\",\"#B0BEC5\",\"#B0BEC5\",\"#B0BEC5\",\"#B0BEC5\"]]}],\"label\":\"Topic 15\",\"method\":\"update\"},{\"args\":[{\"marker.color\":[[\"#B0BEC5\",\"#B0BEC5\",\"#B0BEC5\",\"#B0BEC5\",\"#B0BEC5\",\"#B0BEC5\",\"#B0BEC5\",\"#B0BEC5\",\"#B0BEC5\",\"#B0BEC5\",\"#B0BEC5\",\"#B0BEC5\",\"#B0BEC5\",\"#B0BEC5\",\"#B0BEC5\",\"#B0BEC5\",\"red\",\"#B0BEC5\",\"#B0BEC5\",\"#B0BEC5\",\"#B0BEC5\"]]}],\"label\":\"Topic 16\",\"method\":\"update\"},{\"args\":[{\"marker.color\":[[\"#B0BEC5\",\"#B0BEC5\",\"#B0BEC5\",\"#B0BEC5\",\"#B0BEC5\",\"#B0BEC5\",\"#B0BEC5\",\"#B0BEC5\",\"#B0BEC5\",\"#B0BEC5\",\"#B0BEC5\",\"#B0BEC5\",\"#B0BEC5\",\"#B0BEC5\",\"#B0BEC5\",\"#B0BEC5\",\"#B0BEC5\",\"red\",\"#B0BEC5\",\"#B0BEC5\",\"#B0BEC5\"]]}],\"label\":\"Topic 17\",\"method\":\"update\"},{\"args\":[{\"marker.color\":[[\"#B0BEC5\",\"#B0BEC5\",\"#B0BEC5\",\"#B0BEC5\",\"#B0BEC5\",\"#B0BEC5\",\"#B0BEC5\",\"#B0BEC5\",\"#B0BEC5\",\"#B0BEC5\",\"#B0BEC5\",\"#B0BEC5\",\"#B0BEC5\",\"#B0BEC5\",\"#B0BEC5\",\"#B0BEC5\",\"#B0BEC5\",\"#B0BEC5\",\"red\",\"#B0BEC5\",\"#B0BEC5\"]]}],\"label\":\"Topic 18\",\"method\":\"update\"},{\"args\":[{\"marker.color\":[[\"#B0BEC5\",\"#B0BEC5\",\"#B0BEC5\",\"#B0BEC5\",\"#B0BEC5\",\"#B0BEC5\",\"#B0BEC5\",\"#B0BEC5\",\"#B0BEC5\",\"#B0BEC5\",\"#B0BEC5\",\"#B0BEC5\",\"#B0BEC5\",\"#B0BEC5\",\"#B0BEC5\",\"#B0BEC5\",\"#B0BEC5\",\"#B0BEC5\",\"#B0BEC5\",\"red\",\"#B0BEC5\"]]}],\"label\":\"Topic 19\",\"method\":\"update\"},{\"args\":[{\"marker.color\":[[\"#B0BEC5\",\"#B0BEC5\",\"#B0BEC5\",\"#B0BEC5\",\"#B0BEC5\",\"#B0BEC5\",\"#B0BEC5\",\"#B0BEC5\",\"#B0BEC5\",\"#B0BEC5\",\"#B0BEC5\",\"#B0BEC5\",\"#B0BEC5\",\"#B0BEC5\",\"#B0BEC5\",\"#B0BEC5\",\"#B0BEC5\",\"#B0BEC5\",\"#B0BEC5\",\"#B0BEC5\",\"red\"]]}],\"label\":\"Topic 20\",\"method\":\"update\"}]}],\"shapes\":[{\"line\":{\"color\":\"#CFD8DC\",\"width\":2},\"type\":\"line\",\"x0\":2.9822265744209293,\"x1\":2.9822265744209293,\"y0\":-2.2160811722278595,\"y1\":17.240798473358154},{\"line\":{\"color\":\"#9E9E9E\",\"width\":2},\"type\":\"line\",\"x0\":-7.155767893791198,\"x1\":13.120221042633057,\"y0\":7.512358650565147,\"y1\":7.512358650565147}],\"annotations\":[{\"showarrow\":false,\"text\":\"D1\",\"x\":-7.155767893791198,\"y\":7.512358650565147,\"yshift\":10},{\"showarrow\":false,\"text\":\"D2\",\"x\":2.9822265744209293,\"xshift\":10,\"y\":17.240798473358154}]},                        {\"responsive\": true}                    ).then(function(){\n",
       "                            \n",
       "var gd = document.getElementById('e8265323-814d-497c-a3b4-e4797fc9bffd');\n",
       "var x = new MutationObserver(function (mutations, observer) {{\n",
       "        var display = window.getComputedStyle(gd).display;\n",
       "        if (!display || display === 'none') {{\n",
       "            console.log([gd, 'removed!']);\n",
       "            Plotly.purge(gd);\n",
       "            observer.disconnect();\n",
       "        }}\n",
       "}});\n",
       "\n",
       "// Listen for the removal of the full notebook cells\n",
       "var notebookContainer = gd.closest('#notebook-container');\n",
       "if (notebookContainer) {{\n",
       "    x.observe(notebookContainer, {childList: true});\n",
       "}}\n",
       "\n",
       "// Listen for the clearing of the current output cell\n",
       "var outputEl = gd.closest('.output');\n",
       "if (outputEl) {{\n",
       "    x.observe(outputEl, {childList: true});\n",
       "}}\n",
       "\n",
       "                        })                };                });            </script>        </div>"
      ]
     },
     "metadata": {},
     "output_type": "display_data"
    }
   ],
   "source": [
    "model.visualize_topics()"
   ]
  },
  {
   "cell_type": "code",
   "execution_count": null,
   "id": "b36bc430",
   "metadata": {},
   "outputs": [],
   "source": []
  },
  {
   "cell_type": "code",
   "execution_count": 18,
   "id": "d61543ac",
   "metadata": {},
   "outputs": [
    {
     "data": {
      "application/vnd.plotly.v1+json": {
       "config": {
        "plotlyServerURL": "https://plot.ly"
       },
       "data": [
        {
         "marker": {
          "color": "#C8D2D7",
          "line": {
           "color": "#6E8484",
           "width": 1
          }
         },
         "orientation": "h",
         "type": "bar",
         "x": [
          0.5817112761084373,
          0.27648500772474366,
          0.9178537656138019,
          0.8186588149112153,
          0.3285337194400278,
          0.8636256788717569,
          0.7628022778777436,
          0.6661786929948401,
          1,
          1,
          1,
          1,
          1,
          1,
          1,
          1,
          1,
          1,
          1,
          1,
          1
         ],
         "y": [
          "<b>Topic 0</b>: 非常_不错_很快_京东_内容",
          "<b>Topic 1</b>: 清晰_打印_打印 清晰_清楚_清晰 书本",
          "<b>Topic 2</b>: 经典_学习_书籍_数学_系列",
          "<b>Topic 3</b>: 产品_视觉_机器_学习_技术",
          "<b>Topic 4</b>: 人工智能_机器人_本书_人工智能 发展_发展",
          "<b>Topic 5</b>: 物流_物流 很快 包装_物流 很快_很快 包装_...",
          "<b>Topic 6</b>: 学习_质量_学习 质量_这些_很大",
          "<b>Topic 7</b>: 深度 学习_深度_学习_慢慢_一定",
          "<b>Topic 8</b>: 物流_包装_采购 书籍 出版社_物流 包装 正版...",
          "<b>Topic 9</b>: python_复杂 产品_想法_如何_复杂",
          "<b>Topic 10</b>: 实用_专业 非常 实用_专业 非常_实用 不错...",
          "<b>Topic 11</b>: 本书_2020_方式 配图_好书 之一 202...",
          "<b>Topic 12</b>: 神经网络_比较_实验室_神经网络 入门_还是 ...",
          "<b>Topic 13</b>: 书里 内容_书里_tensorflow_内容 ...",
          "<b>Topic 14</b>: 本书_实体书 支持_必须 一本 实体书_书籍 ...",
          "<b>Topic 15</b>: 没有_没有 空白页 纸张_破损 没有_不错 开...",
          "<b>Topic 16</b>: 全面_详细_全面 了解_值得 学习_了解 内容",
          "<b>Topic 17</b>: 颜色 质量_颜色_颜色 质量 非常_非常 质量...",
          "<b>Topic 18</b>: 618_活动_当天 下单 隔天_囤书_下单 隔...",
          "<b>Topic 19</b>: 非常 本书_本书 非常适合_理论性_非常 本书...",
          "<b>Topic 20</b>: 昨天 今天_手感 不错_收到 神速_质量 手感..."
         ]
        }
       ],
       "layout": {
        "height": 600,
        "hoverlabel": {
         "bgcolor": "white",
         "font": {
          "family": "Rockwell",
          "size": 16
         }
        },
        "template": {
         "data": {
          "bar": [
           {
            "error_x": {
             "color": "rgb(36,36,36)"
            },
            "error_y": {
             "color": "rgb(36,36,36)"
            },
            "marker": {
             "line": {
              "color": "white",
              "width": 0.5
             },
             "pattern": {
              "fillmode": "overlay",
              "size": 10,
              "solidity": 0.2
             }
            },
            "type": "bar"
           }
          ],
          "barpolar": [
           {
            "marker": {
             "line": {
              "color": "white",
              "width": 0.5
             },
             "pattern": {
              "fillmode": "overlay",
              "size": 10,
              "solidity": 0.2
             }
            },
            "type": "barpolar"
           }
          ],
          "carpet": [
           {
            "aaxis": {
             "endlinecolor": "rgb(36,36,36)",
             "gridcolor": "white",
             "linecolor": "white",
             "minorgridcolor": "white",
             "startlinecolor": "rgb(36,36,36)"
            },
            "baxis": {
             "endlinecolor": "rgb(36,36,36)",
             "gridcolor": "white",
             "linecolor": "white",
             "minorgridcolor": "white",
             "startlinecolor": "rgb(36,36,36)"
            },
            "type": "carpet"
           }
          ],
          "choropleth": [
           {
            "colorbar": {
             "outlinewidth": 1,
             "tickcolor": "rgb(36,36,36)",
             "ticks": "outside"
            },
            "type": "choropleth"
           }
          ],
          "contour": [
           {
            "colorbar": {
             "outlinewidth": 1,
             "tickcolor": "rgb(36,36,36)",
             "ticks": "outside"
            },
            "colorscale": [
             [
              0,
              "#440154"
             ],
             [
              0.1111111111111111,
              "#482878"
             ],
             [
              0.2222222222222222,
              "#3e4989"
             ],
             [
              0.3333333333333333,
              "#31688e"
             ],
             [
              0.4444444444444444,
              "#26828e"
             ],
             [
              0.5555555555555556,
              "#1f9e89"
             ],
             [
              0.6666666666666666,
              "#35b779"
             ],
             [
              0.7777777777777778,
              "#6ece58"
             ],
             [
              0.8888888888888888,
              "#b5de2b"
             ],
             [
              1,
              "#fde725"
             ]
            ],
            "type": "contour"
           }
          ],
          "contourcarpet": [
           {
            "colorbar": {
             "outlinewidth": 1,
             "tickcolor": "rgb(36,36,36)",
             "ticks": "outside"
            },
            "type": "contourcarpet"
           }
          ],
          "heatmap": [
           {
            "colorbar": {
             "outlinewidth": 1,
             "tickcolor": "rgb(36,36,36)",
             "ticks": "outside"
            },
            "colorscale": [
             [
              0,
              "#440154"
             ],
             [
              0.1111111111111111,
              "#482878"
             ],
             [
              0.2222222222222222,
              "#3e4989"
             ],
             [
              0.3333333333333333,
              "#31688e"
             ],
             [
              0.4444444444444444,
              "#26828e"
             ],
             [
              0.5555555555555556,
              "#1f9e89"
             ],
             [
              0.6666666666666666,
              "#35b779"
             ],
             [
              0.7777777777777778,
              "#6ece58"
             ],
             [
              0.8888888888888888,
              "#b5de2b"
             ],
             [
              1,
              "#fde725"
             ]
            ],
            "type": "heatmap"
           }
          ],
          "heatmapgl": [
           {
            "colorbar": {
             "outlinewidth": 1,
             "tickcolor": "rgb(36,36,36)",
             "ticks": "outside"
            },
            "colorscale": [
             [
              0,
              "#440154"
             ],
             [
              0.1111111111111111,
              "#482878"
             ],
             [
              0.2222222222222222,
              "#3e4989"
             ],
             [
              0.3333333333333333,
              "#31688e"
             ],
             [
              0.4444444444444444,
              "#26828e"
             ],
             [
              0.5555555555555556,
              "#1f9e89"
             ],
             [
              0.6666666666666666,
              "#35b779"
             ],
             [
              0.7777777777777778,
              "#6ece58"
             ],
             [
              0.8888888888888888,
              "#b5de2b"
             ],
             [
              1,
              "#fde725"
             ]
            ],
            "type": "heatmapgl"
           }
          ],
          "histogram": [
           {
            "marker": {
             "line": {
              "color": "white",
              "width": 0.6
             }
            },
            "type": "histogram"
           }
          ],
          "histogram2d": [
           {
            "colorbar": {
             "outlinewidth": 1,
             "tickcolor": "rgb(36,36,36)",
             "ticks": "outside"
            },
            "colorscale": [
             [
              0,
              "#440154"
             ],
             [
              0.1111111111111111,
              "#482878"
             ],
             [
              0.2222222222222222,
              "#3e4989"
             ],
             [
              0.3333333333333333,
              "#31688e"
             ],
             [
              0.4444444444444444,
              "#26828e"
             ],
             [
              0.5555555555555556,
              "#1f9e89"
             ],
             [
              0.6666666666666666,
              "#35b779"
             ],
             [
              0.7777777777777778,
              "#6ece58"
             ],
             [
              0.8888888888888888,
              "#b5de2b"
             ],
             [
              1,
              "#fde725"
             ]
            ],
            "type": "histogram2d"
           }
          ],
          "histogram2dcontour": [
           {
            "colorbar": {
             "outlinewidth": 1,
             "tickcolor": "rgb(36,36,36)",
             "ticks": "outside"
            },
            "colorscale": [
             [
              0,
              "#440154"
             ],
             [
              0.1111111111111111,
              "#482878"
             ],
             [
              0.2222222222222222,
              "#3e4989"
             ],
             [
              0.3333333333333333,
              "#31688e"
             ],
             [
              0.4444444444444444,
              "#26828e"
             ],
             [
              0.5555555555555556,
              "#1f9e89"
             ],
             [
              0.6666666666666666,
              "#35b779"
             ],
             [
              0.7777777777777778,
              "#6ece58"
             ],
             [
              0.8888888888888888,
              "#b5de2b"
             ],
             [
              1,
              "#fde725"
             ]
            ],
            "type": "histogram2dcontour"
           }
          ],
          "mesh3d": [
           {
            "colorbar": {
             "outlinewidth": 1,
             "tickcolor": "rgb(36,36,36)",
             "ticks": "outside"
            },
            "type": "mesh3d"
           }
          ],
          "parcoords": [
           {
            "line": {
             "colorbar": {
              "outlinewidth": 1,
              "tickcolor": "rgb(36,36,36)",
              "ticks": "outside"
             }
            },
            "type": "parcoords"
           }
          ],
          "pie": [
           {
            "automargin": true,
            "type": "pie"
           }
          ],
          "scatter": [
           {
            "fillpattern": {
             "fillmode": "overlay",
             "size": 10,
             "solidity": 0.2
            },
            "type": "scatter"
           }
          ],
          "scatter3d": [
           {
            "line": {
             "colorbar": {
              "outlinewidth": 1,
              "tickcolor": "rgb(36,36,36)",
              "ticks": "outside"
             }
            },
            "marker": {
             "colorbar": {
              "outlinewidth": 1,
              "tickcolor": "rgb(36,36,36)",
              "ticks": "outside"
             }
            },
            "type": "scatter3d"
           }
          ],
          "scattercarpet": [
           {
            "marker": {
             "colorbar": {
              "outlinewidth": 1,
              "tickcolor": "rgb(36,36,36)",
              "ticks": "outside"
             }
            },
            "type": "scattercarpet"
           }
          ],
          "scattergeo": [
           {
            "marker": {
             "colorbar": {
              "outlinewidth": 1,
              "tickcolor": "rgb(36,36,36)",
              "ticks": "outside"
             }
            },
            "type": "scattergeo"
           }
          ],
          "scattergl": [
           {
            "marker": {
             "colorbar": {
              "outlinewidth": 1,
              "tickcolor": "rgb(36,36,36)",
              "ticks": "outside"
             }
            },
            "type": "scattergl"
           }
          ],
          "scattermapbox": [
           {
            "marker": {
             "colorbar": {
              "outlinewidth": 1,
              "tickcolor": "rgb(36,36,36)",
              "ticks": "outside"
             }
            },
            "type": "scattermapbox"
           }
          ],
          "scatterpolar": [
           {
            "marker": {
             "colorbar": {
              "outlinewidth": 1,
              "tickcolor": "rgb(36,36,36)",
              "ticks": "outside"
             }
            },
            "type": "scatterpolar"
           }
          ],
          "scatterpolargl": [
           {
            "marker": {
             "colorbar": {
              "outlinewidth": 1,
              "tickcolor": "rgb(36,36,36)",
              "ticks": "outside"
             }
            },
            "type": "scatterpolargl"
           }
          ],
          "scatterternary": [
           {
            "marker": {
             "colorbar": {
              "outlinewidth": 1,
              "tickcolor": "rgb(36,36,36)",
              "ticks": "outside"
             }
            },
            "type": "scatterternary"
           }
          ],
          "surface": [
           {
            "colorbar": {
             "outlinewidth": 1,
             "tickcolor": "rgb(36,36,36)",
             "ticks": "outside"
            },
            "colorscale": [
             [
              0,
              "#440154"
             ],
             [
              0.1111111111111111,
              "#482878"
             ],
             [
              0.2222222222222222,
              "#3e4989"
             ],
             [
              0.3333333333333333,
              "#31688e"
             ],
             [
              0.4444444444444444,
              "#26828e"
             ],
             [
              0.5555555555555556,
              "#1f9e89"
             ],
             [
              0.6666666666666666,
              "#35b779"
             ],
             [
              0.7777777777777778,
              "#6ece58"
             ],
             [
              0.8888888888888888,
              "#b5de2b"
             ],
             [
              1,
              "#fde725"
             ]
            ],
            "type": "surface"
           }
          ],
          "table": [
           {
            "cells": {
             "fill": {
              "color": "rgb(237,237,237)"
             },
             "line": {
              "color": "white"
             }
            },
            "header": {
             "fill": {
              "color": "rgb(217,217,217)"
             },
             "line": {
              "color": "white"
             }
            },
            "type": "table"
           }
          ]
         },
         "layout": {
          "annotationdefaults": {
           "arrowhead": 0,
           "arrowwidth": 1
          },
          "autotypenumbers": "strict",
          "coloraxis": {
           "colorbar": {
            "outlinewidth": 1,
            "tickcolor": "rgb(36,36,36)",
            "ticks": "outside"
           }
          },
          "colorscale": {
           "diverging": [
            [
             0,
             "rgb(103,0,31)"
            ],
            [
             0.1,
             "rgb(178,24,43)"
            ],
            [
             0.2,
             "rgb(214,96,77)"
            ],
            [
             0.3,
             "rgb(244,165,130)"
            ],
            [
             0.4,
             "rgb(253,219,199)"
            ],
            [
             0.5,
             "rgb(247,247,247)"
            ],
            [
             0.6,
             "rgb(209,229,240)"
            ],
            [
             0.7,
             "rgb(146,197,222)"
            ],
            [
             0.8,
             "rgb(67,147,195)"
            ],
            [
             0.9,
             "rgb(33,102,172)"
            ],
            [
             1,
             "rgb(5,48,97)"
            ]
           ],
           "sequential": [
            [
             0,
             "#440154"
            ],
            [
             0.1111111111111111,
             "#482878"
            ],
            [
             0.2222222222222222,
             "#3e4989"
            ],
            [
             0.3333333333333333,
             "#31688e"
            ],
            [
             0.4444444444444444,
             "#26828e"
            ],
            [
             0.5555555555555556,
             "#1f9e89"
            ],
            [
             0.6666666666666666,
             "#35b779"
            ],
            [
             0.7777777777777778,
             "#6ece58"
            ],
            [
             0.8888888888888888,
             "#b5de2b"
            ],
            [
             1,
             "#fde725"
            ]
           ],
           "sequentialminus": [
            [
             0,
             "#440154"
            ],
            [
             0.1111111111111111,
             "#482878"
            ],
            [
             0.2222222222222222,
             "#3e4989"
            ],
            [
             0.3333333333333333,
             "#31688e"
            ],
            [
             0.4444444444444444,
             "#26828e"
            ],
            [
             0.5555555555555556,
             "#1f9e89"
            ],
            [
             0.6666666666666666,
             "#35b779"
            ],
            [
             0.7777777777777778,
             "#6ece58"
            ],
            [
             0.8888888888888888,
             "#b5de2b"
            ],
            [
             1,
             "#fde725"
            ]
           ]
          },
          "colorway": [
           "#1F77B4",
           "#FF7F0E",
           "#2CA02C",
           "#D62728",
           "#9467BD",
           "#8C564B",
           "#E377C2",
           "#7F7F7F",
           "#BCBD22",
           "#17BECF"
          ],
          "font": {
           "color": "rgb(36,36,36)"
          },
          "geo": {
           "bgcolor": "white",
           "lakecolor": "white",
           "landcolor": "white",
           "showlakes": true,
           "showland": true,
           "subunitcolor": "white"
          },
          "hoverlabel": {
           "align": "left"
          },
          "hovermode": "closest",
          "mapbox": {
           "style": "light"
          },
          "paper_bgcolor": "white",
          "plot_bgcolor": "white",
          "polar": {
           "angularaxis": {
            "gridcolor": "rgb(232,232,232)",
            "linecolor": "rgb(36,36,36)",
            "showgrid": false,
            "showline": true,
            "ticks": "outside"
           },
           "bgcolor": "white",
           "radialaxis": {
            "gridcolor": "rgb(232,232,232)",
            "linecolor": "rgb(36,36,36)",
            "showgrid": false,
            "showline": true,
            "ticks": "outside"
           }
          },
          "scene": {
           "xaxis": {
            "backgroundcolor": "white",
            "gridcolor": "rgb(232,232,232)",
            "gridwidth": 2,
            "linecolor": "rgb(36,36,36)",
            "showbackground": true,
            "showgrid": false,
            "showline": true,
            "ticks": "outside",
            "zeroline": false,
            "zerolinecolor": "rgb(36,36,36)"
           },
           "yaxis": {
            "backgroundcolor": "white",
            "gridcolor": "rgb(232,232,232)",
            "gridwidth": 2,
            "linecolor": "rgb(36,36,36)",
            "showbackground": true,
            "showgrid": false,
            "showline": true,
            "ticks": "outside",
            "zeroline": false,
            "zerolinecolor": "rgb(36,36,36)"
           },
           "zaxis": {
            "backgroundcolor": "white",
            "gridcolor": "rgb(232,232,232)",
            "gridwidth": 2,
            "linecolor": "rgb(36,36,36)",
            "showbackground": true,
            "showgrid": false,
            "showline": true,
            "ticks": "outside",
            "zeroline": false,
            "zerolinecolor": "rgb(36,36,36)"
           }
          },
          "shapedefaults": {
           "fillcolor": "black",
           "line": {
            "width": 0
           },
           "opacity": 0.3
          },
          "ternary": {
           "aaxis": {
            "gridcolor": "rgb(232,232,232)",
            "linecolor": "rgb(36,36,36)",
            "showgrid": false,
            "showline": true,
            "ticks": "outside"
           },
           "baxis": {
            "gridcolor": "rgb(232,232,232)",
            "linecolor": "rgb(36,36,36)",
            "showgrid": false,
            "showline": true,
            "ticks": "outside"
           },
           "bgcolor": "white",
           "caxis": {
            "gridcolor": "rgb(232,232,232)",
            "linecolor": "rgb(36,36,36)",
            "showgrid": false,
            "showline": true,
            "ticks": "outside"
           }
          },
          "title": {
           "x": 0.05
          },
          "xaxis": {
           "automargin": true,
           "gridcolor": "rgb(232,232,232)",
           "linecolor": "rgb(36,36,36)",
           "showgrid": false,
           "showline": true,
           "ticks": "outside",
           "title": {
            "standoff": 15
           },
           "zeroline": false,
           "zerolinecolor": "rgb(36,36,36)"
          },
          "yaxis": {
           "automargin": true,
           "gridcolor": "rgb(232,232,232)",
           "linecolor": "rgb(36,36,36)",
           "showgrid": false,
           "showline": true,
           "ticks": "outside",
           "title": {
            "standoff": 15
           },
           "zeroline": false,
           "zerolinecolor": "rgb(36,36,36)"
          }
         }
        },
        "title": {
         "font": {
          "color": "Black",
          "size": 22
         },
         "text": "<b>Topic Probability Distribution</b>",
         "x": 0.5,
         "xanchor": "center",
         "y": 0.95,
         "yanchor": "top"
        },
        "width": 800,
        "xaxis": {
         "title": {
          "text": "Probability"
         }
        }
       }
      },
      "text/html": [
       "<div>                            <div id=\"51e082da-f666-4ab6-b857-e122d6cf7c40\" class=\"plotly-graph-div\" style=\"height:600px; width:800px;\"></div>            <script type=\"text/javascript\">                require([\"plotly\"], function(Plotly) {                    window.PLOTLYENV=window.PLOTLYENV || {};                                    if (document.getElementById(\"51e082da-f666-4ab6-b857-e122d6cf7c40\")) {                    Plotly.newPlot(                        \"51e082da-f666-4ab6-b857-e122d6cf7c40\",                        [{\"marker\":{\"color\":\"#C8D2D7\",\"line\":{\"color\":\"#6E8484\",\"width\":1}},\"orientation\":\"h\",\"x\":[0.5817112761084373,0.27648500772474366,0.9178537656138019,0.8186588149112153,0.3285337194400278,0.8636256788717569,0.7628022778777436,0.6661786929948401,1.0,1.0,1.0,1.0,1.0,1.0,1.0,1.0,1.0,1.0,1.0,1.0,1.0],\"y\":[\"<b>Topic 0</b>: 非常_不错_很快_京东_内容\",\"<b>Topic 1</b>: 清晰_打印_打印 清晰_清楚_清晰 书本\",\"<b>Topic 2</b>: 经典_学习_书籍_数学_系列\",\"<b>Topic 3</b>: 产品_视觉_机器_学习_技术\",\"<b>Topic 4</b>: 人工智能_机器人_本书_人工智能 发展_发展\",\"<b>Topic 5</b>: 物流_物流 很快 包装_物流 很快_很快 包装_...\",\"<b>Topic 6</b>: 学习_质量_学习 质量_这些_很大\",\"<b>Topic 7</b>: 深度 学习_深度_学习_慢慢_一定\",\"<b>Topic 8</b>: 物流_包装_采购 书籍 出版社_物流 包装 正版...\",\"<b>Topic 9</b>: python_复杂 产品_想法_如何_复杂\",\"<b>Topic 10</b>: 实用_专业 非常 实用_专业 非常_实用 不错...\",\"<b>Topic 11</b>: 本书_2020_方式 配图_好书 之一 202...\",\"<b>Topic 12</b>: 神经网络_比较_实验室_神经网络 入门_还是 ...\",\"<b>Topic 13</b>: 书里 内容_书里_tensorflow_内容 ...\",\"<b>Topic 14</b>: 本书_实体书 支持_必须 一本 实体书_书籍 ...\",\"<b>Topic 15</b>: 没有_没有 空白页 纸张_破损 没有_不错 开...\",\"<b>Topic 16</b>: 全面_详细_全面 了解_值得 学习_了解 内容\",\"<b>Topic 17</b>: 颜色 质量_颜色_颜色 质量 非常_非常 质量...\",\"<b>Topic 18</b>: 618_活动_当天 下单 隔天_囤书_下单 隔...\",\"<b>Topic 19</b>: 非常 本书_本书 非常适合_理论性_非常 本书...\",\"<b>Topic 20</b>: 昨天 今天_手感 不错_收到 神速_质量 手感...\"],\"type\":\"bar\"}],                        {\"template\":{\"data\":{\"barpolar\":[{\"marker\":{\"line\":{\"color\":\"white\",\"width\":0.5},\"pattern\":{\"fillmode\":\"overlay\",\"size\":10,\"solidity\":0.2}},\"type\":\"barpolar\"}],\"bar\":[{\"error_x\":{\"color\":\"rgb(36,36,36)\"},\"error_y\":{\"color\":\"rgb(36,36,36)\"},\"marker\":{\"line\":{\"color\":\"white\",\"width\":0.5},\"pattern\":{\"fillmode\":\"overlay\",\"size\":10,\"solidity\":0.2}},\"type\":\"bar\"}],\"carpet\":[{\"aaxis\":{\"endlinecolor\":\"rgb(36,36,36)\",\"gridcolor\":\"white\",\"linecolor\":\"white\",\"minorgridcolor\":\"white\",\"startlinecolor\":\"rgb(36,36,36)\"},\"baxis\":{\"endlinecolor\":\"rgb(36,36,36)\",\"gridcolor\":\"white\",\"linecolor\":\"white\",\"minorgridcolor\":\"white\",\"startlinecolor\":\"rgb(36,36,36)\"},\"type\":\"carpet\"}],\"choropleth\":[{\"colorbar\":{\"outlinewidth\":1,\"tickcolor\":\"rgb(36,36,36)\",\"ticks\":\"outside\"},\"type\":\"choropleth\"}],\"contourcarpet\":[{\"colorbar\":{\"outlinewidth\":1,\"tickcolor\":\"rgb(36,36,36)\",\"ticks\":\"outside\"},\"type\":\"contourcarpet\"}],\"contour\":[{\"colorbar\":{\"outlinewidth\":1,\"tickcolor\":\"rgb(36,36,36)\",\"ticks\":\"outside\"},\"colorscale\":[[0.0,\"#440154\"],[0.1111111111111111,\"#482878\"],[0.2222222222222222,\"#3e4989\"],[0.3333333333333333,\"#31688e\"],[0.4444444444444444,\"#26828e\"],[0.5555555555555556,\"#1f9e89\"],[0.6666666666666666,\"#35b779\"],[0.7777777777777778,\"#6ece58\"],[0.8888888888888888,\"#b5de2b\"],[1.0,\"#fde725\"]],\"type\":\"contour\"}],\"heatmapgl\":[{\"colorbar\":{\"outlinewidth\":1,\"tickcolor\":\"rgb(36,36,36)\",\"ticks\":\"outside\"},\"colorscale\":[[0.0,\"#440154\"],[0.1111111111111111,\"#482878\"],[0.2222222222222222,\"#3e4989\"],[0.3333333333333333,\"#31688e\"],[0.4444444444444444,\"#26828e\"],[0.5555555555555556,\"#1f9e89\"],[0.6666666666666666,\"#35b779\"],[0.7777777777777778,\"#6ece58\"],[0.8888888888888888,\"#b5de2b\"],[1.0,\"#fde725\"]],\"type\":\"heatmapgl\"}],\"heatmap\":[{\"colorbar\":{\"outlinewidth\":1,\"tickcolor\":\"rgb(36,36,36)\",\"ticks\":\"outside\"},\"colorscale\":[[0.0,\"#440154\"],[0.1111111111111111,\"#482878\"],[0.2222222222222222,\"#3e4989\"],[0.3333333333333333,\"#31688e\"],[0.4444444444444444,\"#26828e\"],[0.5555555555555556,\"#1f9e89\"],[0.6666666666666666,\"#35b779\"],[0.7777777777777778,\"#6ece58\"],[0.8888888888888888,\"#b5de2b\"],[1.0,\"#fde725\"]],\"type\":\"heatmap\"}],\"histogram2dcontour\":[{\"colorbar\":{\"outlinewidth\":1,\"tickcolor\":\"rgb(36,36,36)\",\"ticks\":\"outside\"},\"colorscale\":[[0.0,\"#440154\"],[0.1111111111111111,\"#482878\"],[0.2222222222222222,\"#3e4989\"],[0.3333333333333333,\"#31688e\"],[0.4444444444444444,\"#26828e\"],[0.5555555555555556,\"#1f9e89\"],[0.6666666666666666,\"#35b779\"],[0.7777777777777778,\"#6ece58\"],[0.8888888888888888,\"#b5de2b\"],[1.0,\"#fde725\"]],\"type\":\"histogram2dcontour\"}],\"histogram2d\":[{\"colorbar\":{\"outlinewidth\":1,\"tickcolor\":\"rgb(36,36,36)\",\"ticks\":\"outside\"},\"colorscale\":[[0.0,\"#440154\"],[0.1111111111111111,\"#482878\"],[0.2222222222222222,\"#3e4989\"],[0.3333333333333333,\"#31688e\"],[0.4444444444444444,\"#26828e\"],[0.5555555555555556,\"#1f9e89\"],[0.6666666666666666,\"#35b779\"],[0.7777777777777778,\"#6ece58\"],[0.8888888888888888,\"#b5de2b\"],[1.0,\"#fde725\"]],\"type\":\"histogram2d\"}],\"histogram\":[{\"marker\":{\"line\":{\"color\":\"white\",\"width\":0.6}},\"type\":\"histogram\"}],\"mesh3d\":[{\"colorbar\":{\"outlinewidth\":1,\"tickcolor\":\"rgb(36,36,36)\",\"ticks\":\"outside\"},\"type\":\"mesh3d\"}],\"parcoords\":[{\"line\":{\"colorbar\":{\"outlinewidth\":1,\"tickcolor\":\"rgb(36,36,36)\",\"ticks\":\"outside\"}},\"type\":\"parcoords\"}],\"pie\":[{\"automargin\":true,\"type\":\"pie\"}],\"scatter3d\":[{\"line\":{\"colorbar\":{\"outlinewidth\":1,\"tickcolor\":\"rgb(36,36,36)\",\"ticks\":\"outside\"}},\"marker\":{\"colorbar\":{\"outlinewidth\":1,\"tickcolor\":\"rgb(36,36,36)\",\"ticks\":\"outside\"}},\"type\":\"scatter3d\"}],\"scattercarpet\":[{\"marker\":{\"colorbar\":{\"outlinewidth\":1,\"tickcolor\":\"rgb(36,36,36)\",\"ticks\":\"outside\"}},\"type\":\"scattercarpet\"}],\"scattergeo\":[{\"marker\":{\"colorbar\":{\"outlinewidth\":1,\"tickcolor\":\"rgb(36,36,36)\",\"ticks\":\"outside\"}},\"type\":\"scattergeo\"}],\"scattergl\":[{\"marker\":{\"colorbar\":{\"outlinewidth\":1,\"tickcolor\":\"rgb(36,36,36)\",\"ticks\":\"outside\"}},\"type\":\"scattergl\"}],\"scattermapbox\":[{\"marker\":{\"colorbar\":{\"outlinewidth\":1,\"tickcolor\":\"rgb(36,36,36)\",\"ticks\":\"outside\"}},\"type\":\"scattermapbox\"}],\"scatterpolargl\":[{\"marker\":{\"colorbar\":{\"outlinewidth\":1,\"tickcolor\":\"rgb(36,36,36)\",\"ticks\":\"outside\"}},\"type\":\"scatterpolargl\"}],\"scatterpolar\":[{\"marker\":{\"colorbar\":{\"outlinewidth\":1,\"tickcolor\":\"rgb(36,36,36)\",\"ticks\":\"outside\"}},\"type\":\"scatterpolar\"}],\"scatter\":[{\"fillpattern\":{\"fillmode\":\"overlay\",\"size\":10,\"solidity\":0.2},\"type\":\"scatter\"}],\"scatterternary\":[{\"marker\":{\"colorbar\":{\"outlinewidth\":1,\"tickcolor\":\"rgb(36,36,36)\",\"ticks\":\"outside\"}},\"type\":\"scatterternary\"}],\"surface\":[{\"colorbar\":{\"outlinewidth\":1,\"tickcolor\":\"rgb(36,36,36)\",\"ticks\":\"outside\"},\"colorscale\":[[0.0,\"#440154\"],[0.1111111111111111,\"#482878\"],[0.2222222222222222,\"#3e4989\"],[0.3333333333333333,\"#31688e\"],[0.4444444444444444,\"#26828e\"],[0.5555555555555556,\"#1f9e89\"],[0.6666666666666666,\"#35b779\"],[0.7777777777777778,\"#6ece58\"],[0.8888888888888888,\"#b5de2b\"],[1.0,\"#fde725\"]],\"type\":\"surface\"}],\"table\":[{\"cells\":{\"fill\":{\"color\":\"rgb(237,237,237)\"},\"line\":{\"color\":\"white\"}},\"header\":{\"fill\":{\"color\":\"rgb(217,217,217)\"},\"line\":{\"color\":\"white\"}},\"type\":\"table\"}]},\"layout\":{\"annotationdefaults\":{\"arrowhead\":0,\"arrowwidth\":1},\"autotypenumbers\":\"strict\",\"coloraxis\":{\"colorbar\":{\"outlinewidth\":1,\"tickcolor\":\"rgb(36,36,36)\",\"ticks\":\"outside\"}},\"colorscale\":{\"diverging\":[[0.0,\"rgb(103,0,31)\"],[0.1,\"rgb(178,24,43)\"],[0.2,\"rgb(214,96,77)\"],[0.3,\"rgb(244,165,130)\"],[0.4,\"rgb(253,219,199)\"],[0.5,\"rgb(247,247,247)\"],[0.6,\"rgb(209,229,240)\"],[0.7,\"rgb(146,197,222)\"],[0.8,\"rgb(67,147,195)\"],[0.9,\"rgb(33,102,172)\"],[1.0,\"rgb(5,48,97)\"]],\"sequential\":[[0.0,\"#440154\"],[0.1111111111111111,\"#482878\"],[0.2222222222222222,\"#3e4989\"],[0.3333333333333333,\"#31688e\"],[0.4444444444444444,\"#26828e\"],[0.5555555555555556,\"#1f9e89\"],[0.6666666666666666,\"#35b779\"],[0.7777777777777778,\"#6ece58\"],[0.8888888888888888,\"#b5de2b\"],[1.0,\"#fde725\"]],\"sequentialminus\":[[0.0,\"#440154\"],[0.1111111111111111,\"#482878\"],[0.2222222222222222,\"#3e4989\"],[0.3333333333333333,\"#31688e\"],[0.4444444444444444,\"#26828e\"],[0.5555555555555556,\"#1f9e89\"],[0.6666666666666666,\"#35b779\"],[0.7777777777777778,\"#6ece58\"],[0.8888888888888888,\"#b5de2b\"],[1.0,\"#fde725\"]]},\"colorway\":[\"#1F77B4\",\"#FF7F0E\",\"#2CA02C\",\"#D62728\",\"#9467BD\",\"#8C564B\",\"#E377C2\",\"#7F7F7F\",\"#BCBD22\",\"#17BECF\"],\"font\":{\"color\":\"rgb(36,36,36)\"},\"geo\":{\"bgcolor\":\"white\",\"lakecolor\":\"white\",\"landcolor\":\"white\",\"showlakes\":true,\"showland\":true,\"subunitcolor\":\"white\"},\"hoverlabel\":{\"align\":\"left\"},\"hovermode\":\"closest\",\"mapbox\":{\"style\":\"light\"},\"paper_bgcolor\":\"white\",\"plot_bgcolor\":\"white\",\"polar\":{\"angularaxis\":{\"gridcolor\":\"rgb(232,232,232)\",\"linecolor\":\"rgb(36,36,36)\",\"showgrid\":false,\"showline\":true,\"ticks\":\"outside\"},\"bgcolor\":\"white\",\"radialaxis\":{\"gridcolor\":\"rgb(232,232,232)\",\"linecolor\":\"rgb(36,36,36)\",\"showgrid\":false,\"showline\":true,\"ticks\":\"outside\"}},\"scene\":{\"xaxis\":{\"backgroundcolor\":\"white\",\"gridcolor\":\"rgb(232,232,232)\",\"gridwidth\":2,\"linecolor\":\"rgb(36,36,36)\",\"showbackground\":true,\"showgrid\":false,\"showline\":true,\"ticks\":\"outside\",\"zeroline\":false,\"zerolinecolor\":\"rgb(36,36,36)\"},\"yaxis\":{\"backgroundcolor\":\"white\",\"gridcolor\":\"rgb(232,232,232)\",\"gridwidth\":2,\"linecolor\":\"rgb(36,36,36)\",\"showbackground\":true,\"showgrid\":false,\"showline\":true,\"ticks\":\"outside\",\"zeroline\":false,\"zerolinecolor\":\"rgb(36,36,36)\"},\"zaxis\":{\"backgroundcolor\":\"white\",\"gridcolor\":\"rgb(232,232,232)\",\"gridwidth\":2,\"linecolor\":\"rgb(36,36,36)\",\"showbackground\":true,\"showgrid\":false,\"showline\":true,\"ticks\":\"outside\",\"zeroline\":false,\"zerolinecolor\":\"rgb(36,36,36)\"}},\"shapedefaults\":{\"fillcolor\":\"black\",\"line\":{\"width\":0},\"opacity\":0.3},\"ternary\":{\"aaxis\":{\"gridcolor\":\"rgb(232,232,232)\",\"linecolor\":\"rgb(36,36,36)\",\"showgrid\":false,\"showline\":true,\"ticks\":\"outside\"},\"baxis\":{\"gridcolor\":\"rgb(232,232,232)\",\"linecolor\":\"rgb(36,36,36)\",\"showgrid\":false,\"showline\":true,\"ticks\":\"outside\"},\"bgcolor\":\"white\",\"caxis\":{\"gridcolor\":\"rgb(232,232,232)\",\"linecolor\":\"rgb(36,36,36)\",\"showgrid\":false,\"showline\":true,\"ticks\":\"outside\"}},\"title\":{\"x\":0.05},\"xaxis\":{\"automargin\":true,\"gridcolor\":\"rgb(232,232,232)\",\"linecolor\":\"rgb(36,36,36)\",\"showgrid\":false,\"showline\":true,\"ticks\":\"outside\",\"title\":{\"standoff\":15},\"zeroline\":false,\"zerolinecolor\":\"rgb(36,36,36)\"},\"yaxis\":{\"automargin\":true,\"gridcolor\":\"rgb(232,232,232)\",\"linecolor\":\"rgb(36,36,36)\",\"showgrid\":false,\"showline\":true,\"ticks\":\"outside\",\"title\":{\"standoff\":15},\"zeroline\":false,\"zerolinecolor\":\"rgb(36,36,36)\"}}},\"title\":{\"font\":{\"size\":22,\"color\":\"Black\"},\"text\":\"<b>Topic Probability Distribution</b>\",\"y\":0.95,\"x\":0.5,\"xanchor\":\"center\",\"yanchor\":\"top\"},\"hoverlabel\":{\"font\":{\"size\":16,\"family\":\"Rockwell\"},\"bgcolor\":\"white\"},\"xaxis\":{\"title\":{\"text\":\"Probability\"}},\"width\":800,\"height\":600},                        {\"responsive\": true}                    ).then(function(){\n",
       "                            \n",
       "var gd = document.getElementById('51e082da-f666-4ab6-b857-e122d6cf7c40');\n",
       "var x = new MutationObserver(function (mutations, observer) {{\n",
       "        var display = window.getComputedStyle(gd).display;\n",
       "        if (!display || display === 'none') {{\n",
       "            console.log([gd, 'removed!']);\n",
       "            Plotly.purge(gd);\n",
       "            observer.disconnect();\n",
       "        }}\n",
       "}});\n",
       "\n",
       "// Listen for the removal of the full notebook cells\n",
       "var notebookContainer = gd.closest('#notebook-container');\n",
       "if (notebookContainer) {{\n",
       "    x.observe(notebookContainer, {childList: true});\n",
       "}}\n",
       "\n",
       "// Listen for the clearing of the current output cell\n",
       "var outputEl = gd.closest('.output');\n",
       "if (outputEl) {{\n",
       "    x.observe(outputEl, {childList: true});\n",
       "}}\n",
       "\n",
       "                        })                };                });            </script>        </div>"
      ]
     },
     "metadata": {},
     "output_type": "display_data"
    }
   ],
   "source": [
    "model.visualize_distribution(model.probabilities_,min_probability=0.1)\n"
   ]
  },
  {
   "cell_type": "code",
   "execution_count": 19,
   "id": "7f96aae8",
   "metadata": {},
   "outputs": [
    {
     "data": {
      "application/vnd.plotly.v1+json": {
       "config": {
        "plotlyServerURL": "https://plot.ly"
       },
       "data": [
        {
         "hoverinfo": "text",
         "marker": {
          "color": "rgb(0,116,217)"
         },
         "mode": "lines",
         "type": "scatter",
         "x": [
          0,
          1.3538232734607378,
          1.3538232734607378,
          0
         ],
         "xaxis": "x",
         "y": [
          -5,
          -5,
          -15,
          -15
         ],
         "yaxis": "y"
        },
        {
         "hoverinfo": "text",
         "marker": {
          "color": "rgb(0,116,217)"
         },
         "mode": "lines",
         "type": "scatter",
         "x": [
          0,
          1.3349782315530065,
          1.3349782315530065,
          0
         ],
         "xaxis": "x",
         "y": [
          -25,
          -25,
          -35,
          -35
         ],
         "yaxis": "y"
        },
        {
         "hoverinfo": "text",
         "marker": {
          "color": "rgb(0,116,217)"
         },
         "mode": "lines",
         "type": "scatter",
         "x": [
          0,
          1.3792222944662333,
          1.3792222944662333,
          0
         ],
         "xaxis": "x",
         "y": [
          -45,
          -45,
          -55,
          -55
         ],
         "yaxis": "y"
        },
        {
         "hoverinfo": "text",
         "marker": {
          "color": "rgb(0,116,217)"
         },
         "mode": "lines",
         "type": "scatter",
         "x": [
          1.3349782315530065,
          1.386542692853116,
          1.386542692853116,
          1.3792222944662333
         ],
         "xaxis": "x",
         "y": [
          -30,
          -30,
          -50,
          -50
         ],
         "yaxis": "y"
        },
        {
         "hoverinfo": "text",
         "marker": {
          "color": "rgb(0,116,217)"
         },
         "mode": "lines",
         "type": "scatter",
         "x": [
          1.3538232734607378,
          1.4238808764591815,
          1.4238808764591815,
          1.386542692853116
         ],
         "xaxis": "x",
         "y": [
          -10,
          -10,
          -40,
          -40
         ],
         "yaxis": "y"
        },
        {
         "hoverinfo": "text",
         "marker": {
          "color": "rgb(0,116,217)"
         },
         "mode": "lines",
         "type": "scatter",
         "x": [
          0,
          1.3041895532000032,
          1.3041895532000032,
          0
         ],
         "xaxis": "x",
         "y": [
          -65,
          -65,
          -75,
          -75
         ],
         "yaxis": "y"
        },
        {
         "hoverinfo": "text",
         "marker": {
          "color": "rgb(0,116,217)"
         },
         "mode": "lines",
         "type": "scatter",
         "x": [
          1.3041895532000032,
          1.3872499323059648,
          1.3872499323059648,
          0
         ],
         "xaxis": "x",
         "y": [
          -70,
          -70,
          -85,
          -85
         ],
         "yaxis": "y"
        },
        {
         "hoverinfo": "text",
         "marker": {
          "color": "rgb(0,116,217)"
         },
         "mode": "lines",
         "type": "scatter",
         "x": [
          1.4238808764591815,
          1.4668457136341448,
          1.4668457136341448,
          1.3872499323059648
         ],
         "xaxis": "x",
         "y": [
          -25,
          -25,
          -77.5,
          -77.5
         ],
         "yaxis": "y"
        },
        {
         "hoverinfo": "text",
         "marker": {
          "color": "rgb(0,116,217)"
         },
         "mode": "lines",
         "type": "scatter",
         "x": [
          0,
          1.2442448238796704,
          1.2442448238796704,
          0
         ],
         "xaxis": "x",
         "y": [
          -105,
          -105,
          -115,
          -115
         ],
         "yaxis": "y"
        },
        {
         "hoverinfo": "text",
         "marker": {
          "color": "rgb(0,116,217)"
         },
         "mode": "lines",
         "type": "scatter",
         "x": [
          1.2442448238796704,
          1.312256373499379,
          1.312256373499379,
          0
         ],
         "xaxis": "x",
         "y": [
          -110,
          -110,
          -125,
          -125
         ],
         "yaxis": "y"
        },
        {
         "hoverinfo": "text",
         "marker": {
          "color": "rgb(0,116,217)"
         },
         "mode": "lines",
         "type": "scatter",
         "x": [
          0,
          1.335632360676968,
          1.335632360676968,
          1.312256373499379
         ],
         "xaxis": "x",
         "y": [
          -95,
          -95,
          -117.5,
          -117.5
         ],
         "yaxis": "y"
        },
        {
         "hoverinfo": "text",
         "marker": {
          "color": "rgb(0,116,217)"
         },
         "mode": "lines",
         "type": "scatter",
         "x": [
          0,
          1.3585233043267488,
          1.3585233043267488,
          0
         ],
         "xaxis": "x",
         "y": [
          -135,
          -135,
          -145,
          -145
         ],
         "yaxis": "y"
        },
        {
         "hoverinfo": "text",
         "marker": {
          "color": "rgb(0,116,217)"
         },
         "mode": "lines",
         "type": "scatter",
         "x": [
          1.3585233043267488,
          1.3708401411111697,
          1.3708401411111697,
          0
         ],
         "xaxis": "x",
         "y": [
          -140,
          -140,
          -155,
          -155
         ],
         "yaxis": "y"
        },
        {
         "hoverinfo": "text",
         "marker": {
          "color": "rgb(0,116,217)"
         },
         "mode": "lines",
         "type": "scatter",
         "x": [
          1.335632360676968,
          1.387632861259793,
          1.387632861259793,
          1.3708401411111697
         ],
         "xaxis": "x",
         "y": [
          -106.25,
          -106.25,
          -147.5,
          -147.5
         ],
         "yaxis": "y"
        },
        {
         "hoverinfo": "text",
         "marker": {
          "color": "rgb(0,116,217)"
         },
         "mode": "lines",
         "type": "scatter",
         "x": [
          0,
          1.3192404592463807,
          1.3192404592463807,
          0
         ],
         "xaxis": "x",
         "y": [
          -165,
          -165,
          -175,
          -175
         ],
         "yaxis": "y"
        },
        {
         "hoverinfo": "text",
         "marker": {
          "color": "rgb(0,116,217)"
         },
         "mode": "lines",
         "type": "scatter",
         "x": [
          0,
          1.3486093154823044,
          1.3486093154823044,
          0
         ],
         "xaxis": "x",
         "y": [
          -185,
          -185,
          -195,
          -195
         ],
         "yaxis": "y"
        },
        {
         "hoverinfo": "text",
         "marker": {
          "color": "rgb(0,116,217)"
         },
         "mode": "lines",
         "type": "scatter",
         "x": [
          1.3486093154823044,
          1.391288011267056,
          1.391288011267056,
          0
         ],
         "xaxis": "x",
         "y": [
          -190,
          -190,
          -205,
          -205
         ],
         "yaxis": "y"
        },
        {
         "hoverinfo": "text",
         "marker": {
          "color": "rgb(0,116,217)"
         },
         "mode": "lines",
         "type": "scatter",
         "x": [
          1.3192404592463807,
          1.4370911867309064,
          1.4370911867309064,
          1.391288011267056
         ],
         "xaxis": "x",
         "y": [
          -170,
          -170,
          -197.5,
          -197.5
         ],
         "yaxis": "y"
        },
        {
         "hoverinfo": "text",
         "marker": {
          "color": "rgb(0,116,217)"
         },
         "mode": "lines",
         "type": "scatter",
         "x": [
          1.387632861259793,
          1.476937554417059,
          1.476937554417059,
          1.4370911867309064
         ],
         "xaxis": "x",
         "y": [
          -126.875,
          -126.875,
          -183.75,
          -183.75
         ],
         "yaxis": "y"
        },
        {
         "hoverinfo": "text",
         "marker": {
          "color": "rgb(0,116,217)"
         },
         "mode": "lines",
         "type": "scatter",
         "x": [
          1.4668457136341448,
          1.5465927005930116,
          1.5465927005930116,
          1.476937554417059
         ],
         "xaxis": "x",
         "y": [
          -51.25,
          -51.25,
          -155.3125,
          -155.3125
         ],
         "yaxis": "y"
        }
       ],
       "layout": {
        "autosize": false,
        "height": 515,
        "hoverlabel": {
         "bgcolor": "white",
         "font": {
          "family": "Rockwell",
          "size": 16
         }
        },
        "hovermode": "closest",
        "plot_bgcolor": "#ECEFF1",
        "showlegend": false,
        "template": {
         "data": {
          "bar": [
           {
            "error_x": {
             "color": "#2a3f5f"
            },
            "error_y": {
             "color": "#2a3f5f"
            },
            "marker": {
             "line": {
              "color": "white",
              "width": 0.5
             },
             "pattern": {
              "fillmode": "overlay",
              "size": 10,
              "solidity": 0.2
             }
            },
            "type": "bar"
           }
          ],
          "barpolar": [
           {
            "marker": {
             "line": {
              "color": "white",
              "width": 0.5
             },
             "pattern": {
              "fillmode": "overlay",
              "size": 10,
              "solidity": 0.2
             }
            },
            "type": "barpolar"
           }
          ],
          "carpet": [
           {
            "aaxis": {
             "endlinecolor": "#2a3f5f",
             "gridcolor": "#C8D4E3",
             "linecolor": "#C8D4E3",
             "minorgridcolor": "#C8D4E3",
             "startlinecolor": "#2a3f5f"
            },
            "baxis": {
             "endlinecolor": "#2a3f5f",
             "gridcolor": "#C8D4E3",
             "linecolor": "#C8D4E3",
             "minorgridcolor": "#C8D4E3",
             "startlinecolor": "#2a3f5f"
            },
            "type": "carpet"
           }
          ],
          "choropleth": [
           {
            "colorbar": {
             "outlinewidth": 0,
             "ticks": ""
            },
            "type": "choropleth"
           }
          ],
          "contour": [
           {
            "colorbar": {
             "outlinewidth": 0,
             "ticks": ""
            },
            "colorscale": [
             [
              0,
              "#0d0887"
             ],
             [
              0.1111111111111111,
              "#46039f"
             ],
             [
              0.2222222222222222,
              "#7201a8"
             ],
             [
              0.3333333333333333,
              "#9c179e"
             ],
             [
              0.4444444444444444,
              "#bd3786"
             ],
             [
              0.5555555555555556,
              "#d8576b"
             ],
             [
              0.6666666666666666,
              "#ed7953"
             ],
             [
              0.7777777777777778,
              "#fb9f3a"
             ],
             [
              0.8888888888888888,
              "#fdca26"
             ],
             [
              1,
              "#f0f921"
             ]
            ],
            "type": "contour"
           }
          ],
          "contourcarpet": [
           {
            "colorbar": {
             "outlinewidth": 0,
             "ticks": ""
            },
            "type": "contourcarpet"
           }
          ],
          "heatmap": [
           {
            "colorbar": {
             "outlinewidth": 0,
             "ticks": ""
            },
            "colorscale": [
             [
              0,
              "#0d0887"
             ],
             [
              0.1111111111111111,
              "#46039f"
             ],
             [
              0.2222222222222222,
              "#7201a8"
             ],
             [
              0.3333333333333333,
              "#9c179e"
             ],
             [
              0.4444444444444444,
              "#bd3786"
             ],
             [
              0.5555555555555556,
              "#d8576b"
             ],
             [
              0.6666666666666666,
              "#ed7953"
             ],
             [
              0.7777777777777778,
              "#fb9f3a"
             ],
             [
              0.8888888888888888,
              "#fdca26"
             ],
             [
              1,
              "#f0f921"
             ]
            ],
            "type": "heatmap"
           }
          ],
          "heatmapgl": [
           {
            "colorbar": {
             "outlinewidth": 0,
             "ticks": ""
            },
            "colorscale": [
             [
              0,
              "#0d0887"
             ],
             [
              0.1111111111111111,
              "#46039f"
             ],
             [
              0.2222222222222222,
              "#7201a8"
             ],
             [
              0.3333333333333333,
              "#9c179e"
             ],
             [
              0.4444444444444444,
              "#bd3786"
             ],
             [
              0.5555555555555556,
              "#d8576b"
             ],
             [
              0.6666666666666666,
              "#ed7953"
             ],
             [
              0.7777777777777778,
              "#fb9f3a"
             ],
             [
              0.8888888888888888,
              "#fdca26"
             ],
             [
              1,
              "#f0f921"
             ]
            ],
            "type": "heatmapgl"
           }
          ],
          "histogram": [
           {
            "marker": {
             "pattern": {
              "fillmode": "overlay",
              "size": 10,
              "solidity": 0.2
             }
            },
            "type": "histogram"
           }
          ],
          "histogram2d": [
           {
            "colorbar": {
             "outlinewidth": 0,
             "ticks": ""
            },
            "colorscale": [
             [
              0,
              "#0d0887"
             ],
             [
              0.1111111111111111,
              "#46039f"
             ],
             [
              0.2222222222222222,
              "#7201a8"
             ],
             [
              0.3333333333333333,
              "#9c179e"
             ],
             [
              0.4444444444444444,
              "#bd3786"
             ],
             [
              0.5555555555555556,
              "#d8576b"
             ],
             [
              0.6666666666666666,
              "#ed7953"
             ],
             [
              0.7777777777777778,
              "#fb9f3a"
             ],
             [
              0.8888888888888888,
              "#fdca26"
             ],
             [
              1,
              "#f0f921"
             ]
            ],
            "type": "histogram2d"
           }
          ],
          "histogram2dcontour": [
           {
            "colorbar": {
             "outlinewidth": 0,
             "ticks": ""
            },
            "colorscale": [
             [
              0,
              "#0d0887"
             ],
             [
              0.1111111111111111,
              "#46039f"
             ],
             [
              0.2222222222222222,
              "#7201a8"
             ],
             [
              0.3333333333333333,
              "#9c179e"
             ],
             [
              0.4444444444444444,
              "#bd3786"
             ],
             [
              0.5555555555555556,
              "#d8576b"
             ],
             [
              0.6666666666666666,
              "#ed7953"
             ],
             [
              0.7777777777777778,
              "#fb9f3a"
             ],
             [
              0.8888888888888888,
              "#fdca26"
             ],
             [
              1,
              "#f0f921"
             ]
            ],
            "type": "histogram2dcontour"
           }
          ],
          "mesh3d": [
           {
            "colorbar": {
             "outlinewidth": 0,
             "ticks": ""
            },
            "type": "mesh3d"
           }
          ],
          "parcoords": [
           {
            "line": {
             "colorbar": {
              "outlinewidth": 0,
              "ticks": ""
             }
            },
            "type": "parcoords"
           }
          ],
          "pie": [
           {
            "automargin": true,
            "type": "pie"
           }
          ],
          "scatter": [
           {
            "fillpattern": {
             "fillmode": "overlay",
             "size": 10,
             "solidity": 0.2
            },
            "type": "scatter"
           }
          ],
          "scatter3d": [
           {
            "line": {
             "colorbar": {
              "outlinewidth": 0,
              "ticks": ""
             }
            },
            "marker": {
             "colorbar": {
              "outlinewidth": 0,
              "ticks": ""
             }
            },
            "type": "scatter3d"
           }
          ],
          "scattercarpet": [
           {
            "marker": {
             "colorbar": {
              "outlinewidth": 0,
              "ticks": ""
             }
            },
            "type": "scattercarpet"
           }
          ],
          "scattergeo": [
           {
            "marker": {
             "colorbar": {
              "outlinewidth": 0,
              "ticks": ""
             }
            },
            "type": "scattergeo"
           }
          ],
          "scattergl": [
           {
            "marker": {
             "colorbar": {
              "outlinewidth": 0,
              "ticks": ""
             }
            },
            "type": "scattergl"
           }
          ],
          "scattermapbox": [
           {
            "marker": {
             "colorbar": {
              "outlinewidth": 0,
              "ticks": ""
             }
            },
            "type": "scattermapbox"
           }
          ],
          "scatterpolar": [
           {
            "marker": {
             "colorbar": {
              "outlinewidth": 0,
              "ticks": ""
             }
            },
            "type": "scatterpolar"
           }
          ],
          "scatterpolargl": [
           {
            "marker": {
             "colorbar": {
              "outlinewidth": 0,
              "ticks": ""
             }
            },
            "type": "scatterpolargl"
           }
          ],
          "scatterternary": [
           {
            "marker": {
             "colorbar": {
              "outlinewidth": 0,
              "ticks": ""
             }
            },
            "type": "scatterternary"
           }
          ],
          "surface": [
           {
            "colorbar": {
             "outlinewidth": 0,
             "ticks": ""
            },
            "colorscale": [
             [
              0,
              "#0d0887"
             ],
             [
              0.1111111111111111,
              "#46039f"
             ],
             [
              0.2222222222222222,
              "#7201a8"
             ],
             [
              0.3333333333333333,
              "#9c179e"
             ],
             [
              0.4444444444444444,
              "#bd3786"
             ],
             [
              0.5555555555555556,
              "#d8576b"
             ],
             [
              0.6666666666666666,
              "#ed7953"
             ],
             [
              0.7777777777777778,
              "#fb9f3a"
             ],
             [
              0.8888888888888888,
              "#fdca26"
             ],
             [
              1,
              "#f0f921"
             ]
            ],
            "type": "surface"
           }
          ],
          "table": [
           {
            "cells": {
             "fill": {
              "color": "#EBF0F8"
             },
             "line": {
              "color": "white"
             }
            },
            "header": {
             "fill": {
              "color": "#C8D4E3"
             },
             "line": {
              "color": "white"
             }
            },
            "type": "table"
           }
          ]
         },
         "layout": {
          "annotationdefaults": {
           "arrowcolor": "#2a3f5f",
           "arrowhead": 0,
           "arrowwidth": 1
          },
          "autotypenumbers": "strict",
          "coloraxis": {
           "colorbar": {
            "outlinewidth": 0,
            "ticks": ""
           }
          },
          "colorscale": {
           "diverging": [
            [
             0,
             "#8e0152"
            ],
            [
             0.1,
             "#c51b7d"
            ],
            [
             0.2,
             "#de77ae"
            ],
            [
             0.3,
             "#f1b6da"
            ],
            [
             0.4,
             "#fde0ef"
            ],
            [
             0.5,
             "#f7f7f7"
            ],
            [
             0.6,
             "#e6f5d0"
            ],
            [
             0.7,
             "#b8e186"
            ],
            [
             0.8,
             "#7fbc41"
            ],
            [
             0.9,
             "#4d9221"
            ],
            [
             1,
             "#276419"
            ]
           ],
           "sequential": [
            [
             0,
             "#0d0887"
            ],
            [
             0.1111111111111111,
             "#46039f"
            ],
            [
             0.2222222222222222,
             "#7201a8"
            ],
            [
             0.3333333333333333,
             "#9c179e"
            ],
            [
             0.4444444444444444,
             "#bd3786"
            ],
            [
             0.5555555555555556,
             "#d8576b"
            ],
            [
             0.6666666666666666,
             "#ed7953"
            ],
            [
             0.7777777777777778,
             "#fb9f3a"
            ],
            [
             0.8888888888888888,
             "#fdca26"
            ],
            [
             1,
             "#f0f921"
            ]
           ],
           "sequentialminus": [
            [
             0,
             "#0d0887"
            ],
            [
             0.1111111111111111,
             "#46039f"
            ],
            [
             0.2222222222222222,
             "#7201a8"
            ],
            [
             0.3333333333333333,
             "#9c179e"
            ],
            [
             0.4444444444444444,
             "#bd3786"
            ],
            [
             0.5555555555555556,
             "#d8576b"
            ],
            [
             0.6666666666666666,
             "#ed7953"
            ],
            [
             0.7777777777777778,
             "#fb9f3a"
            ],
            [
             0.8888888888888888,
             "#fdca26"
            ],
            [
             1,
             "#f0f921"
            ]
           ]
          },
          "colorway": [
           "#636efa",
           "#EF553B",
           "#00cc96",
           "#ab63fa",
           "#FFA15A",
           "#19d3f3",
           "#FF6692",
           "#B6E880",
           "#FF97FF",
           "#FECB52"
          ],
          "font": {
           "color": "#2a3f5f"
          },
          "geo": {
           "bgcolor": "white",
           "lakecolor": "white",
           "landcolor": "white",
           "showlakes": true,
           "showland": true,
           "subunitcolor": "#C8D4E3"
          },
          "hoverlabel": {
           "align": "left"
          },
          "hovermode": "closest",
          "mapbox": {
           "style": "light"
          },
          "paper_bgcolor": "white",
          "plot_bgcolor": "white",
          "polar": {
           "angularaxis": {
            "gridcolor": "#EBF0F8",
            "linecolor": "#EBF0F8",
            "ticks": ""
           },
           "bgcolor": "white",
           "radialaxis": {
            "gridcolor": "#EBF0F8",
            "linecolor": "#EBF0F8",
            "ticks": ""
           }
          },
          "scene": {
           "xaxis": {
            "backgroundcolor": "white",
            "gridcolor": "#DFE8F3",
            "gridwidth": 2,
            "linecolor": "#EBF0F8",
            "showbackground": true,
            "ticks": "",
            "zerolinecolor": "#EBF0F8"
           },
           "yaxis": {
            "backgroundcolor": "white",
            "gridcolor": "#DFE8F3",
            "gridwidth": 2,
            "linecolor": "#EBF0F8",
            "showbackground": true,
            "ticks": "",
            "zerolinecolor": "#EBF0F8"
           },
           "zaxis": {
            "backgroundcolor": "white",
            "gridcolor": "#DFE8F3",
            "gridwidth": 2,
            "linecolor": "#EBF0F8",
            "showbackground": true,
            "ticks": "",
            "zerolinecolor": "#EBF0F8"
           }
          },
          "shapedefaults": {
           "line": {
            "color": "#2a3f5f"
           }
          },
          "ternary": {
           "aaxis": {
            "gridcolor": "#DFE8F3",
            "linecolor": "#A2B1C6",
            "ticks": ""
           },
           "baxis": {
            "gridcolor": "#DFE8F3",
            "linecolor": "#A2B1C6",
            "ticks": ""
           },
           "bgcolor": "white",
           "caxis": {
            "gridcolor": "#DFE8F3",
            "linecolor": "#A2B1C6",
            "ticks": ""
           }
          },
          "title": {
           "x": 0.05
          },
          "xaxis": {
           "automargin": true,
           "gridcolor": "#EBF0F8",
           "linecolor": "#EBF0F8",
           "ticks": "",
           "title": {
            "standoff": 15
           },
           "zerolinecolor": "#EBF0F8",
           "zerolinewidth": 2
          },
          "yaxis": {
           "automargin": true,
           "gridcolor": "#EBF0F8",
           "linecolor": "#EBF0F8",
           "ticks": "",
           "title": {
            "standoff": 15
           },
           "zerolinecolor": "#EBF0F8",
           "zerolinewidth": 2
          }
         }
        },
        "title": {
         "font": {
          "color": "Black",
          "size": 22
         },
         "text": "<b>Hierarchical Clustering</b>",
         "x": 0.5,
         "xanchor": "center",
         "yanchor": "top"
        },
        "width": 1000,
        "xaxis": {
         "mirror": "allticks",
         "rangemode": "tozero",
         "showgrid": false,
         "showline": true,
         "showticklabels": true,
         "ticks": "outside",
         "type": "linear",
         "zeroline": false
        },
        "yaxis": {
         "mirror": "allticks",
         "range": [
          -210,
          0
         ],
         "rangemode": "tozero",
         "showgrid": false,
         "showline": true,
         "showticklabels": true,
         "tickmode": "array",
         "ticks": "outside",
         "ticktext": [
          "13_书里 内容_书里_tensorflow",
          "1_清晰_打印_打印 清晰",
          "15_没有_没有 空白页 纸张_破损 没有",
          "6_学习_质量_学习 质量",
          "20_昨天 今天_手感 不错_收到 神速",
          "17_颜色 质量_颜色_颜色 质量 非常",
          "8_物流_包装_采购 书籍 出版社",
          "5_物流_物流 很快 包装_物流 很快",
          "18_618_活动_当天 下单 隔天",
          "9_python_复杂 产品_想法",
          "2_经典_学习_书籍",
          "0_非常_不错_很快",
          "3_产品_视觉_机器",
          "16_全面_详细_全面 了解",
          "12_神经网络_比较_实验室",
          "4_人工智能_机器人_本书",
          "14_本书_实体书 支持_必须 一本 实体书",
          "19_非常 本书_本书 非常适合_理论性",
          "11_本书_2020_方式 配图",
          "7_深度 学习_深度_学习",
          "10_实用_专业 非常 实用_专业 非常"
         ],
         "tickvals": [
          -5,
          -15,
          -25,
          -35,
          -45,
          -55,
          -65,
          -75,
          -85,
          -95,
          -105,
          -115,
          -125,
          -135,
          -145,
          -155,
          -165,
          -175,
          -185,
          -195,
          -205
         ],
         "type": "linear",
         "zeroline": false
        }
       }
      },
      "text/html": [
       "<div>                            <div id=\"9d7072bb-ea7d-41b2-a4f7-2ad9753bb357\" class=\"plotly-graph-div\" style=\"height:515px; width:1000px;\"></div>            <script type=\"text/javascript\">                require([\"plotly\"], function(Plotly) {                    window.PLOTLYENV=window.PLOTLYENV || {};                                    if (document.getElementById(\"9d7072bb-ea7d-41b2-a4f7-2ad9753bb357\")) {                    Plotly.newPlot(                        \"9d7072bb-ea7d-41b2-a4f7-2ad9753bb357\",                        [{\"hoverinfo\":\"text\",\"marker\":{\"color\":\"rgb(0,116,217)\"},\"mode\":\"lines\",\"x\":[0.0,1.3538232734607378,1.3538232734607378,0.0],\"xaxis\":\"x\",\"y\":[-5.0,-5.0,-15.0,-15.0],\"yaxis\":\"y\",\"type\":\"scatter\"},{\"hoverinfo\":\"text\",\"marker\":{\"color\":\"rgb(0,116,217)\"},\"mode\":\"lines\",\"x\":[0.0,1.3349782315530065,1.3349782315530065,0.0],\"xaxis\":\"x\",\"y\":[-25.0,-25.0,-35.0,-35.0],\"yaxis\":\"y\",\"type\":\"scatter\"},{\"hoverinfo\":\"text\",\"marker\":{\"color\":\"rgb(0,116,217)\"},\"mode\":\"lines\",\"x\":[0.0,1.3792222944662333,1.3792222944662333,0.0],\"xaxis\":\"x\",\"y\":[-45.0,-45.0,-55.0,-55.0],\"yaxis\":\"y\",\"type\":\"scatter\"},{\"hoverinfo\":\"text\",\"marker\":{\"color\":\"rgb(0,116,217)\"},\"mode\":\"lines\",\"x\":[1.3349782315530065,1.386542692853116,1.386542692853116,1.3792222944662333],\"xaxis\":\"x\",\"y\":[-30.0,-30.0,-50.0,-50.0],\"yaxis\":\"y\",\"type\":\"scatter\"},{\"hoverinfo\":\"text\",\"marker\":{\"color\":\"rgb(0,116,217)\"},\"mode\":\"lines\",\"x\":[1.3538232734607378,1.4238808764591815,1.4238808764591815,1.386542692853116],\"xaxis\":\"x\",\"y\":[-10.0,-10.0,-40.0,-40.0],\"yaxis\":\"y\",\"type\":\"scatter\"},{\"hoverinfo\":\"text\",\"marker\":{\"color\":\"rgb(0,116,217)\"},\"mode\":\"lines\",\"x\":[0.0,1.3041895532000032,1.3041895532000032,0.0],\"xaxis\":\"x\",\"y\":[-65.0,-65.0,-75.0,-75.0],\"yaxis\":\"y\",\"type\":\"scatter\"},{\"hoverinfo\":\"text\",\"marker\":{\"color\":\"rgb(0,116,217)\"},\"mode\":\"lines\",\"x\":[1.3041895532000032,1.3872499323059648,1.3872499323059648,0.0],\"xaxis\":\"x\",\"y\":[-70.0,-70.0,-85.0,-85.0],\"yaxis\":\"y\",\"type\":\"scatter\"},{\"hoverinfo\":\"text\",\"marker\":{\"color\":\"rgb(0,116,217)\"},\"mode\":\"lines\",\"x\":[1.4238808764591815,1.4668457136341448,1.4668457136341448,1.3872499323059648],\"xaxis\":\"x\",\"y\":[-25.0,-25.0,-77.5,-77.5],\"yaxis\":\"y\",\"type\":\"scatter\"},{\"hoverinfo\":\"text\",\"marker\":{\"color\":\"rgb(0,116,217)\"},\"mode\":\"lines\",\"x\":[0.0,1.2442448238796704,1.2442448238796704,0.0],\"xaxis\":\"x\",\"y\":[-105.0,-105.0,-115.0,-115.0],\"yaxis\":\"y\",\"type\":\"scatter\"},{\"hoverinfo\":\"text\",\"marker\":{\"color\":\"rgb(0,116,217)\"},\"mode\":\"lines\",\"x\":[1.2442448238796704,1.312256373499379,1.312256373499379,0.0],\"xaxis\":\"x\",\"y\":[-110.0,-110.0,-125.0,-125.0],\"yaxis\":\"y\",\"type\":\"scatter\"},{\"hoverinfo\":\"text\",\"marker\":{\"color\":\"rgb(0,116,217)\"},\"mode\":\"lines\",\"x\":[0.0,1.335632360676968,1.335632360676968,1.312256373499379],\"xaxis\":\"x\",\"y\":[-95.0,-95.0,-117.5,-117.5],\"yaxis\":\"y\",\"type\":\"scatter\"},{\"hoverinfo\":\"text\",\"marker\":{\"color\":\"rgb(0,116,217)\"},\"mode\":\"lines\",\"x\":[0.0,1.3585233043267488,1.3585233043267488,0.0],\"xaxis\":\"x\",\"y\":[-135.0,-135.0,-145.0,-145.0],\"yaxis\":\"y\",\"type\":\"scatter\"},{\"hoverinfo\":\"text\",\"marker\":{\"color\":\"rgb(0,116,217)\"},\"mode\":\"lines\",\"x\":[1.3585233043267488,1.3708401411111697,1.3708401411111697,0.0],\"xaxis\":\"x\",\"y\":[-140.0,-140.0,-155.0,-155.0],\"yaxis\":\"y\",\"type\":\"scatter\"},{\"hoverinfo\":\"text\",\"marker\":{\"color\":\"rgb(0,116,217)\"},\"mode\":\"lines\",\"x\":[1.335632360676968,1.387632861259793,1.387632861259793,1.3708401411111697],\"xaxis\":\"x\",\"y\":[-106.25,-106.25,-147.5,-147.5],\"yaxis\":\"y\",\"type\":\"scatter\"},{\"hoverinfo\":\"text\",\"marker\":{\"color\":\"rgb(0,116,217)\"},\"mode\":\"lines\",\"x\":[0.0,1.3192404592463807,1.3192404592463807,0.0],\"xaxis\":\"x\",\"y\":[-165.0,-165.0,-175.0,-175.0],\"yaxis\":\"y\",\"type\":\"scatter\"},{\"hoverinfo\":\"text\",\"marker\":{\"color\":\"rgb(0,116,217)\"},\"mode\":\"lines\",\"x\":[0.0,1.3486093154823044,1.3486093154823044,0.0],\"xaxis\":\"x\",\"y\":[-185.0,-185.0,-195.0,-195.0],\"yaxis\":\"y\",\"type\":\"scatter\"},{\"hoverinfo\":\"text\",\"marker\":{\"color\":\"rgb(0,116,217)\"},\"mode\":\"lines\",\"x\":[1.3486093154823044,1.391288011267056,1.391288011267056,0.0],\"xaxis\":\"x\",\"y\":[-190.0,-190.0,-205.0,-205.0],\"yaxis\":\"y\",\"type\":\"scatter\"},{\"hoverinfo\":\"text\",\"marker\":{\"color\":\"rgb(0,116,217)\"},\"mode\":\"lines\",\"x\":[1.3192404592463807,1.4370911867309064,1.4370911867309064,1.391288011267056],\"xaxis\":\"x\",\"y\":[-170.0,-170.0,-197.5,-197.5],\"yaxis\":\"y\",\"type\":\"scatter\"},{\"hoverinfo\":\"text\",\"marker\":{\"color\":\"rgb(0,116,217)\"},\"mode\":\"lines\",\"x\":[1.387632861259793,1.476937554417059,1.476937554417059,1.4370911867309064],\"xaxis\":\"x\",\"y\":[-126.875,-126.875,-183.75,-183.75],\"yaxis\":\"y\",\"type\":\"scatter\"},{\"hoverinfo\":\"text\",\"marker\":{\"color\":\"rgb(0,116,217)\"},\"mode\":\"lines\",\"x\":[1.4668457136341448,1.5465927005930116,1.5465927005930116,1.476937554417059],\"xaxis\":\"x\",\"y\":[-51.25,-51.25,-155.3125,-155.3125],\"yaxis\":\"y\",\"type\":\"scatter\"}],                        {\"autosize\":false,\"height\":515,\"hovermode\":\"closest\",\"showlegend\":false,\"width\":1000,\"xaxis\":{\"mirror\":\"allticks\",\"rangemode\":\"tozero\",\"showgrid\":false,\"showline\":true,\"showticklabels\":true,\"ticks\":\"outside\",\"type\":\"linear\",\"zeroline\":false},\"yaxis\":{\"mirror\":\"allticks\",\"rangemode\":\"tozero\",\"showgrid\":false,\"showline\":true,\"showticklabels\":true,\"tickmode\":\"array\",\"ticks\":\"outside\",\"ticktext\":[\"13_书里 内容_书里_tensorflow\",\"1_清晰_打印_打印 清晰\",\"15_没有_没有 空白页 纸张_破损 没有\",\"6_学习_质量_学习 质量\",\"20_昨天 今天_手感 不错_收到 神速\",\"17_颜色 质量_颜色_颜色 质量 非常\",\"8_物流_包装_采购 书籍 出版社\",\"5_物流_物流 很快 包装_物流 很快\",\"18_618_活动_当天 下单 隔天\",\"9_python_复杂 产品_想法\",\"2_经典_学习_书籍\",\"0_非常_不错_很快\",\"3_产品_视觉_机器\",\"16_全面_详细_全面 了解\",\"12_神经网络_比较_实验室\",\"4_人工智能_机器人_本书\",\"14_本书_实体书 支持_必须 一本 实体书\",\"19_非常 本书_本书 非常适合_理论性\",\"11_本书_2020_方式 配图\",\"7_深度 学习_深度_学习\",\"10_实用_专业 非常 实用_专业 非常\"],\"tickvals\":[-5.0,-15.0,-25.0,-35.0,-45.0,-55.0,-65.0,-75.0,-85.0,-95.0,-105.0,-115.0,-125.0,-135.0,-145.0,-155.0,-165.0,-175.0,-185.0,-195.0,-205.0],\"type\":\"linear\",\"zeroline\":false,\"range\":[-210.0,0.0]},\"template\":{\"data\":{\"barpolar\":[{\"marker\":{\"line\":{\"color\":\"white\",\"width\":0.5},\"pattern\":{\"fillmode\":\"overlay\",\"size\":10,\"solidity\":0.2}},\"type\":\"barpolar\"}],\"bar\":[{\"error_x\":{\"color\":\"#2a3f5f\"},\"error_y\":{\"color\":\"#2a3f5f\"},\"marker\":{\"line\":{\"color\":\"white\",\"width\":0.5},\"pattern\":{\"fillmode\":\"overlay\",\"size\":10,\"solidity\":0.2}},\"type\":\"bar\"}],\"carpet\":[{\"aaxis\":{\"endlinecolor\":\"#2a3f5f\",\"gridcolor\":\"#C8D4E3\",\"linecolor\":\"#C8D4E3\",\"minorgridcolor\":\"#C8D4E3\",\"startlinecolor\":\"#2a3f5f\"},\"baxis\":{\"endlinecolor\":\"#2a3f5f\",\"gridcolor\":\"#C8D4E3\",\"linecolor\":\"#C8D4E3\",\"minorgridcolor\":\"#C8D4E3\",\"startlinecolor\":\"#2a3f5f\"},\"type\":\"carpet\"}],\"choropleth\":[{\"colorbar\":{\"outlinewidth\":0,\"ticks\":\"\"},\"type\":\"choropleth\"}],\"contourcarpet\":[{\"colorbar\":{\"outlinewidth\":0,\"ticks\":\"\"},\"type\":\"contourcarpet\"}],\"contour\":[{\"colorbar\":{\"outlinewidth\":0,\"ticks\":\"\"},\"colorscale\":[[0.0,\"#0d0887\"],[0.1111111111111111,\"#46039f\"],[0.2222222222222222,\"#7201a8\"],[0.3333333333333333,\"#9c179e\"],[0.4444444444444444,\"#bd3786\"],[0.5555555555555556,\"#d8576b\"],[0.6666666666666666,\"#ed7953\"],[0.7777777777777778,\"#fb9f3a\"],[0.8888888888888888,\"#fdca26\"],[1.0,\"#f0f921\"]],\"type\":\"contour\"}],\"heatmapgl\":[{\"colorbar\":{\"outlinewidth\":0,\"ticks\":\"\"},\"colorscale\":[[0.0,\"#0d0887\"],[0.1111111111111111,\"#46039f\"],[0.2222222222222222,\"#7201a8\"],[0.3333333333333333,\"#9c179e\"],[0.4444444444444444,\"#bd3786\"],[0.5555555555555556,\"#d8576b\"],[0.6666666666666666,\"#ed7953\"],[0.7777777777777778,\"#fb9f3a\"],[0.8888888888888888,\"#fdca26\"],[1.0,\"#f0f921\"]],\"type\":\"heatmapgl\"}],\"heatmap\":[{\"colorbar\":{\"outlinewidth\":0,\"ticks\":\"\"},\"colorscale\":[[0.0,\"#0d0887\"],[0.1111111111111111,\"#46039f\"],[0.2222222222222222,\"#7201a8\"],[0.3333333333333333,\"#9c179e\"],[0.4444444444444444,\"#bd3786\"],[0.5555555555555556,\"#d8576b\"],[0.6666666666666666,\"#ed7953\"],[0.7777777777777778,\"#fb9f3a\"],[0.8888888888888888,\"#fdca26\"],[1.0,\"#f0f921\"]],\"type\":\"heatmap\"}],\"histogram2dcontour\":[{\"colorbar\":{\"outlinewidth\":0,\"ticks\":\"\"},\"colorscale\":[[0.0,\"#0d0887\"],[0.1111111111111111,\"#46039f\"],[0.2222222222222222,\"#7201a8\"],[0.3333333333333333,\"#9c179e\"],[0.4444444444444444,\"#bd3786\"],[0.5555555555555556,\"#d8576b\"],[0.6666666666666666,\"#ed7953\"],[0.7777777777777778,\"#fb9f3a\"],[0.8888888888888888,\"#fdca26\"],[1.0,\"#f0f921\"]],\"type\":\"histogram2dcontour\"}],\"histogram2d\":[{\"colorbar\":{\"outlinewidth\":0,\"ticks\":\"\"},\"colorscale\":[[0.0,\"#0d0887\"],[0.1111111111111111,\"#46039f\"],[0.2222222222222222,\"#7201a8\"],[0.3333333333333333,\"#9c179e\"],[0.4444444444444444,\"#bd3786\"],[0.5555555555555556,\"#d8576b\"],[0.6666666666666666,\"#ed7953\"],[0.7777777777777778,\"#fb9f3a\"],[0.8888888888888888,\"#fdca26\"],[1.0,\"#f0f921\"]],\"type\":\"histogram2d\"}],\"histogram\":[{\"marker\":{\"pattern\":{\"fillmode\":\"overlay\",\"size\":10,\"solidity\":0.2}},\"type\":\"histogram\"}],\"mesh3d\":[{\"colorbar\":{\"outlinewidth\":0,\"ticks\":\"\"},\"type\":\"mesh3d\"}],\"parcoords\":[{\"line\":{\"colorbar\":{\"outlinewidth\":0,\"ticks\":\"\"}},\"type\":\"parcoords\"}],\"pie\":[{\"automargin\":true,\"type\":\"pie\"}],\"scatter3d\":[{\"line\":{\"colorbar\":{\"outlinewidth\":0,\"ticks\":\"\"}},\"marker\":{\"colorbar\":{\"outlinewidth\":0,\"ticks\":\"\"}},\"type\":\"scatter3d\"}],\"scattercarpet\":[{\"marker\":{\"colorbar\":{\"outlinewidth\":0,\"ticks\":\"\"}},\"type\":\"scattercarpet\"}],\"scattergeo\":[{\"marker\":{\"colorbar\":{\"outlinewidth\":0,\"ticks\":\"\"}},\"type\":\"scattergeo\"}],\"scattergl\":[{\"marker\":{\"colorbar\":{\"outlinewidth\":0,\"ticks\":\"\"}},\"type\":\"scattergl\"}],\"scattermapbox\":[{\"marker\":{\"colorbar\":{\"outlinewidth\":0,\"ticks\":\"\"}},\"type\":\"scattermapbox\"}],\"scatterpolargl\":[{\"marker\":{\"colorbar\":{\"outlinewidth\":0,\"ticks\":\"\"}},\"type\":\"scatterpolargl\"}],\"scatterpolar\":[{\"marker\":{\"colorbar\":{\"outlinewidth\":0,\"ticks\":\"\"}},\"type\":\"scatterpolar\"}],\"scatter\":[{\"fillpattern\":{\"fillmode\":\"overlay\",\"size\":10,\"solidity\":0.2},\"type\":\"scatter\"}],\"scatterternary\":[{\"marker\":{\"colorbar\":{\"outlinewidth\":0,\"ticks\":\"\"}},\"type\":\"scatterternary\"}],\"surface\":[{\"colorbar\":{\"outlinewidth\":0,\"ticks\":\"\"},\"colorscale\":[[0.0,\"#0d0887\"],[0.1111111111111111,\"#46039f\"],[0.2222222222222222,\"#7201a8\"],[0.3333333333333333,\"#9c179e\"],[0.4444444444444444,\"#bd3786\"],[0.5555555555555556,\"#d8576b\"],[0.6666666666666666,\"#ed7953\"],[0.7777777777777778,\"#fb9f3a\"],[0.8888888888888888,\"#fdca26\"],[1.0,\"#f0f921\"]],\"type\":\"surface\"}],\"table\":[{\"cells\":{\"fill\":{\"color\":\"#EBF0F8\"},\"line\":{\"color\":\"white\"}},\"header\":{\"fill\":{\"color\":\"#C8D4E3\"},\"line\":{\"color\":\"white\"}},\"type\":\"table\"}]},\"layout\":{\"annotationdefaults\":{\"arrowcolor\":\"#2a3f5f\",\"arrowhead\":0,\"arrowwidth\":1},\"autotypenumbers\":\"strict\",\"coloraxis\":{\"colorbar\":{\"outlinewidth\":0,\"ticks\":\"\"}},\"colorscale\":{\"diverging\":[[0,\"#8e0152\"],[0.1,\"#c51b7d\"],[0.2,\"#de77ae\"],[0.3,\"#f1b6da\"],[0.4,\"#fde0ef\"],[0.5,\"#f7f7f7\"],[0.6,\"#e6f5d0\"],[0.7,\"#b8e186\"],[0.8,\"#7fbc41\"],[0.9,\"#4d9221\"],[1,\"#276419\"]],\"sequential\":[[0.0,\"#0d0887\"],[0.1111111111111111,\"#46039f\"],[0.2222222222222222,\"#7201a8\"],[0.3333333333333333,\"#9c179e\"],[0.4444444444444444,\"#bd3786\"],[0.5555555555555556,\"#d8576b\"],[0.6666666666666666,\"#ed7953\"],[0.7777777777777778,\"#fb9f3a\"],[0.8888888888888888,\"#fdca26\"],[1.0,\"#f0f921\"]],\"sequentialminus\":[[0.0,\"#0d0887\"],[0.1111111111111111,\"#46039f\"],[0.2222222222222222,\"#7201a8\"],[0.3333333333333333,\"#9c179e\"],[0.4444444444444444,\"#bd3786\"],[0.5555555555555556,\"#d8576b\"],[0.6666666666666666,\"#ed7953\"],[0.7777777777777778,\"#fb9f3a\"],[0.8888888888888888,\"#fdca26\"],[1.0,\"#f0f921\"]]},\"colorway\":[\"#636efa\",\"#EF553B\",\"#00cc96\",\"#ab63fa\",\"#FFA15A\",\"#19d3f3\",\"#FF6692\",\"#B6E880\",\"#FF97FF\",\"#FECB52\"],\"font\":{\"color\":\"#2a3f5f\"},\"geo\":{\"bgcolor\":\"white\",\"lakecolor\":\"white\",\"landcolor\":\"white\",\"showlakes\":true,\"showland\":true,\"subunitcolor\":\"#C8D4E3\"},\"hoverlabel\":{\"align\":\"left\"},\"hovermode\":\"closest\",\"mapbox\":{\"style\":\"light\"},\"paper_bgcolor\":\"white\",\"plot_bgcolor\":\"white\",\"polar\":{\"angularaxis\":{\"gridcolor\":\"#EBF0F8\",\"linecolor\":\"#EBF0F8\",\"ticks\":\"\"},\"bgcolor\":\"white\",\"radialaxis\":{\"gridcolor\":\"#EBF0F8\",\"linecolor\":\"#EBF0F8\",\"ticks\":\"\"}},\"scene\":{\"xaxis\":{\"backgroundcolor\":\"white\",\"gridcolor\":\"#DFE8F3\",\"gridwidth\":2,\"linecolor\":\"#EBF0F8\",\"showbackground\":true,\"ticks\":\"\",\"zerolinecolor\":\"#EBF0F8\"},\"yaxis\":{\"backgroundcolor\":\"white\",\"gridcolor\":\"#DFE8F3\",\"gridwidth\":2,\"linecolor\":\"#EBF0F8\",\"showbackground\":true,\"ticks\":\"\",\"zerolinecolor\":\"#EBF0F8\"},\"zaxis\":{\"backgroundcolor\":\"white\",\"gridcolor\":\"#DFE8F3\",\"gridwidth\":2,\"linecolor\":\"#EBF0F8\",\"showbackground\":true,\"ticks\":\"\",\"zerolinecolor\":\"#EBF0F8\"}},\"shapedefaults\":{\"line\":{\"color\":\"#2a3f5f\"}},\"ternary\":{\"aaxis\":{\"gridcolor\":\"#DFE8F3\",\"linecolor\":\"#A2B1C6\",\"ticks\":\"\"},\"baxis\":{\"gridcolor\":\"#DFE8F3\",\"linecolor\":\"#A2B1C6\",\"ticks\":\"\"},\"bgcolor\":\"white\",\"caxis\":{\"gridcolor\":\"#DFE8F3\",\"linecolor\":\"#A2B1C6\",\"ticks\":\"\"}},\"title\":{\"x\":0.05},\"xaxis\":{\"automargin\":true,\"gridcolor\":\"#EBF0F8\",\"linecolor\":\"#EBF0F8\",\"ticks\":\"\",\"title\":{\"standoff\":15},\"zerolinecolor\":\"#EBF0F8\",\"zerolinewidth\":2},\"yaxis\":{\"automargin\":true,\"gridcolor\":\"#EBF0F8\",\"linecolor\":\"#EBF0F8\",\"ticks\":\"\",\"title\":{\"standoff\":15},\"zerolinecolor\":\"#EBF0F8\",\"zerolinewidth\":2}}},\"title\":{\"font\":{\"size\":22,\"color\":\"Black\"},\"text\":\"<b>Hierarchical Clustering</b>\",\"x\":0.5,\"xanchor\":\"center\",\"yanchor\":\"top\"},\"hoverlabel\":{\"font\":{\"size\":16,\"family\":\"Rockwell\"},\"bgcolor\":\"white\"},\"plot_bgcolor\":\"#ECEFF1\"},                        {\"responsive\": true}                    ).then(function(){\n",
       "                            \n",
       "var gd = document.getElementById('9d7072bb-ea7d-41b2-a4f7-2ad9753bb357');\n",
       "var x = new MutationObserver(function (mutations, observer) {{\n",
       "        var display = window.getComputedStyle(gd).display;\n",
       "        if (!display || display === 'none') {{\n",
       "            console.log([gd, 'removed!']);\n",
       "            Plotly.purge(gd);\n",
       "            observer.disconnect();\n",
       "        }}\n",
       "}});\n",
       "\n",
       "// Listen for the removal of the full notebook cells\n",
       "var notebookContainer = gd.closest('#notebook-container');\n",
       "if (notebookContainer) {{\n",
       "    x.observe(notebookContainer, {childList: true});\n",
       "}}\n",
       "\n",
       "// Listen for the clearing of the current output cell\n",
       "var outputEl = gd.closest('.output');\n",
       "if (outputEl) {{\n",
       "    x.observe(outputEl, {childList: true});\n",
       "}}\n",
       "\n",
       "                        })                };                });            </script>        </div>"
      ]
     },
     "metadata": {},
     "output_type": "display_data"
    }
   ],
   "source": [
    "model.visualize_hierarchy()"
   ]
  },
  {
   "cell_type": "code",
   "execution_count": 20,
   "id": "766c915d",
   "metadata": {},
   "outputs": [
    {
     "data": {
      "application/vnd.plotly.v1+json": {
       "config": {
        "plotlyServerURL": "https://plot.ly"
       },
       "data": [
        {
         "coloraxis": "coloraxis",
         "hovertemplate": "x: %{x}<br>y: %{y}<br>Similarity Score: %{z}<extra></extra>",
         "name": "0",
         "type": "heatmap",
         "x": [
          "0_非常_不错_很快",
          "1_清晰_打印_打印 清晰",
          "2_经典_学习_书籍",
          "3_产品_视觉_机器",
          "4_人工智能_机器人_本书",
          "5_物流_物流 很快 包装_物流 很快",
          "6_学习_质量_学习 质量",
          "7_深度 学习_深度_学习",
          "8_物流_包装_采购 书籍 出版社",
          "9_python_复杂 产品_想法",
          "10_实用_专业 非常 实用_专业 非常",
          "11_本书_2020_方式 配图",
          "12_神经网络_比较_实验室",
          "13_书里 内容_书里_tensorflow",
          "14_本书_实体书 支持_必须 一本 实体书",
          "15_没有_没有 空白页 纸张_破损 没有",
          "16_全面_详细_全面 了解",
          "17_颜色 质量_颜色_颜色 质量 非常",
          "18_618_活动_当天 下单 隔天",
          "19_非常 本书_本书 非常适合_理论性",
          "20_昨天 今天_手感 不错_收到 神速"
         ],
         "xaxis": "x",
         "y": [
          "0_非常_不错_很快",
          "1_清晰_打印_打印 清晰",
          "2_经典_学习_书籍",
          "3_产品_视觉_机器",
          "4_人工智能_机器人_本书",
          "5_物流_物流 很快 包装_物流 很快",
          "6_学习_质量_学习 质量",
          "7_深度 学习_深度_学习",
          "8_物流_包装_采购 书籍 出版社",
          "9_python_复杂 产品_想法",
          "10_实用_专业 非常 实用_专业 非常",
          "11_本书_2020_方式 配图",
          "12_神经网络_比较_实验室",
          "13_书里 内容_书里_tensorflow",
          "14_本书_实体书 支持_必须 一本 实体书",
          "15_没有_没有 空白页 纸张_破损 没有",
          "16_全面_详细_全面 了解",
          "17_颜色 质量_颜色_颜色 质量 非常",
          "18_618_活动_当天 下单 隔天",
          "19_非常 本书_本书 非常适合_理论性",
          "20_昨天 今天_手感 不错_收到 神速"
         ],
         "yaxis": "y",
         "z": [
          [
           0.9999999999999998,
           0.8070237999348029,
           0.8023119986248325,
           0.7926828997859477,
           0.758368962734351,
           0.7063872241781058,
           0.8761246493042338,
           0.7532976227706687,
           0.7358809577404528,
           0.8544297659042046,
           0.8124389396378746,
           0.7341398688702638,
           0.7036075020774615,
           0.8385398477405888,
           0.6879037455804196,
           0.6677980552369128,
           0.8526890028178647,
           0.6772933470037217,
           0.6322647712511735,
           0.6828721095724455,
           0.7536660082809732
          ],
          [
           0.8070237999348029,
           1.0000000000000004,
           0.7375243263462172,
           0.65067708056975,
           0.6296421059588123,
           0.5316049712153126,
           0.7569475839594216,
           0.6409893438449625,
           0.6558558666407406,
           0.6945287029250596,
           0.6648624759199024,
           0.7145738153677762,
           0.5691131139751898,
           0.7775011701721605,
           0.7202976561180046,
           0.731809309204269,
           0.723356962415161,
           0.5372170926189125,
           0.5174694445331081,
           0.6548156337990052,
           0.6022577803571878
          ],
          [
           0.8023119986248325,
           0.7375243263462172,
           0.9999999999999998,
           0.8039666761198341,
           0.7970723408563601,
           0.4996163063663027,
           0.8412208460629109,
           0.8291397953569907,
           0.591973414638225,
           0.8206846002544512,
           0.7262077564876421,
           0.8725283067957921,
           0.7745175502711459,
           0.8184198211823055,
           0.7400021448989422,
           0.5702073608683279,
           0.8057456053017062,
           0.498615339136102,
           0.6149424254003926,
           0.7278883206823793,
           0.5947087929758674
          ],
          [
           0.7926828997859477,
           0.65067708056975,
           0.8039666761198341,
           1.0000000000000009,
           0.8375179690718311,
           0.6513601594529417,
           0.8183716617649388,
           0.7298464806828763,
           0.695698214435009,
           0.8279523385134913,
           0.7204695871459356,
           0.7022096346012486,
           0.7543971179697533,
           0.7263759966498347,
           0.5445847881187957,
           0.4676268010137195,
           0.849321334676916,
           0.5836445440069281,
           0.5345931349311227,
           0.5390533767304708,
           0.5807155601362686
          ],
          [
           0.758368962734351,
           0.6296421059588123,
           0.7970723408563601,
           0.8375179690718311,
           1.0000000000000002,
           0.5269920611992988,
           0.7597497141039709,
           0.7368194089173554,
           0.5477364364055226,
           0.8180455857355663,
           0.6757007142208437,
           0.699608562291817,
           0.7587203403439318,
           0.7225857170904921,
           0.5788563544039838,
           0.49928257315394303,
           0.7825489300673101,
           0.4639672499658263,
           0.5798486956585085,
           0.5821445121243614,
           0.5914406962073055
          ],
          [
           0.7063872241781058,
           0.5316049712153126,
           0.4996163063663027,
           0.6513601594529417,
           0.5269920611992988,
           1.0000000000000002,
           0.6013038595466705,
           0.5038687945739924,
           0.8681711585715126,
           0.6112801813679687,
           0.675025320234254,
           0.45048375637483873,
           0.4820522775257102,
           0.5646740773386277,
           0.38728011359553516,
           0.3871570347461343,
           0.6548847358881545,
           0.4556319288041478,
           0.4411781969362624,
           0.4076687720354034,
           0.5046953475558456
          ],
          [
           0.8761246493042338,
           0.7569475839594216,
           0.8412208460629109,
           0.8183716617649388,
           0.7597497141039709,
           0.6013038595466705,
           1,
           0.8301391165289881,
           0.6368102476181758,
           0.8383832800308968,
           0.8218246243704714,
           0.7562200768444458,
           0.7392201101539004,
           0.7967523996052881,
           0.6391636206283944,
           0.6008956061435524,
           0.87958030382566,
           0.694200822362649,
           0.5752598859560247,
           0.6634218269257868,
           0.6288208215185684
          ],
          [
           0.7532976227706687,
           0.6409893438449625,
           0.8291397953569907,
           0.7298464806828763,
           0.7368194089173554,
           0.5038687945739924,
           0.8301391165289881,
           1.0000000000000009,
           0.5199026727803816,
           0.7912393086609839,
           0.7003287489152956,
           0.7057377216168322,
           0.7589475291005752,
           0.7958538628030617,
           0.6514375686482732,
           0.5498957881433235,
           0.7960350027080825,
           0.47003619934189733,
           0.512889264764626,
           0.6508473407101207,
           0.5790095833540734
          ],
          [
           0.7358809577404528,
           0.6558558666407406,
           0.591973414638225,
           0.695698214435009,
           0.5477364364055226,
           0.8681711585715126,
           0.6368102476181758,
           0.5199026727803816,
           1,
           0.6418044679856152,
           0.6621791167401032,
           0.595932061014989,
           0.5335899758714986,
           0.6226633704419804,
           0.5731020919738468,
           0.5036759789980428,
           0.6593532131759581,
           0.4871362763876249,
           0.4515603481730545,
           0.488498860119409,
           0.40954024753755414
          ],
          [
           0.8544297659042046,
           0.6945287029250596,
           0.8206846002544512,
           0.8279523385134913,
           0.8180455857355663,
           0.6112801813679687,
           0.8383832800308968,
           0.7912393086609839,
           0.6418044679856152,
           1.0000000000000016,
           0.7515691733084526,
           0.7143073218752076,
           0.7495897752494471,
           0.8156881304950875,
           0.6185305918758792,
           0.5288055230497113,
           0.833326783798085,
           0.5618016512805897,
           0.5685251955107297,
           0.6374675310794456,
           0.6113581475721238
          ],
          [
           0.8124389396378746,
           0.6648624759199024,
           0.7262077564876421,
           0.7204695871459356,
           0.6757007142208437,
           0.675025320234254,
           0.8218246243704714,
           0.7003287489152956,
           0.6621791167401032,
           0.7515691733084526,
           1,
           0.69491595871187,
           0.6640884967735825,
           0.7455366287591555,
           0.663031198991278,
           0.5816848676092948,
           0.8705115196738926,
           0.6067989943319791,
           0.5256017843286508,
           0.7506312420296466,
           0.6393011405974546
          ],
          [
           0.7341398688702638,
           0.7145738153677762,
           0.8725283067957921,
           0.7022096346012486,
           0.699608562291817,
           0.45048375637483873,
           0.7562200768444458,
           0.7057377216168322,
           0.595932061014989,
           0.7143073218752076,
           0.69491595871187,
           1.0000000000000002,
           0.7042830820272992,
           0.7687992319167103,
           0.765047655065136,
           0.5966558633590375,
           0.7358655437864782,
           0.6102528410410324,
           0.565240452983813,
           0.7414540760660484,
           0.537738379835252
          ],
          [
           0.7036075020774615,
           0.5691131139751898,
           0.7745175502711459,
           0.7543971179697533,
           0.7587203403439318,
           0.4820522775257102,
           0.7392201101539004,
           0.7589475291005752,
           0.5335899758714986,
           0.7495897752494471,
           0.6640884967735825,
           0.7042830820272992,
           1,
           0.7571294425208024,
           0.578757142805129,
           0.49936932420522606,
           0.7718271928702047,
           0.46753858669431547,
           0.4978596705915874,
           0.5947054645127818,
           0.5333289209236156
          ],
          [
           0.8385398477405888,
           0.7775011701721605,
           0.8184198211823055,
           0.7263759966498347,
           0.7225857170904921,
           0.5646740773386277,
           0.7967523996052881,
           0.7958538628030617,
           0.6226633704419804,
           0.8156881304950875,
           0.7455366287591555,
           0.7687992319167103,
           0.7571294425208024,
           0.9999999999999993,
           0.7972313062547733,
           0.6412017264068024,
           0.8498999421188039,
           0.5630918630527116,
           0.5956253873232027,
           0.8061291103431059,
           0.6895200874180029
          ],
          [
           0.6879037455804196,
           0.7202976561180046,
           0.7400021448989422,
           0.5445847881187957,
           0.5788563544039838,
           0.38728011359553516,
           0.6391636206283944,
           0.6514375686482732,
           0.5731020919738468,
           0.6185305918758792,
           0.663031198991278,
           0.765047655065136,
           0.578757142805129,
           0.7972313062547733,
           1.0000000000000004,
           0.6423974025076598,
           0.683193022449772,
           0.42741887478263907,
           0.4820227266213436,
           0.8982257665234842,
           0.5096103652096718
          ],
          [
           0.6677980552369128,
           0.731809309204269,
           0.5702073608683279,
           0.4676268010137195,
           0.49928257315394303,
           0.3871570347461343,
           0.6008956061435524,
           0.5498957881433235,
           0.5036759789980428,
           0.5288055230497113,
           0.5816848676092948,
           0.5966558633590375,
           0.49936932420522606,
           0.6412017264068024,
           0.6423974025076598,
           1,
           0.5988399593585965,
           0.40168864437286955,
           0.45157166064599596,
           0.5819068819111812,
           0.5625143053928677
          ],
          [
           0.8526890028178647,
           0.723356962415161,
           0.8057456053017062,
           0.849321334676916,
           0.7825489300673101,
           0.6548847358881545,
           0.87958030382566,
           0.7960350027080825,
           0.6593532131759581,
           0.833326783798085,
           0.8705115196738926,
           0.7358655437864782,
           0.7718271928702047,
           0.8498999421188039,
           0.683193022449772,
           0.5988399593585965,
           1.0000000000000009,
           0.6322463197657482,
           0.553472450400192,
           0.7366585666986517,
           0.6698089168249411
          ],
          [
           0.6772933470037217,
           0.5372170926189125,
           0.498615339136102,
           0.5836445440069281,
           0.4639672499658263,
           0.4556319288041478,
           0.694200822362649,
           0.47003619934189733,
           0.4871362763876249,
           0.5618016512805897,
           0.6067989943319791,
           0.6102528410410324,
           0.46753858669431547,
           0.5630918630527116,
           0.42741887478263907,
           0.40168864437286955,
           0.6322463197657482,
           1.0000000000000002,
           0.37293914711573334,
           0.508758043024768,
           0.4906804561795619
          ],
          [
           0.6322647712511735,
           0.5174694445331081,
           0.6149424254003926,
           0.5345931349311227,
           0.5798486956585085,
           0.4411781969362624,
           0.5752598859560247,
           0.512889264764626,
           0.4515603481730545,
           0.5685251955107297,
           0.5256017843286508,
           0.565240452983813,
           0.4978596705915874,
           0.5956253873232027,
           0.4820227266213436,
           0.45157166064599596,
           0.553472450400192,
           0.37293914711573334,
           1.0000000000000007,
           0.47326035867124217,
           0.6160488218108845
          ],
          [
           0.6828721095724455,
           0.6548156337990052,
           0.7278883206823793,
           0.5390533767304708,
           0.5821445121243614,
           0.4076687720354034,
           0.6634218269257868,
           0.6508473407101207,
           0.488498860119409,
           0.6374675310794456,
           0.7506312420296466,
           0.7414540760660484,
           0.5947054645127818,
           0.8061291103431059,
           0.8982257665234842,
           0.5819068819111812,
           0.7366585666986517,
           0.508758043024768,
           0.47326035867124217,
           1.0000000000000007,
           0.5614115651457218
          ],
          [
           0.7536660082809732,
           0.6022577803571878,
           0.5947087929758674,
           0.5807155601362686,
           0.5914406962073055,
           0.5046953475558456,
           0.6288208215185684,
           0.5790095833540734,
           0.40954024753755414,
           0.6113581475721238,
           0.6393011405974546,
           0.537738379835252,
           0.5333289209236156,
           0.6895200874180029,
           0.5096103652096718,
           0.5625143053928677,
           0.6698089168249411,
           0.4906804561795619,
           0.6160488218108845,
           0.5614115651457218,
           0.9999999999999989
          ]
         ]
        }
       ],
       "layout": {
        "coloraxis": {
         "colorbar": {
          "title": {
           "text": "Similarity Score"
          }
         },
         "colorscale": [
          [
           0,
           "rgb(247,252,240)"
          ],
          [
           0.125,
           "rgb(224,243,219)"
          ],
          [
           0.25,
           "rgb(204,235,197)"
          ],
          [
           0.375,
           "rgb(168,221,181)"
          ],
          [
           0.5,
           "rgb(123,204,196)"
          ],
          [
           0.625,
           "rgb(78,179,211)"
          ],
          [
           0.75,
           "rgb(43,140,190)"
          ],
          [
           0.875,
           "rgb(8,104,172)"
          ],
          [
           1,
           "rgb(8,64,129)"
          ]
         ]
        },
        "height": 800,
        "hoverlabel": {
         "bgcolor": "white",
         "font": {
          "family": "Rockwell",
          "size": 16
         }
        },
        "legend": {
         "title": {
          "text": "Trend"
         }
        },
        "margin": {
         "t": 60
        },
        "showlegend": true,
        "template": {
         "data": {
          "bar": [
           {
            "error_x": {
             "color": "#2a3f5f"
            },
            "error_y": {
             "color": "#2a3f5f"
            },
            "marker": {
             "line": {
              "color": "#E5ECF6",
              "width": 0.5
             },
             "pattern": {
              "fillmode": "overlay",
              "size": 10,
              "solidity": 0.2
             }
            },
            "type": "bar"
           }
          ],
          "barpolar": [
           {
            "marker": {
             "line": {
              "color": "#E5ECF6",
              "width": 0.5
             },
             "pattern": {
              "fillmode": "overlay",
              "size": 10,
              "solidity": 0.2
             }
            },
            "type": "barpolar"
           }
          ],
          "carpet": [
           {
            "aaxis": {
             "endlinecolor": "#2a3f5f",
             "gridcolor": "white",
             "linecolor": "white",
             "minorgridcolor": "white",
             "startlinecolor": "#2a3f5f"
            },
            "baxis": {
             "endlinecolor": "#2a3f5f",
             "gridcolor": "white",
             "linecolor": "white",
             "minorgridcolor": "white",
             "startlinecolor": "#2a3f5f"
            },
            "type": "carpet"
           }
          ],
          "choropleth": [
           {
            "colorbar": {
             "outlinewidth": 0,
             "ticks": ""
            },
            "type": "choropleth"
           }
          ],
          "contour": [
           {
            "colorbar": {
             "outlinewidth": 0,
             "ticks": ""
            },
            "colorscale": [
             [
              0,
              "#0d0887"
             ],
             [
              0.1111111111111111,
              "#46039f"
             ],
             [
              0.2222222222222222,
              "#7201a8"
             ],
             [
              0.3333333333333333,
              "#9c179e"
             ],
             [
              0.4444444444444444,
              "#bd3786"
             ],
             [
              0.5555555555555556,
              "#d8576b"
             ],
             [
              0.6666666666666666,
              "#ed7953"
             ],
             [
              0.7777777777777778,
              "#fb9f3a"
             ],
             [
              0.8888888888888888,
              "#fdca26"
             ],
             [
              1,
              "#f0f921"
             ]
            ],
            "type": "contour"
           }
          ],
          "contourcarpet": [
           {
            "colorbar": {
             "outlinewidth": 0,
             "ticks": ""
            },
            "type": "contourcarpet"
           }
          ],
          "heatmap": [
           {
            "colorbar": {
             "outlinewidth": 0,
             "ticks": ""
            },
            "colorscale": [
             [
              0,
              "#0d0887"
             ],
             [
              0.1111111111111111,
              "#46039f"
             ],
             [
              0.2222222222222222,
              "#7201a8"
             ],
             [
              0.3333333333333333,
              "#9c179e"
             ],
             [
              0.4444444444444444,
              "#bd3786"
             ],
             [
              0.5555555555555556,
              "#d8576b"
             ],
             [
              0.6666666666666666,
              "#ed7953"
             ],
             [
              0.7777777777777778,
              "#fb9f3a"
             ],
             [
              0.8888888888888888,
              "#fdca26"
             ],
             [
              1,
              "#f0f921"
             ]
            ],
            "type": "heatmap"
           }
          ],
          "heatmapgl": [
           {
            "colorbar": {
             "outlinewidth": 0,
             "ticks": ""
            },
            "colorscale": [
             [
              0,
              "#0d0887"
             ],
             [
              0.1111111111111111,
              "#46039f"
             ],
             [
              0.2222222222222222,
              "#7201a8"
             ],
             [
              0.3333333333333333,
              "#9c179e"
             ],
             [
              0.4444444444444444,
              "#bd3786"
             ],
             [
              0.5555555555555556,
              "#d8576b"
             ],
             [
              0.6666666666666666,
              "#ed7953"
             ],
             [
              0.7777777777777778,
              "#fb9f3a"
             ],
             [
              0.8888888888888888,
              "#fdca26"
             ],
             [
              1,
              "#f0f921"
             ]
            ],
            "type": "heatmapgl"
           }
          ],
          "histogram": [
           {
            "marker": {
             "pattern": {
              "fillmode": "overlay",
              "size": 10,
              "solidity": 0.2
             }
            },
            "type": "histogram"
           }
          ],
          "histogram2d": [
           {
            "colorbar": {
             "outlinewidth": 0,
             "ticks": ""
            },
            "colorscale": [
             [
              0,
              "#0d0887"
             ],
             [
              0.1111111111111111,
              "#46039f"
             ],
             [
              0.2222222222222222,
              "#7201a8"
             ],
             [
              0.3333333333333333,
              "#9c179e"
             ],
             [
              0.4444444444444444,
              "#bd3786"
             ],
             [
              0.5555555555555556,
              "#d8576b"
             ],
             [
              0.6666666666666666,
              "#ed7953"
             ],
             [
              0.7777777777777778,
              "#fb9f3a"
             ],
             [
              0.8888888888888888,
              "#fdca26"
             ],
             [
              1,
              "#f0f921"
             ]
            ],
            "type": "histogram2d"
           }
          ],
          "histogram2dcontour": [
           {
            "colorbar": {
             "outlinewidth": 0,
             "ticks": ""
            },
            "colorscale": [
             [
              0,
              "#0d0887"
             ],
             [
              0.1111111111111111,
              "#46039f"
             ],
             [
              0.2222222222222222,
              "#7201a8"
             ],
             [
              0.3333333333333333,
              "#9c179e"
             ],
             [
              0.4444444444444444,
              "#bd3786"
             ],
             [
              0.5555555555555556,
              "#d8576b"
             ],
             [
              0.6666666666666666,
              "#ed7953"
             ],
             [
              0.7777777777777778,
              "#fb9f3a"
             ],
             [
              0.8888888888888888,
              "#fdca26"
             ],
             [
              1,
              "#f0f921"
             ]
            ],
            "type": "histogram2dcontour"
           }
          ],
          "mesh3d": [
           {
            "colorbar": {
             "outlinewidth": 0,
             "ticks": ""
            },
            "type": "mesh3d"
           }
          ],
          "parcoords": [
           {
            "line": {
             "colorbar": {
              "outlinewidth": 0,
              "ticks": ""
             }
            },
            "type": "parcoords"
           }
          ],
          "pie": [
           {
            "automargin": true,
            "type": "pie"
           }
          ],
          "scatter": [
           {
            "fillpattern": {
             "fillmode": "overlay",
             "size": 10,
             "solidity": 0.2
            },
            "type": "scatter"
           }
          ],
          "scatter3d": [
           {
            "line": {
             "colorbar": {
              "outlinewidth": 0,
              "ticks": ""
             }
            },
            "marker": {
             "colorbar": {
              "outlinewidth": 0,
              "ticks": ""
             }
            },
            "type": "scatter3d"
           }
          ],
          "scattercarpet": [
           {
            "marker": {
             "colorbar": {
              "outlinewidth": 0,
              "ticks": ""
             }
            },
            "type": "scattercarpet"
           }
          ],
          "scattergeo": [
           {
            "marker": {
             "colorbar": {
              "outlinewidth": 0,
              "ticks": ""
             }
            },
            "type": "scattergeo"
           }
          ],
          "scattergl": [
           {
            "marker": {
             "colorbar": {
              "outlinewidth": 0,
              "ticks": ""
             }
            },
            "type": "scattergl"
           }
          ],
          "scattermapbox": [
           {
            "marker": {
             "colorbar": {
              "outlinewidth": 0,
              "ticks": ""
             }
            },
            "type": "scattermapbox"
           }
          ],
          "scatterpolar": [
           {
            "marker": {
             "colorbar": {
              "outlinewidth": 0,
              "ticks": ""
             }
            },
            "type": "scatterpolar"
           }
          ],
          "scatterpolargl": [
           {
            "marker": {
             "colorbar": {
              "outlinewidth": 0,
              "ticks": ""
             }
            },
            "type": "scatterpolargl"
           }
          ],
          "scatterternary": [
           {
            "marker": {
             "colorbar": {
              "outlinewidth": 0,
              "ticks": ""
             }
            },
            "type": "scatterternary"
           }
          ],
          "surface": [
           {
            "colorbar": {
             "outlinewidth": 0,
             "ticks": ""
            },
            "colorscale": [
             [
              0,
              "#0d0887"
             ],
             [
              0.1111111111111111,
              "#46039f"
             ],
             [
              0.2222222222222222,
              "#7201a8"
             ],
             [
              0.3333333333333333,
              "#9c179e"
             ],
             [
              0.4444444444444444,
              "#bd3786"
             ],
             [
              0.5555555555555556,
              "#d8576b"
             ],
             [
              0.6666666666666666,
              "#ed7953"
             ],
             [
              0.7777777777777778,
              "#fb9f3a"
             ],
             [
              0.8888888888888888,
              "#fdca26"
             ],
             [
              1,
              "#f0f921"
             ]
            ],
            "type": "surface"
           }
          ],
          "table": [
           {
            "cells": {
             "fill": {
              "color": "#EBF0F8"
             },
             "line": {
              "color": "white"
             }
            },
            "header": {
             "fill": {
              "color": "#C8D4E3"
             },
             "line": {
              "color": "white"
             }
            },
            "type": "table"
           }
          ]
         },
         "layout": {
          "annotationdefaults": {
           "arrowcolor": "#2a3f5f",
           "arrowhead": 0,
           "arrowwidth": 1
          },
          "autotypenumbers": "strict",
          "coloraxis": {
           "colorbar": {
            "outlinewidth": 0,
            "ticks": ""
           }
          },
          "colorscale": {
           "diverging": [
            [
             0,
             "#8e0152"
            ],
            [
             0.1,
             "#c51b7d"
            ],
            [
             0.2,
             "#de77ae"
            ],
            [
             0.3,
             "#f1b6da"
            ],
            [
             0.4,
             "#fde0ef"
            ],
            [
             0.5,
             "#f7f7f7"
            ],
            [
             0.6,
             "#e6f5d0"
            ],
            [
             0.7,
             "#b8e186"
            ],
            [
             0.8,
             "#7fbc41"
            ],
            [
             0.9,
             "#4d9221"
            ],
            [
             1,
             "#276419"
            ]
           ],
           "sequential": [
            [
             0,
             "#0d0887"
            ],
            [
             0.1111111111111111,
             "#46039f"
            ],
            [
             0.2222222222222222,
             "#7201a8"
            ],
            [
             0.3333333333333333,
             "#9c179e"
            ],
            [
             0.4444444444444444,
             "#bd3786"
            ],
            [
             0.5555555555555556,
             "#d8576b"
            ],
            [
             0.6666666666666666,
             "#ed7953"
            ],
            [
             0.7777777777777778,
             "#fb9f3a"
            ],
            [
             0.8888888888888888,
             "#fdca26"
            ],
            [
             1,
             "#f0f921"
            ]
           ],
           "sequentialminus": [
            [
             0,
             "#0d0887"
            ],
            [
             0.1111111111111111,
             "#46039f"
            ],
            [
             0.2222222222222222,
             "#7201a8"
            ],
            [
             0.3333333333333333,
             "#9c179e"
            ],
            [
             0.4444444444444444,
             "#bd3786"
            ],
            [
             0.5555555555555556,
             "#d8576b"
            ],
            [
             0.6666666666666666,
             "#ed7953"
            ],
            [
             0.7777777777777778,
             "#fb9f3a"
            ],
            [
             0.8888888888888888,
             "#fdca26"
            ],
            [
             1,
             "#f0f921"
            ]
           ]
          },
          "colorway": [
           "#636efa",
           "#EF553B",
           "#00cc96",
           "#ab63fa",
           "#FFA15A",
           "#19d3f3",
           "#FF6692",
           "#B6E880",
           "#FF97FF",
           "#FECB52"
          ],
          "font": {
           "color": "#2a3f5f"
          },
          "geo": {
           "bgcolor": "white",
           "lakecolor": "white",
           "landcolor": "#E5ECF6",
           "showlakes": true,
           "showland": true,
           "subunitcolor": "white"
          },
          "hoverlabel": {
           "align": "left"
          },
          "hovermode": "closest",
          "mapbox": {
           "style": "light"
          },
          "paper_bgcolor": "white",
          "plot_bgcolor": "#E5ECF6",
          "polar": {
           "angularaxis": {
            "gridcolor": "white",
            "linecolor": "white",
            "ticks": ""
           },
           "bgcolor": "#E5ECF6",
           "radialaxis": {
            "gridcolor": "white",
            "linecolor": "white",
            "ticks": ""
           }
          },
          "scene": {
           "xaxis": {
            "backgroundcolor": "#E5ECF6",
            "gridcolor": "white",
            "gridwidth": 2,
            "linecolor": "white",
            "showbackground": true,
            "ticks": "",
            "zerolinecolor": "white"
           },
           "yaxis": {
            "backgroundcolor": "#E5ECF6",
            "gridcolor": "white",
            "gridwidth": 2,
            "linecolor": "white",
            "showbackground": true,
            "ticks": "",
            "zerolinecolor": "white"
           },
           "zaxis": {
            "backgroundcolor": "#E5ECF6",
            "gridcolor": "white",
            "gridwidth": 2,
            "linecolor": "white",
            "showbackground": true,
            "ticks": "",
            "zerolinecolor": "white"
           }
          },
          "shapedefaults": {
           "line": {
            "color": "#2a3f5f"
           }
          },
          "ternary": {
           "aaxis": {
            "gridcolor": "white",
            "linecolor": "white",
            "ticks": ""
           },
           "baxis": {
            "gridcolor": "white",
            "linecolor": "white",
            "ticks": ""
           },
           "bgcolor": "#E5ECF6",
           "caxis": {
            "gridcolor": "white",
            "linecolor": "white",
            "ticks": ""
           }
          },
          "title": {
           "x": 0.05
          },
          "xaxis": {
           "automargin": true,
           "gridcolor": "white",
           "linecolor": "white",
           "ticks": "",
           "title": {
            "standoff": 15
           },
           "zerolinecolor": "white",
           "zerolinewidth": 2
          },
          "yaxis": {
           "automargin": true,
           "gridcolor": "white",
           "linecolor": "white",
           "ticks": "",
           "title": {
            "standoff": 15
           },
           "zerolinecolor": "white",
           "zerolinewidth": 2
          }
         }
        },
        "title": {
         "font": {
          "color": "Black",
          "size": 22
         },
         "text": "<b>Similarity Matrix</b>",
         "x": 0.55,
         "xanchor": "center",
         "y": 0.95,
         "yanchor": "top"
        },
        "width": 800,
        "xaxis": {
         "anchor": "y",
         "constrain": "domain",
         "domain": [
          0,
          1
         ],
         "scaleanchor": "y"
        },
        "yaxis": {
         "anchor": "x",
         "autorange": "reversed",
         "constrain": "domain",
         "domain": [
          0,
          1
         ]
        }
       }
      },
      "text/html": [
       "<div>                            <div id=\"ac450624-b549-4321-aee6-09b890e3a0a5\" class=\"plotly-graph-div\" style=\"height:800px; width:800px;\"></div>            <script type=\"text/javascript\">                require([\"plotly\"], function(Plotly) {                    window.PLOTLYENV=window.PLOTLYENV || {};                                    if (document.getElementById(\"ac450624-b549-4321-aee6-09b890e3a0a5\")) {                    Plotly.newPlot(                        \"ac450624-b549-4321-aee6-09b890e3a0a5\",                        [{\"coloraxis\":\"coloraxis\",\"name\":\"0\",\"x\":[\"0_非常_不错_很快\",\"1_清晰_打印_打印 清晰\",\"2_经典_学习_书籍\",\"3_产品_视觉_机器\",\"4_人工智能_机器人_本书\",\"5_物流_物流 很快 包装_物流 很快\",\"6_学习_质量_学习 质量\",\"7_深度 学习_深度_学习\",\"8_物流_包装_采购 书籍 出版社\",\"9_python_复杂 产品_想法\",\"10_实用_专业 非常 实用_专业 非常\",\"11_本书_2020_方式 配图\",\"12_神经网络_比较_实验室\",\"13_书里 内容_书里_tensorflow\",\"14_本书_实体书 支持_必须 一本 实体书\",\"15_没有_没有 空白页 纸张_破损 没有\",\"16_全面_详细_全面 了解\",\"17_颜色 质量_颜色_颜色 质量 非常\",\"18_618_活动_当天 下单 隔天\",\"19_非常 本书_本书 非常适合_理论性\",\"20_昨天 今天_手感 不错_收到 神速\"],\"y\":[\"0_非常_不错_很快\",\"1_清晰_打印_打印 清晰\",\"2_经典_学习_书籍\",\"3_产品_视觉_机器\",\"4_人工智能_机器人_本书\",\"5_物流_物流 很快 包装_物流 很快\",\"6_学习_质量_学习 质量\",\"7_深度 学习_深度_学习\",\"8_物流_包装_采购 书籍 出版社\",\"9_python_复杂 产品_想法\",\"10_实用_专业 非常 实用_专业 非常\",\"11_本书_2020_方式 配图\",\"12_神经网络_比较_实验室\",\"13_书里 内容_书里_tensorflow\",\"14_本书_实体书 支持_必须 一本 实体书\",\"15_没有_没有 空白页 纸张_破损 没有\",\"16_全面_详细_全面 了解\",\"17_颜色 质量_颜色_颜色 质量 非常\",\"18_618_活动_当天 下单 隔天\",\"19_非常 本书_本书 非常适合_理论性\",\"20_昨天 今天_手感 不错_收到 神速\"],\"z\":[[0.9999999999999998,0.8070237999348029,0.8023119986248325,0.7926828997859477,0.758368962734351,0.7063872241781058,0.8761246493042338,0.7532976227706687,0.7358809577404528,0.8544297659042046,0.8124389396378746,0.7341398688702638,0.7036075020774615,0.8385398477405888,0.6879037455804196,0.6677980552369128,0.8526890028178647,0.6772933470037217,0.6322647712511735,0.6828721095724455,0.7536660082809732],[0.8070237999348029,1.0000000000000004,0.7375243263462172,0.65067708056975,0.6296421059588123,0.5316049712153126,0.7569475839594216,0.6409893438449625,0.6558558666407406,0.6945287029250596,0.6648624759199024,0.7145738153677762,0.5691131139751898,0.7775011701721605,0.7202976561180046,0.731809309204269,0.723356962415161,0.5372170926189125,0.5174694445331081,0.6548156337990052,0.6022577803571878],[0.8023119986248325,0.7375243263462172,0.9999999999999998,0.8039666761198341,0.7970723408563601,0.4996163063663027,0.8412208460629109,0.8291397953569907,0.591973414638225,0.8206846002544512,0.7262077564876421,0.8725283067957921,0.7745175502711459,0.8184198211823055,0.7400021448989422,0.5702073608683279,0.8057456053017062,0.498615339136102,0.6149424254003926,0.7278883206823793,0.5947087929758674],[0.7926828997859477,0.65067708056975,0.8039666761198341,1.0000000000000009,0.8375179690718311,0.6513601594529417,0.8183716617649388,0.7298464806828763,0.695698214435009,0.8279523385134913,0.7204695871459356,0.7022096346012486,0.7543971179697533,0.7263759966498347,0.5445847881187957,0.4676268010137195,0.849321334676916,0.5836445440069281,0.5345931349311227,0.5390533767304708,0.5807155601362686],[0.758368962734351,0.6296421059588123,0.7970723408563601,0.8375179690718311,1.0000000000000002,0.5269920611992988,0.7597497141039709,0.7368194089173554,0.5477364364055226,0.8180455857355663,0.6757007142208437,0.699608562291817,0.7587203403439318,0.7225857170904921,0.5788563544039838,0.49928257315394303,0.7825489300673101,0.4639672499658263,0.5798486956585085,0.5821445121243614,0.5914406962073055],[0.7063872241781058,0.5316049712153126,0.4996163063663027,0.6513601594529417,0.5269920611992988,1.0000000000000002,0.6013038595466705,0.5038687945739924,0.8681711585715126,0.6112801813679687,0.675025320234254,0.45048375637483873,0.4820522775257102,0.5646740773386277,0.38728011359553516,0.3871570347461343,0.6548847358881545,0.4556319288041478,0.4411781969362624,0.4076687720354034,0.5046953475558456],[0.8761246493042338,0.7569475839594216,0.8412208460629109,0.8183716617649388,0.7597497141039709,0.6013038595466705,1.0,0.8301391165289881,0.6368102476181758,0.8383832800308968,0.8218246243704714,0.7562200768444458,0.7392201101539004,0.7967523996052881,0.6391636206283944,0.6008956061435524,0.87958030382566,0.694200822362649,0.5752598859560247,0.6634218269257868,0.6288208215185684],[0.7532976227706687,0.6409893438449625,0.8291397953569907,0.7298464806828763,0.7368194089173554,0.5038687945739924,0.8301391165289881,1.0000000000000009,0.5199026727803816,0.7912393086609839,0.7003287489152956,0.7057377216168322,0.7589475291005752,0.7958538628030617,0.6514375686482732,0.5498957881433235,0.7960350027080825,0.47003619934189733,0.512889264764626,0.6508473407101207,0.5790095833540734],[0.7358809577404528,0.6558558666407406,0.591973414638225,0.695698214435009,0.5477364364055226,0.8681711585715126,0.6368102476181758,0.5199026727803816,1.0,0.6418044679856152,0.6621791167401032,0.595932061014989,0.5335899758714986,0.6226633704419804,0.5731020919738468,0.5036759789980428,0.6593532131759581,0.4871362763876249,0.4515603481730545,0.488498860119409,0.40954024753755414],[0.8544297659042046,0.6945287029250596,0.8206846002544512,0.8279523385134913,0.8180455857355663,0.6112801813679687,0.8383832800308968,0.7912393086609839,0.6418044679856152,1.0000000000000016,0.7515691733084526,0.7143073218752076,0.7495897752494471,0.8156881304950875,0.6185305918758792,0.5288055230497113,0.833326783798085,0.5618016512805897,0.5685251955107297,0.6374675310794456,0.6113581475721238],[0.8124389396378746,0.6648624759199024,0.7262077564876421,0.7204695871459356,0.6757007142208437,0.675025320234254,0.8218246243704714,0.7003287489152956,0.6621791167401032,0.7515691733084526,1.0,0.69491595871187,0.6640884967735825,0.7455366287591555,0.663031198991278,0.5816848676092948,0.8705115196738926,0.6067989943319791,0.5256017843286508,0.7506312420296466,0.6393011405974546],[0.7341398688702638,0.7145738153677762,0.8725283067957921,0.7022096346012486,0.699608562291817,0.45048375637483873,0.7562200768444458,0.7057377216168322,0.595932061014989,0.7143073218752076,0.69491595871187,1.0000000000000002,0.7042830820272992,0.7687992319167103,0.765047655065136,0.5966558633590375,0.7358655437864782,0.6102528410410324,0.565240452983813,0.7414540760660484,0.537738379835252],[0.7036075020774615,0.5691131139751898,0.7745175502711459,0.7543971179697533,0.7587203403439318,0.4820522775257102,0.7392201101539004,0.7589475291005752,0.5335899758714986,0.7495897752494471,0.6640884967735825,0.7042830820272992,1.0,0.7571294425208024,0.578757142805129,0.49936932420522606,0.7718271928702047,0.46753858669431547,0.4978596705915874,0.5947054645127818,0.5333289209236156],[0.8385398477405888,0.7775011701721605,0.8184198211823055,0.7263759966498347,0.7225857170904921,0.5646740773386277,0.7967523996052881,0.7958538628030617,0.6226633704419804,0.8156881304950875,0.7455366287591555,0.7687992319167103,0.7571294425208024,0.9999999999999993,0.7972313062547733,0.6412017264068024,0.8498999421188039,0.5630918630527116,0.5956253873232027,0.8061291103431059,0.6895200874180029],[0.6879037455804196,0.7202976561180046,0.7400021448989422,0.5445847881187957,0.5788563544039838,0.38728011359553516,0.6391636206283944,0.6514375686482732,0.5731020919738468,0.6185305918758792,0.663031198991278,0.765047655065136,0.578757142805129,0.7972313062547733,1.0000000000000004,0.6423974025076598,0.683193022449772,0.42741887478263907,0.4820227266213436,0.8982257665234842,0.5096103652096718],[0.6677980552369128,0.731809309204269,0.5702073608683279,0.4676268010137195,0.49928257315394303,0.3871570347461343,0.6008956061435524,0.5498957881433235,0.5036759789980428,0.5288055230497113,0.5816848676092948,0.5966558633590375,0.49936932420522606,0.6412017264068024,0.6423974025076598,1.0,0.5988399593585965,0.40168864437286955,0.45157166064599596,0.5819068819111812,0.5625143053928677],[0.8526890028178647,0.723356962415161,0.8057456053017062,0.849321334676916,0.7825489300673101,0.6548847358881545,0.87958030382566,0.7960350027080825,0.6593532131759581,0.833326783798085,0.8705115196738926,0.7358655437864782,0.7718271928702047,0.8498999421188039,0.683193022449772,0.5988399593585965,1.0000000000000009,0.6322463197657482,0.553472450400192,0.7366585666986517,0.6698089168249411],[0.6772933470037217,0.5372170926189125,0.498615339136102,0.5836445440069281,0.4639672499658263,0.4556319288041478,0.694200822362649,0.47003619934189733,0.4871362763876249,0.5618016512805897,0.6067989943319791,0.6102528410410324,0.46753858669431547,0.5630918630527116,0.42741887478263907,0.40168864437286955,0.6322463197657482,1.0000000000000002,0.37293914711573334,0.508758043024768,0.4906804561795619],[0.6322647712511735,0.5174694445331081,0.6149424254003926,0.5345931349311227,0.5798486956585085,0.4411781969362624,0.5752598859560247,0.512889264764626,0.4515603481730545,0.5685251955107297,0.5256017843286508,0.565240452983813,0.4978596705915874,0.5956253873232027,0.4820227266213436,0.45157166064599596,0.553472450400192,0.37293914711573334,1.0000000000000007,0.47326035867124217,0.6160488218108845],[0.6828721095724455,0.6548156337990052,0.7278883206823793,0.5390533767304708,0.5821445121243614,0.4076687720354034,0.6634218269257868,0.6508473407101207,0.488498860119409,0.6374675310794456,0.7506312420296466,0.7414540760660484,0.5947054645127818,0.8061291103431059,0.8982257665234842,0.5819068819111812,0.7366585666986517,0.508758043024768,0.47326035867124217,1.0000000000000007,0.5614115651457218],[0.7536660082809732,0.6022577803571878,0.5947087929758674,0.5807155601362686,0.5914406962073055,0.5046953475558456,0.6288208215185684,0.5790095833540734,0.40954024753755414,0.6113581475721238,0.6393011405974546,0.537738379835252,0.5333289209236156,0.6895200874180029,0.5096103652096718,0.5625143053928677,0.6698089168249411,0.4906804561795619,0.6160488218108845,0.5614115651457218,0.9999999999999989]],\"type\":\"heatmap\",\"xaxis\":\"x\",\"yaxis\":\"y\",\"hovertemplate\":\"x: %{x}<br>y: %{y}<br>Similarity Score: %{z}<extra></extra>\"}],                        {\"template\":{\"data\":{\"histogram2dcontour\":[{\"type\":\"histogram2dcontour\",\"colorbar\":{\"outlinewidth\":0,\"ticks\":\"\"},\"colorscale\":[[0.0,\"#0d0887\"],[0.1111111111111111,\"#46039f\"],[0.2222222222222222,\"#7201a8\"],[0.3333333333333333,\"#9c179e\"],[0.4444444444444444,\"#bd3786\"],[0.5555555555555556,\"#d8576b\"],[0.6666666666666666,\"#ed7953\"],[0.7777777777777778,\"#fb9f3a\"],[0.8888888888888888,\"#fdca26\"],[1.0,\"#f0f921\"]]}],\"choropleth\":[{\"type\":\"choropleth\",\"colorbar\":{\"outlinewidth\":0,\"ticks\":\"\"}}],\"histogram2d\":[{\"type\":\"histogram2d\",\"colorbar\":{\"outlinewidth\":0,\"ticks\":\"\"},\"colorscale\":[[0.0,\"#0d0887\"],[0.1111111111111111,\"#46039f\"],[0.2222222222222222,\"#7201a8\"],[0.3333333333333333,\"#9c179e\"],[0.4444444444444444,\"#bd3786\"],[0.5555555555555556,\"#d8576b\"],[0.6666666666666666,\"#ed7953\"],[0.7777777777777778,\"#fb9f3a\"],[0.8888888888888888,\"#fdca26\"],[1.0,\"#f0f921\"]]}],\"heatmap\":[{\"type\":\"heatmap\",\"colorbar\":{\"outlinewidth\":0,\"ticks\":\"\"},\"colorscale\":[[0.0,\"#0d0887\"],[0.1111111111111111,\"#46039f\"],[0.2222222222222222,\"#7201a8\"],[0.3333333333333333,\"#9c179e\"],[0.4444444444444444,\"#bd3786\"],[0.5555555555555556,\"#d8576b\"],[0.6666666666666666,\"#ed7953\"],[0.7777777777777778,\"#fb9f3a\"],[0.8888888888888888,\"#fdca26\"],[1.0,\"#f0f921\"]]}],\"heatmapgl\":[{\"type\":\"heatmapgl\",\"colorbar\":{\"outlinewidth\":0,\"ticks\":\"\"},\"colorscale\":[[0.0,\"#0d0887\"],[0.1111111111111111,\"#46039f\"],[0.2222222222222222,\"#7201a8\"],[0.3333333333333333,\"#9c179e\"],[0.4444444444444444,\"#bd3786\"],[0.5555555555555556,\"#d8576b\"],[0.6666666666666666,\"#ed7953\"],[0.7777777777777778,\"#fb9f3a\"],[0.8888888888888888,\"#fdca26\"],[1.0,\"#f0f921\"]]}],\"contourcarpet\":[{\"type\":\"contourcarpet\",\"colorbar\":{\"outlinewidth\":0,\"ticks\":\"\"}}],\"contour\":[{\"type\":\"contour\",\"colorbar\":{\"outlinewidth\":0,\"ticks\":\"\"},\"colorscale\":[[0.0,\"#0d0887\"],[0.1111111111111111,\"#46039f\"],[0.2222222222222222,\"#7201a8\"],[0.3333333333333333,\"#9c179e\"],[0.4444444444444444,\"#bd3786\"],[0.5555555555555556,\"#d8576b\"],[0.6666666666666666,\"#ed7953\"],[0.7777777777777778,\"#fb9f3a\"],[0.8888888888888888,\"#fdca26\"],[1.0,\"#f0f921\"]]}],\"surface\":[{\"type\":\"surface\",\"colorbar\":{\"outlinewidth\":0,\"ticks\":\"\"},\"colorscale\":[[0.0,\"#0d0887\"],[0.1111111111111111,\"#46039f\"],[0.2222222222222222,\"#7201a8\"],[0.3333333333333333,\"#9c179e\"],[0.4444444444444444,\"#bd3786\"],[0.5555555555555556,\"#d8576b\"],[0.6666666666666666,\"#ed7953\"],[0.7777777777777778,\"#fb9f3a\"],[0.8888888888888888,\"#fdca26\"],[1.0,\"#f0f921\"]]}],\"mesh3d\":[{\"type\":\"mesh3d\",\"colorbar\":{\"outlinewidth\":0,\"ticks\":\"\"}}],\"scatter\":[{\"fillpattern\":{\"fillmode\":\"overlay\",\"size\":10,\"solidity\":0.2},\"type\":\"scatter\"}],\"parcoords\":[{\"type\":\"parcoords\",\"line\":{\"colorbar\":{\"outlinewidth\":0,\"ticks\":\"\"}}}],\"scatterpolargl\":[{\"type\":\"scatterpolargl\",\"marker\":{\"colorbar\":{\"outlinewidth\":0,\"ticks\":\"\"}}}],\"bar\":[{\"error_x\":{\"color\":\"#2a3f5f\"},\"error_y\":{\"color\":\"#2a3f5f\"},\"marker\":{\"line\":{\"color\":\"#E5ECF6\",\"width\":0.5},\"pattern\":{\"fillmode\":\"overlay\",\"size\":10,\"solidity\":0.2}},\"type\":\"bar\"}],\"scattergeo\":[{\"type\":\"scattergeo\",\"marker\":{\"colorbar\":{\"outlinewidth\":0,\"ticks\":\"\"}}}],\"scatterpolar\":[{\"type\":\"scatterpolar\",\"marker\":{\"colorbar\":{\"outlinewidth\":0,\"ticks\":\"\"}}}],\"histogram\":[{\"marker\":{\"pattern\":{\"fillmode\":\"overlay\",\"size\":10,\"solidity\":0.2}},\"type\":\"histogram\"}],\"scattergl\":[{\"type\":\"scattergl\",\"marker\":{\"colorbar\":{\"outlinewidth\":0,\"ticks\":\"\"}}}],\"scatter3d\":[{\"type\":\"scatter3d\",\"line\":{\"colorbar\":{\"outlinewidth\":0,\"ticks\":\"\"}},\"marker\":{\"colorbar\":{\"outlinewidth\":0,\"ticks\":\"\"}}}],\"scattermapbox\":[{\"type\":\"scattermapbox\",\"marker\":{\"colorbar\":{\"outlinewidth\":0,\"ticks\":\"\"}}}],\"scatterternary\":[{\"type\":\"scatterternary\",\"marker\":{\"colorbar\":{\"outlinewidth\":0,\"ticks\":\"\"}}}],\"scattercarpet\":[{\"type\":\"scattercarpet\",\"marker\":{\"colorbar\":{\"outlinewidth\":0,\"ticks\":\"\"}}}],\"carpet\":[{\"aaxis\":{\"endlinecolor\":\"#2a3f5f\",\"gridcolor\":\"white\",\"linecolor\":\"white\",\"minorgridcolor\":\"white\",\"startlinecolor\":\"#2a3f5f\"},\"baxis\":{\"endlinecolor\":\"#2a3f5f\",\"gridcolor\":\"white\",\"linecolor\":\"white\",\"minorgridcolor\":\"white\",\"startlinecolor\":\"#2a3f5f\"},\"type\":\"carpet\"}],\"table\":[{\"cells\":{\"fill\":{\"color\":\"#EBF0F8\"},\"line\":{\"color\":\"white\"}},\"header\":{\"fill\":{\"color\":\"#C8D4E3\"},\"line\":{\"color\":\"white\"}},\"type\":\"table\"}],\"barpolar\":[{\"marker\":{\"line\":{\"color\":\"#E5ECF6\",\"width\":0.5},\"pattern\":{\"fillmode\":\"overlay\",\"size\":10,\"solidity\":0.2}},\"type\":\"barpolar\"}],\"pie\":[{\"automargin\":true,\"type\":\"pie\"}]},\"layout\":{\"autotypenumbers\":\"strict\",\"colorway\":[\"#636efa\",\"#EF553B\",\"#00cc96\",\"#ab63fa\",\"#FFA15A\",\"#19d3f3\",\"#FF6692\",\"#B6E880\",\"#FF97FF\",\"#FECB52\"],\"font\":{\"color\":\"#2a3f5f\"},\"hovermode\":\"closest\",\"hoverlabel\":{\"align\":\"left\"},\"paper_bgcolor\":\"white\",\"plot_bgcolor\":\"#E5ECF6\",\"polar\":{\"bgcolor\":\"#E5ECF6\",\"angularaxis\":{\"gridcolor\":\"white\",\"linecolor\":\"white\",\"ticks\":\"\"},\"radialaxis\":{\"gridcolor\":\"white\",\"linecolor\":\"white\",\"ticks\":\"\"}},\"ternary\":{\"bgcolor\":\"#E5ECF6\",\"aaxis\":{\"gridcolor\":\"white\",\"linecolor\":\"white\",\"ticks\":\"\"},\"baxis\":{\"gridcolor\":\"white\",\"linecolor\":\"white\",\"ticks\":\"\"},\"caxis\":{\"gridcolor\":\"white\",\"linecolor\":\"white\",\"ticks\":\"\"}},\"coloraxis\":{\"colorbar\":{\"outlinewidth\":0,\"ticks\":\"\"}},\"colorscale\":{\"sequential\":[[0.0,\"#0d0887\"],[0.1111111111111111,\"#46039f\"],[0.2222222222222222,\"#7201a8\"],[0.3333333333333333,\"#9c179e\"],[0.4444444444444444,\"#bd3786\"],[0.5555555555555556,\"#d8576b\"],[0.6666666666666666,\"#ed7953\"],[0.7777777777777778,\"#fb9f3a\"],[0.8888888888888888,\"#fdca26\"],[1.0,\"#f0f921\"]],\"sequentialminus\":[[0.0,\"#0d0887\"],[0.1111111111111111,\"#46039f\"],[0.2222222222222222,\"#7201a8\"],[0.3333333333333333,\"#9c179e\"],[0.4444444444444444,\"#bd3786\"],[0.5555555555555556,\"#d8576b\"],[0.6666666666666666,\"#ed7953\"],[0.7777777777777778,\"#fb9f3a\"],[0.8888888888888888,\"#fdca26\"],[1.0,\"#f0f921\"]],\"diverging\":[[0,\"#8e0152\"],[0.1,\"#c51b7d\"],[0.2,\"#de77ae\"],[0.3,\"#f1b6da\"],[0.4,\"#fde0ef\"],[0.5,\"#f7f7f7\"],[0.6,\"#e6f5d0\"],[0.7,\"#b8e186\"],[0.8,\"#7fbc41\"],[0.9,\"#4d9221\"],[1,\"#276419\"]]},\"xaxis\":{\"gridcolor\":\"white\",\"linecolor\":\"white\",\"ticks\":\"\",\"title\":{\"standoff\":15},\"zerolinecolor\":\"white\",\"automargin\":true,\"zerolinewidth\":2},\"yaxis\":{\"gridcolor\":\"white\",\"linecolor\":\"white\",\"ticks\":\"\",\"title\":{\"standoff\":15},\"zerolinecolor\":\"white\",\"automargin\":true,\"zerolinewidth\":2},\"scene\":{\"xaxis\":{\"backgroundcolor\":\"#E5ECF6\",\"gridcolor\":\"white\",\"linecolor\":\"white\",\"showbackground\":true,\"ticks\":\"\",\"zerolinecolor\":\"white\",\"gridwidth\":2},\"yaxis\":{\"backgroundcolor\":\"#E5ECF6\",\"gridcolor\":\"white\",\"linecolor\":\"white\",\"showbackground\":true,\"ticks\":\"\",\"zerolinecolor\":\"white\",\"gridwidth\":2},\"zaxis\":{\"backgroundcolor\":\"#E5ECF6\",\"gridcolor\":\"white\",\"linecolor\":\"white\",\"showbackground\":true,\"ticks\":\"\",\"zerolinecolor\":\"white\",\"gridwidth\":2}},\"shapedefaults\":{\"line\":{\"color\":\"#2a3f5f\"}},\"annotationdefaults\":{\"arrowcolor\":\"#2a3f5f\",\"arrowhead\":0,\"arrowwidth\":1},\"geo\":{\"bgcolor\":\"white\",\"landcolor\":\"#E5ECF6\",\"subunitcolor\":\"white\",\"showland\":true,\"showlakes\":true,\"lakecolor\":\"white\"},\"title\":{\"x\":0.05},\"mapbox\":{\"style\":\"light\"}}},\"xaxis\":{\"anchor\":\"y\",\"domain\":[0.0,1.0],\"scaleanchor\":\"y\",\"constrain\":\"domain\"},\"yaxis\":{\"anchor\":\"x\",\"domain\":[0.0,1.0],\"autorange\":\"reversed\",\"constrain\":\"domain\"},\"coloraxis\":{\"colorbar\":{\"title\":{\"text\":\"Similarity Score\"}},\"colorscale\":[[0.0,\"rgb(247,252,240)\"],[0.125,\"rgb(224,243,219)\"],[0.25,\"rgb(204,235,197)\"],[0.375,\"rgb(168,221,181)\"],[0.5,\"rgb(123,204,196)\"],[0.625,\"rgb(78,179,211)\"],[0.75,\"rgb(43,140,190)\"],[0.875,\"rgb(8,104,172)\"],[1.0,\"rgb(8,64,129)\"]]},\"margin\":{\"t\":60},\"title\":{\"font\":{\"size\":22,\"color\":\"Black\"},\"text\":\"<b>Similarity Matrix</b>\",\"y\":0.95,\"x\":0.55,\"xanchor\":\"center\",\"yanchor\":\"top\"},\"hoverlabel\":{\"font\":{\"size\":16,\"family\":\"Rockwell\"},\"bgcolor\":\"white\"},\"width\":800,\"height\":800,\"showlegend\":true,\"legend\":{\"title\":{\"text\":\"Trend\"}}},                        {\"responsive\": true}                    ).then(function(){\n",
       "                            \n",
       "var gd = document.getElementById('ac450624-b549-4321-aee6-09b890e3a0a5');\n",
       "var x = new MutationObserver(function (mutations, observer) {{\n",
       "        var display = window.getComputedStyle(gd).display;\n",
       "        if (!display || display === 'none') {{\n",
       "            console.log([gd, 'removed!']);\n",
       "            Plotly.purge(gd);\n",
       "            observer.disconnect();\n",
       "        }}\n",
       "}});\n",
       "\n",
       "// Listen for the removal of the full notebook cells\n",
       "var notebookContainer = gd.closest('#notebook-container');\n",
       "if (notebookContainer) {{\n",
       "    x.observe(notebookContainer, {childList: true});\n",
       "}}\n",
       "\n",
       "// Listen for the clearing of the current output cell\n",
       "var outputEl = gd.closest('.output');\n",
       "if (outputEl) {{\n",
       "    x.observe(outputEl, {childList: true});\n",
       "}}\n",
       "\n",
       "                        })                };                });            </script>        </div>"
      ]
     },
     "metadata": {},
     "output_type": "display_data"
    }
   ],
   "source": [
    "model.visualize_heatmap()"
   ]
  },
  {
   "cell_type": "code",
   "execution_count": 29,
   "id": "8528e5a5",
   "metadata": {},
   "outputs": [
    {
     "data": {
      "application/vnd.plotly.v1+json": {
       "config": {
        "plotlyServerURL": "https://plot.ly"
       },
       "data": [
        {
         "marker": {
          "color": "#D55E00"
         },
         "orientation": "h",
         "type": "bar",
         "x": [
          0.012649059927048276,
          0.013461539545245945,
          0.01348458611864831,
          0.015053971421767369,
          0.017285105508856726
         ],
         "xaxis": "x",
         "y": [
          "内容  ",
          "京东  ",
          "很快  ",
          "不错  ",
          "非常  "
         ],
         "yaxis": "y"
        },
        {
         "marker": {
          "color": "#0072B2"
         },
         "orientation": "h",
         "type": "bar",
         "x": [
          0.05920877459743754,
          0.06604929254058266,
          0.07455593770332672,
          0.07455593770332672,
          0.07779836893946916
         ],
         "xaxis": "x2",
         "y": [
          "清晰 书本  ",
          "清楚  ",
          "打印 清晰  ",
          "打印  ",
          "清晰  "
         ],
         "yaxis": "y2"
        },
        {
         "marker": {
          "color": "#CC79A7"
         },
         "orientation": "h",
         "type": "bar",
         "x": [
          0.01839347298884925,
          0.019271755189543657,
          0.020438996832874118,
          0.02172490632191893,
          0.022963364201364023
         ],
         "xaxis": "x3",
         "y": [
          "系列  ",
          "数学  ",
          "书籍  ",
          "学习  ",
          "经典  "
         ],
         "yaxis": "y3"
        },
        {
         "marker": {
          "color": "#E69F00"
         },
         "orientation": "h",
         "type": "bar",
         "x": [
          0.02533803888000156,
          0.025532324937966144,
          0.028425611891070915,
          0.0311427112254512,
          0.03343129941280523
         ],
         "xaxis": "x4",
         "y": [
          "技术  ",
          "学习  ",
          "机器  ",
          "视觉  ",
          "产品  "
         ],
         "yaxis": "y4"
        },
        {
         "marker": {
          "color": "#56B4E9"
         },
         "orientation": "h",
         "type": "bar",
         "x": [
          0.026491348634317416,
          0.026491348634317416,
          0.026742551478610984,
          0.05570260467328135,
          0.07287119818470654
         ],
         "xaxis": "x5",
         "y": [
          "发展  ",
          "人工智能 发展  ",
          "本书  ",
          "机器人  ",
          "人工智能  "
         ],
         "yaxis": "y5"
        },
        {
         "marker": {
          "color": "#009E73"
         },
         "orientation": "h",
         "type": "bar",
         "x": [
          0.05544036283773009,
          0.05544036283773009,
          0.0597465212822183,
          0.05979321406255059,
          0.09037916263809719
         ],
         "xaxis": "x6",
         "y": [
          "物流 非常  ",
          "很快 包装  ",
          "物流 很快  ",
          "物流 很快 包装  ",
          "物流  "
         ],
         "yaxis": "y6"
        },
        {
         "marker": {
          "color": "#F0E442"
         },
         "orientation": "h",
         "type": "bar",
         "x": [
          0.030438137800362884,
          0.031903554905245754,
          0.03228051850737725,
          0.035452380145581996,
          0.041107570677500246
         ],
         "xaxis": "x7",
         "y": [
          "很大  ",
          "这些  ",
          "学习 质量  ",
          "质量  ",
          "学习  "
         ],
         "yaxis": "y7"
        },
        {
         "marker": {
          "color": "#D55E00"
         },
         "orientation": "h",
         "type": "bar",
         "x": [
          0.034283519175869,
          0.04301203502545666,
          0.07389438888731706,
          0.08502311860046803,
          0.08868616521852601
         ],
         "xaxis": "x8",
         "y": [
          "一定  ",
          "慢慢  ",
          "学习  ",
          "深度  ",
          "深度 学习  "
         ],
         "yaxis": "y8"
        }
       ],
       "layout": {
        "annotations": [
         {
          "font": {
           "size": 16
          },
          "showarrow": false,
          "text": "Topic 0",
          "x": 0.0875,
          "xanchor": "center",
          "xref": "paper",
          "y": 1,
          "yanchor": "bottom",
          "yref": "paper"
         },
         {
          "font": {
           "size": 16
          },
          "showarrow": false,
          "text": "Topic 1",
          "x": 0.36250000000000004,
          "xanchor": "center",
          "xref": "paper",
          "y": 1,
          "yanchor": "bottom",
          "yref": "paper"
         },
         {
          "font": {
           "size": 16
          },
          "showarrow": false,
          "text": "Topic 2",
          "x": 0.6375000000000001,
          "xanchor": "center",
          "xref": "paper",
          "y": 1,
          "yanchor": "bottom",
          "yref": "paper"
         },
         {
          "font": {
           "size": 16
          },
          "showarrow": false,
          "text": "Topic 3",
          "x": 0.9125,
          "xanchor": "center",
          "xref": "paper",
          "y": 1,
          "yanchor": "bottom",
          "yref": "paper"
         },
         {
          "font": {
           "size": 16
          },
          "showarrow": false,
          "text": "Topic 4",
          "x": 0.0875,
          "xanchor": "center",
          "xref": "paper",
          "y": 0.4,
          "yanchor": "bottom",
          "yref": "paper"
         },
         {
          "font": {
           "size": 16
          },
          "showarrow": false,
          "text": "Topic 5",
          "x": 0.36250000000000004,
          "xanchor": "center",
          "xref": "paper",
          "y": 0.4,
          "yanchor": "bottom",
          "yref": "paper"
         },
         {
          "font": {
           "size": 16
          },
          "showarrow": false,
          "text": "Topic 6",
          "x": 0.6375000000000001,
          "xanchor": "center",
          "xref": "paper",
          "y": 0.4,
          "yanchor": "bottom",
          "yref": "paper"
         },
         {
          "font": {
           "size": 16
          },
          "showarrow": false,
          "text": "Topic 7",
          "x": 0.9125,
          "xanchor": "center",
          "xref": "paper",
          "y": 0.4,
          "yanchor": "bottom",
          "yref": "paper"
         }
        ],
        "height": 500,
        "hoverlabel": {
         "bgcolor": "white",
         "font": {
          "family": "Rockwell",
          "size": 16
         }
        },
        "showlegend": false,
        "template": {
         "data": {
          "bar": [
           {
            "error_x": {
             "color": "#2a3f5f"
            },
            "error_y": {
             "color": "#2a3f5f"
            },
            "marker": {
             "line": {
              "color": "white",
              "width": 0.5
             },
             "pattern": {
              "fillmode": "overlay",
              "size": 10,
              "solidity": 0.2
             }
            },
            "type": "bar"
           }
          ],
          "barpolar": [
           {
            "marker": {
             "line": {
              "color": "white",
              "width": 0.5
             },
             "pattern": {
              "fillmode": "overlay",
              "size": 10,
              "solidity": 0.2
             }
            },
            "type": "barpolar"
           }
          ],
          "carpet": [
           {
            "aaxis": {
             "endlinecolor": "#2a3f5f",
             "gridcolor": "#C8D4E3",
             "linecolor": "#C8D4E3",
             "minorgridcolor": "#C8D4E3",
             "startlinecolor": "#2a3f5f"
            },
            "baxis": {
             "endlinecolor": "#2a3f5f",
             "gridcolor": "#C8D4E3",
             "linecolor": "#C8D4E3",
             "minorgridcolor": "#C8D4E3",
             "startlinecolor": "#2a3f5f"
            },
            "type": "carpet"
           }
          ],
          "choropleth": [
           {
            "colorbar": {
             "outlinewidth": 0,
             "ticks": ""
            },
            "type": "choropleth"
           }
          ],
          "contour": [
           {
            "colorbar": {
             "outlinewidth": 0,
             "ticks": ""
            },
            "colorscale": [
             [
              0,
              "#0d0887"
             ],
             [
              0.1111111111111111,
              "#46039f"
             ],
             [
              0.2222222222222222,
              "#7201a8"
             ],
             [
              0.3333333333333333,
              "#9c179e"
             ],
             [
              0.4444444444444444,
              "#bd3786"
             ],
             [
              0.5555555555555556,
              "#d8576b"
             ],
             [
              0.6666666666666666,
              "#ed7953"
             ],
             [
              0.7777777777777778,
              "#fb9f3a"
             ],
             [
              0.8888888888888888,
              "#fdca26"
             ],
             [
              1,
              "#f0f921"
             ]
            ],
            "type": "contour"
           }
          ],
          "contourcarpet": [
           {
            "colorbar": {
             "outlinewidth": 0,
             "ticks": ""
            },
            "type": "contourcarpet"
           }
          ],
          "heatmap": [
           {
            "colorbar": {
             "outlinewidth": 0,
             "ticks": ""
            },
            "colorscale": [
             [
              0,
              "#0d0887"
             ],
             [
              0.1111111111111111,
              "#46039f"
             ],
             [
              0.2222222222222222,
              "#7201a8"
             ],
             [
              0.3333333333333333,
              "#9c179e"
             ],
             [
              0.4444444444444444,
              "#bd3786"
             ],
             [
              0.5555555555555556,
              "#d8576b"
             ],
             [
              0.6666666666666666,
              "#ed7953"
             ],
             [
              0.7777777777777778,
              "#fb9f3a"
             ],
             [
              0.8888888888888888,
              "#fdca26"
             ],
             [
              1,
              "#f0f921"
             ]
            ],
            "type": "heatmap"
           }
          ],
          "heatmapgl": [
           {
            "colorbar": {
             "outlinewidth": 0,
             "ticks": ""
            },
            "colorscale": [
             [
              0,
              "#0d0887"
             ],
             [
              0.1111111111111111,
              "#46039f"
             ],
             [
              0.2222222222222222,
              "#7201a8"
             ],
             [
              0.3333333333333333,
              "#9c179e"
             ],
             [
              0.4444444444444444,
              "#bd3786"
             ],
             [
              0.5555555555555556,
              "#d8576b"
             ],
             [
              0.6666666666666666,
              "#ed7953"
             ],
             [
              0.7777777777777778,
              "#fb9f3a"
             ],
             [
              0.8888888888888888,
              "#fdca26"
             ],
             [
              1,
              "#f0f921"
             ]
            ],
            "type": "heatmapgl"
           }
          ],
          "histogram": [
           {
            "marker": {
             "pattern": {
              "fillmode": "overlay",
              "size": 10,
              "solidity": 0.2
             }
            },
            "type": "histogram"
           }
          ],
          "histogram2d": [
           {
            "colorbar": {
             "outlinewidth": 0,
             "ticks": ""
            },
            "colorscale": [
             [
              0,
              "#0d0887"
             ],
             [
              0.1111111111111111,
              "#46039f"
             ],
             [
              0.2222222222222222,
              "#7201a8"
             ],
             [
              0.3333333333333333,
              "#9c179e"
             ],
             [
              0.4444444444444444,
              "#bd3786"
             ],
             [
              0.5555555555555556,
              "#d8576b"
             ],
             [
              0.6666666666666666,
              "#ed7953"
             ],
             [
              0.7777777777777778,
              "#fb9f3a"
             ],
             [
              0.8888888888888888,
              "#fdca26"
             ],
             [
              1,
              "#f0f921"
             ]
            ],
            "type": "histogram2d"
           }
          ],
          "histogram2dcontour": [
           {
            "colorbar": {
             "outlinewidth": 0,
             "ticks": ""
            },
            "colorscale": [
             [
              0,
              "#0d0887"
             ],
             [
              0.1111111111111111,
              "#46039f"
             ],
             [
              0.2222222222222222,
              "#7201a8"
             ],
             [
              0.3333333333333333,
              "#9c179e"
             ],
             [
              0.4444444444444444,
              "#bd3786"
             ],
             [
              0.5555555555555556,
              "#d8576b"
             ],
             [
              0.6666666666666666,
              "#ed7953"
             ],
             [
              0.7777777777777778,
              "#fb9f3a"
             ],
             [
              0.8888888888888888,
              "#fdca26"
             ],
             [
              1,
              "#f0f921"
             ]
            ],
            "type": "histogram2dcontour"
           }
          ],
          "mesh3d": [
           {
            "colorbar": {
             "outlinewidth": 0,
             "ticks": ""
            },
            "type": "mesh3d"
           }
          ],
          "parcoords": [
           {
            "line": {
             "colorbar": {
              "outlinewidth": 0,
              "ticks": ""
             }
            },
            "type": "parcoords"
           }
          ],
          "pie": [
           {
            "automargin": true,
            "type": "pie"
           }
          ],
          "scatter": [
           {
            "fillpattern": {
             "fillmode": "overlay",
             "size": 10,
             "solidity": 0.2
            },
            "type": "scatter"
           }
          ],
          "scatter3d": [
           {
            "line": {
             "colorbar": {
              "outlinewidth": 0,
              "ticks": ""
             }
            },
            "marker": {
             "colorbar": {
              "outlinewidth": 0,
              "ticks": ""
             }
            },
            "type": "scatter3d"
           }
          ],
          "scattercarpet": [
           {
            "marker": {
             "colorbar": {
              "outlinewidth": 0,
              "ticks": ""
             }
            },
            "type": "scattercarpet"
           }
          ],
          "scattergeo": [
           {
            "marker": {
             "colorbar": {
              "outlinewidth": 0,
              "ticks": ""
             }
            },
            "type": "scattergeo"
           }
          ],
          "scattergl": [
           {
            "marker": {
             "colorbar": {
              "outlinewidth": 0,
              "ticks": ""
             }
            },
            "type": "scattergl"
           }
          ],
          "scattermapbox": [
           {
            "marker": {
             "colorbar": {
              "outlinewidth": 0,
              "ticks": ""
             }
            },
            "type": "scattermapbox"
           }
          ],
          "scatterpolar": [
           {
            "marker": {
             "colorbar": {
              "outlinewidth": 0,
              "ticks": ""
             }
            },
            "type": "scatterpolar"
           }
          ],
          "scatterpolargl": [
           {
            "marker": {
             "colorbar": {
              "outlinewidth": 0,
              "ticks": ""
             }
            },
            "type": "scatterpolargl"
           }
          ],
          "scatterternary": [
           {
            "marker": {
             "colorbar": {
              "outlinewidth": 0,
              "ticks": ""
             }
            },
            "type": "scatterternary"
           }
          ],
          "surface": [
           {
            "colorbar": {
             "outlinewidth": 0,
             "ticks": ""
            },
            "colorscale": [
             [
              0,
              "#0d0887"
             ],
             [
              0.1111111111111111,
              "#46039f"
             ],
             [
              0.2222222222222222,
              "#7201a8"
             ],
             [
              0.3333333333333333,
              "#9c179e"
             ],
             [
              0.4444444444444444,
              "#bd3786"
             ],
             [
              0.5555555555555556,
              "#d8576b"
             ],
             [
              0.6666666666666666,
              "#ed7953"
             ],
             [
              0.7777777777777778,
              "#fb9f3a"
             ],
             [
              0.8888888888888888,
              "#fdca26"
             ],
             [
              1,
              "#f0f921"
             ]
            ],
            "type": "surface"
           }
          ],
          "table": [
           {
            "cells": {
             "fill": {
              "color": "#EBF0F8"
             },
             "line": {
              "color": "white"
             }
            },
            "header": {
             "fill": {
              "color": "#C8D4E3"
             },
             "line": {
              "color": "white"
             }
            },
            "type": "table"
           }
          ]
         },
         "layout": {
          "annotationdefaults": {
           "arrowcolor": "#2a3f5f",
           "arrowhead": 0,
           "arrowwidth": 1
          },
          "autotypenumbers": "strict",
          "coloraxis": {
           "colorbar": {
            "outlinewidth": 0,
            "ticks": ""
           }
          },
          "colorscale": {
           "diverging": [
            [
             0,
             "#8e0152"
            ],
            [
             0.1,
             "#c51b7d"
            ],
            [
             0.2,
             "#de77ae"
            ],
            [
             0.3,
             "#f1b6da"
            ],
            [
             0.4,
             "#fde0ef"
            ],
            [
             0.5,
             "#f7f7f7"
            ],
            [
             0.6,
             "#e6f5d0"
            ],
            [
             0.7,
             "#b8e186"
            ],
            [
             0.8,
             "#7fbc41"
            ],
            [
             0.9,
             "#4d9221"
            ],
            [
             1,
             "#276419"
            ]
           ],
           "sequential": [
            [
             0,
             "#0d0887"
            ],
            [
             0.1111111111111111,
             "#46039f"
            ],
            [
             0.2222222222222222,
             "#7201a8"
            ],
            [
             0.3333333333333333,
             "#9c179e"
            ],
            [
             0.4444444444444444,
             "#bd3786"
            ],
            [
             0.5555555555555556,
             "#d8576b"
            ],
            [
             0.6666666666666666,
             "#ed7953"
            ],
            [
             0.7777777777777778,
             "#fb9f3a"
            ],
            [
             0.8888888888888888,
             "#fdca26"
            ],
            [
             1,
             "#f0f921"
            ]
           ],
           "sequentialminus": [
            [
             0,
             "#0d0887"
            ],
            [
             0.1111111111111111,
             "#46039f"
            ],
            [
             0.2222222222222222,
             "#7201a8"
            ],
            [
             0.3333333333333333,
             "#9c179e"
            ],
            [
             0.4444444444444444,
             "#bd3786"
            ],
            [
             0.5555555555555556,
             "#d8576b"
            ],
            [
             0.6666666666666666,
             "#ed7953"
            ],
            [
             0.7777777777777778,
             "#fb9f3a"
            ],
            [
             0.8888888888888888,
             "#fdca26"
            ],
            [
             1,
             "#f0f921"
            ]
           ]
          },
          "colorway": [
           "#636efa",
           "#EF553B",
           "#00cc96",
           "#ab63fa",
           "#FFA15A",
           "#19d3f3",
           "#FF6692",
           "#B6E880",
           "#FF97FF",
           "#FECB52"
          ],
          "font": {
           "color": "#2a3f5f"
          },
          "geo": {
           "bgcolor": "white",
           "lakecolor": "white",
           "landcolor": "white",
           "showlakes": true,
           "showland": true,
           "subunitcolor": "#C8D4E3"
          },
          "hoverlabel": {
           "align": "left"
          },
          "hovermode": "closest",
          "mapbox": {
           "style": "light"
          },
          "paper_bgcolor": "white",
          "plot_bgcolor": "white",
          "polar": {
           "angularaxis": {
            "gridcolor": "#EBF0F8",
            "linecolor": "#EBF0F8",
            "ticks": ""
           },
           "bgcolor": "white",
           "radialaxis": {
            "gridcolor": "#EBF0F8",
            "linecolor": "#EBF0F8",
            "ticks": ""
           }
          },
          "scene": {
           "xaxis": {
            "backgroundcolor": "white",
            "gridcolor": "#DFE8F3",
            "gridwidth": 2,
            "linecolor": "#EBF0F8",
            "showbackground": true,
            "ticks": "",
            "zerolinecolor": "#EBF0F8"
           },
           "yaxis": {
            "backgroundcolor": "white",
            "gridcolor": "#DFE8F3",
            "gridwidth": 2,
            "linecolor": "#EBF0F8",
            "showbackground": true,
            "ticks": "",
            "zerolinecolor": "#EBF0F8"
           },
           "zaxis": {
            "backgroundcolor": "white",
            "gridcolor": "#DFE8F3",
            "gridwidth": 2,
            "linecolor": "#EBF0F8",
            "showbackground": true,
            "ticks": "",
            "zerolinecolor": "#EBF0F8"
           }
          },
          "shapedefaults": {
           "line": {
            "color": "#2a3f5f"
           }
          },
          "ternary": {
           "aaxis": {
            "gridcolor": "#DFE8F3",
            "linecolor": "#A2B1C6",
            "ticks": ""
           },
           "baxis": {
            "gridcolor": "#DFE8F3",
            "linecolor": "#A2B1C6",
            "ticks": ""
           },
           "bgcolor": "white",
           "caxis": {
            "gridcolor": "#DFE8F3",
            "linecolor": "#A2B1C6",
            "ticks": ""
           }
          },
          "title": {
           "x": 0.05
          },
          "xaxis": {
           "automargin": true,
           "gridcolor": "#EBF0F8",
           "linecolor": "#EBF0F8",
           "ticks": "",
           "title": {
            "standoff": 15
           },
           "zerolinecolor": "#EBF0F8",
           "zerolinewidth": 2
          },
          "yaxis": {
           "automargin": true,
           "gridcolor": "#EBF0F8",
           "linecolor": "#EBF0F8",
           "ticks": "",
           "title": {
            "standoff": 15
           },
           "zerolinecolor": "#EBF0F8",
           "zerolinewidth": 2
          }
         }
        },
        "title": {
         "font": {
          "color": "Black",
          "size": 22
         },
         "text": "Topic Word Scores",
         "x": 0.5,
         "xanchor": "center",
         "yanchor": "top"
        },
        "width": 1000,
        "xaxis": {
         "anchor": "y",
         "domain": [
          0,
          0.175
         ],
         "showgrid": true
        },
        "xaxis2": {
         "anchor": "y2",
         "domain": [
          0.275,
          0.45
         ],
         "showgrid": true
        },
        "xaxis3": {
         "anchor": "y3",
         "domain": [
          0.55,
          0.7250000000000001
         ],
         "showgrid": true
        },
        "xaxis4": {
         "anchor": "y4",
         "domain": [
          0.825,
          1
         ],
         "showgrid": true
        },
        "xaxis5": {
         "anchor": "y5",
         "domain": [
          0,
          0.175
         ],
         "showgrid": true
        },
        "xaxis6": {
         "anchor": "y6",
         "domain": [
          0.275,
          0.45
         ],
         "showgrid": true
        },
        "xaxis7": {
         "anchor": "y7",
         "domain": [
          0.55,
          0.7250000000000001
         ],
         "showgrid": true
        },
        "xaxis8": {
         "anchor": "y8",
         "domain": [
          0.825,
          1
         ],
         "showgrid": true
        },
        "yaxis": {
         "anchor": "x",
         "domain": [
          0.6000000000000001,
          1
         ],
         "showgrid": true
        },
        "yaxis2": {
         "anchor": "x2",
         "domain": [
          0.6000000000000001,
          1
         ],
         "showgrid": true
        },
        "yaxis3": {
         "anchor": "x3",
         "domain": [
          0.6000000000000001,
          1
         ],
         "showgrid": true
        },
        "yaxis4": {
         "anchor": "x4",
         "domain": [
          0.6000000000000001,
          1
         ],
         "showgrid": true
        },
        "yaxis5": {
         "anchor": "x5",
         "domain": [
          0,
          0.4
         ],
         "showgrid": true
        },
        "yaxis6": {
         "anchor": "x6",
         "domain": [
          0,
          0.4
         ],
         "showgrid": true
        },
        "yaxis7": {
         "anchor": "x7",
         "domain": [
          0,
          0.4
         ],
         "showgrid": true
        },
        "yaxis8": {
         "anchor": "x8",
         "domain": [
          0,
          0.4
         ],
         "showgrid": true
        }
       }
      },
      "text/html": [
       "<div>                            <div id=\"3af14ca3-1ced-4144-8150-f257945d41cc\" class=\"plotly-graph-div\" style=\"height:500px; width:1000px;\"></div>            <script type=\"text/javascript\">                require([\"plotly\"], function(Plotly) {                    window.PLOTLYENV=window.PLOTLYENV || {};                                    if (document.getElementById(\"3af14ca3-1ced-4144-8150-f257945d41cc\")) {                    Plotly.newPlot(                        \"3af14ca3-1ced-4144-8150-f257945d41cc\",                        [{\"marker\":{\"color\":\"#D55E00\"},\"orientation\":\"h\",\"x\":[0.012649059927048276,0.013461539545245945,0.01348458611864831,0.015053971421767369,0.017285105508856726],\"y\":[\"内容  \",\"京东  \",\"很快  \",\"不错  \",\"非常  \"],\"type\":\"bar\",\"xaxis\":\"x\",\"yaxis\":\"y\"},{\"marker\":{\"color\":\"#0072B2\"},\"orientation\":\"h\",\"x\":[0.05920877459743754,0.06604929254058266,0.07455593770332672,0.07455593770332672,0.07779836893946916],\"y\":[\"清晰 书本  \",\"清楚  \",\"打印 清晰  \",\"打印  \",\"清晰  \"],\"type\":\"bar\",\"xaxis\":\"x2\",\"yaxis\":\"y2\"},{\"marker\":{\"color\":\"#CC79A7\"},\"orientation\":\"h\",\"x\":[0.01839347298884925,0.019271755189543657,0.020438996832874118,0.02172490632191893,0.022963364201364023],\"y\":[\"系列  \",\"数学  \",\"书籍  \",\"学习  \",\"经典  \"],\"type\":\"bar\",\"xaxis\":\"x3\",\"yaxis\":\"y3\"},{\"marker\":{\"color\":\"#E69F00\"},\"orientation\":\"h\",\"x\":[0.02533803888000156,0.025532324937966144,0.028425611891070915,0.0311427112254512,0.03343129941280523],\"y\":[\"技术  \",\"学习  \",\"机器  \",\"视觉  \",\"产品  \"],\"type\":\"bar\",\"xaxis\":\"x4\",\"yaxis\":\"y4\"},{\"marker\":{\"color\":\"#56B4E9\"},\"orientation\":\"h\",\"x\":[0.026491348634317416,0.026491348634317416,0.026742551478610984,0.05570260467328135,0.07287119818470654],\"y\":[\"发展  \",\"人工智能 发展  \",\"本书  \",\"机器人  \",\"人工智能  \"],\"type\":\"bar\",\"xaxis\":\"x5\",\"yaxis\":\"y5\"},{\"marker\":{\"color\":\"#009E73\"},\"orientation\":\"h\",\"x\":[0.05544036283773009,0.05544036283773009,0.0597465212822183,0.05979321406255059,0.09037916263809719],\"y\":[\"物流 非常  \",\"很快 包装  \",\"物流 很快  \",\"物流 很快 包装  \",\"物流  \"],\"type\":\"bar\",\"xaxis\":\"x6\",\"yaxis\":\"y6\"},{\"marker\":{\"color\":\"#F0E442\"},\"orientation\":\"h\",\"x\":[0.030438137800362884,0.031903554905245754,0.03228051850737725,0.035452380145581996,0.041107570677500246],\"y\":[\"很大  \",\"这些  \",\"学习 质量  \",\"质量  \",\"学习  \"],\"type\":\"bar\",\"xaxis\":\"x7\",\"yaxis\":\"y7\"},{\"marker\":{\"color\":\"#D55E00\"},\"orientation\":\"h\",\"x\":[0.034283519175869,0.04301203502545666,0.07389438888731706,0.08502311860046803,0.08868616521852601],\"y\":[\"一定  \",\"慢慢  \",\"学习  \",\"深度  \",\"深度 学习  \"],\"type\":\"bar\",\"xaxis\":\"x8\",\"yaxis\":\"y8\"}],                        {\"template\":{\"data\":{\"barpolar\":[{\"marker\":{\"line\":{\"color\":\"white\",\"width\":0.5},\"pattern\":{\"fillmode\":\"overlay\",\"size\":10,\"solidity\":0.2}},\"type\":\"barpolar\"}],\"bar\":[{\"error_x\":{\"color\":\"#2a3f5f\"},\"error_y\":{\"color\":\"#2a3f5f\"},\"marker\":{\"line\":{\"color\":\"white\",\"width\":0.5},\"pattern\":{\"fillmode\":\"overlay\",\"size\":10,\"solidity\":0.2}},\"type\":\"bar\"}],\"carpet\":[{\"aaxis\":{\"endlinecolor\":\"#2a3f5f\",\"gridcolor\":\"#C8D4E3\",\"linecolor\":\"#C8D4E3\",\"minorgridcolor\":\"#C8D4E3\",\"startlinecolor\":\"#2a3f5f\"},\"baxis\":{\"endlinecolor\":\"#2a3f5f\",\"gridcolor\":\"#C8D4E3\",\"linecolor\":\"#C8D4E3\",\"minorgridcolor\":\"#C8D4E3\",\"startlinecolor\":\"#2a3f5f\"},\"type\":\"carpet\"}],\"choropleth\":[{\"colorbar\":{\"outlinewidth\":0,\"ticks\":\"\"},\"type\":\"choropleth\"}],\"contourcarpet\":[{\"colorbar\":{\"outlinewidth\":0,\"ticks\":\"\"},\"type\":\"contourcarpet\"}],\"contour\":[{\"colorbar\":{\"outlinewidth\":0,\"ticks\":\"\"},\"colorscale\":[[0.0,\"#0d0887\"],[0.1111111111111111,\"#46039f\"],[0.2222222222222222,\"#7201a8\"],[0.3333333333333333,\"#9c179e\"],[0.4444444444444444,\"#bd3786\"],[0.5555555555555556,\"#d8576b\"],[0.6666666666666666,\"#ed7953\"],[0.7777777777777778,\"#fb9f3a\"],[0.8888888888888888,\"#fdca26\"],[1.0,\"#f0f921\"]],\"type\":\"contour\"}],\"heatmapgl\":[{\"colorbar\":{\"outlinewidth\":0,\"ticks\":\"\"},\"colorscale\":[[0.0,\"#0d0887\"],[0.1111111111111111,\"#46039f\"],[0.2222222222222222,\"#7201a8\"],[0.3333333333333333,\"#9c179e\"],[0.4444444444444444,\"#bd3786\"],[0.5555555555555556,\"#d8576b\"],[0.6666666666666666,\"#ed7953\"],[0.7777777777777778,\"#fb9f3a\"],[0.8888888888888888,\"#fdca26\"],[1.0,\"#f0f921\"]],\"type\":\"heatmapgl\"}],\"heatmap\":[{\"colorbar\":{\"outlinewidth\":0,\"ticks\":\"\"},\"colorscale\":[[0.0,\"#0d0887\"],[0.1111111111111111,\"#46039f\"],[0.2222222222222222,\"#7201a8\"],[0.3333333333333333,\"#9c179e\"],[0.4444444444444444,\"#bd3786\"],[0.5555555555555556,\"#d8576b\"],[0.6666666666666666,\"#ed7953\"],[0.7777777777777778,\"#fb9f3a\"],[0.8888888888888888,\"#fdca26\"],[1.0,\"#f0f921\"]],\"type\":\"heatmap\"}],\"histogram2dcontour\":[{\"colorbar\":{\"outlinewidth\":0,\"ticks\":\"\"},\"colorscale\":[[0.0,\"#0d0887\"],[0.1111111111111111,\"#46039f\"],[0.2222222222222222,\"#7201a8\"],[0.3333333333333333,\"#9c179e\"],[0.4444444444444444,\"#bd3786\"],[0.5555555555555556,\"#d8576b\"],[0.6666666666666666,\"#ed7953\"],[0.7777777777777778,\"#fb9f3a\"],[0.8888888888888888,\"#fdca26\"],[1.0,\"#f0f921\"]],\"type\":\"histogram2dcontour\"}],\"histogram2d\":[{\"colorbar\":{\"outlinewidth\":0,\"ticks\":\"\"},\"colorscale\":[[0.0,\"#0d0887\"],[0.1111111111111111,\"#46039f\"],[0.2222222222222222,\"#7201a8\"],[0.3333333333333333,\"#9c179e\"],[0.4444444444444444,\"#bd3786\"],[0.5555555555555556,\"#d8576b\"],[0.6666666666666666,\"#ed7953\"],[0.7777777777777778,\"#fb9f3a\"],[0.8888888888888888,\"#fdca26\"],[1.0,\"#f0f921\"]],\"type\":\"histogram2d\"}],\"histogram\":[{\"marker\":{\"pattern\":{\"fillmode\":\"overlay\",\"size\":10,\"solidity\":0.2}},\"type\":\"histogram\"}],\"mesh3d\":[{\"colorbar\":{\"outlinewidth\":0,\"ticks\":\"\"},\"type\":\"mesh3d\"}],\"parcoords\":[{\"line\":{\"colorbar\":{\"outlinewidth\":0,\"ticks\":\"\"}},\"type\":\"parcoords\"}],\"pie\":[{\"automargin\":true,\"type\":\"pie\"}],\"scatter3d\":[{\"line\":{\"colorbar\":{\"outlinewidth\":0,\"ticks\":\"\"}},\"marker\":{\"colorbar\":{\"outlinewidth\":0,\"ticks\":\"\"}},\"type\":\"scatter3d\"}],\"scattercarpet\":[{\"marker\":{\"colorbar\":{\"outlinewidth\":0,\"ticks\":\"\"}},\"type\":\"scattercarpet\"}],\"scattergeo\":[{\"marker\":{\"colorbar\":{\"outlinewidth\":0,\"ticks\":\"\"}},\"type\":\"scattergeo\"}],\"scattergl\":[{\"marker\":{\"colorbar\":{\"outlinewidth\":0,\"ticks\":\"\"}},\"type\":\"scattergl\"}],\"scattermapbox\":[{\"marker\":{\"colorbar\":{\"outlinewidth\":0,\"ticks\":\"\"}},\"type\":\"scattermapbox\"}],\"scatterpolargl\":[{\"marker\":{\"colorbar\":{\"outlinewidth\":0,\"ticks\":\"\"}},\"type\":\"scatterpolargl\"}],\"scatterpolar\":[{\"marker\":{\"colorbar\":{\"outlinewidth\":0,\"ticks\":\"\"}},\"type\":\"scatterpolar\"}],\"scatter\":[{\"fillpattern\":{\"fillmode\":\"overlay\",\"size\":10,\"solidity\":0.2},\"type\":\"scatter\"}],\"scatterternary\":[{\"marker\":{\"colorbar\":{\"outlinewidth\":0,\"ticks\":\"\"}},\"type\":\"scatterternary\"}],\"surface\":[{\"colorbar\":{\"outlinewidth\":0,\"ticks\":\"\"},\"colorscale\":[[0.0,\"#0d0887\"],[0.1111111111111111,\"#46039f\"],[0.2222222222222222,\"#7201a8\"],[0.3333333333333333,\"#9c179e\"],[0.4444444444444444,\"#bd3786\"],[0.5555555555555556,\"#d8576b\"],[0.6666666666666666,\"#ed7953\"],[0.7777777777777778,\"#fb9f3a\"],[0.8888888888888888,\"#fdca26\"],[1.0,\"#f0f921\"]],\"type\":\"surface\"}],\"table\":[{\"cells\":{\"fill\":{\"color\":\"#EBF0F8\"},\"line\":{\"color\":\"white\"}},\"header\":{\"fill\":{\"color\":\"#C8D4E3\"},\"line\":{\"color\":\"white\"}},\"type\":\"table\"}]},\"layout\":{\"annotationdefaults\":{\"arrowcolor\":\"#2a3f5f\",\"arrowhead\":0,\"arrowwidth\":1},\"autotypenumbers\":\"strict\",\"coloraxis\":{\"colorbar\":{\"outlinewidth\":0,\"ticks\":\"\"}},\"colorscale\":{\"diverging\":[[0,\"#8e0152\"],[0.1,\"#c51b7d\"],[0.2,\"#de77ae\"],[0.3,\"#f1b6da\"],[0.4,\"#fde0ef\"],[0.5,\"#f7f7f7\"],[0.6,\"#e6f5d0\"],[0.7,\"#b8e186\"],[0.8,\"#7fbc41\"],[0.9,\"#4d9221\"],[1,\"#276419\"]],\"sequential\":[[0.0,\"#0d0887\"],[0.1111111111111111,\"#46039f\"],[0.2222222222222222,\"#7201a8\"],[0.3333333333333333,\"#9c179e\"],[0.4444444444444444,\"#bd3786\"],[0.5555555555555556,\"#d8576b\"],[0.6666666666666666,\"#ed7953\"],[0.7777777777777778,\"#fb9f3a\"],[0.8888888888888888,\"#fdca26\"],[1.0,\"#f0f921\"]],\"sequentialminus\":[[0.0,\"#0d0887\"],[0.1111111111111111,\"#46039f\"],[0.2222222222222222,\"#7201a8\"],[0.3333333333333333,\"#9c179e\"],[0.4444444444444444,\"#bd3786\"],[0.5555555555555556,\"#d8576b\"],[0.6666666666666666,\"#ed7953\"],[0.7777777777777778,\"#fb9f3a\"],[0.8888888888888888,\"#fdca26\"],[1.0,\"#f0f921\"]]},\"colorway\":[\"#636efa\",\"#EF553B\",\"#00cc96\",\"#ab63fa\",\"#FFA15A\",\"#19d3f3\",\"#FF6692\",\"#B6E880\",\"#FF97FF\",\"#FECB52\"],\"font\":{\"color\":\"#2a3f5f\"},\"geo\":{\"bgcolor\":\"white\",\"lakecolor\":\"white\",\"landcolor\":\"white\",\"showlakes\":true,\"showland\":true,\"subunitcolor\":\"#C8D4E3\"},\"hoverlabel\":{\"align\":\"left\"},\"hovermode\":\"closest\",\"mapbox\":{\"style\":\"light\"},\"paper_bgcolor\":\"white\",\"plot_bgcolor\":\"white\",\"polar\":{\"angularaxis\":{\"gridcolor\":\"#EBF0F8\",\"linecolor\":\"#EBF0F8\",\"ticks\":\"\"},\"bgcolor\":\"white\",\"radialaxis\":{\"gridcolor\":\"#EBF0F8\",\"linecolor\":\"#EBF0F8\",\"ticks\":\"\"}},\"scene\":{\"xaxis\":{\"backgroundcolor\":\"white\",\"gridcolor\":\"#DFE8F3\",\"gridwidth\":2,\"linecolor\":\"#EBF0F8\",\"showbackground\":true,\"ticks\":\"\",\"zerolinecolor\":\"#EBF0F8\"},\"yaxis\":{\"backgroundcolor\":\"white\",\"gridcolor\":\"#DFE8F3\",\"gridwidth\":2,\"linecolor\":\"#EBF0F8\",\"showbackground\":true,\"ticks\":\"\",\"zerolinecolor\":\"#EBF0F8\"},\"zaxis\":{\"backgroundcolor\":\"white\",\"gridcolor\":\"#DFE8F3\",\"gridwidth\":2,\"linecolor\":\"#EBF0F8\",\"showbackground\":true,\"ticks\":\"\",\"zerolinecolor\":\"#EBF0F8\"}},\"shapedefaults\":{\"line\":{\"color\":\"#2a3f5f\"}},\"ternary\":{\"aaxis\":{\"gridcolor\":\"#DFE8F3\",\"linecolor\":\"#A2B1C6\",\"ticks\":\"\"},\"baxis\":{\"gridcolor\":\"#DFE8F3\",\"linecolor\":\"#A2B1C6\",\"ticks\":\"\"},\"bgcolor\":\"white\",\"caxis\":{\"gridcolor\":\"#DFE8F3\",\"linecolor\":\"#A2B1C6\",\"ticks\":\"\"}},\"title\":{\"x\":0.05},\"xaxis\":{\"automargin\":true,\"gridcolor\":\"#EBF0F8\",\"linecolor\":\"#EBF0F8\",\"ticks\":\"\",\"title\":{\"standoff\":15},\"zerolinecolor\":\"#EBF0F8\",\"zerolinewidth\":2},\"yaxis\":{\"automargin\":true,\"gridcolor\":\"#EBF0F8\",\"linecolor\":\"#EBF0F8\",\"ticks\":\"\",\"title\":{\"standoff\":15},\"zerolinecolor\":\"#EBF0F8\",\"zerolinewidth\":2}}},\"xaxis\":{\"anchor\":\"y\",\"domain\":[0.0,0.175],\"showgrid\":true},\"yaxis\":{\"anchor\":\"x\",\"domain\":[0.6000000000000001,1.0],\"showgrid\":true},\"xaxis2\":{\"anchor\":\"y2\",\"domain\":[0.275,0.45],\"showgrid\":true},\"yaxis2\":{\"anchor\":\"x2\",\"domain\":[0.6000000000000001,1.0],\"showgrid\":true},\"xaxis3\":{\"anchor\":\"y3\",\"domain\":[0.55,0.7250000000000001],\"showgrid\":true},\"yaxis3\":{\"anchor\":\"x3\",\"domain\":[0.6000000000000001,1.0],\"showgrid\":true},\"xaxis4\":{\"anchor\":\"y4\",\"domain\":[0.825,1.0],\"showgrid\":true},\"yaxis4\":{\"anchor\":\"x4\",\"domain\":[0.6000000000000001,1.0],\"showgrid\":true},\"xaxis5\":{\"anchor\":\"y5\",\"domain\":[0.0,0.175],\"showgrid\":true},\"yaxis5\":{\"anchor\":\"x5\",\"domain\":[0.0,0.4],\"showgrid\":true},\"xaxis6\":{\"anchor\":\"y6\",\"domain\":[0.275,0.45],\"showgrid\":true},\"yaxis6\":{\"anchor\":\"x6\",\"domain\":[0.0,0.4],\"showgrid\":true},\"xaxis7\":{\"anchor\":\"y7\",\"domain\":[0.55,0.7250000000000001],\"showgrid\":true},\"yaxis7\":{\"anchor\":\"x7\",\"domain\":[0.0,0.4],\"showgrid\":true},\"xaxis8\":{\"anchor\":\"y8\",\"domain\":[0.825,1.0],\"showgrid\":true},\"yaxis8\":{\"anchor\":\"x8\",\"domain\":[0.0,0.4],\"showgrid\":true},\"annotations\":[{\"font\":{\"size\":16},\"showarrow\":false,\"text\":\"Topic 0\",\"x\":0.0875,\"xanchor\":\"center\",\"xref\":\"paper\",\"y\":1.0,\"yanchor\":\"bottom\",\"yref\":\"paper\"},{\"font\":{\"size\":16},\"showarrow\":false,\"text\":\"Topic 1\",\"x\":0.36250000000000004,\"xanchor\":\"center\",\"xref\":\"paper\",\"y\":1.0,\"yanchor\":\"bottom\",\"yref\":\"paper\"},{\"font\":{\"size\":16},\"showarrow\":false,\"text\":\"Topic 2\",\"x\":0.6375000000000001,\"xanchor\":\"center\",\"xref\":\"paper\",\"y\":1.0,\"yanchor\":\"bottom\",\"yref\":\"paper\"},{\"font\":{\"size\":16},\"showarrow\":false,\"text\":\"Topic 3\",\"x\":0.9125,\"xanchor\":\"center\",\"xref\":\"paper\",\"y\":1.0,\"yanchor\":\"bottom\",\"yref\":\"paper\"},{\"font\":{\"size\":16},\"showarrow\":false,\"text\":\"Topic 4\",\"x\":0.0875,\"xanchor\":\"center\",\"xref\":\"paper\",\"y\":0.4,\"yanchor\":\"bottom\",\"yref\":\"paper\"},{\"font\":{\"size\":16},\"showarrow\":false,\"text\":\"Topic 5\",\"x\":0.36250000000000004,\"xanchor\":\"center\",\"xref\":\"paper\",\"y\":0.4,\"yanchor\":\"bottom\",\"yref\":\"paper\"},{\"font\":{\"size\":16},\"showarrow\":false,\"text\":\"Topic 6\",\"x\":0.6375000000000001,\"xanchor\":\"center\",\"xref\":\"paper\",\"y\":0.4,\"yanchor\":\"bottom\",\"yref\":\"paper\"},{\"font\":{\"size\":16},\"showarrow\":false,\"text\":\"Topic 7\",\"x\":0.9125,\"xanchor\":\"center\",\"xref\":\"paper\",\"y\":0.4,\"yanchor\":\"bottom\",\"yref\":\"paper\"}],\"title\":{\"font\":{\"size\":22,\"color\":\"Black\"},\"text\":\"Topic Word Scores\",\"x\":0.5,\"xanchor\":\"center\",\"yanchor\":\"top\"},\"hoverlabel\":{\"font\":{\"size\":16,\"family\":\"Rockwell\"},\"bgcolor\":\"white\"},\"showlegend\":false,\"width\":1000,\"height\":500},                        {\"responsive\": true}                    ).then(function(){\n",
       "                            \n",
       "var gd = document.getElementById('3af14ca3-1ced-4144-8150-f257945d41cc');\n",
       "var x = new MutationObserver(function (mutations, observer) {{\n",
       "        var display = window.getComputedStyle(gd).display;\n",
       "        if (!display || display === 'none') {{\n",
       "            console.log([gd, 'removed!']);\n",
       "            Plotly.purge(gd);\n",
       "            observer.disconnect();\n",
       "        }}\n",
       "}});\n",
       "\n",
       "// Listen for the removal of the full notebook cells\n",
       "var notebookContainer = gd.closest('#notebook-container');\n",
       "if (notebookContainer) {{\n",
       "    x.observe(notebookContainer, {childList: true});\n",
       "}}\n",
       "\n",
       "// Listen for the clearing of the current output cell\n",
       "var outputEl = gd.closest('.output');\n",
       "if (outputEl) {{\n",
       "    x.observe(outputEl, {childList: true});\n",
       "}}\n",
       "\n",
       "                        })                };                });            </script>        </div>"
      ]
     },
     "metadata": {},
     "output_type": "display_data"
    }
   ],
   "source": [
    "model.visualize_barchart()"
   ]
  },
  {
   "cell_type": "code",
   "execution_count": null,
   "id": "8ee8426a",
   "metadata": {},
   "outputs": [],
   "source": [
    "from sklearn.datasets import fetch_20newsgroups\n",
    "from sentence_transformers import SentenceTransformer\n",
    "from bertopic import BERTopic\n",
    "from umap import UMAP\n",
    "\n",
    "# Prepare embeddings\n",
    "# sentence_model = BERTopic(embedding_model=\"all-mpnet-base-v2\")\n",
    "sentence_model = SentenceTransformer(\"distiluse-base-multilingual-cased-v2\")\n",
    "\n",
    "embeddings = sentence_model.encode(docs, show_progress_bar=False)\n",
    "\n",
    "# Train BERTopic\n",
    "topic_model = BERTopic().fit(docs, embeddings)"
   ]
  },
  {
   "cell_type": "code",
   "execution_count": 35,
   "id": "fe8fb0a0",
   "metadata": {},
   "outputs": [
    {
     "data": {
      "application/vnd.plotly.v1+json": {
       "config": {
        "plotlyServerURL": "https://plot.ly"
       },
       "data": [
        {
         "hoverinfo": "text",
         "hovertext": [
          "书 很 新 很 好 下次 还会 再 来 机器 学习 冲冲",
          "老公 书 都 是 京东 买 好多好多 质量 好 服务 好 售后 好",
          "书 质量 很 好",
          "还 不错 专业书 买来 增长 知识",
          "书 质量 非常 好 很 好 书",
          "很棒 书 很 值得 推荐",
          "书 很 好 值得 好好 地",
          "很 好  理论 扎实  讲解 透彻",
          "哈哈 理论知识 非常 不错",
          "书 很 好 字印 很 清楚",
          "孩子 说书 内容 对 学习 帮助 很大 好评",
          "还 不错 专业书 买来 增长 知识",
          "双十 一 期间 物流 也 很快 一天 就 到货 了 物流 方面 很快 就 发货 了 没多久 就 收到 书 质量 方面 纸张 还 可以 印刷 字体 清晰 暂时 没有 什么 问题 包装 是 用 一个 箱子 装 再说 东西 跟 描述 一样 可以 看 一下 图片 很 好 价格 也 还好 终于 收到 我 需要 宝贝 了 东西 很 好 说 实在 这是 购物 来 让 我 最 满意 一次 购物 无论是 掌柜的 态度 还是 对 物品 我 都 非常 满意 掌柜 态度 很 专业 热情 有问必答 回复 也 很快 我 问 了 不少 问题 他 都 不 觉得 烦 都 会 认真 回答 我 这点 我 向 掌柜 表示 由衷 敬意 这样 好 掌柜 可不 多 再说 宝贝 正是 我 需要 收到 时候 包装 完整 打开 后 让 我 惊喜 是 宝贝 比 我 想象 中 还要 好 不得不 得 竖起 大拇指 下次 需要 时候 我 还 会 再 来 到时候 麻烦 掌柜 给 个 优惠 哦",
          "哈哈 理论知识 非常 不错",
          "这 本书 还是 挺不错 页面 也 舒服",
          "书 很 好 字印 很 清楚",
          "书 很 好 值得 好好 地",
          "书 很 好 字印 很 清楚",
          "这 本书 还是 挺不错 页面 也 舒服",
          "真的 很 不错 书 搞 活动 买 了 很多 超级 划算 书 质量 很 不错 相信 京东",
          "书 很 不错 准备 好好学习 天天向上",
          "应该 是 正品 书 质量 和 出版社 都 是 和文 轩 书店 一样 而且 在 内容 安排 和 页数 上 也 是 对 内容 也 没有 删减 京东 现在 买书 都 很 方便 而且 性价比 也 很 高",
          "很棒 书 很 值得 推荐",
          "书 很 不错 准备 好好学习 天天向上",
          "独家 分析 自成 一派 值得 阅读",
          "老公 书 都 是 京东 买 好多好多 质量 好 服务 好 售后 好",
          "非常 精细 书 终于 买 到 手里 了 也 算 疫情 期间 鼓励 和 督促 吧 hellip",
          "应该 是 正品 书 质量 和 出版社 都 是 和文 轩 书店 一样 而且 在 内容 安排 和 页数 上 也 是 对 内容 也 没有 删减 京东 现在 买书 都 很 方便 而且 性价比 也 很 高",
          "哈哈 理论知识 非常 不错",
          "非常 好 包装 非常 精美",
          "书 很 新 很 好 下次 还会 再 来 机器 学习 冲冲",
          "书 很 不错 准备 好好学习 天天向上",
          "书 很 不错 准备 好好学习 天天向上",
          "以为 是 很 厚 书 其实 内容 很少 每个 部分 只 简单 讲 了 一点 或者 直接 罗列 相关 成果 不过 也 挺 好 省得 找 和 看 很多 论文 了",
          "非常 精细 书 终于 买 到 手里 了 也 算 疫情 期间 鼓励 和 督促 吧 hellip",
          "书 很 好 值得 好好 地",
          "书 质量 非常 好 很 好 书",
          "京东 图书 质量 还是 不错 并且 搭配 满减 和 优惠券 还是 很 优惠",
          "书 很 新 很 好 下次 还会 再 来 机器 学习 冲冲",
          "不错 非常 下次 再 购买",
          "书 质量 很 好",
          "书 质量 非常 好 很 好 书",
          "内容 非常 接地 气 有 情节 也 有 总结 数据 价值 落地 非常 不 容易 给 团队 买 十几本 大家 一起 学习",
          "以为 是 很 厚 书 其实 内容 很少 每个 部分 只 简单 讲 了 一点 或者 直接 罗列 相关 成果 不过 也 挺 好 省得 找 和 看 很多 论文 了",
          "以为 是 很 厚 书 其实 内容 很少 每个 部分 只 简单 讲 了 一点 或者 直接 罗列 相关 成果 不过 也 挺 好 省得 找 和 看 很多 论文 了",
          "书 质量 很 好",
          "书 质量 非常 好 很 好 书",
          "书 很 好 字印 很 清楚",
          "书 收到 了 是 正品 质量 很 好 狗熊 会 出品 图书 应该 不错 内容 很 丰富 实用性 强 好好学习 一下",
          "独家 分析 自成 一派 值得 阅读",
          "还 不错 专业书 买来 增长 知识",
          "京东 图书 质量 还是 不错 并且 搭配 满减 和 优惠券 还是 很 优惠",
          "书 质量 非常 好 很 好 书",
          "不错 非常 下次 再 购买",
          "很棒 书 很 值得 推荐",
          "书本 内容 很 不错 正是 需要 学习 内容",
          "包装 完好无损 京东 物流 真的 很快 京东 小哥 服务态度 很 好",
          "哈哈 理论知识 非常 不错",
          "书 质量 很 好",
          "这 本书 还是 挺不错 页面 也 舒服",
          "非常 精细 书 终于 买 到 手里 了 也 算 疫情 期间 鼓励 和 督促 吧 hellip",
          "真的 很 不错 书 搞 活动 买 了 很多 超级 划算 书 质量 很 不错 相信 京东",
          "很 好  理论 扎实  讲解 透彻",
          "书 很 好 字印 很 清楚",
          "书 质量 很 好",
          "京东 图书 质量 还是 不错 并且 搭配 满减 和 优惠券 还是 很 优惠",
          "很棒 书 很 值得 推荐",
          "很 好  理论 扎实  讲解 透彻",
          "孩子 说书 内容 对 学习 帮助 很大 好评",
          "书本 内容 很 不错 正是 需要 学习 内容",
          "书本 内容 很 不错 正是 需要 学习 内容",
          "很 好  理论 扎实  讲解 透彻",
          "书 很 好 字印 很 清楚",
          "书 很 好 字印 很 清楚",
          "书 很 不错 准备 好好学习 天天向上",
          "以为 是 很 厚 书 其实 内容 很少 每个 部分 只 简单 讲 了 一点 或者 直接 罗列 相关 成果 不过 也 挺 好 省得 找 和 看 很多 论文 了",
          "孩子 说书 内容 对 学习 帮助 很大 好评",
          "还 不错 专业书 买来 增长 知识",
          "还 不错 专业书 买来 增长 知识",
          "不错 非常 下次 再 购买",
          "孩子 说书 内容 对 学习 帮助 很大 好评",
          "老公 书 都 是 京东 买 好多好多 质量 好 服务 好 售后 好",
          "老公 书 都 是 京东 买 好多好多 质量 好 服务 好 售后 好",
          "很棒 书 很 值得 推荐",
          "老公 书 都 是 京东 买 好多好多 质量 好 服务 好 售后 好",
          "书本 内容 很 不错 正是 需要 学习 内容",
          "包装 完好无损 京东 物流 真的 很快 京东 小哥 服务态度 很 好",
          "京东 图书 质量 还是 不错 并且 搭配 满减 和 优惠券 还是 很 优惠",
          "这 本书 还是 挺不错 页面 也 舒服",
          "不错 非常 下次 再 购买",
          "非常 精细 书 终于 买 到 手里 了 也 算 疫情 期间 鼓励 和 督促 吧 hellip",
          "书本 内容 很 不错 正是 需要 学习 内容",
          "书 很 好 值得 好好 地",
          "独家 分析 自成 一派 值得 阅读",
          "很 好  理论 扎实  讲解 透彻",
          "真的 很 不错 书 搞 活动 买 了 很多 超级 划算 书 质量 很 不错 相信 京东",
          "哈哈 理论知识 非常 不错",
          "以为 是 很 厚 书 其实 内容 很少 每个 部分 只 简单 讲 了 一点 或者 直接 罗列 相关 成果 不过 也 挺 好 省得 找 和 看 很多 论文 了",
          "应该 是 正品 书 质量 和 出版社 都 是 和文 轩 书店 一样 而且 在 内容 安排 和 页数 上 也 是 对 内容 也 没有 删减 京东 现在 买书 都 很 方便 而且 性价比 也 很 高",
          "真的 很 不错 书 搞 活动 买 了 很多 超级 划算 书 质量 很 不错 相信 京东",
          "书 很 好 字印 很 清楚",
          "独家 分析 自成 一派 值得 阅读",
          "非常 精细 书 终于 买 到 手里 了 也 算 疫情 期间 鼓励 和 督促 吧 hellip",
          "书 很 好 字印 很 清楚",
          "这 本书 还是 挺不错 页面 也 舒服",
          "孩子 说书 内容 对 学习 帮助 很大 好评",
          "独家 分析 自成 一派 值得 阅读",
          "京东 图书 质量 还是 不错 并且 搭配 满减 和 优惠券 还是 很 优惠",
          "书 很 新 很 好 下次 还会 再 来 机器 学习 冲冲",
          "不错 非常 下次 再 购买",
          "书 很 好 值得 好好 地",
          "书 很 好 字印 很 清楚",
          null
         ],
         "marker": {
          "color": "#CFD8DC",
          "opacity": 0.5,
          "size": 5
         },
         "mode": "markers+text",
         "name": "other",
         "showlegend": false,
         "type": "scattergl",
         "x": [
          -2.300007,
          2.508559,
          18.782537,
          5.4552336,
          18.782612,
          -1.3750731,
          -1.3750886,
          21.03178,
          21.031836,
          17.235323,
          5.5889864,
          5.455241,
          -2.054735,
          21.03178,
          5.9257827,
          17.235521,
          -1.3881787,
          17.235956,
          5.9257836,
          2.6769397,
          -0.8127123,
          -13.060193,
          -1.3588778,
          -0.8124012,
          7.421715,
          2.5149405,
          5.0929627,
          -13.129153,
          21.031828,
          14.074693,
          -2.3000922,
          -0.79842925,
          -0.8057342,
          -0.6454702,
          5.093072,
          -1.374957,
          18.782333,
          2.514109,
          -2.3055642,
          15.346599,
          18.782515,
          18.782259,
          -0.60765386,
          -0.6420587,
          -0.6418021,
          18.782648,
          18.78235,
          17.23572,
          -3.5673645,
          7.4217105,
          5.4552546,
          2.482692,
          18.792599,
          15.346601,
          -1.3746676,
          -0.8128095,
          -0.23267013,
          21.031878,
          18.782444,
          5.925798,
          5.0928993,
          2.7056296,
          21.031767,
          17.236013,
          18.782776,
          2.5103405,
          -1.3749433,
          21.031788,
          5.588872,
          -0.76992697,
          -0.7970586,
          21.031801,
          17.235092,
          17.235622,
          -0.80804557,
          -0.640542,
          5.588965,
          5.455265,
          5.455267,
          15.346614,
          5.588929,
          2.5596414,
          2.5541975,
          -1.3752652,
          2.5090415,
          -0.7771243,
          -0.23373562,
          2.5138178,
          5.9257703,
          15.346619,
          5.0930705,
          -0.8397617,
          -1.3750749,
          7.421701,
          21.031815,
          2.6992476,
          21.031933,
          -0.64781195,
          -13.095751,
          2.683717,
          17.235525,
          7.4216566,
          5.092865,
          17.23575,
          5.92579,
          5.588958,
          7.421669,
          2.5201008,
          -2.2857125,
          15.346638,
          -1.3749547,
          17.232092,
          6.8260574
         ],
         "y": [
          2.0422359,
          9.390463,
          -6.160941,
          -0.17433622,
          -6.16088,
          -16.381472,
          -16.381554,
          -2.0611215,
          -2.0611053,
          -14.853226,
          -5.8223352,
          -0.17430772,
          26.142351,
          -2.0610132,
          5.607275,
          -14.853039,
          -16.394653,
          -14.852636,
          5.607309,
          9.220802,
          -4.454313,
          11.497856,
          -16.365162,
          -4.4510217,
          -5.178731,
          9.384019,
          8.603131,
          11.567313,
          -2.0610518,
          1.9226891,
          2.042384,
          -4.4700933,
          -4.4617124,
          13.586818,
          8.6031,
          -16.381325,
          -6.1611876,
          9.384639,
          2.0370092,
          6.027723,
          -6.16098,
          -6.1612997,
          13.558101,
          13.5842085,
          13.584232,
          -6.1608825,
          -6.161188,
          -14.852864,
          -3.8789463,
          -5.1786695,
          -0.17428109,
          9.416304,
          -6.149963,
          6.0278144,
          -16.381102,
          -4.450864,
          12.669298,
          -2.06108,
          -6.161039,
          5.607236,
          8.603181,
          9.191926,
          -2.0611258,
          -14.85258,
          -6.1609874,
          9.388592,
          -16.38126,
          -2.061022,
          -5.8223844,
          -4.4281454,
          -4.4616404,
          -2.0610933,
          -14.853378,
          -14.853018,
          -4.4583287,
          13.583046,
          -5.822353,
          -0.17434633,
          -0.17432247,
          6.02776,
          -5.8223305,
          9.33894,
          9.344295,
          -16.38182,
          9.390029,
          -4.4922204,
          12.660283,
          9.385228,
          5.607245,
          6.0278115,
          8.6031065,
          -4.4168134,
          -16.381475,
          -5.1786795,
          -2.0610483,
          9.198378,
          -2.0609705,
          13.589783,
          11.533448,
          9.214036,
          -14.853067,
          -5.1787796,
          8.603233,
          -14.852833,
          5.6072726,
          -5.822339,
          -5.178654,
          9.378767,
          2.05717,
          6.027838,
          -16.381413,
          -14.85654,
          -0.7980329
         ]
        },
        {
         "hoverinfo": "text",
         "hovertext": [
          "发货 快 包装 好 价格 实惠 快递 师傅 路线 熟悉 很快 就 送到 了 服务 热情周到 主动 给 搬 到 门口 趁着 京东 活动 力度 大 买 了 好多 书 质量 都 很 好 这本 GAN 实战 生成 对抗 网络 内容 实用 把 复杂 问题 简单化 值得 好好学习 一下 满意 好评",
          "之前 看过 电子版 和 Github 感觉 非常 不错 再 结合 老师 视频 学 起来 简直 是 完美",
          "很 好 书 是 介绍 神经网络 入门 了 一本 教材 实验室 实验室 老师 让 我们 买 看 了 一下 包装 啊 都 挺不错 配送 也 很 及时 整个 排版 也 比较 清晰 多色 印刷 比较 上档次 希望 买来 能 对 神经网络 学习 有 帮助 多多 阅读 多 做 笔记 来 买 书 还是 上 京东 比较 方便 还有 优惠",
          "看 了 李 沐 老师 视频 所以 又 买 了 一 本书 加深 印象 也 可以 随时 查阅 非常 赞 各位 学习 deep  learning 小伙伴 一起 加油",
          "看 了 李 沐 老师 视频 所以 又 买 了 一 本书 加深 印象 也 可以 随时 查阅 非常 赞 各位 学习 deep  learning 小伙伴 一起 加油",
          "老师 推荐 买 一 本书 很 不错 内容 深入浅出 是 学习 自动 驾驶 好 教材 京东 物流 很赞 服务 很 好 值得 推荐 哦 大家 可以 来 京东 买买 买 看看 不会 失望",
          "这 本书 是 老师 回归 分析 课程 上面 推荐 买来 还 一直 没有 看 呢 不 确定 怎么样 哈 不过 是 彩色 内页 还是 比较 划算 性价比 很 高 内容 应该 也 不难 主要 是 用 那个 语言 学 起来 非常 得 快 哦 大家 一起 学 的话 应该 可以 互相帮助 所以 这 本书 也 是 适合 完全 自学 小伙伴 们",
          "不错 很 好 这 本书 是 给 师弟 买 所以 买 了 很多 本 金典 神经网络 入门 教材 采用 是 双色 印刷 庄振 比较 精美 运送 也 很快 没有 磕碰 褶皱 买 书 还是 上 京东 方便 配合 满减 可以 做到 很 实惠 价格 跟 实验室 里面 省钱 了 爱 了 爱 了",
          "这 本书 是 我 觉得 讲 深度 学习 为数不多 好书 之一 也 是 2020 年 新版 图书 作者 是 复旦大学 邱 教授 全书 正文 都 采用 了 双 彩色 写作 方式 配图 是 全彩 书 也 很 厚 哎 京东 物流 和 包装 都 很 完美",
          "疫情 开 不了 学 导师 让 自己 学习 买 一些 编程 书 当然 首选 京东 昨天 下单 今天 就 到 了 太棒了 ! 还 可以 开发票 等 去 了 学校 导师 还 能 给 报销 美滋滋 机器 学习 这 本书 被誉为 经典 中 经典 又 被 称为 西瓜 书 师兄 导师 力荐 一定 要 仔细 看 把 里边 代码 自己 都 跑 一遍 试着 去 理解 去 优化 他 上 手 操作 才 是 王道 里面 讲 也 是 很多 要 慢慢 消化 了",
          "之前 看过 电子版 和 Github 感觉 非常 不错 再 结合 老师 视频 学 起来 简直 是 完美",
          "之前 看过 电子版 和 Github 感觉 非常 不错 再 结合 老师 视频 学 起来 简直 是 完美",
          "书 很 好 是 正版 周志华 老师 西瓜 书 可以 去 是 机器 学习 必备 书 了 装帧 好看 内容 经典 要 好好 啃 才 行 搭配 李航 老师 统计 学习 方法 真的 是 经典 不行 京东 快递 好评",
          "书 很 好 是 正版 周志华 老师 西瓜 书 可以 去 是 机器 学习 必备 书 了 装帧 好看 内容 经典 要 好好 啃 才 行 搭配 李航 老师 统计 学习 方法 真的 是 经典 不行 京东 快递 好评",
          "老师 推荐 买 一 本书 很 不错 内容 深入浅出 是 学习 自动 驾驶 好 教材 京东 物流 很赞 服务 很 好 值得 推荐 哦 大家 可以 来 京东 买买 买 看看 不会 失望",
          "这 本书 是 我 觉得 讲 深度 学习 为数不多 好书 之一 也 是 2020 年 新版 图书 作者 是 复旦大学 邱 教授 全书 正文 都 采用 了 双 彩色 写作 方式 配图 是 全彩 书 也 很 厚 哎 京东 物流 和 包装 都 很 完美",
          "这 本书 是 我 觉得 讲 深度 学习 为数不多 好书 之一 也 是 2020 年 新版 图书 作者 是 复旦大学 邱 教授 全书 正文 都 采用 了 双 彩色 写作 方式 配图 是 全彩 书 也 很 厚 哎 京东 物流 和 包装 都 很 完美",
          "疫情 开 不了 学 导师 让 自己 学习 买 一些 编程 书 当然 首选 京东 昨天 下单 今天 就 到 了 太棒了 ! 还 可以 开发票 等 去 了 学校 导师 还 能 给 报销 美滋滋 机器 学习 这 本书 被誉为 经典 中 经典 又 被 称为 西瓜 书 师兄 导师 力荐 一定 要 仔细 看 把 里边 代码 自己 都 跑 一遍 试着 去 理解 去 优化 他 上 手 操作 才 是 王道 里面 讲 也 是 很多 要 慢慢 消化 了",
          "老师 推荐 买 一 本书 很 不错 内容 深入浅出 是 学习 自动 驾驶 好 教材 京东 物流 很赞 服务 很 好 值得 推荐 哦 大家 可以 来 京东 买买 买 看看 不会 失望",
          "很 好 书 是 介绍 神经网络 入门 了 一本 教材 实验室 实验室 老师 让 我们 买 看 了 一下 包装 啊 都 挺不错 配送 也 很 及时 整个 排版 也 比较 清晰 多色 印刷 比较 上档次 希望 买来 能 对 神经网络 学习 有 帮助 多多 阅读 多 做 笔记 来 买 书 还是 上 京东 比较 方便 还有 优惠",
          "不错 很 好 这 本书 是 给 师弟 买 所以 买 了 很多 本 金典 神经网络 入门 教材 采用 是 双色 印刷 庄振 比较 精美 运送 也 很快 没有 磕碰 褶皱 买 书 还是 上 京东 方便 配合 满减 可以 做到 很 实惠 价格 跟 实验室 里面 省钱 了 爱 了 爱 了",
          "很 好 书 是 介绍 神经网络 入门 了 一本 教材 实验室 实验室 老师 让 我们 买 看 了 一下 包装 啊 都 挺不错 配送 也 很 及时 整个 排版 也 比较 清晰 多色 印刷 比较 上档次 希望 买来 能 对 神经网络 学习 有 帮助 多多 阅读 多 做 笔记 来 买 书 还是 上 京东 比较 方便 还有 优惠",
          "书 很 好 是 正版 周志华 老师 西瓜 书 可以 去 是 机器 学习 必备 书 了 装帧 好看 内容 经典 要 好好 啃 才 行 搭配 李航 老师 统计 学习 方法 真的 是 经典 不行 京东 快递 好评",
          "这 本书 是 我 觉得 讲 深度 学习 为数不多 好书 之一 也 是 2020 年 新版 图书 作者 是 复旦大学 邱 教授 全书 正文 都 采用 了 双 彩色 写作 方式 配图 是 全彩 书 也 很 厚 哎 京东 物流 和 包装 都 很 完美",
          "看 了 李 沐 老师 视频 所以 又 买 了 一 本书 加深 印象 也 可以 随时 查阅 非常 赞 各位 学习 deep  learning 小伙伴 一起 加油",
          "看 了 李 沐 老师 视频 所以 又 买 了 一 本书 加深 印象 也 可以 随时 查阅 非常 赞 各位 学习 deep  learning 小伙伴 一起 加油",
          "不错 很 好 这 本书 是 给 师弟 买 所以 买 了 很多 本 金典 神经网络 入门 教材 采用 是 双色 印刷 庄振 比较 精美 运送 也 很快 没有 磕碰 褶皱 买 书 还是 上 京东 方便 配合 满减 可以 做到 很 实惠 价格 跟 实验室 里面 省钱 了 爱 了 爱 了",
          "这 本书 是 我 觉得 讲 深度 学习 为数不多 好书 之一 也 是 2020 年 新版 图书 作者 是 复旦大学 邱 教授 全书 正文 都 采用 了 双 彩色 写作 方式 配图 是 全彩 书 也 很 厚 哎 京东 物流 和 包装 都 很 完美",
          "发货 快 包装 好 价格 实惠 快递 师傅 路线 熟悉 很快 就 送到 了 服务 热情周到 主动 给 搬 到 门口 趁着 京东 活动 力度 大 买 了 好多 书 质量 都 很 好 这本 GAN 实战 生成 对抗 网络 内容 实用 把 复杂 问题 简单化 值得 好好学习 一下 满意 好评",
          "很 好 书 是 介绍 神经网络 入门 了 一本 教材 实验室 实验室 老师 让 我们 买 看 了 一下 包装 啊 都 挺不错 配送 也 很 及时 整个 排版 也 比较 清晰 多色 印刷 比较 上档次 希望 买来 能 对 神经网络 学习 有 帮助 多多 阅读 多 做 笔记 来 买 书 还是 上 京东 比较 方便 还有 优惠",
          "发货 快 包装 好 价格 实惠 快递 师傅 路线 熟悉 很快 就 送到 了 服务 热情周到 主动 给 搬 到 门口 趁着 京东 活动 力度 大 买 了 好多 书 质量 都 很 好 这本 GAN 实战 生成 对抗 网络 内容 实用 把 复杂 问题 简单化 值得 好好学习 一下 满意 好评",
          "之前 看过 电子版 和 Github 感觉 非常 不错 再 结合 老师 视频 学 起来 简直 是 完美",
          "不错 很 好 这 本书 是 给 师弟 买 所以 买 了 很多 本 金典 神经网络 入门 教材 采用 是 双色 印刷 庄振 比较 精美 运送 也 很快 没有 磕碰 褶皱 买 书 还是 上 京东 方便 配合 满减 可以 做到 很 实惠 价格 跟 实验室 里面 省钱 了 爱 了 爱 了",
          "书 很 好 是 正版 周志华 老师 西瓜 书 可以 去 是 机器 学习 必备 书 了 装帧 好看 内容 经典 要 好好 啃 才 行 搭配 李航 老师 统计 学习 方法 真的 是 经典 不行 京东 快递 好评",
          "疫情 开 不了 学 导师 让 自己 学习 买 一些 编程 书 当然 首选 京东 昨天 下单 今天 就 到 了 太棒了 ! 还 可以 开发票 等 去 了 学校 导师 还 能 给 报销 美滋滋 机器 学习 这 本书 被誉为 经典 中 经典 又 被 称为 西瓜 书 师兄 导师 力荐 一定 要 仔细 看 把 里边 代码 自己 都 跑 一遍 试着 去 理解 去 优化 他 上 手 操作 才 是 王道 里面 讲 也 是 很多 要 慢慢 消化 了",
          "老师 推荐 买 一 本书 很 不错 内容 深入浅出 是 学习 自动 驾驶 好 教材 京东 物流 很赞 服务 很 好 值得 推荐 哦 大家 可以 来 京东 买买 买 看看 不会 失望",
          "很 好 书 是 介绍 神经网络 入门 了 一本 教材 实验室 实验室 老师 让 我们 买 看 了 一下 包装 啊 都 挺不错 配送 也 很 及时 整个 排版 也 比较 清晰 多色 印刷 比较 上档次 希望 买来 能 对 神经网络 学习 有 帮助 多多 阅读 多 做 笔记 来 买 书 还是 上 京东 比较 方便 还有 优惠",
          "之前 看过 电子版 和 Github 感觉 非常 不错 再 结合 老师 视频 学 起来 简直 是 完美",
          "疫情 开 不了 学 导师 让 自己 学习 买 一些 编程 书 当然 首选 京东 昨天 下单 今天 就 到 了 太棒了 ! 还 可以 开发票 等 去 了 学校 导师 还 能 给 报销 美滋滋 机器 学习 这 本书 被誉为 经典 中 经典 又 被 称为 西瓜 书 师兄 导师 力荐 一定 要 仔细 看 把 里边 代码 自己 都 跑 一遍 试着 去 理解 去 优化 他 上 手 操作 才 是 王道 里面 讲 也 是 很多 要 慢慢 消化 了",
          "发货 快 包装 好 价格 实惠 快递 师傅 路线 熟悉 很快 就 送到 了 服务 热情周到 主动 给 搬 到 门口 趁着 京东 活动 力度 大 买 了 好多 书 质量 都 很 好 这本 GAN 实战 生成 对抗 网络 内容 实用 把 复杂 问题 简单化 值得 好好学习 一下 满意 好评",
          "发货 快 包装 好 价格 实惠 快递 师傅 路线 熟悉 很快 就 送到 了 服务 热情周到 主动 给 搬 到 门口 趁着 京东 活动 力度 大 买 了 好多 书 质量 都 很 好 这本 GAN 实战 生成 对抗 网络 内容 实用 把 复杂 问题 简单化 值得 好好学习 一下 满意 好评",
          "疫情 开 不了 学 导师 让 自己 学习 买 一些 编程 书 当然 首选 京东 昨天 下单 今天 就 到 了 太棒了 ! 还 可以 开发票 等 去 了 学校 导师 还 能 给 报销 美滋滋 机器 学习 这 本书 被誉为 经典 中 经典 又 被 称为 西瓜 书 师兄 导师 力荐 一定 要 仔细 看 把 里边 代码 自己 都 跑 一遍 试着 去 理解 去 优化 他 上 手 操作 才 是 王道 里面 讲 也 是 很多 要 慢慢 消化 了",
          "看 了 李 沐 老师 视频 所以 又 买 了 一 本书 加深 印象 也 可以 随时 查阅 非常 赞 各位 学习 deep  learning 小伙伴 一起 加油",
          "老师 推荐 买 一 本书 很 不错 内容 深入浅出 是 学习 自动 驾驶 好 教材 京东 物流 很赞 服务 很 好 值得 推荐 哦 大家 可以 来 京东 买买 买 看看 不会 失望",
          "书 很 好 是 正版 周志华 老师 西瓜 书 可以 去 是 机器 学习 必备 书 了 装帧 好看 内容 经典 要 好好 啃 才 行 搭配 李航 老师 统计 学习 方法 真的 是 经典 不行 京东 快递 好评",
          "不错 很 好 这 本书 是 给 师弟 买 所以 买 了 很多 本 金典 神经网络 入门 教材 采用 是 双色 印刷 庄振 比较 精美 运送 也 很快 没有 磕碰 褶皱 买 书 还是 上 京东 方便 配合 满减 可以 做到 很 实惠 价格 跟 实验室 里面 省钱 了 爱 了 爱 了",
          null
         ],
         "marker": {
          "opacity": 0.5,
          "size": 5
         },
         "mode": "markers+text",
         "name": "0_learning_github_gan",
         "text": [
          "",
          "",
          "",
          "",
          "",
          "",
          "",
          "",
          "",
          "",
          "",
          "",
          "",
          "",
          "",
          "",
          "",
          "",
          "",
          "",
          "",
          "",
          "",
          "",
          "",
          "",
          "",
          "",
          "",
          "",
          "",
          "",
          "",
          "",
          "",
          "",
          "",
          "",
          "",
          "",
          "",
          "",
          "",
          "",
          "",
          "",
          "0_learning_github_gan"
         ],
         "textfont": {
          "size": 12
         },
         "type": "scattergl",
         "x": [
          -17.212944,
          -16.649586,
          -17.204453,
          -16.712093,
          -16.678978,
          -16.796898,
          -17.00028,
          -17.05348,
          -17.210005,
          -16.804525,
          -16.64488,
          -16.65196,
          -16.776396,
          -16.785433,
          -16.775446,
          -17.223507,
          -17.228859,
          -16.769335,
          -16.792194,
          -17.157728,
          -16.988728,
          -17.23536,
          -16.762762,
          -17.226873,
          -16.693705,
          -16.670885,
          -16.988964,
          -17.22534,
          -17.24245,
          -17.158756,
          -17.22763,
          -16.61596,
          -17.034319,
          -16.78955,
          -16.801832,
          -16.78207,
          -17.186962,
          -16.656225,
          -16.777567,
          -17.209595,
          -17.191446,
          -16.790892,
          -16.691666,
          -16.798306,
          -16.772835,
          -16.997692,
          -16.927114
         ],
         "y": [
          6.384493,
          6.3452764,
          6.402074,
          6.277002,
          6.299147,
          6.237793,
          6.3353615,
          6.3520145,
          6.367775,
          6.164266,
          6.3526464,
          6.325139,
          6.176656,
          6.185595,
          6.2425184,
          6.3698025,
          6.3514895,
          6.151145,
          6.24327,
          6.3515263,
          6.3240166,
          6.364146,
          6.180145,
          6.3851495,
          6.3025274,
          6.3168116,
          6.3213644,
          6.368555,
          6.414341,
          6.334099,
          6.396564,
          6.3772273,
          6.3364577,
          6.208536,
          6.135515,
          6.2591877,
          6.369077,
          6.333027,
          6.1651564,
          6.379293,
          6.3614492,
          6.1628647,
          6.310135,
          6.2463236,
          6.1728106,
          6.32331,
          6.2991977
         ]
        },
        {
         "hoverinfo": "text",
         "hovertext": [
          "很 好 不错 这个 牌子 很 不错 很 好 不错 这个 牌子 很 不错",
          "送货来 很快  服务 好 没 问题",
          "物流 很 给 力 包装 很 好 正版",
          "书 很棒 用来 学习 生命 在于 学习",
          "很 不错 一如既往 很快 到货 质量 很 有 保障 十分 不错 !",
          "发货 迅速 包装 完好 好评",
          "非常 有 教育 意义 一 本书 很 喜欢 很 不错",
          "物流 很 给 力 包装 很 好 正版",
          "很 不错 一如既往 很快 到货 质量 很 有 保障 十分 不错 !",
          "很 好 教材 呢 赞 一个",
          "很 不错 一如既往 很快 到货 质量 很 有 保障 十分 不错 !",
          "发货 迅速 包装 完好 好评",
          "很 好 不错 这个 牌子 很 不错 很 好 不错 这个 牌子 很 不错",
          "很 好 教材 呢 赞 一个",
          "发货 迅速 包装 完好 好评",
          "很 好 教材 呢 赞 一个",
          "书 很棒 用来 学习 生命 在于 学习",
          "很 不错 一如既往 很快 到货 质量 很 有 保障 十分 不错 !",
          "发货 迅速 包装 完好 好评",
          "送货来 很快  服务 好 没 问题",
          "物流 很 给 力 包装 很 好 正版",
          "非常 有 教育 意义 一 本书 很 喜欢 很 不错",
          "书 很棒 用来 学习 生命 在于 学习",
          "非常 有 教育 意义 一 本书 很 喜欢 很 不错",
          "发货 迅速 包装 完好 好评",
          "送货来 很快  服务 好 没 问题",
          "很 好 教材 呢 赞 一个",
          "很 好 不错 这个 牌子 很 不错 很 好 不错 这个 牌子 很 不错",
          "很 好 不错 这个 牌子 很 不错 很 好 不错 这个 牌子 很 不错",
          "物流 很 给 力 包装 很 好 正版",
          "书 很棒 用来 学习 生命 在于 学习",
          "很 好 教材 呢 赞 一个",
          "很 好 不错 这个 牌子 很 不错 很 好 不错 这个 牌子 很 不错",
          "很 不错 一如既往 很快 到货 质量 很 有 保障 十分 不错 !",
          "送货来 很快  服务 好 没 问题",
          "送货来 很快  服务 好 没 问题",
          "非常 有 教育 意义 一 本书 很 喜欢 很 不错",
          "书 很棒 用来 学习 生命 在于 学习",
          "物流 很 给 力 包装 很 好 正版",
          "非常 有 教育 意义 一 本书 很 喜欢 很 不错",
          null
         ],
         "marker": {
          "opacity": 0.5,
          "size": 5
         },
         "mode": "markers+text",
         "name": "1___",
         "text": [
          "",
          "",
          "",
          "",
          "",
          "",
          "",
          "",
          "",
          "",
          "",
          "",
          "",
          "",
          "",
          "",
          "",
          "",
          "",
          "",
          "",
          "",
          "",
          "",
          "",
          "",
          "",
          "",
          "",
          "",
          "",
          "",
          "",
          "",
          "",
          "",
          "",
          "",
          "",
          "",
          "1___"
         ],
         "textfont": {
          "size": 12
         },
         "type": "scattergl",
         "x": [
          16.186386,
          29.169168,
          29.151497,
          2.712987,
          13.531435,
          29.165455,
          1.540638,
          29.15836,
          13.531443,
          12.885653,
          13.531433,
          29.167595,
          16.186356,
          12.88554,
          29.16214,
          12.885607,
          2.713026,
          13.531453,
          29.177685,
          29.16923,
          29.148033,
          1.5406877,
          2.7074223,
          1.5407339,
          29.160952,
          29.169216,
          12.885489,
          16.186432,
          16.186644,
          29.165121,
          2.7083638,
          12.885463,
          16.186365,
          13.531441,
          29.173128,
          29.169262,
          1.5406361,
          2.712808,
          29.168,
          1.540669,
          16.79375
         ],
         "y": [
          -5.2668185,
          15.774649,
          15.79238,
          0.11610356,
          18.590992,
          15.778392,
          2.4393666,
          15.78549,
          18.591017,
          -3.791349,
          18.59097,
          15.776258,
          -5.2667627,
          -3.791286,
          15.781913,
          -3.7913368,
          0.1159892,
          18.591045,
          15.766183,
          15.774598,
          15.795852,
          2.4393568,
          0.119752415,
          2.4393854,
          15.782927,
          15.7746105,
          -3.791307,
          -5.266834,
          -5.266935,
          15.778729,
          0.120208435,
          -3.7915113,
          -5.266811,
          18.591,
          15.770713,
          15.774568,
          2.4393454,
          0.11619419,
          15.775873,
          2.43936,
          7.4283066
         ]
        },
        {
         "hoverinfo": "text",
         "hovertext": [
          "不错 适合 新手",
          "对于 我 专业 是 非常 实用",
          "非常 好 非常 好 很 满意",
          "非常 不错",
          "非常 不错",
          "很 好 很 有用 很 便宜",
          "非常 非常 非常 非常 好",
          "东西 不错",
          "很 实用 很 不错",
          "非常 好 非常 好 很 满意",
          "不错 适合 新手",
          "东西 不错",
          "不错 适合 新手",
          "不错 适合 新手",
          "非常 好 非常 好 很 满意",
          "很 实用 很 不错",
          "非常 不错",
          "东西 不错",
          "非常 不错",
          "很 实用 很 不错",
          "非常 非常 非常 非常 好",
          "很 好 很 有用 很 便宜",
          "很 好 很 有用 很 便宜",
          "对于 我 专业 是 非常 实用",
          "非常 非常 非常 非常 好",
          "很 实用 很 不错",
          "东西 不错",
          "非常 非常 非常 非常 好",
          "对于 我 专业 是 非常 实用",
          "不错 适合 新手",
          "对于 我 专业 是 非常 实用",
          "非常 不错",
          "非常 好 非常 好 很 满意",
          "东西 不错",
          "对于 我 专业 是 非常 实用",
          "非常 非常 非常 非常 好",
          "很 实用 很 不错",
          "非常 好 非常 好 很 满意",
          "很 好 很 有用 很 便宜",
          "很 好 很 有用 很 便宜",
          null
         ],
         "marker": {
          "opacity": 0.5,
          "size": 5
         },
         "mode": "markers+text",
         "name": "2___",
         "text": [
          "",
          "",
          "",
          "",
          "",
          "",
          "",
          "",
          "",
          "",
          "",
          "",
          "",
          "",
          "",
          "",
          "",
          "",
          "",
          "",
          "",
          "",
          "",
          "",
          "",
          "",
          "",
          "",
          "",
          "",
          "",
          "",
          "",
          "",
          "",
          "",
          "",
          "",
          "",
          "",
          "2___"
         ],
         "textfont": {
          "size": 12
         },
         "type": "scattergl",
         "x": [
          25.424702,
          25.099314,
          25.593138,
          25.442837,
          25.419617,
          25.140198,
          25.548727,
          25.465076,
          25.220629,
          25.59127,
          25.426249,
          25.461567,
          25.428297,
          25.375965,
          25.596941,
          25.209846,
          25.415987,
          25.468405,
          25.430552,
          25.24009,
          25.517788,
          25.12543,
          25.13692,
          25.082502,
          25.555395,
          25.301508,
          25.463501,
          25.577442,
          25.101011,
          25.431015,
          25.069271,
          25.438223,
          25.60593,
          25.48113,
          25.08976,
          25.563421,
          25.2542,
          25.599123,
          25.12186,
          25.124062,
          25.365976
         ],
         "y": [
          4.4485927,
          4.653013,
          4.3046403,
          4.434981,
          4.448503,
          4.6247535,
          4.342595,
          4.4188175,
          4.5658674,
          4.3064795,
          4.452399,
          4.41908,
          4.4189863,
          4.4946647,
          4.301007,
          4.573571,
          4.449415,
          4.4129224,
          4.4237704,
          4.5688195,
          4.373549,
          4.6347265,
          4.623603,
          4.6658473,
          4.3373256,
          4.5096407,
          4.4180465,
          4.3190084,
          4.646586,
          4.4432545,
          4.6800056,
          4.4300604,
          4.2947106,
          4.4010873,
          4.660526,
          4.3307037,
          4.5481715,
          4.2989697,
          4.6373086,
          4.6364465,
          4.473811
         ]
        },
        {
         "hoverinfo": "text",
         "hovertext": [
          "这 本书 相当 棒 写 得 很 好 作者 也 很 有 情怀 开源 书籍 必须 买 一本 实体书 支持 一下",
          "非常 不错 书 手感 很棒 讲解 清晰",
          "非常 不错 书 手感 很棒 讲解 清晰",
          "非常 不错 书 值得一看 内容 讲 都 是 非常 不错 干货",
          "很 浅显易懂 pytorch 入门 书 排版 很 喜欢 很 自然 就 能 读 下去 赞",
          "很棒 一 本书 非常 不错 赞 一个",
          "非常 不错 书 手感 很棒 讲解 清晰",
          "很 浅显易懂 pytorch 入门 书 排版 很 喜欢 很 自然 就 能 读 下去 赞",
          "非常 不错 书 值得一看 内容 讲 都 是 非常 不错 干货",
          "这 本书 听说 是 大牛 写 很 有用 吧 我先 看看 再说",
          "很 浅显易懂 pytorch 入门 书 排版 很 喜欢 很 自然 就 能 读 下去 赞",
          "很棒 一 本书 非常 不错 赞 一个",
          "这 本书 听说 是 大牛 写 很 有用 吧 我先 看看 再说",
          "非常 不错 书 手感 很棒 讲解 清晰",
          "非常 不错 书 值得一看 内容 讲 都 是 非常 不错 干货",
          "很棒 一 本书 非常 不错 赞 一个",
          "书 封面 真的 大气  我会 好好 研读 这 本书  数据 领域 著作  太赞 了",
          "这 本书 听说 是 大牛 写 很 有用 吧 我先 看看 再说",
          "感觉 这 本书 内容 很 丰富 很 好",
          "这 本书 相当 棒 写 得 很 好 作者 也 很 有 情怀 开源 书籍 必须 买 一本 实体书 支持 一下",
          "感觉 这 本书 内容 很 丰富 很 好",
          "这 本书 相当 棒 写 得 很 好 作者 也 很 有 情怀 开源 书籍 必须 买 一本 实体书 支持 一下",
          "非常 不错 书 值得一看 内容 讲 都 是 非常 不错 干货",
          "这 本书 相当 棒 写 得 很 好 作者 也 很 有 情怀 开源 书籍 必须 买 一本 实体书 支持 一下",
          "这 本书 相当 棒 写 得 很 好 作者 也 很 有 情怀 开源 书籍 必须 买 一本 实体书 支持 一下",
          "非常 不错 书 手感 很棒 讲解 清晰",
          "写 很 不错 深入浅出 案例 详实 读完 很受 启发",
          "这 本书 听说 是 大牛 写 很 有用 吧 我先 看看 再说",
          "很棒 一 本书 非常 不错 赞 一个",
          "这 本书 听说 是 大牛 写 很 有用 吧 我先 看看 再说",
          "非常 不错 书 值得一看 内容 讲 都 是 非常 不错 干货",
          "感觉 这 本书 内容 很 丰富 很 好",
          "很棒 一 本书 非常 不错 赞 一个",
          "感觉 这 本书 内容 很 丰富 很 好",
          "感觉 这 本书 内容 很 丰富 很 好",
          "很 浅显易懂 pytorch 入门 书 排版 很 喜欢 很 自然 就 能 读 下去 赞",
          "很 浅显易懂 pytorch 入门 书 排版 很 喜欢 很 自然 就 能 读 下去 赞",
          null
         ],
         "marker": {
          "opacity": 0.5,
          "size": 5
         },
         "mode": "markers+text",
         "name": "3_pytorch__",
         "text": [
          "",
          "",
          "",
          "",
          "",
          "",
          "",
          "",
          "",
          "",
          "",
          "",
          "",
          "",
          "",
          "",
          "",
          "",
          "",
          "",
          "",
          "",
          "",
          "",
          "",
          "",
          "",
          "",
          "",
          "",
          "",
          "",
          "",
          "",
          "",
          "",
          "",
          "3_pytorch__"
         ],
         "textfont": {
          "size": 12
         },
         "type": "scattergl",
         "x": [
          7.7888393,
          7.8043165,
          7.835795,
          7.8736887,
          7.840438,
          7.9250617,
          7.7991405,
          7.8391633,
          7.880138,
          7.889504,
          7.8402004,
          7.9532905,
          7.8897963,
          7.8261847,
          7.88341,
          7.9373865,
          7.9143367,
          7.884637,
          7.9845023,
          7.8395534,
          7.953941,
          7.823738,
          7.826795,
          7.826134,
          7.834527,
          7.83482,
          7.8328614,
          7.904019,
          7.927535,
          7.935787,
          7.8666344,
          7.9592724,
          7.90867,
          7.964671,
          7.9658675,
          7.8404546,
          7.8403687,
          7.877716
         ],
         "y": [
          -13.643188,
          -13.8047695,
          -13.745338,
          -13.754388,
          -14.307503,
          -13.79542,
          -13.807791,
          -14.318412,
          -13.709459,
          -13.678469,
          -14.312919,
          -13.823563,
          -13.685902,
          -13.767753,
          -13.713784,
          -13.7932415,
          -13.635522,
          -13.6804905,
          -13.861504,
          -13.704297,
          -13.82766,
          -13.697567,
          -13.764887,
          -13.6894865,
          -13.693876,
          -13.754484,
          -14.213256,
          -13.672701,
          -13.799555,
          -13.658011,
          -13.715317,
          -13.839271,
          -13.846657,
          -13.836863,
          -13.838274,
          -14.307549,
          -14.30813,
          -13.838034
         ]
        },
        {
         "hoverinfo": "text",
         "hovertext": [
          "这 本书 宏观 层面 上 讲解 了 如何 设计 和 打造 复杂 产品 流程 一个 复杂 产品 最 重要 是 源于 最初 想法 与 如何 落实 这个 想法 内容 通俗易懂 非常 推荐",
          "挺 好 一 本书 值得 好好学习 对于 我们 了解 人工智能 时代 具有 很大 帮助 这 本书 包括 人工智能 发展前景 机器人 从事 工作 人工智能 危害 人工智能 历史 工业 机器人 和 商业 机器人 家用 机器人 机器 学习 等 内容 给 我们 展现 了 一副 人工智能 发展 远景",
          "1 开始 机器 学习 领域 产品 拓展 也 开始 学习 机器 视觉 材料 机器 学习 领域 经典著作 也 算是 对 专业 方向 深入 理解 了解 机器 学习 历史 推荐 第二 版 机器 视觉 算法 与 应用 n2 加深 目前 工业界 理解 高职 课程 机器 视觉 及其 应用 技术 也 是 彩色 比较 合适 初学者 学习 了解",
          "挺 好 一 本书 值得 好好学习 对于 我们 了解 人工智能 时代 具有 很大 帮助 这 本书 包括 人工智能 发展前景 机器人 从事 工作 人工智能 危害 人工智能 历史 工业 机器人 和 商业 机器人 家用 机器人 机器 学习 等 内容 给 我们 展现 了 一副 人工智能 发展 远景",
          "挺 好 一 本书 值得 好好学习 对于 我们 了解 人工智能 时代 具有 很大 帮助 这 本书 包括 人工智能 发展前景 机器人 从事 工作 人工智能 危害 人工智能 历史 工业 机器人 和 商业 机器人 家用 机器人 机器 学习 等 内容 给 我们 展现 了 一副 人工智能 发展 远景",
          "挺 好 一 本书 值得 好好学习 对于 我们 了解 人工智能 时代 具有 很大 帮助 这 本书 包括 人工智能 发展前景 机器人 从事 工作 人工智能 危害 人工智能 历史 工业 机器人 和 商业 机器人 家用 机器人 机器 学习 等 内容 给 我们 展现 了 一副 人工智能 发展 远景",
          "快递 很快 包装 很 好 个人 认为 机器 学习 面试 不仅仅 是 用 过 什么 调 模型 更 需要 理解 背后 数学原理 感觉 这 本书 是 很 好 归纳 总结 省去 零散 搜索 汇总 时间 希望 有所 收获 吧",
          "1 开始 机器 学习 领域 产品 拓展 也 开始 学习 机器 视觉 材料 机器 学习 领域 经典著作 也 算是 对 专业 方向 深入 理解 了解 机器 学习 历史 推荐 第二 版 机器 视觉 算法 与 应用 n2 加深 目前 工业界 理解 高职 课程 机器 视觉 及其 应用 技术 也 是 彩色 比较 合适 初学者 学习 了解",
          "非常 不错 教材 基本上 把 自主 移动机器人 核心技术 都 讲 到 了 给出 了 详细 数学模型 介绍 从 顶层 模型 考试 讲 起 到 移动 控制 到 视觉 slam 到 定位 hellip  讲得 都 比较 到位 推荐 电气 机械 自动化 机器人 专业 学生 看看 很 对 内容 就是 我们 目前 项目 采用 方案 回头 来 看看 教材 有 更深 理解",
          "快递 很快 包装 很 好 个人 认为 机器 学习 面试 不仅仅 是 用 过 什么 调 模型 更 需要 理解 背后 数学原理 感觉 这 本书 是 很 好 归纳 总结 省去 零散 搜索 汇总 时间 希望 有所 收获 吧",
          "挺 好 一 本书 值得 好好学习 对于 我们 了解 人工智能 时代 具有 很大 帮助 这 本书 包括 人工智能 发展前景 机器人 从事 工作 人工智能 危害 人工智能 历史 工业 机器人 和 商业 机器人 家用 机器人 机器 学习 等 内容 给 我们 展现 了 一副 人工智能 发展 远景",
          "书 内容 很 丰富 条理性 清晰 从 人工智能 发展 历史 一直 讲 到 事例 再 到 模型 和 进阶 模型 由浅入深 讲 很 通俗易懂 对 我 帮助 很大 但 本书 也 并非 是 容易 到 普及 知识 通俗 读本 对 阅读 人员 有 一定 要求 起码 要 有 一定 基础",
          "这 本书 宏观 层面 上 讲解 了 如何 设计 和 打造 复杂 产品 流程 一个 复杂 产品 最 重要 是 源于 最初 想法 与 如何 落实 这个 想法 内容 通俗易懂 非常 推荐",
          "1 开始 机器 学习 领域 产品 拓展 也 开始 学习 机器 视觉 材料 机器 学习 领域 经典著作 也 算是 对 专业 方向 深入 理解 了解 机器 学习 历史 推荐 第二 版 机器 视觉 算法 与 应用 n2 加深 目前 工业界 理解 高职 课程 机器 视觉 及其 应用 技术 也 是 彩色 比较 合适 初学者 学习 了解",
          "挺 好 一 本书 值得 好好学习 对于 我们 了解 人工智能 时代 具有 很大 帮助 这 本书 包括 人工智能 发展前景 机器人 从事 工作 人工智能 危害 人工智能 历史 工业 机器人 和 商业 机器人 家用 机器人 机器 学习 等 内容 给 我们 展现 了 一副 人工智能 发展 远景",
          "挺 好 一 本书 值得 好好学习 对于 我们 了解 人工智能 时代 具有 很大 帮助 这 本书 包括 人工智能 发展前景 机器人 从事 工作 人工智能 危害 人工智能 历史 工业 机器人 和 商业 机器人 家用 机器人 机器 学习 等 内容 给 我们 展现 了 一副 人工智能 发展 远景",
          "这 本书 宏观 层面 上 讲解 了 如何 设计 和 打造 复杂 产品 流程 一个 复杂 产品 最 重要 是 源于 最初 想法 与 如何 落实 这个 想法 内容 通俗易懂 非常 推荐",
          "非常 不错 教材 基本上 把 自主 移动机器人 核心技术 都 讲 到 了 给出 了 详细 数学模型 介绍 从 顶层 模型 考试 讲 起 到 移动 控制 到 视觉 slam 到 定位 hellip  讲得 都 比较 到位 推荐 电气 机械 自动化 机器人 专业 学生 看看 很 对 内容 就是 我们 目前 项目 采用 方案 回头 来 看看 教材 有 更深 理解",
          "书 内容 很 丰富 条理性 清晰 从 人工智能 发展 历史 一直 讲 到 事例 再 到 模型 和 进阶 模型 由浅入深 讲 很 通俗易懂 对 我 帮助 很大 但 本书 也 并非 是 容易 到 普及 知识 通俗 读本 对 阅读 人员 有 一定 要求 起码 要 有 一定 基础",
          "挺 好 一 本书 值得 好好学习 对于 我们 了解 人工智能 时代 具有 很大 帮助 这 本书 包括 人工智能 发展前景 机器人 从事 工作 人工智能 危害 人工智能 历史 工业 机器人 和 商业 机器人 家用 机器人 机器 学习 等 内容 给 我们 展现 了 一副 人工智能 发展 远景",
          "书 内容 很 丰富 条理性 清晰 从 人工智能 发展 历史 一直 讲 到 事例 再 到 模型 和 进阶 模型 由浅入深 讲 很 通俗易懂 对 我 帮助 很大 但 本书 也 并非 是 容易 到 普及 知识 通俗 读本 对 阅读 人员 有 一定 要求 起码 要 有 一定 基础",
          "非常 不错 教材 基本上 把 自主 移动机器人 核心技术 都 讲 到 了 给出 了 详细 数学模型 介绍 从 顶层 模型 考试 讲 起 到 移动 控制 到 视觉 slam 到 定位 hellip  讲得 都 比较 到位 推荐 电气 机械 自动化 机器人 专业 学生 看看 很 对 内容 就是 我们 目前 项目 采用 方案 回头 来 看看 教材 有 更深 理解",
          "挺 好 一 本书 值得 好好学习 对于 我们 了解 人工智能 时代 具有 很大 帮助 这 本书 包括 人工智能 发展前景 机器人 从事 工作 人工智能 危害 人工智能 历史 工业 机器人 和 商业 机器人 家用 机器人 机器 学习 等 内容 给 我们 展现 了 一副 人工智能 发展 远景",
          "挺 好 一 本书 值得 好好学习 对于 我们 了解 人工智能 时代 具有 很大 帮助 这 本书 包括 人工智能 发展前景 机器人 从事 工作 人工智能 危害 人工智能 历史 工业 机器人 和 商业 机器人 家用 机器人 机器 学习 等 内容 给 我们 展现 了 一副 人工智能 发展 远景",
          "快递 很快 包装 很 好 个人 认为 机器 学习 面试 不仅仅 是 用 过 什么 调 模型 更 需要 理解 背后 数学原理 感觉 这 本书 是 很 好 归纳 总结 省去 零散 搜索 汇总 时间 希望 有所 收获 吧",
          "快递 很快 包装 很 好 个人 认为 机器 学习 面试 不仅仅 是 用 过 什么 调 模型 更 需要 理解 背后 数学原理 感觉 这 本书 是 很 好 归纳 总结 省去 零散 搜索 汇总 时间 希望 有所 收获 吧",
          "这 本书 宏观 层面 上 讲解 了 如何 设计 和 打造 复杂 产品 流程 一个 复杂 产品 最 重要 是 源于 最初 想法 与 如何 落实 这个 想法 内容 通俗易懂 非常 推荐",
          "这 本书 宏观 层面 上 讲解 了 如何 设计 和 打造 复杂 产品 流程 一个 复杂 产品 最 重要 是 源于 最初 想法 与 如何 落实 这个 想法 内容 通俗易懂 非常 推荐",
          "书 内容 很 丰富 条理性 清晰 从 人工智能 发展 历史 一直 讲 到 事例 再 到 模型 和 进阶 模型 由浅入深 讲 很 通俗易懂 对 我 帮助 很大 但 本书 也 并非 是 容易 到 普及 知识 通俗 读本 对 阅读 人员 有 一定 要求 起码 要 有 一定 基础",
          "非常 不错 教材 基本上 把 自主 移动机器人 核心技术 都 讲 到 了 给出 了 详细 数学模型 介绍 从 顶层 模型 考试 讲 起 到 移动 控制 到 视觉 slam 到 定位 hellip  讲得 都 比较 到位 推荐 电气 机械 自动化 机器人 专业 学生 看看 很 对 内容 就是 我们 目前 项目 采用 方案 回头 来 看看 教材 有 更深 理解",
          "1 开始 机器 学习 领域 产品 拓展 也 开始 学习 机器 视觉 材料 机器 学习 领域 经典著作 也 算是 对 专业 方向 深入 理解 了解 机器 学习 历史 推荐 第二 版 机器 视觉 算法 与 应用 n2 加深 目前 工业界 理解 高职 课程 机器 视觉 及其 应用 技术 也 是 彩色 比较 合适 初学者 学习 了解",
          "1 开始 机器 学习 领域 产品 拓展 也 开始 学习 机器 视觉 材料 机器 学习 领域 经典著作 也 算是 对 专业 方向 深入 理解 了解 机器 学习 历史 推荐 第二 版 机器 视觉 算法 与 应用 n2 加深 目前 工业界 理解 高职 课程 机器 视觉 及其 应用 技术 也 是 彩色 比较 合适 初学者 学习 了解",
          "非常 不错 教材 基本上 把 自主 移动机器人 核心技术 都 讲 到 了 给出 了 详细 数学模型 介绍 从 顶层 模型 考试 讲 起 到 移动 控制 到 视觉 slam 到 定位 hellip  讲得 都 比较 到位 推荐 电气 机械 自动化 机器人 专业 学生 看看 很 对 内容 就是 我们 目前 项目 采用 方案 回头 来 看看 教材 有 更深 理解",
          "快递 很快 包装 很 好 个人 认为 机器 学习 面试 不仅仅 是 用 过 什么 调 模型 更 需要 理解 背后 数学原理 感觉 这 本书 是 很 好 归纳 总结 省去 零散 搜索 汇总 时间 希望 有所 收获 吧",
          "书 内容 很 丰富 条理性 清晰 从 人工智能 发展 历史 一直 讲 到 事例 再 到 模型 和 进阶 模型 由浅入深 讲 很 通俗易懂 对 我 帮助 很大 但 本书 也 并非 是 容易 到 普及 知识 通俗 读本 对 阅读 人员 有 一定 要求 起码 要 有 一定 基础",
          null
         ],
         "marker": {
          "opacity": 0.5,
          "size": 5
         },
         "mode": "markers+text",
         "name": "4_slam_n2_hellip",
         "text": [
          "",
          "",
          "",
          "",
          "",
          "",
          "",
          "",
          "",
          "",
          "",
          "",
          "",
          "",
          "",
          "",
          "",
          "",
          "",
          "",
          "",
          "",
          "",
          "",
          "",
          "",
          "",
          "",
          "",
          "",
          "",
          "",
          "",
          "",
          "",
          "4_slam_n2_hellip"
         ],
         "textfont": {
          "size": 12
         },
         "type": "scattergl",
         "x": [
          -21.530697,
          -21.578655,
          -21.2667,
          -21.593794,
          -21.540442,
          -21.552904,
          -21.366152,
          -21.26095,
          -21.303844,
          -21.373526,
          -21.615562,
          -21.492992,
          -21.50564,
          -21.269583,
          -21.602692,
          -21.55153,
          -21.507862,
          -21.276585,
          -21.48169,
          -21.565046,
          -21.482906,
          -21.281984,
          -21.584904,
          -21.585356,
          -21.34261,
          -21.395416,
          -21.499453,
          -21.496359,
          -21.48157,
          -21.306173,
          -21.254686,
          -21.268995,
          -21.30845,
          -21.358671,
          -21.467253,
          -21.438616
         ],
         "y": [
          -6.934432,
          -6.9828176,
          -6.669054,
          -6.9979825,
          -6.944606,
          -6.956928,
          -6.769055,
          -6.6631947,
          -6.705986,
          -6.776475,
          -7.019767,
          -6.896709,
          -6.9094214,
          -6.671928,
          -7.0069165,
          -6.9555883,
          -6.9115586,
          -6.678972,
          -6.8858085,
          -6.969147,
          -6.8863373,
          -6.684399,
          -6.9891343,
          -6.9894185,
          -6.7453895,
          -6.7983627,
          -6.903162,
          -6.900015,
          -6.885263,
          -6.708682,
          -6.6569552,
          -6.6713243,
          -6.7109346,
          -6.761545,
          -6.8709555,
          -6.8419504
         ]
        },
        {
         "hoverinfo": "text",
         "hovertext": [
          "书本 很 好 装订 印刷 精致 值得 拥有 京东 购物 方便 放心 发货 送货上门 及时",
          "书本 很 好 装订 印刷 精致 值得 拥有 京东 购物 方便 放心 发货 送货上门 及时",
          "在 京东 上 购物 还是 非常 方便 现在 一直 在 京东 上面 买 东西 特别 是 购买 书 非常 方便 第一天 下单 第二天 就 收到 了 双十 一 也 是 包装 精美 没有 任何 折痕 性价比 很 高 活动 期间 价格 美丽",
          "书本 很 好 装订 印刷 精致 值得 拥有 京东 购物 方便 放心 发货 送货上门 及时",
          "机器 学习 实战 教程 图书 质量 非常 好 正版 图书 印刷 非常 清晰 图书 纸张 质量 很 好 京东 双 11 活动 购买 价格 非常 实惠 送货 速度 很快 推荐 购买",
          "机器 学习 实战 教程 图书 质量 非常 好 正版 图书 印刷 非常 清晰 图书 纸张 质量 很 好 京东 双 11 活动 购买 价格 非常 实惠 送货 速度 很快 推荐 购买",
          "现在 基本上 所有 书 都 在 京东 上面 买 一般 情况 下 今天 下单 明天 就 可以 收到 速度 非常 快 而且 包装 都 很 好 没有 任何 破损 这 本书 内容 比较 全面 值得一看",
          "现在 基本上 所有 书 都 在 京东 上面 买 一般 情况 下 今天 下单 明天 就 可以 收到 速度 非常 快 而且 包装 都 很 好 没有 任何 破损 这 本书 内容 比较 全面 值得一看",
          "书本 很 好 双十 一 购买 价廉物美 京东 购物 方便 放心 发货 送货上门 及时",
          "机器 学习 实战 教程 图书 质量 非常 好 正版 图书 印刷 非常 清晰 图书 纸张 质量 很 好 京东 双 11 活动 购买 价格 非常 实惠 送货 速度 很快 推荐 购买",
          "一直 都 在 京东 买 舒服 好 舒服 快 质量 有 保障 不能 出场 价格 实惠 换购 也 方便 然后 没有 需要 很多 然后 种类 很多 什么 都 可以 买 到",
          "现在 基本上 所有 书 都 在 京东 上面 买 一般 情况 下 今天 下单 明天 就 可以 收到 速度 非常 快 而且 包装 都 很 好 没有 任何 破损 这 本书 内容 比较 全面 值得一看",
          "在 京东 上 购物 还是 非常 方便 现在 一直 在 京东 上面 买 东西 特别 是 购买 书 非常 方便 第一天 下单 第二天 就 收到 了 双十 一 也 是 包装 精美 没有 任何 折痕 性价比 很 高 活动 期间 价格 美丽",
          "一直 都 在 京东 买 舒服 好 舒服 快 质量 有 保障 不能 出场 价格 实惠 换购 也 方便 然后 没有 需要 很多 然后 种类 很多 什么 都 可以 买 到",
          "书本 很 好 装订 印刷 精致 值得 拥有 京东 购物 方便 放心 发货 送货上门 及时",
          "在 京东 上 购物 还是 非常 方便 现在 一直 在 京东 上面 买 东西 特别 是 购买 书 非常 方便 第一天 下单 第二天 就 收到 了 双十 一 也 是 包装 精美 没有 任何 折痕 性价比 很 高 活动 期间 价格 美丽",
          "机器 学习 实战 教程 图书 质量 非常 好 正版 图书 印刷 非常 清晰 图书 纸张 质量 很 好 京东 双 11 活动 购买 价格 非常 实惠 送货 速度 很快 推荐 购买",
          "书本 很 好 双十 一 购买 价廉物美 京东 购物 方便 放心 发货 送货上门 及时",
          "机器 学习 实战 教程 图书 质量 非常 好 正版 图书 印刷 非常 清晰 图书 纸张 质量 很 好 京东 双 11 活动 购买 价格 非常 实惠 送货 速度 很快 推荐 购买",
          "书本 很 好 双十 一 购买 价廉物美 京东 购物 方便 放心 发货 送货上门 及时",
          "现在 基本上 所有 书 都 在 京东 上面 买 一般 情况 下 今天 下单 明天 就 可以 收到 速度 非常 快 而且 包装 都 很 好 没有 任何 破损 这 本书 内容 比较 全面 值得一看",
          "在 京东 上 购物 还是 非常 方便 现在 一直 在 京东 上面 买 东西 特别 是 购买 书 非常 方便 第一天 下单 第二天 就 收到 了 双十 一 也 是 包装 精美 没有 任何 折痕 性价比 很 高 活动 期间 价格 美丽",
          "机器 学习 实战 教程 图书 质量 非常 好 正版 图书 印刷 非常 清晰 图书 纸张 质量 很 好 京东 双 11 活动 购买 价格 非常 实惠 送货 速度 很快 推荐 购买",
          "在 京东 上 购物 还是 非常 方便 现在 一直 在 京东 上面 买 东西 特别 是 购买 书 非常 方便 第一天 下单 第二天 就 收到 了 双十 一 也 是 包装 精美 没有 任何 折痕 性价比 很 高 活动 期间 价格 美丽",
          "书本 很 好 双十 一 购买 价廉物美 京东 购物 方便 放心 发货 送货上门 及时",
          "书本 很 好 装订 印刷 精致 值得 拥有 京东 购物 方便 放心 发货 送货上门 及时",
          "一直 都 在 京东 买 舒服 好 舒服 快 质量 有 保障 不能 出场 价格 实惠 换购 也 方便 然后 没有 需要 很多 然后 种类 很多 什么 都 可以 买 到",
          "书本 很 好 双十 一 购买 价廉物美 京东 购物 方便 放心 发货 送货上门 及时",
          "一直 都 在 京东 买 舒服 好 舒服 快 质量 有 保障 不能 出场 价格 实惠 换购 也 方便 然后 没有 需要 很多 然后 种类 很多 什么 都 可以 买 到",
          "机器 学习 实战 教程 图书 质量 非常 好 正版 图书 印刷 非常 清晰 图书 纸张 质量 很 好 京东 双 11 活动 购买 价格 非常 实惠 送货 速度 很快 推荐 购买",
          "一直 都 在 京东 买 舒服 好 舒服 快 质量 有 保障 不能 出场 价格 实惠 换购 也 方便 然后 没有 需要 很多 然后 种类 很多 什么 都 可以 买 到",
          "现在 基本上 所有 书 都 在 京东 上面 买 一般 情况 下 今天 下单 明天 就 可以 收到 速度 非常 快 而且 包装 都 很 好 没有 任何 破损 这 本书 内容 比较 全面 值得一看",
          "机器 学习 实战 教程 图书 质量 非常 好 正版 图书 印刷 非常 清晰 图书 纸张 质量 很 好 京东 双 11 活动 购买 价格 非常 实惠 送货 速度 很快 推荐 购买",
          "机器 学习 实战 教程 图书 质量 非常 好 正版 图书 印刷 非常 清晰 图书 纸张 质量 很 好 京东 双 11 活动 购买 价格 非常 实惠 送货 速度 很快 推荐 购买",
          "机器 学习 实战 教程 图书 质量 非常 好 正版 图书 印刷 非常 清晰 图书 纸张 质量 很 好 京东 双 11 活动 购买 价格 非常 实惠 送货 速度 很快 推荐 购买",
          null
         ],
         "marker": {
          "opacity": 0.5,
          "size": 5
         },
         "mode": "markers+text",
         "name": "5_11__",
         "text": [
          "",
          "",
          "",
          "",
          "",
          "",
          "",
          "",
          "",
          "",
          "",
          "",
          "",
          "",
          "",
          "",
          "",
          "",
          "",
          "",
          "",
          "",
          "",
          "",
          "",
          "",
          "",
          "",
          "",
          "",
          "",
          "",
          "",
          "",
          "",
          "5_11__"
         ],
         "textfont": {
          "size": 12
         },
         "type": "scattergl",
         "x": [
          -12.363963,
          -12.363942,
          -5.7866936,
          -12.363927,
          -4.623638,
          -4.624104,
          -5.7856665,
          -5.7857075,
          -12.363993,
          -4.623523,
          -5.786251,
          -5.7856274,
          -5.786952,
          -5.8034735,
          -12.36424,
          -5.785794,
          -4.6238194,
          -12.363961,
          -4.6239634,
          -12.363922,
          -5.785705,
          -5.7865357,
          -4.6293836,
          -5.7857904,
          -12.3640785,
          -12.36411,
          -5.785764,
          -12.361964,
          -5.7855234,
          -4.6229796,
          -5.7857337,
          -5.7856297,
          -4.6232324,
          -4.6322465,
          -4.607824,
          -7.3337045
         ],
         "y": [
          -0.16075832,
          -0.16074014,
          23.539356,
          -0.16075058,
          9.172113,
          9.171638,
          23.538322,
          23.53828,
          -0.16067186,
          9.172238,
          23.53893,
          23.538315,
          23.539625,
          23.555126,
          -0.16062914,
          23.538391,
          9.171848,
          -0.1607771,
          9.171821,
          -0.1607664,
          23.53832,
          23.539179,
          9.166354,
          23.538393,
          -0.16073799,
          -0.16078763,
          23.538454,
          -0.16151366,
          23.538494,
          9.172723,
          23.538418,
          23.538223,
          9.172553,
          9.163607,
          9.187991,
          12.66316
         ]
        },
        {
         "hoverinfo": "text",
         "hovertext": [
          "这次 双 11 在 京东 上 只 买 了 几本书 活动 力度 挺大 满 100 减去 50 很 划算 书 质量 都 挺不错 发货 速度 也 还 挺 好 整体 来说 还是 挺 让 人 满意 反正 就是 挺 开心 很 喜欢 书 是 充盈 感觉 说 包装 也 挺 好 发货 还 算是 可以 吧 我 在 最近 店里 就 买 了 很多 书 没事 了 看看书 感觉 非常 好 越来越 感觉 学 不够 用 了 买 书 补充 一下",
          "这次 双 11 在 京东 上 只 买 了 几本书 活动 力度 挺大 满 100 减去 50 很 划算 书 质量 都 挺不错 发货 速度 也 还 挺 好 整体 来说 还是 挺 让 人 满意 反正 就是 挺 开心 很 喜欢 书 是 充盈 感觉 说 包装 也 挺 好 发货 还 算是 可以 吧 我 在 最近 店里 就 买 了 很多 书 没事 了 看看书 感觉 非常 好 越来越 感觉 学 不够 用 了 买 书 补充 一下",
          "这次 双 11 在 京东 上 买 了 挺 多 叔叔 质量 都 挺不错 发货 速度 也 还 挺 好 整体 来说 还是 挺 让 人 满意 反正 就是 挺 开心 很 喜欢 书 是 充盈 感觉 说 包装 也 挺 好 发货 还 算是 可以 吧 我 在 最近 店里 就 买 了 很多 书 然后 还 在 飞机 里面 买 了 很多 科技类 书 主要 和 拍摄 相关 还有 很多 其他 反正 我 就 想 多 写点 评价 都 已经 到 啦 书 很快 就 收到 了 但是 这三 本书 还是 有点 贵 啊 我 总共 买 了 20 多 本书 整体 来说 还是 特别 高兴  我们 实验室 和 老师 出钱 给 我 买 了 挺 多 说 反正 就是 挺 好 我 需要 卖家 生意 越来越 兴隆 越来越 好 希望 你们 生意兴隆 红火 就 这样 吧 写 不了 更 多 的话 了 真的 想多带 点金 豆 谢谢 你 了 帮 我 评个 优  其实 每当 我 看到 书 是 聪明 感觉 心里 真的 特别 高兴",
          "这次 双 11 在 京东 上 买 了 挺 多 叔叔 质量 都 挺不错 发货 速度 也 还 挺 好 整体 来说 还是 挺 让 人 满意 反正 就是 挺 开心 很 喜欢 书 是 充盈 感觉 说 包装 也 挺 好 发货 还 算是 可以 吧 我 在 最近 店里 就 买 了 很多 书 然后 还 在 飞机 里面 买 了 很多 科技类 书 主要 和 拍摄 相关 还有 很多 其他 反正 我 就 想 多 写点 评价 都 已经 到 啦 书 很快 就 收到 了 但是 这三 本书 还是 有点 贵 啊 我 总共 买 了 20 多 本书 整体 来说 还是 特别 高兴  我们 实验室 和 老师 出钱 给 我 买 了 挺 多 说 反正 就是 挺 好 我 需要 卖家 生意 越来越 兴隆 越来越 好 希望 你们 生意兴隆 红火 就 这样 吧 写 不了 更 多 的话 了 真的 想多带 点金 豆 谢谢 你 了 帮 我 评个 优  其实 每当 我 看到 书 是 聪明 感觉 心里 真的 特别 高兴",
          "这次 双 11 在 京东 上 买 了 挺 多 叔叔 质量 都 挺不错 发货 速度 也 还 挺 好 整体 来说 还是 挺 让 人 满意 反正 就是 挺 开心 很 喜欢 书 是 充盈 感觉 说 包装 也 挺 好 发货 还 算是 可以 吧 我 在 最近 店里 就 买 了 很多 书 然后 还 在 飞机 里面 买 了 很多 科技类 书 主要 和 拍摄 相关 还有 很多 其他 反正 我 就 想 多 写点 评价 都 已经 到 啦 书 很快 就 收到 了 但是 这三 本书 还是 有点 贵 啊 我 总共 买 了 20 多 本书 整体 来说 还是 特别 高兴  我们 实验室 和 老师 出钱 给 我 买 了 挺 多 说 反正 就是 挺 好 我 需要 卖家 生意 越来越 兴隆 越来越 好 希望 你们 生意兴隆 红火 就 这样 吧 写 不了 更 多 的话 了 真的 想多带 点金 豆 谢谢 你 了 帮 我 评个 优  其实 每当 我 看到 书 是 聪明 感觉 心里 真的 特别 高兴",
          "这次 双 11 在 京东 上 买 了 挺 多 叔叔 质量 都 挺不错 发货 速度 也 还 挺 好 整体 来说 还是 挺 让 人 满意 反正 就是 挺 开心 很 喜欢 书 是 充盈 感觉 说 包装 也 挺 好 发货 还 算是 可以 吧 我 在 最近 店里 就 买 了 很多 书 然后 还 在 飞机 里面 买 了 很多 科技类 书 主要 和 拍摄 相关 还有 很多 其他 反正 我 就 想 多 写点 评价 都 已经 到 啦 书 很快 就 收到 了 但是 这三 本书 还是 有点 贵 啊 我 总共 买 了 20 多 本书 整体 来说 还是 特别 高兴  我们 实验室 和 老师 出钱 给 我 买 了 挺 多 说 反正 就是 挺 好 我 需要 卖家 生意 越来越 兴隆 越来越 好 希望 你们 生意兴隆 红火 就 这样 吧 写 不了 更 多 的话 了 真的 想多带 点金 豆 谢谢 你 了 帮 我 评个 优  其实 每当 我 看到 书 是 聪明 感觉 心里 真的 特别 高兴",
          "这次 双 11 在 京东 上 买 了 挺 多 叔叔 质量 都 挺不错 发货 速度 也 还 挺 好 整体 来说 还是 挺 让 人 满意 反正 就是 挺 开心 很 喜欢 书 是 充盈 感觉 说 包装 也 挺 好 发货 还 算是 可以 吧 我 在 最近 店里 就 买 了 很多 书 然后 还 在 飞机 里面 买 了 很多 科技类 书 主要 和 拍摄 相关 还有 很多 其他 反正 我 就 想 多 写点 评价 都 已经 到 啦 书 很快 就 收到 了 但是 这三 本书 还是 有点 贵 啊 我 总共 买 了 20 多 本书 整体 来说 还是 特别 高兴  我们 实验室 和 老师 出钱 给 我 买 了 挺 多 说 反正 就是 挺 好 我 需要 卖家 生意 越来越 兴隆 越来越 好 希望 你们 生意兴隆 红火 就 这样 吧 写 不了 更 多 的话 了 真的 想多带 点金 豆 谢谢 你 了 帮 我 评个 优  其实 每当 我 看到 书 是 聪明 感觉 心里 真的 特别 高兴",
          "书 质量 不错 每一 本书 都 有 塑封 加上 有 气泡 袋 不用 担心 运输 过程 中 磨损 趁着 打折 活动 买 一下子 买 了 六 本书 可以 给 我 好好 去 学习 了 有 了 这些 书 可以 给 自己 学习 生活 带来 很大 帮助 看着 这些 书 就 开心 哈哈哈",
          "书 质量 不错 每一 本书 都 有 塑封 加上 有 气泡 袋 不用 担心 运输 过程 中 磨损 趁着 打折 活动 买 一下子 买 了 六 本书 可以 给 我 好好 去 学习 了 有 了 这些 书 可以 给 自己 学习 生活 带来 很大 帮助 看着 这些 书 就 开心 哈哈哈",
          "这次 双 11 在 京东 上 买 了 挺 多 叔叔 质量 都 挺不错 发货 速度 也 还 挺 好 整体 来说 还是 挺 让 人 满意 反正 就是 挺 开心 很 喜欢 书 是 充盈 感觉 说 包装 也 挺 好 发货 还 算是 可以 吧 我 在 最近 店里 就 买 了 很多 书 然后 还 在 飞机 里面 买 了 很多 科技类 书 主要 和 拍摄 相关 还有 很多 其他 反正 我 就 想 多 写点 评价 都 已经 到 啦 书 很快 就 收到 了 但是 这三 本书 还是 有点 贵 啊 我 总共 买 了 20 多 本书 整体 来说 还是 特别 高兴  我们 实验室 和 老师 出钱 给 我 买 了 挺 多 说 反正 就是 挺 好 我 需要 卖家 生意 越来越 兴隆 越来越 好 希望 你们 生意兴隆 红火 就 这样 吧 写 不了 更 多 的话 了 真的 想多带 点金 豆 谢谢 你 了 帮 我 评个 优  其实 每当 我 看到 书 是 聪明 感觉 心里 真的 特别 高兴",
          "这次 双 11 在 京东 上 买 了 挺 多 叔叔 质量 都 挺不错 发货 速度 也 还 挺 好 整体 来说 还是 挺 让 人 满意 反正 就是 挺 开心 很 喜欢 书 是 充盈 感觉 说 包装 也 挺 好 发货 还 算是 可以 吧 我 在 最近 店里 就 买 了 很多 书 然后 还 在 飞机 里面 买 了 很多 科技类 书 主要 和 拍摄 相关 还有 很多 其他 反正 我 就 想 多 写点 评价 都 已经 到 啦 书 很快 就 收到 了 但是 这三 本书 还是 有点 贵 啊 我 总共 买 了 20 多 本书 整体 来说 还是 特别 高兴  我们 实验室 和 老师 出钱 给 我 买 了 挺 多 说 反正 就是 挺 好 我 需要 卖家 生意 越来越 兴隆 越来越 好 希望 你们 生意兴隆 红火 就 这样 吧 写 不了 更 多 的话 了 真的 想多带 点金 豆 谢谢 你 了 帮 我 评个 优  其实 每当 我 看到 书 是 聪明 感觉 心里 真的 特别 高兴",
          "书 质量 不错 每一 本书 都 有 塑封 加上 有 气泡 袋 不用 担心 运输 过程 中 磨损 趁着 打折 活动 买 一下子 买 了 六 本书 可以 给 我 好好 去 学习 了 有 了 这些 书 可以 给 自己 学习 生活 带来 很大 帮助 看着 这些 书 就 开心 哈哈哈",
          "这次 双 11 在 京东 上 只 买 了 几本书 活动 力度 挺大 满 100 减去 50 很 划算 书 质量 都 挺不错 发货 速度 也 还 挺 好 整体 来说 还是 挺 让 人 满意 反正 就是 挺 开心 很 喜欢 书 是 充盈 感觉 说 包装 也 挺 好 发货 还 算是 可以 吧 我 在 最近 店里 就 买 了 很多 书 没事 了 看看书 感觉 非常 好 越来越 感觉 学 不够 用 了 买 书 补充 一下",
          "这次 双 11 在 京东 上 只 买 了 几本书 活动 力度 挺大 满 100 减去 50 很 划算 书 质量 都 挺不错 发货 速度 也 还 挺 好 整体 来说 还是 挺 让 人 满意 反正 就是 挺 开心 很 喜欢 书 是 充盈 感觉 说 包装 也 挺 好 发货 还 算是 可以 吧 我 在 最近 店里 就 买 了 很多 书 没事 了 看看书 感觉 非常 好 越来越 感觉 学 不够 用 了 买 书 补充 一下",
          "这次 双 11 在 京东 上 买 了 挺 多 叔叔 质量 都 挺不错 发货 速度 也 还 挺 好 整体 来说 还是 挺 让 人 满意 反正 就是 挺 开心 很 喜欢 书 是 充盈 感觉 说 包装 也 挺 好 发货 还 算是 可以 吧 我 在 最近 店里 就 买 了 很多 书 然后 还 在 飞机 里面 买 了 很多 科技类 书 主要 和 拍摄 相关 还有 很多 其他 反正 我 就 想 多 写点 评价 都 已经 到 啦 书 很快 就 收到 了 但是 这三 本书 还是 有点 贵 啊 我 总共 买 了 20 多 本书 整体 来说 还是 特别 高兴  我们 实验室 和 老师 出钱 给 我 买 了 挺 多 说 反正 就是 挺 好 我 需要 卖家 生意 越来越 兴隆 越来越 好 希望 你们 生意兴隆 红火 就 这样 吧 写 不了 更 多 的话 了 真的 想多带 点金 豆 谢谢 你 了 帮 我 评个 优  其实 每当 我 看到 书 是 聪明 感觉 心里 真的 特别 高兴",
          "这次 双 11 在 京东 上 只 买 了 几本书 活动 力度 挺大 满 100 减去 50 很 划算 书 质量 都 挺不错 发货 速度 也 还 挺 好 整体 来说 还是 挺 让 人 满意 反正 就是 挺 开心 很 喜欢 书 是 充盈 感觉 说 包装 也 挺 好 发货 还 算是 可以 吧 我 在 最近 店里 就 买 了 很多 书 没事 了 看看书 感觉 非常 好 越来越 感觉 学 不够 用 了 买 书 补充 一下",
          "这次 双 11 在 京东 上 只 买 了 几本书 活动 力度 挺大 满 100 减去 50 很 划算 书 质量 都 挺不错 发货 速度 也 还 挺 好 整体 来说 还是 挺 让 人 满意 反正 就是 挺 开心 很 喜欢 书 是 充盈 感觉 说 包装 也 挺 好 发货 还 算是 可以 吧 我 在 最近 店里 就 买 了 很多 书 没事 了 看看书 感觉 非常 好 越来越 感觉 学 不够 用 了 买 书 补充 一下",
          "给 部门 买 书 一次性 买 了 一千多 部门 小伙伴 都 挺 开心 京东 物流 自不必说 了 希望 自己 在 新 一年 里 有 更 多 进步",
          "这次 双 11 在 京东 上 只 买 了 几本书 活动 力度 挺大 满 100 减去 50 很 划算 书 质量 都 挺不错 发货 速度 也 还 挺 好 整体 来说 还是 挺 让 人 满意 反正 就是 挺 开心 很 喜欢 书 是 充盈 感觉 说 包装 也 挺 好 发货 还 算是 可以 吧 我 在 最近 店里 就 买 了 很多 书 没事 了 看看书 感觉 非常 好 越来越 感觉 学 不够 用 了 买 书 补充 一下",
          "这次 双 11 在 京东 上 买 了 挺 多 叔叔 质量 都 挺不错 发货 速度 也 还 挺 好 整体 来说 还是 挺 让 人 满意 反正 就是 挺 开心 很 喜欢 书 是 充盈 感觉 说 包装 也 挺 好 发货 还 算是 可以 吧 我 在 最近 店里 就 买 了 很多 书 然后 还 在 飞机 里面 买 了 很多 科技类 书 主要 和 拍摄 相关 还有 很多 其他 反正 我 就 想 多 写点 评价 都 已经 到 啦 书 很快 就 收到 了 但是 这三 本书 还是 有点 贵 啊 我 总共 买 了 20 多 本书 整体 来说 还是 特别 高兴  我们 实验室 和 老师 出钱 给 我 买 了 挺 多 说 反正 就是 挺 好 我 需要 卖家 生意 越来越 兴隆 越来越 好 希望 你们 生意兴隆 红火 就 这样 吧 写 不了 更 多 的话 了 真的 想多带 点金 豆 谢谢 你 了 帮 我 评个 优  其实 每当 我 看到 书 是 聪明 感觉 心里 真的 特别 高兴",
          "书 质量 不错 每一 本书 都 有 塑封 加上 有 气泡 袋 不用 担心 运输 过程 中 磨损 趁着 打折 活动 买 一下子 买 了 六 本书 可以 给 我 好好 去 学习 了 有 了 这些 书 可以 给 自己 学习 生活 带来 很大 帮助 看着 这些 书 就 开心 哈哈哈",
          "给 部门 买 书 一次性 买 了 一千多 部门 小伙伴 都 挺 开心 京东 物流 自不必说 了 希望 自己 在 新 一年 里 有 更 多 进步",
          "给 部门 买 书 一次性 买 了 一千多 部门 小伙伴 都 挺 开心 京东 物流 自不必说 了 希望 自己 在 新 一年 里 有 更 多 进步",
          "这次 双 11 在 京东 上 只 买 了 几本书 活动 力度 挺大 满 100 减去 50 很 划算 书 质量 都 挺不错 发货 速度 也 还 挺 好 整体 来说 还是 挺 让 人 满意 反正 就是 挺 开心 很 喜欢 书 是 充盈 感觉 说 包装 也 挺 好 发货 还 算是 可以 吧 我 在 最近 店里 就 买 了 很多 书 没事 了 看看书 感觉 非常 好 越来越 感觉 学 不够 用 了 买 书 补充 一下",
          "给 部门 买 书 一次性 买 了 一千多 部门 小伙伴 都 挺 开心 京东 物流 自不必说 了 希望 自己 在 新 一年 里 有 更 多 进步",
          "这次 双 11 在 京东 上 只 买 了 几本书 活动 力度 挺大 满 100 减去 50 很 划算 书 质量 都 挺不错 发货 速度 也 还 挺 好 整体 来说 还是 挺 让 人 满意 反正 就是 挺 开心 很 喜欢 书 是 充盈 感觉 说 包装 也 挺 好 发货 还 算是 可以 吧 我 在 最近 店里 就 买 了 很多 书 没事 了 看看书 感觉 非常 好 越来越 感觉 学 不够 用 了 买 书 补充 一下",
          "这次 双 11 在 京东 上 只 买 了 几本书 活动 力度 挺大 满 100 减去 50 很 划算 书 质量 都 挺不错 发货 速度 也 还 挺 好 整体 来说 还是 挺 让 人 满意 反正 就是 挺 开心 很 喜欢 书 是 充盈 感觉 说 包装 也 挺 好 发货 还 算是 可以 吧 我 在 最近 店里 就 买 了 很多 书 没事 了 看看书 感觉 非常 好 越来越 感觉 学 不够 用 了 买 书 补充 一下",
          "书 质量 不错 每一 本书 都 有 塑封 加上 有 气泡 袋 不用 担心 运输 过程 中 磨损 趁着 打折 活动 买 一下子 买 了 六 本书 可以 给 我 好好 去 学习 了 有 了 这些 书 可以 给 自己 学习 生活 带来 很大 帮助 看着 这些 书 就 开心 哈哈哈",
          "这次 双 11 在 京东 上 买 了 挺 多 叔叔 质量 都 挺不错 发货 速度 也 还 挺 好 整体 来说 还是 挺 让 人 满意 反正 就是 挺 开心 很 喜欢 书 是 充盈 感觉 说 包装 也 挺 好 发货 还 算是 可以 吧 我 在 最近 店里 就 买 了 很多 书 然后 还 在 飞机 里面 买 了 很多 科技类 书 主要 和 拍摄 相关 还有 很多 其他 反正 我 就 想 多 写点 评价 都 已经 到 啦 书 很快 就 收到 了 但是 这三 本书 还是 有点 贵 啊 我 总共 买 了 20 多 本书 整体 来说 还是 特别 高兴  我们 实验室 和 老师 出钱 给 我 买 了 挺 多 说 反正 就是 挺 好 我 需要 卖家 生意 越来越 兴隆 越来越 好 希望 你们 生意兴隆 红火 就 这样 吧 写 不了 更 多 的话 了 真的 想多带 点金 豆 谢谢 你 了 帮 我 评个 优  其实 每当 我 看到 书 是 聪明 感觉 心里 真的 特别 高兴",
          "给 部门 买 书 一次性 买 了 一千多 部门 小伙伴 都 挺 开心 京东 物流 自不必说 了 希望 自己 在 新 一年 里 有 更 多 进步",
          null
         ],
         "marker": {
          "opacity": 0.5,
          "size": 5
         },
         "mode": "markers+text",
         "name": "6_50_100_11",
         "text": [
          "",
          "",
          "",
          "",
          "",
          "",
          "",
          "",
          "",
          "",
          "",
          "",
          "",
          "",
          "",
          "",
          "",
          "",
          "",
          "",
          "",
          "",
          "",
          "",
          "",
          "",
          "",
          "",
          "",
          "",
          "6_50_100_11"
         ],
         "textfont": {
          "size": 12
         },
         "type": "scattergl",
         "x": [
          -11.753485,
          -11.73138,
          -5.6211658,
          -5.6211233,
          -5.621,
          -5.621155,
          -5.6211815,
          -11.748494,
          -11.748077,
          -5.621178,
          -5.6211543,
          -11.762717,
          -11.772278,
          -11.739754,
          -5.6212525,
          -11.750029,
          -11.724769,
          -11.714415,
          -11.737114,
          -5.6211734,
          -11.768936,
          -11.691033,
          -11.725417,
          -11.732741,
          -11.715254,
          -11.731134,
          -11.731253,
          -11.774464,
          -5.621154,
          -11.695677,
          -9.698666
         ],
         "y": [
          18.20528,
          18.22735,
          13.42534,
          13.425338,
          13.425473,
          13.425263,
          13.425382,
          18.210104,
          18.210556,
          13.425297,
          13.425373,
          18.195856,
          18.186348,
          18.218985,
          13.425227,
          18.208849,
          18.233952,
          18.244444,
          18.221704,
          13.425336,
          18.189663,
          18.267735,
          18.233406,
          18.225967,
          18.243626,
          18.22791,
          18.227184,
          18.184147,
          13.425278,
          18.263092,
          16.622646
         ]
        },
        {
         "hoverinfo": "text",
         "hovertext": [
          "内容 丰富多彩 示例 切实有效 非常 好 一款 图书 京东 物流 一如既往 快速 便捷 包装 非常 完好 图书 印刷 字迹 清晰 应该 是 正版 图书",
          "帮 同事 买 他 说 可以 内容 比较 丰富 京东 发货 快 快递 也 很 给 力",
          "内容 丰富多彩 示例 切实有效 非常 好 一款 图书 京东 物流 一如既往 快速 便捷 包装 非常 完好 图书 印刷 字迹 清晰 应该 是 正版 图书",
          "帮 同事 买 他 说 可以 内容 比较 丰富 京东 发货 快 快递 也 很 给 力",
          "正版 发货 快 大部分 书 都 在 京东 买 了",
          "一口气 买 了 好多好多 书 快递 到 了 快 得 很 而且 是 正版 强烈推荐 在 京东 买 书 很 靠 谱",
          "真的 很 不错 书 搞 活动 买 了 很多 超级 划算 书 质量 很 不错 相信 京东",
          "真的 很 不错 书 搞 活动 买 了 很多 超级 划算 书 质量 很 不错 相信 京东",
          "内容 丰富多彩 示例 切实有效 非常 好 一款 图书 京东 物流 一如既往 快速 便捷 包装 非常 完好 图书 印刷 字迹 清晰 应该 是 正版 图书",
          "一口气 买 了 好多好多 书 快递 到 了 快 得 很 而且 是 正版 强烈推荐 在 京东 买 书 很 靠 谱",
          "一口气 买 了 好多好多 书 快递 到 了 快 得 很 而且 是 正版 强烈推荐 在 京东 买 书 很 靠 谱",
          "正版 发货 快 大部分 书 都 在 京东 买 了",
          "真的 很 不错 书 搞 活动 买 了 很多 超级 划算 书 质量 很 不错 相信 京东",
          "帮 同事 买 他 说 可以 内容 比较 丰富 京东 发货 快 快递 也 很 给 力",
          "正版 发货 快 大部分 书 都 在 京东 买 了",
          "一口气 买 了 好多好多 书 快递 到 了 快 得 很 而且 是 正版 强烈推荐 在 京东 买 书 很 靠 谱",
          "包装 完好无损 京东 物流 真的 很快 京东 小哥 服务态度 很 好",
          "内容 丰富多彩 示例 切实有效 非常 好 一款 图书 京东 物流 一如既往 快速 便捷 包装 非常 完好 图书 印刷 字迹 清晰 应该 是 正版 图书",
          "帮 同事 买 他 说 可以 内容 比较 丰富 京东 发货 快 快递 也 很 给 力",
          "正版 发货 快 大部分 书 都 在 京东 买 了",
          "内容 丰富多彩 示例 切实有效 非常 好 一款 图书 京东 物流 一如既往 快速 便捷 包装 非常 完好 图书 印刷 字迹 清晰 应该 是 正版 图书",
          "真的 很 不错 书 搞 活动 买 了 很多 超级 划算 书 质量 很 不错 相信 京东",
          "真的 很 不错 书 搞 活动 买 了 很多 超级 划算 书 质量 很 不错 相信 京东",
          "包装 完好无损 京东 物流 真的 很快 京东 小哥 服务态度 很 好",
          "包装 完好无损 京东 物流 真的 很快 京东 小哥 服务态度 很 好",
          "正版 发货 快 大部分 书 都 在 京东 买 了",
          "京东 物流 速度 很快 书记 是 全新 有 薄膜 包装 我 给 拆掉 了 朋友 推荐 这 本书 欢迎 大家 购买 阅读",
          "帮 同事 买 他 说 可以 内容 比较 丰富 京东 发货 快 快递 也 很 给 力",
          "一口气 买 了 好多好多 书 快递 到 了 快 得 很 而且 是 正版 强烈推荐 在 京东 买 书 很 靠 谱",
          "真的 很 不错 书 搞 活动 买 了 很多 超级 划算 书 质量 很 不错 相信 京东",
          null
         ],
         "marker": {
          "opacity": 0.5,
          "size": 5
         },
         "mode": "markers+text",
         "name": "7___",
         "text": [
          "",
          "",
          "",
          "",
          "",
          "",
          "",
          "",
          "",
          "",
          "",
          "",
          "",
          "",
          "",
          "",
          "",
          "",
          "",
          "",
          "",
          "",
          "",
          "",
          "",
          "",
          "",
          "",
          "",
          "",
          "7___"
         ],
         "textfont": {
          "size": 12
         },
         "type": "scattergl",
         "x": [
          -0.26747763,
          -0.2383336,
          -0.2752979,
          -0.22105533,
          -0.3382043,
          -0.29179847,
          2.6710923,
          2.721163,
          -0.2914652,
          -0.2384848,
          -0.2755071,
          -0.33309478,
          2.6908185,
          -0.25484106,
          -0.36953527,
          -0.27706003,
          -0.23286971,
          -0.28907254,
          -0.24870121,
          -0.3563005,
          -0.28443837,
          2.6971717,
          2.6975968,
          -0.21086271,
          -0.22147241,
          -0.32863528,
          -0.3152342,
          -0.21893725,
          -0.2866515,
          2.6806588,
          0.316439
         ],
         "y": [
          12.554396,
          12.647874,
          12.5667925,
          12.661957,
          12.517165,
          12.535314,
          9.226615,
          9.176502,
          12.546966,
          12.58702,
          12.528632,
          12.543402,
          9.206886,
          12.640127,
          12.50271,
          12.567435,
          12.662681,
          12.543052,
          12.63777,
          12.579747,
          12.547216,
          9.200428,
          9.200118,
          12.694378,
          12.682211,
          12.531642,
          12.331388,
          12.667134,
          12.54761,
          9.216925,
          11.901734
         ]
        },
        {
         "hoverinfo": "text",
         "hovertext": [
          "印刷 纸张 都 不错 正在 学习",
          "书本 外包装 完好无损 里面 字体 打印 清晰 很 好",
          "书本 外包装 完好无损 里面 字体 打印 清晰 很 好",
          "印刷 清楚 介绍 详细 纸质 也 很 好 是 好书",
          "书本 外包装 完好无损 里面 字体 打印 清晰 很 好",
          "书本 外包装 完好无损 里面 字体 打印 清晰 很 好",
          "印刷 清楚 介绍 详细 纸质 也 很 好 是 好书",
          "书本 外包装 完好无损 里面 字体 打印 清晰 很 好",
          "厚厚的 一本 内容 丰富 纸质 很 好 适合 做 参考 工具书",
          "好书 印刷 清晰 纸张 不错 内容 看 不 多 暂 不 评价 快递 很快",
          "好书 印刷 清晰 纸张 不错 内容 看 不 多 暂 不 评价 快递 很快",
          "好书 印刷 清晰 纸张 不错 内容 看 不 多 暂 不 评价 快递 很快",
          "印刷 清楚 介绍 详细 纸质 也 很 好 是 好书",
          "厚厚的 一本 内容 丰富 纸质 很 好 适合 做 参考 工具书",
          "印刷 清楚 介绍 详细 纸质 也 很 好 是 好书",
          "厚厚的 一本 内容 丰富 纸质 很 好 适合 做 参考 工具书",
          "好书 印刷 清晰 纸张 不错 内容 看 不 多 暂 不 评价 快递 很快",
          "书本 外包装 完好无损 里面 字体 打印 清晰 很 好",
          "印刷 清楚 介绍 详细 纸质 也 很 好 是 好书",
          "厚厚的 一本 内容 丰富 纸质 很 好 适合 做 参考 工具书",
          "书本 外包装 完好无损 里面 字体 打印 清晰 很 好",
          "印刷 纸张 都 不错 正在 学习",
          "书本 外包装 完好无损 里面 字体 打印 清晰 很 好",
          "印刷 纸张 都 不错 正在 学习",
          "好书 印刷 清晰 纸张 不错 内容 看 不 多 暂 不 评价 快递 很快",
          "书本 外包装 完好无损 里面 字体 打印 清晰 很 好",
          "厚厚的 一本 内容 丰富 纸质 很 好 适合 做 参考 工具书",
          "书本 外包装 完好无损 里面 字体 打印 清晰 很 好",
          "印刷 纸张 都 不错 正在 学习",
          "印刷 纸张 都 不错 正在 学习",
          null
         ],
         "marker": {
          "opacity": 0.5,
          "size": 5
         },
         "mode": "markers+text",
         "name": "8___",
         "text": [
          "",
          "",
          "",
          "",
          "",
          "",
          "",
          "",
          "",
          "",
          "",
          "",
          "",
          "",
          "",
          "",
          "",
          "",
          "",
          "",
          "",
          "",
          "",
          "",
          "",
          "",
          "",
          "",
          "",
          "",
          "8___"
         ],
         "textfont": {
          "size": 12
         },
         "type": "scattergl",
         "x": [
          9.659005,
          9.501474,
          9.549011,
          9.683572,
          9.552052,
          9.537486,
          9.692705,
          9.486546,
          9.754611,
          9.707539,
          9.683737,
          9.698281,
          9.693951,
          9.703995,
          9.68511,
          9.694696,
          9.702875,
          9.505924,
          9.696182,
          9.695002,
          9.49337,
          9.706914,
          9.532386,
          9.682301,
          9.654168,
          9.490217,
          9.723328,
          9.548131,
          9.720938,
          9.689725,
          9.637508
         ],
         "y": [
          -1.6816387,
          -1.5224997,
          -1.5708805,
          -1.7064638,
          -1.5737603,
          -1.5591373,
          -1.715783,
          -1.5074745,
          -1.7772821,
          -1.7304438,
          -1.7066023,
          -1.7210644,
          -1.7165682,
          -1.7264458,
          -1.7079281,
          -1.7173232,
          -1.7257212,
          -1.5271792,
          -1.7181314,
          -1.7175983,
          -1.5146992,
          -1.7296096,
          -1.5539864,
          -1.7050526,
          -1.6770288,
          -1.5112162,
          -1.7459029,
          -1.5696614,
          -1.7436559,
          -1.7124021,
          -1.6597712
         ]
        },
        {
         "hoverinfo": "text",
         "hovertext": [
          "书 很 好 物流 也 很快 第二天 就 到 了 纸 质量 也 不错",
          "书 拿到 了 质量 还 不错 送货 也 很快",
          "物流 速度 很快 产品质量 很 好 书 内容 也 非常 不错 京东 物流 值得 信赖 值得 购买 推荐",
          "书 拿到 了 质量 还 不错 送货 也 很快",
          "书 质量 很 好 送货 很快 有 时间 把 内容 仔细 读 一下 一定 会 有 很大 收获",
          "物流 很快 书 质量 很 好 赞 一个",
          "书 很 好 物流 也 很快 第二天 就 到 了 纸 质量 也 不错",
          "书 质量 很 好 送货 很快 有 时间 把 内容 仔细 读 一下 一定 会 有 很大 收获",
          "前一天 晚上 下单 第二天 就 送到 了 还 以为 双十 一 送货 会慢 没想到 还是 次日 达 书 质量 不错 参加 满减 非常 合适",
          "前一天 晚上 下单 第二天 就 送到 了 还 以为 双十 一 送货 会慢 没想到 还是 次日 达 书 质量 不错 参加 满减 非常 合适",
          "书 很 好 物流 也 很快 第二天 就 到 了 纸 质量 也 不错",
          "物流 很快 书 质量 很 好 赞 一个",
          "书 很 好 物流 也 很快 第二天 就 到 了 纸 质量 也 不错",
          "物流 很快 书 质量 很 好 赞 一个",
          "物流 速度 很快 产品质量 很 好 书 内容 也 非常 不错 京东 物流 值得 信赖 值得 购买 推荐",
          "物流 速度 很快 产品质量 很 好 书 内容 也 非常 不错 京东 物流 值得 信赖 值得 购买 推荐",
          "书 质量 很 好 送货 很快 有 时间 把 内容 仔细 读 一下 一定 会 有 很大 收获",
          "书 拿到 了 质量 还 不错 送货 也 很快",
          "物流 很快 书 质量 很 好 赞 一个",
          "前一天 晚上 下单 第二天 就 送到 了 还 以为 双十 一 送货 会慢 没想到 还是 次日 达 书 质量 不错 参加 满减 非常 合适",
          "书 拿到 了 质量 还 不错 送货 也 很快",
          "书 很 好 物流 也 很快 第二天 就 到 了 纸 质量 也 不错",
          "书 拿到 了 质量 还 不错 送货 也 很快",
          "物流 速度 很快 产品质量 很 好 书 内容 也 非常 不错 京东 物流 值得 信赖 值得 购买 推荐",
          "物流 速度 很快 产品质量 很 好 书 内容 也 非常 不错 京东 物流 值得 信赖 值得 购买 推荐",
          "书 质量 很 好 送货 很快 有 时间 把 内容 仔细 读 一下 一定 会 有 很大 收获",
          "书 质量 很 好 送货 很快 有 时间 把 内容 仔细 读 一下 一定 会 有 很大 收获",
          "物流 很快 书 质量 很 好 赞 一个",
          "前一天 晚上 下单 第二天 就 送到 了 还 以为 双十 一 送货 会慢 没想到 还是 次日 达 书 质量 不错 参加 满减 非常 合适",
          "前一天 晚上 下单 第二天 就 送到 了 还 以为 双十 一 送货 会慢 没想到 还是 次日 达 书 质量 不错 参加 满减 非常 合适",
          null
         ],
         "marker": {
          "opacity": 0.5,
          "size": 5
         },
         "mode": "markers+text",
         "name": "9___",
         "text": [
          "",
          "",
          "",
          "",
          "",
          "",
          "",
          "",
          "",
          "",
          "",
          "",
          "",
          "",
          "",
          "",
          "",
          "",
          "",
          "",
          "",
          "",
          "",
          "",
          "",
          "",
          "",
          "",
          "",
          "",
          "9___"
         ],
         "textfont": {
          "size": 12
         },
         "type": "scattergl",
         "x": [
          8.507226,
          8.538268,
          8.978189,
          8.503455,
          8.50598,
          8.987856,
          8.470344,
          8.522878,
          8.4545965,
          8.45064,
          8.470246,
          8.95895,
          8.491576,
          8.879846,
          8.992962,
          8.972624,
          8.500838,
          8.521112,
          8.969183,
          8.450325,
          8.512807,
          8.490627,
          8.533424,
          8.970741,
          8.976573,
          8.495887,
          8.499578,
          8.966796,
          8.456292,
          8.461562,
          8.6497135
         ],
         "y": [
          11.557167,
          11.578829,
          11.399862,
          11.54644,
          11.560993,
          11.384951,
          11.524409,
          11.577853,
          11.510713,
          11.5030775,
          11.528847,
          11.41639,
          11.541442,
          11.439284,
          11.381491,
          11.402301,
          11.567817,
          11.556658,
          11.402544,
          11.516385,
          11.557555,
          11.540546,
          11.576759,
          11.402293,
          11.395462,
          11.561232,
          11.563501,
          11.404323,
          11.509236,
          11.51439,
          11.497425
         ]
        },
        {
         "hoverinfo": "text",
         "hovertext": [
          "书到 了 物流 很快 包装 好 价格 优惠 还有 塑料模 太棒了",
          "囤 新书 慢慢 看 书本 非常 不错 物流 快",
          "囤 新书 慢慢 看 书本 非常 不错 物流 快",
          "书到 了 物流 很快 包装 好 价格 优惠 还有 塑料模 太棒了",
          "书 很 好 物流 也 非常 快",
          "书 很 好 物流 也 非常 快",
          "物流 很快  书 很 新  包装 很 好  还 没 开始 看  应该 不错",
          "书 很 好 物流 也 非常 快",
          "书 很 好 物流 也 非常 快",
          "物流 很快  书 很 新  包装 很 好  还 没 开始 看  应该 不错",
          "物流 很快  书 很 新  包装 很 好  还 没 开始 看  应该 不错",
          "书到 了 物流 很快 包装 好 价格 优惠 还有 塑料模 太棒了",
          "囤 新书 慢慢 看 书本 非常 不错 物流 快",
          "书 很 好 物流 也 非常 快",
          "很 好 送货 很快 书 还 没 看",
          "书 很 好 物流 也 非常 快",
          "囤 新书 慢慢 看 书本 非常 不错 物流 快",
          "物流 很快  书 很 新  包装 很 好  还 没 开始 看  应该 不错",
          "书到 了 物流 很快 包装 好 价格 优惠 还有 塑料模 太棒了",
          "书 很 好 物流 也 非常 快",
          "书 很 好 物流 也 非常 快",
          "书 很 好 物流 也 非常 快",
          "书到 了 物流 很快 包装 好 价格 优惠 还有 塑料模 太棒了",
          "很 好 送货 很快 书 还 没 看",
          "很 好 送货 很快 书 还 没 看",
          "很 好 送货 很快 书 还 没 看",
          "很 好 送货 很快 书 还 没 看",
          "囤 新书 慢慢 看 书本 非常 不错 物流 快",
          "书 很 好 物流 也 非常 快",
          "物流 很快  书 很 新  包装 很 好  还 没 开始 看  应该 不错",
          null
         ],
         "marker": {
          "opacity": 0.5,
          "size": 5
         },
         "mode": "markers+text",
         "name": "10___",
         "text": [
          "",
          "",
          "",
          "",
          "",
          "",
          "",
          "",
          "",
          "",
          "",
          "",
          "",
          "",
          "",
          "",
          "",
          "",
          "",
          "",
          "",
          "",
          "",
          "",
          "",
          "",
          "",
          "",
          "",
          "",
          "10___"
         ],
         "textfont": {
          "size": 12
         },
         "type": "scattergl",
         "x": [
          22.565275,
          22.447859,
          22.489988,
          22.571455,
          22.353073,
          22.341602,
          22.540558,
          22.333445,
          22.354307,
          22.540907,
          22.54923,
          22.577023,
          22.467688,
          22.355967,
          22.310165,
          22.348219,
          22.515491,
          22.563362,
          22.581001,
          22.343533,
          22.383566,
          22.30848,
          22.56401,
          22.316515,
          22.306137,
          22.300898,
          22.318476,
          22.531176,
          22.356821,
          22.546532,
          22.436092
         ],
         "y": [
          16.445229,
          16.56266,
          16.520279,
          16.439089,
          16.656359,
          16.667898,
          16.469973,
          16.676098,
          16.655058,
          16.46961,
          16.461319,
          16.433516,
          16.542685,
          16.65337,
          16.699099,
          16.66122,
          16.494894,
          16.447227,
          16.429573,
          16.665924,
          16.626112,
          16.70091,
          16.446508,
          16.692791,
          16.703087,
          16.708368,
          16.690765,
          16.47922,
          16.652748,
          16.463968,
          16.573849
         ]
        },
        {
         "hoverinfo": "text",
         "hovertext": [
          "谢谢 非常 满意 一次 愉快 购物 体验 这 类 资料 只要 有 货 必须 第一 时间 入手 很 开心",
          "谢谢 非常 满意 一次 愉快 购物 体验 这 类 资料 只要 有 货 必须 第一 时间 入手 很 开心",
          "谢谢 非常 满意 一次 愉快 购物 体验 这 类 资料 只要 有 货 必须 第一 时间 入手 很 开心",
          "谢谢 非常 满意 一次 愉快 购物 体验 这 类 资料 只要 有 货 必须 第一 时间 入手 很 开心",
          "谢谢 非常 满意 一次 愉快 购物 体验 这 类 资料 只要 有 货 必须 第一 时间 入手 很 开心",
          "谢谢 非常 满意 一次 愉快 购物 体验 这 类 资料 只要 有 货 必须 第一 时间 入手 很 开心",
          "意外 收获 了 不少 创业 点子 很 惊喜 感谢 车 袁 老师",
          "谢谢 非常 满意 一次 愉快 购物 体验 这 类 资料 只要 有 货 必须 第一 时间 入手 很 开心",
          "谢谢 非常 满意 一次 愉快 购物 体验 这 类 资料 只要 有 货 必须 第一 时间 入手 很 开心",
          "谢谢 非常 满意 一次 愉快 购物 体验 这 类 资料 只要 有 货 必须 第一 时间 入手 很 开心",
          "谢谢 非常 满意 一次 愉快 购物 体验 这 类 资料 只要 有 货 必须 第一 时间 入手 很 开心",
          "谢谢 非常 满意 一次 愉快 购物 体验 这 类 资料 只要 有 货 必须 第一 时间 入手 很 开心",
          "谢谢 非常 满意 一次 愉快 购物 体验 这 类 资料 只要 有 货 必须 第一 时间 入手 很 开心",
          "意外 收获 了 不少 创业 点子 很 惊喜 感谢 车 袁 老师",
          "谢谢 非常 满意 一次 愉快 购物 体验 这 类 资料 只要 有 货 必须 第一 时间 入手 很 开心",
          "谢谢 非常 满意 一次 愉快 购物 体验 这 类 资料 只要 有 货 必须 第一 时间 入手 很 开心",
          "谢谢 非常 满意 一次 愉快 购物 体验 这 类 资料 只要 有 货 必须 第一 时间 入手 很 开心",
          "谢谢 非常 满意 一次 愉快 购物 体验 这 类 资料 只要 有 货 必须 第一 时间 入手 很 开心",
          "谢谢 非常 满意 一次 愉快 购物 体验 这 类 资料 只要 有 货 必须 第一 时间 入手 很 开心",
          "谢谢 非常 满意 一次 愉快 购物 体验 这 类 资料 只要 有 货 必须 第一 时间 入手 很 开心",
          "意外 收获 了 不少 创业 点子 很 惊喜 感谢 车 袁 老师",
          "谢谢 非常 满意 一次 愉快 购物 体验 这 类 资料 只要 有 货 必须 第一 时间 入手 很 开心",
          "谢谢 非常 满意 一次 愉快 购物 体验 这 类 资料 只要 有 货 必须 第一 时间 入手 很 开心",
          "谢谢 非常 满意 一次 愉快 购物 体验 这 类 资料 只要 有 货 必须 第一 时间 入手 很 开心",
          "意外 收获 了 不少 创业 点子 很 惊喜 感谢 车 袁 老师",
          "谢谢 非常 满意 一次 愉快 购物 体验 这 类 资料 只要 有 货 必须 第一 时间 入手 很 开心",
          "谢谢 非常 满意 一次 愉快 购物 体验 这 类 资料 只要 有 货 必须 第一 时间 入手 很 开心",
          "意外 收获 了 不少 创业 点子 很 惊喜 感谢 车 袁 老师",
          "谢谢 非常 满意 一次 愉快 购物 体验 这 类 资料 只要 有 货 必须 第一 时间 入手 很 开心",
          "谢谢 非常 满意 一次 愉快 购物 体验 这 类 资料 只要 有 货 必须 第一 时间 入手 很 开心",
          null
         ],
         "marker": {
          "opacity": 0.5,
          "size": 5
         },
         "mode": "markers+text",
         "name": "11___",
         "text": [
          "",
          "",
          "",
          "",
          "",
          "",
          "",
          "",
          "",
          "",
          "",
          "",
          "",
          "",
          "",
          "",
          "",
          "",
          "",
          "",
          "",
          "",
          "",
          "",
          "",
          "",
          "",
          "",
          "",
          "",
          "11___"
         ],
         "textfont": {
          "size": 12
         },
         "type": "scattergl",
         "x": [
          6.315795,
          6.2971296,
          6.2861123,
          6.328347,
          6.308913,
          6.2698092,
          6.1769886,
          6.2330313,
          6.3267317,
          6.2928047,
          6.293968,
          6.374696,
          6.266095,
          6.21094,
          6.3134575,
          6.303563,
          6.32429,
          6.2650747,
          6.290742,
          6.2938232,
          6.1493773,
          6.2237225,
          6.2796645,
          6.3159547,
          6.1829615,
          6.2843127,
          6.331884,
          6.20265,
          6.3032174,
          6.2679152,
          6.2771325
         ],
         "y": [
          23.28325,
          23.2646,
          23.253595,
          23.2958,
          23.276442,
          23.237253,
          23.144484,
          23.200493,
          23.29423,
          23.260296,
          23.261448,
          23.342186,
          23.233555,
          23.178413,
          23.280945,
          23.271036,
          23.291714,
          23.232569,
          23.25822,
          23.261297,
          23.11685,
          23.191198,
          23.247137,
          23.283432,
          23.150482,
          23.2518,
          23.299358,
          23.17011,
          23.270689,
          23.235443,
          23.244612
         ]
        },
        {
         "hoverinfo": "text",
         "hovertext": [
          "书本 纸质 特别 好 留白 很多 方便 做 笔记 知识点 详细 全面 配合 一些 视频 来 学习 就 更好 了",
          "这 本书 对 打下 神经网络 学习 基础 非常 有 帮助",
          "这 本书 对 打下 神经网络 学习 基础 非常 有 帮助",
          "这 本书 是 别人 推荐 买来 慢慢 学习",
          "这 本书 细节 很 好 很 适合 入门 人读 有 一定 基础 读 也 能 补漏 一些 没 注意 小 细节 好评",
          "内容 很 全面 可以 对 神经网络 有个 比较 全面 了解",
          "这 本书 是 别人 推荐 买来 慢慢 学习",
          "书本 纸质 特别 好 留白 很多 方便 做 笔记 知识点 详细 全面 配合 一些 视频 来 学习 就 更好 了",
          "这 本书 对 打下 神经网络 学习 基础 非常 有 帮助",
          "这 本书 是 别人 推荐 买来 慢慢 学习",
          "内容 很 全面 可以 对 神经网络 有个 比较 全面 了解",
          "这 本书 细节 很 好 很 适合 入门 人读 有 一定 基础 读 也 能 补漏 一些 没 注意 小 细节 好评",
          "这 本书 讲 特别 实用 简明 易懂 深度 学习 值得 推荐 好 教材",
          "这 本书 讲 特别 实用 简明 易懂 深度 学习 值得 推荐 好 教材",
          "内容 很 全面 可以 对 神经网络 有个 比较 全面 了解",
          "书本 纸质 特别 好 留白 很多 方便 做 笔记 知识点 详细 全面 配合 一些 视频 来 学习 就 更好 了",
          "这 本书 对 打下 神经网络 学习 基础 非常 有 帮助",
          "这 本书 讲 特别 实用 简明 易懂 深度 学习 值得 推荐 好 教材",
          "这 本书 是 别人 推荐 买来 慢慢 学习",
          "这 本书 细节 很 好 很 适合 入门 人读 有 一定 基础 读 也 能 补漏 一些 没 注意 小 细节 好评",
          "这 本书 讲 特别 实用 简明 易懂 深度 学习 值得 推荐 好 教材",
          "这 本书 讲 特别 实用 简明 易懂 深度 学习 值得 推荐 好 教材",
          "这 本书 是 别人 推荐 买来 慢慢 学习",
          "内容 很 全面 可以 对 神经网络 有个 比较 全面 了解",
          "书本 纸质 特别 好 留白 很多 方便 做 笔记 知识点 详细 全面 配合 一些 视频 来 学习 就 更好 了",
          "这 本书 细节 很 好 很 适合 入门 人读 有 一定 基础 读 也 能 补漏 一些 没 注意 小 细节 好评",
          "这 本书 对 打下 神经网络 学习 基础 非常 有 帮助",
          "内容 很 全面 可以 对 神经网络 有个 比较 全面 了解",
          "书本 纸质 特别 好 留白 很多 方便 做 笔记 知识点 详细 全面 配合 一些 视频 来 学习 就 更好 了",
          "这 本书 细节 很 好 很 适合 入门 人读 有 一定 基础 读 也 能 补漏 一些 没 注意 小 细节 好评",
          null
         ],
         "marker": {
          "opacity": 0.5,
          "size": 5
         },
         "mode": "markers+text",
         "name": "12___",
         "text": [
          "",
          "",
          "",
          "",
          "",
          "",
          "",
          "",
          "",
          "",
          "",
          "",
          "",
          "",
          "",
          "",
          "",
          "",
          "",
          "",
          "",
          "",
          "",
          "",
          "",
          "",
          "",
          "",
          "",
          "",
          "12___"
         ],
         "textfont": {
          "size": 12
         },
         "type": "scattergl",
         "x": [
          0.7687433,
          0.8623003,
          0.84025943,
          0.69023055,
          0.7538242,
          0.8651893,
          0.69318527,
          0.6842525,
          0.8409363,
          0.7013217,
          0.8480045,
          0.73478085,
          0.712089,
          0.78931123,
          0.8784079,
          0.71994555,
          0.8117904,
          0.77997726,
          0.6929314,
          0.7261197,
          0.7261008,
          0.7288743,
          0.7089519,
          0.84917724,
          0.7502834,
          0.72648627,
          0.86929137,
          0.85073614,
          0.74552625,
          0.74245065,
          0.76971596
         ],
         "y": [
          -15.111174,
          -15.018574,
          -15.040474,
          -15.189413,
          -15.125738,
          -15.015784,
          -15.186468,
          -15.195638,
          -15.039835,
          -15.178365,
          -15.032886,
          -15.145069,
          -15.16777,
          -15.090978,
          -15.002628,
          -15.159904,
          -15.0689125,
          -15.100139,
          -15.1867485,
          -15.15363,
          -15.153773,
          -15.150979,
          -15.170766,
          -15.0316725,
          -15.129696,
          -15.153295,
          -15.011635,
          -15.030143,
          -15.134304,
          -15.137403,
          -15.110458
         ]
        },
        {
         "hoverinfo": "text",
         "hovertext": [
          "给 产品 经理 讲 技术 是 我 无视 不多 买 书 纸张 印刷 清晰 里面 内容 翔实 就是 感觉 值得 拥有 里面 内容 解答 了 我 很多 学习 工作 中 困惑",
          "给 产品 经理 讲 技术 是 我 无视 不多 买 书 纸张 印刷 清晰 里面 内容 翔实 就是 感觉 值得 拥有 里面 内容 解答 了 我 很多 学习 工作 中 困惑",
          "双十 一 期间 物流 也 很快 一天 就 到货 了 物流 方面 很快 就 发货 了 没多久 就 收到 书 质量 方面 纸张 还 可以 印刷 字体 清晰 暂时 没有 什么 问题 包装 是 用 一个 箱子 装 再说 东西 跟 描述 一样 可以 看 一下 图片 很 好 价格 也 还好 终于 收到 我 需要 宝贝 了 东西 很 好 说 实在 这是 购物 来 让 我 最 满意 一次 购物 无论是 掌柜的 态度 还是 对 物品 我 都 非常 满意 掌柜 态度 很 专业 热情 有问必答 回复 也 很快 我 问 了 不少 问题 他 都 不 觉得 烦 都 会 认真 回答 我 这点 我 向 掌柜 表示 由衷 敬意 这样 好 掌柜 可不 多 再说 宝贝 正是 我 需要 收到 时候 包装 完整 打开 后 让 我 惊喜 是 宝贝 比 我 想象 中 还要 好 不得不 得 竖起 大拇指 下次 需要 时候 我 还 会 再 来 到时候 麻烦 掌柜 给 个 优惠 哦",
          "买 了 很多 东西 ensp 都 非常 满意 ensp 很 好 卖家 ensp 我会 常来 ensp 现在 满减 活动 非常 实惠 不错 ensp 质量 很 不错 ensp 现在 看 合适 内容 也 很 好 卖家 描述 图片 和 实物 基本上 没有 什么 差异 物流 公司 态度 比较 想象 中要 快太多 早上 下单  没想到 第二天 下午 就 收到 快递 小 哥哥 电话 了 以后 还 需 继续 关注 店长 人 还 不错 好评 ensp 好评",
          "双十 一 期间 物流 也 很快 一天 就 到货 了 物流 方面 很快 就 发货 了 没多久 就 收到 书 质量 方面 纸张 还 可以 印刷 字体 清晰 暂时 没有 什么 问题 包装 是 用 一个 箱子 装 再说 东西 跟 描述 一样 可以 看 一下 图片 很 好 价格 也 还好 终于 收到 我 需要 宝贝 了 东西 很 好 说 实在 这是 购物 来 让 我 最 满意 一次 购物 无论是 掌柜的 态度 还是 对 物品 我 都 非常 满意 掌柜 态度 很 专业 热情 有问必答 回复 也 很快 我 问 了 不少 问题 他 都 不 觉得 烦 都 会 认真 回答 我 这点 我 向 掌柜 表示 由衷 敬意 这样 好 掌柜 可不 多 再说 宝贝 正是 我 需要 收到 时候 包装 完整 打开 后 让 我 惊喜 是 宝贝 比 我 想象 中 还要 好 不得不 得 竖起 大拇指 下次 需要 时候 我 还 会 再 来 到时候 麻烦 掌柜 给 个 优惠 哦",
          "双十 一 期间 物流 也 很快 一天 就 到货 了 物流 方面 很快 就 发货 了 没多久 就 收到 书 质量 方面 纸张 还 可以 印刷 字体 清晰 暂时 没有 什么 问题 包装 是 用 一个 箱子 装 再说 东西 跟 描述 一样 可以 看 一下 图片 很 好 价格 也 还好 终于 收到 我 需要 宝贝 了 东西 很 好 说 实在 这是 购物 来 让 我 最 满意 一次 购物 无论是 掌柜的 态度 还是 对 物品 我 都 非常 满意 掌柜 态度 很 专业 热情 有问必答 回复 也 很快 我 问 了 不少 问题 他 都 不 觉得 烦 都 会 认真 回答 我 这点 我 向 掌柜 表示 由衷 敬意 这样 好 掌柜 可不 多 再说 宝贝 正是 我 需要 收到 时候 包装 完整 打开 后 让 我 惊喜 是 宝贝 比 我 想象 中 还要 好 不得不 得 竖起 大拇指 下次 需要 时候 我 还 会 再 来 到时候 麻烦 掌柜 给 个 优惠 哦",
          "双十 一 期间 物流 也 很快 一天 就 到货 了 物流 方面 很快 就 发货 了 没多久 就 收到 书 质量 方面 纸张 还 可以 印刷 字体 清晰 暂时 没有 什么 问题 包装 是 用 一个 箱子 装 再说 东西 跟 描述 一样 可以 看 一下 图片 很 好 价格 也 还好 终于 收到 我 需要 宝贝 了 东西 很 好 说 实在 这是 购物 来 让 我 最 满意 一次 购物 无论是 掌柜的 态度 还是 对 物品 我 都 非常 满意 掌柜 态度 很 专业 热情 有问必答 回复 也 很快 我 问 了 不少 问题 他 都 不 觉得 烦 都 会 认真 回答 我 这点 我 向 掌柜 表示 由衷 敬意 这样 好 掌柜 可不 多 再说 宝贝 正是 我 需要 收到 时候 包装 完整 打开 后 让 我 惊喜 是 宝贝 比 我 想象 中 还要 好 不得不 得 竖起 大拇指 下次 需要 时候 我 还 会 再 来 到时候 麻烦 掌柜 给 个 优惠 哦",
          "双十 一 期间 物流 也 很快 一天 就 到货 了 物流 方面 很快 就 发货 了 没多久 就 收到 书 质量 方面 纸张 还 可以 印刷 字体 清晰 暂时 没有 什么 问题 包装 是 用 一个 箱子 装 再说 东西 跟 描述 一样 可以 看 一下 图片 很 好 价格 也 还好 终于 收到 我 需要 宝贝 了 东西 很 好 说 实在 这是 购物 来 让 我 最 满意 一次 购物 无论是 掌柜的 态度 还是 对 物品 我 都 非常 满意 掌柜 态度 很 专业 热情 有问必答 回复 也 很快 我 问 了 不少 问题 他 都 不 觉得 烦 都 会 认真 回答 我 这点 我 向 掌柜 表示 由衷 敬意 这样 好 掌柜 可不 多 再说 宝贝 正是 我 需要 收到 时候 包装 完整 打开 后 让 我 惊喜 是 宝贝 比 我 想象 中 还要 好 不得不 得 竖起 大拇指 下次 需要 时候 我 还 会 再 来 到时候 麻烦 掌柜 给 个 优惠 哦",
          "给 产品 经理 讲 技术 是 我 无视 不多 买 书 纸张 印刷 清晰 里面 内容 翔实 就是 感觉 值得 拥有 里面 内容 解答 了 我 很多 学习 工作 中 困惑",
          "质量 很 好 手感 不错 昨天 拍 今天 就 收到 了 神速 啊 我 自己 先 看起来 再 给 孩子 看 质量 很 好 手感 不错 昨天 拍 今天 就 收到 了 神速 啊 我 自己 先 看起来 再 给 孩子 看 质量 很 好 手感 不错 昨天 拍 今天 就 收到 了 神速 啊 我 自己 先 看起来 再 给 孩子 看 质量 很 好 手感 不错 昨天 拍 今天 就 收到 了 神速 啊 我 自己 先 看起来 再 给 孩子 看",
          "双十 一 期间 物流 也 很快 一天 就 到货 了 物流 方面 很快 就 发货 了 没多久 就 收到 书 质量 方面 纸张 还 可以 印刷 字体 清晰 暂时 没有 什么 问题 包装 是 用 一个 箱子 装 再说 东西 跟 描述 一样 可以 看 一下 图片 很 好 价格 也 还好 终于 收到 我 需要 宝贝 了 东西 很 好 说 实在 这是 购物 来 让 我 最 满意 一次 购物 无论是 掌柜的 态度 还是 对 物品 我 都 非常 满意 掌柜 态度 很 专业 热情 有问必答 回复 也 很快 我 问 了 不少 问题 他 都 不 觉得 烦 都 会 认真 回答 我 这点 我 向 掌柜 表示 由衷 敬意 这样 好 掌柜 可不 多 再说 宝贝 正是 我 需要 收到 时候 包装 完整 打开 后 让 我 惊喜 是 宝贝 比 我 想象 中 还要 好 不得不 得 竖起 大拇指 下次 需要 时候 我 还 会 再 来 到时候 麻烦 掌柜 给 个 优惠 哦",
          "给 产品 经理 讲 技术 是 我 无视 不多 买 书 纸张 印刷 清晰 里面 内容 翔实 就是 感觉 值得 拥有 里面 内容 解答 了 我 很多 学习 工作 中 困惑",
          "买 了 很多 东西 ensp 都 非常 满意 ensp 很 好 卖家 ensp 我会 常来 ensp 现在 满减 活动 非常 实惠 不错 ensp 质量 很 不错 ensp 现在 看 合适 内容 也 很 好 卖家 描述 图片 和 实物 基本上 没有 什么 差异 物流 公司 态度 比较 想象 中要 快太多 早上 下单  没想到 第二天 下午 就 收到 快递 小 哥哥 电话 了 以后 还 需 继续 关注 店长 人 还 不错 好评 ensp 好评",
          "质量 很 好 手感 不错 昨天 拍 今天 就 收到 了 神速 啊 我 自己 先 看起来 再 给 孩子 看 质量 很 好 手感 不错 昨天 拍 今天 就 收到 了 神速 啊 我 自己 先 看起来 再 给 孩子 看 质量 很 好 手感 不错 昨天 拍 今天 就 收到 了 神速 啊 我 自己 先 看起来 再 给 孩子 看 质量 很 好 手感 不错 昨天 拍 今天 就 收到 了 神速 啊 我 自己 先 看起来 再 给 孩子 看",
          "双十 一 期间 物流 也 很快 一天 就 到货 了 物流 方面 很快 就 发货 了 没多久 就 收到 书 质量 方面 纸张 还 可以 印刷 字体 清晰 暂时 没有 什么 问题 包装 是 用 一个 箱子 装 再说 东西 跟 描述 一样 可以 看 一下 图片 很 好 价格 也 还好 终于 收到 我 需要 宝贝 了 东西 很 好 说 实在 这是 购物 来 让 我 最 满意 一次 购物 无论是 掌柜的 态度 还是 对 物品 我 都 非常 满意 掌柜 态度 很 专业 热情 有问必答 回复 也 很快 我 问 了 不少 问题 他 都 不 觉得 烦 都 会 认真 回答 我 这点 我 向 掌柜 表示 由衷 敬意 这样 好 掌柜 可不 多 再说 宝贝 正是 我 需要 收到 时候 包装 完整 打开 后 让 我 惊喜 是 宝贝 比 我 想象 中 还要 好 不得不 得 竖起 大拇指 下次 需要 时候 我 还 会 再 来 到时候 麻烦 掌柜 给 个 优惠 哦",
          "买 了 很多 东西 ensp 都 非常 满意 ensp 很 好 卖家 ensp 我会 常来 ensp 现在 满减 活动 非常 实惠 不错 ensp 质量 很 不错 ensp 现在 看 合适 内容 也 很 好 卖家 描述 图片 和 实物 基本上 没有 什么 差异 物流 公司 态度 比较 想象 中要 快太多 早上 下单  没想到 第二天 下午 就 收到 快递 小 哥哥 电话 了 以后 还 需 继续 关注 店长 人 还 不错 好评 ensp 好评",
          "买 了 很多 东西 ensp 都 非常 满意 ensp 很 好 卖家 ensp 我会 常来 ensp 现在 满减 活动 非常 实惠 不错 ensp 质量 很 不错 ensp 现在 看 合适 内容 也 很 好 卖家 描述 图片 和 实物 基本上 没有 什么 差异 物流 公司 态度 比较 想象 中要 快太多 早上 下单  没想到 第二天 下午 就 收到 快递 小 哥哥 电话 了 以后 还 需 继续 关注 店长 人 还 不错 好评 ensp 好评",
          "质量 很 好 手感 不错 昨天 拍 今天 就 收到 了 神速 啊 我 自己 先 看起来 再 给 孩子 看 质量 很 好 手感 不错 昨天 拍 今天 就 收到 了 神速 啊 我 自己 先 看起来 再 给 孩子 看 质量 很 好 手感 不错 昨天 拍 今天 就 收到 了 神速 啊 我 自己 先 看起来 再 给 孩子 看 质量 很 好 手感 不错 昨天 拍 今天 就 收到 了 神速 啊 我 自己 先 看起来 再 给 孩子 看",
          "纸张 质量 不错 东西 好 便宜 质量 出乎意料 好 下次 还会来 ~ 有 新货 了 记得 通知 我 好 卖家 会 继续 关注",
          "纸张 质量 不错 东西 好 便宜 质量 出乎意料 好 下次 还会来 ~ 有 新货 了 记得 通知 我 好 卖家 会 继续 关注",
          "质量 很 好 手感 不错 昨天 拍 今天 就 收到 了 神速 啊 我 自己 先 看起来 再 给 孩子 看 质量 很 好 手感 不错 昨天 拍 今天 就 收到 了 神速 啊 我 自己 先 看起来 再 给 孩子 看 质量 很 好 手感 不错 昨天 拍 今天 就 收到 了 神速 啊 我 自己 先 看起来 再 给 孩子 看 质量 很 好 手感 不错 昨天 拍 今天 就 收到 了 神速 啊 我 自己 先 看起来 再 给 孩子 看",
          "纸张 质量 不错 东西 好 便宜 质量 出乎意料 好 下次 还会来 ~ 有 新货 了 记得 通知 我 好 卖家 会 继续 关注",
          "给 产品 经理 讲 技术 是 我 无视 不多 买 书 纸张 印刷 清晰 里面 内容 翔实 就是 感觉 值得 拥有 里面 内容 解答 了 我 很多 学习 工作 中 困惑",
          "纸张 质量 不错 东西 好 便宜 质量 出乎意料 好 下次 还会来 ~ 有 新货 了 记得 通知 我 好 卖家 会 继续 关注",
          "买 了 很多 东西 ensp 都 非常 满意 ensp 很 好 卖家 ensp 我会 常来 ensp 现在 满减 活动 非常 实惠 不错 ensp 质量 很 不错 ensp 现在 看 合适 内容 也 很 好 卖家 描述 图片 和 实物 基本上 没有 什么 差异 物流 公司 态度 比较 想象 中要 快太多 早上 下单  没想到 第二天 下午 就 收到 快递 小 哥哥 电话 了 以后 还 需 继续 关注 店长 人 还 不错 好评 ensp 好评",
          "质量 很 好 手感 不错 昨天 拍 今天 就 收到 了 神速 啊 我 自己 先 看起来 再 给 孩子 看 质量 很 好 手感 不错 昨天 拍 今天 就 收到 了 神速 啊 我 自己 先 看起来 再 给 孩子 看 质量 很 好 手感 不错 昨天 拍 今天 就 收到 了 神速 啊 我 自己 先 看起来 再 给 孩子 看 质量 很 好 手感 不错 昨天 拍 今天 就 收到 了 神速 啊 我 自己 先 看起来 再 给 孩子 看",
          "纸张 质量 不错 东西 好 便宜 质量 出乎意料 好 下次 还会来 ~ 有 新货 了 记得 通知 我 好 卖家 会 继续 关注",
          "双十 一 期间 物流 也 很快 一天 就 到货 了 物流 方面 很快 就 发货 了 没多久 就 收到 书 质量 方面 纸张 还 可以 印刷 字体 清晰 暂时 没有 什么 问题 包装 是 用 一个 箱子 装 再说 东西 跟 描述 一样 可以 看 一下 图片 很 好 价格 也 还好 终于 收到 我 需要 宝贝 了 东西 很 好 说 实在 这是 购物 来 让 我 最 满意 一次 购物 无论是 掌柜的 态度 还是 对 物品 我 都 非常 满意 掌柜 态度 很 专业 热情 有问必答 回复 也 很快 我 问 了 不少 问题 他 都 不 觉得 烦 都 会 认真 回答 我 这点 我 向 掌柜 表示 由衷 敬意 这样 好 掌柜 可不 多 再说 宝贝 正是 我 需要 收到 时候 包装 完整 打开 后 让 我 惊喜 是 宝贝 比 我 想象 中 还要 好 不得不 得 竖起 大拇指 下次 需要 时候 我 还 会 再 来 到时候 麻烦 掌柜 给 个 优惠 哦",
          "双十 一 期间 物流 也 很快 一天 就 到货 了 物流 方面 很快 就 发货 了 没多久 就 收到 书 质量 方面 纸张 还 可以 印刷 字体 清晰 暂时 没有 什么 问题 包装 是 用 一个 箱子 装 再说 东西 跟 描述 一样 可以 看 一下 图片 很 好 价格 也 还好 终于 收到 我 需要 宝贝 了 东西 很 好 说 实在 这是 购物 来 让 我 最 满意 一次 购物 无论是 掌柜的 态度 还是 对 物品 我 都 非常 满意 掌柜 态度 很 专业 热情 有问必答 回复 也 很快 我 问 了 不少 问题 他 都 不 觉得 烦 都 会 认真 回答 我 这点 我 向 掌柜 表示 由衷 敬意 这样 好 掌柜 可不 多 再说 宝贝 正是 我 需要 收到 时候 包装 完整 打开 后 让 我 惊喜 是 宝贝 比 我 想象 中 还要 好 不得不 得 竖起 大拇指 下次 需要 时候 我 还 会 再 来 到时候 麻烦 掌柜 给 个 优惠 哦",
          null
         ],
         "marker": {
          "opacity": 0.5,
          "size": 5
         },
         "mode": "markers+text",
         "name": "13_ensp__",
         "text": [
          "",
          "",
          "",
          "",
          "",
          "",
          "",
          "",
          "",
          "",
          "",
          "",
          "",
          "",
          "",
          "",
          "",
          "",
          "",
          "",
          "",
          "",
          "",
          "",
          "",
          "",
          "",
          "",
          "",
          "13_ensp__"
         ],
         "textfont": {
          "size": 12
         },
         "type": "scattergl",
         "x": [
          -1.9786239,
          -1.9861051,
          -2.077089,
          -2.17994,
          -2.0386617,
          -2.0272615,
          -2.043796,
          -2.0039182,
          -1.9748393,
          -2.2372303,
          -2.1040564,
          -1.9854302,
          -2.1970415,
          -2.200904,
          -2.0119147,
          -2.231452,
          -2.1904857,
          -2.2112174,
          -2.0054543,
          -1.9440302,
          -2.237015,
          -1.9764314,
          -2.016613,
          -2.0237267,
          -2.175463,
          -2.200359,
          -2.0471933,
          -2.0535257,
          -2.0411777,
          -2.0827918
         ],
         "y": [
          26.218626,
          26.211185,
          26.120056,
          26.017008,
          26.158321,
          26.169891,
          26.153322,
          26.19314,
          26.222458,
          25.95965,
          26.092962,
          26.212784,
          25.999989,
          25.996017,
          26.185242,
          25.968557,
          26.00641,
          25.985708,
          26.191391,
          26.253834,
          25.959852,
          26.220768,
          26.180525,
          26.173264,
          26.021511,
          25.99667,
          26.14983,
          26.143644,
          26.155905,
          26.11443
         ]
        },
        {
         "hoverinfo": "text",
         "hovertext": [
          "次性 买 了 十几 本书 速度 很快 物流 很快 打开 看看 书 包装 很 好 都 有 塑料膜 封装 正版 无疑 虽然 价格 不 便宜 但是 一定 支持 正版 十几本 不是 自己 看 自己 也 看 不了 是 好多 人一 起买 因为 时间 关系 也 没 赶 上 活动 感谢 京东",
          "次性 买 了 十几 本书 速度 很快 物流 很快 打开 看看 书 包装 很 好 都 有 塑料膜 封装 正版 无疑 虽然 价格 不 便宜 但是 一定 支持 正版 十几本 不是 自己 看 自己 也 看 不了 是 好多 人一 起买 因为 时间 关系 也 没 赶 上 活动 感谢 京东",
          "应该 是 正品 书 质量 和 出版社 都 是 和文 轩 书店 一样 而且 在 内容 安排 和 页数 上 也 是 对 内容 也 没有 删减 京东 现在 买书 都 很 方便 而且 性价比 也 很 高",
          "次性 买 了 十几 本书 速度 很快 物流 很快 打开 看看 书 包装 很 好 都 有 塑料膜 封装 正版 无疑 虽然 价格 不 便宜 但是 一定 支持 正版 十几本 不是 自己 看 自己 也 看 不了 是 好多 人一 起买 因为 时间 关系 也 没 赶 上 活动 感谢 京东",
          "发货 速度 很快 毕竟 自营 但是 快递 包装 很破 是 用 3 个 纸板 拼出来  有无 塑封 有 每 本书 单独 有 塑封  印刷 质量 没有 问题  纸张 质量 没有 问题  内容 影印版 需要 有 英语 基础",
          "应该 是 正品 书 质量 和 出版社 都 是 和文 轩 书店 一样 而且 在 内容 安排 和 页数 上 也 是 对 内容 也 没有 删减 京东 现在 买书 都 很 方便 而且 性价比 也 很 高",
          "纸质 不太好 其他 还好 吧 hellip hellip 反正 这书 怎么 看 排版 和 印刷 都 有点 随意 hellip hellip 至于 内容 看过 之后 再 来 评价 吧 hellip hellip 京东 快递 很 给 力 小哥 服务 很 好 很快 非常 好 在 京东 买 东西 现在 并 不是 图 便宜 而是 图 快捷 安全 方便 现在 正版书 出版 怎么 越来越 接近 盗版 了 呢",
          "纸质 不太好 其他 还好 吧 hellip hellip 反正 这书 怎么 看 排版 和 印刷 都 有点 随意 hellip hellip 至于 内容 看过 之后 再 来 评价 吧 hellip hellip 京东 快递 很 给 力 小哥 服务 很 好 很快 非常 好 在 京东 买 东西 现在 并 不是 图 便宜 而是 图 快捷 安全 方便 现在 正版书 出版 怎么 越来越 接近 盗版 了 呢",
          "次性 买 了 十几 本书 速度 很快 物流 很快 打开 看看 书 包装 很 好 都 有 塑料膜 封装 正版 无疑 虽然 价格 不 便宜 但是 一定 支持 正版 十几本 不是 自己 看 自己 也 看 不了 是 好多 人一 起买 因为 时间 关系 也 没 赶 上 活动 感谢 京东",
          "纸质 不太好 其他 还好 吧 hellip hellip 反正 这书 怎么 看 排版 和 印刷 都 有点 随意 hellip hellip 至于 内容 看过 之后 再 来 评价 吧 hellip hellip 京东 快递 很 给 力 小哥 服务 很 好 很快 非常 好 在 京东 买 东西 现在 并 不是 图 便宜 而是 图 快捷 安全 方便 现在 正版书 出版 怎么 越来越 接近 盗版 了 呢",
          "发货 速度 很快 毕竟 自营 但是 快递 包装 很破 是 用 3 个 纸板 拼出来  有无 塑封 有 每 本书 单独 有 塑封  印刷 质量 没有 问题  纸张 质量 没有 问题  内容 影印版 需要 有 英语 基础",
          "次性 买 了 十几 本书 速度 很快 物流 很快 打开 看看 书 包装 很 好 都 有 塑料膜 封装 正版 无疑 虽然 价格 不 便宜 但是 一定 支持 正版 十几本 不是 自己 看 自己 也 看 不了 是 好多 人一 起买 因为 时间 关系 也 没 赶 上 活动 感谢 京东",
          "纸质 不太好 其他 还好 吧 hellip hellip 反正 这书 怎么 看 排版 和 印刷 都 有点 随意 hellip hellip 至于 内容 看过 之后 再 来 评价 吧 hellip hellip 京东 快递 很 给 力 小哥 服务 很 好 很快 非常 好 在 京东 买 东西 现在 并 不是 图 便宜 而是 图 快捷 安全 方便 现在 正版书 出版 怎么 越来越 接近 盗版 了 呢",
          "次性 买 了 十几 本书 速度 很快 物流 很快 打开 看看 书 包装 很 好 都 有 塑料膜 封装 正版 无疑 虽然 价格 不 便宜 但是 一定 支持 正版 十几本 不是 自己 看 自己 也 看 不了 是 好多 人一 起买 因为 时间 关系 也 没 赶 上 活动 感谢 京东",
          "次性 买 了 十几 本书 速度 很快 物流 很快 打开 看看 书 包装 很 好 都 有 塑料膜 封装 正版 无疑 虽然 价格 不 便宜 但是 一定 支持 正版 十几本 不是 自己 看 自己 也 看 不了 是 好多 人一 起买 因为 时间 关系 也 没 赶 上 活动 感谢 京东",
          "次性 买 了 十几 本书 速度 很快 物流 很快 打开 看看 书 包装 很 好 都 有 塑料膜 封装 正版 无疑 虽然 价格 不 便宜 但是 一定 支持 正版 十几本 不是 自己 看 自己 也 看 不了 是 好多 人一 起买 因为 时间 关系 也 没 赶 上 活动 感谢 京东",
          "次性 买 了 十几 本书 速度 很快 物流 很快 打开 看看 书 包装 很 好 都 有 塑料膜 封装 正版 无疑 虽然 价格 不 便宜 但是 一定 支持 正版 十几本 不是 自己 看 自己 也 看 不了 是 好多 人一 起买 因为 时间 关系 也 没 赶 上 活动 感谢 京东",
          "次性 买 了 十几 本书 速度 很快 物流 很快 打开 看看 书 包装 很 好 都 有 塑料膜 封装 正版 无疑 虽然 价格 不 便宜 但是 一定 支持 正版 十几本 不是 自己 看 自己 也 看 不了 是 好多 人一 起买 因为 时间 关系 也 没 赶 上 活动 感谢 京东",
          "次性 买 了 十几 本书 速度 很快 物流 很快 打开 看看 书 包装 很 好 都 有 塑料膜 封装 正版 无疑 虽然 价格 不 便宜 但是 一定 支持 正版 十几本 不是 自己 看 自己 也 看 不了 是 好多 人一 起买 因为 时间 关系 也 没 赶 上 活动 感谢 京东",
          "次性 买 了 十几 本书 速度 很快 物流 很快 打开 看看 书 包装 很 好 都 有 塑料膜 封装 正版 无疑 虽然 价格 不 便宜 但是 一定 支持 正版 十几本 不是 自己 看 自己 也 看 不了 是 好多 人一 起买 因为 时间 关系 也 没 赶 上 活动 感谢 京东",
          "发货 速度 很快 毕竟 自营 但是 快递 包装 很破 是 用 3 个 纸板 拼出来  有无 塑封 有 每 本书 单独 有 塑封  印刷 质量 没有 问题  纸张 质量 没有 问题  内容 影印版 需要 有 英语 基础",
          "次性 买 了 十几 本书 速度 很快 物流 很快 打开 看看 书 包装 很 好 都 有 塑料膜 封装 正版 无疑 虽然 价格 不 便宜 但是 一定 支持 正版 十几本 不是 自己 看 自己 也 看 不了 是 好多 人一 起买 因为 时间 关系 也 没 赶 上 活动 感谢 京东",
          "纸质 不太好 其他 还好 吧 hellip hellip 反正 这书 怎么 看 排版 和 印刷 都 有点 随意 hellip hellip 至于 内容 看过 之后 再 来 评价 吧 hellip hellip 京东 快递 很 给 力 小哥 服务 很 好 很快 非常 好 在 京东 买 东西 现在 并 不是 图 便宜 而是 图 快捷 安全 方便 现在 正版书 出版 怎么 越来越 接近 盗版 了 呢",
          "发货 速度 很快 毕竟 自营 但是 快递 包装 很破 是 用 3 个 纸板 拼出来  有无 塑封 有 每 本书 单独 有 塑封  印刷 质量 没有 问题  纸张 质量 没有 问题  内容 影印版 需要 有 英语 基础",
          "次性 买 了 十几 本书 速度 很快 物流 很快 打开 看看 书 包装 很 好 都 有 塑料膜 封装 正版 无疑 虽然 价格 不 便宜 但是 一定 支持 正版 十几本 不是 自己 看 自己 也 看 不了 是 好多 人一 起买 因为 时间 关系 也 没 赶 上 活动 感谢 京东",
          "次性 买 了 十几 本书 速度 很快 物流 很快 打开 看看 书 包装 很 好 都 有 塑料膜 封装 正版 无疑 虽然 价格 不 便宜 但是 一定 支持 正版 十几本 不是 自己 看 自己 也 看 不了 是 好多 人一 起买 因为 时间 关系 也 没 赶 上 活动 感谢 京东",
          "发货 速度 很快 毕竟 自营 但是 快递 包装 很破 是 用 3 个 纸板 拼出来  有无 塑封 有 每 本书 单独 有 塑封  印刷 质量 没有 问题  纸张 质量 没有 问题  内容 影印版 需要 有 英语 基础",
          null
         ],
         "marker": {
          "opacity": 0.5,
          "size": 5
         },
         "mode": "markers+text",
         "name": "14_hellip__",
         "text": [
          "",
          "",
          "",
          "",
          "",
          "",
          "",
          "",
          "",
          "",
          "",
          "",
          "",
          "",
          "",
          "",
          "",
          "",
          "",
          "",
          "",
          "",
          "",
          "",
          "",
          "",
          "",
          "14_hellip__"
         ],
         "textfont": {
          "size": 12
         },
         "type": "scattergl",
         "x": [
          -13.197696,
          -13.316922,
          -13.099076,
          -13.274216,
          -13.367707,
          -13.106078,
          -13.129827,
          -13.137163,
          -13.254957,
          -13.131467,
          -13.349444,
          -13.2829895,
          -13.138703,
          -13.306498,
          -13.235948,
          -13.231055,
          -13.29904,
          -13.241599,
          -13.229089,
          -13.323299,
          -13.318755,
          -13.275734,
          -13.15039,
          -13.337619,
          -13.272745,
          -13.306673,
          -13.332544,
          -13.246193
         ],
         "y": [
          11.63588,
          11.755318,
          11.536764,
          11.712529,
          11.806261,
          11.543881,
          11.567604,
          11.57507,
          11.693199,
          11.569189,
          11.78817,
          11.721455,
          11.576579,
          11.744863,
          11.674088,
          11.669078,
          11.737476,
          11.679697,
          11.667092,
          11.761866,
          11.757225,
          11.714069,
          11.588281,
          11.77624,
          11.710594,
          11.745064,
          11.7711115,
          11.684396
         ]
        },
        {
         "hoverinfo": "text",
         "hovertext": [
          "书 内容 真的 很 不错",
          "深度 学习 经典",
          "经典 图书 收获 非常 大",
          "深度 学习 经典",
          "非常 好 书 内容 很 丰富",
          "深度 学习 经典",
          "书 内容 真的 很 不错",
          "非常 好 书 内容 很 丰富",
          "书 内容 真的 很 不错",
          "非常 好 书 内容 很 丰富",
          "经典 好书 包装 精美 爱不释手",
          "经典 图书 收获 非常 大",
          "经典 图书 收获 非常 大",
          "非常 好 书 内容 很 丰富",
          "经典 图书 收获 非常 大",
          "经典 好书 包装 精美 爱不释手",
          "经典 好书 包装 精美 爱不释手",
          "深度 学习 经典",
          "非常 好 书 内容 很 丰富",
          "经典 好书 包装 精美 爱不释手",
          "经典 图书 收获 非常 大",
          "经典 好书 包装 精美 爱不释手",
          "书 内容 真的 很 不错",
          "深度 学习 经典",
          "书 内容 真的 很 不错",
          null
         ],
         "marker": {
          "opacity": 0.5,
          "size": 5
         },
         "mode": "markers+text",
         "name": "15___",
         "text": [
          "",
          "",
          "",
          "",
          "",
          "",
          "",
          "",
          "",
          "",
          "",
          "",
          "",
          "",
          "",
          "",
          "",
          "",
          "",
          "",
          "",
          "",
          "",
          "",
          "",
          "15___"
         ],
         "textfont": {
          "size": 12
         },
         "type": "scattergl",
         "x": [
          6.279136,
          6.430951,
          6.3881397,
          6.400291,
          6.3112907,
          6.4198456,
          6.2803116,
          6.327327,
          6.2621703,
          6.2932434,
          6.392242,
          6.3945217,
          6.3694844,
          6.337869,
          6.39638,
          6.412008,
          6.394706,
          6.3930397,
          6.258643,
          6.401474,
          6.3944697,
          6.427644,
          6.280859,
          6.448273,
          6.284642,
          6.3591576
         ],
         "y": [
          -20.344719,
          -20.192932,
          -20.235813,
          -20.223608,
          -20.312654,
          -20.204031,
          -20.343596,
          -20.296717,
          -20.36173,
          -20.33072,
          -20.231758,
          -20.229414,
          -20.25445,
          -20.286049,
          -20.227592,
          -20.211884,
          -20.229265,
          -20.23093,
          -20.365318,
          -20.222445,
          -20.22946,
          -20.196325,
          -20.343021,
          -20.175592,
          -20.33925,
          -20.264772
         ]
        },
        {
         "hoverinfo": "text",
         "hovertext": [
          "西瓜 书 已经 在 看 了 一眼 正品 大吉大利 最近 吃瓜",
          "特别 好 一 本书 我 买 了 以后 当做 小说 读 吃饭 睡觉 前 连坐 上 厕所 都 爱不释手 作者 把 机器 学习 写 这么 生动活泼 真是 让 人 理解 起来 一点 都 不 费力 因为 读得 太 投入 连 做梦 都 能 到 自己 成 了 机器 学习 程序 猿 高手 了 很 好奇 作者 是 个 怎样 人 一定 是 个 很 幽默 风趣 高雅 攻城 狮 我 仔细 端详 了 作者 肖像画 感觉 似曾相识 画像 上 音容 样貌 就 跟 我们 身边 你 我 他 那样 真实 学习 完 这门书 我 觉得 我 去 面试 AI 公司 胸有成竹 了 祝 我 早日 拿到 理想 工作岗位",
          "自营 速度 没 说 昨晚 10 20 下单 今天 中午 到 这 本书 很 不错 是 我 一直 想 买 机器 学习 这块 本来 就 很 枯燥 看 西瓜 书太 痛苦 了 所以 看上 了 这 一本 书中 很多 插图 形象 直观 文字描述 也 很 有意思 读 起来 很 有 趣味 很 满意",
          "西瓜 书 已经 在 看 了 一眼 正品 大吉大利 最近 吃瓜",
          "自营 速度 没 说 昨晚 10 20 下单 今天 中午 到 这 本书 很 不错 是 我 一直 想 买 机器 学习 这块 本来 就 很 枯燥 看 西瓜 书太 痛苦 了 所以 看上 了 这 一本 书中 很多 插图 形象 直观 文字描述 也 很 有意思 读 起来 很 有 趣味 很 满意",
          "自营 速度 没 说 昨晚 10 20 下单 今天 中午 到 这 本书 很 不错 是 我 一直 想 买 机器 学习 这块 本来 就 很 枯燥 看 西瓜 书太 痛苦 了 所以 看上 了 这 一本 书中 很多 插图 形象 直观 文字描述 也 很 有意思 读 起来 很 有 趣味 很 满意",
          "特别 好 一 本书 我 买 了 以后 当做 小说 读 吃饭 睡觉 前 连坐 上 厕所 都 爱不释手 作者 把 机器 学习 写 这么 生动活泼 真是 让 人 理解 起来 一点 都 不 费力 因为 读得 太 投入 连 做梦 都 能 到 自己 成 了 机器 学习 程序 猿 高手 了 很 好奇 作者 是 个 怎样 人 一定 是 个 很 幽默 风趣 高雅 攻城 狮 我 仔细 端详 了 作者 肖像画 感觉 似曾相识 画像 上 音容 样貌 就 跟 我们 身边 你 我 他 那样 真实 学习 完 这门书 我 觉得 我 去 面试 AI 公司 胸有成竹 了 祝 我 早日 拿到 理想 工作岗位",
          "特别 好 一 本书 我 买 了 以后 当做 小说 读 吃饭 睡觉 前 连坐 上 厕所 都 爱不释手 作者 把 机器 学习 写 这么 生动活泼 真是 让 人 理解 起来 一点 都 不 费力 因为 读得 太 投入 连 做梦 都 能 到 自己 成 了 机器 学习 程序 猿 高手 了 很 好奇 作者 是 个 怎样 人 一定 是 个 很 幽默 风趣 高雅 攻城 狮 我 仔细 端详 了 作者 肖像画 感觉 似曾相识 画像 上 音容 样貌 就 跟 我们 身边 你 我 他 那样 真实 学习 完 这门书 我 觉得 我 去 面试 AI 公司 胸有成竹 了 祝 我 早日 拿到 理想 工作岗位",
          "自营 速度 没 说 昨晚 10 20 下单 今天 中午 到 这 本书 很 不错 是 我 一直 想 买 机器 学习 这块 本来 就 很 枯燥 看 西瓜 书太 痛苦 了 所以 看上 了 这 一本 书中 很多 插图 形象 直观 文字描述 也 很 有意思 读 起来 很 有 趣味 很 满意",
          "西瓜 书 已经 在 看 了 一眼 正品 大吉大利 最近 吃瓜",
          "西瓜 书 已经 在 看 了 一眼 正品 大吉大利 最近 吃瓜",
          "特别 好 一 本书 我 买 了 以后 当做 小说 读 吃饭 睡觉 前 连坐 上 厕所 都 爱不释手 作者 把 机器 学习 写 这么 生动活泼 真是 让 人 理解 起来 一点 都 不 费力 因为 读得 太 投入 连 做梦 都 能 到 自己 成 了 机器 学习 程序 猿 高手 了 很 好奇 作者 是 个 怎样 人 一定 是 个 很 幽默 风趣 高雅 攻城 狮 我 仔细 端详 了 作者 肖像画 感觉 似曾相识 画像 上 音容 样貌 就 跟 我们 身边 你 我 他 那样 真实 学习 完 这门书 我 觉得 我 去 面试 AI 公司 胸有成竹 了 祝 我 早日 拿到 理想 工作岗位",
          "特别 好 一 本书 我 买 了 以后 当做 小说 读 吃饭 睡觉 前 连坐 上 厕所 都 爱不释手 作者 把 机器 学习 写 这么 生动活泼 真是 让 人 理解 起来 一点 都 不 费力 因为 读得 太 投入 连 做梦 都 能 到 自己 成 了 机器 学习 程序 猿 高手 了 很 好奇 作者 是 个 怎样 人 一定 是 个 很 幽默 风趣 高雅 攻城 狮 我 仔细 端详 了 作者 肖像画 感觉 似曾相识 画像 上 音容 样貌 就 跟 我们 身边 你 我 他 那样 真实 学习 完 这门书 我 觉得 我 去 面试 AI 公司 胸有成竹 了 祝 我 早日 拿到 理想 工作岗位",
          "自营 速度 没 说 昨晚 10 20 下单 今天 中午 到 这 本书 很 不错 是 我 一直 想 买 机器 学习 这块 本来 就 很 枯燥 看 西瓜 书太 痛苦 了 所以 看上 了 这 一本 书中 很多 插图 形象 直观 文字描述 也 很 有意思 读 起来 很 有 趣味 很 满意",
          "特别 好 一 本书 我 买 了 以后 当做 小说 读 吃饭 睡觉 前 连坐 上 厕所 都 爱不释手 作者 把 机器 学习 写 这么 生动活泼 真是 让 人 理解 起来 一点 都 不 费力 因为 读得 太 投入 连 做梦 都 能 到 自己 成 了 机器 学习 程序 猿 高手 了 很 好奇 作者 是 个 怎样 人 一定 是 个 很 幽默 风趣 高雅 攻城 狮 我 仔细 端详 了 作者 肖像画 感觉 似曾相识 画像 上 音容 样貌 就 跟 我们 身边 你 我 他 那样 真实 学习 完 这门书 我 觉得 我 去 面试 AI 公司 胸有成竹 了 祝 我 早日 拿到 理想 工作岗位",
          "西瓜 书 已经 在 看 了 一眼 正品 大吉大利 最近 吃瓜",
          "西瓜 书 已经 在 看 了 一眼 正品 大吉大利 最近 吃瓜",
          "西瓜 书 已经 在 看 了 一眼 正品 大吉大利 最近 吃瓜",
          "西瓜 书 已经 在 看 了 一眼 正品 大吉大利 最近 吃瓜",
          "特别 好 一 本书 我 买 了 以后 当做 小说 读 吃饭 睡觉 前 连坐 上 厕所 都 爱不释手 作者 把 机器 学习 写 这么 生动活泼 真是 让 人 理解 起来 一点 都 不 费力 因为 读得 太 投入 连 做梦 都 能 到 自己 成 了 机器 学习 程序 猿 高手 了 很 好奇 作者 是 个 怎样 人 一定 是 个 很 幽默 风趣 高雅 攻城 狮 我 仔细 端详 了 作者 肖像画 感觉 似曾相识 画像 上 音容 样貌 就 跟 我们 身边 你 我 他 那样 真实 学习 完 这门书 我 觉得 我 去 面试 AI 公司 胸有成竹 了 祝 我 早日 拿到 理想 工作岗位",
          "西瓜 书 已经 在 看 了 一眼 正品 大吉大利 最近 吃瓜",
          "西瓜 书 已经 在 看 了 一眼 正品 大吉大利 最近 吃瓜",
          "特别 好 一 本书 我 买 了 以后 当做 小说 读 吃饭 睡觉 前 连坐 上 厕所 都 爱不释手 作者 把 机器 学习 写 这么 生动活泼 真是 让 人 理解 起来 一点 都 不 费力 因为 读得 太 投入 连 做梦 都 能 到 自己 成 了 机器 学习 程序 猿 高手 了 很 好奇 作者 是 个 怎样 人 一定 是 个 很 幽默 风趣 高雅 攻城 狮 我 仔细 端详 了 作者 肖像画 感觉 似曾相识 画像 上 音容 样貌 就 跟 我们 身边 你 我 他 那样 真实 学习 完 这门书 我 觉得 我 去 面试 AI 公司 胸有成竹 了 祝 我 早日 拿到 理想 工作岗位",
          "特别 好 一 本书 我 买 了 以后 当做 小说 读 吃饭 睡觉 前 连坐 上 厕所 都 爱不释手 作者 把 机器 学习 写 这么 生动活泼 真是 让 人 理解 起来 一点 都 不 费力 因为 读得 太 投入 连 做梦 都 能 到 自己 成 了 机器 学习 程序 猿 高手 了 很 好奇 作者 是 个 怎样 人 一定 是 个 很 幽默 风趣 高雅 攻城 狮 我 仔细 端详 了 作者 肖像画 感觉 似曾相识 画像 上 音容 样貌 就 跟 我们 身边 你 我 他 那样 真实 学习 完 这门书 我 觉得 我 去 面试 AI 公司 胸有成竹 了 祝 我 早日 拿到 理想 工作岗位",
          "特别 好 一 本书 我 买 了 以后 当做 小说 读 吃饭 睡觉 前 连坐 上 厕所 都 爱不释手 作者 把 机器 学习 写 这么 生动活泼 真是 让 人 理解 起来 一点 都 不 费力 因为 读得 太 投入 连 做梦 都 能 到 自己 成 了 机器 学习 程序 猿 高手 了 很 好奇 作者 是 个 怎样 人 一定 是 个 很 幽默 风趣 高雅 攻城 狮 我 仔细 端详 了 作者 肖像画 感觉 似曾相识 画像 上 音容 样貌 就 跟 我们 身边 你 我 他 那样 真实 学习 完 这门书 我 觉得 我 去 面试 AI 公司 胸有成竹 了 祝 我 早日 拿到 理想 工作岗位",
          null
         ],
         "marker": {
          "opacity": 0.5,
          "size": 5
         },
         "mode": "markers+text",
         "name": "16_ai_10_20",
         "text": [
          "",
          "",
          "",
          "",
          "",
          "",
          "",
          "",
          "",
          "",
          "",
          "",
          "",
          "",
          "",
          "",
          "",
          "",
          "",
          "",
          "",
          "",
          "",
          "",
          "",
          "16_ai_10_20"
         ],
         "textfont": {
          "size": 12
         },
         "type": "scattergl",
         "x": [
          18.203558,
          -1.0582675,
          -5.905417,
          18.203476,
          -5.9161687,
          -5.903884,
          -1.0569717,
          -1.054423,
          -5.9183717,
          18.203503,
          18.203508,
          -1.0569707,
          -1.0582118,
          -5.911447,
          -1.0573806,
          18.203472,
          18.203484,
          18.203526,
          18.20354,
          -1.0571675,
          18.20349,
          18.203562,
          -1.0616473,
          -1.0569882,
          -1.0577167,
          5.6761627
         ],
         "y": [
          10.04328,
          6.08777,
          -2.9041,
          10.04331,
          -2.895485,
          -2.9063833,
          6.0868845,
          6.0861673,
          -2.8934648,
          10.043348,
          10.043311,
          6.086857,
          6.087336,
          -2.8989427,
          6.087023,
          10.043336,
          10.043275,
          10.043275,
          10.0432415,
          6.086946,
          10.043298,
          10.043261,
          6.088581,
          6.086863,
          6.08718,
          5.8722467
         ]
        },
        {
         "hoverinfo": "text",
         "hovertext": [
          "很 有用 一 本书 正在 学习 书 质量 很 好",
          "还 没 看 书 质量 很 好 以后 再 仔细阅读",
          "书 质量 很 好 学习 中",
          "书 质量 很 好 学习 中",
          "您 没有 填写内容 默认 好评",
          "书 质量 很 好 学习 中",
          "还 没 看 书 质量 很 好 以后 再 仔细阅读",
          "还 没 看 书 质量 很 好 以后 再 仔细阅读",
          "书 质量 很 好 学习 中",
          "蛮 好 一 本书 利用 深度 学习 处理 自然语言 入门 参考 值得一看",
          "书 质量 很 好 学习 中",
          "您 没有 填写内容 默认 好评",
          "蛮 好 一 本书 利用 深度 学习 处理 自然语言 入门 参考 值得一看",
          "蛮 好 一 本书 利用 深度 学习 处理 自然语言 入门 参考 值得一看",
          "蛮 好 一 本书 利用 深度 学习 处理 自然语言 入门 参考 值得一看",
          "蛮 好 一 本书 利用 深度 学习 处理 自然语言 入门 参考 值得一看",
          "您 没有 填写内容 默认 好评",
          "您 没有 填写内容 默认 好评",
          "很 有用 一 本书 正在 学习 书 质量 很 好",
          "还 没 看 书 质量 很 好 以后 再 仔细阅读",
          "很 有用 一 本书 正在 学习 书 质量 很 好",
          "很 有用 一 本书 正在 学习 书 质量 很 好",
          "还 没 看 书 质量 很 好 以后 再 仔细阅读",
          "您 没有 填写内容 默认 好评",
          "很 有用 一 本书 正在 学习 书 质量 很 好",
          null
         ],
         "marker": {
          "opacity": 0.5,
          "size": 5
         },
         "mode": "markers+text",
         "name": "17___",
         "text": [
          "",
          "",
          "",
          "",
          "",
          "",
          "",
          "",
          "",
          "",
          "",
          "",
          "",
          "",
          "",
          "",
          "",
          "",
          "",
          "",
          "",
          "",
          "",
          "",
          "",
          "17___"
         ],
         "textfont": {
          "size": 12
         },
         "type": "scattergl",
         "x": [
          -0.48799205,
          -0.55845875,
          -0.47550014,
          -0.46905962,
          -0.5959997,
          -0.4609133,
          -0.5717785,
          -0.5597013,
          -0.470769,
          -0.44614676,
          -0.47177112,
          -0.57600224,
          -0.45040402,
          -0.45764244,
          -0.4648148,
          -0.43075374,
          -0.5589841,
          -0.58747715,
          -0.52638924,
          -0.54042864,
          -0.46412024,
          -0.50011796,
          -0.54878056,
          -0.5765134,
          -0.47509825,
          -0.5090247
         ],
         "y": [
          -4.8022637,
          -4.931671,
          -4.802189,
          -4.807956,
          -4.982709,
          -4.8123918,
          -4.9565945,
          -4.9384484,
          -4.7873654,
          -4.8074107,
          -4.800087,
          -4.959776,
          -4.814186,
          -4.796115,
          -4.788311,
          -4.797145,
          -4.9571595,
          -4.9802647,
          -4.756905,
          -4.927208,
          -4.7732444,
          -4.772289,
          -4.924279,
          -4.9606853,
          -4.808813,
          -4.8578186
         ]
        },
        {
         "hoverinfo": "text",
         "hovertext": [
          "书 还 不错 了 印刷 质量 那 行 也好 应该 是 正版 了 学习 研读 下 还是 很 好",
          "很 不错 书 专业 引导性 强 适合 教育领域 专业人士 读读 印刷 质量 有待 提高 下",
          "书 印刷 质量 没得说 很稳 书里 内容 编排 也 比较 符合 我 预期 希望 能 跟着 书里 内容 更加 深入 了解 Tensorflow",
          "书 印刷 质量 没得说 很稳 书里 内容 编排 也 比较 符合 我 预期 希望 能 跟着 书里 内容 更加 深入 了解 Tensorflow",
          "书 印刷 质量 没得说 很稳 书里 内容 编排 也 比较 符合 我 预期 希望 能 跟着 书里 内容 更加 深入 了解 Tensorflow",
          "刚好 有 活动 帮别人 买 了 编程 书 质量 很 好 印刷 清楚 无 异味 有 需要 还会 回购",
          "书 还 不错 了 印刷 质量 那 行 也好 应该 是 正版 了 学习 研读 下 还是 很 好",
          "很 不错 书 专业 引导性 强 适合 教育领域 专业人士 读读 印刷 质量 有待 提高 下",
          "很 不错 书 专业 引导性 强 适合 教育领域 专业人士 读读 印刷 质量 有待 提高 下",
          "刚好 有 活动 帮别人 买 了 编程 书 质量 很 好 印刷 清楚 无 异味 有 需要 还会 回购",
          "书 印刷 质量 没得说 很稳 书里 内容 编排 也 比较 符合 我 预期 希望 能 跟着 书里 内容 更加 深入 了解 Tensorflow",
          "书 还 不错 了 印刷 质量 那 行 也好 应该 是 正版 了 学习 研读 下 还是 很 好",
          "很 不错 书 专业 引导性 强 适合 教育领域 专业人士 读读 印刷 质量 有待 提高 下",
          "书 印刷 质量 没得说 很稳 书里 内容 编排 也 比较 符合 我 预期 希望 能 跟着 书里 内容 更加 深入 了解 Tensorflow",
          "刚好 有 活动 帮别人 买 了 编程 书 质量 很 好 印刷 清楚 无 异味 有 需要 还会 回购",
          "书 还 不错 了 印刷 质量 那 行 也好 应该 是 正版 了 学习 研读 下 还是 很 好",
          "刚好 有 活动 帮别人 买 了 编程 书 质量 很 好 印刷 清楚 无 异味 有 需要 还会 回购",
          "书 还 不错 了 印刷 质量 那 行 也好 应该 是 正版 了 学习 研读 下 还是 很 好",
          "书 印刷 质量 没得说 很稳 书里 内容 编排 也 比较 符合 我 预期 希望 能 跟着 书里 内容 更加 深入 了解 Tensorflow",
          "刚好 有 活动 帮别人 买 了 编程 书 质量 很 好 印刷 清楚 无 异味 有 需要 还会 回购",
          "书 印刷 质量 没得说 很稳 书里 内容 编排 也 比较 符合 我 预期 希望 能 跟着 书里 内容 更加 深入 了解 Tensorflow",
          "很 不错 书 专业 引导性 强 适合 教育领域 专业人士 读读 印刷 质量 有待 提高 下",
          "书 印刷 质量 没得说 很稳 书里 内容 编排 也 比较 符合 我 预期 希望 能 跟着 书里 内容 更加 深入 了解 Tensorflow",
          "书 印刷 质量 没得说 很稳 书里 内容 编排 也 比较 符合 我 预期 希望 能 跟着 书里 内容 更加 深入 了解 Tensorflow",
          "书 印刷 质量 没得说 很稳 书里 内容 编排 也 比较 符合 我 预期 希望 能 跟着 书里 内容 更加 深入 了解 Tensorflow",
          null
         ],
         "marker": {
          "opacity": 0.5,
          "size": 5
         },
         "mode": "markers+text",
         "name": "18_tensorflow__",
         "text": [
          "",
          "",
          "",
          "",
          "",
          "",
          "",
          "",
          "",
          "",
          "",
          "",
          "",
          "",
          "",
          "",
          "",
          "",
          "",
          "",
          "",
          "",
          "",
          "",
          "",
          "18_tensorflow__"
         ],
         "textfont": {
          "size": 12
         },
         "type": "scattergl",
         "x": [
          -3.6052384,
          -3.5738108,
          -9.151976,
          -9.143484,
          -9.14385,
          -3.599409,
          -3.5935757,
          -3.585315,
          -3.5799737,
          -3.5938938,
          -9.130509,
          -3.584894,
          -3.5849128,
          -9.144009,
          -3.5927503,
          -3.5865412,
          -3.6107233,
          -3.5622182,
          -9.143782,
          -3.558292,
          -9.143852,
          -3.5794604,
          -9.143418,
          -9.139005,
          -9.143448,
          -5.8087335
         ],
         "y": [
          -3.0861244,
          -3.099765,
          0.95497936,
          0.96340525,
          0.96304595,
          -3.0959916,
          -3.129155,
          -3.1048744,
          -3.1035972,
          -3.0966394,
          0.9759089,
          -3.1118314,
          -3.106626,
          0.9629285,
          -3.0987449,
          -3.104777,
          -3.0745502,
          -3.1317043,
          0.96307904,
          -3.1355772,
          0.96298933,
          -3.1116102,
          0.96347404,
          0.9678191,
          0.9633689,
          -1.478023
         ]
        },
        {
         "hoverinfo": "text",
         "hovertext": [
          "选个 好几个 类似 书 最后 决定 买 这本 纸张 不错 物流 很快",
          "做 活动  凑 单买 书 还是 很 划算",
          "非常 好 我 买 了 很 多次 内容 和 物流 我 都 很 满意",
          "做 活动  凑 单买 书 还是 很 划算",
          "这次 买 了 很多 书 还是 自营 到货 快 非常 好",
          "这次 买 了 很多 书 还是 自营 到货 快 非常 好",
          "做 活动  凑 单买 书 还是 很 划算",
          "这次 买 了 很多 书 还是 自营 到货 快 非常 好",
          "做 活动  凑 单买 书 还是 很 划算",
          "非常 好 我 买 了 很 多次 内容 和 物流 我 都 很 满意",
          "书本 很 好 是 正版 内容 丰富 条理清晰 一起 团购 了 10 本 很 划算",
          "书本 很 好 是 正版 内容 丰富 条理清晰 一起 团购 了 10 本 很 划算",
          "书本 很 好 是 正版 内容 丰富 条理清晰 一起 团购 了 10 本 很 划算",
          "非常 好 我 买 了 很 多次 内容 和 物流 我 都 很 满意",
          "选个 好几个 类似 书 最后 决定 买 这本 纸张 不错 物流 很快",
          "做 活动  凑 单买 书 还是 很 划算",
          "选个 好几个 类似 书 最后 决定 买 这本 纸张 不错 物流 很快",
          "这次 买 了 很多 书 还是 自营 到货 快 非常 好",
          "选个 好几个 类似 书 最后 决定 买 这本 纸张 不错 物流 很快",
          "书本 很 好 是 正版 内容 丰富 条理清晰 一起 团购 了 10 本 很 划算",
          "选个 好几个 类似 书 最后 决定 买 这本 纸张 不错 物流 很快",
          "非常 好 我 买 了 很 多次 内容 和 物流 我 都 很 满意",
          "这次 买 了 很多 书 还是 自营 到货 快 非常 好",
          "非常 好 我 买 了 很 多次 内容 和 物流 我 都 很 满意",
          "书本 很 好 是 正版 内容 丰富 条理清晰 一起 团购 了 10 本 很 划算",
          null
         ],
         "marker": {
          "opacity": 0.5,
          "size": 5
         },
         "mode": "markers+text",
         "name": "19_10__",
         "text": [
          "",
          "",
          "",
          "",
          "",
          "",
          "",
          "",
          "",
          "",
          "",
          "",
          "",
          "",
          "",
          "",
          "",
          "",
          "",
          "",
          "",
          "",
          "",
          "",
          "",
          "19_10__"
         ],
         "textfont": {
          "size": 12
         },
         "type": "scattergl",
         "x": [
          -0.04616383,
          -0.07242273,
          -0.11469899,
          -0.08919228,
          -0.10020225,
          -0.119045354,
          -0.07915019,
          -0.07710452,
          -0.07710085,
          -0.118151,
          -0.09126749,
          -0.100716606,
          -0.09058988,
          -0.10477529,
          -0.058019318,
          -0.091212526,
          -0.04351529,
          -0.070938,
          -0.060325287,
          -0.1556331,
          -0.08295101,
          -0.106710814,
          -0.073600054,
          -0.12493715,
          -0.042166434,
          -0.0876236
         ],
         "y": [
          13.138127,
          13.137938,
          13.121177,
          13.112109,
          13.135678,
          13.101524,
          13.130644,
          13.108838,
          13.140258,
          13.151293,
          13.155005,
          13.16381,
          13.153726,
          13.12554,
          13.152895,
          13.1215515,
          13.109639,
          13.135809,
          13.156235,
          13.2210655,
          13.128108,
          13.132003,
          13.088126,
          13.166014,
          13.192759,
          13.1391945
         ]
        },
        {
         "hoverinfo": "text",
         "hovertext": [
          "书 确实 写 不错 周志华 老师 书 果然 不 一般 李楠 博士 翻译 很棒 值得 拥有 好评",
          "这 本书 是 最好 深度 学习 理论 入门 书籍 比 市面上 同类 书籍 好太多 了 全彩 印刷 阅读 起来 很 舒服 中国 写得 所以 语言 凝练 言简意赅 但 自成体系 读 起来 酣畅淋漓 而读 国外 作者 书 觉得 很 啰嗦 和 李航 周志华 书 一起 堪称 国内 机器 学习 三部 巨著 强烈推荐",
          "英文 对照 版本 这个 系列 书 真 厉害 它 把 这些 名著 使用 三千 词内 书写 对于 我 来说 词汇量 很少 阅读 只 需 简单 查字典 就 能 阅读 和 积累 词汇 这 一点 很 重要 比 单纯 背诵 词汇 要 有用 很多",
          "英文 对照 版本 这个 系列 书 真 厉害 它 把 这些 名著 使用 三千 词内 书写 对于 我 来说 词汇量 很少 阅读 只 需 简单 查字典 就 能 阅读 和 积累 词汇 这 一点 很 重要 比 单纯 背诵 词汇 要 有用 很多",
          "插图 形式 讲解 比 很多 国外 翻译 书 都 易懂 很多 翻译 技术 书籍 晦涩 难懂 读 起来 是 一种 折磨 大赞 这 本书 推荐",
          "良心 翻译 啊 哈工大 自然语言 处理 团队 实力 确实 很强 做事 也 很 踏实 认真 这 本书 翻译 质量 就是 上述 观点 很 好 佐证 反观 我 购买 强化 学习 中科院 赵地 等 翻译 那本书 简直 糟糕透顶 两相 比较 更加 凸显 刘挺 老师 团队 水平 和 态度 你们 保持者 知识分子 初心 和 良知 是 中国 科技 希望 祝 工作 顺利 生活 愉快",
          "良心 翻译 啊 哈工大 自然语言 处理 团队 实力 确实 很强 做事 也 很 踏实 认真 这 本书 翻译 质量 就是 上述 观点 很 好 佐证 反观 我 购买 强化 学习 中科院 赵地 等 翻译 那本书 简直 糟糕透顶 两相 比较 更加 凸显 刘挺 老师 团队 水平 和 态度 你们 保持者 知识分子 初心 和 良知 是 中国 科技 希望 祝 工作 顺利 生活 愉快",
          "插图 形式 讲解 比 很多 国外 翻译 书 都 易懂 很多 翻译 技术 书籍 晦涩 难懂 读 起来 是 一种 折磨 大赞 这 本书 推荐",
          "书 确实 写 不错 周志华 老师 书 果然 不 一般 李楠 博士 翻译 很棒 值得 拥有 好评",
          "英文 对照 版本 这个 系列 书 真 厉害 它 把 这些 名著 使用 三千 词内 书写 对于 我 来说 词汇量 很少 阅读 只 需 简单 查字典 就 能 阅读 和 积累 词汇 这 一点 很 重要 比 单纯 背诵 词汇 要 有用 很多",
          "插图 形式 讲解 比 很多 国外 翻译 书 都 易懂 很多 翻译 技术 书籍 晦涩 难懂 读 起来 是 一种 折磨 大赞 这 本书 推荐",
          "这 本书 是 最好 深度 学习 理论 入门 书籍 比 市面上 同类 书籍 好太多 了 全彩 印刷 阅读 起来 很 舒服 中国 写得 所以 语言 凝练 言简意赅 但 自成体系 读 起来 酣畅淋漓 而读 国外 作者 书 觉得 很 啰嗦 和 李航 周志华 书 一起 堪称 国内 机器 学习 三部 巨著 强烈推荐",
          "书 确实 写 不错 周志华 老师 书 果然 不 一般 李楠 博士 翻译 很棒 值得 拥有 好评",
          "这 本书 是 最好 深度 学习 理论 入门 书籍 比 市面上 同类 书籍 好太多 了 全彩 印刷 阅读 起来 很 舒服 中国 写得 所以 语言 凝练 言简意赅 但 自成体系 读 起来 酣畅淋漓 而读 国外 作者 书 觉得 很 啰嗦 和 李航 周志华 书 一起 堪称 国内 机器 学习 三部 巨著 强烈推荐",
          "书 确实 写 不错 周志华 老师 书 果然 不 一般 李楠 博士 翻译 很棒 值得 拥有 好评",
          "这 本书 是 最好 深度 学习 理论 入门 书籍 比 市面上 同类 书籍 好太多 了 全彩 印刷 阅读 起来 很 舒服 中国 写得 所以 语言 凝练 言简意赅 但 自成体系 读 起来 酣畅淋漓 而读 国外 作者 书 觉得 很 啰嗦 和 李航 周志华 书 一起 堪称 国内 机器 学习 三部 巨著 强烈推荐",
          "书 确实 写 不错 周志华 老师 书 果然 不 一般 李楠 博士 翻译 很棒 值得 拥有 好评",
          "插图 形式 讲解 比 很多 国外 翻译 书 都 易懂 很多 翻译 技术 书籍 晦涩 难懂 读 起来 是 一种 折磨 大赞 这 本书 推荐",
          "插图 形式 讲解 比 很多 国外 翻译 书 都 易懂 很多 翻译 技术 书籍 晦涩 难懂 读 起来 是 一种 折磨 大赞 这 本书 推荐",
          "英文 对照 版本 这个 系列 书 真 厉害 它 把 这些 名著 使用 三千 词内 书写 对于 我 来说 词汇量 很少 阅读 只 需 简单 查字典 就 能 阅读 和 积累 词汇 这 一点 很 重要 比 单纯 背诵 词汇 要 有用 很多",
          "良心 翻译 啊 哈工大 自然语言 处理 团队 实力 确实 很强 做事 也 很 踏实 认真 这 本书 翻译 质量 就是 上述 观点 很 好 佐证 反观 我 购买 强化 学习 中科院 赵地 等 翻译 那本书 简直 糟糕透顶 两相 比较 更加 凸显 刘挺 老师 团队 水平 和 态度 你们 保持者 知识分子 初心 和 良知 是 中国 科技 希望 祝 工作 顺利 生活 愉快",
          "英文 对照 版本 这个 系列 书 真 厉害 它 把 这些 名著 使用 三千 词内 书写 对于 我 来说 词汇量 很少 阅读 只 需 简单 查字典 就 能 阅读 和 积累 词汇 这 一点 很 重要 比 单纯 背诵 词汇 要 有用 很多",
          "良心 翻译 啊 哈工大 自然语言 处理 团队 实力 确实 很强 做事 也 很 踏实 认真 这 本书 翻译 质量 就是 上述 观点 很 好 佐证 反观 我 购买 强化 学习 中科院 赵地 等 翻译 那本书 简直 糟糕透顶 两相 比较 更加 凸显 刘挺 老师 团队 水平 和 态度 你们 保持者 知识分子 初心 和 良知 是 中国 科技 希望 祝 工作 顺利 生活 愉快",
          "这 本书 是 最好 深度 学习 理论 入门 书籍 比 市面上 同类 书籍 好太多 了 全彩 印刷 阅读 起来 很 舒服 中国 写得 所以 语言 凝练 言简意赅 但 自成体系 读 起来 酣畅淋漓 而读 国外 作者 书 觉得 很 啰嗦 和 李航 周志华 书 一起 堪称 国内 机器 学习 三部 巨著 强烈推荐",
          "良心 翻译 啊 哈工大 自然语言 处理 团队 实力 确实 很强 做事 也 很 踏实 认真 这 本书 翻译 质量 就是 上述 观点 很 好 佐证 反观 我 购买 强化 学习 中科院 赵地 等 翻译 那本书 简直 糟糕透顶 两相 比较 更加 凸显 刘挺 老师 团队 水平 和 态度 你们 保持者 知识分子 初心 和 良知 是 中国 科技 希望 祝 工作 顺利 生活 愉快",
          null
         ],
         "marker": {
          "opacity": 0.5,
          "size": 5
         },
         "mode": "markers+text",
         "name": "20___",
         "text": [
          "",
          "",
          "",
          "",
          "",
          "",
          "",
          "",
          "",
          "",
          "",
          "",
          "",
          "",
          "",
          "",
          "",
          "",
          "",
          "",
          "",
          "",
          "",
          "",
          "",
          "20___"
         ],
         "textfont": {
          "size": 12
         },
         "type": "scattergl",
         "x": [
          -10.820677,
          -10.659905,
          -10.704402,
          -10.667147,
          -10.683699,
          -10.786474,
          -10.767787,
          -10.665251,
          -10.777519,
          -10.673576,
          -10.684618,
          -10.645764,
          -10.778885,
          -10.650106,
          -10.781058,
          -10.665477,
          -10.793594,
          -10.671802,
          -10.680253,
          -10.685702,
          -10.757265,
          -10.664376,
          -10.743958,
          -10.637117,
          -10.707563,
          -10.710158
         ],
         "y": [
          -3.6507819,
          -3.811003,
          -3.7665827,
          -3.8038259,
          -3.7874587,
          -3.685186,
          -3.7036273,
          -3.805358,
          -3.6939728,
          -3.7972436,
          -3.7864432,
          -3.824978,
          -3.6924536,
          -3.8206456,
          -3.6905336,
          -3.8052537,
          -3.6778588,
          -3.799169,
          -3.7908995,
          -3.7852328,
          -3.7144709,
          -3.8065681,
          -3.7283993,
          -3.8336554,
          -3.7641919,
          -3.761032
         ]
        },
        {
         "hoverinfo": "text",
         "hovertext": [
          "内容 非常 详细 适合 机器 学习 入门者 使用",
          "看 了 快 半个 月 了 才 来 评价 hhh 这本 作为 机器 学习 和 深度 学习 初学者 来说 是 很棒 书 讲得 很 通透 例子 也 很 好 希望 学习 这个 领域 都 可以 拿来 看看 但 一定 要 有 实践",
          "看 了 快 半个 月 了 才 来 评价 hhh 这本 作为 机器 学习 和 深度 学习 初学者 来说 是 很棒 书 讲得 很 通透 例子 也 很 好 希望 学习 这个 领域 都 可以 拿来 看看 但 一定 要 有 实践",
          "算法 说 得 很 详细 值得 学习",
          "内容 非常 详细 适合 机器 学习 入门者 使用",
          "实际 内容 是 讲 非常 细分 一个 领域 推荐 系统 讲 很 全 对于 实践 来说 有 参考价值 但 并 不是 内容 全面 机器 学习 书籍",
          "算法 说 得 很 详细 值得 学习",
          "内容 非常 详细 适合 机器 学习 入门者 使用",
          "看 了 快 半个 月 了 才 来 评价 hhh 这本 作为 机器 学习 和 深度 学习 初学者 来说 是 很棒 书 讲得 很 通透 例子 也 很 好 希望 学习 这个 领域 都 可以 拿来 看看 但 一定 要 有 实践",
          "内容 非常 详细 适合 机器 学习 入门者 使用",
          "彩印 好评 内容 很全 对于 了解 深度 学习 知识 体系结构 非常 有用",
          "看 了 快 半个 月 了 才 来 评价 hhh 这本 作为 机器 学习 和 深度 学习 初学者 来说 是 很棒 书 讲得 很 通透 例子 也 很 好 希望 学习 这个 领域 都 可以 拿来 看看 但 一定 要 有 实践",
          "算法 说 得 很 详细 值得 学习",
          "实际 内容 是 讲 非常 细分 一个 领域 推荐 系统 讲 很 全 对于 实践 来说 有 参考价值 但 并 不是 内容 全面 机器 学习 书籍",
          "内容 非常 详细 适合 机器 学习 入门者 使用",
          "实际 内容 是 讲 非常 细分 一个 领域 推荐 系统 讲 很 全 对于 实践 来说 有 参考价值 但 并 不是 内容 全面 机器 学习 书籍",
          "实际 内容 是 讲 非常 细分 一个 领域 推荐 系统 讲 很 全 对于 实践 来说 有 参考价值 但 并 不是 内容 全面 机器 学习 书籍",
          "算法 说 得 很 详细 值得 学习",
          "算法 说 得 很 详细 值得 学习",
          "看 了 快 半个 月 了 才 来 评价 hhh 这本 作为 机器 学习 和 深度 学习 初学者 来说 是 很棒 书 讲得 很 通透 例子 也 很 好 希望 学习 这个 领域 都 可以 拿来 看看 但 一定 要 有 实践",
          "实际 内容 是 讲 非常 细分 一个 领域 推荐 系统 讲 很 全 对于 实践 来说 有 参考价值 但 并 不是 内容 全面 机器 学习 书籍",
          null
         ],
         "marker": {
          "opacity": 0.5,
          "size": 5
         },
         "mode": "markers+text",
         "name": "21_hhh__",
         "text": [
          "",
          "",
          "",
          "",
          "",
          "",
          "",
          "",
          "",
          "",
          "",
          "",
          "",
          "",
          "",
          "",
          "",
          "",
          "",
          "",
          "",
          "21_hhh__"
         ],
         "textfont": {
          "size": 12
         },
         "type": "scattergl",
         "x": [
          -4.72636,
          -14.161461,
          -14.161448,
          -4.7256684,
          -4.7260146,
          -14.161252,
          -4.726011,
          -4.7251315,
          -14.162406,
          -4.725969,
          -4.7257724,
          -14.161299,
          -4.725894,
          -14.161312,
          -4.726332,
          -14.161372,
          -14.161368,
          -4.725835,
          -4.7259183,
          -14.161301,
          -14.163732,
          -9.219135
         ],
         "y": [
          -13.446411,
          -7.273048,
          -7.2731314,
          -13.446243,
          -13.446299,
          -7.273187,
          -13.446318,
          -13.445906,
          -7.27213,
          -13.446277,
          -13.44625,
          -7.2732344,
          -13.446284,
          -7.27314,
          -13.446366,
          -7.2730875,
          -7.273068,
          -13.446266,
          -13.446289,
          -7.2732906,
          -7.269231,
          -10.50645
         ]
        },
        {
         "hoverinfo": "text",
         "hovertext": [
          "导师 推荐 看 了 一下 深入浅出 适合 有 一点 python 基础 人 就是 一本 入门 书籍 里面 代码 也 挺不错 要求 高 大神 可以 不用 考虑 了 反正 我 挺 满意 应该 是 正版 价格 也 不贵 纸张 很 好 内部 字迹 图示 墨迹 均匀 物流 非常 快 包装 完好",
          "书 质量 很 好  印刷 清楚  纸张 厚度 合适  本书 是 学习 机器 学 经典 书目  里面 涵盖 数学 基础 和 深度 学习 理论  内容 完整  很 有 参考价值  可以 用来 做 教材",
          "年少 不 好好学 矩阵 分析 老大 才 知 数学 学习 重要性 拿到 书后 都 比 想象 中好 要 厚 内容 要 翔实 印刷 质量 非常 好 是 正版 纸张 质量 也 特别 好 还有 部分 铜版纸 印刷 整体 上 感觉 很 满意",
          "Python 在 机器 学习 方面 应用 指导书 测试 驱动 开发 也 是 必备 技能 算是 很 综合 一 本书 了",
          "书 质量 很 好  印刷 清楚  纸张 厚度 合适  本书 是 学习 机器 学 经典 书目  里面 涵盖 数学 基础 和 深度 学习 理论  内容 完整  很 有 参考价值  可以 用来 做 教材",
          "Python 在 机器 学习 方面 应用 指导书 测试 驱动 开发 也 是 必备 技能 算是 很 综合 一 本书 了",
          "导师 推荐 看 了 一下 深入浅出 适合 有 一点 python 基础 人 就是 一本 入门 书籍 里面 代码 也 挺不错 要求 高 大神 可以 不用 考虑 了 反正 我 挺 满意 应该 是 正版 价格 也 不贵 纸张 很 好 内部 字迹 图示 墨迹 均匀 物流 非常 快 包装 完好",
          "年少 不 好好学 矩阵 分析 老大 才 知 数学 学习 重要性 拿到 书后 都 比 想象 中好 要 厚 内容 要 翔实 印刷 质量 非常 好 是 正版 纸张 质量 也 特别 好 还有 部分 铜版纸 印刷 整体 上 感觉 很 满意",
          "年少 不 好好学 矩阵 分析 老大 才 知 数学 学习 重要性 拿到 书后 都 比 想象 中好 要 厚 内容 要 翔实 印刷 质量 非常 好 是 正版 纸张 质量 也 特别 好 还有 部分 铜版纸 印刷 整体 上 感觉 很 满意",
          "Python 在 机器 学习 方面 应用 指导书 测试 驱动 开发 也 是 必备 技能 算是 很 综合 一 本书 了",
          "导师 推荐 看 了 一下 深入浅出 适合 有 一点 python 基础 人 就是 一本 入门 书籍 里面 代码 也 挺不错 要求 高 大神 可以 不用 考虑 了 反正 我 挺 满意 应该 是 正版 价格 也 不贵 纸张 很 好 内部 字迹 图示 墨迹 均匀 物流 非常 快 包装 完好",
          "干货 十足 一 本书 对 我 这样 编程 新手 帮助 很大 书 里面 案例 讲解 非常 详细 贴近 实际 尤其 是 注重 先 讲解 解决问题 思路 再 分析 核心 技术细节 感觉 对 读者 从 宏观 上 理解 Python 数据分析 有 好 指导意义 相信 是 一本 好书",
          "书 质量 很 好  印刷 清楚  纸张 厚度 合适  本书 是 学习 机器 学 经典 书目  里面 涵盖 数学 基础 和 深度 学习 理论  内容 完整  很 有 参考价值  可以 用来 做 教材",
          "导师 推荐 看 了 一下 深入浅出 适合 有 一点 python 基础 人 就是 一本 入门 书籍 里面 代码 也 挺不错 要求 高 大神 可以 不用 考虑 了 反正 我 挺 满意 应该 是 正版 价格 也 不贵 纸张 很 好 内部 字迹 图示 墨迹 均匀 物流 非常 快 包装 完好",
          "Python 在 机器 学习 方面 应用 指导书 测试 驱动 开发 也 是 必备 技能 算是 很 综合 一 本书 了",
          "Python 在 机器 学习 方面 应用 指导书 测试 驱动 开发 也 是 必备 技能 算是 很 综合 一 本书 了",
          "年少 不 好好学 矩阵 分析 老大 才 知 数学 学习 重要性 拿到 书后 都 比 想象 中好 要 厚 内容 要 翔实 印刷 质量 非常 好 是 正版 纸张 质量 也 特别 好 还有 部分 铜版纸 印刷 整体 上 感觉 很 满意",
          "书 质量 很 好  印刷 清楚  纸张 厚度 合适  本书 是 学习 机器 学 经典 书目  里面 涵盖 数学 基础 和 深度 学习 理论  内容 完整  很 有 参考价值  可以 用来 做 教材",
          "书 质量 很 好  印刷 清楚  纸张 厚度 合适  本书 是 学习 机器 学 经典 书目  里面 涵盖 数学 基础 和 深度 学习 理论  内容 完整  很 有 参考价值  可以 用来 做 教材",
          "导师 推荐 看 了 一下 深入浅出 适合 有 一点 python 基础 人 就是 一本 入门 书籍 里面 代码 也 挺不错 要求 高 大神 可以 不用 考虑 了 反正 我 挺 满意 应该 是 正版 价格 也 不贵 纸张 很 好 内部 字迹 图示 墨迹 均匀 物流 非常 快 包装 完好",
          "年少 不 好好学 矩阵 分析 老大 才 知 数学 学习 重要性 拿到 书后 都 比 想象 中好 要 厚 内容 要 翔实 印刷 质量 非常 好 是 正版 纸张 质量 也 特别 好 还有 部分 铜版纸 印刷 整体 上 感觉 很 满意",
          null
         ],
         "marker": {
          "opacity": 0.5,
          "size": 5
         },
         "mode": "markers+text",
         "name": "22_python__",
         "text": [
          "",
          "",
          "",
          "",
          "",
          "",
          "",
          "",
          "",
          "",
          "",
          "",
          "",
          "",
          "",
          "",
          "",
          "",
          "",
          "",
          "",
          "22_python__"
         ],
         "textfont": {
          "size": 12
         },
         "type": "scattergl",
         "x": [
          1.0537453,
          -7.1235704,
          -7.123624,
          1.1975378,
          -7.1612,
          1.1968191,
          1.0858128,
          -7.123115,
          -7.1228924,
          1.1780884,
          1.0838165,
          1.0930407,
          -7.1214104,
          1.0831894,
          1.1976109,
          1.1971525,
          -7.122834,
          -7.123983,
          -7.1235895,
          1.0888594,
          -7.123344,
          -2.800661
         ],
         "y": [
          4.5663824,
          3.0831087,
          3.0830195,
          4.5179234,
          3.0498347,
          4.517946,
          4.5397344,
          3.0833488,
          3.0835497,
          4.5242753,
          4.541161,
          4.5379615,
          3.0852883,
          4.5413017,
          4.5178137,
          4.517861,
          3.0835798,
          3.0826476,
          3.083033,
          4.5368733,
          3.0832098,
          3.8409452
         ]
        },
        {
         "hoverinfo": "text",
         "hovertext": [
          "深度 学习 现在 这么 火 一定 要 学习 一下 相应 框架 这 本书 从 工程 出发 不是 纯理论 非常适合 小白 上手 真的 很 不错 呢 给 一个 大大的 赞",
          "大佬 书 很 赞 内容 很 翔实 多年 理论 和 实践 积累 非常 值得 研究 一下",
          "这 本书 通俗易懂 理论性 强 非常 好",
          "大佬 书 很 赞 内容 很 翔实 多年 理论 和 实践 积累 非常 值得 研究 一下",
          "大佬 书 很 赞 内容 很 翔实 多年 理论 和 实践 积累 非常 值得 研究 一下",
          "非常 好 一 本书 对 R 语言 做 了 非常 详细 讲解 有 理论 有 实战 不过 更加 偏重 案例 一些 很 实用 可以 当做 一本 工具书 来 用 新版 书 印刷 日期 也 很 新",
          "深度 学习 现在 这么 火 一定 要 学习 一下 相应 框架 这 本书 从 工程 出发 不是 纯理论 非常适合 小白 上手 真的 很 不错 呢 给 一个 大大的 赞",
          "深度 学习 现在 这么 火 一定 要 学习 一下 相应 框架 这 本书 从 工程 出发 不是 纯理论 非常适合 小白 上手 真的 很 不错 呢 给 一个 大大的 赞",
          "这 本书 通俗易懂 理论性 强 非常 好",
          "这 本书 通俗易懂 理论性 强 非常 好",
          "深度 学习 现在 这么 火 一定 要 学习 一下 相应 框架 这 本书 从 工程 出发 不是 纯理论 非常适合 小白 上手 真的 很 不错 呢 给 一个 大大的 赞",
          "这是 一本 韭常好 结合 tensorflow2 介绍 深度 学 入门 书 深入浅出 地 把 一些 深度 学 经典 原理 和 实现 讲解 清楚 很 好 书 !",
          "大佬 书 很 赞 内容 很 翔实 多年 理论 和 实践 积累 非常 值得 研究 一下",
          "深度 学习 现在 这么 火 一定 要 学习 一下 相应 框架 这 本书 从 工程 出发 不是 纯理论 非常适合 小白 上手 真的 很 不错 呢 给 一个 大大的 赞",
          "这 本书 通俗易懂 理论性 强 非常 好",
          "这是 一本 韭常好 结合 tensorflow2 介绍 深度 学 入门 书 深入浅出 地 把 一些 深度 学 经典 原理 和 实现 讲解 清楚 很 好 书 !",
          "这 本书 通俗易懂 理论性 强 非常 好",
          "这是 一本 韭常好 结合 tensorflow2 介绍 深度 学 入门 书 深入浅出 地 把 一些 深度 学 经典 原理 和 实现 讲解 清楚 很 好 书 !",
          "这是 一本 韭常好 结合 tensorflow2 介绍 深度 学 入门 书 深入浅出 地 把 一些 深度 学 经典 原理 和 实现 讲解 清楚 很 好 书 !",
          "这是 一本 韭常好 结合 tensorflow2 介绍 深度 学 入门 书 深入浅出 地 把 一些 深度 学 经典 原理 和 实现 讲解 清楚 很 好 书 !",
          "大佬 书 很 赞 内容 很 翔实 多年 理论 和 实践 积累 非常 值得 研究 一下",
          null
         ],
         "marker": {
          "opacity": 0.5,
          "size": 5
         },
         "mode": "markers+text",
         "name": "23_tensorflow2__",
         "text": [
          "",
          "",
          "",
          "",
          "",
          "",
          "",
          "",
          "",
          "",
          "",
          "",
          "",
          "",
          "",
          "",
          "",
          "",
          "",
          "",
          "",
          "23_tensorflow2__"
         ],
         "textfont": {
          "size": 12
         },
         "type": "scattergl",
         "x": [
          -11.33201,
          -11.301003,
          -11.303007,
          -11.304082,
          -11.287612,
          -11.327645,
          -11.327749,
          -11.4073515,
          -11.268505,
          -11.299102,
          -11.322036,
          -11.343555,
          -11.303831,
          -11.307509,
          -11.282724,
          -11.36697,
          -11.271409,
          -11.354099,
          -11.338422,
          -11.342276,
          -11.303871,
          -11.318798
         ],
         "y": [
          -15.000236,
          -15.031171,
          -15.029188,
          -15.028107,
          -15.04461,
          -15.00448,
          -15.004455,
          -14.924896,
          -15.063682,
          -15.033086,
          -15.010119,
          -14.9886875,
          -15.028391,
          -15.024599,
          -15.049454,
          -14.965323,
          -15.060796,
          -14.9781275,
          -14.993821,
          -14.989991,
          -15.028319,
          -15.013406
         ]
        },
        {
         "hoverinfo": "text",
         "hovertext": [
          "不错 书籍 正版 页面 很 美观 厚实 一大 本 内容 详细 值得 购买 能够 学习 到 很多 知识 印刷 质量 好 没有 虚 和 重影 地方 内容 丰富 详实 对 该 领域 知识 概括 得 很 全面 是 一本 很 好 书籍 阅读 起来 很 有趣 是 本 不错 书",
          "这些 课外 资料 合集 内容 都 很多 都 很 全面 都 很 详细 平时 没事 时候 很 值得 去 阅读 是 一些 难得 好 题材 各式各样 好 故事 看过 之后 就 知道 值得 去 阅读 都 很 值得 推荐 给 大家 是 真真正正 好 课外 资料 现在 我们 都 很 喜欢 去 阅读 这些 资料 越 看 越 爱看 我们 阅读 都 非常 满意",
          "本书 几位 作者 全部都是 一线 开发人员 当时 看到 这个 就 笑 了 总的来说 内容 很全 基本上 对于 任何 一个 项目 团队 产品 经理 都 能 找到 相关 可以 学习 内容 除了 产品 经理 以外 感觉 同样 也 很 适合 技术 或者 开发人员 自己 来看 学习 一下 如何 用 浅显易懂 语言 给 家人 或者 朋友 科普 相关 知识",
          "书籍 印刷 很 清晰 知识点 概括 很 全面 内容 通过 图解 方式 使 读者 更 易 理解 通俗易懂 物流 速度 非常 快 商品 描述 非常 准确 详尽 没有 差错 可以 作为 知识 储备 拓展 自己 知识面 是 一次 非常 开心 愉快 购物 经历 我会 推荐 给 朋友",
          "书籍 印刷 很 清晰 知识点 概括 很 全面 内容 通过 图解 方式 使 读者 更 易 理解 通俗易懂 物流 速度 非常 快 商品 描述 非常 准确 详尽 没有 差错 可以 作为 知识 储备 拓展 自己 知识面 是 一次 非常 开心 愉快 购物 经历 我会 推荐 给 朋友",
          "本书 几位 作者 全部都是 一线 开发人员 当时 看到 这个 就 笑 了 总的来说 内容 很全 基本上 对于 任何 一个 项目 团队 产品 经理 都 能 找到 相关 可以 学习 内容 除了 产品 经理 以外 感觉 同样 也 很 适合 技术 或者 开发人员 自己 来看 学习 一下 如何 用 浅显易懂 语言 给 家人 或者 朋友 科普 相关 知识",
          "书籍 印刷 很 清晰 知识点 概括 很 全面 内容 通过 图解 方式 使 读者 更 易 理解 通俗易懂 物流 速度 非常 快 商品 描述 非常 准确 详尽 没有 差错 可以 作为 知识 储备 拓展 自己 知识面 是 一次 非常 开心 愉快 购物 经历 我会 推荐 给 朋友",
          "不错 书籍 正版 页面 很 美观 厚实 一大 本 内容 详细 值得 购买 能够 学习 到 很多 知识 印刷 质量 好 没有 虚 和 重影 地方 内容 丰富 详实 对 该 领域 知识 概括 得 很 全面 是 一本 很 好 书籍 阅读 起来 很 有趣 是 本 不错 书",
          "本书 几位 作者 全部都是 一线 开发人员 当时 看到 这个 就 笑 了 总的来说 内容 很全 基本上 对于 任何 一个 项目 团队 产品 经理 都 能 找到 相关 可以 学习 内容 除了 产品 经理 以外 感觉 同样 也 很 适合 技术 或者 开发人员 自己 来看 学习 一下 如何 用 浅显易懂 语言 给 家人 或者 朋友 科普 相关 知识",
          "不错 书籍 正版 页面 很 美观 厚实 一大 本 内容 详细 值得 购买 能够 学习 到 很多 知识 印刷 质量 好 没有 虚 和 重影 地方 内容 丰富 详实 对 该 领域 知识 概括 得 很 全面 是 一本 很 好 书籍 阅读 起来 很 有趣 是 本 不错 书",
          "这些 课外 资料 合集 内容 都 很多 都 很 全面 都 很 详细 平时 没事 时候 很 值得 去 阅读 是 一些 难得 好 题材 各式各样 好 故事 看过 之后 就 知道 值得 去 阅读 都 很 值得 推荐 给 大家 是 真真正正 好 课外 资料 现在 我们 都 很 喜欢 去 阅读 这些 资料 越 看 越 爱看 我们 阅读 都 非常 满意",
          "书籍 印刷 很 清晰 知识点 概括 很 全面 内容 通过 图解 方式 使 读者 更 易 理解 通俗易懂 物流 速度 非常 快 商品 描述 非常 准确 详尽 没有 差错 可以 作为 知识 储备 拓展 自己 知识面 是 一次 非常 开心 愉快 购物 经历 我会 推荐 给 朋友",
          "本书 几位 作者 全部都是 一线 开发人员 当时 看到 这个 就 笑 了 总的来说 内容 很全 基本上 对于 任何 一个 项目 团队 产品 经理 都 能 找到 相关 可以 学习 内容 除了 产品 经理 以外 感觉 同样 也 很 适合 技术 或者 开发人员 自己 来看 学习 一下 如何 用 浅显易懂 语言 给 家人 或者 朋友 科普 相关 知识",
          "这些 课外 资料 合集 内容 都 很多 都 很 全面 都 很 详细 平时 没事 时候 很 值得 去 阅读 是 一些 难得 好 题材 各式各样 好 故事 看过 之后 就 知道 值得 去 阅读 都 很 值得 推荐 给 大家 是 真真正正 好 课外 资料 现在 我们 都 很 喜欢 去 阅读 这些 资料 越 看 越 爱看 我们 阅读 都 非常 满意",
          "书籍 印刷 很 清晰 知识点 概括 很 全面 内容 通过 图解 方式 使 读者 更 易 理解 通俗易懂 物流 速度 非常 快 商品 描述 非常 准确 详尽 没有 差错 可以 作为 知识 储备 拓展 自己 知识面 是 一次 非常 开心 愉快 购物 经历 我会 推荐 给 朋友",
          "这些 课外 资料 合集 内容 都 很多 都 很 全面 都 很 详细 平时 没事 时候 很 值得 去 阅读 是 一些 难得 好 题材 各式各样 好 故事 看过 之后 就 知道 值得 去 阅读 都 很 值得 推荐 给 大家 是 真真正正 好 课外 资料 现在 我们 都 很 喜欢 去 阅读 这些 资料 越 看 越 爱看 我们 阅读 都 非常 满意",
          "不错 书籍 正版 页面 很 美观 厚实 一大 本 内容 详细 值得 购买 能够 学习 到 很多 知识 印刷 质量 好 没有 虚 和 重影 地方 内容 丰富 详实 对 该 领域 知识 概括 得 很 全面 是 一本 很 好 书籍 阅读 起来 很 有趣 是 本 不错 书",
          "不错 书籍 正版 页面 很 美观 厚实 一大 本 内容 详细 值得 购买 能够 学习 到 很多 知识 印刷 质量 好 没有 虚 和 重影 地方 内容 丰富 详实 对 该 领域 知识 概括 得 很 全面 是 一本 很 好 书籍 阅读 起来 很 有趣 是 本 不错 书",
          "这些 课外 资料 合集 内容 都 很多 都 很 全面 都 很 详细 平时 没事 时候 很 值得 去 阅读 是 一些 难得 好 题材 各式各样 好 故事 看过 之后 就 知道 值得 去 阅读 都 很 值得 推荐 给 大家 是 真真正正 好 课外 资料 现在 我们 都 很 喜欢 去 阅读 这些 资料 越 看 越 爱看 我们 阅读 都 非常 满意",
          "本书 几位 作者 全部都是 一线 开发人员 当时 看到 这个 就 笑 了 总的来说 内容 很全 基本上 对于 任何 一个 项目 团队 产品 经理 都 能 找到 相关 可以 学习 内容 除了 产品 经理 以外 感觉 同样 也 很 适合 技术 或者 开发人员 自己 来看 学习 一下 如何 用 浅显易懂 语言 给 家人 或者 朋友 科普 相关 知识",
          null
         ],
         "marker": {
          "opacity": 0.5,
          "size": 5
         },
         "mode": "markers+text",
         "name": "24___",
         "text": [
          "",
          "",
          "",
          "",
          "",
          "",
          "",
          "",
          "",
          "",
          "",
          "",
          "",
          "",
          "",
          "",
          "",
          "",
          "",
          "",
          "24___"
         ],
         "textfont": {
          "size": 12
         },
         "type": "scattergl",
         "x": [
          -3.8534439,
          -3.8374653,
          -3.8836603,
          -3.8975499,
          -3.9081547,
          -3.8812473,
          -3.877838,
          -3.8181484,
          -3.863954,
          -3.866423,
          -3.83773,
          -3.8749733,
          -3.8798258,
          -3.8401682,
          -3.8747113,
          -3.8401315,
          -3.8653946,
          -3.8417015,
          -3.841637,
          -3.892961,
          -3.863856
         ],
         "y": [
          -4.8888946,
          -4.8721185,
          -4.929294,
          -4.940327,
          -4.950454,
          -4.9261093,
          -4.921942,
          -4.853998,
          -4.9086127,
          -4.88576,
          -4.8725896,
          -4.9176574,
          -4.9247127,
          -4.875022,
          -4.917634,
          -4.8763433,
          -4.9004326,
          -4.8783364,
          -4.8766375,
          -4.93798,
          -4.9027433
         ]
        },
        {
         "hoverinfo": "text",
         "hovertext": [
          "品相 很 好 书页 质量 没得说 文字 打印 清晰",
          "品相 很 好 书页 质量 没得说 文字 打印 清晰",
          "书 很 新 印刷 清楚 页面 折痕 较 少",
          "1 书本 印刷 质量上乘 没有 出现 任何 印刷错误 字迹 和 图案 都 非常 清晰 书本 纸质 非常 好 没有 那种 薄薄的 感觉 n2 内容 丰富 上 手 难度 不高 通俗易懂",
          "书 很 新 印刷 清楚 页面 折痕 较 少",
          "1 书本 印刷 质量上乘 没有 出现 任何 印刷错误 字迹 和 图案 都 非常 清晰 书本 纸质 非常 好 没有 那种 薄薄的 感觉 n2 内容 丰富 上 手 难度 不高 通俗易懂",
          "品相 很 好 书页 质量 没得说 文字 打印 清晰",
          "1 书本 印刷 质量上乘 没有 出现 任何 印刷错误 字迹 和 图案 都 非常 清晰 书本 纸质 非常 好 没有 那种 薄薄的 感觉 n2 内容 丰富 上 手 难度 不高 通俗易懂",
          "品相 很 好 书页 质量 没得说 文字 打印 清晰",
          "书 很 新 印刷 清楚 页面 折痕 较 少",
          "品相 很 好 书页 质量 没得说 文字 打印 清晰",
          "品相 很 好 书页 质量 没得说 文字 打印 清晰",
          "书 很 新 印刷 清楚 页面 折痕 较 少",
          "品相 很 好 书页 质量 没得说 文字 打印 清晰",
          "品相 很 好 书页 质量 没得说 文字 打印 清晰",
          "品相 很 好 书页 质量 没得说 文字 打印 清晰",
          "书 很 新 印刷 清楚 页面 折痕 较 少",
          "1 书本 印刷 质量上乘 没有 出现 任何 印刷错误 字迹 和 图案 都 非常 清晰 书本 纸质 非常 好 没有 那种 薄薄的 感觉 n2 内容 丰富 上 手 难度 不高 通俗易懂",
          "品相 很 好 书页 质量 没得说 文字 打印 清晰",
          "1 书本 印刷 质量上乘 没有 出现 任何 印刷错误 字迹 和 图案 都 非常 清晰 书本 纸质 非常 好 没有 那种 薄薄的 感觉 n2 内容 丰富 上 手 难度 不高 通俗易懂",
          null
         ],
         "marker": {
          "opacity": 0.5,
          "size": 5
         },
         "mode": "markers+text",
         "name": "25_n2__",
         "text": [
          "",
          "",
          "",
          "",
          "",
          "",
          "",
          "",
          "",
          "",
          "",
          "",
          "",
          "",
          "",
          "",
          "",
          "",
          "",
          "",
          "25_n2__"
         ],
         "textfont": {
          "size": 12
         },
         "type": "scattergl",
         "x": [
          16.261713,
          16.319397,
          16.302141,
          16.252993,
          16.301682,
          16.261469,
          16.282238,
          16.244383,
          16.280987,
          16.303835,
          16.291449,
          16.253487,
          16.302326,
          16.256319,
          16.271736,
          16.277157,
          16.316757,
          16.270395,
          16.258621,
          16.26921,
          16.278915
         ],
         "y": [
          9.81395,
          9.871693,
          9.854347,
          9.805406,
          9.855161,
          9.814151,
          9.83457,
          9.796765,
          9.833239,
          9.856028,
          9.843688,
          9.80574,
          9.854452,
          9.808554,
          9.823985,
          9.829325,
          9.868887,
          9.822607,
          9.810917,
          9.821453,
          9.831245
         ]
        },
        {
         "hoverinfo": "text",
         "hovertext": [
          "很 好 啊 大神 力作 值得 细读",
          "很 好 啊 大神 力作 值得 细读",
          "很 好 啊 大神 力作 值得 细读",
          "买来 参考 参考 应该 挺不错 吧 我 觉得 大家 可以 试试 毕竟 大牛 作品",
          "整体 上 不错 值得 好好 读读",
          "买来 参考 参考 应该 挺不错 吧 我 觉得 大家 可以 试试 毕竟 大牛 作品",
          "整体 上 不错 值得 好好 读读",
          "买来 参考 参考 应该 挺不错 吧 我 觉得 大家 可以 试试 毕竟 大牛 作品",
          "很 好 啊 大神 力作 值得 细读",
          "很 好 啊 大神 力作 值得 细读",
          "很 好 啊 大神 力作 值得 细读",
          "买来 参考 参考 应该 挺不错 吧 我 觉得 大家 可以 试试 毕竟 大牛 作品",
          "很 好 啊 大神 力作 值得 细读",
          "整体 上 不错 值得 好好 读读",
          "买来 参考 参考 应该 挺不错 吧 我 觉得 大家 可以 试试 毕竟 大牛 作品",
          "很 好 啊 大神 力作 值得 细读",
          "很 好 啊 大神 力作 值得 细读",
          "整体 上 不错 值得 好好 读读",
          "很 好 啊 大神 力作 值得 细读",
          "整体 上 不错 值得 好好 读读",
          null
         ],
         "marker": {
          "opacity": 0.5,
          "size": 5
         },
         "mode": "markers+text",
         "name": "26___",
         "text": [
          "",
          "",
          "",
          "",
          "",
          "",
          "",
          "",
          "",
          "",
          "",
          "",
          "",
          "",
          "",
          "",
          "",
          "",
          "",
          "",
          "26___"
         ],
         "textfont": {
          "size": 12
         },
         "type": "scattergl",
         "x": [
          29.107803,
          29.123861,
          29.084742,
          29.084698,
          29.068222,
          29.086487,
          29.062862,
          29.07588,
          29.090479,
          29.093988,
          29.094156,
          29.086508,
          29.083164,
          29.075151,
          29.086493,
          29.098763,
          29.08482,
          29.058079,
          29.101597,
          29.074442,
          29.086111
         ],
         "y": [
          -5.7808704,
          -5.7969313,
          -5.757768,
          -5.757768,
          -5.7412424,
          -5.7595453,
          -5.735886,
          -5.748939,
          -5.763546,
          -5.767039,
          -5.7672024,
          -5.759564,
          -5.7562246,
          -5.748167,
          -5.7595506,
          -5.7717104,
          -5.7578616,
          -5.731087,
          -5.774651,
          -5.7474585,
          -5.759151
         ]
        },
        {
         "hoverinfo": "text",
         "hovertext": [
          "非常 好 一 本书 值得 购买 一定 要 买 哦 不能 错过",
          "TcpIp 这 本书 是 一本 图解 我 和 另外 一 本书 一起 买 整体 来说 特别 不错 价格 整体 来说 还 都 可以 祝 卖家 生意兴隆 越来越 好 再见 了",
          "非常 好 一 本书 值得 购买 一定 要 买 哦 不能 错过",
          "TcpIp 这 本书 是 一本 图解 我 和 另外 一 本书 一起 买 整体 来说 特别 不错 价格 整体 来说 还 都 可以 祝 卖家 生意兴隆 越来越 好 再见 了",
          "很 不错 一 本书 很 早就 期待 出版 了 这 不 看到 就 买 了 一本",
          "TcpIp 这 本书 是 一本 图解 我 和 另外 一 本书 一起 买 整体 来说 特别 不错 价格 整体 来说 还 都 可以 祝 卖家 生意兴隆 越来越 好 再见 了",
          "TcpIp 这 本书 是 一本 图解 我 和 另外 一 本书 一起 买 整体 来说 特别 不错 价格 整体 来说 还 都 可以 祝 卖家 生意兴隆 越来越 好 再见 了",
          "书 很 不错 活动 买 优惠 力度 非常 大 比较满意 一次 购物",
          "很 不错 一 本书 很 早就 期待 出版 了 这 不 看到 就 买 了 一本",
          "非常 好 一 本书 值得 购买 一定 要 买 哦 不能 错过",
          "非常 好 一 本书 值得 购买 一定 要 买 哦 不能 错过",
          "书 很 不错 活动 买 优惠 力度 非常 大 比较满意 一次 购物",
          "书 很 不错 活动 买 优惠 力度 非常 大 比较满意 一次 购物",
          "很 不错 一 本书 很 早就 期待 出版 了 这 不 看到 就 买 了 一本",
          "TcpIp 这 本书 是 一本 图解 我 和 另外 一 本书 一起 买 整体 来说 特别 不错 价格 整体 来说 还 都 可以 祝 卖家 生意兴隆 越来越 好 再见 了",
          "书 很 不错 活动 买 优惠 力度 非常 大 比较满意 一次 购物",
          "很 不错 一 本书 很 早就 期待 出版 了 这 不 看到 就 买 了 一本",
          "很 不错 一 本书 很 早就 期待 出版 了 这 不 看到 就 买 了 一本",
          "非常 好 一 本书 值得 购买 一定 要 买 哦 不能 错过",
          "书 很 不错 活动 买 优惠 力度 非常 大 比较满意 一次 购物",
          null
         ],
         "marker": {
          "opacity": 0.5,
          "size": 5
         },
         "mode": "markers+text",
         "name": "27_tcpip__",
         "text": [
          "",
          "",
          "",
          "",
          "",
          "",
          "",
          "",
          "",
          "",
          "",
          "",
          "",
          "",
          "",
          "",
          "",
          "",
          "",
          "",
          "27_tcpip__"
         ],
         "textfont": {
          "size": 12
         },
         "type": "scattergl",
         "x": [
          -6.954128,
          -6.9619727,
          -6.989844,
          -6.9685965,
          -6.9773116,
          -6.9936423,
          -6.975939,
          -6.9702272,
          -6.9583616,
          -6.9575315,
          -6.9675403,
          -6.970948,
          -6.971846,
          -6.961093,
          -6.968556,
          -6.97701,
          -6.9510717,
          -6.953984,
          -6.9989376,
          -6.9751325,
          -6.9701834
         ],
         "y": [
          7.743024,
          7.7349515,
          7.7072763,
          7.7284803,
          7.719771,
          7.703293,
          7.7210994,
          7.7268085,
          7.7386966,
          7.739535,
          7.729612,
          7.7260776,
          7.7251716,
          7.7359085,
          7.7284675,
          7.719983,
          7.7459297,
          7.7430806,
          7.6979094,
          7.721916,
          7.7268496
         ]
        },
        {
         "hoverinfo": "text",
         "hovertext": [
          "质量 好 ▽ 发货 快 赞 ≧ ▽ ≦",
          "质量 好 ▽ 发货 快 赞 ≧ ▽ ≦",
          "大牌 质量 信得过 味道 好极了",
          "质量 好 ▽ 发货 快 赞 ≧ ▽ ≦",
          "质量 好 ▽ 发货 快 赞 ≧ ▽ ≦",
          "大牌 质量 信得过 味道 好极了",
          "质量 好 ▽ 发货 快 赞 ≧ ▽ ≦",
          "书 质量 很 好  颜色 好",
          "书 质量 很 好  颜色 好",
          "大牌 质量 信得过 味道 好极了",
          "书 质量 很 好  颜色 好",
          "质量 好 ▽ 发货 快 赞 ≧ ▽ ≦",
          "质量 好 ▽ 发货 快 赞 ≧ ▽ ≦",
          "大牌 质量 信得过 味道 好极了",
          "书 质量 很 好  颜色 好",
          "质量 好 ▽ 发货 快 赞 ≧ ▽ ≦",
          "质量 好 ▽ 发货 快 赞 ≧ ▽ ≦",
          "质量 好 ▽ 发货 快 赞 ≧ ▽ ≦",
          "大牌 质量 信得过 味道 好极了",
          "书 质量 很 好  颜色 好",
          null
         ],
         "marker": {
          "opacity": 0.5,
          "size": 5
         },
         "mode": "markers+text",
         "name": "28___",
         "text": [
          "",
          "",
          "",
          "",
          "",
          "",
          "",
          "",
          "",
          "",
          "",
          "",
          "",
          "",
          "",
          "",
          "",
          "",
          "",
          "",
          "28___"
         ],
         "textfont": {
          "size": 12
         },
         "type": "scattergl",
         "x": [
          17.430557,
          17.432953,
          13.409993,
          17.430914,
          17.43125,
          13.410054,
          17.430641,
          13.409954,
          13.410056,
          13.410011,
          13.409084,
          17.434853,
          17.430176,
          13.409994,
          13.410065,
          17.431078,
          17.431007,
          17.430578,
          13.410021,
          13.41001,
          15.420662
         ],
         "y": [
          14.602983,
          14.600933,
          -0.6845072,
          14.602676,
          14.602347,
          -0.68456113,
          14.602972,
          -0.6845652,
          -0.68454695,
          -0.68464226,
          -0.68663466,
          14.598972,
          14.603373,
          -0.68452203,
          -0.6845177,
          14.602522,
          14.602604,
          14.602959,
          -0.6845074,
          -0.6845617,
          6.9587393
         ]
        },
        {
         "hoverinfo": "text",
         "hovertext": [
          "书本 质量 很 不错                       都 是 原封 书 内容 是 机器 学习 方面 内容 讲 也 很 不错 由于 是 一批 书 一起 买 就 一起 拍 了",
          "书本 质量 很 不错                       都 是 原封 书 内容 是 机器 学习 方面 内容 讲 也 很 不错 由于 是 一批 书 一起 买 就 一起 拍 了",
          "书本 质量 很 不错                       都 是 原封 书 内容 是 机器 学习 方面 内容 讲 也 很 不错 由于 是 一批 书 一起 买 就 一起 拍 了",
          "这 本书 现在 已经 在 江湖 上 有 了 绰号 那 就是 蒲公英 书 邱锡鹏 是 中科大 少年班 毕业 非常 聪明 但 没有 想到 书写 也 非常适合 入门者 可以 说 是 浅入 深出 书 排版 用 橙色 和 黄色 标注 了 关键 内容 体验 很 不错 这 让 我 很 惊讶 通常 来讲 机械工程 出版社 东西 都 挺 粗 非常 令 我 惊讶 是 这 本书 还 采用 了 新式 标点符号 用法 引号 和 引号 之间 书名号 和 书名号 之间 都 取消 了 顿号 看 非常 舒服",
          "业界 第一本 AI 测试 著作 干货 挺 多 质量 很 好 给 技术 部门 买 了 5 本 好好 拜读 学习 一下",
          "书本 质量 很 不错                       都 是 原封 书 内容 是 机器 学习 方面 内容 讲 也 很 不错 由于 是 一批 书 一起 买 就 一起 拍 了",
          "业界 第一本 AI 测试 著作 干货 挺 多 质量 很 好 给 技术 部门 买 了 5 本 好好 拜读 学习 一下",
          "业界 第一本 AI 测试 著作 干货 挺 多 质量 很 好 给 技术 部门 买 了 5 本 好好 拜读 学习 一下",
          "业界 第一本 AI 测试 著作 干货 挺 多 质量 很 好 给 技术 部门 买 了 5 本 好好 拜读 学习 一下",
          "业界 第一本 AI 测试 著作 干货 挺 多 质量 很 好 给 技术 部门 买 了 5 本 好好 拜读 学习 一下",
          "这 本书 现在 已经 在 江湖 上 有 了 绰号 那 就是 蒲公英 书 邱锡鹏 是 中科大 少年班 毕业 非常 聪明 但 没有 想到 书写 也 非常适合 入门者 可以 说 是 浅入 深出 书 排版 用 橙色 和 黄色 标注 了 关键 内容 体验 很 不错 这 让 我 很 惊讶 通常 来讲 机械工程 出版社 东西 都 挺 粗 非常 令 我 惊讶 是 这 本书 还 采用 了 新式 标点符号 用法 引号 和 引号 之间 书名号 和 书名号 之间 都 取消 了 顿号 看 非常 舒服",
          "这 本书 现在 已经 在 江湖 上 有 了 绰号 那 就是 蒲公英 书 邱锡鹏 是 中科大 少年班 毕业 非常 聪明 但 没有 想到 书写 也 非常适合 入门者 可以 说 是 浅入 深出 书 排版 用 橙色 和 黄色 标注 了 关键 内容 体验 很 不错 这 让 我 很 惊讶 通常 来讲 机械工程 出版社 东西 都 挺 粗 非常 令 我 惊讶 是 这 本书 还 采用 了 新式 标点符号 用法 引号 和 引号 之间 书名号 和 书名号 之间 都 取消 了 顿号 看 非常 舒服",
          "业界 第一本 AI 测试 著作 干货 挺 多 质量 很 好 给 技术 部门 买 了 5 本 好好 拜读 学习 一下",
          "业界 第一本 AI 测试 著作 干货 挺 多 质量 很 好 给 技术 部门 买 了 5 本 好好 拜读 学习 一下",
          "这 本书 现在 已经 在 江湖 上 有 了 绰号 那 就是 蒲公英 书 邱锡鹏 是 中科大 少年班 毕业 非常 聪明 但 没有 想到 书写 也 非常适合 入门者 可以 说 是 浅入 深出 书 排版 用 橙色 和 黄色 标注 了 关键 内容 体验 很 不错 这 让 我 很 惊讶 通常 来讲 机械工程 出版社 东西 都 挺 粗 非常 令 我 惊讶 是 这 本书 还 采用 了 新式 标点符号 用法 引号 和 引号 之间 书名号 和 书名号 之间 都 取消 了 顿号 看 非常 舒服",
          "书本 质量 很 不错                       都 是 原封 书 内容 是 机器 学习 方面 内容 讲 也 很 不错 由于 是 一批 书 一起 买 就 一起 拍 了",
          "业界 第一本 AI 测试 著作 干货 挺 多 质量 很 好 给 技术 部门 买 了 5 本 好好 拜读 学习 一下",
          "业界 第一本 AI 测试 著作 干货 挺 多 质量 很 好 给 技术 部门 买 了 5 本 好好 拜读 学习 一下",
          "这 本书 现在 已经 在 江湖 上 有 了 绰号 那 就是 蒲公英 书 邱锡鹏 是 中科大 少年班 毕业 非常 聪明 但 没有 想到 书写 也 非常适合 入门者 可以 说 是 浅入 深出 书 排版 用 橙色 和 黄色 标注 了 关键 内容 体验 很 不错 这 让 我 很 惊讶 通常 来讲 机械工程 出版社 东西 都 挺 粗 非常 令 我 惊讶 是 这 本书 还 采用 了 新式 标点符号 用法 引号 和 引号 之间 书名号 和 书名号 之间 都 取消 了 顿号 看 非常 舒服",
          "业界 第一本 AI 测试 著作 干货 挺 多 质量 很 好 给 技术 部门 买 了 5 本 好好 拜读 学习 一下",
          null
         ],
         "marker": {
          "opacity": 0.5,
          "size": 5
         },
         "mode": "markers+text",
         "name": "29_ai__",
         "text": [
          "",
          "",
          "",
          "",
          "",
          "",
          "",
          "",
          "",
          "",
          "",
          "",
          "",
          "",
          "",
          "",
          "",
          "",
          "",
          "",
          "29_ai__"
         ],
         "textfont": {
          "size": 12
         },
         "type": "scattergl",
         "x": [
          -5.711929,
          -5.737513,
          -5.722752,
          -5.705629,
          -4.000147,
          -5.730277,
          -4.000162,
          -4.0001807,
          -4.0001545,
          -4.0001326,
          -5.705148,
          -5.7099457,
          -4.0001855,
          -4.000182,
          -5.6962166,
          -5.7418027,
          -4.0001845,
          -4.00016,
          -5.718038,
          -4.0002685,
          -4.8590503
         ],
         "y": [
          -3.076111,
          -3.0492244,
          -3.0642867,
          -3.0802238,
          16.762402,
          -3.0580297,
          16.762377,
          16.762442,
          16.762388,
          16.762333,
          -3.0808775,
          -3.0762217,
          16.762342,
          16.762428,
          -3.0893657,
          -3.0481925,
          16.762463,
          16.761953,
          -3.0679805,
          16.762476,
          6.8466544
         ]
        },
        {
         "hoverinfo": "text",
         "hovertext": [
          "帮 部门 采购 书籍  出版社 直发  包装 扎实  满意",
          "图书 内容 很 好 实践 案例 讲 和 精细",
          "图书 很 好 包装 精细 内容 详实",
          "图书 内容 很 好 实践 案例 讲 和 精细",
          "图书 内容 很 好 实践 案例 讲 和 精细",
          "图书 内容 很 好 实践 案例 讲 和 精细",
          "帮 部门 采购 书籍  出版社 直发  包装 扎实  满意",
          "帮 部门 采购 书籍  出版社 直发  包装 扎实  满意",
          "图书 很 好 包装 精细 内容 详实",
          "图书 很 好 包装 精细 内容 详实",
          "图书 内容 很 好 实践 案例 讲 和 精细",
          "图书 很 好 包装 精细 内容 详实",
          "图书 很 好 包装 精细 内容 详实",
          "图书 很 好 包装 精细 内容 详实",
          "图书 很 好 包装 精细 内容 详实",
          "帮 部门 采购 书籍  出版社 直发  包装 扎实  满意",
          "图书 很 好 包装 精细 内容 详实",
          "帮 部门 采购 书籍  出版社 直发  包装 扎实  满意",
          "图书 很 好 包装 精细 内容 详实",
          "图书 很 好 包装 精细 内容 详实",
          null
         ],
         "marker": {
          "opacity": 0.5,
          "size": 5
         },
         "mode": "markers+text",
         "name": "30___",
         "text": [
          "",
          "",
          "",
          "",
          "",
          "",
          "",
          "",
          "",
          "",
          "",
          "",
          "",
          "",
          "",
          "",
          "",
          "",
          "",
          "",
          "30___"
         ],
         "textfont": {
          "size": 12
         },
         "type": "scattergl",
         "x": [
          7.2488327,
          7.277224,
          7.261527,
          7.2825975,
          7.2539024,
          7.2954917,
          7.2563543,
          7.2576284,
          7.249704,
          7.310893,
          7.270137,
          7.1428857,
          7.220945,
          7.1595435,
          7.154348,
          7.2712283,
          7.148265,
          7.238473,
          7.235313,
          7.140022,
          7.2337646
         ],
         "y": [
          1.0993387,
          1.0834976,
          1.0904118,
          1.0731864,
          1.1021712,
          1.0615591,
          1.0937408,
          1.092311,
          1.1023017,
          1.0421524,
          1.085724,
          1.1996182,
          1.1288588,
          1.1878194,
          1.1920496,
          1.0793437,
          1.1947718,
          1.0788738,
          1.1176072,
          1.2024667,
          1.1153902
         ]
        },
        {
         "hoverinfo": "text",
         "hovertext": [
          "书 封面设计 很漂亮 配色 好看 内容 部分 架构 清晰 结构合理 不错 书",
          "非常 好 包装 非常 精美",
          "书 非常 好 内容 详实 包装 精美",
          "非常 好 包装 非常 精美",
          "书 封面设计 很漂亮 配色 好看 内容 部分 架构 清晰 结构合理 不错 书",
          "非常 好 包装 非常 精美",
          "书 封面设计 很漂亮 配色 好看 内容 部分 架构 清晰 结构合理 不错 书",
          "书 封面设计 很漂亮 配色 好看 内容 部分 架构 清晰 结构合理 不错 书",
          "非常 好 包装 非常 精美",
          "非常 好 包装 非常 精美",
          "书 非常 好 内容 详实 包装 精美",
          "非常 好 包装 非常 精美",
          "非常 好 包装 非常 精美",
          "书 非常 好 内容 详实 包装 精美",
          "非常 好 包装 非常 精美",
          "书 非常 好 内容 详实 包装 精美",
          "书 封面设计 很漂亮 配色 好看 内容 部分 架构 清晰 结构合理 不错 书",
          "非常 好 包装 非常 精美",
          "书 非常 好 内容 详实 包装 精美",
          null
         ],
         "marker": {
          "opacity": 0.5,
          "size": 5
         },
         "mode": "markers+text",
         "name": "31___",
         "text": [
          "",
          "",
          "",
          "",
          "",
          "",
          "",
          "",
          "",
          "",
          "",
          "",
          "",
          "",
          "",
          "",
          "",
          "",
          "",
          "31___"
         ],
         "textfont": {
          "size": 12
         },
         "type": "scattergl",
         "x": [
          7.063152,
          14.074779,
          7.0766726,
          14.074646,
          7.062599,
          14.074724,
          7.040939,
          7.06749,
          14.074734,
          14.074624,
          7.090013,
          14.074741,
          14.074688,
          7.0788827,
          14.074261,
          7.1176553,
          7.0660763,
          14.074692,
          7.047068,
          10.388551
         ],
         "y": [
          1.2704498,
          1.9228421,
          1.2588458,
          1.9225427,
          1.2714406,
          1.9227465,
          1.2908005,
          1.2670082,
          1.9227694,
          1.9224949,
          1.2451572,
          1.9227132,
          1.9227257,
          1.2568599,
          1.9214698,
          1.2184184,
          1.2684743,
          1.9227335,
          1.2883803,
          1.5757302
         ]
        },
        {
         "hoverinfo": "text",
         "hovertext": [
          "书 很 新 很 好 下次 还会 再 来 机器 学习 冲冲",
          "慢慢 学  慢慢 啃  希望 能 学到 精华",
          "很 好 一本 深度 学习 书 下次 继续 买",
          "慢慢 学  慢慢 啃  希望 能 学到 精华",
          "慢慢 学  慢慢 啃  希望 能 学到 精华",
          "书 很 新 很 好 下次 还会 再 来 机器 学习 冲冲",
          "书 很 新 很 好 下次 还会 再 来 机器 学习 冲冲",
          "很 好 一本 深度 学习 书 下次 继续 买",
          "慢慢 学  慢慢 啃  希望 能 学到 精华",
          "书 很 新 很 好 下次 还会 再 来 机器 学习 冲冲",
          "很 好 一本 深度 学习 书 下次 继续 买",
          "很 好 一本 深度 学习 书 下次 继续 买",
          "很 好 一本 深度 学习 书 下次 继续 买",
          "书 很 新 很 好 下次 还会 再 来 机器 学习 冲冲",
          "慢慢 学  慢慢 啃  希望 能 学到 精华",
          "书 很 新 很 好 下次 还会 再 来 机器 学习 冲冲",
          null
         ],
         "marker": {
          "opacity": 0.5,
          "size": 5
         },
         "mode": "markers+text",
         "name": "32___",
         "text": [
          "",
          "",
          "",
          "",
          "",
          "",
          "",
          "",
          "",
          "",
          "",
          "",
          "",
          "",
          "",
          "",
          "32___"
         ],
         "textfont": {
          "size": 12
         },
         "type": "scattergl",
         "x": [
          -2.2995787,
          -1.1810024,
          -1.1010876,
          -1.1764008,
          -1.1575159,
          -2.299249,
          -2.290818,
          -1.1374315,
          -1.1735854,
          -2.3114321,
          -1.1228623,
          -1.1372837,
          -1.1653736,
          -2.3123317,
          -1.1592052,
          -2.2997317,
          -1.5828055
         ],
         "y": [
          2.0429313,
          -4.012555,
          -4.098923,
          -4.018919,
          -4.0391746,
          2.0430553,
          2.0564878,
          -4.0606976,
          -4.022287,
          2.031137,
          -4.0766106,
          -4.06214,
          -4.0314918,
          2.0300486,
          -4.037357,
          2.0427415,
          -1.7633595
         ]
        },
        {
         "hoverinfo": "text",
         "hovertext": [
          "618 活动 购买 活动 很 给 力 很 适合 囤书 物流 速度 很快 618 当天 下单 隔天 就 到 了 书 质量 很 好 满意 给 好评",
          "还 不错  活动 时买 便宜  送货 很快  不受 618 影响",
          "618 活动 购买 活动 很 给 力 很 适合 囤书 物流 速度 很快 618 当天 下单 隔天 就 到 了 书 质量 很 好 满意 给 好评",
          "618 活动 购买 活动 很 给 力 很 适合 囤书 物流 速度 很快 618 当天 下单 隔天 就 到 了 书 质量 很 好 满意 给 好评",
          "618 活动 购买 活动 很 给 力 很 适合 囤书 物流 速度 很快 618 当天 下单 隔天 就 到 了 书 质量 很 好 满意 给 好评",
          "还 不错  活动 时买 便宜  送货 很快  不受 618 影响",
          "618 活动 购买 活动 很 给 力 很 适合 囤书 物流 速度 很快 618 当天 下单 隔天 就 到 了 书 质量 很 好 满意 给 好评",
          "618 活动 购买 活动 很 给 力 很 适合 囤书 物流 速度 很快 618 当天 下单 隔天 就 到 了 书 质量 很 好 满意 给 好评",
          "还 不错  活动 时买 便宜  送货 很快  不受 618 影响",
          "618 活动 购买 活动 很 给 力 很 适合 囤书 物流 速度 很快 618 当天 下单 隔天 就 到 了 书 质量 很 好 满意 给 好评",
          "618 活动 购买 活动 很 给 力 很 适合 囤书 物流 速度 很快 618 当天 下单 隔天 就 到 了 书 质量 很 好 满意 给 好评",
          "618 活动 购买 活动 很 给 力 很 适合 囤书 物流 速度 很快 618 当天 下单 隔天 就 到 了 书 质量 很 好 满意 给 好评",
          "618 活动 购买 活动 很 给 力 很 适合 囤书 物流 速度 很快 618 当天 下单 隔天 就 到 了 书 质量 很 好 满意 给 好评",
          "还 不错  活动 时买 便宜  送货 很快  不受 618 影响",
          "还 不错  活动 时买 便宜  送货 很快  不受 618 影响",
          null
         ],
         "marker": {
          "opacity": 0.5,
          "size": 5
         },
         "mode": "markers+text",
         "name": "33_618__",
         "text": [
          "",
          "",
          "",
          "",
          "",
          "",
          "",
          "",
          "",
          "",
          "",
          "",
          "",
          "",
          "",
          "33_618__"
         ],
         "textfont": {
          "size": 12
         },
         "type": "scattergl",
         "x": [
          -3.216744,
          5.0682592,
          -3.2167168,
          -3.2179122,
          -3.2174735,
          5.0683236,
          -3.2165658,
          -3.2166731,
          5.068295,
          -3.217196,
          -3.2197616,
          -3.2168674,
          -3.2169387,
          5.068352,
          5.068403,
          -0.45541447
         ],
         "y": [
          21.371635,
          14.806228,
          21.371634,
          21.372679,
          21.37226,
          14.806178,
          21.37144,
          21.371582,
          14.806152,
          21.372002,
          21.37422,
          21.371708,
          21.37179,
          14.806189,
          14.806205,
          19.18346
         ]
        },
        {
         "hoverinfo": "text",
         "hovertext": [
          "印刷 内容 物流 都 特别 好",
          "物流 很快 质量 也 很 好 希望 自己 能 有 收获",
          "特别 喜欢 好看 印刷 质量 也好 推荐 很多 人 看 了",
          "特别 喜欢 好看 印刷 质量 也好 推荐 很多 人 看 了",
          "物流 很快 质量 也 很 好 希望 自己 能 有 收获",
          "特别 喜欢 好看 印刷 质量 也好 推荐 很多 人 看 了",
          "特别 喜欢 好看 印刷 质量 也好 推荐 很多 人 看 了",
          "物流 很快 质量 也 很 好 希望 自己 能 有 收获",
          "印刷 内容 物流 都 特别 好",
          "印刷 内容 物流 都 特别 好",
          "物流 很快 质量 也 很 好 希望 自己 能 有 收获",
          "物流 很快 质量 也 很 好 希望 自己 能 有 收获",
          "印刷 内容 物流 都 特别 好",
          "特别 喜欢 好看 印刷 质量 也好 推荐 很多 人 看 了",
          "印刷 内容 物流 都 特别 好",
          null
         ],
         "marker": {
          "opacity": 0.5,
          "size": 5
         },
         "mode": "markers+text",
         "name": "34___",
         "text": [
          "",
          "",
          "",
          "",
          "",
          "",
          "",
          "",
          "",
          "",
          "",
          "",
          "",
          "",
          "",
          "34___"
         ],
         "textfont": {
          "size": 12
         },
         "type": "scattergl",
         "x": [
          16.82463,
          8.185602,
          16.824697,
          16.825087,
          8.185631,
          16.833405,
          16.824966,
          8.185597,
          16.82467,
          16.82487,
          8.185524,
          8.185672,
          16.819342,
          16.825247,
          16.824692,
          13.945309
         ],
         "y": [
          5.1530023,
          16.43212,
          5.1530437,
          5.1534743,
          16.432137,
          5.16128,
          5.15336,
          16.432123,
          5.152965,
          5.15325,
          16.432104,
          16.432152,
          5.1473455,
          5.153606,
          5.153031,
          8.912999
         ]
        },
        {
         "hoverinfo": "text",
         "hovertext": [
          "书 不错 送货 速度 快 搞 活动 时候 买 很 优惠 学习 中",
          "书 不错 送货 速度 快 搞 活动 时候 买 很 优惠 学习 中",
          "书 不错 送货 速度 快 搞 活动 时候 买 很 优惠 学习 中",
          "非常 好 图书 价格 实惠 送货 很快 质量 很 好 非常 满意",
          "书 不错 送货 速度 快 搞 活动 时候 买 很 优惠 学习 中",
          "书 不错 送货 速度 快 搞 活动 时候 买 很 优惠 学习 中",
          "非常 好 图书 价格 实惠 送货 很快 质量 很 好 非常 满意",
          "书 不错 送货 速度 快 搞 活动 时候 买 很 优惠 学习 中",
          "非常 好 图书 价格 实惠 送货 很快 质量 很 好 非常 满意",
          "非常 好 图书 价格 实惠 送货 很快 质量 很 好 非常 满意",
          "书 不错 送货 速度 快 搞 活动 时候 买 很 优惠 学习 中",
          "非常 好 图书 价格 实惠 送货 很快 质量 很 好 非常 满意",
          "书 不错 送货 速度 快 搞 活动 时候 买 很 优惠 学习 中",
          "书 不错 送货 速度 快 搞 活动 时候 买 很 优惠 学习 中",
          "书 不错 送货 速度 快 搞 活动 时候 买 很 优惠 学习 中",
          null
         ],
         "marker": {
          "opacity": 0.5,
          "size": 5
         },
         "mode": "markers+text",
         "name": "35___",
         "text": [
          "",
          "",
          "",
          "",
          "",
          "",
          "",
          "",
          "",
          "",
          "",
          "",
          "",
          "",
          "",
          "35___"
         ],
         "textfont": {
          "size": 12
         },
         "type": "scattergl",
         "x": [
          11.39662,
          11.397883,
          11.396607,
          12.771852,
          11.396695,
          11.396778,
          12.765841,
          11.394469,
          12.766122,
          12.777283,
          11.396468,
          12.724228,
          11.396546,
          11.396661,
          11.396741,
          11.851386
         ],
         "y": [
          15.712432,
          15.713539,
          15.712398,
          5.3980007,
          15.71246,
          15.712514,
          5.4043155,
          15.710956,
          5.4040365,
          5.392595,
          15.7124605,
          5.4457765,
          15.712417,
          15.712518,
          15.712446,
          12.277924
         ]
        },
        {
         "hoverinfo": "text",
         "hovertext": [
          "书 是 正品 质量 很 好 值得 购买",
          "物美价廉 物有所值 非常 值得 推荐",
          "书 是 正品 质量 很 好 值得 购买",
          "书 是 正品 质量 很 好 值得 购买",
          "书 质量 很 好 价格 也 很 实惠 好评",
          "书 质量 很 好 价格 也 很 实惠 好评",
          "物美价廉 物有所值 非常 值得 推荐",
          "书 是 正品 质量 很 好 值得 购买",
          "书 质量 很 好 价格 也 很 实惠 好评",
          "书 质量 很 好 价格 也 很 实惠 好评",
          "物美价廉 物有所值 非常 值得 推荐",
          "物美价廉 物有所值 非常 值得 推荐",
          "书 质量 很 好 价格 也 很 实惠 好评",
          "书 是 正品 质量 很 好 值得 购买",
          "物美价廉 物有所值 非常 值得 推荐",
          null
         ],
         "marker": {
          "opacity": 0.5,
          "size": 5
         },
         "mode": "markers+text",
         "name": "36___",
         "text": [
          "",
          "",
          "",
          "",
          "",
          "",
          "",
          "",
          "",
          "",
          "",
          "",
          "",
          "",
          "",
          "36___"
         ],
         "textfont": {
          "size": 12
         },
         "type": "scattergl",
         "x": [
          12.748721,
          12.767963,
          12.737704,
          12.758635,
          12.747915,
          12.76315,
          12.767667,
          12.741794,
          12.7661,
          12.752307,
          12.767369,
          12.767403,
          12.752712,
          12.7193575,
          12.766899,
          12.755048
         ],
         "y": [
          5.4215145,
          5.402099,
          5.4324684,
          5.411658,
          5.4222894,
          5.406968,
          5.4025087,
          5.42833,
          5.404059,
          5.417847,
          5.4028025,
          5.4027395,
          5.417388,
          5.45076,
          5.4032106,
          5.4151096
         ]
        },
        {
         "hoverinfo": "text",
         "hovertext": [
          "图灵 出品 书籍 图解 教程 web 开发 必备 书籍 涵盖 了 相关 技术 新 方向 包含 了 172 张 图解 协议 涉及 web 安全 新 技术 动向 属于 经典 指南 系列 作者 是 日本 人 内容 通俗易懂 有图 有 案例 很 容易接受 半价 买入 相当 实惠 hellip",
          "图灵 出品 书籍 图解 教程 web 开发 必备 书籍 涵盖 了 相关 技术 新 方向 包含 了 172 张 图解 协议 涉及 web 安全 新 技术 动向 属于 经典 指南 系列 作者 是 日本 人 内容 通俗易懂 有图 有 案例 很 容易接受 半价 买入 相当 实惠 hellip",
          "产品 与 原图 相符 收到 这 本书 塑料 外包装 稍 有 破损 但 不 影响 全新 非常 干净 无 折痕 破损 纸质 非常 好 摸 起来 特别 舒服 可以 有 一个 很 好 学习 体验 买 新书 不买 二手书 不 就 图 一个 质量 吗 如果 注重 舒适感 以及 手感 人 推荐 买 这 本书",
          "书 不错 包装 也 很 完整 快递 袋 终于 换成 泡沫 袋 了 拿到 手 几乎 没有 磕碰 吧 比较满意 然后 谈谈 这 本事 看法 吧 起码 一起 下单 了 两本 另外 一 本书 是 Pytorch 深度 学习 相比 那本书 这 本书 好太多 了 虽然 这 本书 讲 也 不是 特别 全 但是 还是 比较 适合 大多数 小伙伴 入门 Pytorch 其一 这 本书 很 新 四月份 出版 所以 内容 采用 也 是 1.3 版本 相对而言 好 很多 了 其二 这 本书 讲解 通俗易懂 而且 有 浅 有 深 很 有 层次感 也 讲解 了 很多 详细 细节 特别 是 第二章 讲解 Pytorch 框架 时候 讲解 特别 清晰 对 初学者 帮助 特别 多 作者 写作 功底 也 是 很 高 是 个 大神 好 了 不 说 了 学习 学习",
          "书 不错 包装 也 很 完整 快递 袋 终于 换成 泡沫 袋 了 拿到 手 几乎 没有 磕碰 吧 比较满意 然后 谈谈 这 本事 看法 吧 起码 一起 下单 了 两本 另外 一 本书 是 Pytorch 深度 学习 相比 那本书 这 本书 好太多 了 虽然 这 本书 讲 也 不是 特别 全 但是 还是 比较 适合 大多数 小伙伴 入门 Pytorch 其一 这 本书 很 新 四月份 出版 所以 内容 采用 也 是 1.3 版本 相对而言 好 很多 了 其二 这 本书 讲解 通俗易懂 而且 有 浅 有 深 很 有 层次感 也 讲解 了 很多 详细 细节 特别 是 第二章 讲解 Pytorch 框架 时候 讲解 特别 清晰 对 初学者 帮助 特别 多 作者 写作 功底 也 是 很 高 是 个 大神 好 了 不 说 了 学习 学习",
          "书 不错 包装 也 很 完整 快递 袋 终于 换成 泡沫 袋 了 拿到 手 几乎 没有 磕碰 吧 比较满意 然后 谈谈 这 本事 看法 吧 起码 一起 下单 了 两本 另外 一 本书 是 Pytorch 深度 学习 相比 那本书 这 本书 好太多 了 虽然 这 本书 讲 也 不是 特别 全 但是 还是 比较 适合 大多数 小伙伴 入门 Pytorch 其一 这 本书 很 新 四月份 出版 所以 内容 采用 也 是 1.3 版本 相对而言 好 很多 了 其二 这 本书 讲解 通俗易懂 而且 有 浅 有 深 很 有 层次感 也 讲解 了 很多 详细 细节 特别 是 第二章 讲解 Pytorch 框架 时候 讲解 特别 清晰 对 初学者 帮助 特别 多 作者 写作 功底 也 是 很 高 是 个 大神 好 了 不 说 了 学习 学习",
          "产品 与 原图 相符 收到 这 本书 塑料 外包装 稍 有 破损 但 不 影响 全新 非常 干净 无 折痕 破损 纸质 非常 好 摸 起来 特别 舒服 可以 有 一个 很 好 学习 体验 买 新书 不买 二手书 不 就 图 一个 质量 吗 如果 注重 舒适感 以及 手感 人 推荐 买 这 本书",
          "书 不错 包装 也 很 完整 快递 袋 终于 换成 泡沫 袋 了 拿到 手 几乎 没有 磕碰 吧 比较满意 然后 谈谈 这 本事 看法 吧 起码 一起 下单 了 两本 另外 一 本书 是 Pytorch 深度 学习 相比 那本书 这 本书 好太多 了 虽然 这 本书 讲 也 不是 特别 全 但是 还是 比较 适合 大多数 小伙伴 入门 Pytorch 其一 这 本书 很 新 四月份 出版 所以 内容 采用 也 是 1.3 版本 相对而言 好 很多 了 其二 这 本书 讲解 通俗易懂 而且 有 浅 有 深 很 有 层次感 也 讲解 了 很多 详细 细节 特别 是 第二章 讲解 Pytorch 框架 时候 讲解 特别 清晰 对 初学者 帮助 特别 多 作者 写作 功底 也 是 很 高 是 个 大神 好 了 不 说 了 学习 学习",
          "产品 与 原图 相符 收到 这 本书 塑料 外包装 稍 有 破损 但 不 影响 全新 非常 干净 无 折痕 破损 纸质 非常 好 摸 起来 特别 舒服 可以 有 一个 很 好 学习 体验 买 新书 不买 二手书 不 就 图 一个 质量 吗 如果 注重 舒适感 以及 手感 人 推荐 买 这 本书",
          "图灵 出品 书籍 图解 教程 web 开发 必备 书籍 涵盖 了 相关 技术 新 方向 包含 了 172 张 图解 协议 涉及 web 安全 新 技术 动向 属于 经典 指南 系列 作者 是 日本 人 内容 通俗易懂 有图 有 案例 很 容易接受 半价 买入 相当 实惠 hellip",
          "图灵 出品 书籍 图解 教程 web 开发 必备 书籍 涵盖 了 相关 技术 新 方向 包含 了 172 张 图解 协议 涉及 web 安全 新 技术 动向 属于 经典 指南 系列 作者 是 日本 人 内容 通俗易懂 有图 有 案例 很 容易接受 半价 买入 相当 实惠 hellip",
          "书 不错 包装 也 很 完整 快递 袋 终于 换成 泡沫 袋 了 拿到 手 几乎 没有 磕碰 吧 比较满意 然后 谈谈 这 本事 看法 吧 起码 一起 下单 了 两本 另外 一 本书 是 Pytorch 深度 学习 相比 那本书 这 本书 好太多 了 虽然 这 本书 讲 也 不是 特别 全 但是 还是 比较 适合 大多数 小伙伴 入门 Pytorch 其一 这 本书 很 新 四月份 出版 所以 内容 采用 也 是 1.3 版本 相对而言 好 很多 了 其二 这 本书 讲解 通俗易懂 而且 有 浅 有 深 很 有 层次感 也 讲解 了 很多 详细 细节 特别 是 第二章 讲解 Pytorch 框架 时候 讲解 特别 清晰 对 初学者 帮助 特别 多 作者 写作 功底 也 是 很 高 是 个 大神 好 了 不 说 了 学习 学习",
          "图灵 出品 书籍 图解 教程 web 开发 必备 书籍 涵盖 了 相关 技术 新 方向 包含 了 172 张 图解 协议 涉及 web 安全 新 技术 动向 属于 经典 指南 系列 作者 是 日本 人 内容 通俗易懂 有图 有 案例 很 容易接受 半价 买入 相当 实惠 hellip",
          "产品 与 原图 相符 收到 这 本书 塑料 外包装 稍 有 破损 但 不 影响 全新 非常 干净 无 折痕 破损 纸质 非常 好 摸 起来 特别 舒服 可以 有 一个 很 好 学习 体验 买 新书 不买 二手书 不 就 图 一个 质量 吗 如果 注重 舒适感 以及 手感 人 推荐 买 这 本书",
          "产品 与 原图 相符 收到 这 本书 塑料 外包装 稍 有 破损 但 不 影响 全新 非常 干净 无 折痕 破损 纸质 非常 好 摸 起来 特别 舒服 可以 有 一个 很 好 学习 体验 买 新书 不买 二手书 不 就 图 一个 质量 吗 如果 注重 舒适感 以及 手感 人 推荐 买 这 本书",
          null
         ],
         "marker": {
          "opacity": 0.5,
          "size": 5
         },
         "mode": "markers+text",
         "name": "37_web_172_13",
         "text": [
          "",
          "",
          "",
          "",
          "",
          "",
          "",
          "",
          "",
          "",
          "",
          "",
          "",
          "",
          "",
          "37_web_172_13"
         ],
         "textfont": {
          "size": 12
         },
         "type": "scattergl",
         "x": [
          -10.886611,
          -10.886565,
          -10.887725,
          -10.884122,
          -10.884803,
          -10.8847885,
          -10.885906,
          -10.883924,
          -10.88669,
          -10.888456,
          -10.887457,
          -10.880114,
          -10.902122,
          -10.873499,
          -10.879457,
          -10.885483
         ],
         "y": [
          14.733125,
          14.7331505,
          14.73199,
          14.735445,
          14.734929,
          14.73494,
          14.733787,
          14.73581,
          14.733122,
          14.731234,
          14.732253,
          14.739655,
          14.717499,
          14.746194,
          14.740173,
          14.7342205
         ]
        },
        {
         "hoverinfo": "text",
         "hovertext": [
          "书 很 好 包装 也 很 好 没有 破损 也 没有 空白页 纸张 质量 也 不错 开始 学习",
          "包装 很 好 没有 损坏 购物 体验 不错 内容 等 读过 之后 再 做 评价",
          "书 很 好 包装 也 很 好 没有 破损 也 没有 空白页 纸张 质量 也 不错 开始 学习",
          "书 很 好 包装 也 很 好 没有 破损 也 没有 空白页 纸张 质量 也 不错 开始 学习",
          "包装 很 好 没有 损坏 购物 体验 不错 内容 等 读过 之后 再 做 评价",
          "书 很 好 包装 也 很 好 没有 破损 也 没有 空白页 纸张 质量 也 不错 开始 学习",
          "书 很 好 包装 也 很 好 没有 破损 也 没有 空白页 纸张 质量 也 不错 开始 学习",
          "包装 很 好 没有 损坏 购物 体验 不错 内容 等 读过 之后 再 做 评价",
          "书 很 好 包装 也 很 好 没有 破损 也 没有 空白页 纸张 质量 也 不错 开始 学习",
          "书 很 好 包装 也 很 好 没有 破损 也 没有 空白页 纸张 质量 也 不错 开始 学习",
          "书 很 好 包装 也 很 好 没有 破损 也 没有 空白页 纸张 质量 也 不错 开始 学习",
          "书 很 好 包装 也 很 好 没有 破损 也 没有 空白页 纸张 质量 也 不错 开始 学习",
          "包装 很 好 没有 损坏 购物 体验 不错 内容 等 读过 之后 再 做 评价",
          "包装 很 好 没有 损坏 购物 体验 不错 内容 等 读过 之后 再 做 评价",
          "书 很 好 包装 也 很 好 没有 破损 也 没有 空白页 纸张 质量 也 不错 开始 学习",
          null
         ],
         "marker": {
          "opacity": 0.5,
          "size": 5
         },
         "mode": "markers+text",
         "name": "38___",
         "text": [
          "",
          "",
          "",
          "",
          "",
          "",
          "",
          "",
          "",
          "",
          "",
          "",
          "",
          "",
          "",
          "38___"
         ],
         "textfont": {
          "size": 12
         },
         "type": "scattergl",
         "x": [
          1.0247563,
          1.038382,
          1.018776,
          1.0421861,
          1.0321138,
          1.0616803,
          1.0351633,
          1.0629582,
          1.0341597,
          1.0340482,
          1.0265013,
          1.0261642,
          1.0480068,
          1.039087,
          1.0376014,
          1.0374391
         ],
         "y": [
          18.557829,
          18.571362,
          18.551922,
          18.57522,
          18.565142,
          18.5947,
          18.56825,
          18.595848,
          18.56712,
          18.56709,
          18.559542,
          18.559067,
          18.58095,
          18.572067,
          18.57064,
          18.570448
         ]
        },
        {
         "hoverinfo": "text",
         "hovertext": [
          "非常 赞 一 本书 非常适合 初学者",
          "非常 赞 一 本书 非常适合 初学者",
          "很 专业 一 本书 对于 程序员 来说 很 有 价值",
          "非常 赞 一 本书 非常适合 初学者",
          "很 专业 一 本书 对于 程序员 来说 很 有 价值",
          "很 专业 一 本书 对于 程序员 来说 很 有 价值",
          "非常 赞 一 本书 非常适合 初学者",
          "非常 好 书 之前 忘 了 评价",
          "非常 好 书 之前 忘 了 评价",
          "非常 好 书 之前 忘 了 评价",
          "非常 好 书 之前 忘 了 评价",
          "非常 好 书 之前 忘 了 评价",
          "很 专业 一 本书 对于 程序员 来说 很 有 价值",
          "很 专业 一 本书 对于 程序员 来说 很 有 价值",
          "非常 赞 一 本书 非常适合 初学者",
          null
         ],
         "marker": {
          "opacity": 0.5,
          "size": 5
         },
         "mode": "markers+text",
         "name": "39___",
         "text": [
          "",
          "",
          "",
          "",
          "",
          "",
          "",
          "",
          "",
          "",
          "",
          "",
          "",
          "",
          "",
          "39___"
         ],
         "textfont": {
          "size": 12
         },
         "type": "scattergl",
         "x": [
          2.741771,
          2.7381592,
          2.7466607,
          2.746439,
          2.745789,
          2.7461114,
          2.7492552,
          2.7271514,
          2.717633,
          2.7406604,
          2.7184777,
          2.7354698,
          2.75228,
          2.7452846,
          2.739058,
          2.7393467
         ],
         "y": [
          -10.930017,
          -10.926508,
          -10.93471,
          -10.934665,
          -10.93407,
          -10.934333,
          -10.937577,
          -10.91549,
          -10.905872,
          -10.929053,
          -10.906776,
          -10.923852,
          -10.940473,
          -10.933604,
          -10.927182,
          -10.927613
         ]
        },
        {
         "hoverinfo": "text",
         "hovertext": [
          "很 好 适合 想 学 点儿 技术 产品 人 简单 易懂",
          "非常 不错 一本 好书 学习 新 技术 好帮手 值得 拥有 一次 不错 购物 体验",
          "很 好 适合 想 学 点儿 技术 产品 人 简单 易懂",
          "非常 不错 一本 好书 学习 新 技术 好帮手 值得 拥有 一次 不错 购物 体验",
          "很 好 适合 想 学 点儿 技术 产品 人 简单 易懂",
          "很 好 适合 想 学 点儿 技术 产品 人 简单 易懂",
          "图书 质量 很 好 也 很 适合 新手 学习",
          "非常 不错 一本 好书 学习 新 技术 好帮手 值得 拥有 一次 不错 购物 体验",
          "图书 质量 很 好 也 很 适合 新手 学习",
          "图书 质量 很 好 也 很 适合 新手 学习",
          "很 好 适合 想 学 点儿 技术 产品 人 简单 易懂",
          "非常 不错 一本 好书 学习 新 技术 好帮手 值得 拥有 一次 不错 购物 体验",
          "图书 质量 很 好 也 很 适合 新手 学习",
          "图书 质量 很 好 也 很 适合 新手 学习",
          "非常 不错 一本 好书 学习 新 技术 好帮手 值得 拥有 一次 不错 购物 体验",
          null
         ],
         "marker": {
          "opacity": 0.5,
          "size": 5
         },
         "mode": "markers+text",
         "name": "40___",
         "text": [
          "",
          "",
          "",
          "",
          "",
          "",
          "",
          "",
          "",
          "",
          "",
          "",
          "",
          "",
          "",
          "40___"
         ],
         "textfont": {
          "size": 12
         },
         "type": "scattergl",
         "x": [
          -0.058649935,
          -0.067689836,
          -0.09321325,
          -0.11527638,
          -0.07853083,
          -0.0868598,
          -0.2397317,
          -0.09866693,
          -0.23002228,
          -0.25952557,
          -0.08768842,
          -0.09922108,
          -0.22152247,
          -0.2529835,
          -0.13022497,
          -0.14132047
         ],
         "y": [
          -5.1931286,
          -5.17937,
          -5.161935,
          -5.142172,
          -5.174832,
          -5.1676135,
          -5.026126,
          -5.156781,
          -5.031651,
          -5.007877,
          -5.166925,
          -5.1627836,
          -5.041311,
          -5.0137224,
          -5.1257863,
          -5.116801
         ]
        },
        {
         "hoverinfo": "text",
         "hovertext": [
          "这 套书 是 和 程序员 数学 那套 一起 买 同样 都 是 结城浩 作品 结城浩 书籍 无论是 程序员 系列 还是 数学 系列 都 很 不错 图解 系列 也 看过 几本 日本 作者 书籍 普遍 都 非常 风趣 易懂 密码学 大多数 时候 都 很 复杂 枯燥 结城浩 这 本书 却 非常 通俗易懂 结合 大量 配图 将 密码学 带入 每个 人 面前 好评",
          "书 质量 很 不错 身边 很多 朋友 都 买 了 这 本书 都 说 不错 里面 关于 机器 学习 原理 和 算法 都 讲 很 好 努 努力 把 书 看 完 争取 找个 好 工作 再说 一句 物流 很快 第一天 下单 第二天 就 到 了 服务 也 很 好 好评",
          "书 质量 非常 好 买 了 看起来 很 舒服 昨晚 下单 今 早就 送到 了 非常 快 这 本书 对 推荐 系统 讲解 非常 好 从 基础 协同 过滤 一直 到 基于 深度 学习 DIN 模型 整个 框架 讲 很 详细 是 一本 极好 书 非常 推荐 购买 加油 看起来",
          "这 套书 是 和 程序员 数学 那套 一起 买 同样 都 是 结城浩 作品 结城浩 书籍 无论是 程序员 系列 还是 数学 系列 都 很 不错 图解 系列 也 看过 几本 日本 作者 书籍 普遍 都 非常 风趣 易懂 密码学 大多数 时候 都 很 复杂 枯燥 结城浩 这 本书 却 非常 通俗易懂 结合 大量 配图 将 密码学 带入 每个 人 面前 好评",
          "这 套书 是 和 程序员 数学 那套 一起 买 同样 都 是 结城浩 作品 结城浩 书籍 无论是 程序员 系列 还是 数学 系列 都 很 不错 图解 系列 也 看过 几本 日本 作者 书籍 普遍 都 非常 风趣 易懂 密码学 大多数 时候 都 很 复杂 枯燥 结城浩 这 本书 却 非常 通俗易懂 结合 大量 配图 将 密码学 带入 每个 人 面前 好评",
          "这 套书 是 和 程序员 数学 那套 一起 买 同样 都 是 结城浩 作品 结城浩 书籍 无论是 程序员 系列 还是 数学 系列 都 很 不错 图解 系列 也 看过 几本 日本 作者 书籍 普遍 都 非常 风趣 易懂 密码学 大多数 时候 都 很 复杂 枯燥 结城浩 这 本书 却 非常 通俗易懂 结合 大量 配图 将 密码学 带入 每个 人 面前 好评",
          "书 质量 很 不错 身边 很多 朋友 都 买 了 这 本书 都 说 不错 里面 关于 机器 学习 原理 和 算法 都 讲 很 好 努 努力 把 书 看 完 争取 找个 好 工作 再说 一句 物流 很快 第一天 下单 第二天 就 到 了 服务 也 很 好 好评",
          "书 质量 非常 好 买 了 看起来 很 舒服 昨晚 下单 今 早就 送到 了 非常 快 这 本书 对 推荐 系统 讲解 非常 好 从 基础 协同 过滤 一直 到 基于 深度 学习 DIN 模型 整个 框架 讲 很 详细 是 一本 极好 书 非常 推荐 购买 加油 看起来",
          "书 质量 很 不错 身边 很多 朋友 都 买 了 这 本书 都 说 不错 里面 关于 机器 学习 原理 和 算法 都 讲 很 好 努 努力 把 书 看 完 争取 找个 好 工作 再说 一句 物流 很快 第一天 下单 第二天 就 到 了 服务 也 很 好 好评",
          "书 质量 很 不错 身边 很多 朋友 都 买 了 这 本书 都 说 不错 里面 关于 机器 学习 原理 和 算法 都 讲 很 好 努 努力 把 书 看 完 争取 找个 好 工作 再说 一句 物流 很快 第一天 下单 第二天 就 到 了 服务 也 很 好 好评",
          "这 套书 是 和 程序员 数学 那套 一起 买 同样 都 是 结城浩 作品 结城浩 书籍 无论是 程序员 系列 还是 数学 系列 都 很 不错 图解 系列 也 看过 几本 日本 作者 书籍 普遍 都 非常 风趣 易懂 密码学 大多数 时候 都 很 复杂 枯燥 结城浩 这 本书 却 非常 通俗易懂 结合 大量 配图 将 密码学 带入 每个 人 面前 好评",
          "书 质量 很 不错 身边 很多 朋友 都 买 了 这 本书 都 说 不错 里面 关于 机器 学习 原理 和 算法 都 讲 很 好 努 努力 把 书 看 完 争取 找个 好 工作 再说 一句 物流 很快 第一天 下单 第二天 就 到 了 服务 也 很 好 好评",
          "书 质量 非常 好 买 了 看起来 很 舒服 昨晚 下单 今 早就 送到 了 非常 快 这 本书 对 推荐 系统 讲解 非常 好 从 基础 协同 过滤 一直 到 基于 深度 学习 DIN 模型 整个 框架 讲 很 详细 是 一本 极好 书 非常 推荐 购买 加油 看起来",
          "书 质量 非常 好 买 了 看起来 很 舒服 昨晚 下单 今 早就 送到 了 非常 快 这 本书 对 推荐 系统 讲解 非常 好 从 基础 协同 过滤 一直 到 基于 深度 学习 DIN 模型 整个 框架 讲 很 详细 是 一本 极好 书 非常 推荐 购买 加油 看起来",
          "书 质量 非常 好 买 了 看起来 很 舒服 昨晚 下单 今 早就 送到 了 非常 快 这 本书 对 推荐 系统 讲解 非常 好 从 基础 协同 过滤 一直 到 基于 深度 学习 DIN 模型 整个 框架 讲 很 详细 是 一本 极好 书 非常 推荐 购买 加油 看起来",
          null
         ],
         "marker": {
          "opacity": 0.5,
          "size": 5
         },
         "mode": "markers+text",
         "name": "41_din__",
         "text": [
          "",
          "",
          "",
          "",
          "",
          "",
          "",
          "",
          "",
          "",
          "",
          "",
          "",
          "",
          "",
          "41_din__"
         ],
         "textfont": {
          "size": 12
         },
         "type": "scattergl",
         "x": [
          -5.921142,
          -5.8743305,
          -5.934691,
          -5.883351,
          -5.8803,
          -5.8655424,
          -5.8673472,
          -5.9342494,
          -5.8973465,
          -5.9017506,
          -5.876655,
          -5.9259825,
          -5.91514,
          -5.912769,
          -5.9167113,
          -5.900487
         ],
         "y": [
          -2.890432,
          -2.9334185,
          -2.8762999,
          -2.927291,
          -2.9307306,
          -2.9438307,
          -2.9400759,
          -2.8787658,
          -2.9112206,
          -2.9075832,
          -2.93367,
          -2.8840427,
          -2.8950672,
          -2.8972044,
          -2.893244,
          -2.9095252
         ]
        },
        {
         "hoverinfo": "text",
         "hovertext": [
          "之前 图书馆 借 来看 了 看 感觉 还 不错 就 买 了 一本 纸张 很 好 很 喜欢",
          "书 纸张 很 厚实 应该 是 正版书 买回来 以后 备用",
          "带 塑封 非常高兴 收到 这样 干净 书 次日 达 很 满意 因为 急用",
          "之前 图书馆 借 来看 了 看 感觉 还 不错 就 买 了 一本 纸张 很 好 很 喜欢",
          "带 塑封 非常高兴 收到 这样 干净 书 次日 达 很 满意 因为 急用",
          "之前 图书馆 借 来看 了 看 感觉 还 不错 就 买 了 一本 纸张 很 好 很 喜欢",
          "书 纸张 很 厚实 应该 是 正版书 买回来 以后 备用",
          "带 塑封 非常高兴 收到 这样 干净 书 次日 达 很 满意 因为 急用",
          "带 塑封 非常高兴 收到 这样 干净 书 次日 达 很 满意 因为 急用",
          "书 纸张 很 厚实 应该 是 正版书 买回来 以后 备用",
          "之前 图书馆 借 来看 了 看 感觉 还 不错 就 买 了 一本 纸张 很 好 很 喜欢",
          "之前 图书馆 借 来看 了 看 感觉 还 不错 就 买 了 一本 纸张 很 好 很 喜欢",
          "书 纸张 很 厚实 应该 是 正版书 买回来 以后 备用",
          "书 纸张 很 厚实 应该 是 正版书 买回来 以后 备用",
          "带 塑封 非常高兴 收到 这样 干净 书 次日 达 很 满意 因为 急用",
          null
         ],
         "marker": {
          "opacity": 0.5,
          "size": 5
         },
         "mode": "markers+text",
         "name": "42___",
         "text": [
          "",
          "",
          "",
          "",
          "",
          "",
          "",
          "",
          "",
          "",
          "",
          "",
          "",
          "",
          "",
          "42___"
         ],
         "textfont": {
          "size": 12
         },
         "type": "scattergl",
         "x": [
          12.9469,
          12.947195,
          12.912866,
          12.965319,
          12.942998,
          12.959323,
          12.952366,
          12.945409,
          12.926222,
          12.941949,
          12.935664,
          12.9439335,
          12.952342,
          12.953802,
          12.930523,
          12.943789
         ],
         "y": [
          13.990252,
          13.989386,
          14.023485,
          13.97129,
          13.993333,
          13.977056,
          13.984446,
          13.990745,
          14.009919,
          13.994533,
          14.000671,
          13.992407,
          13.98407,
          13.982526,
          14.005716,
          13.992656
         ]
        },
        {
         "hoverinfo": "text",
         "hovertext": [
          "京东 买书 很 方便 不错",
          "京东 买书 很 方便 不错",
          "杨 大佬 写 书  支持 支持",
          "京东 买书 很 方便 不错",
          "书 很 好 比 京东 自营 便宜 不少",
          "书 很 好 比 京东 自营 便宜 不少",
          "书 很 好 比 京东 自营 便宜 不少",
          "杨 大佬 写 书  支持 支持",
          "杨 大佬 写 书  支持 支持",
          "京东 买书 很 方便 不错",
          "杨 大佬 写 书  支持 支持",
          "书 很 好 比 京东 自营 便宜 不少",
          "书 很 好 比 京东 自营 便宜 不少",
          "京东 买书 很 方便 不错",
          "杨 大佬 写 书  支持 支持",
          null
         ],
         "marker": {
          "opacity": 0.5,
          "size": 5
         },
         "mode": "markers+text",
         "name": "43___",
         "text": [
          "",
          "",
          "",
          "",
          "",
          "",
          "",
          "",
          "",
          "",
          "",
          "",
          "",
          "",
          "",
          "43___"
         ],
         "textfont": {
          "size": 12
         },
         "type": "scattergl",
         "x": [
          4.264008,
          4.2553782,
          4.272178,
          4.2592416,
          4.2171917,
          4.2573147,
          4.240863,
          4.2877526,
          4.2759085,
          4.2604394,
          4.2702456,
          4.256427,
          4.261089,
          4.2437806,
          4.2652807,
          4.2591405
         ],
         "y": [
          -2.6577957,
          -2.6492934,
          -2.6661541,
          -2.653061,
          -2.6113217,
          -2.6512542,
          -2.6347017,
          -2.6813543,
          -2.6705072,
          -2.6543274,
          -2.664219,
          -2.650212,
          -2.6547804,
          -2.6370924,
          -2.6592357,
          -2.6530206
         ]
        },
        {
         "hoverinfo": "text",
         "hovertext": [
          "第一次 在 京东 上 买 书本 收到 书本 很 喜欢 质量 好 快递 速度 快 下次 还来 hellip",
          "特价 很 划算 书 就是 全新 快递 从 北京 到 上海 也 很快 内容 算 经典 吧",
          "特价 很 划算 书 就是 全新 快递 从 北京 到 上海 也 很快 内容 算 经典 吧",
          "第一次 在 京东 上 买 书本 收到 书本 很 喜欢 质量 好 快递 速度 快 下次 还来 hellip",
          "京东 快递 一如既往 给 力 第一天 下午 下 单 第二天 上午 就 到 了 必备 书籍 内容 讲 很 深入 假期 在家 充电 希望 可以 认真 看 完 学以致用 书 装订 非常 好 印刷 质量 很棒 封面 和 内容 见 附图 书籍 是 人类 进步 阶梯 开始 充电 吧",
          "特价 很 划算 书 就是 全新 快递 从 北京 到 上海 也 很快 内容 算 经典 吧",
          "京东 快递 一如既往 给 力 第一天 下午 下 单 第二天 上午 就 到 了 必备 书籍 内容 讲 很 深入 假期 在家 充电 希望 可以 认真 看 完 学以致用 书 装订 非常 好 印刷 质量 很棒 封面 和 内容 见 附图 书籍 是 人类 进步 阶梯 开始 充电 吧",
          "京东 快递 一如既往 给 力 第一天 下午 下 单 第二天 上午 就 到 了 必备 书籍 内容 讲 很 深入 假期 在家 充电 希望 可以 认真 看 完 学以致用 书 装订 非常 好 印刷 质量 很棒 封面 和 内容 见 附图 书籍 是 人类 进步 阶梯 开始 充电 吧",
          "京东 快递 一如既往 给 力 第一天 下午 下 单 第二天 上午 就 到 了 必备 书籍 内容 讲 很 深入 假期 在家 充电 希望 可以 认真 看 完 学以致用 书 装订 非常 好 印刷 质量 很棒 封面 和 内容 见 附图 书籍 是 人类 进步 阶梯 开始 充电 吧",
          "第一次 在 京东 上 买 书本 收到 书本 很 喜欢 质量 好 快递 速度 快 下次 还来 hellip",
          "第一次 在 京东 上 买 书本 收到 书本 很 喜欢 质量 好 快递 速度 快 下次 还来 hellip",
          "特价 很 划算 书 就是 全新 快递 从 北京 到 上海 也 很快 内容 算 经典 吧",
          "第一次 在 京东 上 买 书本 收到 书本 很 喜欢 质量 好 快递 速度 快 下次 还来 hellip",
          "特价 很 划算 书 就是 全新 快递 从 北京 到 上海 也 很快 内容 算 经典 吧",
          "京东 快递 一如既往 给 力 第一天 下午 下 单 第二天 上午 就 到 了 必备 书籍 内容 讲 很 深入 假期 在家 充电 希望 可以 认真 看 完 学以致用 书 装订 非常 好 印刷 质量 很棒 封面 和 内容 见 附图 书籍 是 人类 进步 阶梯 开始 充电 吧",
          null
         ],
         "marker": {
          "opacity": 0.5,
          "size": 5
         },
         "mode": "markers+text",
         "name": "44_hellip__",
         "text": [
          "",
          "",
          "",
          "",
          "",
          "",
          "",
          "",
          "",
          "",
          "",
          "",
          "",
          "",
          "",
          "44_hellip__"
         ],
         "textfont": {
          "size": 12
         },
         "type": "scattergl",
         "x": [
          -0.15444362,
          -0.3026795,
          -0.2716748,
          -0.17468226,
          -0.14798737,
          -0.2787602,
          -0.13586803,
          -0.15129995,
          -0.1075799,
          -0.14645489,
          -0.17506903,
          -0.27607495,
          -0.17213671,
          -0.27326766,
          -0.15800181,
          -0.19506541
         ],
         "y": [
          12.349337,
          12.206813,
          12.224611,
          12.322497,
          12.266493,
          12.232113,
          12.264708,
          12.279659,
          12.255717,
          12.251027,
          12.342068,
          12.219534,
          12.333126,
          12.238336,
          12.295454,
          12.2721
         ]
        },
        {
         "hoverinfo": "text",
         "hovertext": [
          "好书 ~ 正品 ~ 太好了 ~ 加把劲 学习 ~",
          "不错 书 好好学习 一下",
          "不错 书 好好学习 一下",
          "不错 书 好好学习 一下",
          "不错 书 好好学习 一下",
          "好书 ~ 正品 ~ 太好了 ~ 加把劲 学习 ~",
          "书籍 还好 吧  再 详细 介绍 一下 就 好 了 总体 还 不错",
          "书籍 还好 吧  再 详细 介绍 一下 就 好 了 总体 还 不错",
          "不错 书 好好学习 一下",
          "好书 ~ 正品 ~ 太好了 ~ 加把劲 学习 ~",
          "书籍 还好 吧  再 详细 介绍 一下 就 好 了 总体 还 不错",
          "好书 ~ 正品 ~ 太好了 ~ 加把劲 学习 ~",
          "书籍 还好 吧  再 详细 介绍 一下 就 好 了 总体 还 不错",
          "好书 ~ 正品 ~ 太好了 ~ 加把劲 学习 ~",
          "书籍 还好 吧  再 详细 介绍 一下 就 好 了 总体 还 不错",
          null
         ],
         "marker": {
          "opacity": 0.5,
          "size": 5
         },
         "mode": "markers+text",
         "name": "45___",
         "text": [
          "",
          "",
          "",
          "",
          "",
          "",
          "",
          "",
          "",
          "",
          "",
          "",
          "",
          "",
          "",
          "45___"
         ],
         "textfont": {
          "size": 12
         },
         "type": "scattergl",
         "x": [
          -0.95858705,
          -0.9662,
          -0.95789474,
          -0.959624,
          -0.9753269,
          -0.98134464,
          -0.98422116,
          -0.98492974,
          -0.9883097,
          -0.989525,
          -0.9978072,
          -0.9955127,
          -0.9845652,
          -0.9776795,
          -1.0011361,
          -0.9801775
         ],
         "y": [
          -4.2599034,
          -4.252666,
          -4.2607327,
          -4.259785,
          -4.24316,
          -4.234048,
          -4.229863,
          -4.2296796,
          -4.229062,
          -4.2289934,
          -4.2017055,
          -4.2389216,
          -4.2268357,
          -4.2383685,
          -4.209585,
          -4.236221
         ]
        },
        {
         "hoverinfo": "text",
         "hovertext": [
          "书 很 赞",
          "书 很 赞",
          "很 好 一 本书",
          "很 好 一 本书",
          "很 好 一 本书",
          "书 很 好",
          "书 很 赞",
          "书 很 好",
          "很 好 一 本书",
          "很 好 一 本书",
          "书 很 好",
          "书 很 赞",
          "书 很 赞",
          "书 很 好",
          "书 很 好",
          null
         ],
         "marker": {
          "opacity": 0.5,
          "size": 5
         },
         "mode": "markers+text",
         "name": "46___",
         "text": [
          "",
          "",
          "",
          "",
          "",
          "",
          "",
          "",
          "",
          "",
          "",
          "",
          "",
          "",
          "",
          "46___"
         ],
         "textfont": {
          "size": 12
         },
         "type": "scattergl",
         "x": [
          17.871464,
          17.874447,
          17.860176,
          17.856138,
          17.84534,
          17.869066,
          17.868612,
          17.864141,
          17.863459,
          17.84394,
          17.854462,
          17.840103,
          17.880754,
          17.875114,
          17.867476,
          17.862312
         ],
         "y": [
          -12.257218,
          -12.254172,
          -12.26855,
          -12.272582,
          -12.2834,
          -12.259529,
          -12.2601595,
          -12.264514,
          -12.265288,
          -12.284784,
          -12.274322,
          -12.288399,
          -12.248049,
          -12.253649,
          -12.261275,
          -12.266392
         ]
        },
        {
         "hoverinfo": "text",
         "hovertext": [
          "书 已 收到 简单 翻 了 一下 内容 不错",
          "书 已 收到 简单 翻 了 一下 内容 不错",
          "书 不错 就是 内容 有点 老",
          "书 不错 就是 内容 有点 老",
          "书本 很 好 内容 也 合适",
          "书本 很 好 内容 也 合适",
          "书 已 收到 简单 翻 了 一下 内容 不错",
          "书本 很 好 内容 也 合适",
          "书 不错 就是 内容 有点 老",
          "书 已 收到 简单 翻 了 一下 内容 不错",
          "书本 很 好 内容 也 合适",
          "书 不错 就是 内容 有点 老",
          "书 已 收到 简单 翻 了 一下 内容 不错",
          "书本 很 好 内容 也 合适",
          "书 不错 就是 内容 有点 老",
          null
         ],
         "marker": {
          "opacity": 0.5,
          "size": 5
         },
         "mode": "markers+text",
         "name": "47___",
         "text": [
          "",
          "",
          "",
          "",
          "",
          "",
          "",
          "",
          "",
          "",
          "",
          "",
          "",
          "",
          "",
          "47___"
         ],
         "textfont": {
          "size": 12
         },
         "type": "scattergl",
         "x": [
          12.039059,
          12.07287,
          12.071942,
          12.101843,
          12.076334,
          12.070653,
          12.037882,
          12.065088,
          12.072168,
          12.075211,
          12.050486,
          12.072123,
          12.059005,
          12.068331,
          12.07163,
          12.066975
         ],
         "y": [
          -9.774139,
          -9.74027,
          -9.741046,
          -9.7109995,
          -9.736746,
          -9.742466,
          -9.775287,
          -9.748177,
          -9.740807,
          -9.737851,
          -9.762564,
          -9.740812,
          -9.754264,
          -9.745591,
          -9.741406,
          -9.746163
         ]
        },
        {
         "hoverinfo": "text",
         "hovertext": [
          "非常 好 买得值 物流 也 很快",
          "非常 好 买得值 物流 也 很快",
          "速度 很快 很 愉快 购物",
          "非常 好 买得值 物流 也 很快",
          "速度 很快 很 愉快 购物",
          "非常 好 买得值 物流 也 很快",
          "送货 很快 质量 也 很 好 价格 可以",
          "非常 好 买得值 物流 也 很快",
          "速度 很快 很 愉快 购物",
          "速度 很快 很 愉快 购物",
          "送货 很快 质量 也 很 好 价格 可以",
          "送货 很快 质量 也 很 好 价格 可以",
          "送货 很快 质量 也 很 好 价格 可以",
          "速度 很快 很 愉快 购物",
          "送货 很快 质量 也 很 好 价格 可以",
          null
         ],
         "marker": {
          "opacity": 0.5,
          "size": 5
         },
         "mode": "markers+text",
         "name": "48___",
         "text": [
          "",
          "",
          "",
          "",
          "",
          "",
          "",
          "",
          "",
          "",
          "",
          "",
          "",
          "",
          "",
          "48___"
         ],
         "textfont": {
          "size": 12
         },
         "type": "scattergl",
         "x": [
          17.083311,
          17.08304,
          17.082567,
          17.0872,
          17.108774,
          17.099628,
          17.090881,
          17.088808,
          17.0934,
          17.087132,
          17.08142,
          17.077156,
          17.087875,
          17.086103,
          17.090437,
          17.088514
         ],
         "y": [
          22.106085,
          22.106316,
          22.106817,
          22.102234,
          22.080591,
          22.089725,
          22.098455,
          22.100561,
          22.095972,
          22.102247,
          22.107895,
          22.112165,
          22.10141,
          22.103271,
          22.098808,
          22.100836
         ]
        },
        {
         "hoverinfo": "text",
         "hovertext": [
          "还 没 看",
          "好",
          "henhao",
          "还 没 看",
          "好",
          "好",
          "好",
          "挺 好",
          "好",
          "好",
          "好",
          "还 没 看",
          "还 没 看",
          "还 没 看",
          null
         ],
         "marker": {
          "opacity": 0.5,
          "size": 5
         },
         "mode": "markers+text",
         "name": "49_henhao__",
         "text": [
          "",
          "",
          "",
          "",
          "",
          "",
          "",
          "",
          "",
          "",
          "",
          "",
          "",
          "",
          "49_henhao__"
         ],
         "textfont": {
          "size": 12
         },
         "type": "scattergl",
         "x": [
          17.988756,
          17.987215,
          17.972075,
          17.989756,
          18.000847,
          17.989422,
          17.978258,
          17.985662,
          17.988266,
          17.985752,
          17.988182,
          18.000847,
          17.988869,
          17.98895,
          17.988062
         ],
         "y": [
          -3.4464626,
          -3.447987,
          -3.463115,
          -3.4453552,
          -3.4344351,
          -3.4456594,
          -3.456735,
          -3.4499123,
          -3.446951,
          -3.4495149,
          -3.4470205,
          -3.4344876,
          -3.4463542,
          -3.446227,
          -3.4471586
         ]
        },
        {
         "hoverinfo": "text",
         "hovertext": [
          "书 质量 和 内容 很 好 ~ tensorflow2.0 官方 推荐 自然 要 买来 读一读 了",
          "众多 大牛 写 一本 关于 强化 学习 各 领域 研究进展 书 个人 觉得 很 不错 已经 开始 阅读 希望 能 学到 更 多 知识",
          "书 质量 和 内容 很 好 ~ tensorflow2.0 官方 推荐 自然 要 买来 读一读 了",
          "书 收到 了 是 正品 书 质量 很 好 内容 讲得 也 很 好 是 入门 深度 学习 一本 不错 图书 好好学习 一下 值得 推荐",
          "众多 大牛 写 一本 关于 强化 学习 各 领域 研究进展 书 个人 觉得 很 不错 已经 开始 阅读 希望 能 学到 更 多 知识",
          "众多 大牛 写 一本 关于 强化 学习 各 领域 研究进展 书 个人 觉得 很 不错 已经 开始 阅读 希望 能 学到 更 多 知识",
          "众多 大牛 写 一本 关于 强化 学习 各 领域 研究进展 书 个人 觉得 很 不错 已经 开始 阅读 希望 能 学到 更 多 知识",
          "众多 大牛 写 一本 关于 强化 学习 各 领域 研究进展 书 个人 觉得 很 不错 已经 开始 阅读 希望 能 学到 更 多 知识",
          "书 质量 和 内容 很 好 ~ tensorflow2.0 官方 推荐 自然 要 买来 读一读 了",
          "书 质量 和 内容 很 好 ~ tensorflow2.0 官方 推荐 自然 要 买来 读一读 了",
          "书 质量 和 内容 很 好 ~ tensorflow2.0 官方 推荐 自然 要 买来 读一读 了",
          null
         ],
         "marker": {
          "opacity": 0.5,
          "size": 5
         },
         "mode": "markers+text",
         "name": "50_tensorflow20__",
         "text": [
          "",
          "",
          "",
          "",
          "",
          "",
          "",
          "",
          "",
          "",
          "",
          "50_tensorflow20__"
         ],
         "textfont": {
          "size": 12
         },
         "type": "scattergl",
         "x": [
          -3.6367402,
          -3.5949297,
          -3.6364381,
          -3.6333385,
          -3.6020842,
          -3.5956323,
          -3.5984538,
          -3.5943995,
          -3.636769,
          -3.6233501,
          -3.6395237,
          -3.6174238
         ],
         "y": [
          -3.800441,
          -3.8434722,
          -3.802218,
          -3.7712922,
          -3.8344748,
          -3.843065,
          -3.8454394,
          -3.8449535,
          -3.8058913,
          -3.808,
          -3.800398,
          -3.8181496
         ]
        }
       ],
       "layout": {
        "annotations": [
         {
          "showarrow": false,
          "text": "D1",
          "x": -24.85789680480957,
          "y": 3.385896396636962,
          "yshift": 10
         },
         {
          "showarrow": false,
          "text": "D2",
          "x": 4.348220348358154,
          "xshift": 10,
          "y": 30.191908836364746
         }
        ],
        "height": 750,
        "shapes": [
         {
          "line": {
           "color": "#CFD8DC",
           "width": 2
          },
          "type": "line",
          "x0": 4.348220348358154,
          "x1": 4.348220348358154,
          "y0": -23.42011604309082,
          "y1": 30.191908836364746
         },
         {
          "line": {
           "color": "#9E9E9E",
           "width": 2
          },
          "type": "line",
          "x0": -24.85789680480957,
          "x1": 33.55433750152588,
          "y0": 3.385896396636962,
          "y1": 3.385896396636962
         }
        ],
        "template": {
         "data": {
          "bar": [
           {
            "error_x": {
             "color": "rgb(36,36,36)"
            },
            "error_y": {
             "color": "rgb(36,36,36)"
            },
            "marker": {
             "line": {
              "color": "white",
              "width": 0.5
             },
             "pattern": {
              "fillmode": "overlay",
              "size": 10,
              "solidity": 0.2
             }
            },
            "type": "bar"
           }
          ],
          "barpolar": [
           {
            "marker": {
             "line": {
              "color": "white",
              "width": 0.5
             },
             "pattern": {
              "fillmode": "overlay",
              "size": 10,
              "solidity": 0.2
             }
            },
            "type": "barpolar"
           }
          ],
          "carpet": [
           {
            "aaxis": {
             "endlinecolor": "rgb(36,36,36)",
             "gridcolor": "white",
             "linecolor": "white",
             "minorgridcolor": "white",
             "startlinecolor": "rgb(36,36,36)"
            },
            "baxis": {
             "endlinecolor": "rgb(36,36,36)",
             "gridcolor": "white",
             "linecolor": "white",
             "minorgridcolor": "white",
             "startlinecolor": "rgb(36,36,36)"
            },
            "type": "carpet"
           }
          ],
          "choropleth": [
           {
            "colorbar": {
             "outlinewidth": 1,
             "tickcolor": "rgb(36,36,36)",
             "ticks": "outside"
            },
            "type": "choropleth"
           }
          ],
          "contour": [
           {
            "colorbar": {
             "outlinewidth": 1,
             "tickcolor": "rgb(36,36,36)",
             "ticks": "outside"
            },
            "colorscale": [
             [
              0,
              "#440154"
             ],
             [
              0.1111111111111111,
              "#482878"
             ],
             [
              0.2222222222222222,
              "#3e4989"
             ],
             [
              0.3333333333333333,
              "#31688e"
             ],
             [
              0.4444444444444444,
              "#26828e"
             ],
             [
              0.5555555555555556,
              "#1f9e89"
             ],
             [
              0.6666666666666666,
              "#35b779"
             ],
             [
              0.7777777777777778,
              "#6ece58"
             ],
             [
              0.8888888888888888,
              "#b5de2b"
             ],
             [
              1,
              "#fde725"
             ]
            ],
            "type": "contour"
           }
          ],
          "contourcarpet": [
           {
            "colorbar": {
             "outlinewidth": 1,
             "tickcolor": "rgb(36,36,36)",
             "ticks": "outside"
            },
            "type": "contourcarpet"
           }
          ],
          "heatmap": [
           {
            "colorbar": {
             "outlinewidth": 1,
             "tickcolor": "rgb(36,36,36)",
             "ticks": "outside"
            },
            "colorscale": [
             [
              0,
              "#440154"
             ],
             [
              0.1111111111111111,
              "#482878"
             ],
             [
              0.2222222222222222,
              "#3e4989"
             ],
             [
              0.3333333333333333,
              "#31688e"
             ],
             [
              0.4444444444444444,
              "#26828e"
             ],
             [
              0.5555555555555556,
              "#1f9e89"
             ],
             [
              0.6666666666666666,
              "#35b779"
             ],
             [
              0.7777777777777778,
              "#6ece58"
             ],
             [
              0.8888888888888888,
              "#b5de2b"
             ],
             [
              1,
              "#fde725"
             ]
            ],
            "type": "heatmap"
           }
          ],
          "heatmapgl": [
           {
            "colorbar": {
             "outlinewidth": 1,
             "tickcolor": "rgb(36,36,36)",
             "ticks": "outside"
            },
            "colorscale": [
             [
              0,
              "#440154"
             ],
             [
              0.1111111111111111,
              "#482878"
             ],
             [
              0.2222222222222222,
              "#3e4989"
             ],
             [
              0.3333333333333333,
              "#31688e"
             ],
             [
              0.4444444444444444,
              "#26828e"
             ],
             [
              0.5555555555555556,
              "#1f9e89"
             ],
             [
              0.6666666666666666,
              "#35b779"
             ],
             [
              0.7777777777777778,
              "#6ece58"
             ],
             [
              0.8888888888888888,
              "#b5de2b"
             ],
             [
              1,
              "#fde725"
             ]
            ],
            "type": "heatmapgl"
           }
          ],
          "histogram": [
           {
            "marker": {
             "line": {
              "color": "white",
              "width": 0.6
             }
            },
            "type": "histogram"
           }
          ],
          "histogram2d": [
           {
            "colorbar": {
             "outlinewidth": 1,
             "tickcolor": "rgb(36,36,36)",
             "ticks": "outside"
            },
            "colorscale": [
             [
              0,
              "#440154"
             ],
             [
              0.1111111111111111,
              "#482878"
             ],
             [
              0.2222222222222222,
              "#3e4989"
             ],
             [
              0.3333333333333333,
              "#31688e"
             ],
             [
              0.4444444444444444,
              "#26828e"
             ],
             [
              0.5555555555555556,
              "#1f9e89"
             ],
             [
              0.6666666666666666,
              "#35b779"
             ],
             [
              0.7777777777777778,
              "#6ece58"
             ],
             [
              0.8888888888888888,
              "#b5de2b"
             ],
             [
              1,
              "#fde725"
             ]
            ],
            "type": "histogram2d"
           }
          ],
          "histogram2dcontour": [
           {
            "colorbar": {
             "outlinewidth": 1,
             "tickcolor": "rgb(36,36,36)",
             "ticks": "outside"
            },
            "colorscale": [
             [
              0,
              "#440154"
             ],
             [
              0.1111111111111111,
              "#482878"
             ],
             [
              0.2222222222222222,
              "#3e4989"
             ],
             [
              0.3333333333333333,
              "#31688e"
             ],
             [
              0.4444444444444444,
              "#26828e"
             ],
             [
              0.5555555555555556,
              "#1f9e89"
             ],
             [
              0.6666666666666666,
              "#35b779"
             ],
             [
              0.7777777777777778,
              "#6ece58"
             ],
             [
              0.8888888888888888,
              "#b5de2b"
             ],
             [
              1,
              "#fde725"
             ]
            ],
            "type": "histogram2dcontour"
           }
          ],
          "mesh3d": [
           {
            "colorbar": {
             "outlinewidth": 1,
             "tickcolor": "rgb(36,36,36)",
             "ticks": "outside"
            },
            "type": "mesh3d"
           }
          ],
          "parcoords": [
           {
            "line": {
             "colorbar": {
              "outlinewidth": 1,
              "tickcolor": "rgb(36,36,36)",
              "ticks": "outside"
             }
            },
            "type": "parcoords"
           }
          ],
          "pie": [
           {
            "automargin": true,
            "type": "pie"
           }
          ],
          "scatter": [
           {
            "fillpattern": {
             "fillmode": "overlay",
             "size": 10,
             "solidity": 0.2
            },
            "type": "scatter"
           }
          ],
          "scatter3d": [
           {
            "line": {
             "colorbar": {
              "outlinewidth": 1,
              "tickcolor": "rgb(36,36,36)",
              "ticks": "outside"
             }
            },
            "marker": {
             "colorbar": {
              "outlinewidth": 1,
              "tickcolor": "rgb(36,36,36)",
              "ticks": "outside"
             }
            },
            "type": "scatter3d"
           }
          ],
          "scattercarpet": [
           {
            "marker": {
             "colorbar": {
              "outlinewidth": 1,
              "tickcolor": "rgb(36,36,36)",
              "ticks": "outside"
             }
            },
            "type": "scattercarpet"
           }
          ],
          "scattergeo": [
           {
            "marker": {
             "colorbar": {
              "outlinewidth": 1,
              "tickcolor": "rgb(36,36,36)",
              "ticks": "outside"
             }
            },
            "type": "scattergeo"
           }
          ],
          "scattergl": [
           {
            "marker": {
             "colorbar": {
              "outlinewidth": 1,
              "tickcolor": "rgb(36,36,36)",
              "ticks": "outside"
             }
            },
            "type": "scattergl"
           }
          ],
          "scattermapbox": [
           {
            "marker": {
             "colorbar": {
              "outlinewidth": 1,
              "tickcolor": "rgb(36,36,36)",
              "ticks": "outside"
             }
            },
            "type": "scattermapbox"
           }
          ],
          "scatterpolar": [
           {
            "marker": {
             "colorbar": {
              "outlinewidth": 1,
              "tickcolor": "rgb(36,36,36)",
              "ticks": "outside"
             }
            },
            "type": "scatterpolar"
           }
          ],
          "scatterpolargl": [
           {
            "marker": {
             "colorbar": {
              "outlinewidth": 1,
              "tickcolor": "rgb(36,36,36)",
              "ticks": "outside"
             }
            },
            "type": "scatterpolargl"
           }
          ],
          "scatterternary": [
           {
            "marker": {
             "colorbar": {
              "outlinewidth": 1,
              "tickcolor": "rgb(36,36,36)",
              "ticks": "outside"
             }
            },
            "type": "scatterternary"
           }
          ],
          "surface": [
           {
            "colorbar": {
             "outlinewidth": 1,
             "tickcolor": "rgb(36,36,36)",
             "ticks": "outside"
            },
            "colorscale": [
             [
              0,
              "#440154"
             ],
             [
              0.1111111111111111,
              "#482878"
             ],
             [
              0.2222222222222222,
              "#3e4989"
             ],
             [
              0.3333333333333333,
              "#31688e"
             ],
             [
              0.4444444444444444,
              "#26828e"
             ],
             [
              0.5555555555555556,
              "#1f9e89"
             ],
             [
              0.6666666666666666,
              "#35b779"
             ],
             [
              0.7777777777777778,
              "#6ece58"
             ],
             [
              0.8888888888888888,
              "#b5de2b"
             ],
             [
              1,
              "#fde725"
             ]
            ],
            "type": "surface"
           }
          ],
          "table": [
           {
            "cells": {
             "fill": {
              "color": "rgb(237,237,237)"
             },
             "line": {
              "color": "white"
             }
            },
            "header": {
             "fill": {
              "color": "rgb(217,217,217)"
             },
             "line": {
              "color": "white"
             }
            },
            "type": "table"
           }
          ]
         },
         "layout": {
          "annotationdefaults": {
           "arrowhead": 0,
           "arrowwidth": 1
          },
          "autotypenumbers": "strict",
          "coloraxis": {
           "colorbar": {
            "outlinewidth": 1,
            "tickcolor": "rgb(36,36,36)",
            "ticks": "outside"
           }
          },
          "colorscale": {
           "diverging": [
            [
             0,
             "rgb(103,0,31)"
            ],
            [
             0.1,
             "rgb(178,24,43)"
            ],
            [
             0.2,
             "rgb(214,96,77)"
            ],
            [
             0.3,
             "rgb(244,165,130)"
            ],
            [
             0.4,
             "rgb(253,219,199)"
            ],
            [
             0.5,
             "rgb(247,247,247)"
            ],
            [
             0.6,
             "rgb(209,229,240)"
            ],
            [
             0.7,
             "rgb(146,197,222)"
            ],
            [
             0.8,
             "rgb(67,147,195)"
            ],
            [
             0.9,
             "rgb(33,102,172)"
            ],
            [
             1,
             "rgb(5,48,97)"
            ]
           ],
           "sequential": [
            [
             0,
             "#440154"
            ],
            [
             0.1111111111111111,
             "#482878"
            ],
            [
             0.2222222222222222,
             "#3e4989"
            ],
            [
             0.3333333333333333,
             "#31688e"
            ],
            [
             0.4444444444444444,
             "#26828e"
            ],
            [
             0.5555555555555556,
             "#1f9e89"
            ],
            [
             0.6666666666666666,
             "#35b779"
            ],
            [
             0.7777777777777778,
             "#6ece58"
            ],
            [
             0.8888888888888888,
             "#b5de2b"
            ],
            [
             1,
             "#fde725"
            ]
           ],
           "sequentialminus": [
            [
             0,
             "#440154"
            ],
            [
             0.1111111111111111,
             "#482878"
            ],
            [
             0.2222222222222222,
             "#3e4989"
            ],
            [
             0.3333333333333333,
             "#31688e"
            ],
            [
             0.4444444444444444,
             "#26828e"
            ],
            [
             0.5555555555555556,
             "#1f9e89"
            ],
            [
             0.6666666666666666,
             "#35b779"
            ],
            [
             0.7777777777777778,
             "#6ece58"
            ],
            [
             0.8888888888888888,
             "#b5de2b"
            ],
            [
             1,
             "#fde725"
            ]
           ]
          },
          "colorway": [
           "#1F77B4",
           "#FF7F0E",
           "#2CA02C",
           "#D62728",
           "#9467BD",
           "#8C564B",
           "#E377C2",
           "#7F7F7F",
           "#BCBD22",
           "#17BECF"
          ],
          "font": {
           "color": "rgb(36,36,36)"
          },
          "geo": {
           "bgcolor": "white",
           "lakecolor": "white",
           "landcolor": "white",
           "showlakes": true,
           "showland": true,
           "subunitcolor": "white"
          },
          "hoverlabel": {
           "align": "left"
          },
          "hovermode": "closest",
          "mapbox": {
           "style": "light"
          },
          "paper_bgcolor": "white",
          "plot_bgcolor": "white",
          "polar": {
           "angularaxis": {
            "gridcolor": "rgb(232,232,232)",
            "linecolor": "rgb(36,36,36)",
            "showgrid": false,
            "showline": true,
            "ticks": "outside"
           },
           "bgcolor": "white",
           "radialaxis": {
            "gridcolor": "rgb(232,232,232)",
            "linecolor": "rgb(36,36,36)",
            "showgrid": false,
            "showline": true,
            "ticks": "outside"
           }
          },
          "scene": {
           "xaxis": {
            "backgroundcolor": "white",
            "gridcolor": "rgb(232,232,232)",
            "gridwidth": 2,
            "linecolor": "rgb(36,36,36)",
            "showbackground": true,
            "showgrid": false,
            "showline": true,
            "ticks": "outside",
            "zeroline": false,
            "zerolinecolor": "rgb(36,36,36)"
           },
           "yaxis": {
            "backgroundcolor": "white",
            "gridcolor": "rgb(232,232,232)",
            "gridwidth": 2,
            "linecolor": "rgb(36,36,36)",
            "showbackground": true,
            "showgrid": false,
            "showline": true,
            "ticks": "outside",
            "zeroline": false,
            "zerolinecolor": "rgb(36,36,36)"
           },
           "zaxis": {
            "backgroundcolor": "white",
            "gridcolor": "rgb(232,232,232)",
            "gridwidth": 2,
            "linecolor": "rgb(36,36,36)",
            "showbackground": true,
            "showgrid": false,
            "showline": true,
            "ticks": "outside",
            "zeroline": false,
            "zerolinecolor": "rgb(36,36,36)"
           }
          },
          "shapedefaults": {
           "fillcolor": "black",
           "line": {
            "width": 0
           },
           "opacity": 0.3
          },
          "ternary": {
           "aaxis": {
            "gridcolor": "rgb(232,232,232)",
            "linecolor": "rgb(36,36,36)",
            "showgrid": false,
            "showline": true,
            "ticks": "outside"
           },
           "baxis": {
            "gridcolor": "rgb(232,232,232)",
            "linecolor": "rgb(36,36,36)",
            "showgrid": false,
            "showline": true,
            "ticks": "outside"
           },
           "bgcolor": "white",
           "caxis": {
            "gridcolor": "rgb(232,232,232)",
            "linecolor": "rgb(36,36,36)",
            "showgrid": false,
            "showline": true,
            "ticks": "outside"
           }
          },
          "title": {
           "x": 0.05
          },
          "xaxis": {
           "automargin": true,
           "gridcolor": "rgb(232,232,232)",
           "linecolor": "rgb(36,36,36)",
           "showgrid": false,
           "showline": true,
           "ticks": "outside",
           "title": {
            "standoff": 15
           },
           "zeroline": false,
           "zerolinecolor": "rgb(36,36,36)"
          },
          "yaxis": {
           "automargin": true,
           "gridcolor": "rgb(232,232,232)",
           "linecolor": "rgb(36,36,36)",
           "showgrid": false,
           "showline": true,
           "ticks": "outside",
           "title": {
            "standoff": 15
           },
           "zeroline": false,
           "zerolinecolor": "rgb(36,36,36)"
          }
         }
        },
        "title": {
         "font": {
          "color": "Black",
          "size": 22
         },
         "text": "<b>Documents and Topics</b>",
         "x": 0.5,
         "xanchor": "center",
         "yanchor": "top"
        },
        "width": 1200,
        "xaxis": {
         "visible": false
        },
        "yaxis": {
         "visible": false
        }
       }
      },
      "text/html": [
       "<div>                            <div id=\"7766818f-98f7-4cb7-ac51-62b9adae0f6d\" class=\"plotly-graph-div\" style=\"height:750px; width:1200px;\"></div>            <script type=\"text/javascript\">                require([\"plotly\"], function(Plotly) {                    window.PLOTLYENV=window.PLOTLYENV || {};                                    if (document.getElementById(\"7766818f-98f7-4cb7-ac51-62b9adae0f6d\")) {                    Plotly.newPlot(                        \"7766818f-98f7-4cb7-ac51-62b9adae0f6d\",                        [{\"hoverinfo\":\"text\",\"hovertext\":[\"书 很 新 很 好 下次 还会 再 来 机器 学习 冲冲\",\"老公 书 都 是 京东 买 好多好多 质量 好 服务 好 售后 好\",\"书 质量 很 好\",\"还 不错 专业书 买来 增长 知识\",\"书 质量 非常 好 很 好 书\",\"很棒 书 很 值得 推荐\",\"书 很 好 值得 好好 地\",\"很 好  理论 扎实  讲解 透彻\",\"哈哈 理论知识 非常 不错\",\"书 很 好 字印 很 清楚\",\"孩子 说书 内容 对 学习 帮助 很大 好评\",\"还 不错 专业书 买来 增长 知识\",\"双十 一 期间 物流 也 很快 一天 就 到货 了 物流 方面 很快 就 发货 了 没多久 就 收到 书 质量 方面 纸张 还 可以 印刷 字体 清晰 暂时 没有 什么 问题 包装 是 用 一个 箱子 装 再说 东西 跟 描述 一样 可以 看 一下 图片 很 好 价格 也 还好 终于 收到 我 需要 宝贝 了 东西 很 好 说 实在 这是 购物 来 让 我 最 满意 一次 购物 无论是 掌柜的 态度 还是 对 物品 我 都 非常 满意 掌柜 态度 很 专业 热情 有问必答 回复 也 很快 我 问 了 不少 问题 他 都 不 觉得 烦 都 会 认真 回答 我 这点 我 向 掌柜 表示 由衷 敬意 这样 好 掌柜 可不 多 再说 宝贝 正是 我 需要 收到 时候 包装 完整 打开 后 让 我 惊喜 是 宝贝 比 我 想象 中 还要 好 不得不 得 竖起 大拇指 下次 需要 时候 我 还 会 再 来 到时候 麻烦 掌柜 给 个 优惠 哦\",\"哈哈 理论知识 非常 不错\",\"这 本书 还是 挺不错 页面 也 舒服\",\"书 很 好 字印 很 清楚\",\"书 很 好 值得 好好 地\",\"书 很 好 字印 很 清楚\",\"这 本书 还是 挺不错 页面 也 舒服\",\"真的 很 不错 书 搞 活动 买 了 很多 超级 划算 书 质量 很 不错 相信 京东\",\"书 很 不错 准备 好好学习 天天向上\",\"应该 是 正品 书 质量 和 出版社 都 是 和文 轩 书店 一样 而且 在 内容 安排 和 页数 上 也 是 对 内容 也 没有 删减 京东 现在 买书 都 很 方便 而且 性价比 也 很 高\",\"很棒 书 很 值得 推荐\",\"书 很 不错 准备 好好学习 天天向上\",\"独家 分析 自成 一派 值得 阅读\",\"老公 书 都 是 京东 买 好多好多 质量 好 服务 好 售后 好\",\"非常 精细 书 终于 买 到 手里 了 也 算 疫情 期间 鼓励 和 督促 吧 hellip\",\"应该 是 正品 书 质量 和 出版社 都 是 和文 轩 书店 一样 而且 在 内容 安排 和 页数 上 也 是 对 内容 也 没有 删减 京东 现在 买书 都 很 方便 而且 性价比 也 很 高\",\"哈哈 理论知识 非常 不错\",\"非常 好 包装 非常 精美\",\"书 很 新 很 好 下次 还会 再 来 机器 学习 冲冲\",\"书 很 不错 准备 好好学习 天天向上\",\"书 很 不错 准备 好好学习 天天向上\",\"以为 是 很 厚 书 其实 内容 很少 每个 部分 只 简单 讲 了 一点 或者 直接 罗列 相关 成果 不过 也 挺 好 省得 找 和 看 很多 论文 了\",\"非常 精细 书 终于 买 到 手里 了 也 算 疫情 期间 鼓励 和 督促 吧 hellip\",\"书 很 好 值得 好好 地\",\"书 质量 非常 好 很 好 书\",\"京东 图书 质量 还是 不错 并且 搭配 满减 和 优惠券 还是 很 优惠\",\"书 很 新 很 好 下次 还会 再 来 机器 学习 冲冲\",\"不错 非常 下次 再 购买\",\"书 质量 很 好\",\"书 质量 非常 好 很 好 书\",\"内容 非常 接地 气 有 情节 也 有 总结 数据 价值 落地 非常 不 容易 给 团队 买 十几本 大家 一起 学习\",\"以为 是 很 厚 书 其实 内容 很少 每个 部分 只 简单 讲 了 一点 或者 直接 罗列 相关 成果 不过 也 挺 好 省得 找 和 看 很多 论文 了\",\"以为 是 很 厚 书 其实 内容 很少 每个 部分 只 简单 讲 了 一点 或者 直接 罗列 相关 成果 不过 也 挺 好 省得 找 和 看 很多 论文 了\",\"书 质量 很 好\",\"书 质量 非常 好 很 好 书\",\"书 很 好 字印 很 清楚\",\"书 收到 了 是 正品 质量 很 好 狗熊 会 出品 图书 应该 不错 内容 很 丰富 实用性 强 好好学习 一下\",\"独家 分析 自成 一派 值得 阅读\",\"还 不错 专业书 买来 增长 知识\",\"京东 图书 质量 还是 不错 并且 搭配 满减 和 优惠券 还是 很 优惠\",\"书 质量 非常 好 很 好 书\",\"不错 非常 下次 再 购买\",\"很棒 书 很 值得 推荐\",\"书本 内容 很 不错 正是 需要 学习 内容\",\"包装 完好无损 京东 物流 真的 很快 京东 小哥 服务态度 很 好\",\"哈哈 理论知识 非常 不错\",\"书 质量 很 好\",\"这 本书 还是 挺不错 页面 也 舒服\",\"非常 精细 书 终于 买 到 手里 了 也 算 疫情 期间 鼓励 和 督促 吧 hellip\",\"真的 很 不错 书 搞 活动 买 了 很多 超级 划算 书 质量 很 不错 相信 京东\",\"很 好  理论 扎实  讲解 透彻\",\"书 很 好 字印 很 清楚\",\"书 质量 很 好\",\"京东 图书 质量 还是 不错 并且 搭配 满减 和 优惠券 还是 很 优惠\",\"很棒 书 很 值得 推荐\",\"很 好  理论 扎实  讲解 透彻\",\"孩子 说书 内容 对 学习 帮助 很大 好评\",\"书本 内容 很 不错 正是 需要 学习 内容\",\"书本 内容 很 不错 正是 需要 学习 内容\",\"很 好  理论 扎实  讲解 透彻\",\"书 很 好 字印 很 清楚\",\"书 很 好 字印 很 清楚\",\"书 很 不错 准备 好好学习 天天向上\",\"以为 是 很 厚 书 其实 内容 很少 每个 部分 只 简单 讲 了 一点 或者 直接 罗列 相关 成果 不过 也 挺 好 省得 找 和 看 很多 论文 了\",\"孩子 说书 内容 对 学习 帮助 很大 好评\",\"还 不错 专业书 买来 增长 知识\",\"还 不错 专业书 买来 增长 知识\",\"不错 非常 下次 再 购买\",\"孩子 说书 内容 对 学习 帮助 很大 好评\",\"老公 书 都 是 京东 买 好多好多 质量 好 服务 好 售后 好\",\"老公 书 都 是 京东 买 好多好多 质量 好 服务 好 售后 好\",\"很棒 书 很 值得 推荐\",\"老公 书 都 是 京东 买 好多好多 质量 好 服务 好 售后 好\",\"书本 内容 很 不错 正是 需要 学习 内容\",\"包装 完好无损 京东 物流 真的 很快 京东 小哥 服务态度 很 好\",\"京东 图书 质量 还是 不错 并且 搭配 满减 和 优惠券 还是 很 优惠\",\"这 本书 还是 挺不错 页面 也 舒服\",\"不错 非常 下次 再 购买\",\"非常 精细 书 终于 买 到 手里 了 也 算 疫情 期间 鼓励 和 督促 吧 hellip\",\"书本 内容 很 不错 正是 需要 学习 内容\",\"书 很 好 值得 好好 地\",\"独家 分析 自成 一派 值得 阅读\",\"很 好  理论 扎实  讲解 透彻\",\"真的 很 不错 书 搞 活动 买 了 很多 超级 划算 书 质量 很 不错 相信 京东\",\"哈哈 理论知识 非常 不错\",\"以为 是 很 厚 书 其实 内容 很少 每个 部分 只 简单 讲 了 一点 或者 直接 罗列 相关 成果 不过 也 挺 好 省得 找 和 看 很多 论文 了\",\"应该 是 正品 书 质量 和 出版社 都 是 和文 轩 书店 一样 而且 在 内容 安排 和 页数 上 也 是 对 内容 也 没有 删减 京东 现在 买书 都 很 方便 而且 性价比 也 很 高\",\"真的 很 不错 书 搞 活动 买 了 很多 超级 划算 书 质量 很 不错 相信 京东\",\"书 很 好 字印 很 清楚\",\"独家 分析 自成 一派 值得 阅读\",\"非常 精细 书 终于 买 到 手里 了 也 算 疫情 期间 鼓励 和 督促 吧 hellip\",\"书 很 好 字印 很 清楚\",\"这 本书 还是 挺不错 页面 也 舒服\",\"孩子 说书 内容 对 学习 帮助 很大 好评\",\"独家 分析 自成 一派 值得 阅读\",\"京东 图书 质量 还是 不错 并且 搭配 满减 和 优惠券 还是 很 优惠\",\"书 很 新 很 好 下次 还会 再 来 机器 学习 冲冲\",\"不错 非常 下次 再 购买\",\"书 很 好 值得 好好 地\",\"书 很 好 字印 很 清楚\",null],\"marker\":{\"color\":\"#CFD8DC\",\"opacity\":0.5,\"size\":5},\"mode\":\"markers+text\",\"name\":\"other\",\"showlegend\":false,\"x\":[-2.300007,2.508559,18.782537,5.4552336,18.782612,-1.3750731,-1.3750886,21.03178,21.031836,17.235323,5.5889864,5.455241,-2.054735,21.03178,5.9257827,17.235521,-1.3881787,17.235956,5.9257836,2.6769397,-0.8127123,-13.060193,-1.3588778,-0.8124012,7.421715,2.5149405,5.0929627,-13.129153,21.031828,14.074693,-2.3000922,-0.79842925,-0.8057342,-0.6454702,5.093072,-1.374957,18.782333,2.514109,-2.3055642,15.346599,18.782515,18.782259,-0.60765386,-0.6420587,-0.6418021,18.782648,18.78235,17.23572,-3.5673645,7.4217105,5.4552546,2.482692,18.792599,15.346601,-1.3746676,-0.8128095,-0.23267013,21.031878,18.782444,5.925798,5.0928993,2.7056296,21.031767,17.236013,18.782776,2.5103405,-1.3749433,21.031788,5.588872,-0.76992697,-0.7970586,21.031801,17.235092,17.235622,-0.80804557,-0.640542,5.588965,5.455265,5.455267,15.346614,5.588929,2.5596414,2.5541975,-1.3752652,2.5090415,-0.7771243,-0.23373562,2.5138178,5.9257703,15.346619,5.0930705,-0.8397617,-1.3750749,7.421701,21.031815,2.6992476,21.031933,-0.64781195,-13.095751,2.683717,17.235525,7.4216566,5.092865,17.23575,5.92579,5.588958,7.421669,2.5201008,-2.2857125,15.346638,-1.3749547,17.232092,6.8260574],\"y\":[2.0422359,9.390463,-6.160941,-0.17433622,-6.16088,-16.381472,-16.381554,-2.0611215,-2.0611053,-14.853226,-5.8223352,-0.17430772,26.142351,-2.0610132,5.607275,-14.853039,-16.394653,-14.852636,5.607309,9.220802,-4.454313,11.497856,-16.365162,-4.4510217,-5.178731,9.384019,8.603131,11.567313,-2.0610518,1.9226891,2.042384,-4.4700933,-4.4617124,13.586818,8.6031,-16.381325,-6.1611876,9.384639,2.0370092,6.027723,-6.16098,-6.1612997,13.558101,13.5842085,13.584232,-6.1608825,-6.161188,-14.852864,-3.8789463,-5.1786695,-0.17428109,9.416304,-6.149963,6.0278144,-16.381102,-4.450864,12.669298,-2.06108,-6.161039,5.607236,8.603181,9.191926,-2.0611258,-14.85258,-6.1609874,9.388592,-16.38126,-2.061022,-5.8223844,-4.4281454,-4.4616404,-2.0610933,-14.853378,-14.853018,-4.4583287,13.583046,-5.822353,-0.17434633,-0.17432247,6.02776,-5.8223305,9.33894,9.344295,-16.38182,9.390029,-4.4922204,12.660283,9.385228,5.607245,6.0278115,8.6031065,-4.4168134,-16.381475,-5.1786795,-2.0610483,9.198378,-2.0609705,13.589783,11.533448,9.214036,-14.853067,-5.1787796,8.603233,-14.852833,5.6072726,-5.822339,-5.178654,9.378767,2.05717,6.027838,-16.381413,-14.85654,-0.7980329],\"type\":\"scattergl\"},{\"hoverinfo\":\"text\",\"hovertext\":[\"发货 快 包装 好 价格 实惠 快递 师傅 路线 熟悉 很快 就 送到 了 服务 热情周到 主动 给 搬 到 门口 趁着 京东 活动 力度 大 买 了 好多 书 质量 都 很 好 这本 GAN 实战 生成 对抗 网络 内容 实用 把 复杂 问题 简单化 值得 好好学习 一下 满意 好评\",\"之前 看过 电子版 和 Github 感觉 非常 不错 再 结合 老师 视频 学 起来 简直 是 完美\",\"很 好 书 是 介绍 神经网络 入门 了 一本 教材 实验室 实验室 老师 让 我们 买 看 了 一下 包装 啊 都 挺不错 配送 也 很 及时 整个 排版 也 比较 清晰 多色 印刷 比较 上档次 希望 买来 能 对 神经网络 学习 有 帮助 多多 阅读 多 做 笔记 来 买 书 还是 上 京东 比较 方便 还有 优惠\",\"看 了 李 沐 老师 视频 所以 又 买 了 一 本书 加深 印象 也 可以 随时 查阅 非常 赞 各位 学习 deep  learning 小伙伴 一起 加油\",\"看 了 李 沐 老师 视频 所以 又 买 了 一 本书 加深 印象 也 可以 随时 查阅 非常 赞 各位 学习 deep  learning 小伙伴 一起 加油\",\"老师 推荐 买 一 本书 很 不错 内容 深入浅出 是 学习 自动 驾驶 好 教材 京东 物流 很赞 服务 很 好 值得 推荐 哦 大家 可以 来 京东 买买 买 看看 不会 失望\",\"这 本书 是 老师 回归 分析 课程 上面 推荐 买来 还 一直 没有 看 呢 不 确定 怎么样 哈 不过 是 彩色 内页 还是 比较 划算 性价比 很 高 内容 应该 也 不难 主要 是 用 那个 语言 学 起来 非常 得 快 哦 大家 一起 学 的话 应该 可以 互相帮助 所以 这 本书 也 是 适合 完全 自学 小伙伴 们\",\"不错 很 好 这 本书 是 给 师弟 买 所以 买 了 很多 本 金典 神经网络 入门 教材 采用 是 双色 印刷 庄振 比较 精美 运送 也 很快 没有 磕碰 褶皱 买 书 还是 上 京东 方便 配合 满减 可以 做到 很 实惠 价格 跟 实验室 里面 省钱 了 爱 了 爱 了\",\"这 本书 是 我 觉得 讲 深度 学习 为数不多 好书 之一 也 是 2020 年 新版 图书 作者 是 复旦大学 邱 教授 全书 正文 都 采用 了 双 彩色 写作 方式 配图 是 全彩 书 也 很 厚 哎 京东 物流 和 包装 都 很 完美\",\"疫情 开 不了 学 导师 让 自己 学习 买 一些 编程 书 当然 首选 京东 昨天 下单 今天 就 到 了 太棒了 ! 还 可以 开发票 等 去 了 学校 导师 还 能 给 报销 美滋滋 机器 学习 这 本书 被誉为 经典 中 经典 又 被 称为 西瓜 书 师兄 导师 力荐 一定 要 仔细 看 把 里边 代码 自己 都 跑 一遍 试着 去 理解 去 优化 他 上 手 操作 才 是 王道 里面 讲 也 是 很多 要 慢慢 消化 了\",\"之前 看过 电子版 和 Github 感觉 非常 不错 再 结合 老师 视频 学 起来 简直 是 完美\",\"之前 看过 电子版 和 Github 感觉 非常 不错 再 结合 老师 视频 学 起来 简直 是 完美\",\"书 很 好 是 正版 周志华 老师 西瓜 书 可以 去 是 机器 学习 必备 书 了 装帧 好看 内容 经典 要 好好 啃 才 行 搭配 李航 老师 统计 学习 方法 真的 是 经典 不行 京东 快递 好评\",\"书 很 好 是 正版 周志华 老师 西瓜 书 可以 去 是 机器 学习 必备 书 了 装帧 好看 内容 经典 要 好好 啃 才 行 搭配 李航 老师 统计 学习 方法 真的 是 经典 不行 京东 快递 好评\",\"老师 推荐 买 一 本书 很 不错 内容 深入浅出 是 学习 自动 驾驶 好 教材 京东 物流 很赞 服务 很 好 值得 推荐 哦 大家 可以 来 京东 买买 买 看看 不会 失望\",\"这 本书 是 我 觉得 讲 深度 学习 为数不多 好书 之一 也 是 2020 年 新版 图书 作者 是 复旦大学 邱 教授 全书 正文 都 采用 了 双 彩色 写作 方式 配图 是 全彩 书 也 很 厚 哎 京东 物流 和 包装 都 很 完美\",\"这 本书 是 我 觉得 讲 深度 学习 为数不多 好书 之一 也 是 2020 年 新版 图书 作者 是 复旦大学 邱 教授 全书 正文 都 采用 了 双 彩色 写作 方式 配图 是 全彩 书 也 很 厚 哎 京东 物流 和 包装 都 很 完美\",\"疫情 开 不了 学 导师 让 自己 学习 买 一些 编程 书 当然 首选 京东 昨天 下单 今天 就 到 了 太棒了 ! 还 可以 开发票 等 去 了 学校 导师 还 能 给 报销 美滋滋 机器 学习 这 本书 被誉为 经典 中 经典 又 被 称为 西瓜 书 师兄 导师 力荐 一定 要 仔细 看 把 里边 代码 自己 都 跑 一遍 试着 去 理解 去 优化 他 上 手 操作 才 是 王道 里面 讲 也 是 很多 要 慢慢 消化 了\",\"老师 推荐 买 一 本书 很 不错 内容 深入浅出 是 学习 自动 驾驶 好 教材 京东 物流 很赞 服务 很 好 值得 推荐 哦 大家 可以 来 京东 买买 买 看看 不会 失望\",\"很 好 书 是 介绍 神经网络 入门 了 一本 教材 实验室 实验室 老师 让 我们 买 看 了 一下 包装 啊 都 挺不错 配送 也 很 及时 整个 排版 也 比较 清晰 多色 印刷 比较 上档次 希望 买来 能 对 神经网络 学习 有 帮助 多多 阅读 多 做 笔记 来 买 书 还是 上 京东 比较 方便 还有 优惠\",\"不错 很 好 这 本书 是 给 师弟 买 所以 买 了 很多 本 金典 神经网络 入门 教材 采用 是 双色 印刷 庄振 比较 精美 运送 也 很快 没有 磕碰 褶皱 买 书 还是 上 京东 方便 配合 满减 可以 做到 很 实惠 价格 跟 实验室 里面 省钱 了 爱 了 爱 了\",\"很 好 书 是 介绍 神经网络 入门 了 一本 教材 实验室 实验室 老师 让 我们 买 看 了 一下 包装 啊 都 挺不错 配送 也 很 及时 整个 排版 也 比较 清晰 多色 印刷 比较 上档次 希望 买来 能 对 神经网络 学习 有 帮助 多多 阅读 多 做 笔记 来 买 书 还是 上 京东 比较 方便 还有 优惠\",\"书 很 好 是 正版 周志华 老师 西瓜 书 可以 去 是 机器 学习 必备 书 了 装帧 好看 内容 经典 要 好好 啃 才 行 搭配 李航 老师 统计 学习 方法 真的 是 经典 不行 京东 快递 好评\",\"这 本书 是 我 觉得 讲 深度 学习 为数不多 好书 之一 也 是 2020 年 新版 图书 作者 是 复旦大学 邱 教授 全书 正文 都 采用 了 双 彩色 写作 方式 配图 是 全彩 书 也 很 厚 哎 京东 物流 和 包装 都 很 完美\",\"看 了 李 沐 老师 视频 所以 又 买 了 一 本书 加深 印象 也 可以 随时 查阅 非常 赞 各位 学习 deep  learning 小伙伴 一起 加油\",\"看 了 李 沐 老师 视频 所以 又 买 了 一 本书 加深 印象 也 可以 随时 查阅 非常 赞 各位 学习 deep  learning 小伙伴 一起 加油\",\"不错 很 好 这 本书 是 给 师弟 买 所以 买 了 很多 本 金典 神经网络 入门 教材 采用 是 双色 印刷 庄振 比较 精美 运送 也 很快 没有 磕碰 褶皱 买 书 还是 上 京东 方便 配合 满减 可以 做到 很 实惠 价格 跟 实验室 里面 省钱 了 爱 了 爱 了\",\"这 本书 是 我 觉得 讲 深度 学习 为数不多 好书 之一 也 是 2020 年 新版 图书 作者 是 复旦大学 邱 教授 全书 正文 都 采用 了 双 彩色 写作 方式 配图 是 全彩 书 也 很 厚 哎 京东 物流 和 包装 都 很 完美\",\"发货 快 包装 好 价格 实惠 快递 师傅 路线 熟悉 很快 就 送到 了 服务 热情周到 主动 给 搬 到 门口 趁着 京东 活动 力度 大 买 了 好多 书 质量 都 很 好 这本 GAN 实战 生成 对抗 网络 内容 实用 把 复杂 问题 简单化 值得 好好学习 一下 满意 好评\",\"很 好 书 是 介绍 神经网络 入门 了 一本 教材 实验室 实验室 老师 让 我们 买 看 了 一下 包装 啊 都 挺不错 配送 也 很 及时 整个 排版 也 比较 清晰 多色 印刷 比较 上档次 希望 买来 能 对 神经网络 学习 有 帮助 多多 阅读 多 做 笔记 来 买 书 还是 上 京东 比较 方便 还有 优惠\",\"发货 快 包装 好 价格 实惠 快递 师傅 路线 熟悉 很快 就 送到 了 服务 热情周到 主动 给 搬 到 门口 趁着 京东 活动 力度 大 买 了 好多 书 质量 都 很 好 这本 GAN 实战 生成 对抗 网络 内容 实用 把 复杂 问题 简单化 值得 好好学习 一下 满意 好评\",\"之前 看过 电子版 和 Github 感觉 非常 不错 再 结合 老师 视频 学 起来 简直 是 完美\",\"不错 很 好 这 本书 是 给 师弟 买 所以 买 了 很多 本 金典 神经网络 入门 教材 采用 是 双色 印刷 庄振 比较 精美 运送 也 很快 没有 磕碰 褶皱 买 书 还是 上 京东 方便 配合 满减 可以 做到 很 实惠 价格 跟 实验室 里面 省钱 了 爱 了 爱 了\",\"书 很 好 是 正版 周志华 老师 西瓜 书 可以 去 是 机器 学习 必备 书 了 装帧 好看 内容 经典 要 好好 啃 才 行 搭配 李航 老师 统计 学习 方法 真的 是 经典 不行 京东 快递 好评\",\"疫情 开 不了 学 导师 让 自己 学习 买 一些 编程 书 当然 首选 京东 昨天 下单 今天 就 到 了 太棒了 ! 还 可以 开发票 等 去 了 学校 导师 还 能 给 报销 美滋滋 机器 学习 这 本书 被誉为 经典 中 经典 又 被 称为 西瓜 书 师兄 导师 力荐 一定 要 仔细 看 把 里边 代码 自己 都 跑 一遍 试着 去 理解 去 优化 他 上 手 操作 才 是 王道 里面 讲 也 是 很多 要 慢慢 消化 了\",\"老师 推荐 买 一 本书 很 不错 内容 深入浅出 是 学习 自动 驾驶 好 教材 京东 物流 很赞 服务 很 好 值得 推荐 哦 大家 可以 来 京东 买买 买 看看 不会 失望\",\"很 好 书 是 介绍 神经网络 入门 了 一本 教材 实验室 实验室 老师 让 我们 买 看 了 一下 包装 啊 都 挺不错 配送 也 很 及时 整个 排版 也 比较 清晰 多色 印刷 比较 上档次 希望 买来 能 对 神经网络 学习 有 帮助 多多 阅读 多 做 笔记 来 买 书 还是 上 京东 比较 方便 还有 优惠\",\"之前 看过 电子版 和 Github 感觉 非常 不错 再 结合 老师 视频 学 起来 简直 是 完美\",\"疫情 开 不了 学 导师 让 自己 学习 买 一些 编程 书 当然 首选 京东 昨天 下单 今天 就 到 了 太棒了 ! 还 可以 开发票 等 去 了 学校 导师 还 能 给 报销 美滋滋 机器 学习 这 本书 被誉为 经典 中 经典 又 被 称为 西瓜 书 师兄 导师 力荐 一定 要 仔细 看 把 里边 代码 自己 都 跑 一遍 试着 去 理解 去 优化 他 上 手 操作 才 是 王道 里面 讲 也 是 很多 要 慢慢 消化 了\",\"发货 快 包装 好 价格 实惠 快递 师傅 路线 熟悉 很快 就 送到 了 服务 热情周到 主动 给 搬 到 门口 趁着 京东 活动 力度 大 买 了 好多 书 质量 都 很 好 这本 GAN 实战 生成 对抗 网络 内容 实用 把 复杂 问题 简单化 值得 好好学习 一下 满意 好评\",\"发货 快 包装 好 价格 实惠 快递 师傅 路线 熟悉 很快 就 送到 了 服务 热情周到 主动 给 搬 到 门口 趁着 京东 活动 力度 大 买 了 好多 书 质量 都 很 好 这本 GAN 实战 生成 对抗 网络 内容 实用 把 复杂 问题 简单化 值得 好好学习 一下 满意 好评\",\"疫情 开 不了 学 导师 让 自己 学习 买 一些 编程 书 当然 首选 京东 昨天 下单 今天 就 到 了 太棒了 ! 还 可以 开发票 等 去 了 学校 导师 还 能 给 报销 美滋滋 机器 学习 这 本书 被誉为 经典 中 经典 又 被 称为 西瓜 书 师兄 导师 力荐 一定 要 仔细 看 把 里边 代码 自己 都 跑 一遍 试着 去 理解 去 优化 他 上 手 操作 才 是 王道 里面 讲 也 是 很多 要 慢慢 消化 了\",\"看 了 李 沐 老师 视频 所以 又 买 了 一 本书 加深 印象 也 可以 随时 查阅 非常 赞 各位 学习 deep  learning 小伙伴 一起 加油\",\"老师 推荐 买 一 本书 很 不错 内容 深入浅出 是 学习 自动 驾驶 好 教材 京东 物流 很赞 服务 很 好 值得 推荐 哦 大家 可以 来 京东 买买 买 看看 不会 失望\",\"书 很 好 是 正版 周志华 老师 西瓜 书 可以 去 是 机器 学习 必备 书 了 装帧 好看 内容 经典 要 好好 啃 才 行 搭配 李航 老师 统计 学习 方法 真的 是 经典 不行 京东 快递 好评\",\"不错 很 好 这 本书 是 给 师弟 买 所以 买 了 很多 本 金典 神经网络 入门 教材 采用 是 双色 印刷 庄振 比较 精美 运送 也 很快 没有 磕碰 褶皱 买 书 还是 上 京东 方便 配合 满减 可以 做到 很 实惠 价格 跟 实验室 里面 省钱 了 爱 了 爱 了\",null],\"marker\":{\"opacity\":0.5,\"size\":5},\"mode\":\"markers+text\",\"name\":\"0_learning_github_gan\",\"text\":[\"\",\"\",\"\",\"\",\"\",\"\",\"\",\"\",\"\",\"\",\"\",\"\",\"\",\"\",\"\",\"\",\"\",\"\",\"\",\"\",\"\",\"\",\"\",\"\",\"\",\"\",\"\",\"\",\"\",\"\",\"\",\"\",\"\",\"\",\"\",\"\",\"\",\"\",\"\",\"\",\"\",\"\",\"\",\"\",\"\",\"\",\"0_learning_github_gan\"],\"textfont\":{\"size\":12},\"x\":[-17.212944,-16.649586,-17.204453,-16.712093,-16.678978,-16.796898,-17.00028,-17.05348,-17.210005,-16.804525,-16.64488,-16.65196,-16.776396,-16.785433,-16.775446,-17.223507,-17.228859,-16.769335,-16.792194,-17.157728,-16.988728,-17.23536,-16.762762,-17.226873,-16.693705,-16.670885,-16.988964,-17.22534,-17.24245,-17.158756,-17.22763,-16.61596,-17.034319,-16.78955,-16.801832,-16.78207,-17.186962,-16.656225,-16.777567,-17.209595,-17.191446,-16.790892,-16.691666,-16.798306,-16.772835,-16.997692,-16.927114],\"y\":[6.384493,6.3452764,6.402074,6.277002,6.299147,6.237793,6.3353615,6.3520145,6.367775,6.164266,6.3526464,6.325139,6.176656,6.185595,6.2425184,6.3698025,6.3514895,6.151145,6.24327,6.3515263,6.3240166,6.364146,6.180145,6.3851495,6.3025274,6.3168116,6.3213644,6.368555,6.414341,6.334099,6.396564,6.3772273,6.3364577,6.208536,6.135515,6.2591877,6.369077,6.333027,6.1651564,6.379293,6.3614492,6.1628647,6.310135,6.2463236,6.1728106,6.32331,6.2991977],\"type\":\"scattergl\"},{\"hoverinfo\":\"text\",\"hovertext\":[\"很 好 不错 这个 牌子 很 不错 很 好 不错 这个 牌子 很 不错\",\"送货来 很快  服务 好 没 问题\",\"物流 很 给 力 包装 很 好 正版\",\"书 很棒 用来 学习 生命 在于 学习\",\"很 不错 一如既往 很快 到货 质量 很 有 保障 十分 不错 !\",\"发货 迅速 包装 完好 好评\",\"非常 有 教育 意义 一 本书 很 喜欢 很 不错\",\"物流 很 给 力 包装 很 好 正版\",\"很 不错 一如既往 很快 到货 质量 很 有 保障 十分 不错 !\",\"很 好 教材 呢 赞 一个\",\"很 不错 一如既往 很快 到货 质量 很 有 保障 十分 不错 !\",\"发货 迅速 包装 完好 好评\",\"很 好 不错 这个 牌子 很 不错 很 好 不错 这个 牌子 很 不错\",\"很 好 教材 呢 赞 一个\",\"发货 迅速 包装 完好 好评\",\"很 好 教材 呢 赞 一个\",\"书 很棒 用来 学习 生命 在于 学习\",\"很 不错 一如既往 很快 到货 质量 很 有 保障 十分 不错 !\",\"发货 迅速 包装 完好 好评\",\"送货来 很快  服务 好 没 问题\",\"物流 很 给 力 包装 很 好 正版\",\"非常 有 教育 意义 一 本书 很 喜欢 很 不错\",\"书 很棒 用来 学习 生命 在于 学习\",\"非常 有 教育 意义 一 本书 很 喜欢 很 不错\",\"发货 迅速 包装 完好 好评\",\"送货来 很快  服务 好 没 问题\",\"很 好 教材 呢 赞 一个\",\"很 好 不错 这个 牌子 很 不错 很 好 不错 这个 牌子 很 不错\",\"很 好 不错 这个 牌子 很 不错 很 好 不错 这个 牌子 很 不错\",\"物流 很 给 力 包装 很 好 正版\",\"书 很棒 用来 学习 生命 在于 学习\",\"很 好 教材 呢 赞 一个\",\"很 好 不错 这个 牌子 很 不错 很 好 不错 这个 牌子 很 不错\",\"很 不错 一如既往 很快 到货 质量 很 有 保障 十分 不错 !\",\"送货来 很快  服务 好 没 问题\",\"送货来 很快  服务 好 没 问题\",\"非常 有 教育 意义 一 本书 很 喜欢 很 不错\",\"书 很棒 用来 学习 生命 在于 学习\",\"物流 很 给 力 包装 很 好 正版\",\"非常 有 教育 意义 一 本书 很 喜欢 很 不错\",null],\"marker\":{\"opacity\":0.5,\"size\":5},\"mode\":\"markers+text\",\"name\":\"1___\",\"text\":[\"\",\"\",\"\",\"\",\"\",\"\",\"\",\"\",\"\",\"\",\"\",\"\",\"\",\"\",\"\",\"\",\"\",\"\",\"\",\"\",\"\",\"\",\"\",\"\",\"\",\"\",\"\",\"\",\"\",\"\",\"\",\"\",\"\",\"\",\"\",\"\",\"\",\"\",\"\",\"\",\"1___\"],\"textfont\":{\"size\":12},\"x\":[16.186386,29.169168,29.151497,2.712987,13.531435,29.165455,1.540638,29.15836,13.531443,12.885653,13.531433,29.167595,16.186356,12.88554,29.16214,12.885607,2.713026,13.531453,29.177685,29.16923,29.148033,1.5406877,2.7074223,1.5407339,29.160952,29.169216,12.885489,16.186432,16.186644,29.165121,2.7083638,12.885463,16.186365,13.531441,29.173128,29.169262,1.5406361,2.712808,29.168,1.540669,16.79375],\"y\":[-5.2668185,15.774649,15.79238,0.11610356,18.590992,15.778392,2.4393666,15.78549,18.591017,-3.791349,18.59097,15.776258,-5.2667627,-3.791286,15.781913,-3.7913368,0.1159892,18.591045,15.766183,15.774598,15.795852,2.4393568,0.119752415,2.4393854,15.782927,15.7746105,-3.791307,-5.266834,-5.266935,15.778729,0.120208435,-3.7915113,-5.266811,18.591,15.770713,15.774568,2.4393454,0.11619419,15.775873,2.43936,7.4283066],\"type\":\"scattergl\"},{\"hoverinfo\":\"text\",\"hovertext\":[\"不错 适合 新手\",\"对于 我 专业 是 非常 实用\",\"非常 好 非常 好 很 满意\",\"非常 不错\",\"非常 不错\",\"很 好 很 有用 很 便宜\",\"非常 非常 非常 非常 好\",\"东西 不错\",\"很 实用 很 不错\",\"非常 好 非常 好 很 满意\",\"不错 适合 新手\",\"东西 不错\",\"不错 适合 新手\",\"不错 适合 新手\",\"非常 好 非常 好 很 满意\",\"很 实用 很 不错\",\"非常 不错\",\"东西 不错\",\"非常 不错\",\"很 实用 很 不错\",\"非常 非常 非常 非常 好\",\"很 好 很 有用 很 便宜\",\"很 好 很 有用 很 便宜\",\"对于 我 专业 是 非常 实用\",\"非常 非常 非常 非常 好\",\"很 实用 很 不错\",\"东西 不错\",\"非常 非常 非常 非常 好\",\"对于 我 专业 是 非常 实用\",\"不错 适合 新手\",\"对于 我 专业 是 非常 实用\",\"非常 不错\",\"非常 好 非常 好 很 满意\",\"东西 不错\",\"对于 我 专业 是 非常 实用\",\"非常 非常 非常 非常 好\",\"很 实用 很 不错\",\"非常 好 非常 好 很 满意\",\"很 好 很 有用 很 便宜\",\"很 好 很 有用 很 便宜\",null],\"marker\":{\"opacity\":0.5,\"size\":5},\"mode\":\"markers+text\",\"name\":\"2___\",\"text\":[\"\",\"\",\"\",\"\",\"\",\"\",\"\",\"\",\"\",\"\",\"\",\"\",\"\",\"\",\"\",\"\",\"\",\"\",\"\",\"\",\"\",\"\",\"\",\"\",\"\",\"\",\"\",\"\",\"\",\"\",\"\",\"\",\"\",\"\",\"\",\"\",\"\",\"\",\"\",\"\",\"2___\"],\"textfont\":{\"size\":12},\"x\":[25.424702,25.099314,25.593138,25.442837,25.419617,25.140198,25.548727,25.465076,25.220629,25.59127,25.426249,25.461567,25.428297,25.375965,25.596941,25.209846,25.415987,25.468405,25.430552,25.24009,25.517788,25.12543,25.13692,25.082502,25.555395,25.301508,25.463501,25.577442,25.101011,25.431015,25.069271,25.438223,25.60593,25.48113,25.08976,25.563421,25.2542,25.599123,25.12186,25.124062,25.365976],\"y\":[4.4485927,4.653013,4.3046403,4.434981,4.448503,4.6247535,4.342595,4.4188175,4.5658674,4.3064795,4.452399,4.41908,4.4189863,4.4946647,4.301007,4.573571,4.449415,4.4129224,4.4237704,4.5688195,4.373549,4.6347265,4.623603,4.6658473,4.3373256,4.5096407,4.4180465,4.3190084,4.646586,4.4432545,4.6800056,4.4300604,4.2947106,4.4010873,4.660526,4.3307037,4.5481715,4.2989697,4.6373086,4.6364465,4.473811],\"type\":\"scattergl\"},{\"hoverinfo\":\"text\",\"hovertext\":[\"这 本书 相当 棒 写 得 很 好 作者 也 很 有 情怀 开源 书籍 必须 买 一本 实体书 支持 一下\",\"非常 不错 书 手感 很棒 讲解 清晰\",\"非常 不错 书 手感 很棒 讲解 清晰\",\"非常 不错 书 值得一看 内容 讲 都 是 非常 不错 干货\",\"很 浅显易懂 pytorch 入门 书 排版 很 喜欢 很 自然 就 能 读 下去 赞\",\"很棒 一 本书 非常 不错 赞 一个\",\"非常 不错 书 手感 很棒 讲解 清晰\",\"很 浅显易懂 pytorch 入门 书 排版 很 喜欢 很 自然 就 能 读 下去 赞\",\"非常 不错 书 值得一看 内容 讲 都 是 非常 不错 干货\",\"这 本书 听说 是 大牛 写 很 有用 吧 我先 看看 再说\",\"很 浅显易懂 pytorch 入门 书 排版 很 喜欢 很 自然 就 能 读 下去 赞\",\"很棒 一 本书 非常 不错 赞 一个\",\"这 本书 听说 是 大牛 写 很 有用 吧 我先 看看 再说\",\"非常 不错 书 手感 很棒 讲解 清晰\",\"非常 不错 书 值得一看 内容 讲 都 是 非常 不错 干货\",\"很棒 一 本书 非常 不错 赞 一个\",\"书 封面 真的 大气  我会 好好 研读 这 本书  数据 领域 著作  太赞 了\",\"这 本书 听说 是 大牛 写 很 有用 吧 我先 看看 再说\",\"感觉 这 本书 内容 很 丰富 很 好\",\"这 本书 相当 棒 写 得 很 好 作者 也 很 有 情怀 开源 书籍 必须 买 一本 实体书 支持 一下\",\"感觉 这 本书 内容 很 丰富 很 好\",\"这 本书 相当 棒 写 得 很 好 作者 也 很 有 情怀 开源 书籍 必须 买 一本 实体书 支持 一下\",\"非常 不错 书 值得一看 内容 讲 都 是 非常 不错 干货\",\"这 本书 相当 棒 写 得 很 好 作者 也 很 有 情怀 开源 书籍 必须 买 一本 实体书 支持 一下\",\"这 本书 相当 棒 写 得 很 好 作者 也 很 有 情怀 开源 书籍 必须 买 一本 实体书 支持 一下\",\"非常 不错 书 手感 很棒 讲解 清晰\",\"写 很 不错 深入浅出 案例 详实 读完 很受 启发\",\"这 本书 听说 是 大牛 写 很 有用 吧 我先 看看 再说\",\"很棒 一 本书 非常 不错 赞 一个\",\"这 本书 听说 是 大牛 写 很 有用 吧 我先 看看 再说\",\"非常 不错 书 值得一看 内容 讲 都 是 非常 不错 干货\",\"感觉 这 本书 内容 很 丰富 很 好\",\"很棒 一 本书 非常 不错 赞 一个\",\"感觉 这 本书 内容 很 丰富 很 好\",\"感觉 这 本书 内容 很 丰富 很 好\",\"很 浅显易懂 pytorch 入门 书 排版 很 喜欢 很 自然 就 能 读 下去 赞\",\"很 浅显易懂 pytorch 入门 书 排版 很 喜欢 很 自然 就 能 读 下去 赞\",null],\"marker\":{\"opacity\":0.5,\"size\":5},\"mode\":\"markers+text\",\"name\":\"3_pytorch__\",\"text\":[\"\",\"\",\"\",\"\",\"\",\"\",\"\",\"\",\"\",\"\",\"\",\"\",\"\",\"\",\"\",\"\",\"\",\"\",\"\",\"\",\"\",\"\",\"\",\"\",\"\",\"\",\"\",\"\",\"\",\"\",\"\",\"\",\"\",\"\",\"\",\"\",\"\",\"3_pytorch__\"],\"textfont\":{\"size\":12},\"x\":[7.7888393,7.8043165,7.835795,7.8736887,7.840438,7.9250617,7.7991405,7.8391633,7.880138,7.889504,7.8402004,7.9532905,7.8897963,7.8261847,7.88341,7.9373865,7.9143367,7.884637,7.9845023,7.8395534,7.953941,7.823738,7.826795,7.826134,7.834527,7.83482,7.8328614,7.904019,7.927535,7.935787,7.8666344,7.9592724,7.90867,7.964671,7.9658675,7.8404546,7.8403687,7.877716],\"y\":[-13.643188,-13.8047695,-13.745338,-13.754388,-14.307503,-13.79542,-13.807791,-14.318412,-13.709459,-13.678469,-14.312919,-13.823563,-13.685902,-13.767753,-13.713784,-13.7932415,-13.635522,-13.6804905,-13.861504,-13.704297,-13.82766,-13.697567,-13.764887,-13.6894865,-13.693876,-13.754484,-14.213256,-13.672701,-13.799555,-13.658011,-13.715317,-13.839271,-13.846657,-13.836863,-13.838274,-14.307549,-14.30813,-13.838034],\"type\":\"scattergl\"},{\"hoverinfo\":\"text\",\"hovertext\":[\"这 本书 宏观 层面 上 讲解 了 如何 设计 和 打造 复杂 产品 流程 一个 复杂 产品 最 重要 是 源于 最初 想法 与 如何 落实 这个 想法 内容 通俗易懂 非常 推荐\",\"挺 好 一 本书 值得 好好学习 对于 我们 了解 人工智能 时代 具有 很大 帮助 这 本书 包括 人工智能 发展前景 机器人 从事 工作 人工智能 危害 人工智能 历史 工业 机器人 和 商业 机器人 家用 机器人 机器 学习 等 内容 给 我们 展现 了 一副 人工智能 发展 远景\",\"1 开始 机器 学习 领域 产品 拓展 也 开始 学习 机器 视觉 材料 机器 学习 领域 经典著作 也 算是 对 专业 方向 深入 理解 了解 机器 学习 历史 推荐 第二 版 机器 视觉 算法 与 应用 n2 加深 目前 工业界 理解 高职 课程 机器 视觉 及其 应用 技术 也 是 彩色 比较 合适 初学者 学习 了解\",\"挺 好 一 本书 值得 好好学习 对于 我们 了解 人工智能 时代 具有 很大 帮助 这 本书 包括 人工智能 发展前景 机器人 从事 工作 人工智能 危害 人工智能 历史 工业 机器人 和 商业 机器人 家用 机器人 机器 学习 等 内容 给 我们 展现 了 一副 人工智能 发展 远景\",\"挺 好 一 本书 值得 好好学习 对于 我们 了解 人工智能 时代 具有 很大 帮助 这 本书 包括 人工智能 发展前景 机器人 从事 工作 人工智能 危害 人工智能 历史 工业 机器人 和 商业 机器人 家用 机器人 机器 学习 等 内容 给 我们 展现 了 一副 人工智能 发展 远景\",\"挺 好 一 本书 值得 好好学习 对于 我们 了解 人工智能 时代 具有 很大 帮助 这 本书 包括 人工智能 发展前景 机器人 从事 工作 人工智能 危害 人工智能 历史 工业 机器人 和 商业 机器人 家用 机器人 机器 学习 等 内容 给 我们 展现 了 一副 人工智能 发展 远景\",\"快递 很快 包装 很 好 个人 认为 机器 学习 面试 不仅仅 是 用 过 什么 调 模型 更 需要 理解 背后 数学原理 感觉 这 本书 是 很 好 归纳 总结 省去 零散 搜索 汇总 时间 希望 有所 收获 吧\",\"1 开始 机器 学习 领域 产品 拓展 也 开始 学习 机器 视觉 材料 机器 学习 领域 经典著作 也 算是 对 专业 方向 深入 理解 了解 机器 学习 历史 推荐 第二 版 机器 视觉 算法 与 应用 n2 加深 目前 工业界 理解 高职 课程 机器 视觉 及其 应用 技术 也 是 彩色 比较 合适 初学者 学习 了解\",\"非常 不错 教材 基本上 把 自主 移动机器人 核心技术 都 讲 到 了 给出 了 详细 数学模型 介绍 从 顶层 模型 考试 讲 起 到 移动 控制 到 视觉 slam 到 定位 hellip  讲得 都 比较 到位 推荐 电气 机械 自动化 机器人 专业 学生 看看 很 对 内容 就是 我们 目前 项目 采用 方案 回头 来 看看 教材 有 更深 理解\",\"快递 很快 包装 很 好 个人 认为 机器 学习 面试 不仅仅 是 用 过 什么 调 模型 更 需要 理解 背后 数学原理 感觉 这 本书 是 很 好 归纳 总结 省去 零散 搜索 汇总 时间 希望 有所 收获 吧\",\"挺 好 一 本书 值得 好好学习 对于 我们 了解 人工智能 时代 具有 很大 帮助 这 本书 包括 人工智能 发展前景 机器人 从事 工作 人工智能 危害 人工智能 历史 工业 机器人 和 商业 机器人 家用 机器人 机器 学习 等 内容 给 我们 展现 了 一副 人工智能 发展 远景\",\"书 内容 很 丰富 条理性 清晰 从 人工智能 发展 历史 一直 讲 到 事例 再 到 模型 和 进阶 模型 由浅入深 讲 很 通俗易懂 对 我 帮助 很大 但 本书 也 并非 是 容易 到 普及 知识 通俗 读本 对 阅读 人员 有 一定 要求 起码 要 有 一定 基础\",\"这 本书 宏观 层面 上 讲解 了 如何 设计 和 打造 复杂 产品 流程 一个 复杂 产品 最 重要 是 源于 最初 想法 与 如何 落实 这个 想法 内容 通俗易懂 非常 推荐\",\"1 开始 机器 学习 领域 产品 拓展 也 开始 学习 机器 视觉 材料 机器 学习 领域 经典著作 也 算是 对 专业 方向 深入 理解 了解 机器 学习 历史 推荐 第二 版 机器 视觉 算法 与 应用 n2 加深 目前 工业界 理解 高职 课程 机器 视觉 及其 应用 技术 也 是 彩色 比较 合适 初学者 学习 了解\",\"挺 好 一 本书 值得 好好学习 对于 我们 了解 人工智能 时代 具有 很大 帮助 这 本书 包括 人工智能 发展前景 机器人 从事 工作 人工智能 危害 人工智能 历史 工业 机器人 和 商业 机器人 家用 机器人 机器 学习 等 内容 给 我们 展现 了 一副 人工智能 发展 远景\",\"挺 好 一 本书 值得 好好学习 对于 我们 了解 人工智能 时代 具有 很大 帮助 这 本书 包括 人工智能 发展前景 机器人 从事 工作 人工智能 危害 人工智能 历史 工业 机器人 和 商业 机器人 家用 机器人 机器 学习 等 内容 给 我们 展现 了 一副 人工智能 发展 远景\",\"这 本书 宏观 层面 上 讲解 了 如何 设计 和 打造 复杂 产品 流程 一个 复杂 产品 最 重要 是 源于 最初 想法 与 如何 落实 这个 想法 内容 通俗易懂 非常 推荐\",\"非常 不错 教材 基本上 把 自主 移动机器人 核心技术 都 讲 到 了 给出 了 详细 数学模型 介绍 从 顶层 模型 考试 讲 起 到 移动 控制 到 视觉 slam 到 定位 hellip  讲得 都 比较 到位 推荐 电气 机械 自动化 机器人 专业 学生 看看 很 对 内容 就是 我们 目前 项目 采用 方案 回头 来 看看 教材 有 更深 理解\",\"书 内容 很 丰富 条理性 清晰 从 人工智能 发展 历史 一直 讲 到 事例 再 到 模型 和 进阶 模型 由浅入深 讲 很 通俗易懂 对 我 帮助 很大 但 本书 也 并非 是 容易 到 普及 知识 通俗 读本 对 阅读 人员 有 一定 要求 起码 要 有 一定 基础\",\"挺 好 一 本书 值得 好好学习 对于 我们 了解 人工智能 时代 具有 很大 帮助 这 本书 包括 人工智能 发展前景 机器人 从事 工作 人工智能 危害 人工智能 历史 工业 机器人 和 商业 机器人 家用 机器人 机器 学习 等 内容 给 我们 展现 了 一副 人工智能 发展 远景\",\"书 内容 很 丰富 条理性 清晰 从 人工智能 发展 历史 一直 讲 到 事例 再 到 模型 和 进阶 模型 由浅入深 讲 很 通俗易懂 对 我 帮助 很大 但 本书 也 并非 是 容易 到 普及 知识 通俗 读本 对 阅读 人员 有 一定 要求 起码 要 有 一定 基础\",\"非常 不错 教材 基本上 把 自主 移动机器人 核心技术 都 讲 到 了 给出 了 详细 数学模型 介绍 从 顶层 模型 考试 讲 起 到 移动 控制 到 视觉 slam 到 定位 hellip  讲得 都 比较 到位 推荐 电气 机械 自动化 机器人 专业 学生 看看 很 对 内容 就是 我们 目前 项目 采用 方案 回头 来 看看 教材 有 更深 理解\",\"挺 好 一 本书 值得 好好学习 对于 我们 了解 人工智能 时代 具有 很大 帮助 这 本书 包括 人工智能 发展前景 机器人 从事 工作 人工智能 危害 人工智能 历史 工业 机器人 和 商业 机器人 家用 机器人 机器 学习 等 内容 给 我们 展现 了 一副 人工智能 发展 远景\",\"挺 好 一 本书 值得 好好学习 对于 我们 了解 人工智能 时代 具有 很大 帮助 这 本书 包括 人工智能 发展前景 机器人 从事 工作 人工智能 危害 人工智能 历史 工业 机器人 和 商业 机器人 家用 机器人 机器 学习 等 内容 给 我们 展现 了 一副 人工智能 发展 远景\",\"快递 很快 包装 很 好 个人 认为 机器 学习 面试 不仅仅 是 用 过 什么 调 模型 更 需要 理解 背后 数学原理 感觉 这 本书 是 很 好 归纳 总结 省去 零散 搜索 汇总 时间 希望 有所 收获 吧\",\"快递 很快 包装 很 好 个人 认为 机器 学习 面试 不仅仅 是 用 过 什么 调 模型 更 需要 理解 背后 数学原理 感觉 这 本书 是 很 好 归纳 总结 省去 零散 搜索 汇总 时间 希望 有所 收获 吧\",\"这 本书 宏观 层面 上 讲解 了 如何 设计 和 打造 复杂 产品 流程 一个 复杂 产品 最 重要 是 源于 最初 想法 与 如何 落实 这个 想法 内容 通俗易懂 非常 推荐\",\"这 本书 宏观 层面 上 讲解 了 如何 设计 和 打造 复杂 产品 流程 一个 复杂 产品 最 重要 是 源于 最初 想法 与 如何 落实 这个 想法 内容 通俗易懂 非常 推荐\",\"书 内容 很 丰富 条理性 清晰 从 人工智能 发展 历史 一直 讲 到 事例 再 到 模型 和 进阶 模型 由浅入深 讲 很 通俗易懂 对 我 帮助 很大 但 本书 也 并非 是 容易 到 普及 知识 通俗 读本 对 阅读 人员 有 一定 要求 起码 要 有 一定 基础\",\"非常 不错 教材 基本上 把 自主 移动机器人 核心技术 都 讲 到 了 给出 了 详细 数学模型 介绍 从 顶层 模型 考试 讲 起 到 移动 控制 到 视觉 slam 到 定位 hellip  讲得 都 比较 到位 推荐 电气 机械 自动化 机器人 专业 学生 看看 很 对 内容 就是 我们 目前 项目 采用 方案 回头 来 看看 教材 有 更深 理解\",\"1 开始 机器 学习 领域 产品 拓展 也 开始 学习 机器 视觉 材料 机器 学习 领域 经典著作 也 算是 对 专业 方向 深入 理解 了解 机器 学习 历史 推荐 第二 版 机器 视觉 算法 与 应用 n2 加深 目前 工业界 理解 高职 课程 机器 视觉 及其 应用 技术 也 是 彩色 比较 合适 初学者 学习 了解\",\"1 开始 机器 学习 领域 产品 拓展 也 开始 学习 机器 视觉 材料 机器 学习 领域 经典著作 也 算是 对 专业 方向 深入 理解 了解 机器 学习 历史 推荐 第二 版 机器 视觉 算法 与 应用 n2 加深 目前 工业界 理解 高职 课程 机器 视觉 及其 应用 技术 也 是 彩色 比较 合适 初学者 学习 了解\",\"非常 不错 教材 基本上 把 自主 移动机器人 核心技术 都 讲 到 了 给出 了 详细 数学模型 介绍 从 顶层 模型 考试 讲 起 到 移动 控制 到 视觉 slam 到 定位 hellip  讲得 都 比较 到位 推荐 电气 机械 自动化 机器人 专业 学生 看看 很 对 内容 就是 我们 目前 项目 采用 方案 回头 来 看看 教材 有 更深 理解\",\"快递 很快 包装 很 好 个人 认为 机器 学习 面试 不仅仅 是 用 过 什么 调 模型 更 需要 理解 背后 数学原理 感觉 这 本书 是 很 好 归纳 总结 省去 零散 搜索 汇总 时间 希望 有所 收获 吧\",\"书 内容 很 丰富 条理性 清晰 从 人工智能 发展 历史 一直 讲 到 事例 再 到 模型 和 进阶 模型 由浅入深 讲 很 通俗易懂 对 我 帮助 很大 但 本书 也 并非 是 容易 到 普及 知识 通俗 读本 对 阅读 人员 有 一定 要求 起码 要 有 一定 基础\",null],\"marker\":{\"opacity\":0.5,\"size\":5},\"mode\":\"markers+text\",\"name\":\"4_slam_n2_hellip\",\"text\":[\"\",\"\",\"\",\"\",\"\",\"\",\"\",\"\",\"\",\"\",\"\",\"\",\"\",\"\",\"\",\"\",\"\",\"\",\"\",\"\",\"\",\"\",\"\",\"\",\"\",\"\",\"\",\"\",\"\",\"\",\"\",\"\",\"\",\"\",\"\",\"4_slam_n2_hellip\"],\"textfont\":{\"size\":12},\"x\":[-21.530697,-21.578655,-21.2667,-21.593794,-21.540442,-21.552904,-21.366152,-21.26095,-21.303844,-21.373526,-21.615562,-21.492992,-21.50564,-21.269583,-21.602692,-21.55153,-21.507862,-21.276585,-21.48169,-21.565046,-21.482906,-21.281984,-21.584904,-21.585356,-21.34261,-21.395416,-21.499453,-21.496359,-21.48157,-21.306173,-21.254686,-21.268995,-21.30845,-21.358671,-21.467253,-21.438616],\"y\":[-6.934432,-6.9828176,-6.669054,-6.9979825,-6.944606,-6.956928,-6.769055,-6.6631947,-6.705986,-6.776475,-7.019767,-6.896709,-6.9094214,-6.671928,-7.0069165,-6.9555883,-6.9115586,-6.678972,-6.8858085,-6.969147,-6.8863373,-6.684399,-6.9891343,-6.9894185,-6.7453895,-6.7983627,-6.903162,-6.900015,-6.885263,-6.708682,-6.6569552,-6.6713243,-6.7109346,-6.761545,-6.8709555,-6.8419504],\"type\":\"scattergl\"},{\"hoverinfo\":\"text\",\"hovertext\":[\"书本 很 好 装订 印刷 精致 值得 拥有 京东 购物 方便 放心 发货 送货上门 及时\",\"书本 很 好 装订 印刷 精致 值得 拥有 京东 购物 方便 放心 发货 送货上门 及时\",\"在 京东 上 购物 还是 非常 方便 现在 一直 在 京东 上面 买 东西 特别 是 购买 书 非常 方便 第一天 下单 第二天 就 收到 了 双十 一 也 是 包装 精美 没有 任何 折痕 性价比 很 高 活动 期间 价格 美丽\",\"书本 很 好 装订 印刷 精致 值得 拥有 京东 购物 方便 放心 发货 送货上门 及时\",\"机器 学习 实战 教程 图书 质量 非常 好 正版 图书 印刷 非常 清晰 图书 纸张 质量 很 好 京东 双 11 活动 购买 价格 非常 实惠 送货 速度 很快 推荐 购买\",\"机器 学习 实战 教程 图书 质量 非常 好 正版 图书 印刷 非常 清晰 图书 纸张 质量 很 好 京东 双 11 活动 购买 价格 非常 实惠 送货 速度 很快 推荐 购买\",\"现在 基本上 所有 书 都 在 京东 上面 买 一般 情况 下 今天 下单 明天 就 可以 收到 速度 非常 快 而且 包装 都 很 好 没有 任何 破损 这 本书 内容 比较 全面 值得一看\",\"现在 基本上 所有 书 都 在 京东 上面 买 一般 情况 下 今天 下单 明天 就 可以 收到 速度 非常 快 而且 包装 都 很 好 没有 任何 破损 这 本书 内容 比较 全面 值得一看\",\"书本 很 好 双十 一 购买 价廉物美 京东 购物 方便 放心 发货 送货上门 及时\",\"机器 学习 实战 教程 图书 质量 非常 好 正版 图书 印刷 非常 清晰 图书 纸张 质量 很 好 京东 双 11 活动 购买 价格 非常 实惠 送货 速度 很快 推荐 购买\",\"一直 都 在 京东 买 舒服 好 舒服 快 质量 有 保障 不能 出场 价格 实惠 换购 也 方便 然后 没有 需要 很多 然后 种类 很多 什么 都 可以 买 到\",\"现在 基本上 所有 书 都 在 京东 上面 买 一般 情况 下 今天 下单 明天 就 可以 收到 速度 非常 快 而且 包装 都 很 好 没有 任何 破损 这 本书 内容 比较 全面 值得一看\",\"在 京东 上 购物 还是 非常 方便 现在 一直 在 京东 上面 买 东西 特别 是 购买 书 非常 方便 第一天 下单 第二天 就 收到 了 双十 一 也 是 包装 精美 没有 任何 折痕 性价比 很 高 活动 期间 价格 美丽\",\"一直 都 在 京东 买 舒服 好 舒服 快 质量 有 保障 不能 出场 价格 实惠 换购 也 方便 然后 没有 需要 很多 然后 种类 很多 什么 都 可以 买 到\",\"书本 很 好 装订 印刷 精致 值得 拥有 京东 购物 方便 放心 发货 送货上门 及时\",\"在 京东 上 购物 还是 非常 方便 现在 一直 在 京东 上面 买 东西 特别 是 购买 书 非常 方便 第一天 下单 第二天 就 收到 了 双十 一 也 是 包装 精美 没有 任何 折痕 性价比 很 高 活动 期间 价格 美丽\",\"机器 学习 实战 教程 图书 质量 非常 好 正版 图书 印刷 非常 清晰 图书 纸张 质量 很 好 京东 双 11 活动 购买 价格 非常 实惠 送货 速度 很快 推荐 购买\",\"书本 很 好 双十 一 购买 价廉物美 京东 购物 方便 放心 发货 送货上门 及时\",\"机器 学习 实战 教程 图书 质量 非常 好 正版 图书 印刷 非常 清晰 图书 纸张 质量 很 好 京东 双 11 活动 购买 价格 非常 实惠 送货 速度 很快 推荐 购买\",\"书本 很 好 双十 一 购买 价廉物美 京东 购物 方便 放心 发货 送货上门 及时\",\"现在 基本上 所有 书 都 在 京东 上面 买 一般 情况 下 今天 下单 明天 就 可以 收到 速度 非常 快 而且 包装 都 很 好 没有 任何 破损 这 本书 内容 比较 全面 值得一看\",\"在 京东 上 购物 还是 非常 方便 现在 一直 在 京东 上面 买 东西 特别 是 购买 书 非常 方便 第一天 下单 第二天 就 收到 了 双十 一 也 是 包装 精美 没有 任何 折痕 性价比 很 高 活动 期间 价格 美丽\",\"机器 学习 实战 教程 图书 质量 非常 好 正版 图书 印刷 非常 清晰 图书 纸张 质量 很 好 京东 双 11 活动 购买 价格 非常 实惠 送货 速度 很快 推荐 购买\",\"在 京东 上 购物 还是 非常 方便 现在 一直 在 京东 上面 买 东西 特别 是 购买 书 非常 方便 第一天 下单 第二天 就 收到 了 双十 一 也 是 包装 精美 没有 任何 折痕 性价比 很 高 活动 期间 价格 美丽\",\"书本 很 好 双十 一 购买 价廉物美 京东 购物 方便 放心 发货 送货上门 及时\",\"书本 很 好 装订 印刷 精致 值得 拥有 京东 购物 方便 放心 发货 送货上门 及时\",\"一直 都 在 京东 买 舒服 好 舒服 快 质量 有 保障 不能 出场 价格 实惠 换购 也 方便 然后 没有 需要 很多 然后 种类 很多 什么 都 可以 买 到\",\"书本 很 好 双十 一 购买 价廉物美 京东 购物 方便 放心 发货 送货上门 及时\",\"一直 都 在 京东 买 舒服 好 舒服 快 质量 有 保障 不能 出场 价格 实惠 换购 也 方便 然后 没有 需要 很多 然后 种类 很多 什么 都 可以 买 到\",\"机器 学习 实战 教程 图书 质量 非常 好 正版 图书 印刷 非常 清晰 图书 纸张 质量 很 好 京东 双 11 活动 购买 价格 非常 实惠 送货 速度 很快 推荐 购买\",\"一直 都 在 京东 买 舒服 好 舒服 快 质量 有 保障 不能 出场 价格 实惠 换购 也 方便 然后 没有 需要 很多 然后 种类 很多 什么 都 可以 买 到\",\"现在 基本上 所有 书 都 在 京东 上面 买 一般 情况 下 今天 下单 明天 就 可以 收到 速度 非常 快 而且 包装 都 很 好 没有 任何 破损 这 本书 内容 比较 全面 值得一看\",\"机器 学习 实战 教程 图书 质量 非常 好 正版 图书 印刷 非常 清晰 图书 纸张 质量 很 好 京东 双 11 活动 购买 价格 非常 实惠 送货 速度 很快 推荐 购买\",\"机器 学习 实战 教程 图书 质量 非常 好 正版 图书 印刷 非常 清晰 图书 纸张 质量 很 好 京东 双 11 活动 购买 价格 非常 实惠 送货 速度 很快 推荐 购买\",\"机器 学习 实战 教程 图书 质量 非常 好 正版 图书 印刷 非常 清晰 图书 纸张 质量 很 好 京东 双 11 活动 购买 价格 非常 实惠 送货 速度 很快 推荐 购买\",null],\"marker\":{\"opacity\":0.5,\"size\":5},\"mode\":\"markers+text\",\"name\":\"5_11__\",\"text\":[\"\",\"\",\"\",\"\",\"\",\"\",\"\",\"\",\"\",\"\",\"\",\"\",\"\",\"\",\"\",\"\",\"\",\"\",\"\",\"\",\"\",\"\",\"\",\"\",\"\",\"\",\"\",\"\",\"\",\"\",\"\",\"\",\"\",\"\",\"\",\"5_11__\"],\"textfont\":{\"size\":12},\"x\":[-12.363963,-12.363942,-5.7866936,-12.363927,-4.623638,-4.624104,-5.7856665,-5.7857075,-12.363993,-4.623523,-5.786251,-5.7856274,-5.786952,-5.8034735,-12.36424,-5.785794,-4.6238194,-12.363961,-4.6239634,-12.363922,-5.785705,-5.7865357,-4.6293836,-5.7857904,-12.3640785,-12.36411,-5.785764,-12.361964,-5.7855234,-4.6229796,-5.7857337,-5.7856297,-4.6232324,-4.6322465,-4.607824,-7.3337045],\"y\":[-0.16075832,-0.16074014,23.539356,-0.16075058,9.172113,9.171638,23.538322,23.53828,-0.16067186,9.172238,23.53893,23.538315,23.539625,23.555126,-0.16062914,23.538391,9.171848,-0.1607771,9.171821,-0.1607664,23.53832,23.539179,9.166354,23.538393,-0.16073799,-0.16078763,23.538454,-0.16151366,23.538494,9.172723,23.538418,23.538223,9.172553,9.163607,9.187991,12.66316],\"type\":\"scattergl\"},{\"hoverinfo\":\"text\",\"hovertext\":[\"这次 双 11 在 京东 上 只 买 了 几本书 活动 力度 挺大 满 100 减去 50 很 划算 书 质量 都 挺不错 发货 速度 也 还 挺 好 整体 来说 还是 挺 让 人 满意 反正 就是 挺 开心 很 喜欢 书 是 充盈 感觉 说 包装 也 挺 好 发货 还 算是 可以 吧 我 在 最近 店里 就 买 了 很多 书 没事 了 看看书 感觉 非常 好 越来越 感觉 学 不够 用 了 买 书 补充 一下\",\"这次 双 11 在 京东 上 只 买 了 几本书 活动 力度 挺大 满 100 减去 50 很 划算 书 质量 都 挺不错 发货 速度 也 还 挺 好 整体 来说 还是 挺 让 人 满意 反正 就是 挺 开心 很 喜欢 书 是 充盈 感觉 说 包装 也 挺 好 发货 还 算是 可以 吧 我 在 最近 店里 就 买 了 很多 书 没事 了 看看书 感觉 非常 好 越来越 感觉 学 不够 用 了 买 书 补充 一下\",\"这次 双 11 在 京东 上 买 了 挺 多 叔叔 质量 都 挺不错 发货 速度 也 还 挺 好 整体 来说 还是 挺 让 人 满意 反正 就是 挺 开心 很 喜欢 书 是 充盈 感觉 说 包装 也 挺 好 发货 还 算是 可以 吧 我 在 最近 店里 就 买 了 很多 书 然后 还 在 飞机 里面 买 了 很多 科技类 书 主要 和 拍摄 相关 还有 很多 其他 反正 我 就 想 多 写点 评价 都 已经 到 啦 书 很快 就 收到 了 但是 这三 本书 还是 有点 贵 啊 我 总共 买 了 20 多 本书 整体 来说 还是 特别 高兴  我们 实验室 和 老师 出钱 给 我 买 了 挺 多 说 反正 就是 挺 好 我 需要 卖家 生意 越来越 兴隆 越来越 好 希望 你们 生意兴隆 红火 就 这样 吧 写 不了 更 多 的话 了 真的 想多带 点金 豆 谢谢 你 了 帮 我 评个 优  其实 每当 我 看到 书 是 聪明 感觉 心里 真的 特别 高兴\",\"这次 双 11 在 京东 上 买 了 挺 多 叔叔 质量 都 挺不错 发货 速度 也 还 挺 好 整体 来说 还是 挺 让 人 满意 反正 就是 挺 开心 很 喜欢 书 是 充盈 感觉 说 包装 也 挺 好 发货 还 算是 可以 吧 我 在 最近 店里 就 买 了 很多 书 然后 还 在 飞机 里面 买 了 很多 科技类 书 主要 和 拍摄 相关 还有 很多 其他 反正 我 就 想 多 写点 评价 都 已经 到 啦 书 很快 就 收到 了 但是 这三 本书 还是 有点 贵 啊 我 总共 买 了 20 多 本书 整体 来说 还是 特别 高兴  我们 实验室 和 老师 出钱 给 我 买 了 挺 多 说 反正 就是 挺 好 我 需要 卖家 生意 越来越 兴隆 越来越 好 希望 你们 生意兴隆 红火 就 这样 吧 写 不了 更 多 的话 了 真的 想多带 点金 豆 谢谢 你 了 帮 我 评个 优  其实 每当 我 看到 书 是 聪明 感觉 心里 真的 特别 高兴\",\"这次 双 11 在 京东 上 买 了 挺 多 叔叔 质量 都 挺不错 发货 速度 也 还 挺 好 整体 来说 还是 挺 让 人 满意 反正 就是 挺 开心 很 喜欢 书 是 充盈 感觉 说 包装 也 挺 好 发货 还 算是 可以 吧 我 在 最近 店里 就 买 了 很多 书 然后 还 在 飞机 里面 买 了 很多 科技类 书 主要 和 拍摄 相关 还有 很多 其他 反正 我 就 想 多 写点 评价 都 已经 到 啦 书 很快 就 收到 了 但是 这三 本书 还是 有点 贵 啊 我 总共 买 了 20 多 本书 整体 来说 还是 特别 高兴  我们 实验室 和 老师 出钱 给 我 买 了 挺 多 说 反正 就是 挺 好 我 需要 卖家 生意 越来越 兴隆 越来越 好 希望 你们 生意兴隆 红火 就 这样 吧 写 不了 更 多 的话 了 真的 想多带 点金 豆 谢谢 你 了 帮 我 评个 优  其实 每当 我 看到 书 是 聪明 感觉 心里 真的 特别 高兴\",\"这次 双 11 在 京东 上 买 了 挺 多 叔叔 质量 都 挺不错 发货 速度 也 还 挺 好 整体 来说 还是 挺 让 人 满意 反正 就是 挺 开心 很 喜欢 书 是 充盈 感觉 说 包装 也 挺 好 发货 还 算是 可以 吧 我 在 最近 店里 就 买 了 很多 书 然后 还 在 飞机 里面 买 了 很多 科技类 书 主要 和 拍摄 相关 还有 很多 其他 反正 我 就 想 多 写点 评价 都 已经 到 啦 书 很快 就 收到 了 但是 这三 本书 还是 有点 贵 啊 我 总共 买 了 20 多 本书 整体 来说 还是 特别 高兴  我们 实验室 和 老师 出钱 给 我 买 了 挺 多 说 反正 就是 挺 好 我 需要 卖家 生意 越来越 兴隆 越来越 好 希望 你们 生意兴隆 红火 就 这样 吧 写 不了 更 多 的话 了 真的 想多带 点金 豆 谢谢 你 了 帮 我 评个 优  其实 每当 我 看到 书 是 聪明 感觉 心里 真的 特别 高兴\",\"这次 双 11 在 京东 上 买 了 挺 多 叔叔 质量 都 挺不错 发货 速度 也 还 挺 好 整体 来说 还是 挺 让 人 满意 反正 就是 挺 开心 很 喜欢 书 是 充盈 感觉 说 包装 也 挺 好 发货 还 算是 可以 吧 我 在 最近 店里 就 买 了 很多 书 然后 还 在 飞机 里面 买 了 很多 科技类 书 主要 和 拍摄 相关 还有 很多 其他 反正 我 就 想 多 写点 评价 都 已经 到 啦 书 很快 就 收到 了 但是 这三 本书 还是 有点 贵 啊 我 总共 买 了 20 多 本书 整体 来说 还是 特别 高兴  我们 实验室 和 老师 出钱 给 我 买 了 挺 多 说 反正 就是 挺 好 我 需要 卖家 生意 越来越 兴隆 越来越 好 希望 你们 生意兴隆 红火 就 这样 吧 写 不了 更 多 的话 了 真的 想多带 点金 豆 谢谢 你 了 帮 我 评个 优  其实 每当 我 看到 书 是 聪明 感觉 心里 真的 特别 高兴\",\"书 质量 不错 每一 本书 都 有 塑封 加上 有 气泡 袋 不用 担心 运输 过程 中 磨损 趁着 打折 活动 买 一下子 买 了 六 本书 可以 给 我 好好 去 学习 了 有 了 这些 书 可以 给 自己 学习 生活 带来 很大 帮助 看着 这些 书 就 开心 哈哈哈\",\"书 质量 不错 每一 本书 都 有 塑封 加上 有 气泡 袋 不用 担心 运输 过程 中 磨损 趁着 打折 活动 买 一下子 买 了 六 本书 可以 给 我 好好 去 学习 了 有 了 这些 书 可以 给 自己 学习 生活 带来 很大 帮助 看着 这些 书 就 开心 哈哈哈\",\"这次 双 11 在 京东 上 买 了 挺 多 叔叔 质量 都 挺不错 发货 速度 也 还 挺 好 整体 来说 还是 挺 让 人 满意 反正 就是 挺 开心 很 喜欢 书 是 充盈 感觉 说 包装 也 挺 好 发货 还 算是 可以 吧 我 在 最近 店里 就 买 了 很多 书 然后 还 在 飞机 里面 买 了 很多 科技类 书 主要 和 拍摄 相关 还有 很多 其他 反正 我 就 想 多 写点 评价 都 已经 到 啦 书 很快 就 收到 了 但是 这三 本书 还是 有点 贵 啊 我 总共 买 了 20 多 本书 整体 来说 还是 特别 高兴  我们 实验室 和 老师 出钱 给 我 买 了 挺 多 说 反正 就是 挺 好 我 需要 卖家 生意 越来越 兴隆 越来越 好 希望 你们 生意兴隆 红火 就 这样 吧 写 不了 更 多 的话 了 真的 想多带 点金 豆 谢谢 你 了 帮 我 评个 优  其实 每当 我 看到 书 是 聪明 感觉 心里 真的 特别 高兴\",\"这次 双 11 在 京东 上 买 了 挺 多 叔叔 质量 都 挺不错 发货 速度 也 还 挺 好 整体 来说 还是 挺 让 人 满意 反正 就是 挺 开心 很 喜欢 书 是 充盈 感觉 说 包装 也 挺 好 发货 还 算是 可以 吧 我 在 最近 店里 就 买 了 很多 书 然后 还 在 飞机 里面 买 了 很多 科技类 书 主要 和 拍摄 相关 还有 很多 其他 反正 我 就 想 多 写点 评价 都 已经 到 啦 书 很快 就 收到 了 但是 这三 本书 还是 有点 贵 啊 我 总共 买 了 20 多 本书 整体 来说 还是 特别 高兴  我们 实验室 和 老师 出钱 给 我 买 了 挺 多 说 反正 就是 挺 好 我 需要 卖家 生意 越来越 兴隆 越来越 好 希望 你们 生意兴隆 红火 就 这样 吧 写 不了 更 多 的话 了 真的 想多带 点金 豆 谢谢 你 了 帮 我 评个 优  其实 每当 我 看到 书 是 聪明 感觉 心里 真的 特别 高兴\",\"书 质量 不错 每一 本书 都 有 塑封 加上 有 气泡 袋 不用 担心 运输 过程 中 磨损 趁着 打折 活动 买 一下子 买 了 六 本书 可以 给 我 好好 去 学习 了 有 了 这些 书 可以 给 自己 学习 生活 带来 很大 帮助 看着 这些 书 就 开心 哈哈哈\",\"这次 双 11 在 京东 上 只 买 了 几本书 活动 力度 挺大 满 100 减去 50 很 划算 书 质量 都 挺不错 发货 速度 也 还 挺 好 整体 来说 还是 挺 让 人 满意 反正 就是 挺 开心 很 喜欢 书 是 充盈 感觉 说 包装 也 挺 好 发货 还 算是 可以 吧 我 在 最近 店里 就 买 了 很多 书 没事 了 看看书 感觉 非常 好 越来越 感觉 学 不够 用 了 买 书 补充 一下\",\"这次 双 11 在 京东 上 只 买 了 几本书 活动 力度 挺大 满 100 减去 50 很 划算 书 质量 都 挺不错 发货 速度 也 还 挺 好 整体 来说 还是 挺 让 人 满意 反正 就是 挺 开心 很 喜欢 书 是 充盈 感觉 说 包装 也 挺 好 发货 还 算是 可以 吧 我 在 最近 店里 就 买 了 很多 书 没事 了 看看书 感觉 非常 好 越来越 感觉 学 不够 用 了 买 书 补充 一下\",\"这次 双 11 在 京东 上 买 了 挺 多 叔叔 质量 都 挺不错 发货 速度 也 还 挺 好 整体 来说 还是 挺 让 人 满意 反正 就是 挺 开心 很 喜欢 书 是 充盈 感觉 说 包装 也 挺 好 发货 还 算是 可以 吧 我 在 最近 店里 就 买 了 很多 书 然后 还 在 飞机 里面 买 了 很多 科技类 书 主要 和 拍摄 相关 还有 很多 其他 反正 我 就 想 多 写点 评价 都 已经 到 啦 书 很快 就 收到 了 但是 这三 本书 还是 有点 贵 啊 我 总共 买 了 20 多 本书 整体 来说 还是 特别 高兴  我们 实验室 和 老师 出钱 给 我 买 了 挺 多 说 反正 就是 挺 好 我 需要 卖家 生意 越来越 兴隆 越来越 好 希望 你们 生意兴隆 红火 就 这样 吧 写 不了 更 多 的话 了 真的 想多带 点金 豆 谢谢 你 了 帮 我 评个 优  其实 每当 我 看到 书 是 聪明 感觉 心里 真的 特别 高兴\",\"这次 双 11 在 京东 上 只 买 了 几本书 活动 力度 挺大 满 100 减去 50 很 划算 书 质量 都 挺不错 发货 速度 也 还 挺 好 整体 来说 还是 挺 让 人 满意 反正 就是 挺 开心 很 喜欢 书 是 充盈 感觉 说 包装 也 挺 好 发货 还 算是 可以 吧 我 在 最近 店里 就 买 了 很多 书 没事 了 看看书 感觉 非常 好 越来越 感觉 学 不够 用 了 买 书 补充 一下\",\"这次 双 11 在 京东 上 只 买 了 几本书 活动 力度 挺大 满 100 减去 50 很 划算 书 质量 都 挺不错 发货 速度 也 还 挺 好 整体 来说 还是 挺 让 人 满意 反正 就是 挺 开心 很 喜欢 书 是 充盈 感觉 说 包装 也 挺 好 发货 还 算是 可以 吧 我 在 最近 店里 就 买 了 很多 书 没事 了 看看书 感觉 非常 好 越来越 感觉 学 不够 用 了 买 书 补充 一下\",\"给 部门 买 书 一次性 买 了 一千多 部门 小伙伴 都 挺 开心 京东 物流 自不必说 了 希望 自己 在 新 一年 里 有 更 多 进步\",\"这次 双 11 在 京东 上 只 买 了 几本书 活动 力度 挺大 满 100 减去 50 很 划算 书 质量 都 挺不错 发货 速度 也 还 挺 好 整体 来说 还是 挺 让 人 满意 反正 就是 挺 开心 很 喜欢 书 是 充盈 感觉 说 包装 也 挺 好 发货 还 算是 可以 吧 我 在 最近 店里 就 买 了 很多 书 没事 了 看看书 感觉 非常 好 越来越 感觉 学 不够 用 了 买 书 补充 一下\",\"这次 双 11 在 京东 上 买 了 挺 多 叔叔 质量 都 挺不错 发货 速度 也 还 挺 好 整体 来说 还是 挺 让 人 满意 反正 就是 挺 开心 很 喜欢 书 是 充盈 感觉 说 包装 也 挺 好 发货 还 算是 可以 吧 我 在 最近 店里 就 买 了 很多 书 然后 还 在 飞机 里面 买 了 很多 科技类 书 主要 和 拍摄 相关 还有 很多 其他 反正 我 就 想 多 写点 评价 都 已经 到 啦 书 很快 就 收到 了 但是 这三 本书 还是 有点 贵 啊 我 总共 买 了 20 多 本书 整体 来说 还是 特别 高兴  我们 实验室 和 老师 出钱 给 我 买 了 挺 多 说 反正 就是 挺 好 我 需要 卖家 生意 越来越 兴隆 越来越 好 希望 你们 生意兴隆 红火 就 这样 吧 写 不了 更 多 的话 了 真的 想多带 点金 豆 谢谢 你 了 帮 我 评个 优  其实 每当 我 看到 书 是 聪明 感觉 心里 真的 特别 高兴\",\"书 质量 不错 每一 本书 都 有 塑封 加上 有 气泡 袋 不用 担心 运输 过程 中 磨损 趁着 打折 活动 买 一下子 买 了 六 本书 可以 给 我 好好 去 学习 了 有 了 这些 书 可以 给 自己 学习 生活 带来 很大 帮助 看着 这些 书 就 开心 哈哈哈\",\"给 部门 买 书 一次性 买 了 一千多 部门 小伙伴 都 挺 开心 京东 物流 自不必说 了 希望 自己 在 新 一年 里 有 更 多 进步\",\"给 部门 买 书 一次性 买 了 一千多 部门 小伙伴 都 挺 开心 京东 物流 自不必说 了 希望 自己 在 新 一年 里 有 更 多 进步\",\"这次 双 11 在 京东 上 只 买 了 几本书 活动 力度 挺大 满 100 减去 50 很 划算 书 质量 都 挺不错 发货 速度 也 还 挺 好 整体 来说 还是 挺 让 人 满意 反正 就是 挺 开心 很 喜欢 书 是 充盈 感觉 说 包装 也 挺 好 发货 还 算是 可以 吧 我 在 最近 店里 就 买 了 很多 书 没事 了 看看书 感觉 非常 好 越来越 感觉 学 不够 用 了 买 书 补充 一下\",\"给 部门 买 书 一次性 买 了 一千多 部门 小伙伴 都 挺 开心 京东 物流 自不必说 了 希望 自己 在 新 一年 里 有 更 多 进步\",\"这次 双 11 在 京东 上 只 买 了 几本书 活动 力度 挺大 满 100 减去 50 很 划算 书 质量 都 挺不错 发货 速度 也 还 挺 好 整体 来说 还是 挺 让 人 满意 反正 就是 挺 开心 很 喜欢 书 是 充盈 感觉 说 包装 也 挺 好 发货 还 算是 可以 吧 我 在 最近 店里 就 买 了 很多 书 没事 了 看看书 感觉 非常 好 越来越 感觉 学 不够 用 了 买 书 补充 一下\",\"这次 双 11 在 京东 上 只 买 了 几本书 活动 力度 挺大 满 100 减去 50 很 划算 书 质量 都 挺不错 发货 速度 也 还 挺 好 整体 来说 还是 挺 让 人 满意 反正 就是 挺 开心 很 喜欢 书 是 充盈 感觉 说 包装 也 挺 好 发货 还 算是 可以 吧 我 在 最近 店里 就 买 了 很多 书 没事 了 看看书 感觉 非常 好 越来越 感觉 学 不够 用 了 买 书 补充 一下\",\"书 质量 不错 每一 本书 都 有 塑封 加上 有 气泡 袋 不用 担心 运输 过程 中 磨损 趁着 打折 活动 买 一下子 买 了 六 本书 可以 给 我 好好 去 学习 了 有 了 这些 书 可以 给 自己 学习 生活 带来 很大 帮助 看着 这些 书 就 开心 哈哈哈\",\"这次 双 11 在 京东 上 买 了 挺 多 叔叔 质量 都 挺不错 发货 速度 也 还 挺 好 整体 来说 还是 挺 让 人 满意 反正 就是 挺 开心 很 喜欢 书 是 充盈 感觉 说 包装 也 挺 好 发货 还 算是 可以 吧 我 在 最近 店里 就 买 了 很多 书 然后 还 在 飞机 里面 买 了 很多 科技类 书 主要 和 拍摄 相关 还有 很多 其他 反正 我 就 想 多 写点 评价 都 已经 到 啦 书 很快 就 收到 了 但是 这三 本书 还是 有点 贵 啊 我 总共 买 了 20 多 本书 整体 来说 还是 特别 高兴  我们 实验室 和 老师 出钱 给 我 买 了 挺 多 说 反正 就是 挺 好 我 需要 卖家 生意 越来越 兴隆 越来越 好 希望 你们 生意兴隆 红火 就 这样 吧 写 不了 更 多 的话 了 真的 想多带 点金 豆 谢谢 你 了 帮 我 评个 优  其实 每当 我 看到 书 是 聪明 感觉 心里 真的 特别 高兴\",\"给 部门 买 书 一次性 买 了 一千多 部门 小伙伴 都 挺 开心 京东 物流 自不必说 了 希望 自己 在 新 一年 里 有 更 多 进步\",null],\"marker\":{\"opacity\":0.5,\"size\":5},\"mode\":\"markers+text\",\"name\":\"6_50_100_11\",\"text\":[\"\",\"\",\"\",\"\",\"\",\"\",\"\",\"\",\"\",\"\",\"\",\"\",\"\",\"\",\"\",\"\",\"\",\"\",\"\",\"\",\"\",\"\",\"\",\"\",\"\",\"\",\"\",\"\",\"\",\"\",\"6_50_100_11\"],\"textfont\":{\"size\":12},\"x\":[-11.753485,-11.73138,-5.6211658,-5.6211233,-5.621,-5.621155,-5.6211815,-11.748494,-11.748077,-5.621178,-5.6211543,-11.762717,-11.772278,-11.739754,-5.6212525,-11.750029,-11.724769,-11.714415,-11.737114,-5.6211734,-11.768936,-11.691033,-11.725417,-11.732741,-11.715254,-11.731134,-11.731253,-11.774464,-5.621154,-11.695677,-9.698666],\"y\":[18.20528,18.22735,13.42534,13.425338,13.425473,13.425263,13.425382,18.210104,18.210556,13.425297,13.425373,18.195856,18.186348,18.218985,13.425227,18.208849,18.233952,18.244444,18.221704,13.425336,18.189663,18.267735,18.233406,18.225967,18.243626,18.22791,18.227184,18.184147,13.425278,18.263092,16.622646],\"type\":\"scattergl\"},{\"hoverinfo\":\"text\",\"hovertext\":[\"内容 丰富多彩 示例 切实有效 非常 好 一款 图书 京东 物流 一如既往 快速 便捷 包装 非常 完好 图书 印刷 字迹 清晰 应该 是 正版 图书\",\"帮 同事 买 他 说 可以 内容 比较 丰富 京东 发货 快 快递 也 很 给 力\",\"内容 丰富多彩 示例 切实有效 非常 好 一款 图书 京东 物流 一如既往 快速 便捷 包装 非常 完好 图书 印刷 字迹 清晰 应该 是 正版 图书\",\"帮 同事 买 他 说 可以 内容 比较 丰富 京东 发货 快 快递 也 很 给 力\",\"正版 发货 快 大部分 书 都 在 京东 买 了\",\"一口气 买 了 好多好多 书 快递 到 了 快 得 很 而且 是 正版 强烈推荐 在 京东 买 书 很 靠 谱\",\"真的 很 不错 书 搞 活动 买 了 很多 超级 划算 书 质量 很 不错 相信 京东\",\"真的 很 不错 书 搞 活动 买 了 很多 超级 划算 书 质量 很 不错 相信 京东\",\"内容 丰富多彩 示例 切实有效 非常 好 一款 图书 京东 物流 一如既往 快速 便捷 包装 非常 完好 图书 印刷 字迹 清晰 应该 是 正版 图书\",\"一口气 买 了 好多好多 书 快递 到 了 快 得 很 而且 是 正版 强烈推荐 在 京东 买 书 很 靠 谱\",\"一口气 买 了 好多好多 书 快递 到 了 快 得 很 而且 是 正版 强烈推荐 在 京东 买 书 很 靠 谱\",\"正版 发货 快 大部分 书 都 在 京东 买 了\",\"真的 很 不错 书 搞 活动 买 了 很多 超级 划算 书 质量 很 不错 相信 京东\",\"帮 同事 买 他 说 可以 内容 比较 丰富 京东 发货 快 快递 也 很 给 力\",\"正版 发货 快 大部分 书 都 在 京东 买 了\",\"一口气 买 了 好多好多 书 快递 到 了 快 得 很 而且 是 正版 强烈推荐 在 京东 买 书 很 靠 谱\",\"包装 完好无损 京东 物流 真的 很快 京东 小哥 服务态度 很 好\",\"内容 丰富多彩 示例 切实有效 非常 好 一款 图书 京东 物流 一如既往 快速 便捷 包装 非常 完好 图书 印刷 字迹 清晰 应该 是 正版 图书\",\"帮 同事 买 他 说 可以 内容 比较 丰富 京东 发货 快 快递 也 很 给 力\",\"正版 发货 快 大部分 书 都 在 京东 买 了\",\"内容 丰富多彩 示例 切实有效 非常 好 一款 图书 京东 物流 一如既往 快速 便捷 包装 非常 完好 图书 印刷 字迹 清晰 应该 是 正版 图书\",\"真的 很 不错 书 搞 活动 买 了 很多 超级 划算 书 质量 很 不错 相信 京东\",\"真的 很 不错 书 搞 活动 买 了 很多 超级 划算 书 质量 很 不错 相信 京东\",\"包装 完好无损 京东 物流 真的 很快 京东 小哥 服务态度 很 好\",\"包装 完好无损 京东 物流 真的 很快 京东 小哥 服务态度 很 好\",\"正版 发货 快 大部分 书 都 在 京东 买 了\",\"京东 物流 速度 很快 书记 是 全新 有 薄膜 包装 我 给 拆掉 了 朋友 推荐 这 本书 欢迎 大家 购买 阅读\",\"帮 同事 买 他 说 可以 内容 比较 丰富 京东 发货 快 快递 也 很 给 力\",\"一口气 买 了 好多好多 书 快递 到 了 快 得 很 而且 是 正版 强烈推荐 在 京东 买 书 很 靠 谱\",\"真的 很 不错 书 搞 活动 买 了 很多 超级 划算 书 质量 很 不错 相信 京东\",null],\"marker\":{\"opacity\":0.5,\"size\":5},\"mode\":\"markers+text\",\"name\":\"7___\",\"text\":[\"\",\"\",\"\",\"\",\"\",\"\",\"\",\"\",\"\",\"\",\"\",\"\",\"\",\"\",\"\",\"\",\"\",\"\",\"\",\"\",\"\",\"\",\"\",\"\",\"\",\"\",\"\",\"\",\"\",\"\",\"7___\"],\"textfont\":{\"size\":12},\"x\":[-0.26747763,-0.2383336,-0.2752979,-0.22105533,-0.3382043,-0.29179847,2.6710923,2.721163,-0.2914652,-0.2384848,-0.2755071,-0.33309478,2.6908185,-0.25484106,-0.36953527,-0.27706003,-0.23286971,-0.28907254,-0.24870121,-0.3563005,-0.28443837,2.6971717,2.6975968,-0.21086271,-0.22147241,-0.32863528,-0.3152342,-0.21893725,-0.2866515,2.6806588,0.316439],\"y\":[12.554396,12.647874,12.5667925,12.661957,12.517165,12.535314,9.226615,9.176502,12.546966,12.58702,12.528632,12.543402,9.206886,12.640127,12.50271,12.567435,12.662681,12.543052,12.63777,12.579747,12.547216,9.200428,9.200118,12.694378,12.682211,12.531642,12.331388,12.667134,12.54761,9.216925,11.901734],\"type\":\"scattergl\"},{\"hoverinfo\":\"text\",\"hovertext\":[\"印刷 纸张 都 不错 正在 学习\",\"书本 外包装 完好无损 里面 字体 打印 清晰 很 好\",\"书本 外包装 完好无损 里面 字体 打印 清晰 很 好\",\"印刷 清楚 介绍 详细 纸质 也 很 好 是 好书\",\"书本 外包装 完好无损 里面 字体 打印 清晰 很 好\",\"书本 外包装 完好无损 里面 字体 打印 清晰 很 好\",\"印刷 清楚 介绍 详细 纸质 也 很 好 是 好书\",\"书本 外包装 完好无损 里面 字体 打印 清晰 很 好\",\"厚厚的 一本 内容 丰富 纸质 很 好 适合 做 参考 工具书\",\"好书 印刷 清晰 纸张 不错 内容 看 不 多 暂 不 评价 快递 很快\",\"好书 印刷 清晰 纸张 不错 内容 看 不 多 暂 不 评价 快递 很快\",\"好书 印刷 清晰 纸张 不错 内容 看 不 多 暂 不 评价 快递 很快\",\"印刷 清楚 介绍 详细 纸质 也 很 好 是 好书\",\"厚厚的 一本 内容 丰富 纸质 很 好 适合 做 参考 工具书\",\"印刷 清楚 介绍 详细 纸质 也 很 好 是 好书\",\"厚厚的 一本 内容 丰富 纸质 很 好 适合 做 参考 工具书\",\"好书 印刷 清晰 纸张 不错 内容 看 不 多 暂 不 评价 快递 很快\",\"书本 外包装 完好无损 里面 字体 打印 清晰 很 好\",\"印刷 清楚 介绍 详细 纸质 也 很 好 是 好书\",\"厚厚的 一本 内容 丰富 纸质 很 好 适合 做 参考 工具书\",\"书本 外包装 完好无损 里面 字体 打印 清晰 很 好\",\"印刷 纸张 都 不错 正在 学习\",\"书本 外包装 完好无损 里面 字体 打印 清晰 很 好\",\"印刷 纸张 都 不错 正在 学习\",\"好书 印刷 清晰 纸张 不错 内容 看 不 多 暂 不 评价 快递 很快\",\"书本 外包装 完好无损 里面 字体 打印 清晰 很 好\",\"厚厚的 一本 内容 丰富 纸质 很 好 适合 做 参考 工具书\",\"书本 外包装 完好无损 里面 字体 打印 清晰 很 好\",\"印刷 纸张 都 不错 正在 学习\",\"印刷 纸张 都 不错 正在 学习\",null],\"marker\":{\"opacity\":0.5,\"size\":5},\"mode\":\"markers+text\",\"name\":\"8___\",\"text\":[\"\",\"\",\"\",\"\",\"\",\"\",\"\",\"\",\"\",\"\",\"\",\"\",\"\",\"\",\"\",\"\",\"\",\"\",\"\",\"\",\"\",\"\",\"\",\"\",\"\",\"\",\"\",\"\",\"\",\"\",\"8___\"],\"textfont\":{\"size\":12},\"x\":[9.659005,9.501474,9.549011,9.683572,9.552052,9.537486,9.692705,9.486546,9.754611,9.707539,9.683737,9.698281,9.693951,9.703995,9.68511,9.694696,9.702875,9.505924,9.696182,9.695002,9.49337,9.706914,9.532386,9.682301,9.654168,9.490217,9.723328,9.548131,9.720938,9.689725,9.637508],\"y\":[-1.6816387,-1.5224997,-1.5708805,-1.7064638,-1.5737603,-1.5591373,-1.715783,-1.5074745,-1.7772821,-1.7304438,-1.7066023,-1.7210644,-1.7165682,-1.7264458,-1.7079281,-1.7173232,-1.7257212,-1.5271792,-1.7181314,-1.7175983,-1.5146992,-1.7296096,-1.5539864,-1.7050526,-1.6770288,-1.5112162,-1.7459029,-1.5696614,-1.7436559,-1.7124021,-1.6597712],\"type\":\"scattergl\"},{\"hoverinfo\":\"text\",\"hovertext\":[\"书 很 好 物流 也 很快 第二天 就 到 了 纸 质量 也 不错\",\"书 拿到 了 质量 还 不错 送货 也 很快\",\"物流 速度 很快 产品质量 很 好 书 内容 也 非常 不错 京东 物流 值得 信赖 值得 购买 推荐\",\"书 拿到 了 质量 还 不错 送货 也 很快\",\"书 质量 很 好 送货 很快 有 时间 把 内容 仔细 读 一下 一定 会 有 很大 收获\",\"物流 很快 书 质量 很 好 赞 一个\",\"书 很 好 物流 也 很快 第二天 就 到 了 纸 质量 也 不错\",\"书 质量 很 好 送货 很快 有 时间 把 内容 仔细 读 一下 一定 会 有 很大 收获\",\"前一天 晚上 下单 第二天 就 送到 了 还 以为 双十 一 送货 会慢 没想到 还是 次日 达 书 质量 不错 参加 满减 非常 合适\",\"前一天 晚上 下单 第二天 就 送到 了 还 以为 双十 一 送货 会慢 没想到 还是 次日 达 书 质量 不错 参加 满减 非常 合适\",\"书 很 好 物流 也 很快 第二天 就 到 了 纸 质量 也 不错\",\"物流 很快 书 质量 很 好 赞 一个\",\"书 很 好 物流 也 很快 第二天 就 到 了 纸 质量 也 不错\",\"物流 很快 书 质量 很 好 赞 一个\",\"物流 速度 很快 产品质量 很 好 书 内容 也 非常 不错 京东 物流 值得 信赖 值得 购买 推荐\",\"物流 速度 很快 产品质量 很 好 书 内容 也 非常 不错 京东 物流 值得 信赖 值得 购买 推荐\",\"书 质量 很 好 送货 很快 有 时间 把 内容 仔细 读 一下 一定 会 有 很大 收获\",\"书 拿到 了 质量 还 不错 送货 也 很快\",\"物流 很快 书 质量 很 好 赞 一个\",\"前一天 晚上 下单 第二天 就 送到 了 还 以为 双十 一 送货 会慢 没想到 还是 次日 达 书 质量 不错 参加 满减 非常 合适\",\"书 拿到 了 质量 还 不错 送货 也 很快\",\"书 很 好 物流 也 很快 第二天 就 到 了 纸 质量 也 不错\",\"书 拿到 了 质量 还 不错 送货 也 很快\",\"物流 速度 很快 产品质量 很 好 书 内容 也 非常 不错 京东 物流 值得 信赖 值得 购买 推荐\",\"物流 速度 很快 产品质量 很 好 书 内容 也 非常 不错 京东 物流 值得 信赖 值得 购买 推荐\",\"书 质量 很 好 送货 很快 有 时间 把 内容 仔细 读 一下 一定 会 有 很大 收获\",\"书 质量 很 好 送货 很快 有 时间 把 内容 仔细 读 一下 一定 会 有 很大 收获\",\"物流 很快 书 质量 很 好 赞 一个\",\"前一天 晚上 下单 第二天 就 送到 了 还 以为 双十 一 送货 会慢 没想到 还是 次日 达 书 质量 不错 参加 满减 非常 合适\",\"前一天 晚上 下单 第二天 就 送到 了 还 以为 双十 一 送货 会慢 没想到 还是 次日 达 书 质量 不错 参加 满减 非常 合适\",null],\"marker\":{\"opacity\":0.5,\"size\":5},\"mode\":\"markers+text\",\"name\":\"9___\",\"text\":[\"\",\"\",\"\",\"\",\"\",\"\",\"\",\"\",\"\",\"\",\"\",\"\",\"\",\"\",\"\",\"\",\"\",\"\",\"\",\"\",\"\",\"\",\"\",\"\",\"\",\"\",\"\",\"\",\"\",\"\",\"9___\"],\"textfont\":{\"size\":12},\"x\":[8.507226,8.538268,8.978189,8.503455,8.50598,8.987856,8.470344,8.522878,8.4545965,8.45064,8.470246,8.95895,8.491576,8.879846,8.992962,8.972624,8.500838,8.521112,8.969183,8.450325,8.512807,8.490627,8.533424,8.970741,8.976573,8.495887,8.499578,8.966796,8.456292,8.461562,8.6497135],\"y\":[11.557167,11.578829,11.399862,11.54644,11.560993,11.384951,11.524409,11.577853,11.510713,11.5030775,11.528847,11.41639,11.541442,11.439284,11.381491,11.402301,11.567817,11.556658,11.402544,11.516385,11.557555,11.540546,11.576759,11.402293,11.395462,11.561232,11.563501,11.404323,11.509236,11.51439,11.497425],\"type\":\"scattergl\"},{\"hoverinfo\":\"text\",\"hovertext\":[\"书到 了 物流 很快 包装 好 价格 优惠 还有 塑料模 太棒了\",\"囤 新书 慢慢 看 书本 非常 不错 物流 快\",\"囤 新书 慢慢 看 书本 非常 不错 物流 快\",\"书到 了 物流 很快 包装 好 价格 优惠 还有 塑料模 太棒了\",\"书 很 好 物流 也 非常 快\",\"书 很 好 物流 也 非常 快\",\"物流 很快  书 很 新  包装 很 好  还 没 开始 看  应该 不错\",\"书 很 好 物流 也 非常 快\",\"书 很 好 物流 也 非常 快\",\"物流 很快  书 很 新  包装 很 好  还 没 开始 看  应该 不错\",\"物流 很快  书 很 新  包装 很 好  还 没 开始 看  应该 不错\",\"书到 了 物流 很快 包装 好 价格 优惠 还有 塑料模 太棒了\",\"囤 新书 慢慢 看 书本 非常 不错 物流 快\",\"书 很 好 物流 也 非常 快\",\"很 好 送货 很快 书 还 没 看\",\"书 很 好 物流 也 非常 快\",\"囤 新书 慢慢 看 书本 非常 不错 物流 快\",\"物流 很快  书 很 新  包装 很 好  还 没 开始 看  应该 不错\",\"书到 了 物流 很快 包装 好 价格 优惠 还有 塑料模 太棒了\",\"书 很 好 物流 也 非常 快\",\"书 很 好 物流 也 非常 快\",\"书 很 好 物流 也 非常 快\",\"书到 了 物流 很快 包装 好 价格 优惠 还有 塑料模 太棒了\",\"很 好 送货 很快 书 还 没 看\",\"很 好 送货 很快 书 还 没 看\",\"很 好 送货 很快 书 还 没 看\",\"很 好 送货 很快 书 还 没 看\",\"囤 新书 慢慢 看 书本 非常 不错 物流 快\",\"书 很 好 物流 也 非常 快\",\"物流 很快  书 很 新  包装 很 好  还 没 开始 看  应该 不错\",null],\"marker\":{\"opacity\":0.5,\"size\":5},\"mode\":\"markers+text\",\"name\":\"10___\",\"text\":[\"\",\"\",\"\",\"\",\"\",\"\",\"\",\"\",\"\",\"\",\"\",\"\",\"\",\"\",\"\",\"\",\"\",\"\",\"\",\"\",\"\",\"\",\"\",\"\",\"\",\"\",\"\",\"\",\"\",\"\",\"10___\"],\"textfont\":{\"size\":12},\"x\":[22.565275,22.447859,22.489988,22.571455,22.353073,22.341602,22.540558,22.333445,22.354307,22.540907,22.54923,22.577023,22.467688,22.355967,22.310165,22.348219,22.515491,22.563362,22.581001,22.343533,22.383566,22.30848,22.56401,22.316515,22.306137,22.300898,22.318476,22.531176,22.356821,22.546532,22.436092],\"y\":[16.445229,16.56266,16.520279,16.439089,16.656359,16.667898,16.469973,16.676098,16.655058,16.46961,16.461319,16.433516,16.542685,16.65337,16.699099,16.66122,16.494894,16.447227,16.429573,16.665924,16.626112,16.70091,16.446508,16.692791,16.703087,16.708368,16.690765,16.47922,16.652748,16.463968,16.573849],\"type\":\"scattergl\"},{\"hoverinfo\":\"text\",\"hovertext\":[\"谢谢 非常 满意 一次 愉快 购物 体验 这 类 资料 只要 有 货 必须 第一 时间 入手 很 开心\",\"谢谢 非常 满意 一次 愉快 购物 体验 这 类 资料 只要 有 货 必须 第一 时间 入手 很 开心\",\"谢谢 非常 满意 一次 愉快 购物 体验 这 类 资料 只要 有 货 必须 第一 时间 入手 很 开心\",\"谢谢 非常 满意 一次 愉快 购物 体验 这 类 资料 只要 有 货 必须 第一 时间 入手 很 开心\",\"谢谢 非常 满意 一次 愉快 购物 体验 这 类 资料 只要 有 货 必须 第一 时间 入手 很 开心\",\"谢谢 非常 满意 一次 愉快 购物 体验 这 类 资料 只要 有 货 必须 第一 时间 入手 很 开心\",\"意外 收获 了 不少 创业 点子 很 惊喜 感谢 车 袁 老师\",\"谢谢 非常 满意 一次 愉快 购物 体验 这 类 资料 只要 有 货 必须 第一 时间 入手 很 开心\",\"谢谢 非常 满意 一次 愉快 购物 体验 这 类 资料 只要 有 货 必须 第一 时间 入手 很 开心\",\"谢谢 非常 满意 一次 愉快 购物 体验 这 类 资料 只要 有 货 必须 第一 时间 入手 很 开心\",\"谢谢 非常 满意 一次 愉快 购物 体验 这 类 资料 只要 有 货 必须 第一 时间 入手 很 开心\",\"谢谢 非常 满意 一次 愉快 购物 体验 这 类 资料 只要 有 货 必须 第一 时间 入手 很 开心\",\"谢谢 非常 满意 一次 愉快 购物 体验 这 类 资料 只要 有 货 必须 第一 时间 入手 很 开心\",\"意外 收获 了 不少 创业 点子 很 惊喜 感谢 车 袁 老师\",\"谢谢 非常 满意 一次 愉快 购物 体验 这 类 资料 只要 有 货 必须 第一 时间 入手 很 开心\",\"谢谢 非常 满意 一次 愉快 购物 体验 这 类 资料 只要 有 货 必须 第一 时间 入手 很 开心\",\"谢谢 非常 满意 一次 愉快 购物 体验 这 类 资料 只要 有 货 必须 第一 时间 入手 很 开心\",\"谢谢 非常 满意 一次 愉快 购物 体验 这 类 资料 只要 有 货 必须 第一 时间 入手 很 开心\",\"谢谢 非常 满意 一次 愉快 购物 体验 这 类 资料 只要 有 货 必须 第一 时间 入手 很 开心\",\"谢谢 非常 满意 一次 愉快 购物 体验 这 类 资料 只要 有 货 必须 第一 时间 入手 很 开心\",\"意外 收获 了 不少 创业 点子 很 惊喜 感谢 车 袁 老师\",\"谢谢 非常 满意 一次 愉快 购物 体验 这 类 资料 只要 有 货 必须 第一 时间 入手 很 开心\",\"谢谢 非常 满意 一次 愉快 购物 体验 这 类 资料 只要 有 货 必须 第一 时间 入手 很 开心\",\"谢谢 非常 满意 一次 愉快 购物 体验 这 类 资料 只要 有 货 必须 第一 时间 入手 很 开心\",\"意外 收获 了 不少 创业 点子 很 惊喜 感谢 车 袁 老师\",\"谢谢 非常 满意 一次 愉快 购物 体验 这 类 资料 只要 有 货 必须 第一 时间 入手 很 开心\",\"谢谢 非常 满意 一次 愉快 购物 体验 这 类 资料 只要 有 货 必须 第一 时间 入手 很 开心\",\"意外 收获 了 不少 创业 点子 很 惊喜 感谢 车 袁 老师\",\"谢谢 非常 满意 一次 愉快 购物 体验 这 类 资料 只要 有 货 必须 第一 时间 入手 很 开心\",\"谢谢 非常 满意 一次 愉快 购物 体验 这 类 资料 只要 有 货 必须 第一 时间 入手 很 开心\",null],\"marker\":{\"opacity\":0.5,\"size\":5},\"mode\":\"markers+text\",\"name\":\"11___\",\"text\":[\"\",\"\",\"\",\"\",\"\",\"\",\"\",\"\",\"\",\"\",\"\",\"\",\"\",\"\",\"\",\"\",\"\",\"\",\"\",\"\",\"\",\"\",\"\",\"\",\"\",\"\",\"\",\"\",\"\",\"\",\"11___\"],\"textfont\":{\"size\":12},\"x\":[6.315795,6.2971296,6.2861123,6.328347,6.308913,6.2698092,6.1769886,6.2330313,6.3267317,6.2928047,6.293968,6.374696,6.266095,6.21094,6.3134575,6.303563,6.32429,6.2650747,6.290742,6.2938232,6.1493773,6.2237225,6.2796645,6.3159547,6.1829615,6.2843127,6.331884,6.20265,6.3032174,6.2679152,6.2771325],\"y\":[23.28325,23.2646,23.253595,23.2958,23.276442,23.237253,23.144484,23.200493,23.29423,23.260296,23.261448,23.342186,23.233555,23.178413,23.280945,23.271036,23.291714,23.232569,23.25822,23.261297,23.11685,23.191198,23.247137,23.283432,23.150482,23.2518,23.299358,23.17011,23.270689,23.235443,23.244612],\"type\":\"scattergl\"},{\"hoverinfo\":\"text\",\"hovertext\":[\"书本 纸质 特别 好 留白 很多 方便 做 笔记 知识点 详细 全面 配合 一些 视频 来 学习 就 更好 了\",\"这 本书 对 打下 神经网络 学习 基础 非常 有 帮助\",\"这 本书 对 打下 神经网络 学习 基础 非常 有 帮助\",\"这 本书 是 别人 推荐 买来 慢慢 学习\",\"这 本书 细节 很 好 很 适合 入门 人读 有 一定 基础 读 也 能 补漏 一些 没 注意 小 细节 好评\",\"内容 很 全面 可以 对 神经网络 有个 比较 全面 了解\",\"这 本书 是 别人 推荐 买来 慢慢 学习\",\"书本 纸质 特别 好 留白 很多 方便 做 笔记 知识点 详细 全面 配合 一些 视频 来 学习 就 更好 了\",\"这 本书 对 打下 神经网络 学习 基础 非常 有 帮助\",\"这 本书 是 别人 推荐 买来 慢慢 学习\",\"内容 很 全面 可以 对 神经网络 有个 比较 全面 了解\",\"这 本书 细节 很 好 很 适合 入门 人读 有 一定 基础 读 也 能 补漏 一些 没 注意 小 细节 好评\",\"这 本书 讲 特别 实用 简明 易懂 深度 学习 值得 推荐 好 教材\",\"这 本书 讲 特别 实用 简明 易懂 深度 学习 值得 推荐 好 教材\",\"内容 很 全面 可以 对 神经网络 有个 比较 全面 了解\",\"书本 纸质 特别 好 留白 很多 方便 做 笔记 知识点 详细 全面 配合 一些 视频 来 学习 就 更好 了\",\"这 本书 对 打下 神经网络 学习 基础 非常 有 帮助\",\"这 本书 讲 特别 实用 简明 易懂 深度 学习 值得 推荐 好 教材\",\"这 本书 是 别人 推荐 买来 慢慢 学习\",\"这 本书 细节 很 好 很 适合 入门 人读 有 一定 基础 读 也 能 补漏 一些 没 注意 小 细节 好评\",\"这 本书 讲 特别 实用 简明 易懂 深度 学习 值得 推荐 好 教材\",\"这 本书 讲 特别 实用 简明 易懂 深度 学习 值得 推荐 好 教材\",\"这 本书 是 别人 推荐 买来 慢慢 学习\",\"内容 很 全面 可以 对 神经网络 有个 比较 全面 了解\",\"书本 纸质 特别 好 留白 很多 方便 做 笔记 知识点 详细 全面 配合 一些 视频 来 学习 就 更好 了\",\"这 本书 细节 很 好 很 适合 入门 人读 有 一定 基础 读 也 能 补漏 一些 没 注意 小 细节 好评\",\"这 本书 对 打下 神经网络 学习 基础 非常 有 帮助\",\"内容 很 全面 可以 对 神经网络 有个 比较 全面 了解\",\"书本 纸质 特别 好 留白 很多 方便 做 笔记 知识点 详细 全面 配合 一些 视频 来 学习 就 更好 了\",\"这 本书 细节 很 好 很 适合 入门 人读 有 一定 基础 读 也 能 补漏 一些 没 注意 小 细节 好评\",null],\"marker\":{\"opacity\":0.5,\"size\":5},\"mode\":\"markers+text\",\"name\":\"12___\",\"text\":[\"\",\"\",\"\",\"\",\"\",\"\",\"\",\"\",\"\",\"\",\"\",\"\",\"\",\"\",\"\",\"\",\"\",\"\",\"\",\"\",\"\",\"\",\"\",\"\",\"\",\"\",\"\",\"\",\"\",\"\",\"12___\"],\"textfont\":{\"size\":12},\"x\":[0.7687433,0.8623003,0.84025943,0.69023055,0.7538242,0.8651893,0.69318527,0.6842525,0.8409363,0.7013217,0.8480045,0.73478085,0.712089,0.78931123,0.8784079,0.71994555,0.8117904,0.77997726,0.6929314,0.7261197,0.7261008,0.7288743,0.7089519,0.84917724,0.7502834,0.72648627,0.86929137,0.85073614,0.74552625,0.74245065,0.76971596],\"y\":[-15.111174,-15.018574,-15.040474,-15.189413,-15.125738,-15.015784,-15.186468,-15.195638,-15.039835,-15.178365,-15.032886,-15.145069,-15.16777,-15.090978,-15.002628,-15.159904,-15.0689125,-15.100139,-15.1867485,-15.15363,-15.153773,-15.150979,-15.170766,-15.0316725,-15.129696,-15.153295,-15.011635,-15.030143,-15.134304,-15.137403,-15.110458],\"type\":\"scattergl\"},{\"hoverinfo\":\"text\",\"hovertext\":[\"给 产品 经理 讲 技术 是 我 无视 不多 买 书 纸张 印刷 清晰 里面 内容 翔实 就是 感觉 值得 拥有 里面 内容 解答 了 我 很多 学习 工作 中 困惑\",\"给 产品 经理 讲 技术 是 我 无视 不多 买 书 纸张 印刷 清晰 里面 内容 翔实 就是 感觉 值得 拥有 里面 内容 解答 了 我 很多 学习 工作 中 困惑\",\"双十 一 期间 物流 也 很快 一天 就 到货 了 物流 方面 很快 就 发货 了 没多久 就 收到 书 质量 方面 纸张 还 可以 印刷 字体 清晰 暂时 没有 什么 问题 包装 是 用 一个 箱子 装 再说 东西 跟 描述 一样 可以 看 一下 图片 很 好 价格 也 还好 终于 收到 我 需要 宝贝 了 东西 很 好 说 实在 这是 购物 来 让 我 最 满意 一次 购物 无论是 掌柜的 态度 还是 对 物品 我 都 非常 满意 掌柜 态度 很 专业 热情 有问必答 回复 也 很快 我 问 了 不少 问题 他 都 不 觉得 烦 都 会 认真 回答 我 这点 我 向 掌柜 表示 由衷 敬意 这样 好 掌柜 可不 多 再说 宝贝 正是 我 需要 收到 时候 包装 完整 打开 后 让 我 惊喜 是 宝贝 比 我 想象 中 还要 好 不得不 得 竖起 大拇指 下次 需要 时候 我 还 会 再 来 到时候 麻烦 掌柜 给 个 优惠 哦\",\"买 了 很多 东西 ensp 都 非常 满意 ensp 很 好 卖家 ensp 我会 常来 ensp 现在 满减 活动 非常 实惠 不错 ensp 质量 很 不错 ensp 现在 看 合适 内容 也 很 好 卖家 描述 图片 和 实物 基本上 没有 什么 差异 物流 公司 态度 比较 想象 中要 快太多 早上 下单  没想到 第二天 下午 就 收到 快递 小 哥哥 电话 了 以后 还 需 继续 关注 店长 人 还 不错 好评 ensp 好评\",\"双十 一 期间 物流 也 很快 一天 就 到货 了 物流 方面 很快 就 发货 了 没多久 就 收到 书 质量 方面 纸张 还 可以 印刷 字体 清晰 暂时 没有 什么 问题 包装 是 用 一个 箱子 装 再说 东西 跟 描述 一样 可以 看 一下 图片 很 好 价格 也 还好 终于 收到 我 需要 宝贝 了 东西 很 好 说 实在 这是 购物 来 让 我 最 满意 一次 购物 无论是 掌柜的 态度 还是 对 物品 我 都 非常 满意 掌柜 态度 很 专业 热情 有问必答 回复 也 很快 我 问 了 不少 问题 他 都 不 觉得 烦 都 会 认真 回答 我 这点 我 向 掌柜 表示 由衷 敬意 这样 好 掌柜 可不 多 再说 宝贝 正是 我 需要 收到 时候 包装 完整 打开 后 让 我 惊喜 是 宝贝 比 我 想象 中 还要 好 不得不 得 竖起 大拇指 下次 需要 时候 我 还 会 再 来 到时候 麻烦 掌柜 给 个 优惠 哦\",\"双十 一 期间 物流 也 很快 一天 就 到货 了 物流 方面 很快 就 发货 了 没多久 就 收到 书 质量 方面 纸张 还 可以 印刷 字体 清晰 暂时 没有 什么 问题 包装 是 用 一个 箱子 装 再说 东西 跟 描述 一样 可以 看 一下 图片 很 好 价格 也 还好 终于 收到 我 需要 宝贝 了 东西 很 好 说 实在 这是 购物 来 让 我 最 满意 一次 购物 无论是 掌柜的 态度 还是 对 物品 我 都 非常 满意 掌柜 态度 很 专业 热情 有问必答 回复 也 很快 我 问 了 不少 问题 他 都 不 觉得 烦 都 会 认真 回答 我 这点 我 向 掌柜 表示 由衷 敬意 这样 好 掌柜 可不 多 再说 宝贝 正是 我 需要 收到 时候 包装 完整 打开 后 让 我 惊喜 是 宝贝 比 我 想象 中 还要 好 不得不 得 竖起 大拇指 下次 需要 时候 我 还 会 再 来 到时候 麻烦 掌柜 给 个 优惠 哦\",\"双十 一 期间 物流 也 很快 一天 就 到货 了 物流 方面 很快 就 发货 了 没多久 就 收到 书 质量 方面 纸张 还 可以 印刷 字体 清晰 暂时 没有 什么 问题 包装 是 用 一个 箱子 装 再说 东西 跟 描述 一样 可以 看 一下 图片 很 好 价格 也 还好 终于 收到 我 需要 宝贝 了 东西 很 好 说 实在 这是 购物 来 让 我 最 满意 一次 购物 无论是 掌柜的 态度 还是 对 物品 我 都 非常 满意 掌柜 态度 很 专业 热情 有问必答 回复 也 很快 我 问 了 不少 问题 他 都 不 觉得 烦 都 会 认真 回答 我 这点 我 向 掌柜 表示 由衷 敬意 这样 好 掌柜 可不 多 再说 宝贝 正是 我 需要 收到 时候 包装 完整 打开 后 让 我 惊喜 是 宝贝 比 我 想象 中 还要 好 不得不 得 竖起 大拇指 下次 需要 时候 我 还 会 再 来 到时候 麻烦 掌柜 给 个 优惠 哦\",\"双十 一 期间 物流 也 很快 一天 就 到货 了 物流 方面 很快 就 发货 了 没多久 就 收到 书 质量 方面 纸张 还 可以 印刷 字体 清晰 暂时 没有 什么 问题 包装 是 用 一个 箱子 装 再说 东西 跟 描述 一样 可以 看 一下 图片 很 好 价格 也 还好 终于 收到 我 需要 宝贝 了 东西 很 好 说 实在 这是 购物 来 让 我 最 满意 一次 购物 无论是 掌柜的 态度 还是 对 物品 我 都 非常 满意 掌柜 态度 很 专业 热情 有问必答 回复 也 很快 我 问 了 不少 问题 他 都 不 觉得 烦 都 会 认真 回答 我 这点 我 向 掌柜 表示 由衷 敬意 这样 好 掌柜 可不 多 再说 宝贝 正是 我 需要 收到 时候 包装 完整 打开 后 让 我 惊喜 是 宝贝 比 我 想象 中 还要 好 不得不 得 竖起 大拇指 下次 需要 时候 我 还 会 再 来 到时候 麻烦 掌柜 给 个 优惠 哦\",\"给 产品 经理 讲 技术 是 我 无视 不多 买 书 纸张 印刷 清晰 里面 内容 翔实 就是 感觉 值得 拥有 里面 内容 解答 了 我 很多 学习 工作 中 困惑\",\"质量 很 好 手感 不错 昨天 拍 今天 就 收到 了 神速 啊 我 自己 先 看起来 再 给 孩子 看 质量 很 好 手感 不错 昨天 拍 今天 就 收到 了 神速 啊 我 自己 先 看起来 再 给 孩子 看 质量 很 好 手感 不错 昨天 拍 今天 就 收到 了 神速 啊 我 自己 先 看起来 再 给 孩子 看 质量 很 好 手感 不错 昨天 拍 今天 就 收到 了 神速 啊 我 自己 先 看起来 再 给 孩子 看\",\"双十 一 期间 物流 也 很快 一天 就 到货 了 物流 方面 很快 就 发货 了 没多久 就 收到 书 质量 方面 纸张 还 可以 印刷 字体 清晰 暂时 没有 什么 问题 包装 是 用 一个 箱子 装 再说 东西 跟 描述 一样 可以 看 一下 图片 很 好 价格 也 还好 终于 收到 我 需要 宝贝 了 东西 很 好 说 实在 这是 购物 来 让 我 最 满意 一次 购物 无论是 掌柜的 态度 还是 对 物品 我 都 非常 满意 掌柜 态度 很 专业 热情 有问必答 回复 也 很快 我 问 了 不少 问题 他 都 不 觉得 烦 都 会 认真 回答 我 这点 我 向 掌柜 表示 由衷 敬意 这样 好 掌柜 可不 多 再说 宝贝 正是 我 需要 收到 时候 包装 完整 打开 后 让 我 惊喜 是 宝贝 比 我 想象 中 还要 好 不得不 得 竖起 大拇指 下次 需要 时候 我 还 会 再 来 到时候 麻烦 掌柜 给 个 优惠 哦\",\"给 产品 经理 讲 技术 是 我 无视 不多 买 书 纸张 印刷 清晰 里面 内容 翔实 就是 感觉 值得 拥有 里面 内容 解答 了 我 很多 学习 工作 中 困惑\",\"买 了 很多 东西 ensp 都 非常 满意 ensp 很 好 卖家 ensp 我会 常来 ensp 现在 满减 活动 非常 实惠 不错 ensp 质量 很 不错 ensp 现在 看 合适 内容 也 很 好 卖家 描述 图片 和 实物 基本上 没有 什么 差异 物流 公司 态度 比较 想象 中要 快太多 早上 下单  没想到 第二天 下午 就 收到 快递 小 哥哥 电话 了 以后 还 需 继续 关注 店长 人 还 不错 好评 ensp 好评\",\"质量 很 好 手感 不错 昨天 拍 今天 就 收到 了 神速 啊 我 自己 先 看起来 再 给 孩子 看 质量 很 好 手感 不错 昨天 拍 今天 就 收到 了 神速 啊 我 自己 先 看起来 再 给 孩子 看 质量 很 好 手感 不错 昨天 拍 今天 就 收到 了 神速 啊 我 自己 先 看起来 再 给 孩子 看 质量 很 好 手感 不错 昨天 拍 今天 就 收到 了 神速 啊 我 自己 先 看起来 再 给 孩子 看\",\"双十 一 期间 物流 也 很快 一天 就 到货 了 物流 方面 很快 就 发货 了 没多久 就 收到 书 质量 方面 纸张 还 可以 印刷 字体 清晰 暂时 没有 什么 问题 包装 是 用 一个 箱子 装 再说 东西 跟 描述 一样 可以 看 一下 图片 很 好 价格 也 还好 终于 收到 我 需要 宝贝 了 东西 很 好 说 实在 这是 购物 来 让 我 最 满意 一次 购物 无论是 掌柜的 态度 还是 对 物品 我 都 非常 满意 掌柜 态度 很 专业 热情 有问必答 回复 也 很快 我 问 了 不少 问题 他 都 不 觉得 烦 都 会 认真 回答 我 这点 我 向 掌柜 表示 由衷 敬意 这样 好 掌柜 可不 多 再说 宝贝 正是 我 需要 收到 时候 包装 完整 打开 后 让 我 惊喜 是 宝贝 比 我 想象 中 还要 好 不得不 得 竖起 大拇指 下次 需要 时候 我 还 会 再 来 到时候 麻烦 掌柜 给 个 优惠 哦\",\"买 了 很多 东西 ensp 都 非常 满意 ensp 很 好 卖家 ensp 我会 常来 ensp 现在 满减 活动 非常 实惠 不错 ensp 质量 很 不错 ensp 现在 看 合适 内容 也 很 好 卖家 描述 图片 和 实物 基本上 没有 什么 差异 物流 公司 态度 比较 想象 中要 快太多 早上 下单  没想到 第二天 下午 就 收到 快递 小 哥哥 电话 了 以后 还 需 继续 关注 店长 人 还 不错 好评 ensp 好评\",\"买 了 很多 东西 ensp 都 非常 满意 ensp 很 好 卖家 ensp 我会 常来 ensp 现在 满减 活动 非常 实惠 不错 ensp 质量 很 不错 ensp 现在 看 合适 内容 也 很 好 卖家 描述 图片 和 实物 基本上 没有 什么 差异 物流 公司 态度 比较 想象 中要 快太多 早上 下单  没想到 第二天 下午 就 收到 快递 小 哥哥 电话 了 以后 还 需 继续 关注 店长 人 还 不错 好评 ensp 好评\",\"质量 很 好 手感 不错 昨天 拍 今天 就 收到 了 神速 啊 我 自己 先 看起来 再 给 孩子 看 质量 很 好 手感 不错 昨天 拍 今天 就 收到 了 神速 啊 我 自己 先 看起来 再 给 孩子 看 质量 很 好 手感 不错 昨天 拍 今天 就 收到 了 神速 啊 我 自己 先 看起来 再 给 孩子 看 质量 很 好 手感 不错 昨天 拍 今天 就 收到 了 神速 啊 我 自己 先 看起来 再 给 孩子 看\",\"纸张 质量 不错 东西 好 便宜 质量 出乎意料 好 下次 还会来 ~ 有 新货 了 记得 通知 我 好 卖家 会 继续 关注\",\"纸张 质量 不错 东西 好 便宜 质量 出乎意料 好 下次 还会来 ~ 有 新货 了 记得 通知 我 好 卖家 会 继续 关注\",\"质量 很 好 手感 不错 昨天 拍 今天 就 收到 了 神速 啊 我 自己 先 看起来 再 给 孩子 看 质量 很 好 手感 不错 昨天 拍 今天 就 收到 了 神速 啊 我 自己 先 看起来 再 给 孩子 看 质量 很 好 手感 不错 昨天 拍 今天 就 收到 了 神速 啊 我 自己 先 看起来 再 给 孩子 看 质量 很 好 手感 不错 昨天 拍 今天 就 收到 了 神速 啊 我 自己 先 看起来 再 给 孩子 看\",\"纸张 质量 不错 东西 好 便宜 质量 出乎意料 好 下次 还会来 ~ 有 新货 了 记得 通知 我 好 卖家 会 继续 关注\",\"给 产品 经理 讲 技术 是 我 无视 不多 买 书 纸张 印刷 清晰 里面 内容 翔实 就是 感觉 值得 拥有 里面 内容 解答 了 我 很多 学习 工作 中 困惑\",\"纸张 质量 不错 东西 好 便宜 质量 出乎意料 好 下次 还会来 ~ 有 新货 了 记得 通知 我 好 卖家 会 继续 关注\",\"买 了 很多 东西 ensp 都 非常 满意 ensp 很 好 卖家 ensp 我会 常来 ensp 现在 满减 活动 非常 实惠 不错 ensp 质量 很 不错 ensp 现在 看 合适 内容 也 很 好 卖家 描述 图片 和 实物 基本上 没有 什么 差异 物流 公司 态度 比较 想象 中要 快太多 早上 下单  没想到 第二天 下午 就 收到 快递 小 哥哥 电话 了 以后 还 需 继续 关注 店长 人 还 不错 好评 ensp 好评\",\"质量 很 好 手感 不错 昨天 拍 今天 就 收到 了 神速 啊 我 自己 先 看起来 再 给 孩子 看 质量 很 好 手感 不错 昨天 拍 今天 就 收到 了 神速 啊 我 自己 先 看起来 再 给 孩子 看 质量 很 好 手感 不错 昨天 拍 今天 就 收到 了 神速 啊 我 自己 先 看起来 再 给 孩子 看 质量 很 好 手感 不错 昨天 拍 今天 就 收到 了 神速 啊 我 自己 先 看起来 再 给 孩子 看\",\"纸张 质量 不错 东西 好 便宜 质量 出乎意料 好 下次 还会来 ~ 有 新货 了 记得 通知 我 好 卖家 会 继续 关注\",\"双十 一 期间 物流 也 很快 一天 就 到货 了 物流 方面 很快 就 发货 了 没多久 就 收到 书 质量 方面 纸张 还 可以 印刷 字体 清晰 暂时 没有 什么 问题 包装 是 用 一个 箱子 装 再说 东西 跟 描述 一样 可以 看 一下 图片 很 好 价格 也 还好 终于 收到 我 需要 宝贝 了 东西 很 好 说 实在 这是 购物 来 让 我 最 满意 一次 购物 无论是 掌柜的 态度 还是 对 物品 我 都 非常 满意 掌柜 态度 很 专业 热情 有问必答 回复 也 很快 我 问 了 不少 问题 他 都 不 觉得 烦 都 会 认真 回答 我 这点 我 向 掌柜 表示 由衷 敬意 这样 好 掌柜 可不 多 再说 宝贝 正是 我 需要 收到 时候 包装 完整 打开 后 让 我 惊喜 是 宝贝 比 我 想象 中 还要 好 不得不 得 竖起 大拇指 下次 需要 时候 我 还 会 再 来 到时候 麻烦 掌柜 给 个 优惠 哦\",\"双十 一 期间 物流 也 很快 一天 就 到货 了 物流 方面 很快 就 发货 了 没多久 就 收到 书 质量 方面 纸张 还 可以 印刷 字体 清晰 暂时 没有 什么 问题 包装 是 用 一个 箱子 装 再说 东西 跟 描述 一样 可以 看 一下 图片 很 好 价格 也 还好 终于 收到 我 需要 宝贝 了 东西 很 好 说 实在 这是 购物 来 让 我 最 满意 一次 购物 无论是 掌柜的 态度 还是 对 物品 我 都 非常 满意 掌柜 态度 很 专业 热情 有问必答 回复 也 很快 我 问 了 不少 问题 他 都 不 觉得 烦 都 会 认真 回答 我 这点 我 向 掌柜 表示 由衷 敬意 这样 好 掌柜 可不 多 再说 宝贝 正是 我 需要 收到 时候 包装 完整 打开 后 让 我 惊喜 是 宝贝 比 我 想象 中 还要 好 不得不 得 竖起 大拇指 下次 需要 时候 我 还 会 再 来 到时候 麻烦 掌柜 给 个 优惠 哦\",null],\"marker\":{\"opacity\":0.5,\"size\":5},\"mode\":\"markers+text\",\"name\":\"13_ensp__\",\"text\":[\"\",\"\",\"\",\"\",\"\",\"\",\"\",\"\",\"\",\"\",\"\",\"\",\"\",\"\",\"\",\"\",\"\",\"\",\"\",\"\",\"\",\"\",\"\",\"\",\"\",\"\",\"\",\"\",\"\",\"13_ensp__\"],\"textfont\":{\"size\":12},\"x\":[-1.9786239,-1.9861051,-2.077089,-2.17994,-2.0386617,-2.0272615,-2.043796,-2.0039182,-1.9748393,-2.2372303,-2.1040564,-1.9854302,-2.1970415,-2.200904,-2.0119147,-2.231452,-2.1904857,-2.2112174,-2.0054543,-1.9440302,-2.237015,-1.9764314,-2.016613,-2.0237267,-2.175463,-2.200359,-2.0471933,-2.0535257,-2.0411777,-2.0827918],\"y\":[26.218626,26.211185,26.120056,26.017008,26.158321,26.169891,26.153322,26.19314,26.222458,25.95965,26.092962,26.212784,25.999989,25.996017,26.185242,25.968557,26.00641,25.985708,26.191391,26.253834,25.959852,26.220768,26.180525,26.173264,26.021511,25.99667,26.14983,26.143644,26.155905,26.11443],\"type\":\"scattergl\"},{\"hoverinfo\":\"text\",\"hovertext\":[\"次性 买 了 十几 本书 速度 很快 物流 很快 打开 看看 书 包装 很 好 都 有 塑料膜 封装 正版 无疑 虽然 价格 不 便宜 但是 一定 支持 正版 十几本 不是 自己 看 自己 也 看 不了 是 好多 人一 起买 因为 时间 关系 也 没 赶 上 活动 感谢 京东\",\"次性 买 了 十几 本书 速度 很快 物流 很快 打开 看看 书 包装 很 好 都 有 塑料膜 封装 正版 无疑 虽然 价格 不 便宜 但是 一定 支持 正版 十几本 不是 自己 看 自己 也 看 不了 是 好多 人一 起买 因为 时间 关系 也 没 赶 上 活动 感谢 京东\",\"应该 是 正品 书 质量 和 出版社 都 是 和文 轩 书店 一样 而且 在 内容 安排 和 页数 上 也 是 对 内容 也 没有 删减 京东 现在 买书 都 很 方便 而且 性价比 也 很 高\",\"次性 买 了 十几 本书 速度 很快 物流 很快 打开 看看 书 包装 很 好 都 有 塑料膜 封装 正版 无疑 虽然 价格 不 便宜 但是 一定 支持 正版 十几本 不是 自己 看 自己 也 看 不了 是 好多 人一 起买 因为 时间 关系 也 没 赶 上 活动 感谢 京东\",\"发货 速度 很快 毕竟 自营 但是 快递 包装 很破 是 用 3 个 纸板 拼出来  有无 塑封 有 每 本书 单独 有 塑封  印刷 质量 没有 问题  纸张 质量 没有 问题  内容 影印版 需要 有 英语 基础\",\"应该 是 正品 书 质量 和 出版社 都 是 和文 轩 书店 一样 而且 在 内容 安排 和 页数 上 也 是 对 内容 也 没有 删减 京东 现在 买书 都 很 方便 而且 性价比 也 很 高\",\"纸质 不太好 其他 还好 吧 hellip hellip 反正 这书 怎么 看 排版 和 印刷 都 有点 随意 hellip hellip 至于 内容 看过 之后 再 来 评价 吧 hellip hellip 京东 快递 很 给 力 小哥 服务 很 好 很快 非常 好 在 京东 买 东西 现在 并 不是 图 便宜 而是 图 快捷 安全 方便 现在 正版书 出版 怎么 越来越 接近 盗版 了 呢\",\"纸质 不太好 其他 还好 吧 hellip hellip 反正 这书 怎么 看 排版 和 印刷 都 有点 随意 hellip hellip 至于 内容 看过 之后 再 来 评价 吧 hellip hellip 京东 快递 很 给 力 小哥 服务 很 好 很快 非常 好 在 京东 买 东西 现在 并 不是 图 便宜 而是 图 快捷 安全 方便 现在 正版书 出版 怎么 越来越 接近 盗版 了 呢\",\"次性 买 了 十几 本书 速度 很快 物流 很快 打开 看看 书 包装 很 好 都 有 塑料膜 封装 正版 无疑 虽然 价格 不 便宜 但是 一定 支持 正版 十几本 不是 自己 看 自己 也 看 不了 是 好多 人一 起买 因为 时间 关系 也 没 赶 上 活动 感谢 京东\",\"纸质 不太好 其他 还好 吧 hellip hellip 反正 这书 怎么 看 排版 和 印刷 都 有点 随意 hellip hellip 至于 内容 看过 之后 再 来 评价 吧 hellip hellip 京东 快递 很 给 力 小哥 服务 很 好 很快 非常 好 在 京东 买 东西 现在 并 不是 图 便宜 而是 图 快捷 安全 方便 现在 正版书 出版 怎么 越来越 接近 盗版 了 呢\",\"发货 速度 很快 毕竟 自营 但是 快递 包装 很破 是 用 3 个 纸板 拼出来  有无 塑封 有 每 本书 单独 有 塑封  印刷 质量 没有 问题  纸张 质量 没有 问题  内容 影印版 需要 有 英语 基础\",\"次性 买 了 十几 本书 速度 很快 物流 很快 打开 看看 书 包装 很 好 都 有 塑料膜 封装 正版 无疑 虽然 价格 不 便宜 但是 一定 支持 正版 十几本 不是 自己 看 自己 也 看 不了 是 好多 人一 起买 因为 时间 关系 也 没 赶 上 活动 感谢 京东\",\"纸质 不太好 其他 还好 吧 hellip hellip 反正 这书 怎么 看 排版 和 印刷 都 有点 随意 hellip hellip 至于 内容 看过 之后 再 来 评价 吧 hellip hellip 京东 快递 很 给 力 小哥 服务 很 好 很快 非常 好 在 京东 买 东西 现在 并 不是 图 便宜 而是 图 快捷 安全 方便 现在 正版书 出版 怎么 越来越 接近 盗版 了 呢\",\"次性 买 了 十几 本书 速度 很快 物流 很快 打开 看看 书 包装 很 好 都 有 塑料膜 封装 正版 无疑 虽然 价格 不 便宜 但是 一定 支持 正版 十几本 不是 自己 看 自己 也 看 不了 是 好多 人一 起买 因为 时间 关系 也 没 赶 上 活动 感谢 京东\",\"次性 买 了 十几 本书 速度 很快 物流 很快 打开 看看 书 包装 很 好 都 有 塑料膜 封装 正版 无疑 虽然 价格 不 便宜 但是 一定 支持 正版 十几本 不是 自己 看 自己 也 看 不了 是 好多 人一 起买 因为 时间 关系 也 没 赶 上 活动 感谢 京东\",\"次性 买 了 十几 本书 速度 很快 物流 很快 打开 看看 书 包装 很 好 都 有 塑料膜 封装 正版 无疑 虽然 价格 不 便宜 但是 一定 支持 正版 十几本 不是 自己 看 自己 也 看 不了 是 好多 人一 起买 因为 时间 关系 也 没 赶 上 活动 感谢 京东\",\"次性 买 了 十几 本书 速度 很快 物流 很快 打开 看看 书 包装 很 好 都 有 塑料膜 封装 正版 无疑 虽然 价格 不 便宜 但是 一定 支持 正版 十几本 不是 自己 看 自己 也 看 不了 是 好多 人一 起买 因为 时间 关系 也 没 赶 上 活动 感谢 京东\",\"次性 买 了 十几 本书 速度 很快 物流 很快 打开 看看 书 包装 很 好 都 有 塑料膜 封装 正版 无疑 虽然 价格 不 便宜 但是 一定 支持 正版 十几本 不是 自己 看 自己 也 看 不了 是 好多 人一 起买 因为 时间 关系 也 没 赶 上 活动 感谢 京东\",\"次性 买 了 十几 本书 速度 很快 物流 很快 打开 看看 书 包装 很 好 都 有 塑料膜 封装 正版 无疑 虽然 价格 不 便宜 但是 一定 支持 正版 十几本 不是 自己 看 自己 也 看 不了 是 好多 人一 起买 因为 时间 关系 也 没 赶 上 活动 感谢 京东\",\"次性 买 了 十几 本书 速度 很快 物流 很快 打开 看看 书 包装 很 好 都 有 塑料膜 封装 正版 无疑 虽然 价格 不 便宜 但是 一定 支持 正版 十几本 不是 自己 看 自己 也 看 不了 是 好多 人一 起买 因为 时间 关系 也 没 赶 上 活动 感谢 京东\",\"发货 速度 很快 毕竟 自营 但是 快递 包装 很破 是 用 3 个 纸板 拼出来  有无 塑封 有 每 本书 单独 有 塑封  印刷 质量 没有 问题  纸张 质量 没有 问题  内容 影印版 需要 有 英语 基础\",\"次性 买 了 十几 本书 速度 很快 物流 很快 打开 看看 书 包装 很 好 都 有 塑料膜 封装 正版 无疑 虽然 价格 不 便宜 但是 一定 支持 正版 十几本 不是 自己 看 自己 也 看 不了 是 好多 人一 起买 因为 时间 关系 也 没 赶 上 活动 感谢 京东\",\"纸质 不太好 其他 还好 吧 hellip hellip 反正 这书 怎么 看 排版 和 印刷 都 有点 随意 hellip hellip 至于 内容 看过 之后 再 来 评价 吧 hellip hellip 京东 快递 很 给 力 小哥 服务 很 好 很快 非常 好 在 京东 买 东西 现在 并 不是 图 便宜 而是 图 快捷 安全 方便 现在 正版书 出版 怎么 越来越 接近 盗版 了 呢\",\"发货 速度 很快 毕竟 自营 但是 快递 包装 很破 是 用 3 个 纸板 拼出来  有无 塑封 有 每 本书 单独 有 塑封  印刷 质量 没有 问题  纸张 质量 没有 问题  内容 影印版 需要 有 英语 基础\",\"次性 买 了 十几 本书 速度 很快 物流 很快 打开 看看 书 包装 很 好 都 有 塑料膜 封装 正版 无疑 虽然 价格 不 便宜 但是 一定 支持 正版 十几本 不是 自己 看 自己 也 看 不了 是 好多 人一 起买 因为 时间 关系 也 没 赶 上 活动 感谢 京东\",\"次性 买 了 十几 本书 速度 很快 物流 很快 打开 看看 书 包装 很 好 都 有 塑料膜 封装 正版 无疑 虽然 价格 不 便宜 但是 一定 支持 正版 十几本 不是 自己 看 自己 也 看 不了 是 好多 人一 起买 因为 时间 关系 也 没 赶 上 活动 感谢 京东\",\"发货 速度 很快 毕竟 自营 但是 快递 包装 很破 是 用 3 个 纸板 拼出来  有无 塑封 有 每 本书 单独 有 塑封  印刷 质量 没有 问题  纸张 质量 没有 问题  内容 影印版 需要 有 英语 基础\",null],\"marker\":{\"opacity\":0.5,\"size\":5},\"mode\":\"markers+text\",\"name\":\"14_hellip__\",\"text\":[\"\",\"\",\"\",\"\",\"\",\"\",\"\",\"\",\"\",\"\",\"\",\"\",\"\",\"\",\"\",\"\",\"\",\"\",\"\",\"\",\"\",\"\",\"\",\"\",\"\",\"\",\"\",\"14_hellip__\"],\"textfont\":{\"size\":12},\"x\":[-13.197696,-13.316922,-13.099076,-13.274216,-13.367707,-13.106078,-13.129827,-13.137163,-13.254957,-13.131467,-13.349444,-13.2829895,-13.138703,-13.306498,-13.235948,-13.231055,-13.29904,-13.241599,-13.229089,-13.323299,-13.318755,-13.275734,-13.15039,-13.337619,-13.272745,-13.306673,-13.332544,-13.246193],\"y\":[11.63588,11.755318,11.536764,11.712529,11.806261,11.543881,11.567604,11.57507,11.693199,11.569189,11.78817,11.721455,11.576579,11.744863,11.674088,11.669078,11.737476,11.679697,11.667092,11.761866,11.757225,11.714069,11.588281,11.77624,11.710594,11.745064,11.7711115,11.684396],\"type\":\"scattergl\"},{\"hoverinfo\":\"text\",\"hovertext\":[\"书 内容 真的 很 不错\",\"深度 学习 经典\",\"经典 图书 收获 非常 大\",\"深度 学习 经典\",\"非常 好 书 内容 很 丰富\",\"深度 学习 经典\",\"书 内容 真的 很 不错\",\"非常 好 书 内容 很 丰富\",\"书 内容 真的 很 不错\",\"非常 好 书 内容 很 丰富\",\"经典 好书 包装 精美 爱不释手\",\"经典 图书 收获 非常 大\",\"经典 图书 收获 非常 大\",\"非常 好 书 内容 很 丰富\",\"经典 图书 收获 非常 大\",\"经典 好书 包装 精美 爱不释手\",\"经典 好书 包装 精美 爱不释手\",\"深度 学习 经典\",\"非常 好 书 内容 很 丰富\",\"经典 好书 包装 精美 爱不释手\",\"经典 图书 收获 非常 大\",\"经典 好书 包装 精美 爱不释手\",\"书 内容 真的 很 不错\",\"深度 学习 经典\",\"书 内容 真的 很 不错\",null],\"marker\":{\"opacity\":0.5,\"size\":5},\"mode\":\"markers+text\",\"name\":\"15___\",\"text\":[\"\",\"\",\"\",\"\",\"\",\"\",\"\",\"\",\"\",\"\",\"\",\"\",\"\",\"\",\"\",\"\",\"\",\"\",\"\",\"\",\"\",\"\",\"\",\"\",\"\",\"15___\"],\"textfont\":{\"size\":12},\"x\":[6.279136,6.430951,6.3881397,6.400291,6.3112907,6.4198456,6.2803116,6.327327,6.2621703,6.2932434,6.392242,6.3945217,6.3694844,6.337869,6.39638,6.412008,6.394706,6.3930397,6.258643,6.401474,6.3944697,6.427644,6.280859,6.448273,6.284642,6.3591576],\"y\":[-20.344719,-20.192932,-20.235813,-20.223608,-20.312654,-20.204031,-20.343596,-20.296717,-20.36173,-20.33072,-20.231758,-20.229414,-20.25445,-20.286049,-20.227592,-20.211884,-20.229265,-20.23093,-20.365318,-20.222445,-20.22946,-20.196325,-20.343021,-20.175592,-20.33925,-20.264772],\"type\":\"scattergl\"},{\"hoverinfo\":\"text\",\"hovertext\":[\"西瓜 书 已经 在 看 了 一眼 正品 大吉大利 最近 吃瓜\",\"特别 好 一 本书 我 买 了 以后 当做 小说 读 吃饭 睡觉 前 连坐 上 厕所 都 爱不释手 作者 把 机器 学习 写 这么 生动活泼 真是 让 人 理解 起来 一点 都 不 费力 因为 读得 太 投入 连 做梦 都 能 到 自己 成 了 机器 学习 程序 猿 高手 了 很 好奇 作者 是 个 怎样 人 一定 是 个 很 幽默 风趣 高雅 攻城 狮 我 仔细 端详 了 作者 肖像画 感觉 似曾相识 画像 上 音容 样貌 就 跟 我们 身边 你 我 他 那样 真实 学习 完 这门书 我 觉得 我 去 面试 AI 公司 胸有成竹 了 祝 我 早日 拿到 理想 工作岗位\",\"自营 速度 没 说 昨晚 10 20 下单 今天 中午 到 这 本书 很 不错 是 我 一直 想 买 机器 学习 这块 本来 就 很 枯燥 看 西瓜 书太 痛苦 了 所以 看上 了 这 一本 书中 很多 插图 形象 直观 文字描述 也 很 有意思 读 起来 很 有 趣味 很 满意\",\"西瓜 书 已经 在 看 了 一眼 正品 大吉大利 最近 吃瓜\",\"自营 速度 没 说 昨晚 10 20 下单 今天 中午 到 这 本书 很 不错 是 我 一直 想 买 机器 学习 这块 本来 就 很 枯燥 看 西瓜 书太 痛苦 了 所以 看上 了 这 一本 书中 很多 插图 形象 直观 文字描述 也 很 有意思 读 起来 很 有 趣味 很 满意\",\"自营 速度 没 说 昨晚 10 20 下单 今天 中午 到 这 本书 很 不错 是 我 一直 想 买 机器 学习 这块 本来 就 很 枯燥 看 西瓜 书太 痛苦 了 所以 看上 了 这 一本 书中 很多 插图 形象 直观 文字描述 也 很 有意思 读 起来 很 有 趣味 很 满意\",\"特别 好 一 本书 我 买 了 以后 当做 小说 读 吃饭 睡觉 前 连坐 上 厕所 都 爱不释手 作者 把 机器 学习 写 这么 生动活泼 真是 让 人 理解 起来 一点 都 不 费力 因为 读得 太 投入 连 做梦 都 能 到 自己 成 了 机器 学习 程序 猿 高手 了 很 好奇 作者 是 个 怎样 人 一定 是 个 很 幽默 风趣 高雅 攻城 狮 我 仔细 端详 了 作者 肖像画 感觉 似曾相识 画像 上 音容 样貌 就 跟 我们 身边 你 我 他 那样 真实 学习 完 这门书 我 觉得 我 去 面试 AI 公司 胸有成竹 了 祝 我 早日 拿到 理想 工作岗位\",\"特别 好 一 本书 我 买 了 以后 当做 小说 读 吃饭 睡觉 前 连坐 上 厕所 都 爱不释手 作者 把 机器 学习 写 这么 生动活泼 真是 让 人 理解 起来 一点 都 不 费力 因为 读得 太 投入 连 做梦 都 能 到 自己 成 了 机器 学习 程序 猿 高手 了 很 好奇 作者 是 个 怎样 人 一定 是 个 很 幽默 风趣 高雅 攻城 狮 我 仔细 端详 了 作者 肖像画 感觉 似曾相识 画像 上 音容 样貌 就 跟 我们 身边 你 我 他 那样 真实 学习 完 这门书 我 觉得 我 去 面试 AI 公司 胸有成竹 了 祝 我 早日 拿到 理想 工作岗位\",\"自营 速度 没 说 昨晚 10 20 下单 今天 中午 到 这 本书 很 不错 是 我 一直 想 买 机器 学习 这块 本来 就 很 枯燥 看 西瓜 书太 痛苦 了 所以 看上 了 这 一本 书中 很多 插图 形象 直观 文字描述 也 很 有意思 读 起来 很 有 趣味 很 满意\",\"西瓜 书 已经 在 看 了 一眼 正品 大吉大利 最近 吃瓜\",\"西瓜 书 已经 在 看 了 一眼 正品 大吉大利 最近 吃瓜\",\"特别 好 一 本书 我 买 了 以后 当做 小说 读 吃饭 睡觉 前 连坐 上 厕所 都 爱不释手 作者 把 机器 学习 写 这么 生动活泼 真是 让 人 理解 起来 一点 都 不 费力 因为 读得 太 投入 连 做梦 都 能 到 自己 成 了 机器 学习 程序 猿 高手 了 很 好奇 作者 是 个 怎样 人 一定 是 个 很 幽默 风趣 高雅 攻城 狮 我 仔细 端详 了 作者 肖像画 感觉 似曾相识 画像 上 音容 样貌 就 跟 我们 身边 你 我 他 那样 真实 学习 完 这门书 我 觉得 我 去 面试 AI 公司 胸有成竹 了 祝 我 早日 拿到 理想 工作岗位\",\"特别 好 一 本书 我 买 了 以后 当做 小说 读 吃饭 睡觉 前 连坐 上 厕所 都 爱不释手 作者 把 机器 学习 写 这么 生动活泼 真是 让 人 理解 起来 一点 都 不 费力 因为 读得 太 投入 连 做梦 都 能 到 自己 成 了 机器 学习 程序 猿 高手 了 很 好奇 作者 是 个 怎样 人 一定 是 个 很 幽默 风趣 高雅 攻城 狮 我 仔细 端详 了 作者 肖像画 感觉 似曾相识 画像 上 音容 样貌 就 跟 我们 身边 你 我 他 那样 真实 学习 完 这门书 我 觉得 我 去 面试 AI 公司 胸有成竹 了 祝 我 早日 拿到 理想 工作岗位\",\"自营 速度 没 说 昨晚 10 20 下单 今天 中午 到 这 本书 很 不错 是 我 一直 想 买 机器 学习 这块 本来 就 很 枯燥 看 西瓜 书太 痛苦 了 所以 看上 了 这 一本 书中 很多 插图 形象 直观 文字描述 也 很 有意思 读 起来 很 有 趣味 很 满意\",\"特别 好 一 本书 我 买 了 以后 当做 小说 读 吃饭 睡觉 前 连坐 上 厕所 都 爱不释手 作者 把 机器 学习 写 这么 生动活泼 真是 让 人 理解 起来 一点 都 不 费力 因为 读得 太 投入 连 做梦 都 能 到 自己 成 了 机器 学习 程序 猿 高手 了 很 好奇 作者 是 个 怎样 人 一定 是 个 很 幽默 风趣 高雅 攻城 狮 我 仔细 端详 了 作者 肖像画 感觉 似曾相识 画像 上 音容 样貌 就 跟 我们 身边 你 我 他 那样 真实 学习 完 这门书 我 觉得 我 去 面试 AI 公司 胸有成竹 了 祝 我 早日 拿到 理想 工作岗位\",\"西瓜 书 已经 在 看 了 一眼 正品 大吉大利 最近 吃瓜\",\"西瓜 书 已经 在 看 了 一眼 正品 大吉大利 最近 吃瓜\",\"西瓜 书 已经 在 看 了 一眼 正品 大吉大利 最近 吃瓜\",\"西瓜 书 已经 在 看 了 一眼 正品 大吉大利 最近 吃瓜\",\"特别 好 一 本书 我 买 了 以后 当做 小说 读 吃饭 睡觉 前 连坐 上 厕所 都 爱不释手 作者 把 机器 学习 写 这么 生动活泼 真是 让 人 理解 起来 一点 都 不 费力 因为 读得 太 投入 连 做梦 都 能 到 自己 成 了 机器 学习 程序 猿 高手 了 很 好奇 作者 是 个 怎样 人 一定 是 个 很 幽默 风趣 高雅 攻城 狮 我 仔细 端详 了 作者 肖像画 感觉 似曾相识 画像 上 音容 样貌 就 跟 我们 身边 你 我 他 那样 真实 学习 完 这门书 我 觉得 我 去 面试 AI 公司 胸有成竹 了 祝 我 早日 拿到 理想 工作岗位\",\"西瓜 书 已经 在 看 了 一眼 正品 大吉大利 最近 吃瓜\",\"西瓜 书 已经 在 看 了 一眼 正品 大吉大利 最近 吃瓜\",\"特别 好 一 本书 我 买 了 以后 当做 小说 读 吃饭 睡觉 前 连坐 上 厕所 都 爱不释手 作者 把 机器 学习 写 这么 生动活泼 真是 让 人 理解 起来 一点 都 不 费力 因为 读得 太 投入 连 做梦 都 能 到 自己 成 了 机器 学习 程序 猿 高手 了 很 好奇 作者 是 个 怎样 人 一定 是 个 很 幽默 风趣 高雅 攻城 狮 我 仔细 端详 了 作者 肖像画 感觉 似曾相识 画像 上 音容 样貌 就 跟 我们 身边 你 我 他 那样 真实 学习 完 这门书 我 觉得 我 去 面试 AI 公司 胸有成竹 了 祝 我 早日 拿到 理想 工作岗位\",\"特别 好 一 本书 我 买 了 以后 当做 小说 读 吃饭 睡觉 前 连坐 上 厕所 都 爱不释手 作者 把 机器 学习 写 这么 生动活泼 真是 让 人 理解 起来 一点 都 不 费力 因为 读得 太 投入 连 做梦 都 能 到 自己 成 了 机器 学习 程序 猿 高手 了 很 好奇 作者 是 个 怎样 人 一定 是 个 很 幽默 风趣 高雅 攻城 狮 我 仔细 端详 了 作者 肖像画 感觉 似曾相识 画像 上 音容 样貌 就 跟 我们 身边 你 我 他 那样 真实 学习 完 这门书 我 觉得 我 去 面试 AI 公司 胸有成竹 了 祝 我 早日 拿到 理想 工作岗位\",\"特别 好 一 本书 我 买 了 以后 当做 小说 读 吃饭 睡觉 前 连坐 上 厕所 都 爱不释手 作者 把 机器 学习 写 这么 生动活泼 真是 让 人 理解 起来 一点 都 不 费力 因为 读得 太 投入 连 做梦 都 能 到 自己 成 了 机器 学习 程序 猿 高手 了 很 好奇 作者 是 个 怎样 人 一定 是 个 很 幽默 风趣 高雅 攻城 狮 我 仔细 端详 了 作者 肖像画 感觉 似曾相识 画像 上 音容 样貌 就 跟 我们 身边 你 我 他 那样 真实 学习 完 这门书 我 觉得 我 去 面试 AI 公司 胸有成竹 了 祝 我 早日 拿到 理想 工作岗位\",null],\"marker\":{\"opacity\":0.5,\"size\":5},\"mode\":\"markers+text\",\"name\":\"16_ai_10_20\",\"text\":[\"\",\"\",\"\",\"\",\"\",\"\",\"\",\"\",\"\",\"\",\"\",\"\",\"\",\"\",\"\",\"\",\"\",\"\",\"\",\"\",\"\",\"\",\"\",\"\",\"\",\"16_ai_10_20\"],\"textfont\":{\"size\":12},\"x\":[18.203558,-1.0582675,-5.905417,18.203476,-5.9161687,-5.903884,-1.0569717,-1.054423,-5.9183717,18.203503,18.203508,-1.0569707,-1.0582118,-5.911447,-1.0573806,18.203472,18.203484,18.203526,18.20354,-1.0571675,18.20349,18.203562,-1.0616473,-1.0569882,-1.0577167,5.6761627],\"y\":[10.04328,6.08777,-2.9041,10.04331,-2.895485,-2.9063833,6.0868845,6.0861673,-2.8934648,10.043348,10.043311,6.086857,6.087336,-2.8989427,6.087023,10.043336,10.043275,10.043275,10.0432415,6.086946,10.043298,10.043261,6.088581,6.086863,6.08718,5.8722467],\"type\":\"scattergl\"},{\"hoverinfo\":\"text\",\"hovertext\":[\"很 有用 一 本书 正在 学习 书 质量 很 好\",\"还 没 看 书 质量 很 好 以后 再 仔细阅读\",\"书 质量 很 好 学习 中\",\"书 质量 很 好 学习 中\",\"您 没有 填写内容 默认 好评\",\"书 质量 很 好 学习 中\",\"还 没 看 书 质量 很 好 以后 再 仔细阅读\",\"还 没 看 书 质量 很 好 以后 再 仔细阅读\",\"书 质量 很 好 学习 中\",\"蛮 好 一 本书 利用 深度 学习 处理 自然语言 入门 参考 值得一看\",\"书 质量 很 好 学习 中\",\"您 没有 填写内容 默认 好评\",\"蛮 好 一 本书 利用 深度 学习 处理 自然语言 入门 参考 值得一看\",\"蛮 好 一 本书 利用 深度 学习 处理 自然语言 入门 参考 值得一看\",\"蛮 好 一 本书 利用 深度 学习 处理 自然语言 入门 参考 值得一看\",\"蛮 好 一 本书 利用 深度 学习 处理 自然语言 入门 参考 值得一看\",\"您 没有 填写内容 默认 好评\",\"您 没有 填写内容 默认 好评\",\"很 有用 一 本书 正在 学习 书 质量 很 好\",\"还 没 看 书 质量 很 好 以后 再 仔细阅读\",\"很 有用 一 本书 正在 学习 书 质量 很 好\",\"很 有用 一 本书 正在 学习 书 质量 很 好\",\"还 没 看 书 质量 很 好 以后 再 仔细阅读\",\"您 没有 填写内容 默认 好评\",\"很 有用 一 本书 正在 学习 书 质量 很 好\",null],\"marker\":{\"opacity\":0.5,\"size\":5},\"mode\":\"markers+text\",\"name\":\"17___\",\"text\":[\"\",\"\",\"\",\"\",\"\",\"\",\"\",\"\",\"\",\"\",\"\",\"\",\"\",\"\",\"\",\"\",\"\",\"\",\"\",\"\",\"\",\"\",\"\",\"\",\"\",\"17___\"],\"textfont\":{\"size\":12},\"x\":[-0.48799205,-0.55845875,-0.47550014,-0.46905962,-0.5959997,-0.4609133,-0.5717785,-0.5597013,-0.470769,-0.44614676,-0.47177112,-0.57600224,-0.45040402,-0.45764244,-0.4648148,-0.43075374,-0.5589841,-0.58747715,-0.52638924,-0.54042864,-0.46412024,-0.50011796,-0.54878056,-0.5765134,-0.47509825,-0.5090247],\"y\":[-4.8022637,-4.931671,-4.802189,-4.807956,-4.982709,-4.8123918,-4.9565945,-4.9384484,-4.7873654,-4.8074107,-4.800087,-4.959776,-4.814186,-4.796115,-4.788311,-4.797145,-4.9571595,-4.9802647,-4.756905,-4.927208,-4.7732444,-4.772289,-4.924279,-4.9606853,-4.808813,-4.8578186],\"type\":\"scattergl\"},{\"hoverinfo\":\"text\",\"hovertext\":[\"书 还 不错 了 印刷 质量 那 行 也好 应该 是 正版 了 学习 研读 下 还是 很 好\",\"很 不错 书 专业 引导性 强 适合 教育领域 专业人士 读读 印刷 质量 有待 提高 下\",\"书 印刷 质量 没得说 很稳 书里 内容 编排 也 比较 符合 我 预期 希望 能 跟着 书里 内容 更加 深入 了解 Tensorflow\",\"书 印刷 质量 没得说 很稳 书里 内容 编排 也 比较 符合 我 预期 希望 能 跟着 书里 内容 更加 深入 了解 Tensorflow\",\"书 印刷 质量 没得说 很稳 书里 内容 编排 也 比较 符合 我 预期 希望 能 跟着 书里 内容 更加 深入 了解 Tensorflow\",\"刚好 有 活动 帮别人 买 了 编程 书 质量 很 好 印刷 清楚 无 异味 有 需要 还会 回购\",\"书 还 不错 了 印刷 质量 那 行 也好 应该 是 正版 了 学习 研读 下 还是 很 好\",\"很 不错 书 专业 引导性 强 适合 教育领域 专业人士 读读 印刷 质量 有待 提高 下\",\"很 不错 书 专业 引导性 强 适合 教育领域 专业人士 读读 印刷 质量 有待 提高 下\",\"刚好 有 活动 帮别人 买 了 编程 书 质量 很 好 印刷 清楚 无 异味 有 需要 还会 回购\",\"书 印刷 质量 没得说 很稳 书里 内容 编排 也 比较 符合 我 预期 希望 能 跟着 书里 内容 更加 深入 了解 Tensorflow\",\"书 还 不错 了 印刷 质量 那 行 也好 应该 是 正版 了 学习 研读 下 还是 很 好\",\"很 不错 书 专业 引导性 强 适合 教育领域 专业人士 读读 印刷 质量 有待 提高 下\",\"书 印刷 质量 没得说 很稳 书里 内容 编排 也 比较 符合 我 预期 希望 能 跟着 书里 内容 更加 深入 了解 Tensorflow\",\"刚好 有 活动 帮别人 买 了 编程 书 质量 很 好 印刷 清楚 无 异味 有 需要 还会 回购\",\"书 还 不错 了 印刷 质量 那 行 也好 应该 是 正版 了 学习 研读 下 还是 很 好\",\"刚好 有 活动 帮别人 买 了 编程 书 质量 很 好 印刷 清楚 无 异味 有 需要 还会 回购\",\"书 还 不错 了 印刷 质量 那 行 也好 应该 是 正版 了 学习 研读 下 还是 很 好\",\"书 印刷 质量 没得说 很稳 书里 内容 编排 也 比较 符合 我 预期 希望 能 跟着 书里 内容 更加 深入 了解 Tensorflow\",\"刚好 有 活动 帮别人 买 了 编程 书 质量 很 好 印刷 清楚 无 异味 有 需要 还会 回购\",\"书 印刷 质量 没得说 很稳 书里 内容 编排 也 比较 符合 我 预期 希望 能 跟着 书里 内容 更加 深入 了解 Tensorflow\",\"很 不错 书 专业 引导性 强 适合 教育领域 专业人士 读读 印刷 质量 有待 提高 下\",\"书 印刷 质量 没得说 很稳 书里 内容 编排 也 比较 符合 我 预期 希望 能 跟着 书里 内容 更加 深入 了解 Tensorflow\",\"书 印刷 质量 没得说 很稳 书里 内容 编排 也 比较 符合 我 预期 希望 能 跟着 书里 内容 更加 深入 了解 Tensorflow\",\"书 印刷 质量 没得说 很稳 书里 内容 编排 也 比较 符合 我 预期 希望 能 跟着 书里 内容 更加 深入 了解 Tensorflow\",null],\"marker\":{\"opacity\":0.5,\"size\":5},\"mode\":\"markers+text\",\"name\":\"18_tensorflow__\",\"text\":[\"\",\"\",\"\",\"\",\"\",\"\",\"\",\"\",\"\",\"\",\"\",\"\",\"\",\"\",\"\",\"\",\"\",\"\",\"\",\"\",\"\",\"\",\"\",\"\",\"\",\"18_tensorflow__\"],\"textfont\":{\"size\":12},\"x\":[-3.6052384,-3.5738108,-9.151976,-9.143484,-9.14385,-3.599409,-3.5935757,-3.585315,-3.5799737,-3.5938938,-9.130509,-3.584894,-3.5849128,-9.144009,-3.5927503,-3.5865412,-3.6107233,-3.5622182,-9.143782,-3.558292,-9.143852,-3.5794604,-9.143418,-9.139005,-9.143448,-5.8087335],\"y\":[-3.0861244,-3.099765,0.95497936,0.96340525,0.96304595,-3.0959916,-3.129155,-3.1048744,-3.1035972,-3.0966394,0.9759089,-3.1118314,-3.106626,0.9629285,-3.0987449,-3.104777,-3.0745502,-3.1317043,0.96307904,-3.1355772,0.96298933,-3.1116102,0.96347404,0.9678191,0.9633689,-1.478023],\"type\":\"scattergl\"},{\"hoverinfo\":\"text\",\"hovertext\":[\"选个 好几个 类似 书 最后 决定 买 这本 纸张 不错 物流 很快\",\"做 活动  凑 单买 书 还是 很 划算\",\"非常 好 我 买 了 很 多次 内容 和 物流 我 都 很 满意\",\"做 活动  凑 单买 书 还是 很 划算\",\"这次 买 了 很多 书 还是 自营 到货 快 非常 好\",\"这次 买 了 很多 书 还是 自营 到货 快 非常 好\",\"做 活动  凑 单买 书 还是 很 划算\",\"这次 买 了 很多 书 还是 自营 到货 快 非常 好\",\"做 活动  凑 单买 书 还是 很 划算\",\"非常 好 我 买 了 很 多次 内容 和 物流 我 都 很 满意\",\"书本 很 好 是 正版 内容 丰富 条理清晰 一起 团购 了 10 本 很 划算\",\"书本 很 好 是 正版 内容 丰富 条理清晰 一起 团购 了 10 本 很 划算\",\"书本 很 好 是 正版 内容 丰富 条理清晰 一起 团购 了 10 本 很 划算\",\"非常 好 我 买 了 很 多次 内容 和 物流 我 都 很 满意\",\"选个 好几个 类似 书 最后 决定 买 这本 纸张 不错 物流 很快\",\"做 活动  凑 单买 书 还是 很 划算\",\"选个 好几个 类似 书 最后 决定 买 这本 纸张 不错 物流 很快\",\"这次 买 了 很多 书 还是 自营 到货 快 非常 好\",\"选个 好几个 类似 书 最后 决定 买 这本 纸张 不错 物流 很快\",\"书本 很 好 是 正版 内容 丰富 条理清晰 一起 团购 了 10 本 很 划算\",\"选个 好几个 类似 书 最后 决定 买 这本 纸张 不错 物流 很快\",\"非常 好 我 买 了 很 多次 内容 和 物流 我 都 很 满意\",\"这次 买 了 很多 书 还是 自营 到货 快 非常 好\",\"非常 好 我 买 了 很 多次 内容 和 物流 我 都 很 满意\",\"书本 很 好 是 正版 内容 丰富 条理清晰 一起 团购 了 10 本 很 划算\",null],\"marker\":{\"opacity\":0.5,\"size\":5},\"mode\":\"markers+text\",\"name\":\"19_10__\",\"text\":[\"\",\"\",\"\",\"\",\"\",\"\",\"\",\"\",\"\",\"\",\"\",\"\",\"\",\"\",\"\",\"\",\"\",\"\",\"\",\"\",\"\",\"\",\"\",\"\",\"\",\"19_10__\"],\"textfont\":{\"size\":12},\"x\":[-0.04616383,-0.07242273,-0.11469899,-0.08919228,-0.10020225,-0.119045354,-0.07915019,-0.07710452,-0.07710085,-0.118151,-0.09126749,-0.100716606,-0.09058988,-0.10477529,-0.058019318,-0.091212526,-0.04351529,-0.070938,-0.060325287,-0.1556331,-0.08295101,-0.106710814,-0.073600054,-0.12493715,-0.042166434,-0.0876236],\"y\":[13.138127,13.137938,13.121177,13.112109,13.135678,13.101524,13.130644,13.108838,13.140258,13.151293,13.155005,13.16381,13.153726,13.12554,13.152895,13.1215515,13.109639,13.135809,13.156235,13.2210655,13.128108,13.132003,13.088126,13.166014,13.192759,13.1391945],\"type\":\"scattergl\"},{\"hoverinfo\":\"text\",\"hovertext\":[\"书 确实 写 不错 周志华 老师 书 果然 不 一般 李楠 博士 翻译 很棒 值得 拥有 好评\",\"这 本书 是 最好 深度 学习 理论 入门 书籍 比 市面上 同类 书籍 好太多 了 全彩 印刷 阅读 起来 很 舒服 中国 写得 所以 语言 凝练 言简意赅 但 自成体系 读 起来 酣畅淋漓 而读 国外 作者 书 觉得 很 啰嗦 和 李航 周志华 书 一起 堪称 国内 机器 学习 三部 巨著 强烈推荐\",\"英文 对照 版本 这个 系列 书 真 厉害 它 把 这些 名著 使用 三千 词内 书写 对于 我 来说 词汇量 很少 阅读 只 需 简单 查字典 就 能 阅读 和 积累 词汇 这 一点 很 重要 比 单纯 背诵 词汇 要 有用 很多\",\"英文 对照 版本 这个 系列 书 真 厉害 它 把 这些 名著 使用 三千 词内 书写 对于 我 来说 词汇量 很少 阅读 只 需 简单 查字典 就 能 阅读 和 积累 词汇 这 一点 很 重要 比 单纯 背诵 词汇 要 有用 很多\",\"插图 形式 讲解 比 很多 国外 翻译 书 都 易懂 很多 翻译 技术 书籍 晦涩 难懂 读 起来 是 一种 折磨 大赞 这 本书 推荐\",\"良心 翻译 啊 哈工大 自然语言 处理 团队 实力 确实 很强 做事 也 很 踏实 认真 这 本书 翻译 质量 就是 上述 观点 很 好 佐证 反观 我 购买 强化 学习 中科院 赵地 等 翻译 那本书 简直 糟糕透顶 两相 比较 更加 凸显 刘挺 老师 团队 水平 和 态度 你们 保持者 知识分子 初心 和 良知 是 中国 科技 希望 祝 工作 顺利 生活 愉快\",\"良心 翻译 啊 哈工大 自然语言 处理 团队 实力 确实 很强 做事 也 很 踏实 认真 这 本书 翻译 质量 就是 上述 观点 很 好 佐证 反观 我 购买 强化 学习 中科院 赵地 等 翻译 那本书 简直 糟糕透顶 两相 比较 更加 凸显 刘挺 老师 团队 水平 和 态度 你们 保持者 知识分子 初心 和 良知 是 中国 科技 希望 祝 工作 顺利 生活 愉快\",\"插图 形式 讲解 比 很多 国外 翻译 书 都 易懂 很多 翻译 技术 书籍 晦涩 难懂 读 起来 是 一种 折磨 大赞 这 本书 推荐\",\"书 确实 写 不错 周志华 老师 书 果然 不 一般 李楠 博士 翻译 很棒 值得 拥有 好评\",\"英文 对照 版本 这个 系列 书 真 厉害 它 把 这些 名著 使用 三千 词内 书写 对于 我 来说 词汇量 很少 阅读 只 需 简单 查字典 就 能 阅读 和 积累 词汇 这 一点 很 重要 比 单纯 背诵 词汇 要 有用 很多\",\"插图 形式 讲解 比 很多 国外 翻译 书 都 易懂 很多 翻译 技术 书籍 晦涩 难懂 读 起来 是 一种 折磨 大赞 这 本书 推荐\",\"这 本书 是 最好 深度 学习 理论 入门 书籍 比 市面上 同类 书籍 好太多 了 全彩 印刷 阅读 起来 很 舒服 中国 写得 所以 语言 凝练 言简意赅 但 自成体系 读 起来 酣畅淋漓 而读 国外 作者 书 觉得 很 啰嗦 和 李航 周志华 书 一起 堪称 国内 机器 学习 三部 巨著 强烈推荐\",\"书 确实 写 不错 周志华 老师 书 果然 不 一般 李楠 博士 翻译 很棒 值得 拥有 好评\",\"这 本书 是 最好 深度 学习 理论 入门 书籍 比 市面上 同类 书籍 好太多 了 全彩 印刷 阅读 起来 很 舒服 中国 写得 所以 语言 凝练 言简意赅 但 自成体系 读 起来 酣畅淋漓 而读 国外 作者 书 觉得 很 啰嗦 和 李航 周志华 书 一起 堪称 国内 机器 学习 三部 巨著 强烈推荐\",\"书 确实 写 不错 周志华 老师 书 果然 不 一般 李楠 博士 翻译 很棒 值得 拥有 好评\",\"这 本书 是 最好 深度 学习 理论 入门 书籍 比 市面上 同类 书籍 好太多 了 全彩 印刷 阅读 起来 很 舒服 中国 写得 所以 语言 凝练 言简意赅 但 自成体系 读 起来 酣畅淋漓 而读 国外 作者 书 觉得 很 啰嗦 和 李航 周志华 书 一起 堪称 国内 机器 学习 三部 巨著 强烈推荐\",\"书 确实 写 不错 周志华 老师 书 果然 不 一般 李楠 博士 翻译 很棒 值得 拥有 好评\",\"插图 形式 讲解 比 很多 国外 翻译 书 都 易懂 很多 翻译 技术 书籍 晦涩 难懂 读 起来 是 一种 折磨 大赞 这 本书 推荐\",\"插图 形式 讲解 比 很多 国外 翻译 书 都 易懂 很多 翻译 技术 书籍 晦涩 难懂 读 起来 是 一种 折磨 大赞 这 本书 推荐\",\"英文 对照 版本 这个 系列 书 真 厉害 它 把 这些 名著 使用 三千 词内 书写 对于 我 来说 词汇量 很少 阅读 只 需 简单 查字典 就 能 阅读 和 积累 词汇 这 一点 很 重要 比 单纯 背诵 词汇 要 有用 很多\",\"良心 翻译 啊 哈工大 自然语言 处理 团队 实力 确实 很强 做事 也 很 踏实 认真 这 本书 翻译 质量 就是 上述 观点 很 好 佐证 反观 我 购买 强化 学习 中科院 赵地 等 翻译 那本书 简直 糟糕透顶 两相 比较 更加 凸显 刘挺 老师 团队 水平 和 态度 你们 保持者 知识分子 初心 和 良知 是 中国 科技 希望 祝 工作 顺利 生活 愉快\",\"英文 对照 版本 这个 系列 书 真 厉害 它 把 这些 名著 使用 三千 词内 书写 对于 我 来说 词汇量 很少 阅读 只 需 简单 查字典 就 能 阅读 和 积累 词汇 这 一点 很 重要 比 单纯 背诵 词汇 要 有用 很多\",\"良心 翻译 啊 哈工大 自然语言 处理 团队 实力 确实 很强 做事 也 很 踏实 认真 这 本书 翻译 质量 就是 上述 观点 很 好 佐证 反观 我 购买 强化 学习 中科院 赵地 等 翻译 那本书 简直 糟糕透顶 两相 比较 更加 凸显 刘挺 老师 团队 水平 和 态度 你们 保持者 知识分子 初心 和 良知 是 中国 科技 希望 祝 工作 顺利 生活 愉快\",\"这 本书 是 最好 深度 学习 理论 入门 书籍 比 市面上 同类 书籍 好太多 了 全彩 印刷 阅读 起来 很 舒服 中国 写得 所以 语言 凝练 言简意赅 但 自成体系 读 起来 酣畅淋漓 而读 国外 作者 书 觉得 很 啰嗦 和 李航 周志华 书 一起 堪称 国内 机器 学习 三部 巨著 强烈推荐\",\"良心 翻译 啊 哈工大 自然语言 处理 团队 实力 确实 很强 做事 也 很 踏实 认真 这 本书 翻译 质量 就是 上述 观点 很 好 佐证 反观 我 购买 强化 学习 中科院 赵地 等 翻译 那本书 简直 糟糕透顶 两相 比较 更加 凸显 刘挺 老师 团队 水平 和 态度 你们 保持者 知识分子 初心 和 良知 是 中国 科技 希望 祝 工作 顺利 生活 愉快\",null],\"marker\":{\"opacity\":0.5,\"size\":5},\"mode\":\"markers+text\",\"name\":\"20___\",\"text\":[\"\",\"\",\"\",\"\",\"\",\"\",\"\",\"\",\"\",\"\",\"\",\"\",\"\",\"\",\"\",\"\",\"\",\"\",\"\",\"\",\"\",\"\",\"\",\"\",\"\",\"20___\"],\"textfont\":{\"size\":12},\"x\":[-10.820677,-10.659905,-10.704402,-10.667147,-10.683699,-10.786474,-10.767787,-10.665251,-10.777519,-10.673576,-10.684618,-10.645764,-10.778885,-10.650106,-10.781058,-10.665477,-10.793594,-10.671802,-10.680253,-10.685702,-10.757265,-10.664376,-10.743958,-10.637117,-10.707563,-10.710158],\"y\":[-3.6507819,-3.811003,-3.7665827,-3.8038259,-3.7874587,-3.685186,-3.7036273,-3.805358,-3.6939728,-3.7972436,-3.7864432,-3.824978,-3.6924536,-3.8206456,-3.6905336,-3.8052537,-3.6778588,-3.799169,-3.7908995,-3.7852328,-3.7144709,-3.8065681,-3.7283993,-3.8336554,-3.7641919,-3.761032],\"type\":\"scattergl\"},{\"hoverinfo\":\"text\",\"hovertext\":[\"内容 非常 详细 适合 机器 学习 入门者 使用\",\"看 了 快 半个 月 了 才 来 评价 hhh 这本 作为 机器 学习 和 深度 学习 初学者 来说 是 很棒 书 讲得 很 通透 例子 也 很 好 希望 学习 这个 领域 都 可以 拿来 看看 但 一定 要 有 实践\",\"看 了 快 半个 月 了 才 来 评价 hhh 这本 作为 机器 学习 和 深度 学习 初学者 来说 是 很棒 书 讲得 很 通透 例子 也 很 好 希望 学习 这个 领域 都 可以 拿来 看看 但 一定 要 有 实践\",\"算法 说 得 很 详细 值得 学习\",\"内容 非常 详细 适合 机器 学习 入门者 使用\",\"实际 内容 是 讲 非常 细分 一个 领域 推荐 系统 讲 很 全 对于 实践 来说 有 参考价值 但 并 不是 内容 全面 机器 学习 书籍\",\"算法 说 得 很 详细 值得 学习\",\"内容 非常 详细 适合 机器 学习 入门者 使用\",\"看 了 快 半个 月 了 才 来 评价 hhh 这本 作为 机器 学习 和 深度 学习 初学者 来说 是 很棒 书 讲得 很 通透 例子 也 很 好 希望 学习 这个 领域 都 可以 拿来 看看 但 一定 要 有 实践\",\"内容 非常 详细 适合 机器 学习 入门者 使用\",\"彩印 好评 内容 很全 对于 了解 深度 学习 知识 体系结构 非常 有用\",\"看 了 快 半个 月 了 才 来 评价 hhh 这本 作为 机器 学习 和 深度 学习 初学者 来说 是 很棒 书 讲得 很 通透 例子 也 很 好 希望 学习 这个 领域 都 可以 拿来 看看 但 一定 要 有 实践\",\"算法 说 得 很 详细 值得 学习\",\"实际 内容 是 讲 非常 细分 一个 领域 推荐 系统 讲 很 全 对于 实践 来说 有 参考价值 但 并 不是 内容 全面 机器 学习 书籍\",\"内容 非常 详细 适合 机器 学习 入门者 使用\",\"实际 内容 是 讲 非常 细分 一个 领域 推荐 系统 讲 很 全 对于 实践 来说 有 参考价值 但 并 不是 内容 全面 机器 学习 书籍\",\"实际 内容 是 讲 非常 细分 一个 领域 推荐 系统 讲 很 全 对于 实践 来说 有 参考价值 但 并 不是 内容 全面 机器 学习 书籍\",\"算法 说 得 很 详细 值得 学习\",\"算法 说 得 很 详细 值得 学习\",\"看 了 快 半个 月 了 才 来 评价 hhh 这本 作为 机器 学习 和 深度 学习 初学者 来说 是 很棒 书 讲得 很 通透 例子 也 很 好 希望 学习 这个 领域 都 可以 拿来 看看 但 一定 要 有 实践\",\"实际 内容 是 讲 非常 细分 一个 领域 推荐 系统 讲 很 全 对于 实践 来说 有 参考价值 但 并 不是 内容 全面 机器 学习 书籍\",null],\"marker\":{\"opacity\":0.5,\"size\":5},\"mode\":\"markers+text\",\"name\":\"21_hhh__\",\"text\":[\"\",\"\",\"\",\"\",\"\",\"\",\"\",\"\",\"\",\"\",\"\",\"\",\"\",\"\",\"\",\"\",\"\",\"\",\"\",\"\",\"\",\"21_hhh__\"],\"textfont\":{\"size\":12},\"x\":[-4.72636,-14.161461,-14.161448,-4.7256684,-4.7260146,-14.161252,-4.726011,-4.7251315,-14.162406,-4.725969,-4.7257724,-14.161299,-4.725894,-14.161312,-4.726332,-14.161372,-14.161368,-4.725835,-4.7259183,-14.161301,-14.163732,-9.219135],\"y\":[-13.446411,-7.273048,-7.2731314,-13.446243,-13.446299,-7.273187,-13.446318,-13.445906,-7.27213,-13.446277,-13.44625,-7.2732344,-13.446284,-7.27314,-13.446366,-7.2730875,-7.273068,-13.446266,-13.446289,-7.2732906,-7.269231,-10.50645],\"type\":\"scattergl\"},{\"hoverinfo\":\"text\",\"hovertext\":[\"导师 推荐 看 了 一下 深入浅出 适合 有 一点 python 基础 人 就是 一本 入门 书籍 里面 代码 也 挺不错 要求 高 大神 可以 不用 考虑 了 反正 我 挺 满意 应该 是 正版 价格 也 不贵 纸张 很 好 内部 字迹 图示 墨迹 均匀 物流 非常 快 包装 完好\",\"书 质量 很 好  印刷 清楚  纸张 厚度 合适  本书 是 学习 机器 学 经典 书目  里面 涵盖 数学 基础 和 深度 学习 理论  内容 完整  很 有 参考价值  可以 用来 做 教材\",\"年少 不 好好学 矩阵 分析 老大 才 知 数学 学习 重要性 拿到 书后 都 比 想象 中好 要 厚 内容 要 翔实 印刷 质量 非常 好 是 正版 纸张 质量 也 特别 好 还有 部分 铜版纸 印刷 整体 上 感觉 很 满意\",\"Python 在 机器 学习 方面 应用 指导书 测试 驱动 开发 也 是 必备 技能 算是 很 综合 一 本书 了\",\"书 质量 很 好  印刷 清楚  纸张 厚度 合适  本书 是 学习 机器 学 经典 书目  里面 涵盖 数学 基础 和 深度 学习 理论  内容 完整  很 有 参考价值  可以 用来 做 教材\",\"Python 在 机器 学习 方面 应用 指导书 测试 驱动 开发 也 是 必备 技能 算是 很 综合 一 本书 了\",\"导师 推荐 看 了 一下 深入浅出 适合 有 一点 python 基础 人 就是 一本 入门 书籍 里面 代码 也 挺不错 要求 高 大神 可以 不用 考虑 了 反正 我 挺 满意 应该 是 正版 价格 也 不贵 纸张 很 好 内部 字迹 图示 墨迹 均匀 物流 非常 快 包装 完好\",\"年少 不 好好学 矩阵 分析 老大 才 知 数学 学习 重要性 拿到 书后 都 比 想象 中好 要 厚 内容 要 翔实 印刷 质量 非常 好 是 正版 纸张 质量 也 特别 好 还有 部分 铜版纸 印刷 整体 上 感觉 很 满意\",\"年少 不 好好学 矩阵 分析 老大 才 知 数学 学习 重要性 拿到 书后 都 比 想象 中好 要 厚 内容 要 翔实 印刷 质量 非常 好 是 正版 纸张 质量 也 特别 好 还有 部分 铜版纸 印刷 整体 上 感觉 很 满意\",\"Python 在 机器 学习 方面 应用 指导书 测试 驱动 开发 也 是 必备 技能 算是 很 综合 一 本书 了\",\"导师 推荐 看 了 一下 深入浅出 适合 有 一点 python 基础 人 就是 一本 入门 书籍 里面 代码 也 挺不错 要求 高 大神 可以 不用 考虑 了 反正 我 挺 满意 应该 是 正版 价格 也 不贵 纸张 很 好 内部 字迹 图示 墨迹 均匀 物流 非常 快 包装 完好\",\"干货 十足 一 本书 对 我 这样 编程 新手 帮助 很大 书 里面 案例 讲解 非常 详细 贴近 实际 尤其 是 注重 先 讲解 解决问题 思路 再 分析 核心 技术细节 感觉 对 读者 从 宏观 上 理解 Python 数据分析 有 好 指导意义 相信 是 一本 好书\",\"书 质量 很 好  印刷 清楚  纸张 厚度 合适  本书 是 学习 机器 学 经典 书目  里面 涵盖 数学 基础 和 深度 学习 理论  内容 完整  很 有 参考价值  可以 用来 做 教材\",\"导师 推荐 看 了 一下 深入浅出 适合 有 一点 python 基础 人 就是 一本 入门 书籍 里面 代码 也 挺不错 要求 高 大神 可以 不用 考虑 了 反正 我 挺 满意 应该 是 正版 价格 也 不贵 纸张 很 好 内部 字迹 图示 墨迹 均匀 物流 非常 快 包装 完好\",\"Python 在 机器 学习 方面 应用 指导书 测试 驱动 开发 也 是 必备 技能 算是 很 综合 一 本书 了\",\"Python 在 机器 学习 方面 应用 指导书 测试 驱动 开发 也 是 必备 技能 算是 很 综合 一 本书 了\",\"年少 不 好好学 矩阵 分析 老大 才 知 数学 学习 重要性 拿到 书后 都 比 想象 中好 要 厚 内容 要 翔实 印刷 质量 非常 好 是 正版 纸张 质量 也 特别 好 还有 部分 铜版纸 印刷 整体 上 感觉 很 满意\",\"书 质量 很 好  印刷 清楚  纸张 厚度 合适  本书 是 学习 机器 学 经典 书目  里面 涵盖 数学 基础 和 深度 学习 理论  内容 完整  很 有 参考价值  可以 用来 做 教材\",\"书 质量 很 好  印刷 清楚  纸张 厚度 合适  本书 是 学习 机器 学 经典 书目  里面 涵盖 数学 基础 和 深度 学习 理论  内容 完整  很 有 参考价值  可以 用来 做 教材\",\"导师 推荐 看 了 一下 深入浅出 适合 有 一点 python 基础 人 就是 一本 入门 书籍 里面 代码 也 挺不错 要求 高 大神 可以 不用 考虑 了 反正 我 挺 满意 应该 是 正版 价格 也 不贵 纸张 很 好 内部 字迹 图示 墨迹 均匀 物流 非常 快 包装 完好\",\"年少 不 好好学 矩阵 分析 老大 才 知 数学 学习 重要性 拿到 书后 都 比 想象 中好 要 厚 内容 要 翔实 印刷 质量 非常 好 是 正版 纸张 质量 也 特别 好 还有 部分 铜版纸 印刷 整体 上 感觉 很 满意\",null],\"marker\":{\"opacity\":0.5,\"size\":5},\"mode\":\"markers+text\",\"name\":\"22_python__\",\"text\":[\"\",\"\",\"\",\"\",\"\",\"\",\"\",\"\",\"\",\"\",\"\",\"\",\"\",\"\",\"\",\"\",\"\",\"\",\"\",\"\",\"\",\"22_python__\"],\"textfont\":{\"size\":12},\"x\":[1.0537453,-7.1235704,-7.123624,1.1975378,-7.1612,1.1968191,1.0858128,-7.123115,-7.1228924,1.1780884,1.0838165,1.0930407,-7.1214104,1.0831894,1.1976109,1.1971525,-7.122834,-7.123983,-7.1235895,1.0888594,-7.123344,-2.800661],\"y\":[4.5663824,3.0831087,3.0830195,4.5179234,3.0498347,4.517946,4.5397344,3.0833488,3.0835497,4.5242753,4.541161,4.5379615,3.0852883,4.5413017,4.5178137,4.517861,3.0835798,3.0826476,3.083033,4.5368733,3.0832098,3.8409452],\"type\":\"scattergl\"},{\"hoverinfo\":\"text\",\"hovertext\":[\"深度 学习 现在 这么 火 一定 要 学习 一下 相应 框架 这 本书 从 工程 出发 不是 纯理论 非常适合 小白 上手 真的 很 不错 呢 给 一个 大大的 赞\",\"大佬 书 很 赞 内容 很 翔实 多年 理论 和 实践 积累 非常 值得 研究 一下\",\"这 本书 通俗易懂 理论性 强 非常 好\",\"大佬 书 很 赞 内容 很 翔实 多年 理论 和 实践 积累 非常 值得 研究 一下\",\"大佬 书 很 赞 内容 很 翔实 多年 理论 和 实践 积累 非常 值得 研究 一下\",\"非常 好 一 本书 对 R 语言 做 了 非常 详细 讲解 有 理论 有 实战 不过 更加 偏重 案例 一些 很 实用 可以 当做 一本 工具书 来 用 新版 书 印刷 日期 也 很 新\",\"深度 学习 现在 这么 火 一定 要 学习 一下 相应 框架 这 本书 从 工程 出发 不是 纯理论 非常适合 小白 上手 真的 很 不错 呢 给 一个 大大的 赞\",\"深度 学习 现在 这么 火 一定 要 学习 一下 相应 框架 这 本书 从 工程 出发 不是 纯理论 非常适合 小白 上手 真的 很 不错 呢 给 一个 大大的 赞\",\"这 本书 通俗易懂 理论性 强 非常 好\",\"这 本书 通俗易懂 理论性 强 非常 好\",\"深度 学习 现在 这么 火 一定 要 学习 一下 相应 框架 这 本书 从 工程 出发 不是 纯理论 非常适合 小白 上手 真的 很 不错 呢 给 一个 大大的 赞\",\"这是 一本 韭常好 结合 tensorflow2 介绍 深度 学 入门 书 深入浅出 地 把 一些 深度 学 经典 原理 和 实现 讲解 清楚 很 好 书 !\",\"大佬 书 很 赞 内容 很 翔实 多年 理论 和 实践 积累 非常 值得 研究 一下\",\"深度 学习 现在 这么 火 一定 要 学习 一下 相应 框架 这 本书 从 工程 出发 不是 纯理论 非常适合 小白 上手 真的 很 不错 呢 给 一个 大大的 赞\",\"这 本书 通俗易懂 理论性 强 非常 好\",\"这是 一本 韭常好 结合 tensorflow2 介绍 深度 学 入门 书 深入浅出 地 把 一些 深度 学 经典 原理 和 实现 讲解 清楚 很 好 书 !\",\"这 本书 通俗易懂 理论性 强 非常 好\",\"这是 一本 韭常好 结合 tensorflow2 介绍 深度 学 入门 书 深入浅出 地 把 一些 深度 学 经典 原理 和 实现 讲解 清楚 很 好 书 !\",\"这是 一本 韭常好 结合 tensorflow2 介绍 深度 学 入门 书 深入浅出 地 把 一些 深度 学 经典 原理 和 实现 讲解 清楚 很 好 书 !\",\"这是 一本 韭常好 结合 tensorflow2 介绍 深度 学 入门 书 深入浅出 地 把 一些 深度 学 经典 原理 和 实现 讲解 清楚 很 好 书 !\",\"大佬 书 很 赞 内容 很 翔实 多年 理论 和 实践 积累 非常 值得 研究 一下\",null],\"marker\":{\"opacity\":0.5,\"size\":5},\"mode\":\"markers+text\",\"name\":\"23_tensorflow2__\",\"text\":[\"\",\"\",\"\",\"\",\"\",\"\",\"\",\"\",\"\",\"\",\"\",\"\",\"\",\"\",\"\",\"\",\"\",\"\",\"\",\"\",\"\",\"23_tensorflow2__\"],\"textfont\":{\"size\":12},\"x\":[-11.33201,-11.301003,-11.303007,-11.304082,-11.287612,-11.327645,-11.327749,-11.4073515,-11.268505,-11.299102,-11.322036,-11.343555,-11.303831,-11.307509,-11.282724,-11.36697,-11.271409,-11.354099,-11.338422,-11.342276,-11.303871,-11.318798],\"y\":[-15.000236,-15.031171,-15.029188,-15.028107,-15.04461,-15.00448,-15.004455,-14.924896,-15.063682,-15.033086,-15.010119,-14.9886875,-15.028391,-15.024599,-15.049454,-14.965323,-15.060796,-14.9781275,-14.993821,-14.989991,-15.028319,-15.013406],\"type\":\"scattergl\"},{\"hoverinfo\":\"text\",\"hovertext\":[\"不错 书籍 正版 页面 很 美观 厚实 一大 本 内容 详细 值得 购买 能够 学习 到 很多 知识 印刷 质量 好 没有 虚 和 重影 地方 内容 丰富 详实 对 该 领域 知识 概括 得 很 全面 是 一本 很 好 书籍 阅读 起来 很 有趣 是 本 不错 书\",\"这些 课外 资料 合集 内容 都 很多 都 很 全面 都 很 详细 平时 没事 时候 很 值得 去 阅读 是 一些 难得 好 题材 各式各样 好 故事 看过 之后 就 知道 值得 去 阅读 都 很 值得 推荐 给 大家 是 真真正正 好 课外 资料 现在 我们 都 很 喜欢 去 阅读 这些 资料 越 看 越 爱看 我们 阅读 都 非常 满意\",\"本书 几位 作者 全部都是 一线 开发人员 当时 看到 这个 就 笑 了 总的来说 内容 很全 基本上 对于 任何 一个 项目 团队 产品 经理 都 能 找到 相关 可以 学习 内容 除了 产品 经理 以外 感觉 同样 也 很 适合 技术 或者 开发人员 自己 来看 学习 一下 如何 用 浅显易懂 语言 给 家人 或者 朋友 科普 相关 知识\",\"书籍 印刷 很 清晰 知识点 概括 很 全面 内容 通过 图解 方式 使 读者 更 易 理解 通俗易懂 物流 速度 非常 快 商品 描述 非常 准确 详尽 没有 差错 可以 作为 知识 储备 拓展 自己 知识面 是 一次 非常 开心 愉快 购物 经历 我会 推荐 给 朋友\",\"书籍 印刷 很 清晰 知识点 概括 很 全面 内容 通过 图解 方式 使 读者 更 易 理解 通俗易懂 物流 速度 非常 快 商品 描述 非常 准确 详尽 没有 差错 可以 作为 知识 储备 拓展 自己 知识面 是 一次 非常 开心 愉快 购物 经历 我会 推荐 给 朋友\",\"本书 几位 作者 全部都是 一线 开发人员 当时 看到 这个 就 笑 了 总的来说 内容 很全 基本上 对于 任何 一个 项目 团队 产品 经理 都 能 找到 相关 可以 学习 内容 除了 产品 经理 以外 感觉 同样 也 很 适合 技术 或者 开发人员 自己 来看 学习 一下 如何 用 浅显易懂 语言 给 家人 或者 朋友 科普 相关 知识\",\"书籍 印刷 很 清晰 知识点 概括 很 全面 内容 通过 图解 方式 使 读者 更 易 理解 通俗易懂 物流 速度 非常 快 商品 描述 非常 准确 详尽 没有 差错 可以 作为 知识 储备 拓展 自己 知识面 是 一次 非常 开心 愉快 购物 经历 我会 推荐 给 朋友\",\"不错 书籍 正版 页面 很 美观 厚实 一大 本 内容 详细 值得 购买 能够 学习 到 很多 知识 印刷 质量 好 没有 虚 和 重影 地方 内容 丰富 详实 对 该 领域 知识 概括 得 很 全面 是 一本 很 好 书籍 阅读 起来 很 有趣 是 本 不错 书\",\"本书 几位 作者 全部都是 一线 开发人员 当时 看到 这个 就 笑 了 总的来说 内容 很全 基本上 对于 任何 一个 项目 团队 产品 经理 都 能 找到 相关 可以 学习 内容 除了 产品 经理 以外 感觉 同样 也 很 适合 技术 或者 开发人员 自己 来看 学习 一下 如何 用 浅显易懂 语言 给 家人 或者 朋友 科普 相关 知识\",\"不错 书籍 正版 页面 很 美观 厚实 一大 本 内容 详细 值得 购买 能够 学习 到 很多 知识 印刷 质量 好 没有 虚 和 重影 地方 内容 丰富 详实 对 该 领域 知识 概括 得 很 全面 是 一本 很 好 书籍 阅读 起来 很 有趣 是 本 不错 书\",\"这些 课外 资料 合集 内容 都 很多 都 很 全面 都 很 详细 平时 没事 时候 很 值得 去 阅读 是 一些 难得 好 题材 各式各样 好 故事 看过 之后 就 知道 值得 去 阅读 都 很 值得 推荐 给 大家 是 真真正正 好 课外 资料 现在 我们 都 很 喜欢 去 阅读 这些 资料 越 看 越 爱看 我们 阅读 都 非常 满意\",\"书籍 印刷 很 清晰 知识点 概括 很 全面 内容 通过 图解 方式 使 读者 更 易 理解 通俗易懂 物流 速度 非常 快 商品 描述 非常 准确 详尽 没有 差错 可以 作为 知识 储备 拓展 自己 知识面 是 一次 非常 开心 愉快 购物 经历 我会 推荐 给 朋友\",\"本书 几位 作者 全部都是 一线 开发人员 当时 看到 这个 就 笑 了 总的来说 内容 很全 基本上 对于 任何 一个 项目 团队 产品 经理 都 能 找到 相关 可以 学习 内容 除了 产品 经理 以外 感觉 同样 也 很 适合 技术 或者 开发人员 自己 来看 学习 一下 如何 用 浅显易懂 语言 给 家人 或者 朋友 科普 相关 知识\",\"这些 课外 资料 合集 内容 都 很多 都 很 全面 都 很 详细 平时 没事 时候 很 值得 去 阅读 是 一些 难得 好 题材 各式各样 好 故事 看过 之后 就 知道 值得 去 阅读 都 很 值得 推荐 给 大家 是 真真正正 好 课外 资料 现在 我们 都 很 喜欢 去 阅读 这些 资料 越 看 越 爱看 我们 阅读 都 非常 满意\",\"书籍 印刷 很 清晰 知识点 概括 很 全面 内容 通过 图解 方式 使 读者 更 易 理解 通俗易懂 物流 速度 非常 快 商品 描述 非常 准确 详尽 没有 差错 可以 作为 知识 储备 拓展 自己 知识面 是 一次 非常 开心 愉快 购物 经历 我会 推荐 给 朋友\",\"这些 课外 资料 合集 内容 都 很多 都 很 全面 都 很 详细 平时 没事 时候 很 值得 去 阅读 是 一些 难得 好 题材 各式各样 好 故事 看过 之后 就 知道 值得 去 阅读 都 很 值得 推荐 给 大家 是 真真正正 好 课外 资料 现在 我们 都 很 喜欢 去 阅读 这些 资料 越 看 越 爱看 我们 阅读 都 非常 满意\",\"不错 书籍 正版 页面 很 美观 厚实 一大 本 内容 详细 值得 购买 能够 学习 到 很多 知识 印刷 质量 好 没有 虚 和 重影 地方 内容 丰富 详实 对 该 领域 知识 概括 得 很 全面 是 一本 很 好 书籍 阅读 起来 很 有趣 是 本 不错 书\",\"不错 书籍 正版 页面 很 美观 厚实 一大 本 内容 详细 值得 购买 能够 学习 到 很多 知识 印刷 质量 好 没有 虚 和 重影 地方 内容 丰富 详实 对 该 领域 知识 概括 得 很 全面 是 一本 很 好 书籍 阅读 起来 很 有趣 是 本 不错 书\",\"这些 课外 资料 合集 内容 都 很多 都 很 全面 都 很 详细 平时 没事 时候 很 值得 去 阅读 是 一些 难得 好 题材 各式各样 好 故事 看过 之后 就 知道 值得 去 阅读 都 很 值得 推荐 给 大家 是 真真正正 好 课外 资料 现在 我们 都 很 喜欢 去 阅读 这些 资料 越 看 越 爱看 我们 阅读 都 非常 满意\",\"本书 几位 作者 全部都是 一线 开发人员 当时 看到 这个 就 笑 了 总的来说 内容 很全 基本上 对于 任何 一个 项目 团队 产品 经理 都 能 找到 相关 可以 学习 内容 除了 产品 经理 以外 感觉 同样 也 很 适合 技术 或者 开发人员 自己 来看 学习 一下 如何 用 浅显易懂 语言 给 家人 或者 朋友 科普 相关 知识\",null],\"marker\":{\"opacity\":0.5,\"size\":5},\"mode\":\"markers+text\",\"name\":\"24___\",\"text\":[\"\",\"\",\"\",\"\",\"\",\"\",\"\",\"\",\"\",\"\",\"\",\"\",\"\",\"\",\"\",\"\",\"\",\"\",\"\",\"\",\"24___\"],\"textfont\":{\"size\":12},\"x\":[-3.8534439,-3.8374653,-3.8836603,-3.8975499,-3.9081547,-3.8812473,-3.877838,-3.8181484,-3.863954,-3.866423,-3.83773,-3.8749733,-3.8798258,-3.8401682,-3.8747113,-3.8401315,-3.8653946,-3.8417015,-3.841637,-3.892961,-3.863856],\"y\":[-4.8888946,-4.8721185,-4.929294,-4.940327,-4.950454,-4.9261093,-4.921942,-4.853998,-4.9086127,-4.88576,-4.8725896,-4.9176574,-4.9247127,-4.875022,-4.917634,-4.8763433,-4.9004326,-4.8783364,-4.8766375,-4.93798,-4.9027433],\"type\":\"scattergl\"},{\"hoverinfo\":\"text\",\"hovertext\":[\"品相 很 好 书页 质量 没得说 文字 打印 清晰\",\"品相 很 好 书页 质量 没得说 文字 打印 清晰\",\"书 很 新 印刷 清楚 页面 折痕 较 少\",\"1 书本 印刷 质量上乘 没有 出现 任何 印刷错误 字迹 和 图案 都 非常 清晰 书本 纸质 非常 好 没有 那种 薄薄的 感觉 n2 内容 丰富 上 手 难度 不高 通俗易懂\",\"书 很 新 印刷 清楚 页面 折痕 较 少\",\"1 书本 印刷 质量上乘 没有 出现 任何 印刷错误 字迹 和 图案 都 非常 清晰 书本 纸质 非常 好 没有 那种 薄薄的 感觉 n2 内容 丰富 上 手 难度 不高 通俗易懂\",\"品相 很 好 书页 质量 没得说 文字 打印 清晰\",\"1 书本 印刷 质量上乘 没有 出现 任何 印刷错误 字迹 和 图案 都 非常 清晰 书本 纸质 非常 好 没有 那种 薄薄的 感觉 n2 内容 丰富 上 手 难度 不高 通俗易懂\",\"品相 很 好 书页 质量 没得说 文字 打印 清晰\",\"书 很 新 印刷 清楚 页面 折痕 较 少\",\"品相 很 好 书页 质量 没得说 文字 打印 清晰\",\"品相 很 好 书页 质量 没得说 文字 打印 清晰\",\"书 很 新 印刷 清楚 页面 折痕 较 少\",\"品相 很 好 书页 质量 没得说 文字 打印 清晰\",\"品相 很 好 书页 质量 没得说 文字 打印 清晰\",\"品相 很 好 书页 质量 没得说 文字 打印 清晰\",\"书 很 新 印刷 清楚 页面 折痕 较 少\",\"1 书本 印刷 质量上乘 没有 出现 任何 印刷错误 字迹 和 图案 都 非常 清晰 书本 纸质 非常 好 没有 那种 薄薄的 感觉 n2 内容 丰富 上 手 难度 不高 通俗易懂\",\"品相 很 好 书页 质量 没得说 文字 打印 清晰\",\"1 书本 印刷 质量上乘 没有 出现 任何 印刷错误 字迹 和 图案 都 非常 清晰 书本 纸质 非常 好 没有 那种 薄薄的 感觉 n2 内容 丰富 上 手 难度 不高 通俗易懂\",null],\"marker\":{\"opacity\":0.5,\"size\":5},\"mode\":\"markers+text\",\"name\":\"25_n2__\",\"text\":[\"\",\"\",\"\",\"\",\"\",\"\",\"\",\"\",\"\",\"\",\"\",\"\",\"\",\"\",\"\",\"\",\"\",\"\",\"\",\"\",\"25_n2__\"],\"textfont\":{\"size\":12},\"x\":[16.261713,16.319397,16.302141,16.252993,16.301682,16.261469,16.282238,16.244383,16.280987,16.303835,16.291449,16.253487,16.302326,16.256319,16.271736,16.277157,16.316757,16.270395,16.258621,16.26921,16.278915],\"y\":[9.81395,9.871693,9.854347,9.805406,9.855161,9.814151,9.83457,9.796765,9.833239,9.856028,9.843688,9.80574,9.854452,9.808554,9.823985,9.829325,9.868887,9.822607,9.810917,9.821453,9.831245],\"type\":\"scattergl\"},{\"hoverinfo\":\"text\",\"hovertext\":[\"很 好 啊 大神 力作 值得 细读\",\"很 好 啊 大神 力作 值得 细读\",\"很 好 啊 大神 力作 值得 细读\",\"买来 参考 参考 应该 挺不错 吧 我 觉得 大家 可以 试试 毕竟 大牛 作品\",\"整体 上 不错 值得 好好 读读\",\"买来 参考 参考 应该 挺不错 吧 我 觉得 大家 可以 试试 毕竟 大牛 作品\",\"整体 上 不错 值得 好好 读读\",\"买来 参考 参考 应该 挺不错 吧 我 觉得 大家 可以 试试 毕竟 大牛 作品\",\"很 好 啊 大神 力作 值得 细读\",\"很 好 啊 大神 力作 值得 细读\",\"很 好 啊 大神 力作 值得 细读\",\"买来 参考 参考 应该 挺不错 吧 我 觉得 大家 可以 试试 毕竟 大牛 作品\",\"很 好 啊 大神 力作 值得 细读\",\"整体 上 不错 值得 好好 读读\",\"买来 参考 参考 应该 挺不错 吧 我 觉得 大家 可以 试试 毕竟 大牛 作品\",\"很 好 啊 大神 力作 值得 细读\",\"很 好 啊 大神 力作 值得 细读\",\"整体 上 不错 值得 好好 读读\",\"很 好 啊 大神 力作 值得 细读\",\"整体 上 不错 值得 好好 读读\",null],\"marker\":{\"opacity\":0.5,\"size\":5},\"mode\":\"markers+text\",\"name\":\"26___\",\"text\":[\"\",\"\",\"\",\"\",\"\",\"\",\"\",\"\",\"\",\"\",\"\",\"\",\"\",\"\",\"\",\"\",\"\",\"\",\"\",\"\",\"26___\"],\"textfont\":{\"size\":12},\"x\":[29.107803,29.123861,29.084742,29.084698,29.068222,29.086487,29.062862,29.07588,29.090479,29.093988,29.094156,29.086508,29.083164,29.075151,29.086493,29.098763,29.08482,29.058079,29.101597,29.074442,29.086111],\"y\":[-5.7808704,-5.7969313,-5.757768,-5.757768,-5.7412424,-5.7595453,-5.735886,-5.748939,-5.763546,-5.767039,-5.7672024,-5.759564,-5.7562246,-5.748167,-5.7595506,-5.7717104,-5.7578616,-5.731087,-5.774651,-5.7474585,-5.759151],\"type\":\"scattergl\"},{\"hoverinfo\":\"text\",\"hovertext\":[\"非常 好 一 本书 值得 购买 一定 要 买 哦 不能 错过\",\"TcpIp 这 本书 是 一本 图解 我 和 另外 一 本书 一起 买 整体 来说 特别 不错 价格 整体 来说 还 都 可以 祝 卖家 生意兴隆 越来越 好 再见 了\",\"非常 好 一 本书 值得 购买 一定 要 买 哦 不能 错过\",\"TcpIp 这 本书 是 一本 图解 我 和 另外 一 本书 一起 买 整体 来说 特别 不错 价格 整体 来说 还 都 可以 祝 卖家 生意兴隆 越来越 好 再见 了\",\"很 不错 一 本书 很 早就 期待 出版 了 这 不 看到 就 买 了 一本\",\"TcpIp 这 本书 是 一本 图解 我 和 另外 一 本书 一起 买 整体 来说 特别 不错 价格 整体 来说 还 都 可以 祝 卖家 生意兴隆 越来越 好 再见 了\",\"TcpIp 这 本书 是 一本 图解 我 和 另外 一 本书 一起 买 整体 来说 特别 不错 价格 整体 来说 还 都 可以 祝 卖家 生意兴隆 越来越 好 再见 了\",\"书 很 不错 活动 买 优惠 力度 非常 大 比较满意 一次 购物\",\"很 不错 一 本书 很 早就 期待 出版 了 这 不 看到 就 买 了 一本\",\"非常 好 一 本书 值得 购买 一定 要 买 哦 不能 错过\",\"非常 好 一 本书 值得 购买 一定 要 买 哦 不能 错过\",\"书 很 不错 活动 买 优惠 力度 非常 大 比较满意 一次 购物\",\"书 很 不错 活动 买 优惠 力度 非常 大 比较满意 一次 购物\",\"很 不错 一 本书 很 早就 期待 出版 了 这 不 看到 就 买 了 一本\",\"TcpIp 这 本书 是 一本 图解 我 和 另外 一 本书 一起 买 整体 来说 特别 不错 价格 整体 来说 还 都 可以 祝 卖家 生意兴隆 越来越 好 再见 了\",\"书 很 不错 活动 买 优惠 力度 非常 大 比较满意 一次 购物\",\"很 不错 一 本书 很 早就 期待 出版 了 这 不 看到 就 买 了 一本\",\"很 不错 一 本书 很 早就 期待 出版 了 这 不 看到 就 买 了 一本\",\"非常 好 一 本书 值得 购买 一定 要 买 哦 不能 错过\",\"书 很 不错 活动 买 优惠 力度 非常 大 比较满意 一次 购物\",null],\"marker\":{\"opacity\":0.5,\"size\":5},\"mode\":\"markers+text\",\"name\":\"27_tcpip__\",\"text\":[\"\",\"\",\"\",\"\",\"\",\"\",\"\",\"\",\"\",\"\",\"\",\"\",\"\",\"\",\"\",\"\",\"\",\"\",\"\",\"\",\"27_tcpip__\"],\"textfont\":{\"size\":12},\"x\":[-6.954128,-6.9619727,-6.989844,-6.9685965,-6.9773116,-6.9936423,-6.975939,-6.9702272,-6.9583616,-6.9575315,-6.9675403,-6.970948,-6.971846,-6.961093,-6.968556,-6.97701,-6.9510717,-6.953984,-6.9989376,-6.9751325,-6.9701834],\"y\":[7.743024,7.7349515,7.7072763,7.7284803,7.719771,7.703293,7.7210994,7.7268085,7.7386966,7.739535,7.729612,7.7260776,7.7251716,7.7359085,7.7284675,7.719983,7.7459297,7.7430806,7.6979094,7.721916,7.7268496],\"type\":\"scattergl\"},{\"hoverinfo\":\"text\",\"hovertext\":[\"质量 好 ▽ 发货 快 赞 ≧ ▽ ≦\",\"质量 好 ▽ 发货 快 赞 ≧ ▽ ≦\",\"大牌 质量 信得过 味道 好极了\",\"质量 好 ▽ 发货 快 赞 ≧ ▽ ≦\",\"质量 好 ▽ 发货 快 赞 ≧ ▽ ≦\",\"大牌 质量 信得过 味道 好极了\",\"质量 好 ▽ 发货 快 赞 ≧ ▽ ≦\",\"书 质量 很 好  颜色 好\",\"书 质量 很 好  颜色 好\",\"大牌 质量 信得过 味道 好极了\",\"书 质量 很 好  颜色 好\",\"质量 好 ▽ 发货 快 赞 ≧ ▽ ≦\",\"质量 好 ▽ 发货 快 赞 ≧ ▽ ≦\",\"大牌 质量 信得过 味道 好极了\",\"书 质量 很 好  颜色 好\",\"质量 好 ▽ 发货 快 赞 ≧ ▽ ≦\",\"质量 好 ▽ 发货 快 赞 ≧ ▽ ≦\",\"质量 好 ▽ 发货 快 赞 ≧ ▽ ≦\",\"大牌 质量 信得过 味道 好极了\",\"书 质量 很 好  颜色 好\",null],\"marker\":{\"opacity\":0.5,\"size\":5},\"mode\":\"markers+text\",\"name\":\"28___\",\"text\":[\"\",\"\",\"\",\"\",\"\",\"\",\"\",\"\",\"\",\"\",\"\",\"\",\"\",\"\",\"\",\"\",\"\",\"\",\"\",\"\",\"28___\"],\"textfont\":{\"size\":12},\"x\":[17.430557,17.432953,13.409993,17.430914,17.43125,13.410054,17.430641,13.409954,13.410056,13.410011,13.409084,17.434853,17.430176,13.409994,13.410065,17.431078,17.431007,17.430578,13.410021,13.41001,15.420662],\"y\":[14.602983,14.600933,-0.6845072,14.602676,14.602347,-0.68456113,14.602972,-0.6845652,-0.68454695,-0.68464226,-0.68663466,14.598972,14.603373,-0.68452203,-0.6845177,14.602522,14.602604,14.602959,-0.6845074,-0.6845617,6.9587393],\"type\":\"scattergl\"},{\"hoverinfo\":\"text\",\"hovertext\":[\"书本 质量 很 不错                       都 是 原封 书 内容 是 机器 学习 方面 内容 讲 也 很 不错 由于 是 一批 书 一起 买 就 一起 拍 了\",\"书本 质量 很 不错                       都 是 原封 书 内容 是 机器 学习 方面 内容 讲 也 很 不错 由于 是 一批 书 一起 买 就 一起 拍 了\",\"书本 质量 很 不错                       都 是 原封 书 内容 是 机器 学习 方面 内容 讲 也 很 不错 由于 是 一批 书 一起 买 就 一起 拍 了\",\"这 本书 现在 已经 在 江湖 上 有 了 绰号 那 就是 蒲公英 书 邱锡鹏 是 中科大 少年班 毕业 非常 聪明 但 没有 想到 书写 也 非常适合 入门者 可以 说 是 浅入 深出 书 排版 用 橙色 和 黄色 标注 了 关键 内容 体验 很 不错 这 让 我 很 惊讶 通常 来讲 机械工程 出版社 东西 都 挺 粗 非常 令 我 惊讶 是 这 本书 还 采用 了 新式 标点符号 用法 引号 和 引号 之间 书名号 和 书名号 之间 都 取消 了 顿号 看 非常 舒服\",\"业界 第一本 AI 测试 著作 干货 挺 多 质量 很 好 给 技术 部门 买 了 5 本 好好 拜读 学习 一下\",\"书本 质量 很 不错                       都 是 原封 书 内容 是 机器 学习 方面 内容 讲 也 很 不错 由于 是 一批 书 一起 买 就 一起 拍 了\",\"业界 第一本 AI 测试 著作 干货 挺 多 质量 很 好 给 技术 部门 买 了 5 本 好好 拜读 学习 一下\",\"业界 第一本 AI 测试 著作 干货 挺 多 质量 很 好 给 技术 部门 买 了 5 本 好好 拜读 学习 一下\",\"业界 第一本 AI 测试 著作 干货 挺 多 质量 很 好 给 技术 部门 买 了 5 本 好好 拜读 学习 一下\",\"业界 第一本 AI 测试 著作 干货 挺 多 质量 很 好 给 技术 部门 买 了 5 本 好好 拜读 学习 一下\",\"这 本书 现在 已经 在 江湖 上 有 了 绰号 那 就是 蒲公英 书 邱锡鹏 是 中科大 少年班 毕业 非常 聪明 但 没有 想到 书写 也 非常适合 入门者 可以 说 是 浅入 深出 书 排版 用 橙色 和 黄色 标注 了 关键 内容 体验 很 不错 这 让 我 很 惊讶 通常 来讲 机械工程 出版社 东西 都 挺 粗 非常 令 我 惊讶 是 这 本书 还 采用 了 新式 标点符号 用法 引号 和 引号 之间 书名号 和 书名号 之间 都 取消 了 顿号 看 非常 舒服\",\"这 本书 现在 已经 在 江湖 上 有 了 绰号 那 就是 蒲公英 书 邱锡鹏 是 中科大 少年班 毕业 非常 聪明 但 没有 想到 书写 也 非常适合 入门者 可以 说 是 浅入 深出 书 排版 用 橙色 和 黄色 标注 了 关键 内容 体验 很 不错 这 让 我 很 惊讶 通常 来讲 机械工程 出版社 东西 都 挺 粗 非常 令 我 惊讶 是 这 本书 还 采用 了 新式 标点符号 用法 引号 和 引号 之间 书名号 和 书名号 之间 都 取消 了 顿号 看 非常 舒服\",\"业界 第一本 AI 测试 著作 干货 挺 多 质量 很 好 给 技术 部门 买 了 5 本 好好 拜读 学习 一下\",\"业界 第一本 AI 测试 著作 干货 挺 多 质量 很 好 给 技术 部门 买 了 5 本 好好 拜读 学习 一下\",\"这 本书 现在 已经 在 江湖 上 有 了 绰号 那 就是 蒲公英 书 邱锡鹏 是 中科大 少年班 毕业 非常 聪明 但 没有 想到 书写 也 非常适合 入门者 可以 说 是 浅入 深出 书 排版 用 橙色 和 黄色 标注 了 关键 内容 体验 很 不错 这 让 我 很 惊讶 通常 来讲 机械工程 出版社 东西 都 挺 粗 非常 令 我 惊讶 是 这 本书 还 采用 了 新式 标点符号 用法 引号 和 引号 之间 书名号 和 书名号 之间 都 取消 了 顿号 看 非常 舒服\",\"书本 质量 很 不错                       都 是 原封 书 内容 是 机器 学习 方面 内容 讲 也 很 不错 由于 是 一批 书 一起 买 就 一起 拍 了\",\"业界 第一本 AI 测试 著作 干货 挺 多 质量 很 好 给 技术 部门 买 了 5 本 好好 拜读 学习 一下\",\"业界 第一本 AI 测试 著作 干货 挺 多 质量 很 好 给 技术 部门 买 了 5 本 好好 拜读 学习 一下\",\"这 本书 现在 已经 在 江湖 上 有 了 绰号 那 就是 蒲公英 书 邱锡鹏 是 中科大 少年班 毕业 非常 聪明 但 没有 想到 书写 也 非常适合 入门者 可以 说 是 浅入 深出 书 排版 用 橙色 和 黄色 标注 了 关键 内容 体验 很 不错 这 让 我 很 惊讶 通常 来讲 机械工程 出版社 东西 都 挺 粗 非常 令 我 惊讶 是 这 本书 还 采用 了 新式 标点符号 用法 引号 和 引号 之间 书名号 和 书名号 之间 都 取消 了 顿号 看 非常 舒服\",\"业界 第一本 AI 测试 著作 干货 挺 多 质量 很 好 给 技术 部门 买 了 5 本 好好 拜读 学习 一下\",null],\"marker\":{\"opacity\":0.5,\"size\":5},\"mode\":\"markers+text\",\"name\":\"29_ai__\",\"text\":[\"\",\"\",\"\",\"\",\"\",\"\",\"\",\"\",\"\",\"\",\"\",\"\",\"\",\"\",\"\",\"\",\"\",\"\",\"\",\"\",\"29_ai__\"],\"textfont\":{\"size\":12},\"x\":[-5.711929,-5.737513,-5.722752,-5.705629,-4.000147,-5.730277,-4.000162,-4.0001807,-4.0001545,-4.0001326,-5.705148,-5.7099457,-4.0001855,-4.000182,-5.6962166,-5.7418027,-4.0001845,-4.00016,-5.718038,-4.0002685,-4.8590503],\"y\":[-3.076111,-3.0492244,-3.0642867,-3.0802238,16.762402,-3.0580297,16.762377,16.762442,16.762388,16.762333,-3.0808775,-3.0762217,16.762342,16.762428,-3.0893657,-3.0481925,16.762463,16.761953,-3.0679805,16.762476,6.8466544],\"type\":\"scattergl\"},{\"hoverinfo\":\"text\",\"hovertext\":[\"帮 部门 采购 书籍  出版社 直发  包装 扎实  满意\",\"图书 内容 很 好 实践 案例 讲 和 精细\",\"图书 很 好 包装 精细 内容 详实\",\"图书 内容 很 好 实践 案例 讲 和 精细\",\"图书 内容 很 好 实践 案例 讲 和 精细\",\"图书 内容 很 好 实践 案例 讲 和 精细\",\"帮 部门 采购 书籍  出版社 直发  包装 扎实  满意\",\"帮 部门 采购 书籍  出版社 直发  包装 扎实  满意\",\"图书 很 好 包装 精细 内容 详实\",\"图书 很 好 包装 精细 内容 详实\",\"图书 内容 很 好 实践 案例 讲 和 精细\",\"图书 很 好 包装 精细 内容 详实\",\"图书 很 好 包装 精细 内容 详实\",\"图书 很 好 包装 精细 内容 详实\",\"图书 很 好 包装 精细 内容 详实\",\"帮 部门 采购 书籍  出版社 直发  包装 扎实  满意\",\"图书 很 好 包装 精细 内容 详实\",\"帮 部门 采购 书籍  出版社 直发  包装 扎实  满意\",\"图书 很 好 包装 精细 内容 详实\",\"图书 很 好 包装 精细 内容 详实\",null],\"marker\":{\"opacity\":0.5,\"size\":5},\"mode\":\"markers+text\",\"name\":\"30___\",\"text\":[\"\",\"\",\"\",\"\",\"\",\"\",\"\",\"\",\"\",\"\",\"\",\"\",\"\",\"\",\"\",\"\",\"\",\"\",\"\",\"\",\"30___\"],\"textfont\":{\"size\":12},\"x\":[7.2488327,7.277224,7.261527,7.2825975,7.2539024,7.2954917,7.2563543,7.2576284,7.249704,7.310893,7.270137,7.1428857,7.220945,7.1595435,7.154348,7.2712283,7.148265,7.238473,7.235313,7.140022,7.2337646],\"y\":[1.0993387,1.0834976,1.0904118,1.0731864,1.1021712,1.0615591,1.0937408,1.092311,1.1023017,1.0421524,1.085724,1.1996182,1.1288588,1.1878194,1.1920496,1.0793437,1.1947718,1.0788738,1.1176072,1.2024667,1.1153902],\"type\":\"scattergl\"},{\"hoverinfo\":\"text\",\"hovertext\":[\"书 封面设计 很漂亮 配色 好看 内容 部分 架构 清晰 结构合理 不错 书\",\"非常 好 包装 非常 精美\",\"书 非常 好 内容 详实 包装 精美\",\"非常 好 包装 非常 精美\",\"书 封面设计 很漂亮 配色 好看 内容 部分 架构 清晰 结构合理 不错 书\",\"非常 好 包装 非常 精美\",\"书 封面设计 很漂亮 配色 好看 内容 部分 架构 清晰 结构合理 不错 书\",\"书 封面设计 很漂亮 配色 好看 内容 部分 架构 清晰 结构合理 不错 书\",\"非常 好 包装 非常 精美\",\"非常 好 包装 非常 精美\",\"书 非常 好 内容 详实 包装 精美\",\"非常 好 包装 非常 精美\",\"非常 好 包装 非常 精美\",\"书 非常 好 内容 详实 包装 精美\",\"非常 好 包装 非常 精美\",\"书 非常 好 内容 详实 包装 精美\",\"书 封面设计 很漂亮 配色 好看 内容 部分 架构 清晰 结构合理 不错 书\",\"非常 好 包装 非常 精美\",\"书 非常 好 内容 详实 包装 精美\",null],\"marker\":{\"opacity\":0.5,\"size\":5},\"mode\":\"markers+text\",\"name\":\"31___\",\"text\":[\"\",\"\",\"\",\"\",\"\",\"\",\"\",\"\",\"\",\"\",\"\",\"\",\"\",\"\",\"\",\"\",\"\",\"\",\"\",\"31___\"],\"textfont\":{\"size\":12},\"x\":[7.063152,14.074779,7.0766726,14.074646,7.062599,14.074724,7.040939,7.06749,14.074734,14.074624,7.090013,14.074741,14.074688,7.0788827,14.074261,7.1176553,7.0660763,14.074692,7.047068,10.388551],\"y\":[1.2704498,1.9228421,1.2588458,1.9225427,1.2714406,1.9227465,1.2908005,1.2670082,1.9227694,1.9224949,1.2451572,1.9227132,1.9227257,1.2568599,1.9214698,1.2184184,1.2684743,1.9227335,1.2883803,1.5757302],\"type\":\"scattergl\"},{\"hoverinfo\":\"text\",\"hovertext\":[\"书 很 新 很 好 下次 还会 再 来 机器 学习 冲冲\",\"慢慢 学  慢慢 啃  希望 能 学到 精华\",\"很 好 一本 深度 学习 书 下次 继续 买\",\"慢慢 学  慢慢 啃  希望 能 学到 精华\",\"慢慢 学  慢慢 啃  希望 能 学到 精华\",\"书 很 新 很 好 下次 还会 再 来 机器 学习 冲冲\",\"书 很 新 很 好 下次 还会 再 来 机器 学习 冲冲\",\"很 好 一本 深度 学习 书 下次 继续 买\",\"慢慢 学  慢慢 啃  希望 能 学到 精华\",\"书 很 新 很 好 下次 还会 再 来 机器 学习 冲冲\",\"很 好 一本 深度 学习 书 下次 继续 买\",\"很 好 一本 深度 学习 书 下次 继续 买\",\"很 好 一本 深度 学习 书 下次 继续 买\",\"书 很 新 很 好 下次 还会 再 来 机器 学习 冲冲\",\"慢慢 学  慢慢 啃  希望 能 学到 精华\",\"书 很 新 很 好 下次 还会 再 来 机器 学习 冲冲\",null],\"marker\":{\"opacity\":0.5,\"size\":5},\"mode\":\"markers+text\",\"name\":\"32___\",\"text\":[\"\",\"\",\"\",\"\",\"\",\"\",\"\",\"\",\"\",\"\",\"\",\"\",\"\",\"\",\"\",\"\",\"32___\"],\"textfont\":{\"size\":12},\"x\":[-2.2995787,-1.1810024,-1.1010876,-1.1764008,-1.1575159,-2.299249,-2.290818,-1.1374315,-1.1735854,-2.3114321,-1.1228623,-1.1372837,-1.1653736,-2.3123317,-1.1592052,-2.2997317,-1.5828055],\"y\":[2.0429313,-4.012555,-4.098923,-4.018919,-4.0391746,2.0430553,2.0564878,-4.0606976,-4.022287,2.031137,-4.0766106,-4.06214,-4.0314918,2.0300486,-4.037357,2.0427415,-1.7633595],\"type\":\"scattergl\"},{\"hoverinfo\":\"text\",\"hovertext\":[\"618 活动 购买 活动 很 给 力 很 适合 囤书 物流 速度 很快 618 当天 下单 隔天 就 到 了 书 质量 很 好 满意 给 好评\",\"还 不错  活动 时买 便宜  送货 很快  不受 618 影响\",\"618 活动 购买 活动 很 给 力 很 适合 囤书 物流 速度 很快 618 当天 下单 隔天 就 到 了 书 质量 很 好 满意 给 好评\",\"618 活动 购买 活动 很 给 力 很 适合 囤书 物流 速度 很快 618 当天 下单 隔天 就 到 了 书 质量 很 好 满意 给 好评\",\"618 活动 购买 活动 很 给 力 很 适合 囤书 物流 速度 很快 618 当天 下单 隔天 就 到 了 书 质量 很 好 满意 给 好评\",\"还 不错  活动 时买 便宜  送货 很快  不受 618 影响\",\"618 活动 购买 活动 很 给 力 很 适合 囤书 物流 速度 很快 618 当天 下单 隔天 就 到 了 书 质量 很 好 满意 给 好评\",\"618 活动 购买 活动 很 给 力 很 适合 囤书 物流 速度 很快 618 当天 下单 隔天 就 到 了 书 质量 很 好 满意 给 好评\",\"还 不错  活动 时买 便宜  送货 很快  不受 618 影响\",\"618 活动 购买 活动 很 给 力 很 适合 囤书 物流 速度 很快 618 当天 下单 隔天 就 到 了 书 质量 很 好 满意 给 好评\",\"618 活动 购买 活动 很 给 力 很 适合 囤书 物流 速度 很快 618 当天 下单 隔天 就 到 了 书 质量 很 好 满意 给 好评\",\"618 活动 购买 活动 很 给 力 很 适合 囤书 物流 速度 很快 618 当天 下单 隔天 就 到 了 书 质量 很 好 满意 给 好评\",\"618 活动 购买 活动 很 给 力 很 适合 囤书 物流 速度 很快 618 当天 下单 隔天 就 到 了 书 质量 很 好 满意 给 好评\",\"还 不错  活动 时买 便宜  送货 很快  不受 618 影响\",\"还 不错  活动 时买 便宜  送货 很快  不受 618 影响\",null],\"marker\":{\"opacity\":0.5,\"size\":5},\"mode\":\"markers+text\",\"name\":\"33_618__\",\"text\":[\"\",\"\",\"\",\"\",\"\",\"\",\"\",\"\",\"\",\"\",\"\",\"\",\"\",\"\",\"\",\"33_618__\"],\"textfont\":{\"size\":12},\"x\":[-3.216744,5.0682592,-3.2167168,-3.2179122,-3.2174735,5.0683236,-3.2165658,-3.2166731,5.068295,-3.217196,-3.2197616,-3.2168674,-3.2169387,5.068352,5.068403,-0.45541447],\"y\":[21.371635,14.806228,21.371634,21.372679,21.37226,14.806178,21.37144,21.371582,14.806152,21.372002,21.37422,21.371708,21.37179,14.806189,14.806205,19.18346],\"type\":\"scattergl\"},{\"hoverinfo\":\"text\",\"hovertext\":[\"印刷 内容 物流 都 特别 好\",\"物流 很快 质量 也 很 好 希望 自己 能 有 收获\",\"特别 喜欢 好看 印刷 质量 也好 推荐 很多 人 看 了\",\"特别 喜欢 好看 印刷 质量 也好 推荐 很多 人 看 了\",\"物流 很快 质量 也 很 好 希望 自己 能 有 收获\",\"特别 喜欢 好看 印刷 质量 也好 推荐 很多 人 看 了\",\"特别 喜欢 好看 印刷 质量 也好 推荐 很多 人 看 了\",\"物流 很快 质量 也 很 好 希望 自己 能 有 收获\",\"印刷 内容 物流 都 特别 好\",\"印刷 内容 物流 都 特别 好\",\"物流 很快 质量 也 很 好 希望 自己 能 有 收获\",\"物流 很快 质量 也 很 好 希望 自己 能 有 收获\",\"印刷 内容 物流 都 特别 好\",\"特别 喜欢 好看 印刷 质量 也好 推荐 很多 人 看 了\",\"印刷 内容 物流 都 特别 好\",null],\"marker\":{\"opacity\":0.5,\"size\":5},\"mode\":\"markers+text\",\"name\":\"34___\",\"text\":[\"\",\"\",\"\",\"\",\"\",\"\",\"\",\"\",\"\",\"\",\"\",\"\",\"\",\"\",\"\",\"34___\"],\"textfont\":{\"size\":12},\"x\":[16.82463,8.185602,16.824697,16.825087,8.185631,16.833405,16.824966,8.185597,16.82467,16.82487,8.185524,8.185672,16.819342,16.825247,16.824692,13.945309],\"y\":[5.1530023,16.43212,5.1530437,5.1534743,16.432137,5.16128,5.15336,16.432123,5.152965,5.15325,16.432104,16.432152,5.1473455,5.153606,5.153031,8.912999],\"type\":\"scattergl\"},{\"hoverinfo\":\"text\",\"hovertext\":[\"书 不错 送货 速度 快 搞 活动 时候 买 很 优惠 学习 中\",\"书 不错 送货 速度 快 搞 活动 时候 买 很 优惠 学习 中\",\"书 不错 送货 速度 快 搞 活动 时候 买 很 优惠 学习 中\",\"非常 好 图书 价格 实惠 送货 很快 质量 很 好 非常 满意\",\"书 不错 送货 速度 快 搞 活动 时候 买 很 优惠 学习 中\",\"书 不错 送货 速度 快 搞 活动 时候 买 很 优惠 学习 中\",\"非常 好 图书 价格 实惠 送货 很快 质量 很 好 非常 满意\",\"书 不错 送货 速度 快 搞 活动 时候 买 很 优惠 学习 中\",\"非常 好 图书 价格 实惠 送货 很快 质量 很 好 非常 满意\",\"非常 好 图书 价格 实惠 送货 很快 质量 很 好 非常 满意\",\"书 不错 送货 速度 快 搞 活动 时候 买 很 优惠 学习 中\",\"非常 好 图书 价格 实惠 送货 很快 质量 很 好 非常 满意\",\"书 不错 送货 速度 快 搞 活动 时候 买 很 优惠 学习 中\",\"书 不错 送货 速度 快 搞 活动 时候 买 很 优惠 学习 中\",\"书 不错 送货 速度 快 搞 活动 时候 买 很 优惠 学习 中\",null],\"marker\":{\"opacity\":0.5,\"size\":5},\"mode\":\"markers+text\",\"name\":\"35___\",\"text\":[\"\",\"\",\"\",\"\",\"\",\"\",\"\",\"\",\"\",\"\",\"\",\"\",\"\",\"\",\"\",\"35___\"],\"textfont\":{\"size\":12},\"x\":[11.39662,11.397883,11.396607,12.771852,11.396695,11.396778,12.765841,11.394469,12.766122,12.777283,11.396468,12.724228,11.396546,11.396661,11.396741,11.851386],\"y\":[15.712432,15.713539,15.712398,5.3980007,15.71246,15.712514,5.4043155,15.710956,5.4040365,5.392595,15.7124605,5.4457765,15.712417,15.712518,15.712446,12.277924],\"type\":\"scattergl\"},{\"hoverinfo\":\"text\",\"hovertext\":[\"书 是 正品 质量 很 好 值得 购买\",\"物美价廉 物有所值 非常 值得 推荐\",\"书 是 正品 质量 很 好 值得 购买\",\"书 是 正品 质量 很 好 值得 购买\",\"书 质量 很 好 价格 也 很 实惠 好评\",\"书 质量 很 好 价格 也 很 实惠 好评\",\"物美价廉 物有所值 非常 值得 推荐\",\"书 是 正品 质量 很 好 值得 购买\",\"书 质量 很 好 价格 也 很 实惠 好评\",\"书 质量 很 好 价格 也 很 实惠 好评\",\"物美价廉 物有所值 非常 值得 推荐\",\"物美价廉 物有所值 非常 值得 推荐\",\"书 质量 很 好 价格 也 很 实惠 好评\",\"书 是 正品 质量 很 好 值得 购买\",\"物美价廉 物有所值 非常 值得 推荐\",null],\"marker\":{\"opacity\":0.5,\"size\":5},\"mode\":\"markers+text\",\"name\":\"36___\",\"text\":[\"\",\"\",\"\",\"\",\"\",\"\",\"\",\"\",\"\",\"\",\"\",\"\",\"\",\"\",\"\",\"36___\"],\"textfont\":{\"size\":12},\"x\":[12.748721,12.767963,12.737704,12.758635,12.747915,12.76315,12.767667,12.741794,12.7661,12.752307,12.767369,12.767403,12.752712,12.7193575,12.766899,12.755048],\"y\":[5.4215145,5.402099,5.4324684,5.411658,5.4222894,5.406968,5.4025087,5.42833,5.404059,5.417847,5.4028025,5.4027395,5.417388,5.45076,5.4032106,5.4151096],\"type\":\"scattergl\"},{\"hoverinfo\":\"text\",\"hovertext\":[\"图灵 出品 书籍 图解 教程 web 开发 必备 书籍 涵盖 了 相关 技术 新 方向 包含 了 172 张 图解 协议 涉及 web 安全 新 技术 动向 属于 经典 指南 系列 作者 是 日本 人 内容 通俗易懂 有图 有 案例 很 容易接受 半价 买入 相当 实惠 hellip\",\"图灵 出品 书籍 图解 教程 web 开发 必备 书籍 涵盖 了 相关 技术 新 方向 包含 了 172 张 图解 协议 涉及 web 安全 新 技术 动向 属于 经典 指南 系列 作者 是 日本 人 内容 通俗易懂 有图 有 案例 很 容易接受 半价 买入 相当 实惠 hellip\",\"产品 与 原图 相符 收到 这 本书 塑料 外包装 稍 有 破损 但 不 影响 全新 非常 干净 无 折痕 破损 纸质 非常 好 摸 起来 特别 舒服 可以 有 一个 很 好 学习 体验 买 新书 不买 二手书 不 就 图 一个 质量 吗 如果 注重 舒适感 以及 手感 人 推荐 买 这 本书\",\"书 不错 包装 也 很 完整 快递 袋 终于 换成 泡沫 袋 了 拿到 手 几乎 没有 磕碰 吧 比较满意 然后 谈谈 这 本事 看法 吧 起码 一起 下单 了 两本 另外 一 本书 是 Pytorch 深度 学习 相比 那本书 这 本书 好太多 了 虽然 这 本书 讲 也 不是 特别 全 但是 还是 比较 适合 大多数 小伙伴 入门 Pytorch 其一 这 本书 很 新 四月份 出版 所以 内容 采用 也 是 1.3 版本 相对而言 好 很多 了 其二 这 本书 讲解 通俗易懂 而且 有 浅 有 深 很 有 层次感 也 讲解 了 很多 详细 细节 特别 是 第二章 讲解 Pytorch 框架 时候 讲解 特别 清晰 对 初学者 帮助 特别 多 作者 写作 功底 也 是 很 高 是 个 大神 好 了 不 说 了 学习 学习\",\"书 不错 包装 也 很 完整 快递 袋 终于 换成 泡沫 袋 了 拿到 手 几乎 没有 磕碰 吧 比较满意 然后 谈谈 这 本事 看法 吧 起码 一起 下单 了 两本 另外 一 本书 是 Pytorch 深度 学习 相比 那本书 这 本书 好太多 了 虽然 这 本书 讲 也 不是 特别 全 但是 还是 比较 适合 大多数 小伙伴 入门 Pytorch 其一 这 本书 很 新 四月份 出版 所以 内容 采用 也 是 1.3 版本 相对而言 好 很多 了 其二 这 本书 讲解 通俗易懂 而且 有 浅 有 深 很 有 层次感 也 讲解 了 很多 详细 细节 特别 是 第二章 讲解 Pytorch 框架 时候 讲解 特别 清晰 对 初学者 帮助 特别 多 作者 写作 功底 也 是 很 高 是 个 大神 好 了 不 说 了 学习 学习\",\"书 不错 包装 也 很 完整 快递 袋 终于 换成 泡沫 袋 了 拿到 手 几乎 没有 磕碰 吧 比较满意 然后 谈谈 这 本事 看法 吧 起码 一起 下单 了 两本 另外 一 本书 是 Pytorch 深度 学习 相比 那本书 这 本书 好太多 了 虽然 这 本书 讲 也 不是 特别 全 但是 还是 比较 适合 大多数 小伙伴 入门 Pytorch 其一 这 本书 很 新 四月份 出版 所以 内容 采用 也 是 1.3 版本 相对而言 好 很多 了 其二 这 本书 讲解 通俗易懂 而且 有 浅 有 深 很 有 层次感 也 讲解 了 很多 详细 细节 特别 是 第二章 讲解 Pytorch 框架 时候 讲解 特别 清晰 对 初学者 帮助 特别 多 作者 写作 功底 也 是 很 高 是 个 大神 好 了 不 说 了 学习 学习\",\"产品 与 原图 相符 收到 这 本书 塑料 外包装 稍 有 破损 但 不 影响 全新 非常 干净 无 折痕 破损 纸质 非常 好 摸 起来 特别 舒服 可以 有 一个 很 好 学习 体验 买 新书 不买 二手书 不 就 图 一个 质量 吗 如果 注重 舒适感 以及 手感 人 推荐 买 这 本书\",\"书 不错 包装 也 很 完整 快递 袋 终于 换成 泡沫 袋 了 拿到 手 几乎 没有 磕碰 吧 比较满意 然后 谈谈 这 本事 看法 吧 起码 一起 下单 了 两本 另外 一 本书 是 Pytorch 深度 学习 相比 那本书 这 本书 好太多 了 虽然 这 本书 讲 也 不是 特别 全 但是 还是 比较 适合 大多数 小伙伴 入门 Pytorch 其一 这 本书 很 新 四月份 出版 所以 内容 采用 也 是 1.3 版本 相对而言 好 很多 了 其二 这 本书 讲解 通俗易懂 而且 有 浅 有 深 很 有 层次感 也 讲解 了 很多 详细 细节 特别 是 第二章 讲解 Pytorch 框架 时候 讲解 特别 清晰 对 初学者 帮助 特别 多 作者 写作 功底 也 是 很 高 是 个 大神 好 了 不 说 了 学习 学习\",\"产品 与 原图 相符 收到 这 本书 塑料 外包装 稍 有 破损 但 不 影响 全新 非常 干净 无 折痕 破损 纸质 非常 好 摸 起来 特别 舒服 可以 有 一个 很 好 学习 体验 买 新书 不买 二手书 不 就 图 一个 质量 吗 如果 注重 舒适感 以及 手感 人 推荐 买 这 本书\",\"图灵 出品 书籍 图解 教程 web 开发 必备 书籍 涵盖 了 相关 技术 新 方向 包含 了 172 张 图解 协议 涉及 web 安全 新 技术 动向 属于 经典 指南 系列 作者 是 日本 人 内容 通俗易懂 有图 有 案例 很 容易接受 半价 买入 相当 实惠 hellip\",\"图灵 出品 书籍 图解 教程 web 开发 必备 书籍 涵盖 了 相关 技术 新 方向 包含 了 172 张 图解 协议 涉及 web 安全 新 技术 动向 属于 经典 指南 系列 作者 是 日本 人 内容 通俗易懂 有图 有 案例 很 容易接受 半价 买入 相当 实惠 hellip\",\"书 不错 包装 也 很 完整 快递 袋 终于 换成 泡沫 袋 了 拿到 手 几乎 没有 磕碰 吧 比较满意 然后 谈谈 这 本事 看法 吧 起码 一起 下单 了 两本 另外 一 本书 是 Pytorch 深度 学习 相比 那本书 这 本书 好太多 了 虽然 这 本书 讲 也 不是 特别 全 但是 还是 比较 适合 大多数 小伙伴 入门 Pytorch 其一 这 本书 很 新 四月份 出版 所以 内容 采用 也 是 1.3 版本 相对而言 好 很多 了 其二 这 本书 讲解 通俗易懂 而且 有 浅 有 深 很 有 层次感 也 讲解 了 很多 详细 细节 特别 是 第二章 讲解 Pytorch 框架 时候 讲解 特别 清晰 对 初学者 帮助 特别 多 作者 写作 功底 也 是 很 高 是 个 大神 好 了 不 说 了 学习 学习\",\"图灵 出品 书籍 图解 教程 web 开发 必备 书籍 涵盖 了 相关 技术 新 方向 包含 了 172 张 图解 协议 涉及 web 安全 新 技术 动向 属于 经典 指南 系列 作者 是 日本 人 内容 通俗易懂 有图 有 案例 很 容易接受 半价 买入 相当 实惠 hellip\",\"产品 与 原图 相符 收到 这 本书 塑料 外包装 稍 有 破损 但 不 影响 全新 非常 干净 无 折痕 破损 纸质 非常 好 摸 起来 特别 舒服 可以 有 一个 很 好 学习 体验 买 新书 不买 二手书 不 就 图 一个 质量 吗 如果 注重 舒适感 以及 手感 人 推荐 买 这 本书\",\"产品 与 原图 相符 收到 这 本书 塑料 外包装 稍 有 破损 但 不 影响 全新 非常 干净 无 折痕 破损 纸质 非常 好 摸 起来 特别 舒服 可以 有 一个 很 好 学习 体验 买 新书 不买 二手书 不 就 图 一个 质量 吗 如果 注重 舒适感 以及 手感 人 推荐 买 这 本书\",null],\"marker\":{\"opacity\":0.5,\"size\":5},\"mode\":\"markers+text\",\"name\":\"37_web_172_13\",\"text\":[\"\",\"\",\"\",\"\",\"\",\"\",\"\",\"\",\"\",\"\",\"\",\"\",\"\",\"\",\"\",\"37_web_172_13\"],\"textfont\":{\"size\":12},\"x\":[-10.886611,-10.886565,-10.887725,-10.884122,-10.884803,-10.8847885,-10.885906,-10.883924,-10.88669,-10.888456,-10.887457,-10.880114,-10.902122,-10.873499,-10.879457,-10.885483],\"y\":[14.733125,14.7331505,14.73199,14.735445,14.734929,14.73494,14.733787,14.73581,14.733122,14.731234,14.732253,14.739655,14.717499,14.746194,14.740173,14.7342205],\"type\":\"scattergl\"},{\"hoverinfo\":\"text\",\"hovertext\":[\"书 很 好 包装 也 很 好 没有 破损 也 没有 空白页 纸张 质量 也 不错 开始 学习\",\"包装 很 好 没有 损坏 购物 体验 不错 内容 等 读过 之后 再 做 评价\",\"书 很 好 包装 也 很 好 没有 破损 也 没有 空白页 纸张 质量 也 不错 开始 学习\",\"书 很 好 包装 也 很 好 没有 破损 也 没有 空白页 纸张 质量 也 不错 开始 学习\",\"包装 很 好 没有 损坏 购物 体验 不错 内容 等 读过 之后 再 做 评价\",\"书 很 好 包装 也 很 好 没有 破损 也 没有 空白页 纸张 质量 也 不错 开始 学习\",\"书 很 好 包装 也 很 好 没有 破损 也 没有 空白页 纸张 质量 也 不错 开始 学习\",\"包装 很 好 没有 损坏 购物 体验 不错 内容 等 读过 之后 再 做 评价\",\"书 很 好 包装 也 很 好 没有 破损 也 没有 空白页 纸张 质量 也 不错 开始 学习\",\"书 很 好 包装 也 很 好 没有 破损 也 没有 空白页 纸张 质量 也 不错 开始 学习\",\"书 很 好 包装 也 很 好 没有 破损 也 没有 空白页 纸张 质量 也 不错 开始 学习\",\"书 很 好 包装 也 很 好 没有 破损 也 没有 空白页 纸张 质量 也 不错 开始 学习\",\"包装 很 好 没有 损坏 购物 体验 不错 内容 等 读过 之后 再 做 评价\",\"包装 很 好 没有 损坏 购物 体验 不错 内容 等 读过 之后 再 做 评价\",\"书 很 好 包装 也 很 好 没有 破损 也 没有 空白页 纸张 质量 也 不错 开始 学习\",null],\"marker\":{\"opacity\":0.5,\"size\":5},\"mode\":\"markers+text\",\"name\":\"38___\",\"text\":[\"\",\"\",\"\",\"\",\"\",\"\",\"\",\"\",\"\",\"\",\"\",\"\",\"\",\"\",\"\",\"38___\"],\"textfont\":{\"size\":12},\"x\":[1.0247563,1.038382,1.018776,1.0421861,1.0321138,1.0616803,1.0351633,1.0629582,1.0341597,1.0340482,1.0265013,1.0261642,1.0480068,1.039087,1.0376014,1.0374391],\"y\":[18.557829,18.571362,18.551922,18.57522,18.565142,18.5947,18.56825,18.595848,18.56712,18.56709,18.559542,18.559067,18.58095,18.572067,18.57064,18.570448],\"type\":\"scattergl\"},{\"hoverinfo\":\"text\",\"hovertext\":[\"非常 赞 一 本书 非常适合 初学者\",\"非常 赞 一 本书 非常适合 初学者\",\"很 专业 一 本书 对于 程序员 来说 很 有 价值\",\"非常 赞 一 本书 非常适合 初学者\",\"很 专业 一 本书 对于 程序员 来说 很 有 价值\",\"很 专业 一 本书 对于 程序员 来说 很 有 价值\",\"非常 赞 一 本书 非常适合 初学者\",\"非常 好 书 之前 忘 了 评价\",\"非常 好 书 之前 忘 了 评价\",\"非常 好 书 之前 忘 了 评价\",\"非常 好 书 之前 忘 了 评价\",\"非常 好 书 之前 忘 了 评价\",\"很 专业 一 本书 对于 程序员 来说 很 有 价值\",\"很 专业 一 本书 对于 程序员 来说 很 有 价值\",\"非常 赞 一 本书 非常适合 初学者\",null],\"marker\":{\"opacity\":0.5,\"size\":5},\"mode\":\"markers+text\",\"name\":\"39___\",\"text\":[\"\",\"\",\"\",\"\",\"\",\"\",\"\",\"\",\"\",\"\",\"\",\"\",\"\",\"\",\"\",\"39___\"],\"textfont\":{\"size\":12},\"x\":[2.741771,2.7381592,2.7466607,2.746439,2.745789,2.7461114,2.7492552,2.7271514,2.717633,2.7406604,2.7184777,2.7354698,2.75228,2.7452846,2.739058,2.7393467],\"y\":[-10.930017,-10.926508,-10.93471,-10.934665,-10.93407,-10.934333,-10.937577,-10.91549,-10.905872,-10.929053,-10.906776,-10.923852,-10.940473,-10.933604,-10.927182,-10.927613],\"type\":\"scattergl\"},{\"hoverinfo\":\"text\",\"hovertext\":[\"很 好 适合 想 学 点儿 技术 产品 人 简单 易懂\",\"非常 不错 一本 好书 学习 新 技术 好帮手 值得 拥有 一次 不错 购物 体验\",\"很 好 适合 想 学 点儿 技术 产品 人 简单 易懂\",\"非常 不错 一本 好书 学习 新 技术 好帮手 值得 拥有 一次 不错 购物 体验\",\"很 好 适合 想 学 点儿 技术 产品 人 简单 易懂\",\"很 好 适合 想 学 点儿 技术 产品 人 简单 易懂\",\"图书 质量 很 好 也 很 适合 新手 学习\",\"非常 不错 一本 好书 学习 新 技术 好帮手 值得 拥有 一次 不错 购物 体验\",\"图书 质量 很 好 也 很 适合 新手 学习\",\"图书 质量 很 好 也 很 适合 新手 学习\",\"很 好 适合 想 学 点儿 技术 产品 人 简单 易懂\",\"非常 不错 一本 好书 学习 新 技术 好帮手 值得 拥有 一次 不错 购物 体验\",\"图书 质量 很 好 也 很 适合 新手 学习\",\"图书 质量 很 好 也 很 适合 新手 学习\",\"非常 不错 一本 好书 学习 新 技术 好帮手 值得 拥有 一次 不错 购物 体验\",null],\"marker\":{\"opacity\":0.5,\"size\":5},\"mode\":\"markers+text\",\"name\":\"40___\",\"text\":[\"\",\"\",\"\",\"\",\"\",\"\",\"\",\"\",\"\",\"\",\"\",\"\",\"\",\"\",\"\",\"40___\"],\"textfont\":{\"size\":12},\"x\":[-0.058649935,-0.067689836,-0.09321325,-0.11527638,-0.07853083,-0.0868598,-0.2397317,-0.09866693,-0.23002228,-0.25952557,-0.08768842,-0.09922108,-0.22152247,-0.2529835,-0.13022497,-0.14132047],\"y\":[-5.1931286,-5.17937,-5.161935,-5.142172,-5.174832,-5.1676135,-5.026126,-5.156781,-5.031651,-5.007877,-5.166925,-5.1627836,-5.041311,-5.0137224,-5.1257863,-5.116801],\"type\":\"scattergl\"},{\"hoverinfo\":\"text\",\"hovertext\":[\"这 套书 是 和 程序员 数学 那套 一起 买 同样 都 是 结城浩 作品 结城浩 书籍 无论是 程序员 系列 还是 数学 系列 都 很 不错 图解 系列 也 看过 几本 日本 作者 书籍 普遍 都 非常 风趣 易懂 密码学 大多数 时候 都 很 复杂 枯燥 结城浩 这 本书 却 非常 通俗易懂 结合 大量 配图 将 密码学 带入 每个 人 面前 好评\",\"书 质量 很 不错 身边 很多 朋友 都 买 了 这 本书 都 说 不错 里面 关于 机器 学习 原理 和 算法 都 讲 很 好 努 努力 把 书 看 完 争取 找个 好 工作 再说 一句 物流 很快 第一天 下单 第二天 就 到 了 服务 也 很 好 好评\",\"书 质量 非常 好 买 了 看起来 很 舒服 昨晚 下单 今 早就 送到 了 非常 快 这 本书 对 推荐 系统 讲解 非常 好 从 基础 协同 过滤 一直 到 基于 深度 学习 DIN 模型 整个 框架 讲 很 详细 是 一本 极好 书 非常 推荐 购买 加油 看起来\",\"这 套书 是 和 程序员 数学 那套 一起 买 同样 都 是 结城浩 作品 结城浩 书籍 无论是 程序员 系列 还是 数学 系列 都 很 不错 图解 系列 也 看过 几本 日本 作者 书籍 普遍 都 非常 风趣 易懂 密码学 大多数 时候 都 很 复杂 枯燥 结城浩 这 本书 却 非常 通俗易懂 结合 大量 配图 将 密码学 带入 每个 人 面前 好评\",\"这 套书 是 和 程序员 数学 那套 一起 买 同样 都 是 结城浩 作品 结城浩 书籍 无论是 程序员 系列 还是 数学 系列 都 很 不错 图解 系列 也 看过 几本 日本 作者 书籍 普遍 都 非常 风趣 易懂 密码学 大多数 时候 都 很 复杂 枯燥 结城浩 这 本书 却 非常 通俗易懂 结合 大量 配图 将 密码学 带入 每个 人 面前 好评\",\"这 套书 是 和 程序员 数学 那套 一起 买 同样 都 是 结城浩 作品 结城浩 书籍 无论是 程序员 系列 还是 数学 系列 都 很 不错 图解 系列 也 看过 几本 日本 作者 书籍 普遍 都 非常 风趣 易懂 密码学 大多数 时候 都 很 复杂 枯燥 结城浩 这 本书 却 非常 通俗易懂 结合 大量 配图 将 密码学 带入 每个 人 面前 好评\",\"书 质量 很 不错 身边 很多 朋友 都 买 了 这 本书 都 说 不错 里面 关于 机器 学习 原理 和 算法 都 讲 很 好 努 努力 把 书 看 完 争取 找个 好 工作 再说 一句 物流 很快 第一天 下单 第二天 就 到 了 服务 也 很 好 好评\",\"书 质量 非常 好 买 了 看起来 很 舒服 昨晚 下单 今 早就 送到 了 非常 快 这 本书 对 推荐 系统 讲解 非常 好 从 基础 协同 过滤 一直 到 基于 深度 学习 DIN 模型 整个 框架 讲 很 详细 是 一本 极好 书 非常 推荐 购买 加油 看起来\",\"书 质量 很 不错 身边 很多 朋友 都 买 了 这 本书 都 说 不错 里面 关于 机器 学习 原理 和 算法 都 讲 很 好 努 努力 把 书 看 完 争取 找个 好 工作 再说 一句 物流 很快 第一天 下单 第二天 就 到 了 服务 也 很 好 好评\",\"书 质量 很 不错 身边 很多 朋友 都 买 了 这 本书 都 说 不错 里面 关于 机器 学习 原理 和 算法 都 讲 很 好 努 努力 把 书 看 完 争取 找个 好 工作 再说 一句 物流 很快 第一天 下单 第二天 就 到 了 服务 也 很 好 好评\",\"这 套书 是 和 程序员 数学 那套 一起 买 同样 都 是 结城浩 作品 结城浩 书籍 无论是 程序员 系列 还是 数学 系列 都 很 不错 图解 系列 也 看过 几本 日本 作者 书籍 普遍 都 非常 风趣 易懂 密码学 大多数 时候 都 很 复杂 枯燥 结城浩 这 本书 却 非常 通俗易懂 结合 大量 配图 将 密码学 带入 每个 人 面前 好评\",\"书 质量 很 不错 身边 很多 朋友 都 买 了 这 本书 都 说 不错 里面 关于 机器 学习 原理 和 算法 都 讲 很 好 努 努力 把 书 看 完 争取 找个 好 工作 再说 一句 物流 很快 第一天 下单 第二天 就 到 了 服务 也 很 好 好评\",\"书 质量 非常 好 买 了 看起来 很 舒服 昨晚 下单 今 早就 送到 了 非常 快 这 本书 对 推荐 系统 讲解 非常 好 从 基础 协同 过滤 一直 到 基于 深度 学习 DIN 模型 整个 框架 讲 很 详细 是 一本 极好 书 非常 推荐 购买 加油 看起来\",\"书 质量 非常 好 买 了 看起来 很 舒服 昨晚 下单 今 早就 送到 了 非常 快 这 本书 对 推荐 系统 讲解 非常 好 从 基础 协同 过滤 一直 到 基于 深度 学习 DIN 模型 整个 框架 讲 很 详细 是 一本 极好 书 非常 推荐 购买 加油 看起来\",\"书 质量 非常 好 买 了 看起来 很 舒服 昨晚 下单 今 早就 送到 了 非常 快 这 本书 对 推荐 系统 讲解 非常 好 从 基础 协同 过滤 一直 到 基于 深度 学习 DIN 模型 整个 框架 讲 很 详细 是 一本 极好 书 非常 推荐 购买 加油 看起来\",null],\"marker\":{\"opacity\":0.5,\"size\":5},\"mode\":\"markers+text\",\"name\":\"41_din__\",\"text\":[\"\",\"\",\"\",\"\",\"\",\"\",\"\",\"\",\"\",\"\",\"\",\"\",\"\",\"\",\"\",\"41_din__\"],\"textfont\":{\"size\":12},\"x\":[-5.921142,-5.8743305,-5.934691,-5.883351,-5.8803,-5.8655424,-5.8673472,-5.9342494,-5.8973465,-5.9017506,-5.876655,-5.9259825,-5.91514,-5.912769,-5.9167113,-5.900487],\"y\":[-2.890432,-2.9334185,-2.8762999,-2.927291,-2.9307306,-2.9438307,-2.9400759,-2.8787658,-2.9112206,-2.9075832,-2.93367,-2.8840427,-2.8950672,-2.8972044,-2.893244,-2.9095252],\"type\":\"scattergl\"},{\"hoverinfo\":\"text\",\"hovertext\":[\"之前 图书馆 借 来看 了 看 感觉 还 不错 就 买 了 一本 纸张 很 好 很 喜欢\",\"书 纸张 很 厚实 应该 是 正版书 买回来 以后 备用\",\"带 塑封 非常高兴 收到 这样 干净 书 次日 达 很 满意 因为 急用\",\"之前 图书馆 借 来看 了 看 感觉 还 不错 就 买 了 一本 纸张 很 好 很 喜欢\",\"带 塑封 非常高兴 收到 这样 干净 书 次日 达 很 满意 因为 急用\",\"之前 图书馆 借 来看 了 看 感觉 还 不错 就 买 了 一本 纸张 很 好 很 喜欢\",\"书 纸张 很 厚实 应该 是 正版书 买回来 以后 备用\",\"带 塑封 非常高兴 收到 这样 干净 书 次日 达 很 满意 因为 急用\",\"带 塑封 非常高兴 收到 这样 干净 书 次日 达 很 满意 因为 急用\",\"书 纸张 很 厚实 应该 是 正版书 买回来 以后 备用\",\"之前 图书馆 借 来看 了 看 感觉 还 不错 就 买 了 一本 纸张 很 好 很 喜欢\",\"之前 图书馆 借 来看 了 看 感觉 还 不错 就 买 了 一本 纸张 很 好 很 喜欢\",\"书 纸张 很 厚实 应该 是 正版书 买回来 以后 备用\",\"书 纸张 很 厚实 应该 是 正版书 买回来 以后 备用\",\"带 塑封 非常高兴 收到 这样 干净 书 次日 达 很 满意 因为 急用\",null],\"marker\":{\"opacity\":0.5,\"size\":5},\"mode\":\"markers+text\",\"name\":\"42___\",\"text\":[\"\",\"\",\"\",\"\",\"\",\"\",\"\",\"\",\"\",\"\",\"\",\"\",\"\",\"\",\"\",\"42___\"],\"textfont\":{\"size\":12},\"x\":[12.9469,12.947195,12.912866,12.965319,12.942998,12.959323,12.952366,12.945409,12.926222,12.941949,12.935664,12.9439335,12.952342,12.953802,12.930523,12.943789],\"y\":[13.990252,13.989386,14.023485,13.97129,13.993333,13.977056,13.984446,13.990745,14.009919,13.994533,14.000671,13.992407,13.98407,13.982526,14.005716,13.992656],\"type\":\"scattergl\"},{\"hoverinfo\":\"text\",\"hovertext\":[\"京东 买书 很 方便 不错\",\"京东 买书 很 方便 不错\",\"杨 大佬 写 书  支持 支持\",\"京东 买书 很 方便 不错\",\"书 很 好 比 京东 自营 便宜 不少\",\"书 很 好 比 京东 自营 便宜 不少\",\"书 很 好 比 京东 自营 便宜 不少\",\"杨 大佬 写 书  支持 支持\",\"杨 大佬 写 书  支持 支持\",\"京东 买书 很 方便 不错\",\"杨 大佬 写 书  支持 支持\",\"书 很 好 比 京东 自营 便宜 不少\",\"书 很 好 比 京东 自营 便宜 不少\",\"京东 买书 很 方便 不错\",\"杨 大佬 写 书  支持 支持\",null],\"marker\":{\"opacity\":0.5,\"size\":5},\"mode\":\"markers+text\",\"name\":\"43___\",\"text\":[\"\",\"\",\"\",\"\",\"\",\"\",\"\",\"\",\"\",\"\",\"\",\"\",\"\",\"\",\"\",\"43___\"],\"textfont\":{\"size\":12},\"x\":[4.264008,4.2553782,4.272178,4.2592416,4.2171917,4.2573147,4.240863,4.2877526,4.2759085,4.2604394,4.2702456,4.256427,4.261089,4.2437806,4.2652807,4.2591405],\"y\":[-2.6577957,-2.6492934,-2.6661541,-2.653061,-2.6113217,-2.6512542,-2.6347017,-2.6813543,-2.6705072,-2.6543274,-2.664219,-2.650212,-2.6547804,-2.6370924,-2.6592357,-2.6530206],\"type\":\"scattergl\"},{\"hoverinfo\":\"text\",\"hovertext\":[\"第一次 在 京东 上 买 书本 收到 书本 很 喜欢 质量 好 快递 速度 快 下次 还来 hellip\",\"特价 很 划算 书 就是 全新 快递 从 北京 到 上海 也 很快 内容 算 经典 吧\",\"特价 很 划算 书 就是 全新 快递 从 北京 到 上海 也 很快 内容 算 经典 吧\",\"第一次 在 京东 上 买 书本 收到 书本 很 喜欢 质量 好 快递 速度 快 下次 还来 hellip\",\"京东 快递 一如既往 给 力 第一天 下午 下 单 第二天 上午 就 到 了 必备 书籍 内容 讲 很 深入 假期 在家 充电 希望 可以 认真 看 完 学以致用 书 装订 非常 好 印刷 质量 很棒 封面 和 内容 见 附图 书籍 是 人类 进步 阶梯 开始 充电 吧\",\"特价 很 划算 书 就是 全新 快递 从 北京 到 上海 也 很快 内容 算 经典 吧\",\"京东 快递 一如既往 给 力 第一天 下午 下 单 第二天 上午 就 到 了 必备 书籍 内容 讲 很 深入 假期 在家 充电 希望 可以 认真 看 完 学以致用 书 装订 非常 好 印刷 质量 很棒 封面 和 内容 见 附图 书籍 是 人类 进步 阶梯 开始 充电 吧\",\"京东 快递 一如既往 给 力 第一天 下午 下 单 第二天 上午 就 到 了 必备 书籍 内容 讲 很 深入 假期 在家 充电 希望 可以 认真 看 完 学以致用 书 装订 非常 好 印刷 质量 很棒 封面 和 内容 见 附图 书籍 是 人类 进步 阶梯 开始 充电 吧\",\"京东 快递 一如既往 给 力 第一天 下午 下 单 第二天 上午 就 到 了 必备 书籍 内容 讲 很 深入 假期 在家 充电 希望 可以 认真 看 完 学以致用 书 装订 非常 好 印刷 质量 很棒 封面 和 内容 见 附图 书籍 是 人类 进步 阶梯 开始 充电 吧\",\"第一次 在 京东 上 买 书本 收到 书本 很 喜欢 质量 好 快递 速度 快 下次 还来 hellip\",\"第一次 在 京东 上 买 书本 收到 书本 很 喜欢 质量 好 快递 速度 快 下次 还来 hellip\",\"特价 很 划算 书 就是 全新 快递 从 北京 到 上海 也 很快 内容 算 经典 吧\",\"第一次 在 京东 上 买 书本 收到 书本 很 喜欢 质量 好 快递 速度 快 下次 还来 hellip\",\"特价 很 划算 书 就是 全新 快递 从 北京 到 上海 也 很快 内容 算 经典 吧\",\"京东 快递 一如既往 给 力 第一天 下午 下 单 第二天 上午 就 到 了 必备 书籍 内容 讲 很 深入 假期 在家 充电 希望 可以 认真 看 完 学以致用 书 装订 非常 好 印刷 质量 很棒 封面 和 内容 见 附图 书籍 是 人类 进步 阶梯 开始 充电 吧\",null],\"marker\":{\"opacity\":0.5,\"size\":5},\"mode\":\"markers+text\",\"name\":\"44_hellip__\",\"text\":[\"\",\"\",\"\",\"\",\"\",\"\",\"\",\"\",\"\",\"\",\"\",\"\",\"\",\"\",\"\",\"44_hellip__\"],\"textfont\":{\"size\":12},\"x\":[-0.15444362,-0.3026795,-0.2716748,-0.17468226,-0.14798737,-0.2787602,-0.13586803,-0.15129995,-0.1075799,-0.14645489,-0.17506903,-0.27607495,-0.17213671,-0.27326766,-0.15800181,-0.19506541],\"y\":[12.349337,12.206813,12.224611,12.322497,12.266493,12.232113,12.264708,12.279659,12.255717,12.251027,12.342068,12.219534,12.333126,12.238336,12.295454,12.2721],\"type\":\"scattergl\"},{\"hoverinfo\":\"text\",\"hovertext\":[\"好书 ~ 正品 ~ 太好了 ~ 加把劲 学习 ~\",\"不错 书 好好学习 一下\",\"不错 书 好好学习 一下\",\"不错 书 好好学习 一下\",\"不错 书 好好学习 一下\",\"好书 ~ 正品 ~ 太好了 ~ 加把劲 学习 ~\",\"书籍 还好 吧  再 详细 介绍 一下 就 好 了 总体 还 不错\",\"书籍 还好 吧  再 详细 介绍 一下 就 好 了 总体 还 不错\",\"不错 书 好好学习 一下\",\"好书 ~ 正品 ~ 太好了 ~ 加把劲 学习 ~\",\"书籍 还好 吧  再 详细 介绍 一下 就 好 了 总体 还 不错\",\"好书 ~ 正品 ~ 太好了 ~ 加把劲 学习 ~\",\"书籍 还好 吧  再 详细 介绍 一下 就 好 了 总体 还 不错\",\"好书 ~ 正品 ~ 太好了 ~ 加把劲 学习 ~\",\"书籍 还好 吧  再 详细 介绍 一下 就 好 了 总体 还 不错\",null],\"marker\":{\"opacity\":0.5,\"size\":5},\"mode\":\"markers+text\",\"name\":\"45___\",\"text\":[\"\",\"\",\"\",\"\",\"\",\"\",\"\",\"\",\"\",\"\",\"\",\"\",\"\",\"\",\"\",\"45___\"],\"textfont\":{\"size\":12},\"x\":[-0.95858705,-0.9662,-0.95789474,-0.959624,-0.9753269,-0.98134464,-0.98422116,-0.98492974,-0.9883097,-0.989525,-0.9978072,-0.9955127,-0.9845652,-0.9776795,-1.0011361,-0.9801775],\"y\":[-4.2599034,-4.252666,-4.2607327,-4.259785,-4.24316,-4.234048,-4.229863,-4.2296796,-4.229062,-4.2289934,-4.2017055,-4.2389216,-4.2268357,-4.2383685,-4.209585,-4.236221],\"type\":\"scattergl\"},{\"hoverinfo\":\"text\",\"hovertext\":[\"书 很 赞\",\"书 很 赞\",\"很 好 一 本书\",\"很 好 一 本书\",\"很 好 一 本书\",\"书 很 好\",\"书 很 赞\",\"书 很 好\",\"很 好 一 本书\",\"很 好 一 本书\",\"书 很 好\",\"书 很 赞\",\"书 很 赞\",\"书 很 好\",\"书 很 好\",null],\"marker\":{\"opacity\":0.5,\"size\":5},\"mode\":\"markers+text\",\"name\":\"46___\",\"text\":[\"\",\"\",\"\",\"\",\"\",\"\",\"\",\"\",\"\",\"\",\"\",\"\",\"\",\"\",\"\",\"46___\"],\"textfont\":{\"size\":12},\"x\":[17.871464,17.874447,17.860176,17.856138,17.84534,17.869066,17.868612,17.864141,17.863459,17.84394,17.854462,17.840103,17.880754,17.875114,17.867476,17.862312],\"y\":[-12.257218,-12.254172,-12.26855,-12.272582,-12.2834,-12.259529,-12.2601595,-12.264514,-12.265288,-12.284784,-12.274322,-12.288399,-12.248049,-12.253649,-12.261275,-12.266392],\"type\":\"scattergl\"},{\"hoverinfo\":\"text\",\"hovertext\":[\"书 已 收到 简单 翻 了 一下 内容 不错\",\"书 已 收到 简单 翻 了 一下 内容 不错\",\"书 不错 就是 内容 有点 老\",\"书 不错 就是 内容 有点 老\",\"书本 很 好 内容 也 合适\",\"书本 很 好 内容 也 合适\",\"书 已 收到 简单 翻 了 一下 内容 不错\",\"书本 很 好 内容 也 合适\",\"书 不错 就是 内容 有点 老\",\"书 已 收到 简单 翻 了 一下 内容 不错\",\"书本 很 好 内容 也 合适\",\"书 不错 就是 内容 有点 老\",\"书 已 收到 简单 翻 了 一下 内容 不错\",\"书本 很 好 内容 也 合适\",\"书 不错 就是 内容 有点 老\",null],\"marker\":{\"opacity\":0.5,\"size\":5},\"mode\":\"markers+text\",\"name\":\"47___\",\"text\":[\"\",\"\",\"\",\"\",\"\",\"\",\"\",\"\",\"\",\"\",\"\",\"\",\"\",\"\",\"\",\"47___\"],\"textfont\":{\"size\":12},\"x\":[12.039059,12.07287,12.071942,12.101843,12.076334,12.070653,12.037882,12.065088,12.072168,12.075211,12.050486,12.072123,12.059005,12.068331,12.07163,12.066975],\"y\":[-9.774139,-9.74027,-9.741046,-9.7109995,-9.736746,-9.742466,-9.775287,-9.748177,-9.740807,-9.737851,-9.762564,-9.740812,-9.754264,-9.745591,-9.741406,-9.746163],\"type\":\"scattergl\"},{\"hoverinfo\":\"text\",\"hovertext\":[\"非常 好 买得值 物流 也 很快\",\"非常 好 买得值 物流 也 很快\",\"速度 很快 很 愉快 购物\",\"非常 好 买得值 物流 也 很快\",\"速度 很快 很 愉快 购物\",\"非常 好 买得值 物流 也 很快\",\"送货 很快 质量 也 很 好 价格 可以\",\"非常 好 买得值 物流 也 很快\",\"速度 很快 很 愉快 购物\",\"速度 很快 很 愉快 购物\",\"送货 很快 质量 也 很 好 价格 可以\",\"送货 很快 质量 也 很 好 价格 可以\",\"送货 很快 质量 也 很 好 价格 可以\",\"速度 很快 很 愉快 购物\",\"送货 很快 质量 也 很 好 价格 可以\",null],\"marker\":{\"opacity\":0.5,\"size\":5},\"mode\":\"markers+text\",\"name\":\"48___\",\"text\":[\"\",\"\",\"\",\"\",\"\",\"\",\"\",\"\",\"\",\"\",\"\",\"\",\"\",\"\",\"\",\"48___\"],\"textfont\":{\"size\":12},\"x\":[17.083311,17.08304,17.082567,17.0872,17.108774,17.099628,17.090881,17.088808,17.0934,17.087132,17.08142,17.077156,17.087875,17.086103,17.090437,17.088514],\"y\":[22.106085,22.106316,22.106817,22.102234,22.080591,22.089725,22.098455,22.100561,22.095972,22.102247,22.107895,22.112165,22.10141,22.103271,22.098808,22.100836],\"type\":\"scattergl\"},{\"hoverinfo\":\"text\",\"hovertext\":[\"还 没 看\",\"好\",\"henhao\",\"还 没 看\",\"好\",\"好\",\"好\",\"挺 好\",\"好\",\"好\",\"好\",\"还 没 看\",\"还 没 看\",\"还 没 看\",null],\"marker\":{\"opacity\":0.5,\"size\":5},\"mode\":\"markers+text\",\"name\":\"49_henhao__\",\"text\":[\"\",\"\",\"\",\"\",\"\",\"\",\"\",\"\",\"\",\"\",\"\",\"\",\"\",\"\",\"49_henhao__\"],\"textfont\":{\"size\":12},\"x\":[17.988756,17.987215,17.972075,17.989756,18.000847,17.989422,17.978258,17.985662,17.988266,17.985752,17.988182,18.000847,17.988869,17.98895,17.988062],\"y\":[-3.4464626,-3.447987,-3.463115,-3.4453552,-3.4344351,-3.4456594,-3.456735,-3.4499123,-3.446951,-3.4495149,-3.4470205,-3.4344876,-3.4463542,-3.446227,-3.4471586],\"type\":\"scattergl\"},{\"hoverinfo\":\"text\",\"hovertext\":[\"书 质量 和 内容 很 好 ~ tensorflow2.0 官方 推荐 自然 要 买来 读一读 了\",\"众多 大牛 写 一本 关于 强化 学习 各 领域 研究进展 书 个人 觉得 很 不错 已经 开始 阅读 希望 能 学到 更 多 知识\",\"书 质量 和 内容 很 好 ~ tensorflow2.0 官方 推荐 自然 要 买来 读一读 了\",\"书 收到 了 是 正品 书 质量 很 好 内容 讲得 也 很 好 是 入门 深度 学习 一本 不错 图书 好好学习 一下 值得 推荐\",\"众多 大牛 写 一本 关于 强化 学习 各 领域 研究进展 书 个人 觉得 很 不错 已经 开始 阅读 希望 能 学到 更 多 知识\",\"众多 大牛 写 一本 关于 强化 学习 各 领域 研究进展 书 个人 觉得 很 不错 已经 开始 阅读 希望 能 学到 更 多 知识\",\"众多 大牛 写 一本 关于 强化 学习 各 领域 研究进展 书 个人 觉得 很 不错 已经 开始 阅读 希望 能 学到 更 多 知识\",\"众多 大牛 写 一本 关于 强化 学习 各 领域 研究进展 书 个人 觉得 很 不错 已经 开始 阅读 希望 能 学到 更 多 知识\",\"书 质量 和 内容 很 好 ~ tensorflow2.0 官方 推荐 自然 要 买来 读一读 了\",\"书 质量 和 内容 很 好 ~ tensorflow2.0 官方 推荐 自然 要 买来 读一读 了\",\"书 质量 和 内容 很 好 ~ tensorflow2.0 官方 推荐 自然 要 买来 读一读 了\",null],\"marker\":{\"opacity\":0.5,\"size\":5},\"mode\":\"markers+text\",\"name\":\"50_tensorflow20__\",\"text\":[\"\",\"\",\"\",\"\",\"\",\"\",\"\",\"\",\"\",\"\",\"\",\"50_tensorflow20__\"],\"textfont\":{\"size\":12},\"x\":[-3.6367402,-3.5949297,-3.6364381,-3.6333385,-3.6020842,-3.5956323,-3.5984538,-3.5943995,-3.636769,-3.6233501,-3.6395237,-3.6174238],\"y\":[-3.800441,-3.8434722,-3.802218,-3.7712922,-3.8344748,-3.843065,-3.8454394,-3.8449535,-3.8058913,-3.808,-3.800398,-3.8181496],\"type\":\"scattergl\"}],                        {\"template\":{\"data\":{\"barpolar\":[{\"marker\":{\"line\":{\"color\":\"white\",\"width\":0.5},\"pattern\":{\"fillmode\":\"overlay\",\"size\":10,\"solidity\":0.2}},\"type\":\"barpolar\"}],\"bar\":[{\"error_x\":{\"color\":\"rgb(36,36,36)\"},\"error_y\":{\"color\":\"rgb(36,36,36)\"},\"marker\":{\"line\":{\"color\":\"white\",\"width\":0.5},\"pattern\":{\"fillmode\":\"overlay\",\"size\":10,\"solidity\":0.2}},\"type\":\"bar\"}],\"carpet\":[{\"aaxis\":{\"endlinecolor\":\"rgb(36,36,36)\",\"gridcolor\":\"white\",\"linecolor\":\"white\",\"minorgridcolor\":\"white\",\"startlinecolor\":\"rgb(36,36,36)\"},\"baxis\":{\"endlinecolor\":\"rgb(36,36,36)\",\"gridcolor\":\"white\",\"linecolor\":\"white\",\"minorgridcolor\":\"white\",\"startlinecolor\":\"rgb(36,36,36)\"},\"type\":\"carpet\"}],\"choropleth\":[{\"colorbar\":{\"outlinewidth\":1,\"tickcolor\":\"rgb(36,36,36)\",\"ticks\":\"outside\"},\"type\":\"choropleth\"}],\"contourcarpet\":[{\"colorbar\":{\"outlinewidth\":1,\"tickcolor\":\"rgb(36,36,36)\",\"ticks\":\"outside\"},\"type\":\"contourcarpet\"}],\"contour\":[{\"colorbar\":{\"outlinewidth\":1,\"tickcolor\":\"rgb(36,36,36)\",\"ticks\":\"outside\"},\"colorscale\":[[0.0,\"#440154\"],[0.1111111111111111,\"#482878\"],[0.2222222222222222,\"#3e4989\"],[0.3333333333333333,\"#31688e\"],[0.4444444444444444,\"#26828e\"],[0.5555555555555556,\"#1f9e89\"],[0.6666666666666666,\"#35b779\"],[0.7777777777777778,\"#6ece58\"],[0.8888888888888888,\"#b5de2b\"],[1.0,\"#fde725\"]],\"type\":\"contour\"}],\"heatmapgl\":[{\"colorbar\":{\"outlinewidth\":1,\"tickcolor\":\"rgb(36,36,36)\",\"ticks\":\"outside\"},\"colorscale\":[[0.0,\"#440154\"],[0.1111111111111111,\"#482878\"],[0.2222222222222222,\"#3e4989\"],[0.3333333333333333,\"#31688e\"],[0.4444444444444444,\"#26828e\"],[0.5555555555555556,\"#1f9e89\"],[0.6666666666666666,\"#35b779\"],[0.7777777777777778,\"#6ece58\"],[0.8888888888888888,\"#b5de2b\"],[1.0,\"#fde725\"]],\"type\":\"heatmapgl\"}],\"heatmap\":[{\"colorbar\":{\"outlinewidth\":1,\"tickcolor\":\"rgb(36,36,36)\",\"ticks\":\"outside\"},\"colorscale\":[[0.0,\"#440154\"],[0.1111111111111111,\"#482878\"],[0.2222222222222222,\"#3e4989\"],[0.3333333333333333,\"#31688e\"],[0.4444444444444444,\"#26828e\"],[0.5555555555555556,\"#1f9e89\"],[0.6666666666666666,\"#35b779\"],[0.7777777777777778,\"#6ece58\"],[0.8888888888888888,\"#b5de2b\"],[1.0,\"#fde725\"]],\"type\":\"heatmap\"}],\"histogram2dcontour\":[{\"colorbar\":{\"outlinewidth\":1,\"tickcolor\":\"rgb(36,36,36)\",\"ticks\":\"outside\"},\"colorscale\":[[0.0,\"#440154\"],[0.1111111111111111,\"#482878\"],[0.2222222222222222,\"#3e4989\"],[0.3333333333333333,\"#31688e\"],[0.4444444444444444,\"#26828e\"],[0.5555555555555556,\"#1f9e89\"],[0.6666666666666666,\"#35b779\"],[0.7777777777777778,\"#6ece58\"],[0.8888888888888888,\"#b5de2b\"],[1.0,\"#fde725\"]],\"type\":\"histogram2dcontour\"}],\"histogram2d\":[{\"colorbar\":{\"outlinewidth\":1,\"tickcolor\":\"rgb(36,36,36)\",\"ticks\":\"outside\"},\"colorscale\":[[0.0,\"#440154\"],[0.1111111111111111,\"#482878\"],[0.2222222222222222,\"#3e4989\"],[0.3333333333333333,\"#31688e\"],[0.4444444444444444,\"#26828e\"],[0.5555555555555556,\"#1f9e89\"],[0.6666666666666666,\"#35b779\"],[0.7777777777777778,\"#6ece58\"],[0.8888888888888888,\"#b5de2b\"],[1.0,\"#fde725\"]],\"type\":\"histogram2d\"}],\"histogram\":[{\"marker\":{\"line\":{\"color\":\"white\",\"width\":0.6}},\"type\":\"histogram\"}],\"mesh3d\":[{\"colorbar\":{\"outlinewidth\":1,\"tickcolor\":\"rgb(36,36,36)\",\"ticks\":\"outside\"},\"type\":\"mesh3d\"}],\"parcoords\":[{\"line\":{\"colorbar\":{\"outlinewidth\":1,\"tickcolor\":\"rgb(36,36,36)\",\"ticks\":\"outside\"}},\"type\":\"parcoords\"}],\"pie\":[{\"automargin\":true,\"type\":\"pie\"}],\"scatter3d\":[{\"line\":{\"colorbar\":{\"outlinewidth\":1,\"tickcolor\":\"rgb(36,36,36)\",\"ticks\":\"outside\"}},\"marker\":{\"colorbar\":{\"outlinewidth\":1,\"tickcolor\":\"rgb(36,36,36)\",\"ticks\":\"outside\"}},\"type\":\"scatter3d\"}],\"scattercarpet\":[{\"marker\":{\"colorbar\":{\"outlinewidth\":1,\"tickcolor\":\"rgb(36,36,36)\",\"ticks\":\"outside\"}},\"type\":\"scattercarpet\"}],\"scattergeo\":[{\"marker\":{\"colorbar\":{\"outlinewidth\":1,\"tickcolor\":\"rgb(36,36,36)\",\"ticks\":\"outside\"}},\"type\":\"scattergeo\"}],\"scattergl\":[{\"marker\":{\"colorbar\":{\"outlinewidth\":1,\"tickcolor\":\"rgb(36,36,36)\",\"ticks\":\"outside\"}},\"type\":\"scattergl\"}],\"scattermapbox\":[{\"marker\":{\"colorbar\":{\"outlinewidth\":1,\"tickcolor\":\"rgb(36,36,36)\",\"ticks\":\"outside\"}},\"type\":\"scattermapbox\"}],\"scatterpolargl\":[{\"marker\":{\"colorbar\":{\"outlinewidth\":1,\"tickcolor\":\"rgb(36,36,36)\",\"ticks\":\"outside\"}},\"type\":\"scatterpolargl\"}],\"scatterpolar\":[{\"marker\":{\"colorbar\":{\"outlinewidth\":1,\"tickcolor\":\"rgb(36,36,36)\",\"ticks\":\"outside\"}},\"type\":\"scatterpolar\"}],\"scatter\":[{\"fillpattern\":{\"fillmode\":\"overlay\",\"size\":10,\"solidity\":0.2},\"type\":\"scatter\"}],\"scatterternary\":[{\"marker\":{\"colorbar\":{\"outlinewidth\":1,\"tickcolor\":\"rgb(36,36,36)\",\"ticks\":\"outside\"}},\"type\":\"scatterternary\"}],\"surface\":[{\"colorbar\":{\"outlinewidth\":1,\"tickcolor\":\"rgb(36,36,36)\",\"ticks\":\"outside\"},\"colorscale\":[[0.0,\"#440154\"],[0.1111111111111111,\"#482878\"],[0.2222222222222222,\"#3e4989\"],[0.3333333333333333,\"#31688e\"],[0.4444444444444444,\"#26828e\"],[0.5555555555555556,\"#1f9e89\"],[0.6666666666666666,\"#35b779\"],[0.7777777777777778,\"#6ece58\"],[0.8888888888888888,\"#b5de2b\"],[1.0,\"#fde725\"]],\"type\":\"surface\"}],\"table\":[{\"cells\":{\"fill\":{\"color\":\"rgb(237,237,237)\"},\"line\":{\"color\":\"white\"}},\"header\":{\"fill\":{\"color\":\"rgb(217,217,217)\"},\"line\":{\"color\":\"white\"}},\"type\":\"table\"}]},\"layout\":{\"annotationdefaults\":{\"arrowhead\":0,\"arrowwidth\":1},\"autotypenumbers\":\"strict\",\"coloraxis\":{\"colorbar\":{\"outlinewidth\":1,\"tickcolor\":\"rgb(36,36,36)\",\"ticks\":\"outside\"}},\"colorscale\":{\"diverging\":[[0.0,\"rgb(103,0,31)\"],[0.1,\"rgb(178,24,43)\"],[0.2,\"rgb(214,96,77)\"],[0.3,\"rgb(244,165,130)\"],[0.4,\"rgb(253,219,199)\"],[0.5,\"rgb(247,247,247)\"],[0.6,\"rgb(209,229,240)\"],[0.7,\"rgb(146,197,222)\"],[0.8,\"rgb(67,147,195)\"],[0.9,\"rgb(33,102,172)\"],[1.0,\"rgb(5,48,97)\"]],\"sequential\":[[0.0,\"#440154\"],[0.1111111111111111,\"#482878\"],[0.2222222222222222,\"#3e4989\"],[0.3333333333333333,\"#31688e\"],[0.4444444444444444,\"#26828e\"],[0.5555555555555556,\"#1f9e89\"],[0.6666666666666666,\"#35b779\"],[0.7777777777777778,\"#6ece58\"],[0.8888888888888888,\"#b5de2b\"],[1.0,\"#fde725\"]],\"sequentialminus\":[[0.0,\"#440154\"],[0.1111111111111111,\"#482878\"],[0.2222222222222222,\"#3e4989\"],[0.3333333333333333,\"#31688e\"],[0.4444444444444444,\"#26828e\"],[0.5555555555555556,\"#1f9e89\"],[0.6666666666666666,\"#35b779\"],[0.7777777777777778,\"#6ece58\"],[0.8888888888888888,\"#b5de2b\"],[1.0,\"#fde725\"]]},\"colorway\":[\"#1F77B4\",\"#FF7F0E\",\"#2CA02C\",\"#D62728\",\"#9467BD\",\"#8C564B\",\"#E377C2\",\"#7F7F7F\",\"#BCBD22\",\"#17BECF\"],\"font\":{\"color\":\"rgb(36,36,36)\"},\"geo\":{\"bgcolor\":\"white\",\"lakecolor\":\"white\",\"landcolor\":\"white\",\"showlakes\":true,\"showland\":true,\"subunitcolor\":\"white\"},\"hoverlabel\":{\"align\":\"left\"},\"hovermode\":\"closest\",\"mapbox\":{\"style\":\"light\"},\"paper_bgcolor\":\"white\",\"plot_bgcolor\":\"white\",\"polar\":{\"angularaxis\":{\"gridcolor\":\"rgb(232,232,232)\",\"linecolor\":\"rgb(36,36,36)\",\"showgrid\":false,\"showline\":true,\"ticks\":\"outside\"},\"bgcolor\":\"white\",\"radialaxis\":{\"gridcolor\":\"rgb(232,232,232)\",\"linecolor\":\"rgb(36,36,36)\",\"showgrid\":false,\"showline\":true,\"ticks\":\"outside\"}},\"scene\":{\"xaxis\":{\"backgroundcolor\":\"white\",\"gridcolor\":\"rgb(232,232,232)\",\"gridwidth\":2,\"linecolor\":\"rgb(36,36,36)\",\"showbackground\":true,\"showgrid\":false,\"showline\":true,\"ticks\":\"outside\",\"zeroline\":false,\"zerolinecolor\":\"rgb(36,36,36)\"},\"yaxis\":{\"backgroundcolor\":\"white\",\"gridcolor\":\"rgb(232,232,232)\",\"gridwidth\":2,\"linecolor\":\"rgb(36,36,36)\",\"showbackground\":true,\"showgrid\":false,\"showline\":true,\"ticks\":\"outside\",\"zeroline\":false,\"zerolinecolor\":\"rgb(36,36,36)\"},\"zaxis\":{\"backgroundcolor\":\"white\",\"gridcolor\":\"rgb(232,232,232)\",\"gridwidth\":2,\"linecolor\":\"rgb(36,36,36)\",\"showbackground\":true,\"showgrid\":false,\"showline\":true,\"ticks\":\"outside\",\"zeroline\":false,\"zerolinecolor\":\"rgb(36,36,36)\"}},\"shapedefaults\":{\"fillcolor\":\"black\",\"line\":{\"width\":0},\"opacity\":0.3},\"ternary\":{\"aaxis\":{\"gridcolor\":\"rgb(232,232,232)\",\"linecolor\":\"rgb(36,36,36)\",\"showgrid\":false,\"showline\":true,\"ticks\":\"outside\"},\"baxis\":{\"gridcolor\":\"rgb(232,232,232)\",\"linecolor\":\"rgb(36,36,36)\",\"showgrid\":false,\"showline\":true,\"ticks\":\"outside\"},\"bgcolor\":\"white\",\"caxis\":{\"gridcolor\":\"rgb(232,232,232)\",\"linecolor\":\"rgb(36,36,36)\",\"showgrid\":false,\"showline\":true,\"ticks\":\"outside\"}},\"title\":{\"x\":0.05},\"xaxis\":{\"automargin\":true,\"gridcolor\":\"rgb(232,232,232)\",\"linecolor\":\"rgb(36,36,36)\",\"showgrid\":false,\"showline\":true,\"ticks\":\"outside\",\"title\":{\"standoff\":15},\"zeroline\":false,\"zerolinecolor\":\"rgb(36,36,36)\"},\"yaxis\":{\"automargin\":true,\"gridcolor\":\"rgb(232,232,232)\",\"linecolor\":\"rgb(36,36,36)\",\"showgrid\":false,\"showline\":true,\"ticks\":\"outside\",\"title\":{\"standoff\":15},\"zeroline\":false,\"zerolinecolor\":\"rgb(36,36,36)\"}}},\"shapes\":[{\"line\":{\"color\":\"#CFD8DC\",\"width\":2},\"type\":\"line\",\"x0\":4.348220348358154,\"x1\":4.348220348358154,\"y0\":-23.42011604309082,\"y1\":30.191908836364746},{\"line\":{\"color\":\"#9E9E9E\",\"width\":2},\"type\":\"line\",\"x0\":-24.85789680480957,\"x1\":33.55433750152588,\"y0\":3.385896396636962,\"y1\":3.385896396636962}],\"annotations\":[{\"showarrow\":false,\"text\":\"D1\",\"x\":-24.85789680480957,\"y\":3.385896396636962,\"yshift\":10},{\"showarrow\":false,\"text\":\"D2\",\"x\":4.348220348358154,\"xshift\":10,\"y\":30.191908836364746}],\"title\":{\"font\":{\"size\":22,\"color\":\"Black\"},\"text\":\"<b>Documents and Topics</b>\",\"x\":0.5,\"xanchor\":\"center\",\"yanchor\":\"top\"},\"width\":1200,\"height\":750,\"xaxis\":{\"visible\":false},\"yaxis\":{\"visible\":false}},                        {\"responsive\": true}                    ).then(function(){\n",
       "                            \n",
       "var gd = document.getElementById('7766818f-98f7-4cb7-ac51-62b9adae0f6d');\n",
       "var x = new MutationObserver(function (mutations, observer) {{\n",
       "        var display = window.getComputedStyle(gd).display;\n",
       "        if (!display || display === 'none') {{\n",
       "            console.log([gd, 'removed!']);\n",
       "            Plotly.purge(gd);\n",
       "            observer.disconnect();\n",
       "        }}\n",
       "}});\n",
       "\n",
       "// Listen for the removal of the full notebook cells\n",
       "var notebookContainer = gd.closest('#notebook-container');\n",
       "if (notebookContainer) {{\n",
       "    x.observe(notebookContainer, {childList: true});\n",
       "}}\n",
       "\n",
       "// Listen for the clearing of the current output cell\n",
       "var outputEl = gd.closest('.output');\n",
       "if (outputEl) {{\n",
       "    x.observe(outputEl, {childList: true});\n",
       "}}\n",
       "\n",
       "                        })                };                });            </script>        </div>"
      ]
     },
     "metadata": {},
     "output_type": "display_data"
    }
   ],
   "source": [
    "# Run the visualization with the original embeddings\n",
    "# topic_model.visualize_documents(docs, embeddings=embeddings)\n",
    "\n",
    "# Reduce dimensionality of embeddings, this step is optional but much faster to perform iteratively:\n",
    "reduced_embeddings = UMAP(n_neighbors=10, n_components=2, min_dist=0.0, metric='cosine').fit_transform(embeddings)\n",
    "topic_model.visualize_documents(docs, reduced_embeddings=reduced_embeddings)\n",
    "\n",
    "\n",
    "# model.visualize_documents(docs)"
   ]
  },
  {
   "cell_type": "code",
   "execution_count": 38,
   "id": "00ffc5ba",
   "metadata": {},
   "outputs": [],
   "source": [
    "from bertopic import BERTopic\n",
    "from sklearn.feature_extraction.text import TfidfVectorizer\n",
    "\n",
    "# Create TF-IDF sparse matrix\n",
    "vectorizer = TfidfVectorizer(min_df=5)\n",
    "embeddings = vectorizer.fit_transform(docs)\n",
    "\n",
    "# Model\n",
    "model_tfidf = BERTopic(language=\"chinese (simplified)\")\n",
    "topics1, probabilities1 = model_tfidf.fit_transform(docs, embeddings)"
   ]
  },
  {
   "cell_type": "code",
   "execution_count": 24,
   "id": "2fe51392",
   "metadata": {},
   "outputs": [
    {
     "data": {
      "text/plain": [
       "[1, 11, 0, 2, 6]"
      ]
     },
     "execution_count": 24,
     "metadata": {},
     "output_type": "execute_result"
    }
   ],
   "source": [
    "similar_topics, similarity = model.find_topics(\"纸质\", top_n=5)\n",
    "similar_topics"
   ]
  },
  {
   "cell_type": "code",
   "execution_count": 27,
   "id": "e8dfc60c",
   "metadata": {},
   "outputs": [
    {
     "data": {
      "text/plain": [
       "[('清晰', 0.07779836893946916),\n",
       " ('打印', 0.07455593770332672),\n",
       " ('打印 清晰', 0.07455593770332672),\n",
       " ('清楚', 0.06604929254058266),\n",
       " ('清晰 书本', 0.05920877459743754),\n",
       " ('书本', 0.055608934748614565),\n",
       " ('印刷', 0.05533551548633206),\n",
       " ('没得说 文字', 0.042571666233474956),\n",
       " ('书页 质量 没得说', 0.042571666233474956),\n",
       " ('字印', 0.042571666233474956)]"
      ]
     },
     "execution_count": 27,
     "metadata": {},
     "output_type": "execute_result"
    }
   ],
   "source": [
    "model.get_topic(1)"
   ]
  },
  {
   "cell_type": "code",
   "execution_count": 26,
   "id": "2dbb09f4",
   "metadata": {},
   "outputs": [],
   "source": [
    "# 保存模型\n",
    "model.save(\"my_model\")"
   ]
  },
  {
   "cell_type": "code",
   "execution_count": null,
   "id": "436cdad0",
   "metadata": {},
   "outputs": [],
   "source": [
    "# Load model\n",
    "my_model = BERTopic.load(\"my_model\")"
   ]
  },
  {
   "cell_type": "markdown",
   "id": "247a25e6",
   "metadata": {},
   "source": [
    "# 聚类分析"
   ]
  },
  {
   "cell_type": "code",
   "execution_count": 127,
   "id": "3aaef1f0",
   "metadata": {},
   "outputs": [],
   "source": [
    "#数据预处理\n",
    "from sklearn.preprocessing import StandardScaler\n",
    "scaler = StandardScaler()\n",
    "scaler.fit(sdf)\n",
    "scaled_data = scaler.transform(sdf)"
   ]
  },
  {
   "cell_type": "code",
   "execution_count": 128,
   "id": "f23e5dc7",
   "metadata": {},
   "outputs": [
    {
     "data": {
      "text/html": [
       "<div>\n",
       "<style scoped>\n",
       "    .dataframe tbody tr th:only-of-type {\n",
       "        vertical-align: middle;\n",
       "    }\n",
       "\n",
       "    .dataframe tbody tr th {\n",
       "        vertical-align: top;\n",
       "    }\n",
       "\n",
       "    .dataframe thead th {\n",
       "        text-align: right;\n",
       "    }\n",
       "</style>\n",
       "<table border=\"1\" class=\"dataframe\">\n",
       "  <thead>\n",
       "    <tr style=\"text-align: right;\">\n",
       "      <th></th>\n",
       "      <th>Price</th>\n",
       "      <th>IsFreeship</th>\n",
       "      <th>AuthorScore</th>\n",
       "      <th>PublisherScore</th>\n",
       "      <th>PublisherCode</th>\n",
       "      <th>BrandScore</th>\n",
       "      <th>PageSize</th>\n",
       "      <th>IsPractise</th>\n",
       "      <th>IsFramework</th>\n",
       "      <th>SellLevel</th>\n",
       "    </tr>\n",
       "  </thead>\n",
       "  <tbody>\n",
       "    <tr>\n",
       "      <th>0</th>\n",
       "      <td>78.3</td>\n",
       "      <td>0</td>\n",
       "      <td>20</td>\n",
       "      <td>40</td>\n",
       "      <td>1</td>\n",
       "      <td>10</td>\n",
       "      <td>380.0</td>\n",
       "      <td>0</td>\n",
       "      <td>0</td>\n",
       "      <td>0</td>\n",
       "    </tr>\n",
       "    <tr>\n",
       "      <th>1</th>\n",
       "      <td>55.0</td>\n",
       "      <td>0</td>\n",
       "      <td>89</td>\n",
       "      <td>40</td>\n",
       "      <td>1</td>\n",
       "      <td>10</td>\n",
       "      <td>0.0</td>\n",
       "      <td>0</td>\n",
       "      <td>0</td>\n",
       "      <td>0</td>\n",
       "    </tr>\n",
       "    <tr>\n",
       "      <th>2</th>\n",
       "      <td>125.0</td>\n",
       "      <td>0</td>\n",
       "      <td>89</td>\n",
       "      <td>40</td>\n",
       "      <td>1</td>\n",
       "      <td>10</td>\n",
       "      <td>0.0</td>\n",
       "      <td>0</td>\n",
       "      <td>0</td>\n",
       "      <td>0</td>\n",
       "    </tr>\n",
       "    <tr>\n",
       "      <th>3</th>\n",
       "      <td>58.0</td>\n",
       "      <td>0</td>\n",
       "      <td>89</td>\n",
       "      <td>40</td>\n",
       "      <td>1</td>\n",
       "      <td>10</td>\n",
       "      <td>0.0</td>\n",
       "      <td>0</td>\n",
       "      <td>0</td>\n",
       "      <td>0</td>\n",
       "    </tr>\n",
       "    <tr>\n",
       "      <th>4</th>\n",
       "      <td>22.0</td>\n",
       "      <td>0</td>\n",
       "      <td>20</td>\n",
       "      <td>50</td>\n",
       "      <td>2</td>\n",
       "      <td>30</td>\n",
       "      <td>280.0</td>\n",
       "      <td>0</td>\n",
       "      <td>0</td>\n",
       "      <td>0</td>\n",
       "    </tr>\n",
       "  </tbody>\n",
       "</table>\n",
       "</div>"
      ],
      "text/plain": [
       "   Price  IsFreeship  AuthorScore  PublisherScore  PublisherCode  BrandScore  \\\n",
       "0   78.3           0           20              40              1          10   \n",
       "1   55.0           0           89              40              1          10   \n",
       "2  125.0           0           89              40              1          10   \n",
       "3   58.0           0           89              40              1          10   \n",
       "4   22.0           0           20              50              2          30   \n",
       "\n",
       "   PageSize  IsPractise  IsFramework  SellLevel  \n",
       "0     380.0           0            0          0  \n",
       "1       0.0           0            0          0  \n",
       "2       0.0           0            0          0  \n",
       "3       0.0           0            0          0  \n",
       "4     280.0           0            0          0  "
      ]
     },
     "execution_count": 128,
     "metadata": {},
     "output_type": "execute_result"
    }
   ],
   "source": [
    "sdf.head()"
   ]
  },
  {
   "cell_type": "code",
   "execution_count": 129,
   "id": "d2189475",
   "metadata": {},
   "outputs": [],
   "source": [
    "from sklearn.cluster import KMeans\n",
    "def get_best_clusters(df, max_K):\n",
    "    clusters_centers = []\n",
    "    k_list = []\n",
    "    for k in range(1, max_K):\n",
    "        kmeans_model = KMeans(n_clusters = k)\n",
    "        kmeans_model.fit(df)\n",
    "        clusters_centers.append(kmeans_model.inertia_)\n",
    "        k_list.append(k)\n",
    "    return clusters_centers, k_list\n",
    "clusters_centers, k_values = get_best_clusters(scaled_data, 30)\n"
   ]
  },
  {
   "cell_type": "code",
   "execution_count": 130,
   "id": "549993a8",
   "metadata": {},
   "outputs": [
    {
     "data": {
      "image/png": "[encoded data removed]",
      "text/plain": [
       "<Figure size 1000x500 with 1 Axes>"
      ]
     },
     "metadata": {},
     "output_type": "display_data"
    }
   ],
   "source": [
    "import matplotlib.pyplot as plt\n",
    "def generate_plot(clusters_centers, k_values):\n",
    "    figure = plt.subplots(figsize = (10, 5))\n",
    "    plt.plot(k_values, clusters_centers, 'o-', color = 'black')\n",
    "    plt.xlabel(\"聚类数量 (K)\")\n",
    "    plt.ylabel(\"簇内平方和\")\n",
    "    plt.title(\"KMeans K值转折点可视化\")\n",
    "    plt.show()\n",
    "generate_plot(clusters_centers, k_values)"
   ]
  },
  {
   "cell_type": "code",
   "execution_count": 131,
   "id": "c78d9618",
   "metadata": {},
   "outputs": [
    {
     "data": {
      "text/html": [
       "<div>\n",
       "<style scoped>\n",
       "    .dataframe tbody tr th:only-of-type {\n",
       "        vertical-align: middle;\n",
       "    }\n",
       "\n",
       "    .dataframe tbody tr th {\n",
       "        vertical-align: top;\n",
       "    }\n",
       "\n",
       "    .dataframe thead th {\n",
       "        text-align: right;\n",
       "    }\n",
       "</style>\n",
       "<table border=\"1\" class=\"dataframe\">\n",
       "  <thead>\n",
       "    <tr style=\"text-align: right;\">\n",
       "      <th></th>\n",
       "      <th>Price</th>\n",
       "      <th>IsFreeship</th>\n",
       "      <th>AuthorScore</th>\n",
       "      <th>PublisherScore</th>\n",
       "      <th>PublisherCode</th>\n",
       "      <th>BrandScore</th>\n",
       "      <th>PageSize</th>\n",
       "      <th>IsPractise</th>\n",
       "      <th>IsFramework</th>\n",
       "      <th>SellLevel</th>\n",
       "      <th>clusters</th>\n",
       "    </tr>\n",
       "  </thead>\n",
       "  <tbody>\n",
       "    <tr>\n",
       "      <th>0</th>\n",
       "      <td>78.3</td>\n",
       "      <td>0</td>\n",
       "      <td>20</td>\n",
       "      <td>40</td>\n",
       "      <td>1</td>\n",
       "      <td>10</td>\n",
       "      <td>380.0</td>\n",
       "      <td>0</td>\n",
       "      <td>0</td>\n",
       "      <td>0</td>\n",
       "      <td>2</td>\n",
       "    </tr>\n",
       "    <tr>\n",
       "      <th>1</th>\n",
       "      <td>55.0</td>\n",
       "      <td>0</td>\n",
       "      <td>89</td>\n",
       "      <td>40</td>\n",
       "      <td>1</td>\n",
       "      <td>10</td>\n",
       "      <td>0.0</td>\n",
       "      <td>0</td>\n",
       "      <td>0</td>\n",
       "      <td>0</td>\n",
       "      <td>6</td>\n",
       "    </tr>\n",
       "    <tr>\n",
       "      <th>2</th>\n",
       "      <td>125.0</td>\n",
       "      <td>0</td>\n",
       "      <td>89</td>\n",
       "      <td>40</td>\n",
       "      <td>1</td>\n",
       "      <td>10</td>\n",
       "      <td>0.0</td>\n",
       "      <td>0</td>\n",
       "      <td>0</td>\n",
       "      <td>0</td>\n",
       "      <td>6</td>\n",
       "    </tr>\n",
       "    <tr>\n",
       "      <th>3</th>\n",
       "      <td>58.0</td>\n",
       "      <td>0</td>\n",
       "      <td>89</td>\n",
       "      <td>40</td>\n",
       "      <td>1</td>\n",
       "      <td>10</td>\n",
       "      <td>0.0</td>\n",
       "      <td>0</td>\n",
       "      <td>0</td>\n",
       "      <td>0</td>\n",
       "      <td>6</td>\n",
       "    </tr>\n",
       "    <tr>\n",
       "      <th>4</th>\n",
       "      <td>22.0</td>\n",
       "      <td>0</td>\n",
       "      <td>20</td>\n",
       "      <td>50</td>\n",
       "      <td>2</td>\n",
       "      <td>30</td>\n",
       "      <td>280.0</td>\n",
       "      <td>0</td>\n",
       "      <td>0</td>\n",
       "      <td>0</td>\n",
       "      <td>0</td>\n",
       "    </tr>\n",
       "  </tbody>\n",
       "</table>\n",
       "</div>"
      ],
      "text/plain": [
       "   Price  IsFreeship  AuthorScore  PublisherScore  PublisherCode  BrandScore  \\\n",
       "0   78.3           0           20              40              1          10   \n",
       "1   55.0           0           89              40              1          10   \n",
       "2  125.0           0           89              40              1          10   \n",
       "3   58.0           0           89              40              1          10   \n",
       "4   22.0           0           20              50              2          30   \n",
       "\n",
       "   PageSize  IsPractise  IsFramework  SellLevel  clusters  \n",
       "0     380.0           0            0          0         2  \n",
       "1       0.0           0            0          0         6  \n",
       "2       0.0           0            0          0         6  \n",
       "3       0.0           0            0          0         6  \n",
       "4     280.0           0            0          0         0  "
      ]
     },
     "execution_count": 131,
     "metadata": {},
     "output_type": "execute_result"
    }
   ],
   "source": [
    "kmeans_model = KMeans(n_clusters = 8)\n",
    "kmeans_model.fit(scaled_data)\n",
    "new_df = sdf.copy()\n",
    "new_df[\"clusters\"] = kmeans_model.labels_\n",
    "new_df.head()"
   ]
  },
  {
   "cell_type": "code",
   "execution_count": 134,
   "id": "32fc4516",
   "metadata": {},
   "outputs": [
    {
     "data": {
      "text/plain": [
       "<matplotlib.collections.PathCollection at 0x7ff700073c90>"
      ]
     },
     "execution_count": 134,
     "metadata": {},
     "output_type": "execute_result"
    },
    {
     "data": {
      "image/png": "[encoded data removed]",
      "text/plain": [
       "<Figure size 640x480 with 1 Axes>"
      ]
     },
     "metadata": {},
     "output_type": "display_data"
    }
   ],
   "source": [
    "plt.scatter(new_df[\"PageSize\"], new_df[\"Price\"],  c = new_df[\"clusters\"])"
   ]
  },
  {
   "cell_type": "code",
   "execution_count": 136,
   "id": "05fc66e5",
   "metadata": {},
   "outputs": [
    {
     "name": "stdout",
     "output_type": "stream",
     "text": [
      "[4 6 4 6 0 4 0 4 1 1 6 4 4 4 4 0 4 0 0 4 4 4 4 4 4 4 0 4 4 4 0 4 4 4 0 4 4\n",
      " 4 0 6 4 4 4 0 4 4 4 4 0 4 4 4 4 4 4 0 4 4 0 4 0 4 4 4 4 4 0 1 4 4 4 4 4 0\n",
      " 4 4 4 4 4 0 6 1 4 4 4 4 4 4 4 4 4 4 6 0 0 4 0 0 0 4 0 4 4 4 0 4 1 4 4 4 4\n",
      " 1 0 4 0 6 4 4 4 0 1 4 4 6 4 4 1 4 4 4 4 1 4 4 4 4 4 4 4 1 4 4 4 4 4 4 1 4\n",
      " 4 4 4 4 1 1 0 1 0 1 0 4 4 4 4 4 4 4 4 0 4 4 4 4 4 4 4 0 4 4 1 4 4 4 4 0 4\n",
      " 4 4 4 4 4 1 1 4 1 4 4 4 0 4 0 4 4 4 4 6 1 4 4 0 0 4 4 1 6 4 4 4 4 0 4 1 4\n",
      " 4 0 4 4 0 0 4 4 0 4 4 4 4 0 4 1 0 1 1 4 4 4 4 4 4 4 4 4 6 4 4 4 0 4 4 0 4\n",
      " 4 4 4 1 4 4 4 4 1 1 1 1 1 1 1 1 1 4 4 4 0 4 1 4 4 4 4 4 4 1 4 4 4 1 1 4 0\n",
      " 4 4 0 4 4 4 4 4 1 4 4 4 4 4 4 1 1 4 0 4 4 4 4 4 4 4 4 4 4 4 4 4 4 4 4 4 4\n",
      " 1 4 0 4 4 1 4 4 1 4 4 4 0 0 4 0 4 4 4 4 0 0 0 0 4 4 4 4 4 4 4 6 0 4 4 4 4\n",
      " 4 4 4 4 4 6 4 4 4 4 4 4 4 4 4 0 4 4 0 0 4 4 4 0 4 0 1 4 0 4 0 0 4 4 1 4 0\n",
      " 1 0 4 4 4 4 0 4 1 4 4 0 4 1 4 4 1 0 0 0 0 4 0 0 4 0 4 4 4 1 0 4 4 1 1 0 4\n",
      " 4 4 0 1 0 1 4 1 4 0 4 1 4 0 1 4 0 4 0 4 0 4 0 0 4 4 4 4 4 4 0 4 0 4 0 4 1\n",
      " 4 0 0 4 4 0 0 4 4 0 4 4 4 4 4 1 4 0 4 4 4 4 4 4 0 0 4 4 0 0 4 4 4 4 4 4 0\n",
      " 1 0 1 0 4 4 4 4 4 0 4 0 4 4 4 4 0 0 6 4 0 4 1 1 0 4 4 4 4 0 4 4 4 0 0 4 0\n",
      " 4 1 0 4 4 4 4 4 0 4 4 4 4 4 1 4 4 1 4 4 0 1 0 4 4 1 1 1 1 1 4 0 4 0 4 0 0\n",
      " 0 4 1 4 4 4 4 0 0 1 1 0 4 4 0 4 0 0 0 1 4 0 0 4 1 4 4 0 4 1 0 4 4 1 4 4 1\n",
      " 1 1 4 4 1 1 0 4 4 4 0 0 4 0 0 0 0 6 4 4 0 0 0 0 0 0 4 4 4 4 4 0 4 4 4 4 4\n",
      " 4 4 1 4 1 4 4 4 4 1 4 4 4 4 4 4 4 4 4 4 4 4 4 4 4 1 4 4 4 4 4 4 4 4 4 4 1\n",
      " 4 0 1 4 6 6 4 4 4 4 4 4 4 4 4 4 4 6 6 1 4 4 4 1 1 4 4 1 4 4 0 4 4 0 1 4 0\n",
      " 4 4 4 4 4 4 4 1 4 1 4 4 4 4 4 4 1 4 4 1 4 4 1 4 0 4 4 6 4 1 4 4 4 4 4 4 4\n",
      " 4 4 4 4 4 4 4 4 4 4 4 4 4]\n"
     ]
    },
    {
     "name": "stderr",
     "output_type": "stream",
     "text": [
      "/opt/miniconda3/envs/book/lib/python3.7/site-packages/sklearn/base.py:444: UserWarning: X has feature names, but KMeans was fitted without feature names\n",
      "  f\"X has feature names, but {self.__class__.__name__} was fitted without\"\n"
     ]
    }
   ],
   "source": [
    "\n",
    "all_predictions = kmeans_model.predict(sdf)\n",
    "print(all_predictions)"
   ]
  },
  {
   "cell_type": "code",
   "execution_count": null,
   "id": "0976ab0c",
   "metadata": {},
   "outputs": [],
   "source": []
  }
 ],
 "metadata": {
  "kernelspec": {
   "display_name": "Python 3 (ipykernel)",
   "language": "python",
   "name": "python3"
  },
  "language_info": {
   "codemirror_mode": {
    "name": "ipython",
    "version": 3
   },
   "file_extension": ".py",
   "mimetype": "text/x-python",
   "name": "python",
   "nbconvert_exporter": "python",
   "pygments_lexer": "ipython3",
   "version": "3.7.16"
  }
 },
 "nbformat": 4,
 "nbformat_minor": 5
}
