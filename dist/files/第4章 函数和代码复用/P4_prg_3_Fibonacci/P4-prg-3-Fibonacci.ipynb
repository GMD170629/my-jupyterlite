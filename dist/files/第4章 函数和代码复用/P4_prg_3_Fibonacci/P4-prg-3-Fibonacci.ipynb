{
 "cells": [
  {
   "cell_type": "code",
   "execution_count": 1,
   "id": "b1e64075-47a0-4d49-bb2b-4999f14db4a2",
   "metadata": {},
   "outputs": [
    {
     "name": "stdout",
     "output_type": "stream",
     "text": [
      "    1     1     2     3     5     8    13    21    34    55 \n",
      "\n",
      "   89   144   233   377   610   987  1597  2584  4181  6765 \n",
      "\n"
     ]
    }
   ],
   "source": [
    "def fab(n):\n",
    "    if n <= 2: return(1)\n",
    "    else:\n",
    "        return(fab(n-1)+fab(n-2))\n",
    "n=20\n",
    "for i in range(1,n+1):\n",
    "    print(format(fab(i),\">5\"),end=' ')\n",
    "    if(i % 10==0):print(\"\\n\")\n"
   ]
  },
  {
   "cell_type": "code",
   "execution_count": null,
   "id": "d0e7b5d2-f70e-46ea-8214-ae87efd7dfc9",
   "metadata": {},
   "outputs": [],
   "source": []
  }
 ],
 "metadata": {
  "kernelspec": {
   "display_name": "Python 3 (ipykernel)",
   "language": "python",
   "name": "python3"
  },
  "language_info": {
   "codemirror_mode": {
    "name": "ipython",
    "version": 3
   },
   "file_extension": ".py",
   "mimetype": "text/x-python",
   "name": "python",
   "nbconvert_exporter": "python",
   "pygments_lexer": "ipython3",
   "version": "3.11.9"
  }
 },
 "nbformat": 4,
 "nbformat_minor": 5
}
