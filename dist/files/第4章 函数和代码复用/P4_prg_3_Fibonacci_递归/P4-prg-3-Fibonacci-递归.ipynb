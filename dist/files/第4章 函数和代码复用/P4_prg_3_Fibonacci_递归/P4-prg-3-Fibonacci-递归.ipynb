{
 "cells": [
  {
   "cell_type": "code",
   "execution_count": 1,
   "id": "1d9f44b6-afc2-4da8-9a0e-e73811f42bdc",
   "metadata": {},
   "outputs": [
    {
     "name": "stdin",
     "output_type": "stream",
     "text": [
      "请输入>=0的整数： 4\n"
     ]
    },
    {
     "name": "stdout",
     "output_type": "stream",
     "text": [
      "    1     1     2     3 "
     ]
    }
   ],
   "source": [
    "def fab(n):\n",
    "    if n <= 2: return(1)\n",
    "    else:\n",
    "        return(fab(n-1)+fab(n-2))\n",
    "n = int(input(\"请输入>=0的整数：\"))\n",
    "for i in range(1,n+1):\n",
    "    print(format(fab(i),\">5\"),end=' ')\n",
    "\n"
   ]
  },
  {
   "cell_type": "code",
   "execution_count": null,
   "id": "78c20ffe-0eb0-43e5-b5f3-284363043e10",
   "metadata": {},
   "outputs": [],
   "source": []
  }
 ],
 "metadata": {
  "kernelspec": {
   "display_name": "Python 3 (ipykernel)",
   "language": "python",
   "name": "python3"
  },
  "language_info": {
   "codemirror_mode": {
    "name": "ipython",
    "version": 3
   },
   "file_extension": ".py",
   "mimetype": "text/x-python",
   "name": "python",
   "nbconvert_exporter": "python",
   "pygments_lexer": "ipython3",
   "version": "3.11.9"
  }
 },
 "nbformat": 4,
 "nbformat_minor": 5
}
