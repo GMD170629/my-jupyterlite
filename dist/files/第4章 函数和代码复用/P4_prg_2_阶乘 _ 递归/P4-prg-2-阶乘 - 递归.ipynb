{
 "cells": [
  {
   "cell_type": "code",
   "execution_count": 1,
   "id": "ac8ab977-4186-4ae1-95db-d950f18bc391",
   "metadata": {},
   "outputs": [
    {
     "name": "stdin",
     "output_type": "stream",
     "text": [
      "请输入整数n（n>=0）： 3\n"
     ]
    },
    {
     "name": "stdout",
     "output_type": "stream",
     "text": [
      "6\n"
     ]
    }
   ],
   "source": [
    "def fact(n): #声明函数，返回值\n",
    "    if n==0:\n",
    "        f=1\n",
    "    else:\n",
    "        f=n*fact(n-1)\n",
    "    return(f)\n",
    "n=int(input(\"请输入整数n（n>=0）：\"))\n",
    "print(fact(n))      #调用函数\n"
   ]
  },
  {
   "cell_type": "code",
   "execution_count": null,
   "id": "4b3764fa-8502-4276-8c5b-4c363ab79718",
   "metadata": {},
   "outputs": [],
   "source": []
  }
 ],
 "metadata": {
  "kernelspec": {
   "display_name": "Python 3 (ipykernel)",
   "language": "python",
   "name": "python3"
  },
  "language_info": {
   "codemirror_mode": {
    "name": "ipython",
    "version": 3
   },
   "file_extension": ".py",
   "mimetype": "text/x-python",
   "name": "python",
   "nbconvert_exporter": "python",
   "pygments_lexer": "ipython3",
   "version": "3.11.9"
  }
 },
 "nbformat": 4,
 "nbformat_minor": 5
}
