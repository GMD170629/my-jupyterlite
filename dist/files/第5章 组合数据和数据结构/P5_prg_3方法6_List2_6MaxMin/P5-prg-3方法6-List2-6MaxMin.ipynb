{
 "cells": [
  {
   "cell_type": "code",
   "execution_count": 1,
   "id": "098320f7-13af-476f-8020-b35b9a917eb8",
   "metadata": {},
   "outputs": [
    {
     "name": "stdout",
     "output_type": "stream",
     "text": [
      "8 55 1 91 11.375\n"
     ]
    }
   ],
   "source": [
    "list1=[9,7,8,3,2,1,55,6]\n",
    "maxi=list1[0];mini=list1[0];s=0;n=len(list1)\n",
    "i=n-1\n",
    "while True:\n",
    "    if i<0: break #结束循环的执行\n",
    "    if list1[i]>maxi:\n",
    "        maxi=list1[i]\n",
    "    if list1[i]<mini:\n",
    "        mini=list1[i]\n",
    "    s+=list1[i]\n",
    "    i-=1\n",
    "print(n,maxi,mini,s,s/n)\n",
    "  \n"
   ]
  },
  {
   "cell_type": "code",
   "execution_count": null,
   "id": "264dc369-de8b-490d-926c-4a3b89c7a02d",
   "metadata": {},
   "outputs": [],
   "source": []
  }
 ],
 "metadata": {
  "kernelspec": {
   "display_name": "Python 3 (ipykernel)",
   "language": "python",
   "name": "python3"
  },
  "language_info": {
   "codemirror_mode": {
    "name": "ipython",
    "version": 3
   },
   "file_extension": ".py",
   "mimetype": "text/x-python",
   "name": "python",
   "nbconvert_exporter": "python",
   "pygments_lexer": "ipython3",
   "version": "3.11.9"
  }
 },
 "nbformat": 4,
 "nbformat_minor": 5
}
