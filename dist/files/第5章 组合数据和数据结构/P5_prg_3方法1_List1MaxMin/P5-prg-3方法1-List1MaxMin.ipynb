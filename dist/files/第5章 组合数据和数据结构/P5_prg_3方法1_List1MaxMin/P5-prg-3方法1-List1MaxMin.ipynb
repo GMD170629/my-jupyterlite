{
 "cells": [
  {
   "cell_type": "code",
   "execution_count": 1,
   "id": "d5a4a8ad-9596-4c44-8e2b-5eefed4ba7a1",
   "metadata": {},
   "outputs": [
    {
     "name": "stdout",
     "output_type": "stream",
     "text": [
      "8 55 1 91 11.375\n"
     ]
    }
   ],
   "source": [
    "list1=[9,7,8,3,2,1,55,6]\n",
    "maxi=list1[0];mini=list1[0];s=0\n",
    "for i in list1:\n",
    "    if i>maxi:\n",
    "        maxi=i\n",
    "    if i<mini:\n",
    "        mini=i\n",
    "    s+=i\n",
    "print(len(list1),maxi,mini,s,s/len(list1))\n",
    "  \n"
   ]
  },
  {
   "cell_type": "code",
   "execution_count": null,
   "id": "85b3c51a-cb72-4b10-9ebb-0ee8472f5c48",
   "metadata": {},
   "outputs": [],
   "source": []
  }
 ],
 "metadata": {
  "kernelspec": {
   "display_name": "Python 3 (ipykernel)",
   "language": "python",
   "name": "python3"
  },
  "language_info": {
   "codemirror_mode": {
    "name": "ipython",
    "version": 3
   },
   "file_extension": ".py",
   "mimetype": "text/x-python",
   "name": "python",
   "nbconvert_exporter": "python",
   "pygments_lexer": "ipython3",
   "version": "3.11.9"
  }
 },
 "nbformat": 4,
 "nbformat_minor": 5
}
