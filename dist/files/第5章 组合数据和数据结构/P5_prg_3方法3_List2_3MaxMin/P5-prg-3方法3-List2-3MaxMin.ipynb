{
 "cells": [
  {
   "cell_type": "code",
   "execution_count": 1,
   "id": "0e52064f-872e-4562-81c6-f59c0ee98a96",
   "metadata": {},
   "outputs": [
    {
     "name": "stdout",
     "output_type": "stream",
     "text": [
      "8 55 1 91 11.375\n"
     ]
    }
   ],
   "source": [
    "list1=[9,7,8,3,2,1,55,6]\n",
    "maxi=list1[0];mini=list1[0];s=0;n=len(list1)\n",
    "i=0\n",
    "while i<n:\n",
    "    if list1[i]>maxi:\n",
    "        maxi=list1[i]\n",
    "    if list1[i]<mini:\n",
    "        mini=list1[i]\n",
    "    s+=list1[i]\n",
    "    i+=1\n",
    "print(n,maxi,mini,s,s/n)\n",
    "  \n"
   ]
  },
  {
   "cell_type": "code",
   "execution_count": null,
   "id": "e75374ce-107c-47df-91be-edea205facac",
   "metadata": {},
   "outputs": [],
   "source": []
  }
 ],
 "metadata": {
  "kernelspec": {
   "display_name": "Python 3 (ipykernel)",
   "language": "python",
   "name": "python3"
  },
  "language_info": {
   "codemirror_mode": {
    "name": "ipython",
    "version": 3
   },
   "file_extension": ".py",
   "mimetype": "text/x-python",
   "name": "python",
   "nbconvert_exporter": "python",
   "pygments_lexer": "ipython3",
   "version": "3.11.9"
  }
 },
 "nbformat": 4,
 "nbformat_minor": 5
}
