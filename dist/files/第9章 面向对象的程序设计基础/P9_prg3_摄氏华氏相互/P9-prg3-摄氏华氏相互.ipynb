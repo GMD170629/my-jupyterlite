{
 "cells": [
  {
   "cell_type": "code",
   "execution_count": 1,
   "id": "ceb30359-04a8-4a1f-a0cc-dc364bb1411a",
   "metadata": {},
   "outputs": [
    {
     "name": "stdin",
     "output_type": "stream",
     "text": [
      "请输入摄氏温度：  23\n"
     ]
    },
    {
     "name": "stdout",
     "output_type": "stream",
     "text": [
      "摄氏温度 = 23.0，华氏温度 = 73.4 \n"
     ]
    },
    {
     "name": "stdin",
     "output_type": "stream",
     "text": [
      "请输入华氏温度：  73.4\n"
     ]
    },
    {
     "name": "stdout",
     "output_type": "stream",
     "text": [
      "华氏温度 = 73.4，摄氏温度 = 23.000000000000004 \n"
     ]
    }
   ],
   "source": [
    "class Temperature:\n",
    "    def __init__(self, d):\n",
    "        self.degree = d\n",
    "    def ToFahrenheit(self):\n",
    "        return (self.degree * 9 / 5) + 32\n",
    "    def ToCelsius(self):\n",
    "        return (self.degree - 32) * 5 / 9\n",
    "d1 = float(input(\"请输入摄氏温度： \"))\n",
    "celsius = Temperature(d1)\n",
    "print(str.format(\"摄氏温度 = {0}，华氏温度 = {1} \", d1, celsius.ToFahrenheit()))\n",
    "d2 = float(input(\"请输入华氏温度： \"))\n",
    "celsius = Temperature(d2)\n",
    "print(str.format(\"华氏温度 = {0}，摄氏温度 = {1} \", d2, celsius.ToCelsius()))\n"
   ]
  },
  {
   "cell_type": "code",
   "execution_count": null,
   "id": "08a9af4a-2317-4766-9850-3e4cc320864e",
   "metadata": {},
   "outputs": [],
   "source": []
  }
 ],
 "metadata": {
  "kernelspec": {
   "display_name": "Python 3 (ipykernel)",
   "language": "python",
   "name": "python3"
  },
  "language_info": {
   "codemirror_mode": {
    "name": "ipython",
    "version": 3
   },
   "file_extension": ".py",
   "mimetype": "text/x-python",
   "name": "python",
   "nbconvert_exporter": "python",
   "pygments_lexer": "ipython3",
   "version": "3.11.9"
  }
 },
 "nbformat": 4,
 "nbformat_minor": 5
}
