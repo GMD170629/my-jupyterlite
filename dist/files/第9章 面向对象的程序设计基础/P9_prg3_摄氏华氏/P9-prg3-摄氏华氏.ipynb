{
 "cells": [
  {
   "cell_type": "code",
   "execution_count": 1,
   "id": "0b8f32f3-9045-4e75-8420-917b4c28aaec",
   "metadata": {},
   "outputs": [
    {
     "name": "stdin",
     "output_type": "stream",
     "text": [
      "请输入摄氏温度：  289\n"
     ]
    },
    {
     "name": "stdout",
     "output_type": "stream",
     "text": [
      "552.2\n"
     ]
    }
   ],
   "source": [
    "class TemperatureCelsius:\n",
    "    def __init__(self, d):\n",
    "        self.degree = d\n",
    "    def ToFahrenheit(self):\n",
    "        return (self.degree * 9 / 5) + 32\n",
    "d = float(input(\"请输入摄氏温度： \"))\n",
    "celsius = TemperatureCelsius(d)\n",
    "print(celsius.ToFahrenheit())\n"
   ]
  },
  {
   "cell_type": "code",
   "execution_count": null,
   "id": "680dec2d-e774-472d-9370-99574b49c50b",
   "metadata": {},
   "outputs": [],
   "source": []
  }
 ],
 "metadata": {
  "kernelspec": {
   "display_name": "Python 3 (ipykernel)",
   "language": "python",
   "name": "python3"
  },
  "language_info": {
   "codemirror_mode": {
    "name": "ipython",
    "version": 3
   },
   "file_extension": ".py",
   "mimetype": "text/x-python",
   "name": "python",
   "nbconvert_exporter": "python",
   "pygments_lexer": "ipython3",
   "version": "3.11.9"
  }
 },
 "nbformat": 4,
 "nbformat_minor": 5
}
